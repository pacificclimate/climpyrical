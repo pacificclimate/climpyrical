{
 "cells": [
  {
   "cell_type": "markdown",
   "metadata": {
    "papermill": {
     "duration": 0.043008,
     "end_time": "2020-12-06T22:56:53.361786",
     "exception": false,
     "start_time": "2020-12-06T22:56:53.318778",
     "status": "completed"
    },
    "tags": []
   },
   "source": [
    "# Process Stations"
   ]
  },
  {
   "cell_type": "code",
   "execution_count": 1,
   "metadata": {
    "execution": {
     "iopub.execute_input": "2020-12-06T22:56:53.453869Z",
     "iopub.status.busy": "2020-12-06T22:56:53.452064Z",
     "iopub.status.idle": "2020-12-06T22:56:54.852274Z",
     "shell.execute_reply": "2020-12-06T22:56:54.851566Z"
    },
    "papermill": {
     "duration": 1.448572,
     "end_time": "2020-12-06T22:56:54.852459",
     "exception": false,
     "start_time": "2020-12-06T22:56:53.403887",
     "status": "completed"
    },
    "tags": []
   },
   "outputs": [],
   "source": [
    "import pandas as pd\n",
    "import numpy as np\n",
    "import matplotlib.pyplot as plt\n",
    "from pkg_resources import resource_filename\n",
    "\n",
    "from climpyrical.gridding import scale_model_obs\n",
    "from climpyrical.data import read_data\n",
    "from climpyrical.cmd.find_matched_model_vals import add_model_values"
   ]
  },
  {
   "cell_type": "markdown",
   "metadata": {
    "papermill": {
     "duration": 0.012308,
     "end_time": "2020-12-06T22:56:54.879643",
     "exception": false,
     "start_time": "2020-12-06T22:56:54.867335",
     "status": "completed"
    },
    "tags": []
   },
   "source": [
    "### Load station data for processing"
   ]
  },
  {
   "cell_type": "code",
   "execution_count": 2,
   "metadata": {
    "execution": {
     "iopub.execute_input": "2020-12-06T22:56:54.904718Z",
     "iopub.status.busy": "2020-12-06T22:56:54.903648Z",
     "iopub.status.idle": "2020-12-06T22:56:54.906995Z",
     "shell.execute_reply": "2020-12-06T22:56:54.906361Z"
    },
    "papermill": {
     "duration": 0.017315,
     "end_time": "2020-12-06T22:56:54.907151",
     "exception": false,
     "start_time": "2020-12-06T22:56:54.889836",
     "status": "completed"
    },
    "tags": [
     "parameters"
    ]
   },
   "outputs": [],
   "source": [
    "# parameter cell\n",
    "# these currently have default values but are configurable when \n",
    "# executing this notebook with papermill\n",
    "\n",
    "station_dv = \"RL50 (kPa)\"\n",
    "station_input_path = resource_filename(\"climpyrical\", \"data/station_inputs/Interim_snow_rain_load_LR_composite_stations_tbd_v4.csv\")\n",
    "name = \"RL50\"\n",
    "processed_model_output_path = resource_filename(\"climpyrical\", \"data/results/intermediate/default.nc\")\n",
    "df_path_write = resource_filename('climpyrical', f'data/results/intermediate/preprocessed_stations/RL50_processed_stations.csv')"
   ]
  },
  {
   "cell_type": "code",
   "execution_count": 3,
   "metadata": {
    "execution": {
     "iopub.execute_input": "2020-12-06T22:56:54.933173Z",
     "iopub.status.busy": "2020-12-06T22:56:54.932553Z",
     "iopub.status.idle": "2020-12-06T22:56:54.935169Z",
     "shell.execute_reply": "2020-12-06T22:56:54.934549Z"
    },
    "papermill": {
     "duration": 0.018419,
     "end_time": "2020-12-06T22:56:54.935315",
     "exception": false,
     "start_time": "2020-12-06T22:56:54.916896",
     "status": "completed"
    },
    "tags": [
     "injected-parameters"
    ]
   },
   "outputs": [],
   "source": [
    "# Parameters\n",
    "station_dv = \"RL50 (kPa)\"\n",
    "station_input_path = \"/home/nannau/11202020/climpyrical/climpyrical/data/station_inputs/Interim_snow_rain_load_LR_composite_stations_tbd_v4.csv\"\n",
    "filename = \"RL50\"\n",
    "processed_model_output_path = \"/home/nannau/11202020/climpyrical/climpyrical/data/results/intermediate/preprocessed_models/RL50_preprocessed.nc\"\n",
    "df_path_write = \"/home/nannau/11202020/climpyrical/climpyrical/data/results/intermediate/preprocessed_stations/RL50_processed_stations.csv\"\n"
   ]
  },
  {
   "cell_type": "code",
   "execution_count": 4,
   "metadata": {
    "execution": {
     "iopub.execute_input": "2020-12-06T22:56:54.965961Z",
     "iopub.status.busy": "2020-12-06T22:56:54.964979Z",
     "iopub.status.idle": "2020-12-06T22:56:54.988767Z",
     "shell.execute_reply": "2020-12-06T22:56:54.987704Z"
    },
    "papermill": {
     "duration": 0.042782,
     "end_time": "2020-12-06T22:56:54.988928",
     "exception": false,
     "start_time": "2020-12-06T22:56:54.946146",
     "status": "completed"
    },
    "tags": []
   },
   "outputs": [
    {
     "data": {
      "text/html": [
       "<div>\n",
       "<style scoped>\n",
       "    .dataframe tbody tr th:only-of-type {\n",
       "        vertical-align: middle;\n",
       "    }\n",
       "\n",
       "    .dataframe tbody tr th {\n",
       "        vertical-align: top;\n",
       "    }\n",
       "\n",
       "    .dataframe thead th {\n",
       "        text-align: right;\n",
       "    }\n",
       "</style>\n",
       "<table border=\"1\" class=\"dataframe\">\n",
       "  <thead>\n",
       "    <tr style=\"text-align: right;\">\n",
       "      <th></th>\n",
       "      <th>id</th>\n",
       "      <th>station_name</th>\n",
       "      <th>province</th>\n",
       "      <th>lon</th>\n",
       "      <th>lat</th>\n",
       "      <th>elev (m)</th>\n",
       "      <th>SL50 (kPa)</th>\n",
       "      <th>RL50 (kPa)</th>\n",
       "    </tr>\n",
       "  </thead>\n",
       "  <tbody>\n",
       "    <tr>\n",
       "      <th>0</th>\n",
       "      <td>15</td>\n",
       "      <td>CHEMAINUS</td>\n",
       "      <td>BC</td>\n",
       "      <td>-123.742</td>\n",
       "      <td>48.9350</td>\n",
       "      <td>75</td>\n",
       "      <td>2.2</td>\n",
       "      <td>0.794</td>\n",
       "    </tr>\n",
       "    <tr>\n",
       "      <th>1</th>\n",
       "      <td>78</td>\n",
       "      <td>SAANICHTON CDA</td>\n",
       "      <td>BC</td>\n",
       "      <td>-123.419</td>\n",
       "      <td>48.6217</td>\n",
       "      <td>61</td>\n",
       "      <td>1.4</td>\n",
       "      <td>0.594</td>\n",
       "    </tr>\n",
       "    <tr>\n",
       "      <th>2</th>\n",
       "      <td>91</td>\n",
       "      <td>SHAWNIGAN LAKE</td>\n",
       "      <td>BC</td>\n",
       "      <td>-123.626</td>\n",
       "      <td>48.6469</td>\n",
       "      <td>159</td>\n",
       "      <td>2.4</td>\n",
       "      <td>0.818</td>\n",
       "    </tr>\n",
       "    <tr>\n",
       "      <th>3</th>\n",
       "      <td>109</td>\n",
       "      <td>VICTORIA GONZALES HTS</td>\n",
       "      <td>BC</td>\n",
       "      <td>-123.325</td>\n",
       "      <td>48.4131</td>\n",
       "      <td>70</td>\n",
       "      <td>1.3</td>\n",
       "      <td>0.387</td>\n",
       "    </tr>\n",
       "    <tr>\n",
       "      <th>4</th>\n",
       "      <td>149</td>\n",
       "      <td>ALERT BAY</td>\n",
       "      <td>BC</td>\n",
       "      <td>-126.933</td>\n",
       "      <td>50.5833</td>\n",
       "      <td>59</td>\n",
       "      <td>1.6</td>\n",
       "      <td>0.587</td>\n",
       "    </tr>\n",
       "  </tbody>\n",
       "</table>\n",
       "</div>"
      ],
      "text/plain": [
       "    id           station_name province      lon      lat  elev (m)  \\\n",
       "0   15              CHEMAINUS       BC -123.742  48.9350        75   \n",
       "1   78         SAANICHTON CDA       BC -123.419  48.6217        61   \n",
       "2   91         SHAWNIGAN LAKE       BC -123.626  48.6469       159   \n",
       "3  109  VICTORIA GONZALES HTS       BC -123.325  48.4131        70   \n",
       "4  149              ALERT BAY       BC -126.933  50.5833        59   \n",
       "\n",
       "   SL50 (kPa)  RL50 (kPa)  \n",
       "0         2.2       0.794  \n",
       "1         1.4       0.594  \n",
       "2         2.4       0.818  \n",
       "3         1.3       0.387  \n",
       "4         1.6       0.587  "
      ]
     },
     "execution_count": 4,
     "metadata": {},
     "output_type": "execute_result"
    }
   ],
   "source": [
    "df = pd.read_csv(station_input_path, index_col=None)\n",
    "\n",
    "def check_df_columns(df):\n",
    "    if 'longitude' in df.columns:\n",
    "        df=df.rename(columns={'longitude': 'lon'})\n",
    "    if 'long' in df.columns:\n",
    "        df=df.rename(columns={'long': 'lon'})\n",
    "    if 'latitude' in df.columns:\n",
    "        df=df.rename(columns={'latitude': 'lat'})\n",
    "    if 'name' in df.columns:\n",
    "        df=df.rename(columns={'name': 'station_name'})\n",
    "    if 'Name' in df.columns:\n",
    "        df=df.rename(columns={'Name': 'station_name'})\n",
    "    return df\n",
    "\n",
    "df = check_df_columns(df)\n",
    "df.head(5)"
   ]
  },
  {
   "cell_type": "code",
   "execution_count": 5,
   "metadata": {
    "execution": {
     "iopub.execute_input": "2020-12-06T22:56:55.022363Z",
     "iopub.status.busy": "2020-12-06T22:56:55.021593Z",
     "iopub.status.idle": "2020-12-06T22:56:55.027214Z",
     "shell.execute_reply": "2020-12-06T22:56:55.026597Z"
    },
    "papermill": {
     "duration": 0.024414,
     "end_time": "2020-12-06T22:56:55.027358",
     "exception": false,
     "start_time": "2020-12-06T22:56:55.002944",
     "status": "completed"
    },
    "tags": []
   },
   "outputs": [
    {
     "name": "stdout",
     "output_type": "stream",
     "text": [
      "Not a temperature field. No unit conversion.\n"
     ]
    }
   ],
   "source": [
    "# transform into rotated pole and assign as new columns\n",
    "\n",
    "# Create array of mean\n",
    "if 'degC' in station_dv and not 'degC-day' in station_dv:\n",
    "    print(\"Temperature DV detected in degC. Converitng to Kelvin\")\n",
    "    K = 273.15 # K\n",
    "    df[station_dv] += K\n",
    "else:\n",
    "    print(\"Not a temperature field. No unit conversion.\")\n",
    "    df[station_dv] = df[station_dv].values\n",
    "\n",
    "if 'RL50 (kPa)' in station_dv:\n",
    "    df = df[df[station_dv] != 0.0]"
   ]
  },
  {
   "cell_type": "markdown",
   "metadata": {
    "papermill": {
     "duration": 0.011665,
     "end_time": "2020-12-06T22:56:55.049729",
     "exception": false,
     "start_time": "2020-12-06T22:56:55.038064",
     "status": "completed"
    },
    "tags": []
   },
   "source": [
    "### Open the pre-processed model from the previous step"
   ]
  },
  {
   "cell_type": "code",
   "execution_count": 6,
   "metadata": {
    "execution": {
     "iopub.execute_input": "2020-12-06T22:56:55.074507Z",
     "iopub.status.busy": "2020-12-06T22:56:55.073931Z",
     "iopub.status.idle": "2020-12-06T22:56:57.257680Z",
     "shell.execute_reply": "2020-12-06T22:56:57.257077Z"
    },
    "papermill": {
     "duration": 2.198002,
     "end_time": "2020-12-06T22:56:57.257825",
     "exception": false,
     "start_time": "2020-12-06T22:56:55.059823",
     "status": "completed"
    },
    "tags": []
   },
   "outputs": [
    {
     "name": "stderr",
     "output_type": "stream",
     "text": [
      "INFO:root:Detect units: kPas\n"
     ]
    },
    {
     "name": "stderr",
     "output_type": "stream",
     "text": [
      "INFO:root:rlat or rlon not detected in input file.converting assumes WGS84 coords to rotated pole\n"
     ]
    },
    {
     "name": "stdout",
     "output_type": "stream",
     "text": [
      "/home/nannau/11202020/climpyrical/climpyrical/data/results/intermediate/preprocessed_models/RL50_preprocessed.nc\n"
     ]
    },
    {
     "name": "stderr",
     "output_type": "stream",
     "text": [
      "INFO:root:Matching coordinates now\n"
     ]
    },
    {
     "name": "stderr",
     "output_type": "stream",
     "text": [
      "INFO:root:Locating corresponding model valuesInterpolating to nearest if matched model value is NaN\n"
     ]
    },
    {
     "data": {
      "text/html": [
       "<div>\n",
       "<style scoped>\n",
       "    .dataframe tbody tr th:only-of-type {\n",
       "        vertical-align: middle;\n",
       "    }\n",
       "\n",
       "    .dataframe tbody tr th {\n",
       "        vertical-align: top;\n",
       "    }\n",
       "\n",
       "    .dataframe thead th {\n",
       "        text-align: right;\n",
       "    }\n",
       "</style>\n",
       "<table border=\"1\" class=\"dataframe\">\n",
       "  <thead>\n",
       "    <tr style=\"text-align: right;\">\n",
       "      <th></th>\n",
       "      <th>id</th>\n",
       "      <th>station_name</th>\n",
       "      <th>province</th>\n",
       "      <th>lon</th>\n",
       "      <th>lat</th>\n",
       "      <th>elev (m)</th>\n",
       "      <th>SL50 (kPa)</th>\n",
       "      <th>RL50 (kPa)</th>\n",
       "      <th>rlat</th>\n",
       "      <th>rlon</th>\n",
       "      <th>irlat</th>\n",
       "      <th>irlon</th>\n",
       "      <th>model_values</th>\n",
       "    </tr>\n",
       "  </thead>\n",
       "  <tbody>\n",
       "    <tr>\n",
       "      <th>0</th>\n",
       "      <td>15</td>\n",
       "      <td>CHEMAINUS</td>\n",
       "      <td>BC</td>\n",
       "      <td>-123.742</td>\n",
       "      <td>48.9350</td>\n",
       "      <td>75</td>\n",
       "      <td>2.2</td>\n",
       "      <td>0.794</td>\n",
       "      <td>4.407283</td>\n",
       "      <td>-17.245771</td>\n",
       "      <td>754</td>\n",
       "      <td>385</td>\n",
       "      <td>0.487415</td>\n",
       "    </tr>\n",
       "    <tr>\n",
       "      <th>1</th>\n",
       "      <td>78</td>\n",
       "      <td>SAANICHTON CDA</td>\n",
       "      <td>BC</td>\n",
       "      <td>-123.419</td>\n",
       "      <td>48.6217</td>\n",
       "      <td>61</td>\n",
       "      <td>1.4</td>\n",
       "      <td>0.594</td>\n",
       "      <td>4.041212</td>\n",
       "      <td>-17.148280</td>\n",
       "      <td>746</td>\n",
       "      <td>387</td>\n",
       "      <td>0.348818</td>\n",
       "    </tr>\n",
       "    <tr>\n",
       "      <th>2</th>\n",
       "      <td>91</td>\n",
       "      <td>SHAWNIGAN LAKE</td>\n",
       "      <td>BC</td>\n",
       "      <td>-123.626</td>\n",
       "      <td>48.6469</td>\n",
       "      <td>159</td>\n",
       "      <td>2.4</td>\n",
       "      <td>0.818</td>\n",
       "      <td>4.110152</td>\n",
       "      <td>-17.269400</td>\n",
       "      <td>747</td>\n",
       "      <td>384</td>\n",
       "      <td>0.490485</td>\n",
       "    </tr>\n",
       "    <tr>\n",
       "      <th>3</th>\n",
       "      <td>109</td>\n",
       "      <td>VICTORIA GONZALES HTS</td>\n",
       "      <td>BC</td>\n",
       "      <td>-123.325</td>\n",
       "      <td>48.4131</td>\n",
       "      <td>70</td>\n",
       "      <td>1.3</td>\n",
       "      <td>0.387</td>\n",
       "      <td>3.823732</td>\n",
       "      <td>-17.157965</td>\n",
       "      <td>741</td>\n",
       "      <td>387</td>\n",
       "      <td>0.330530</td>\n",
       "    </tr>\n",
       "    <tr>\n",
       "      <th>4</th>\n",
       "      <td>149</td>\n",
       "      <td>ALERT BAY</td>\n",
       "      <td>BC</td>\n",
       "      <td>-126.933</td>\n",
       "      <td>50.5833</td>\n",
       "      <td>59</td>\n",
       "      <td>1.6</td>\n",
       "      <td>0.587</td>\n",
       "      <td>6.674747</td>\n",
       "      <td>-18.602266</td>\n",
       "      <td>805</td>\n",
       "      <td>354</td>\n",
       "      <td>0.567683</td>\n",
       "    </tr>\n",
       "  </tbody>\n",
       "</table>\n",
       "</div>"
      ],
      "text/plain": [
       "    id           station_name province      lon      lat  elev (m)  \\\n",
       "0   15              CHEMAINUS       BC -123.742  48.9350        75   \n",
       "1   78         SAANICHTON CDA       BC -123.419  48.6217        61   \n",
       "2   91         SHAWNIGAN LAKE       BC -123.626  48.6469       159   \n",
       "3  109  VICTORIA GONZALES HTS       BC -123.325  48.4131        70   \n",
       "4  149              ALERT BAY       BC -126.933  50.5833        59   \n",
       "\n",
       "   SL50 (kPa)  RL50 (kPa)      rlat       rlon  irlat  irlon  model_values  \n",
       "0         2.2       0.794  4.407283 -17.245771    754    385      0.487415  \n",
       "1         1.4       0.594  4.041212 -17.148280    746    387      0.348818  \n",
       "2         2.4       0.818  4.110152 -17.269400    747    384      0.490485  \n",
       "3         1.3       0.387  3.823732 -17.157965    741    387      0.330530  \n",
       "4         1.6       0.587  6.674747 -18.602266    805    354      0.567683  "
      ]
     },
     "execution_count": 6,
     "metadata": {},
     "output_type": "execute_result"
    }
   ],
   "source": [
    "pre_processed_path = resource_filename(\n",
    "    \"climpyrical\",\n",
    "    f\"/data/results/intermediate/preprocessed_models/{name}_preprocessed.nc\"\n",
    ")\n",
    "print(pre_processed_path)\n",
    "ds = read_data(pre_processed_path)\n",
    "(dv, ) = ds.data_vars\n",
    "df = add_model_values(pre_processed_path, df=df)\n",
    "df.head(5)"
   ]
  },
  {
   "cell_type": "markdown",
   "metadata": {
    "papermill": {
     "duration": 0.011813,
     "end_time": "2020-12-06T22:56:57.283725",
     "exception": false,
     "start_time": "2020-12-06T22:56:57.271912",
     "status": "completed"
    },
    "tags": []
   },
   "source": [
    "### Group stations that land in the same index in rlat and rlon\n",
    "This means that they are in the same grid cell and need to be aggregated"
   ]
  },
  {
   "cell_type": "code",
   "execution_count": 7,
   "metadata": {
    "execution": {
     "iopub.execute_input": "2020-12-06T22:56:57.312988Z",
     "iopub.status.busy": "2020-12-06T22:56:57.312455Z",
     "iopub.status.idle": "2020-12-06T22:56:57.319916Z",
     "shell.execute_reply": "2020-12-06T22:56:57.319313Z"
    },
    "papermill": {
     "duration": 0.023556,
     "end_time": "2020-12-06T22:56:57.320081",
     "exception": false,
     "start_time": "2020-12-06T22:56:57.296525",
     "status": "completed"
    },
    "tags": []
   },
   "outputs": [],
   "source": [
    "df_match = df.groupby(['irlat', 'irlon'], as_index=False).mean()\n",
    "\n",
    "\n",
    "irlat = df_match.irlat\n",
    "irlon = df_match.irlon"
   ]
  },
  {
   "cell_type": "markdown",
   "metadata": {
    "papermill": {
     "duration": 0.012582,
     "end_time": "2020-12-06T22:56:57.345070",
     "exception": false,
     "start_time": "2020-12-06T22:56:57.332488",
     "status": "completed"
    },
    "tags": []
   },
   "source": [
    "Identify locations where the closest grid cell falls on a invalid model value"
   ]
  },
  {
   "cell_type": "code",
   "execution_count": 8,
   "metadata": {
    "execution": {
     "iopub.execute_input": "2020-12-06T22:56:57.392557Z",
     "iopub.status.busy": "2020-12-06T22:56:57.391919Z",
     "iopub.status.idle": "2020-12-06T22:56:57.578705Z",
     "shell.execute_reply": "2020-12-06T22:56:57.579207Z"
    },
    "papermill": {
     "duration": 0.221919,
     "end_time": "2020-12-06T22:56:57.579382",
     "exception": false,
     "start_time": "2020-12-06T22:56:57.357463",
     "status": "completed"
    },
    "tags": []
   },
   "outputs": [
    {
     "data": {
      "text/plain": [
       "Text(0, 0.5, 'Model')"
      ]
     },
     "execution_count": 8,
     "metadata": {},
     "output_type": "execute_result"
    },
    {
     "data": {
      "image/png": "[encoded data removed]",
      "text/plain": [
       "<Figure size 432x288 with 1 Axes>"
      ]
     },
     "metadata": {
      "needs_background": "light"
     },
     "output_type": "display_data"
    }
   ],
   "source": [
    "plt.scatter(df_match[station_dv], df_match.model_values)\n",
    "plt.title(\"Correlation between station and models\")\n",
    "plt.xlabel('Stations')\n",
    "plt.ylabel('Model')"
   ]
  },
  {
   "cell_type": "markdown",
   "metadata": {
    "papermill": {
     "duration": 0.01467,
     "end_time": "2020-12-06T22:56:57.610020",
     "exception": false,
     "start_time": "2020-12-06T22:56:57.595350",
     "status": "completed"
    },
    "tags": []
   },
   "source": [
    "Now each station should be matched with a value grid cell value"
   ]
  },
  {
   "cell_type": "markdown",
   "metadata": {
    "papermill": {
     "duration": 0.013967,
     "end_time": "2020-12-06T22:56:57.637528",
     "exception": false,
     "start_time": "2020-12-06T22:56:57.623561",
     "status": "completed"
    },
    "tags": []
   },
   "source": [
    "### Normalize the model mean to match that of the station distribution\n",
    "Find a factor, $\\beta$ such that\n",
    "$$\\mu_s - \\frac{\\mu_m}{\\beta} \\approx 0$$ where $\\mu_s$ is the spatial station mean and $\\mu_m$ is the spatial model mean. "
   ]
  },
  {
   "cell_type": "code",
   "execution_count": 9,
   "metadata": {
    "execution": {
     "iopub.execute_input": "2020-12-06T22:56:57.677716Z",
     "iopub.status.busy": "2020-12-06T22:56:57.668706Z",
     "iopub.status.idle": "2020-12-06T22:57:00.394814Z",
     "shell.execute_reply": "2020-12-06T22:57:00.394412Z"
    },
    "papermill": {
     "duration": 2.744553,
     "end_time": "2020-12-06T22:57:00.394930",
     "exception": false,
     "start_time": "2020-12-06T22:56:57.650377",
     "status": "completed"
    },
    "tags": []
   },
   "outputs": [
    {
     "name": "stdout",
     "output_type": "stream",
     "text": [
      "Scaling factor: 0.8387427753361661\n"
     ]
    }
   ],
   "source": [
    "# calculate ratios with applied correction\n",
    "ratio, best_tol = scale_model_obs(df_match.model_values, df_match[station_dv])\n",
    "assert not np.any(np.isnan(ratio))\n",
    "df_match = df_match.assign(ratio=ratio)\n",
    "print(\"Scaling factor:\", best_tol)"
   ]
  },
  {
   "cell_type": "code",
   "execution_count": 10,
   "metadata": {
    "execution": {
     "iopub.execute_input": "2020-12-06T22:57:00.438976Z",
     "iopub.status.busy": "2020-12-06T22:57:00.438245Z",
     "iopub.status.idle": "2020-12-06T22:57:00.441058Z",
     "shell.execute_reply": "2020-12-06T22:57:00.441592Z"
    },
    "papermill": {
     "duration": 0.033221,
     "end_time": "2020-12-06T22:57:00.441746",
     "exception": false,
     "start_time": "2020-12-06T22:57:00.408525",
     "status": "completed"
    },
    "tags": []
   },
   "outputs": [
    {
     "data": {
      "text/html": [
       "<div>\n",
       "<style scoped>\n",
       "    .dataframe tbody tr th:only-of-type {\n",
       "        vertical-align: middle;\n",
       "    }\n",
       "\n",
       "    .dataframe tbody tr th {\n",
       "        vertical-align: top;\n",
       "    }\n",
       "\n",
       "    .dataframe thead th {\n",
       "        text-align: right;\n",
       "    }\n",
       "</style>\n",
       "<table border=\"1\" class=\"dataframe\">\n",
       "  <thead>\n",
       "    <tr style=\"text-align: right;\">\n",
       "      <th></th>\n",
       "      <th>irlat</th>\n",
       "      <th>irlon</th>\n",
       "      <th>id</th>\n",
       "      <th>lon</th>\n",
       "      <th>lat</th>\n",
       "      <th>elev (m)</th>\n",
       "      <th>SL50 (kPa)</th>\n",
       "      <th>RL50 (kPa)</th>\n",
       "      <th>rlat</th>\n",
       "      <th>rlon</th>\n",
       "      <th>model_values</th>\n",
       "      <th>ratio</th>\n",
       "    </tr>\n",
       "  </thead>\n",
       "  <tbody>\n",
       "    <tr>\n",
       "      <th>0</th>\n",
       "      <td>558</td>\n",
       "      <td>1009</td>\n",
       "      <td>6038.0</td>\n",
       "      <td>-82.9556</td>\n",
       "      <td>42.2756</td>\n",
       "      <td>190.0</td>\n",
       "      <td>1.0</td>\n",
       "      <td>0.402</td>\n",
       "      <td>-4.286849</td>\n",
       "      <td>10.373390</td>\n",
       "      <td>0.285755</td>\n",
       "      <td>1.179944</td>\n",
       "    </tr>\n",
       "    <tr>\n",
       "      <th>1</th>\n",
       "      <td>559</td>\n",
       "      <td>1009</td>\n",
       "      <td>6037.0</td>\n",
       "      <td>-82.9333</td>\n",
       "      <td>42.3333</td>\n",
       "      <td>188.0</td>\n",
       "      <td>1.2</td>\n",
       "      <td>0.484</td>\n",
       "      <td>-4.227125</td>\n",
       "      <td>10.379271</td>\n",
       "      <td>0.286351</td>\n",
       "      <td>1.417673</td>\n",
       "    </tr>\n",
       "    <tr>\n",
       "      <th>2</th>\n",
       "      <td>576</td>\n",
       "      <td>1017</td>\n",
       "      <td>5880.0</td>\n",
       "      <td>-82.3047</td>\n",
       "      <td>42.9922</td>\n",
       "      <td>181.0</td>\n",
       "      <td>1.5</td>\n",
       "      <td>0.389</td>\n",
       "      <td>-3.494586</td>\n",
       "      <td>10.713492</td>\n",
       "      <td>0.286172</td>\n",
       "      <td>1.140122</td>\n",
       "    </tr>\n",
       "  </tbody>\n",
       "</table>\n",
       "</div>"
      ],
      "text/plain": [
       "   irlat  irlon      id      lon      lat  elev (m)  SL50 (kPa)  RL50 (kPa)  \\\n",
       "0    558   1009  6038.0 -82.9556  42.2756     190.0         1.0       0.402   \n",
       "1    559   1009  6037.0 -82.9333  42.3333     188.0         1.2       0.484   \n",
       "2    576   1017  5880.0 -82.3047  42.9922     181.0         1.5       0.389   \n",
       "\n",
       "       rlat       rlon  model_values     ratio  \n",
       "0 -4.286849  10.373390      0.285755  1.179944  \n",
       "1 -4.227125  10.379271      0.286351  1.417673  \n",
       "2 -3.494586  10.713492      0.286172  1.140122  "
      ]
     },
     "execution_count": 10,
     "metadata": {},
     "output_type": "execute_result"
    }
   ],
   "source": [
    "df_match.head(3)"
   ]
  },
  {
   "cell_type": "code",
   "execution_count": 11,
   "metadata": {
    "execution": {
     "iopub.execute_input": "2020-12-06T22:57:00.489947Z",
     "iopub.status.busy": "2020-12-06T22:57:00.488081Z",
     "iopub.status.idle": "2020-12-06T22:57:00.509813Z",
     "shell.execute_reply": "2020-12-06T22:57:00.511646Z"
    },
    "papermill": {
     "duration": 0.054427,
     "end_time": "2020-12-06T22:57:00.512275",
     "exception": false,
     "start_time": "2020-12-06T22:57:00.457848",
     "status": "completed"
    },
    "tags": []
   },
   "outputs": [],
   "source": [
    "df_match.to_csv(df_path_write, index=False)"
   ]
  },
  {
   "cell_type": "code",
   "execution_count": 12,
   "metadata": {
    "execution": {
     "iopub.execute_input": "2020-12-06T22:57:00.621319Z",
     "iopub.status.busy": "2020-12-06T22:57:00.620263Z",
     "iopub.status.idle": "2020-12-06T22:57:00.624998Z",
     "shell.execute_reply": "2020-12-06T22:57:00.623728Z"
    },
    "papermill": {
     "duration": 0.062608,
     "end_time": "2020-12-06T22:57:00.625267",
     "exception": false,
     "start_time": "2020-12-06T22:57:00.562659",
     "status": "completed"
    },
    "tags": []
   },
   "outputs": [],
   "source": [
    "assert np.all(df_match['ratio'] >= 0)"
   ]
  },
  {
   "cell_type": "code",
   "execution_count": null,
   "metadata": {
    "papermill": {
     "duration": 0.016751,
     "end_time": "2020-12-06T22:57:00.668132",
     "exception": false,
     "start_time": "2020-12-06T22:57:00.651381",
     "status": "completed"
    },
    "tags": []
   },
   "outputs": [],
   "source": []
  }
 ],
 "metadata": {
  "kernelspec": {
   "display_name": "Python 3",
   "language": "python",
   "name": "python3"
  },
  "language_info": {
   "codemirror_mode": {
    "name": "ipython",
    "version": 3
   },
   "file_extension": ".py",
   "mimetype": "text/x-python",
   "name": "python",
   "nbconvert_exporter": "python",
   "pygments_lexer": "ipython3",
   "version": "3.8.5"
  },
  "papermill": {
   "default_parameters": {},
   "duration": 8.748995,
   "end_time": "2020-12-06T22:57:01.300984",
   "environment_variables": {},
   "exception": null,
   "input_path": "stations.ipynb",
   "output_path": "/home/nannau/11202020/climpyrical/climpyrical/data/results/intermediate/notebooks/station_log_RL50.ipynb",
   "parameters": {
    "df_path_write": "/home/nannau/11202020/climpyrical/climpyrical/data/results/intermediate/preprocessed_stations/RL50_processed_stations.csv",
    "filename": "RL50",
    "processed_model_output_path": "/home/nannau/11202020/climpyrical/climpyrical/data/results/intermediate/preprocessed_models/RL50_preprocessed.nc",
    "station_dv": "RL50 (kPa)",
    "station_input_path": "/home/nannau/11202020/climpyrical/climpyrical/data/station_inputs/Interim_snow_rain_load_LR_composite_stations_tbd_v4.csv"
   },
   "start_time": "2020-12-06T22:56:52.551989",
   "version": "2.2.2"
  }
 },
 "nbformat": 4,
 "nbformat_minor": 4
}