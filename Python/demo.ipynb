{
 "cells": [
  {
   "cell_type": "code",
   "execution_count": 146,
   "metadata": {},
   "outputs": [],
   "source": [
    "# Standard lib\n",
    "import sys\n",
    "import glob\n",
    "                \n",
    "import numpy as np\n",
    "from numpy import ma\n",
    "import matplotlib.pyplot as plt\n",
    "\n",
    "\n",
    "from matplotlib.ticker import ScalarFormatter\n",
    "import geopandas as gpd\n",
    "from shapely.geometry import Point\n",
    "\n",
    "import seaborn as sns\n",
    "# Adjust plot font sizes\n",
    "sns.set(font_scale=1.5)\n",
    "sns.set_style(\"white\")\n",
    "\n",
    "import cartopy.crs as ccrs\n",
    "import cartopy.feature\n",
    "import pandas as pd\n",
    "\n",
    "from sklearn import preprocessing\n",
    "from sklearn.decomposition import pca\n",
    "\n",
    "from mpl_toolkits.basemap import Basemap as bm\n",
    "\n",
    "import netCDF4 as nc"
   ]
  },
  {
   "cell_type": "code",
   "execution_count": 51,
   "metadata": {},
   "outputs": [],
   "source": [
    "# Set path to RCM data\n",
    "PATH = './data/pr_24hr_50yrs/'\n",
    "PATH_SUP = './support/'"
   ]
  },
  {
   "cell_type": "code",
   "execution_count": 52,
   "metadata": {},
   "outputs": [],
   "source": [
    "# Create a list of all files in PATH\n",
    "nc_list = np.asarray(glob.glob(PATH+\"*\"))"
   ]
  },
  {
   "cell_type": "code",
   "execution_count": null,
   "metadata": {},
   "outputs": [],
   "source": []
  },
  {
   "cell_type": "code",
   "execution_count": 53,
   "metadata": {},
   "outputs": [],
   "source": [
    "# Create a list of Dataset objects using netCDF4\n",
    "dataset_list = np.asarray([nc.Dataset(path) for path in nc_list])"
   ]
  },
  {
   "cell_type": "code",
   "execution_count": 54,
   "metadata": {},
   "outputs": [
    {
     "data": {
      "text/plain": [
       "((35,), (35,))"
      ]
     },
     "execution_count": 54,
     "metadata": {},
     "output_type": "execute_result"
    }
   ],
   "source": [
    "dataset_list.shape, nc_list.shape"
   ]
  },
  {
   "cell_type": "code",
   "execution_count": 55,
   "metadata": {},
   "outputs": [],
   "source": [
    "# Choose one random instance\n",
    "# -------------------------- #\n",
    "indx = np.random.randint(0, dataset_list.shape[0])\n",
    "inst = dataset_list[indx]"
   ]
  },
  {
   "cell_type": "code",
   "execution_count": 56,
   "metadata": {},
   "outputs": [
    {
     "data": {
      "text/plain": [
       "<class 'netCDF4._netCDF4.Variable'>\n",
       "float64 pr(rlat, rlon)\n",
       "    units: mm h-1\n",
       "    _FillValue: nan\n",
       "    long_name: 50-year 24-hour precipitation flux\n",
       "unlimited dimensions: \n",
       "current shape = (124, 149)\n",
       "filling on"
      ]
     },
     "execution_count": 56,
     "metadata": {},
     "output_type": "execute_result"
    }
   ],
   "source": [
    "inst['pr']"
   ]
  },
  {
   "cell_type": "code",
   "execution_count": 57,
   "metadata": {},
   "outputs": [
    {
     "data": {
      "text/plain": [
       "<class 'netCDF4._netCDF4.Variable'>\n",
       "float64 lat(rlat, rlon)\n",
       "    units: degrees_north\n",
       "    _FillValue: nan\n",
       "    long_name: latitude\n",
       "unlimited dimensions: \n",
       "current shape = (124, 149)\n",
       "filling on"
      ]
     },
     "execution_count": 57,
     "metadata": {},
     "output_type": "execute_result"
    }
   ],
   "source": [
    "inst['lat']"
   ]
  },
  {
   "cell_type": "code",
   "execution_count": 58,
   "metadata": {},
   "outputs": [
    {
     "name": "stdout",
     "output_type": "stream",
     "text": [
      "rlat (124,) rlon (149,)\n"
     ]
    }
   ],
   "source": [
    "rlat = inst.variables['rlat'][:]\n",
    "rlon = inst.variables['rlon'][:]\n",
    "print('rlat', rlat.shape, 'rlon', rlon.shape)"
   ]
  },
  {
   "cell_type": "code",
   "execution_count": 59,
   "metadata": {},
   "outputs": [
    {
     "name": "stderr",
     "output_type": "stream",
     "text": [
      "/opt/conda/lib/python3.6/site-packages/IPython/core/interactiveshell.py:3267: FutureWarning: \n",
      "Panel is deprecated and will be removed in a future version.\n",
      "The recommended way to represent these types of 3-dimensional data are with a MultiIndex on a DataFrame, via the Panel.to_frame() method\n",
      "Alternatively, you can use the xarray package http://xarray.pydata.org/en/stable/.\n",
      "Pandas provides a `.to_xarray()` method to help automate this conversion.\n",
      "\n",
      "  exec(code_obj, self.user_global_ns, self.user_ns)\n"
     ]
    }
   ],
   "source": [
    "# Create list of parameters in dataset list\n",
    "lat = [full.variables['lat'][:, :] for full in dataset_list]\n",
    "lon = [full.variables['lon'][:, :] for full in dataset_list]\n",
    "pr = [full.variables['pr'][:, :] for full in dataset_list]\n",
    "\n",
    "# Construct 3D pandas dataframe with each data\n",
    "# file as a layer in the 3rd dimension\n",
    "pr={}\n",
    "for full in dataset_list:\n",
    "    pr[full] = full.variables['pr'][:, :]\n",
    "\n",
    "df_pr = pd.Panel(pr)\n",
    "\n",
    "# Create tuple of 3d df and rotated lat/lon\n",
    "CanRCM4 = {'df_pr': df_pr, \n",
    "           'rlat': rlat, \n",
    "           'rlon': rlon\n",
    "          }"
   ]
  },
  {
   "cell_type": "code",
   "execution_count": 60,
   "metadata": {},
   "outputs": [
    {
     "name": "stdout",
     "output_type": "stream",
     "text": [
      "[2.62967844 2.34698278 2.55407072 ... 1.59810338 1.66034745 1.49151918]\n"
     ]
    }
   ],
   "source": [
    "dfx = CanRCM4['df_pr'][dataset_list[1]].T\n",
    "\n",
    "prx = {'pr': dfx.values.flatten(),\n",
    "       'rlon': np.tile(CanRCM4['rlon'], len(rlat)),\n",
    "       'rlat': np.tile(CanRCM4['rlat'], len(rlon))\n",
    "      }\n",
    "\n",
    "idx = np.argwhere(~np.isnan(prx['pr']))[:,0]\n",
    "\n",
    "print(prx['pr'][idx])\n",
    "\n",
    "prx_maskd = {'pr': prx['pr'][idx],\n",
    "            'rlon': prx['rlon'][idx],\n",
    "            'rlat': prx['rlat'][idx]\n",
    "            }"
   ]
  },
  {
   "cell_type": "code",
   "execution_count": 61,
   "metadata": {},
   "outputs": [],
   "source": [
    "df_prx = pd.DataFrame.from_dict(prx_maskd).sample(frac=0.02)"
   ]
  },
  {
   "cell_type": "code",
   "execution_count": 62,
   "metadata": {},
   "outputs": [
    {
     "data": {
      "image/png": "[encoded data removed]",
      "text/plain": [
       "<Figure size 576x576 with 1 Axes>"
      ]
     },
     "metadata": {},
     "output_type": "display_data"
    }
   ],
   "source": [
    "from cartopy import crs\n",
    "import matplotlib.pyplot as plt\n",
    "\n",
    "cart = crs.RotatedPole(pole_longitude=180.0, \n",
    "                       pole_latitude=42.5,\n",
    "                       central_rotated_longitude=-97.0, \n",
    "                       globe = crs.Globe(semimajor_axis=6370000,\n",
    "                                semiminor_axis=6370000))\n",
    "\n",
    "fig = plt.figure(figsize=(8,8))\n",
    "ax = plt.axes([0.1,0.1,0.8,0.8], projection=cart)\n",
    "ax.set_extent([-139.08585, 22.661009, -10.590603, 46.591976], crs.Geodetic())\n",
    "plt.show()"
   ]
  },
  {
   "cell_type": "code",
   "execution_count": 159,
   "metadata": {},
   "outputs": [],
   "source": [
    "class MapXtremePCIC:\n",
    "    \"\"\" \n",
    "    MapXtremePCIC maps design values over North America\n",
    "    ====================================================\n",
    "    Arguments\n",
    "     CanRCM4.lens : information data list for CanRCM4 modelled design values over North America\n",
    "     obs : data array of observed design values over North America, [lon, lat, data] three columns \n",
    "     res : resolution (in km) of the map\n",
    "     method : whether EOF or SOM-based method is employed for mapping\n",
    "     \n",
    "    Value\n",
    "     rlon : vector of longitude coordinates of the map\n",
    "     rlat : vector of latitude coordinates of the map\n",
    "     xtreme : data array of the mapped design values\n",
    "     sp.basis : data array of the spatial basis functions estimated from CanRCM4 modelled data\n",
    "     obs.grid : data array of the gridded observations \n",
    "    \n",
    "    Note: the coordinate system is in polar rotated projection for all involved arrays. The projection\n",
    "     is \"+proj=ob_tran +o_proj=longlat +lon_0=-97 +o_lat_p=42.5 +a=1 +to_meter=0.0174532925199 +no_defs\"\n",
    "     \n",
    "    Author : Nic Annau at PCIC, University of Victoria, nannau@uvic.ca\n",
    "    \"\"\"\n",
    "\n",
    "    def __init__(self, CanRCM4, obs, res, method):\n",
    "        \n",
    "        self.CanRCM4 = CanRCM4\n",
    "        self.obs = obs\n",
    "        self.res = res\n",
    "        self.method = method\n",
    "        \n",
    "        if (type(method) != type('string')):\n",
    "            raise ValueError('Method argument requires {} got {}'.format(type('string'), type(method)))\n",
    "        if (method != 'eof' and method != 'som'):\n",
    "            raise Exception('MapXtremePCIC requires specified \\'som\\' or \\'eof\\'. Got {}'.format(method))\n",
    "        \n",
    "        if (obs.shape[0] < 100):\n",
    "            raise Exception('Observed design values sample size of {} is too small (<100).'.format(obs.shape[0]))\n",
    "\n",
    "        \n",
    "        # Set default res if not specified\n",
    "        if (res == None):\n",
    "            print(\"Res not specified. Setting default res = 50.\")\n",
    "            self.res = 50\n",
    "        \n",
    "        # Check map resolution    \n",
    "        if (type(res) != type(1)):\n",
    "            raise ValueError('Mapping resolution requires {}, got {}'.format(type(1), type(res)))\n",
    "        \n",
    "        # Finds closest value to res in array\n",
    "        resLibrary = [50, 25, 10, 5, 1]\n",
    "        resLib = resLibrary[np.argmin(np.abs(np.subtract(res, res_library)))]\n",
    "        resFactor = resLib/res\n",
    "\n",
    "        #method <- match.arg(method)\n",
    "\n",
    "        # organize (35) maps to (35) vectors\n",
    "        xtreme = np.asarray(CanRCM4['df_pr'])\n",
    "        rlon = CanRCM4['rlon']\n",
    "        rlat = CanRCM4['rlat']\n",
    "\n",
    "        # Get dimensions of input\n",
    "        xtreme_dim = xtreme.shape\n",
    "        nrlon = rlon.shape[0]\n",
    "        nrlat = rlat.shape[0]\n",
    "        nrun = xtreme.shape[0] # Number of files\n",
    "                \n",
    "        # initialize empty array\n",
    "        xtremeMatrix = np.zeros((nrun, nrlon*nrlat))\n",
    "        \n",
    "        # Sklearn prep\n",
    "        lons, lats = np.meshgrid(rlon, rlat)\n",
    "        \n",
    "        # Reshape 3D array into 2D combined array, i.e. 35 x 18476.\n",
    "        # Each value in array is pr\n",
    "        X = np.reshape(xtreme, (xtreme.shape[0], nrlat * nrlon), order='F')\n",
    "\n",
    "        # Wherever there is NaN in array, that is a non-land value. \n",
    "        # Create masked array\n",
    "        X = ma.masked_array(X, np.isnan(X))\n",
    "\n",
    "        # Mask the ocean points\n",
    "        ocean = X.sum(0).mask\n",
    "        \n",
    "        # Declare anything not masked as land\n",
    "        # i.e. Compliment of ocean is land values in\n",
    "        # boolean masked array\n",
    "        land = ~ocean\n",
    "        \n",
    "        # Get land values only from array\n",
    "        X = X[:, land]\n",
    "        \n",
    "        # Standardize data\n",
    "        scaler  = preprocessing.StandardScaler()\n",
    "        scaler_sst = scaler.fit(X)\n",
    "        \n",
    "        # Apply standardization\n",
    "        X = scaler_sst.transform(X)\n",
    "        \n",
    "        # Should be gaussian centered on zero\n",
    "        self.mean = X.mean()\n",
    "        self.std = X.std()\n",
    "\n",
    "        # Find principal components of our array\n",
    "        skpca = pca.PCA()\n",
    "        skpca.fit(X)\n",
    "        \n",
    "        # Number of PC to explain 70% of variance\n",
    "        ipc = np.where(skpca.explained_variance_ratio_.cumsum() >= 0.70)[0][0]\n",
    "        \n",
    "        PCs = skpca.transform(X)\n",
    "        \n",
    "        # Get Empirical Orthogonal Functions components\n",
    "        EOFs = skpca.components_\n",
    "        \n",
    "        # Select EOFs up to 70% of explained variance\n",
    "        EOFs = EOFs[:ipc,:] \n",
    "        self.eof_shape = EOFs.shape\n",
    "\n",
    "        # Create a new \"dimension-reduced\" PCA'd array\n",
    "        EOF_recons = np.ones((ipc, len(rlat) * len(rlon))) * -999.\n",
    "        for i in range(ipc): \n",
    "            # Fill each land portion of grid with\n",
    "            # transformed principal components up to ipc\n",
    "            EOF_recons[i,land] = EOFs[i,:] \n",
    "        \n",
    "        EOF_recons = ma.masked_values(np.reshape(EOF_recons, (ipc, len(rlat), len(rlon)), order='F'), -999.)\n",
    "\n",
    "        #cart = crs.RotatedPole(pole_longitude=180.0, \n",
    "        #                pole_latitude=42.5,\n",
    "        #                central_rotated_longitude=-97.0, \n",
    "        #                globe = crs.Globe(semimajor_axis=6370000,\n",
    "        #                semiminor_axis=6370000))\n",
    "\n",
    "        EOF_recons *= 100\n",
    "        \n",
    "        self.EOF_recons = EOF_recons\n",
    "        \n",
    "        #proj = \"+proj=ob_tran +o_proj=longlat +lon_0=-97 +o_lat_p=42.5 +a=1 +to_meter=0.0174532925199 +no_defs\"\n",
    "        proj = {'proj':'ob_tran', 'o_proj':'longlat', 'lon_0':-97, 'o_lat_p':42.5,\n",
    "                'a':1, 'to_meter':0.0174532925199}        \n",
    "        \n",
    "        ccrs = bm(projection=#'rotpole', lon_0=-97., o_lat_p=42.5 )\n",
    "\n",
    "        \n",
    "        \"\"\"rp = ccrs.RotatedPole(pole_longitude=-106.0 - 180,\n",
    "                              pole_latitude=36,\n",
    "                              globe=ccrs.Globe(semimajor_axis=6370000,\n",
    "                                               semiminor_axis=6370000))\n",
    "        \"\"\"\n",
    "        \n",
    "       \n",
    "        plt.figure(figsize=(15, 15))\n",
    "        \n",
    "        ax = plt.axes(projection=proj)\n",
    "        ax.coastlines('110m', linewidth=0.8)\n",
    "        ax.pcolormesh(rlon, rlat, EOF_recons[0,:,:], transform=pc, cmap=plt.cm.rainbow_r)\n",
    "\n",
    "\n",
    "        # In order to reproduce the extent, we can't use cartopy's smarter\n",
    "        # \"set_extent\" method, as the bounding box is computed based on a transformed\n",
    "        # rectangle of given size. Instead, we want to emulate the \"lower left corner\"\n",
    "        # and \"upper right corner\" behaviour of basemap.\n",
    "        #xs, ys, zs = rp.transform_points(pc,\n",
    "        #                                 np.array([-129.08, 22.66]),\n",
    "        #                                 np.array([-10.59, 46.59])).T\n",
    "        #ax.set_xlim(xs)\n",
    "        #ax.set_ylim(ys)\n",
    "\n",
    "        plt.show()\n",
    "        # mapping\n",
    "        #map.xtreme <- map.tp.basis[1]\n",
    "        #for (i in 1:4) {\n",
    "        #map.xtreme <- map.xtreme+map.sp.basis[, , i]*map.tp.basis[i+1]\n",
    "        #}\n",
    "\n",
    "        # output\n",
    "        #return(list(rlon=map.rlon,\n",
    "        #          rlat=map.rlat,\n",
    "        #          xtreme=map.xtreme,\n",
    "        #          sp.basis=map.sp.basis,\n",
    "        #          obs.grid=obs.grid))\n",
    "        \n",
    "\n"
   ]
  },
  {
   "cell_type": "code",
   "execution_count": 160,
   "metadata": {},
   "outputs": [
    {
     "ename": "ValueError",
     "evalue": "must specify lon_0,o_lat_p,o_lon_p for rotated pole Basemap",
     "output_type": "error",
     "traceback": [
      "\u001b[0;31m---------------------------------------------------------------------------\u001b[0m",
      "\u001b[0;31mValueError\u001b[0m                                Traceback (most recent call last)",
      "\u001b[0;32m<ipython-input-160-6cc3145f561e>\u001b[0m in \u001b[0;36m<module>\u001b[0;34m\u001b[0m\n\u001b[1;32m      7\u001b[0m \u001b[0mrlon\u001b[0m \u001b[0;34m=\u001b[0m \u001b[0mCanRCM4\u001b[0m\u001b[0;34m[\u001b[0m\u001b[0;34m'rlon'\u001b[0m\u001b[0;34m]\u001b[0m\u001b[0;34m\u001b[0m\u001b[0m\n\u001b[1;32m      8\u001b[0m \u001b[0;34m\u001b[0m\u001b[0m\n\u001b[0;32m----> 9\u001b[0;31m \u001b[0mmappy\u001b[0m \u001b[0;34m=\u001b[0m \u001b[0mMapXtremePCIC\u001b[0m\u001b[0;34m(\u001b[0m\u001b[0mCanRCM4\u001b[0m\u001b[0;34m,\u001b[0m \u001b[0mdf_prx\u001b[0m\u001b[0;34m,\u001b[0m \u001b[0mres\u001b[0m\u001b[0;34m,\u001b[0m \u001b[0mmethod\u001b[0m\u001b[0;34m)\u001b[0m\u001b[0;34m\u001b[0m\u001b[0m\n\u001b[0m\u001b[1;32m     10\u001b[0m \u001b[0mmappy\u001b[0m\u001b[0;34m.\u001b[0m\u001b[0mEOF_recons\u001b[0m\u001b[0;34m.\u001b[0m\u001b[0mshape\u001b[0m\u001b[0;34m\u001b[0m\u001b[0m\n",
      "\u001b[0;32m<ipython-input-159-c3a71d489863>\u001b[0m in \u001b[0;36m__init__\u001b[0;34m(self, CanRCM4, obs, res, method)\u001b[0m\n\u001b[1;32m    140\u001b[0m                 'a':1, 'to_meter':0.0174532925199}        \n\u001b[1;32m    141\u001b[0m \u001b[0;34m\u001b[0m\u001b[0m\n\u001b[0;32m--> 142\u001b[0;31m         \u001b[0mccrs\u001b[0m \u001b[0;34m=\u001b[0m \u001b[0mbm\u001b[0m\u001b[0;34m(\u001b[0m\u001b[0mprojection\u001b[0m\u001b[0;34m=\u001b[0m\u001b[0;34m'rotpole'\u001b[0m\u001b[0;34m,\u001b[0m \u001b[0mlon_0\u001b[0m\u001b[0;34m=\u001b[0m\u001b[0;34m-\u001b[0m\u001b[0;36m97.\u001b[0m\u001b[0;34m,\u001b[0m \u001b[0mo_lat_p\u001b[0m\u001b[0;34m=\u001b[0m\u001b[0;36m42.5\u001b[0m \u001b[0;34m)\u001b[0m\u001b[0;34m\u001b[0m\u001b[0m\n\u001b[0m\u001b[1;32m    143\u001b[0m \u001b[0;34m\u001b[0m\u001b[0m\n\u001b[1;32m    144\u001b[0m \u001b[0;34m\u001b[0m\u001b[0m\n",
      "\u001b[0;32m/opt/conda/lib/python3.6/site-packages/mpl_toolkits/basemap/__init__.py\u001b[0m in \u001b[0;36m__init__\u001b[0;34m(self, llcrnrlon, llcrnrlat, urcrnrlon, urcrnrlat, llcrnrx, llcrnry, urcrnrx, urcrnry, width, height, projection, resolution, area_thresh, rsphere, ellps, lat_ts, lat_1, lat_2, lat_0, lon_0, lon_1, lon_2, o_lon_p, o_lat_p, k_0, no_rot, suppress_ticks, satellite_height, boundinglat, fix_aspect, anchor, celestial, round, epsg, ax)\u001b[0m\n\u001b[1;32m    963\u001b[0m             \u001b[0;32mif\u001b[0m \u001b[0mlon_0\u001b[0m \u001b[0;32mis\u001b[0m \u001b[0;32mNone\u001b[0m \u001b[0;32mor\u001b[0m \u001b[0mo_lon_p\u001b[0m \u001b[0;32mis\u001b[0m \u001b[0;32mNone\u001b[0m \u001b[0;32mor\u001b[0m \u001b[0mo_lat_p\u001b[0m \u001b[0;32mis\u001b[0m \u001b[0;32mNone\u001b[0m\u001b[0;34m:\u001b[0m\u001b[0;34m\u001b[0m\u001b[0m\n\u001b[1;32m    964\u001b[0m                 \u001b[0mmsg\u001b[0m\u001b[0;34m=\u001b[0m\u001b[0;34m'must specify lon_0,o_lat_p,o_lon_p for rotated pole Basemap'\u001b[0m\u001b[0;34m\u001b[0m\u001b[0m\n\u001b[0;32m--> 965\u001b[0;31m                 \u001b[0;32mraise\u001b[0m \u001b[0mValueError\u001b[0m\u001b[0;34m(\u001b[0m\u001b[0mmsg\u001b[0m\u001b[0;34m)\u001b[0m\u001b[0;34m\u001b[0m\u001b[0m\n\u001b[0m\u001b[1;32m    966\u001b[0m             \u001b[0;32mif\u001b[0m \u001b[0mwidth\u001b[0m \u001b[0;32mis\u001b[0m \u001b[0;32mnot\u001b[0m \u001b[0;32mNone\u001b[0m \u001b[0;32mor\u001b[0m \u001b[0mheight\u001b[0m \u001b[0;32mis\u001b[0m \u001b[0;32mnot\u001b[0m \u001b[0;32mNone\u001b[0m\u001b[0;34m:\u001b[0m\u001b[0;34m\u001b[0m\u001b[0m\n\u001b[1;32m    967\u001b[0m                 \u001b[0msys\u001b[0m\u001b[0;34m.\u001b[0m\u001b[0mstdout\u001b[0m\u001b[0;34m.\u001b[0m\u001b[0mwrite\u001b[0m\u001b[0;34m(\u001b[0m\u001b[0;34m'warning: width and height keywords ignored for %s projection'\u001b[0m \u001b[0;34m%\u001b[0m \u001b[0m_projnames\u001b[0m\u001b[0;34m[\u001b[0m\u001b[0mself\u001b[0m\u001b[0;34m.\u001b[0m\u001b[0mprojection\u001b[0m\u001b[0;34m]\u001b[0m\u001b[0;34m)\u001b[0m\u001b[0;34m\u001b[0m\u001b[0m\n",
      "\u001b[0;31mValueError\u001b[0m: must specify lon_0,o_lat_p,o_lon_p for rotated pole Basemap"
     ]
    }
   ],
   "source": [
    "res = 50\n",
    "method = 'som'\n",
    "res_library = [50, 25, 10, 5, 1]\n",
    "\n",
    "xtreme = CanRCM4['df_pr']\n",
    "\n",
    "rlon = CanRCM4['rlon']\n",
    "\n",
    "mappy = MapXtremePCIC(CanRCM4, df_prx, res, method)\n",
    "mappy.EOF_recons.shape"
   ]
  },
  {
   "cell_type": "code",
   "execution_count": 16,
   "metadata": {},
   "outputs": [],
   "source": [
    "def landMask(lon, lat):\n",
    "    \"\"\"\n",
    "    Creates land mask for North America\n",
    "    Arguments\n",
    "     lon : vector of longitude coordinates for making the land mask\n",
    "     lat : vector of latitude coordinates for making the land mask\n",
    "    Returns\n",
    "     Value: a matrix with TRUE for land grid cells\n",
    "    \"\"\"\n",
    "    nlon = len(lon)\n",
    "\n",
    "    # all grid cells\n",
    "    lon = np.tile(lon, len(lat))\n",
    "    lat = np.tile(lat, len(lon))\n",
    "\n",
    "    d = {'lon': lon,\n",
    "         'lat': lat\n",
    "        }\n",
    "\n",
    "    pts = pd.DataFrame.from_dict(d)\n",
    "\n",
    "    # pts.idx <- rownames(pts)\n",
    "\n",
    "    # grid cells over land\n",
    "\n",
    "    namCoastShp = coastlineCanRCM4() # Need to write this function\n",
    "\n",
    "    worldBound = gpd.read_file(landPath)\n",
    "\n",
    "    #pointList = [Point()]\n",
    "    \"\"\"\n",
    "    coordinates(pts) <- ~lon+lat\n",
    "    projection(pts) <- proj4string(nam.coast.shp)\n",
    "    pts.land <- pts[!is.na(over(pts, as(nam.coast.shp, \"SpatialPolygons\"))),]\n",
    "    pts.land <- data.frame(pts.land@coords)\n",
    "\n",
    "    # where are the land grid cells \n",
    "    mask <- pts.idx %in% rownames(pts.land)\n",
    "\n",
    "    # format as a matrix\n",
    "    mask <- matrix(mask, nrow=num.lon, byrow=TRUE)\n",
    "    \"\"\"\n",
    "    return()"
   ]
  },
  {
   "cell_type": "code",
   "execution_count": 17,
   "metadata": {},
   "outputs": [],
   "source": [
    "def plot_field(m, X, lats, lons, vmin, vmax, step, cmap=plt.get_cmap('jet'), \\\n",
    "               ax=False, title=False, grid=False):\n",
    "    if not ax: \n",
    "        f, ax = plt.subplots(figsize=(8, (X.shape[0] / float(X.shape[1])) * 8))\n",
    "    m.ax = ax\n",
    "    im = m.contourf(lons, lats, X, np.arange(vmin, vmax+step, step), \\\n",
    "                    latlon=True, cmap=cmap, extend='both', ax=ax)\n",
    "    m.drawcoastlines()\n",
    "    if grid: \n",
    "        m.drawmeridians(np.arange(0, 360, 30), labels=[0,0,0,1])\n",
    "        m.drawparallels(np.arange(-80, 80, 20), labels=[1,0,0,0])\n",
    "    m.colorbar(im)\n",
    "    if title: \n",
    "        ax.set_title(title)"
   ]
  },
  {
   "cell_type": "code",
   "execution_count": 18,
   "metadata": {},
   "outputs": [
    {
     "ename": "NameError",
     "evalue": "name 'nrun' is not defined",
     "output_type": "error",
     "traceback": [
      "\u001b[0;31m---------------------------------------------------------------------------\u001b[0m",
      "\u001b[0;31mNameError\u001b[0m                                 Traceback (most recent call last)",
      "\u001b[0;32mcell_name\u001b[0m in \u001b[0;36masync-def-wrapper\u001b[0;34m()\u001b[0m\n",
      "\u001b[0;31mNameError\u001b[0m: name 'nrun' is not defined"
     ]
    }
   ],
   "source": [
    "################\n",
    "\n",
    "# Snippet from earlier...\n",
    "\n",
    "################\n",
    "# flatten the rlon and rlat into one column for each file\n",
    "        xtremeMatrix = np.asarray([xtreme[i, :, :].T.flatten() for i in range(nrun)])\n",
    "        \n",
    "        # Copies of array with replicates of _m\n",
    "        rlonMatrix = np.tile(rlon, nrlat)\n",
    "        rlatMatrix = np.tile(rlat, nrlon)\n",
    "        \n",
    "        # Indexes of NaN\n",
    "        idx = np.argwhere(~np.isnan(xtremeMatrix))\n",
    "        idxx = idx[:, 0]\n",
    "        idxy = idx[:, 1]\n",
    "        \n",
    "        # Mask grid cells with missing values, e.g., oceans\n",
    "        self.xtremeMatrix = xtremeMatrix[:, ~np.isnan(xtremeMatrix).any(axis=0)]\n",
    "        self.rlonMatrix = rlonMatrix[~np.isnan(xtremeMatrix).any(axis=0)]\n",
    "        self.rlatMatrix = rlatMatrix[~np.isnan(xtremeMatrix).any(axis=0)]\n",
    "\n",
    "        # Spatial basis function\n",
    "        if (method == 'eof'):\n",
    "            # create a solver class, taking advantage of built-in weighting\n",
    "            solver = Eof(xtremeMatrix, weights='coslat')\n",
    "\n",
    "            # retrieve the first two EOFs from the solver class\n",
    "            eofs = solver.eofs(neofs=2)\n"
   ]
  },
  {
   "cell_type": "code",
   "execution_count": null,
   "metadata": {},
   "outputs": [],
   "source": []
  },
  {
   "cell_type": "code",
   "execution_count": null,
   "metadata": {},
   "outputs": [],
   "source": []
  },
  {
   "cell_type": "code",
   "execution_count": null,
   "metadata": {},
   "outputs": [],
   "source": []
  }
 ],
 "metadata": {
  "kernelspec": {
   "display_name": "Python 3",
   "language": "python",
   "name": "python3"
  },
  "language_info": {
   "codemirror_mode": {
    "name": "ipython",
    "version": 3
   },
   "file_extension": ".py",
   "mimetype": "text/x-python",
   "name": "python",
   "nbconvert_exporter": "python",
   "pygments_lexer": "ipython3",
   "version": "3.6.6"
  }
 },
 "nbformat": 4,
 "nbformat_minor": 2
}
