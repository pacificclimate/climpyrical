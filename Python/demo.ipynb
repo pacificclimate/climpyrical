{
 "cells": [
  {
   "cell_type": "code",
   "execution_count": 66,
   "metadata": {},
   "outputs": [],
   "source": [
    "import sys\n",
    "import glob\n",
    "\n",
    "import numpy as np\n",
    "import matplotlib.pyplot as plt\n",
    "\n",
    "import pandas as pd\n",
    "\n",
    "import netCDF4 as nc"
   ]
  },
  {
   "cell_type": "code",
   "execution_count": 147,
   "metadata": {},
   "outputs": [],
   "source": [
    "PATH = './data/pr_24hr_50yrs/'"
   ]
  },
  {
   "cell_type": "code",
   "execution_count": 148,
   "metadata": {},
   "outputs": [],
   "source": [
    "nc_list = np.asarray(glob.glob(PATH+\"*\"))"
   ]
  },
  {
   "cell_type": "code",
   "execution_count": 149,
   "metadata": {},
   "outputs": [],
   "source": [
    "dataset = nc.Dataset(nc_list[0])"
   ]
  },
  {
   "cell_type": "code",
   "execution_count": 150,
   "metadata": {},
   "outputs": [],
   "source": [
    "dataset_list = np.asarray([nc.Dataset(path) for path in nc_list])"
   ]
  },
  {
   "cell_type": "code",
   "execution_count": 151,
   "metadata": {},
   "outputs": [
    {
     "data": {
      "text/plain": [
       "((35,), (35,))"
      ]
     },
     "execution_count": 151,
     "metadata": {},
     "output_type": "execute_result"
    }
   ],
   "source": [
    "dataset_list.shape, nc_list.shape"
   ]
  },
  {
   "cell_type": "code",
   "execution_count": 152,
   "metadata": {},
   "outputs": [],
   "source": [
    "# Choose one random instance\n",
    "# -------------------------- #\n",
    "indx = np.random.randint(0, dataset_list.shape[0])\n",
    "inst = dataset_list[indx]"
   ]
  },
  {
   "cell_type": "code",
   "execution_count": 153,
   "metadata": {},
   "outputs": [
    {
     "data": {
      "text/plain": [
       "<class 'netCDF4._netCDF4.Variable'>\n",
       "float64 pr(rlat, rlon)\n",
       "    units: mm h-1\n",
       "    _FillValue: nan\n",
       "    long_name: 50-year 24-hour precipitation flux\n",
       "unlimited dimensions: \n",
       "current shape = (124, 149)\n",
       "filling on"
      ]
     },
     "execution_count": 153,
     "metadata": {},
     "output_type": "execute_result"
    }
   ],
   "source": [
    "inst['pr']"
   ]
  },
  {
   "cell_type": "code",
   "execution_count": 154,
   "metadata": {},
   "outputs": [
    {
     "data": {
      "text/plain": [
       "<class 'netCDF4._netCDF4.Variable'>\n",
       "float64 lat(rlat, rlon)\n",
       "    units: degrees_north\n",
       "    _FillValue: nan\n",
       "    long_name: latitude\n",
       "unlimited dimensions: \n",
       "current shape = (124, 149)\n",
       "filling on"
      ]
     },
     "execution_count": 154,
     "metadata": {},
     "output_type": "execute_result"
    }
   ],
   "source": [
    "inst['lat']"
   ]
  },
  {
   "cell_type": "code",
   "execution_count": 155,
   "metadata": {},
   "outputs": [
    {
     "name": "stdout",
     "output_type": "stream",
     "text": [
      "rlat (124,) rlon (149,)\n"
     ]
    }
   ],
   "source": [
    "rlat = inst.variables['rlat'][:]\n",
    "rlon = inst.variables['rlon'][:]\n",
    "print('rlat', rlat.shape, 'rlon', rlon.shape)"
   ]
  },
  {
   "cell_type": "code",
   "execution_count": 175,
   "metadata": {},
   "outputs": [
    {
     "data": {
      "text/plain": [
       "(<class 'pandas.core.panel.Panel'>\n",
       " Dimensions: 35 (items) x 124 (major_axis) x 149 (minor_axis)\n",
       " Items axis: <class 'netCDF4._netCDF4.Dataset'>\n",
       " root group (NETCDF4 data model, file format HDF5):\n",
       "     Author: Chao Li @ PCIC - chaoli@uvic.ca\n",
       "     Institution: Pacific Climate Impacts Consortium\n",
       "     Date created: Tue Aug 28 00:10:49 2018\n",
       "     dimensions(sizes): rlon(149), rlat(124)\n",
       "     variables(dimensions): float64 \u001b[4mrlon\u001b[0m(rlon), float64 \u001b[4mrlat\u001b[0m(rlat), float64 \u001b[4mlon\u001b[0m(rlat,rlon), float64 \u001b[4mlat\u001b[0m(rlat,rlon), float64 \u001b[4mpr\u001b[0m(rlat,rlon)\n",
       "     groups: \n",
       "  to <class 'netCDF4._netCDF4.Dataset'>\n",
       " root group (NETCDF4 data model, file format HDF5):\n",
       "     Author: Chao Li @ PCIC - chaoli@uvic.ca\n",
       "     Institution: Pacific Climate Impacts Consortium\n",
       "     Date created: Tue Aug 28 00:13:45 2018\n",
       "     dimensions(sizes): rlon(149), rlat(124)\n",
       "     variables(dimensions): float64 \u001b[4mrlon\u001b[0m(rlon), float64 \u001b[4mrlat\u001b[0m(rlat), float64 \u001b[4mlon\u001b[0m(rlat,rlon), float64 \u001b[4mlat\u001b[0m(rlat,rlon), float64 \u001b[4mpr\u001b[0m(rlat,rlon)\n",
       "     groups: \n",
       " \n",
       " Major_axis axis: 0 to 123\n",
       " Minor_axis axis: 0 to 148,\n",
       " masked_array(data=[-2.72799988e+01, -2.68399982e+01, -2.63999977e+01,\n",
       "                    -2.59599991e+01, -2.55199986e+01, -2.50799961e+01,\n",
       "                    -2.46399994e+01, -2.41999989e+01, -2.37599964e+01,\n",
       "                    -2.33199978e+01, -2.28799992e+01, -2.24399967e+01,\n",
       "                    -2.19999981e+01, -2.15599976e+01, -2.11199989e+01,\n",
       "                    -2.06799984e+01, -2.02399979e+01, -1.97999992e+01,\n",
       "                    -1.93599987e+01, -1.89199963e+01, -1.84799995e+01,\n",
       "                    -1.80399990e+01, -1.75999966e+01, -1.71599979e+01,\n",
       "                    -1.67199974e+01, -1.62799988e+01, -1.58399982e+01,\n",
       "                    -1.53999987e+01, -1.49599991e+01, -1.45199986e+01,\n",
       "                    -1.40799990e+01, -1.36399975e+01, -1.31999989e+01,\n",
       "                    -1.27599974e+01, -1.23199978e+01, -1.18799982e+01,\n",
       "                    -1.14399977e+01, -1.09999981e+01, -1.05599985e+01,\n",
       "                    -1.01199989e+01, -9.67999840e+00, -9.23999882e+00,\n",
       "                    -8.79999828e+00, -8.35999870e+00, -7.91999865e+00,\n",
       "                    -7.47999859e+00, -7.03999853e+00, -6.59999847e+00,\n",
       "                    -6.15999889e+00, -5.71999884e+00, -5.27999878e+00,\n",
       "                    -4.83999872e+00, -4.39999866e+00, -3.95999861e+00,\n",
       "                    -3.51999855e+00, -3.07999873e+00, -2.63999867e+00,\n",
       "                    -2.19999862e+00, -1.75999868e+00, -1.31999862e+00,\n",
       "                    -8.79998684e-01, -4.39998686e-01,  1.31130219e-06,\n",
       "                     4.40001309e-01,  8.80001307e-01,  1.32000124e+00,\n",
       "                     1.76000130e+00,  2.20000100e+00,  2.64000106e+00,\n",
       "                     3.08000112e+00,  3.52000117e+00,  3.96000123e+00,\n",
       "                     4.40000153e+00,  4.84000111e+00,  5.28000116e+00,\n",
       "                     5.72000122e+00,  6.16000128e+00,  6.60000134e+00,\n",
       "                     7.04000139e+00,  7.48000145e+00,  7.92000103e+00,\n",
       "                     8.36000156e+00,  8.80000114e+00,  9.24000168e+00,\n",
       "                     9.68000126e+00,  1.01200008e+01,  1.05600014e+01,\n",
       "                     1.10000010e+01,  1.14400005e+01,  1.18800001e+01,\n",
       "                     1.23200006e+01,  1.27600002e+01,  1.31999998e+01,\n",
       "                     1.36400013e+01,  1.40799999e+01,  1.45200014e+01,\n",
       "                     1.49600010e+01,  1.54000015e+01,  1.58400011e+01,\n",
       "                     1.62800007e+01,  1.67199993e+01,  1.71599998e+01,\n",
       "                     1.76000004e+01,  1.80399990e+01,  1.84800014e+01,\n",
       "                     1.89200020e+01,  1.93599987e+01,  1.98000011e+01,\n",
       "                     2.02400017e+01,  2.06800003e+01,  2.11200008e+01,\n",
       "                     2.15600014e+01,  2.20000000e+01,  2.24400005e+01,\n",
       "                     2.28799992e+01,  2.33200016e+01,  2.37600021e+01,\n",
       "                     2.41999989e+01,  2.46400013e+01,  2.50800018e+01,\n",
       "                     2.55199986e+01,  2.59600010e+01,  2.64000015e+01,\n",
       "                     2.68400002e+01],\n",
       "              mask=False,\n",
       "        fill_value=1e+20),\n",
       " masked_array(data=[-32.56001282, -32.11999512, -31.67999268, -31.23999023,\n",
       "                    -30.80000305, -30.36001587, -29.91999817, -29.48001099,\n",
       "                    -29.03999329, -28.6000061 , -28.16001892, -27.72000122,\n",
       "                    -27.28001404, -26.83999634, -26.40000916, -25.95999146,\n",
       "                    -25.52000427, -25.08000183, -24.63999939, -24.19999695,\n",
       "                    -23.75999451, -23.31999207, -22.88000488, -22.44000244,\n",
       "                    -22.        , -21.56001282, -21.11999512, -20.67999268,\n",
       "                    -20.23999023, -19.80000305, -19.36001587, -18.91999817,\n",
       "                    -18.48001099, -18.03999329, -17.6000061 , -17.16001892,\n",
       "                    -16.72000122, -16.28001404, -15.83999634, -15.40000916,\n",
       "                    -14.95999146, -14.52000427, -14.08000183, -13.63999939,\n",
       "                    -13.19999695, -12.75999451, -12.31999207, -11.88000488,\n",
       "                    -11.44000244, -11.        , -10.56001282, -10.11999512,\n",
       "                     -9.67999268,  -9.23999023,  -8.80000305,  -8.36001587,\n",
       "                     -7.91999817,  -7.48001099,  -7.03999329,  -6.6000061 ,\n",
       "                     -6.16001892,  -5.72000122,  -5.28001404,  -4.83999634,\n",
       "                     -4.40000916,  -3.95999146,  -3.52000427,  -3.08000183,\n",
       "                     -2.63999939,  -2.19999695,  -1.75999451,  -1.31999207,\n",
       "                     -0.88000488,  -0.44000244,   0.        ,   0.43998718,\n",
       "                      0.88000488,   1.32000732,   1.76000977,   2.19999695,\n",
       "                      2.63998413,   3.08000183,   3.51998901,   3.96000671,\n",
       "                      4.3999939 ,   4.83998108,   5.27999878,   5.71998596,\n",
       "                      6.16000366,   6.59999084,   7.04000854,   7.47999573,\n",
       "                      7.91999817,   8.36000061,   8.80000305,   9.24000549,\n",
       "                      9.68000793,  10.11999512,  10.55999756,  11.        ,\n",
       "                     11.43998718,  11.88000488,  12.32000732,  12.76000977,\n",
       "                     13.19999695,  13.63998413,  14.08000183,  14.51998901,\n",
       "                     14.96000671,  15.3999939 ,  15.83998108,  16.27999878,\n",
       "                     16.71998596,  17.16000366,  17.59999084,  18.04000854,\n",
       "                     18.47999573,  18.91999817,  19.36000061,  19.80000305,\n",
       "                     20.24000549,  20.68000793,  21.11999512,  21.55999756,\n",
       "                     22.        ,  22.43998718,  22.88000488,  23.32000732,\n",
       "                     23.75997925,  24.19999695,  24.63998413,  25.08000183,\n",
       "                     25.51998901,  25.96000671,  26.3999939 ,  26.83998108,\n",
       "                     27.27999878,  27.71998596,  28.16000366,  28.59999084,\n",
       "                     29.04000854,  29.47999573,  29.91999817,  30.36000061,\n",
       "                     30.80000305,  31.24000549,  31.68000793,  32.11999512,\n",
       "                     32.55999756],\n",
       "              mask=False,\n",
       "        fill_value=1e+20))"
      ]
     },
     "execution_count": 175,
     "metadata": {},
     "output_type": "execute_result"
    }
   ],
   "source": [
    "lat = [full.variables['lat'][:, :] for full in dataset_list]\n",
    "\n",
    "lon = [full.variables['lon'][:, :] for full in dataset_list]\n",
    "pr = [full.variables['pr'][:, :] for full in dataset_list]\n",
    "\n",
    "pr={}\n",
    "for full in dataset_list:\n",
    "    pr[full] = full.variables['pr'][:, :]\n",
    "    \n",
    "df_pr = pd.Panel(pr)\n",
    "\n",
    "CanRCM4 = (df_pr, rlat, rlon)"
   ]
  },
  {
   "cell_type": "code",
   "execution_count": 157,
   "metadata": {},
   "outputs": [],
   "source": [
    "rlat_indx = range(0, rlat.shape[0])\n",
    "rlong_indx = range(0, rlon.shape[0])"
   ]
  },
  {
   "cell_type": "code",
   "execution_count": 124,
   "metadata": {},
   "outputs": [
    {
     "ename": "TypeError",
     "evalue": "cannot concatenate object of type \"<class 'numpy.ma.core.MaskedArray'>\"; only pd.Series, pd.DataFrame, and pd.Panel (deprecated) objs are valid",
     "output_type": "error",
     "traceback": [
      "\u001b[0;31m---------------------------------------------------------------------------\u001b[0m",
      "\u001b[0;31mTypeError\u001b[0m                                 Traceback (most recent call last)",
      "\u001b[0;32m<ipython-input-124-20063c767466>\u001b[0m in \u001b[0;36m<module>\u001b[0;34m\u001b[0m\n\u001b[1;32m      2\u001b[0m \u001b[0mdf\u001b[0m\u001b[0;34m[\u001b[0m\u001b[0;34m'rlat'\u001b[0m\u001b[0;34m]\u001b[0m \u001b[0;34m=\u001b[0m \u001b[0mrlat\u001b[0m\u001b[0;34m\u001b[0m\u001b[0;34m\u001b[0m\u001b[0m\n\u001b[1;32m      3\u001b[0m \u001b[0;34m\u001b[0m\u001b[0m\n\u001b[0;32m----> 4\u001b[0;31m \u001b[0mdf\u001b[0m\u001b[0;34m.\u001b[0m\u001b[0mappend\u001b[0m\u001b[0;34m(\u001b[0m\u001b[0mdf_lat\u001b[0m\u001b[0;34m)\u001b[0m\u001b[0;34m\u001b[0m\u001b[0;34m\u001b[0m\u001b[0m\n\u001b[0m",
      "\u001b[0;32m/opt/conda/lib/python3.7/site-packages/pandas/core/frame.py\u001b[0m in \u001b[0;36mappend\u001b[0;34m(self, other, ignore_index, verify_integrity, sort)\u001b[0m\n\u001b[1;32m   6209\u001b[0m         return concat(to_concat, ignore_index=ignore_index,\n\u001b[1;32m   6210\u001b[0m                       \u001b[0mverify_integrity\u001b[0m\u001b[0;34m=\u001b[0m\u001b[0mverify_integrity\u001b[0m\u001b[0;34m,\u001b[0m\u001b[0;34m\u001b[0m\u001b[0;34m\u001b[0m\u001b[0m\n\u001b[0;32m-> 6211\u001b[0;31m                       sort=sort)\n\u001b[0m\u001b[1;32m   6212\u001b[0m \u001b[0;34m\u001b[0m\u001b[0m\n\u001b[1;32m   6213\u001b[0m     def join(self, other, on=None, how='left', lsuffix='', rsuffix='',\n",
      "\u001b[0;32m/opt/conda/lib/python3.7/site-packages/pandas/core/reshape/concat.py\u001b[0m in \u001b[0;36mconcat\u001b[0;34m(objs, axis, join, join_axes, ignore_index, keys, levels, names, verify_integrity, sort, copy)\u001b[0m\n\u001b[1;32m    223\u001b[0m                        \u001b[0mkeys\u001b[0m\u001b[0;34m=\u001b[0m\u001b[0mkeys\u001b[0m\u001b[0;34m,\u001b[0m \u001b[0mlevels\u001b[0m\u001b[0;34m=\u001b[0m\u001b[0mlevels\u001b[0m\u001b[0;34m,\u001b[0m \u001b[0mnames\u001b[0m\u001b[0;34m=\u001b[0m\u001b[0mnames\u001b[0m\u001b[0;34m,\u001b[0m\u001b[0;34m\u001b[0m\u001b[0;34m\u001b[0m\u001b[0m\n\u001b[1;32m    224\u001b[0m                        \u001b[0mverify_integrity\u001b[0m\u001b[0;34m=\u001b[0m\u001b[0mverify_integrity\u001b[0m\u001b[0;34m,\u001b[0m\u001b[0;34m\u001b[0m\u001b[0;34m\u001b[0m\u001b[0m\n\u001b[0;32m--> 225\u001b[0;31m                        copy=copy, sort=sort)\n\u001b[0m\u001b[1;32m    226\u001b[0m     \u001b[0;32mreturn\u001b[0m \u001b[0mop\u001b[0m\u001b[0;34m.\u001b[0m\u001b[0mget_result\u001b[0m\u001b[0;34m(\u001b[0m\u001b[0;34m)\u001b[0m\u001b[0;34m\u001b[0m\u001b[0;34m\u001b[0m\u001b[0m\n\u001b[1;32m    227\u001b[0m \u001b[0;34m\u001b[0m\u001b[0m\n",
      "\u001b[0;32m/opt/conda/lib/python3.7/site-packages/pandas/core/reshape/concat.py\u001b[0m in \u001b[0;36m__init__\u001b[0;34m(self, objs, axis, join, join_axes, keys, levels, names, ignore_index, verify_integrity, copy, sort)\u001b[0m\n\u001b[1;32m    284\u001b[0m                        \u001b[0;34m' only pd.Series, pd.DataFrame, and pd.Panel'\u001b[0m\u001b[0;34m\u001b[0m\u001b[0;34m\u001b[0m\u001b[0m\n\u001b[1;32m    285\u001b[0m                        ' (deprecated) objs are valid'.format(type(obj)))\n\u001b[0;32m--> 286\u001b[0;31m                 \u001b[0;32mraise\u001b[0m \u001b[0mTypeError\u001b[0m\u001b[0;34m(\u001b[0m\u001b[0mmsg\u001b[0m\u001b[0;34m)\u001b[0m\u001b[0;34m\u001b[0m\u001b[0;34m\u001b[0m\u001b[0m\n\u001b[0m\u001b[1;32m    287\u001b[0m \u001b[0;34m\u001b[0m\u001b[0m\n\u001b[1;32m    288\u001b[0m             \u001b[0;31m# consolidate\u001b[0m\u001b[0;34m\u001b[0m\u001b[0;34m\u001b[0m\u001b[0;34m\u001b[0m\u001b[0m\n",
      "\u001b[0;31mTypeError\u001b[0m: cannot concatenate object of type \"<class 'numpy.ma.core.MaskedArray'>\"; only pd.Series, pd.DataFrame, and pd.Panel (deprecated) objs are valid"
     ]
    }
   ],
   "source": [
    "df = pd.DataFrame()\n",
    "df['rlat'] = rlat\n",
    "\n",
    "df.append(df_lat)"
   ]
  },
  {
   "cell_type": "code",
   "execution_count": 52,
   "metadata": {},
   "outputs": [
    {
     "data": {
      "text/plain": [
       "<class 'netCDF4._netCDF4.Variable'>\n",
       "float64 rlat(rlat)\n",
       "    units: degrees\n",
       "    long_name: latitude in rotated pole grid\n",
       "unlimited dimensions: \n",
       "current shape = (124,)\n",
       "filling on, default _FillValue of 9.969209968386869e+36 used"
      ]
     },
     "execution_count": 52,
     "metadata": {},
     "output_type": "execute_result"
    }
   ],
   "source": [
    "x"
   ]
  },
  {
   "cell_type": "code",
   "execution_count": null,
   "metadata": {},
   "outputs": [],
   "source": []
  },
  {
   "cell_type": "code",
   "execution_count": null,
   "metadata": {},
   "outputs": [],
   "source": []
  }
 ],
 "metadata": {
  "kernelspec": {
   "display_name": "Python 3",
   "language": "python",
   "name": "python3"
  },
  "language_info": {
   "codemirror_mode": {
    "name": "ipython",
    "version": 3
   },
   "file_extension": ".py",
   "mimetype": "text/x-python",
   "name": "python",
   "nbconvert_exporter": "python",
   "pygments_lexer": "ipython3",
   "version": "3.7.1"
  }
 },
 "nbformat": 4,
 "nbformat_minor": 2
}
