{
 "cells": [
  {
   "cell_type": "code",
   "execution_count": 1,
   "metadata": {},
   "outputs": [],
   "source": [
    "# Standard lib\n",
    "import sys\n",
    "import glob\n",
    "                \n",
    "import numpy as np\n",
    "import matplotlib.pyplot as plt\n",
    "\n",
    "\n",
    "from matplotlib.ticker import ScalarFormatter\n",
    "import geopandas as gpd\n",
    "from shapely.geometry import Point\n",
    "\n",
    "import seaborn as sns\n",
    "# Adjust plot font sizes\n",
    "sns.set(font_scale=1.5)\n",
    "sns.set_style(\"white\")\n",
    "\n",
    "\n",
    "import pandas as pd\n",
    "import eofs as eofs\n",
    "import netCDF4 as nc"
   ]
  },
  {
   "cell_type": "code",
   "execution_count": 2,
   "metadata": {},
   "outputs": [],
   "source": [
    "# Set path to RCM data\n",
    "PATH = './data/pr_24hr_50yrs/'\n",
    "PATH_SUP = './support/'"
   ]
  },
  {
   "cell_type": "code",
   "execution_count": 3,
   "metadata": {},
   "outputs": [],
   "source": [
    "# Create a list of all files in PATH\n",
    "nc_list = np.asarray(glob.glob(PATH+\"*\"))"
   ]
  },
  {
   "cell_type": "code",
   "execution_count": null,
   "metadata": {},
   "outputs": [],
   "source": []
  },
  {
   "cell_type": "code",
   "execution_count": 4,
   "metadata": {},
   "outputs": [],
   "source": [
    "# Create a list of Dataset objects using netCDF4\n",
    "dataset_list = np.asarray([nc.Dataset(path) for path in nc_list])"
   ]
  },
  {
   "cell_type": "code",
   "execution_count": 5,
   "metadata": {},
   "outputs": [
    {
     "data": {
      "text/plain": [
       "((35,), (35,))"
      ]
     },
     "execution_count": 5,
     "metadata": {},
     "output_type": "execute_result"
    }
   ],
   "source": [
    "dataset_list.shape, nc_list.shape"
   ]
  },
  {
   "cell_type": "code",
   "execution_count": 6,
   "metadata": {},
   "outputs": [],
   "source": [
    "# Choose one random instance\n",
    "# -------------------------- #\n",
    "indx = np.random.randint(0, dataset_list.shape[0])\n",
    "inst = dataset_list[indx]"
   ]
  },
  {
   "cell_type": "code",
   "execution_count": 7,
   "metadata": {},
   "outputs": [
    {
     "data": {
      "text/plain": [
       "<class 'netCDF4._netCDF4.Variable'>\n",
       "float64 pr(rlat, rlon)\n",
       "    units: mm h-1\n",
       "    _FillValue: nan\n",
       "    long_name: 50-year 24-hour precipitation flux\n",
       "unlimited dimensions: \n",
       "current shape = (124, 149)\n",
       "filling on"
      ]
     },
     "execution_count": 7,
     "metadata": {},
     "output_type": "execute_result"
    }
   ],
   "source": [
    "inst['pr']"
   ]
  },
  {
   "cell_type": "code",
   "execution_count": 8,
   "metadata": {},
   "outputs": [
    {
     "data": {
      "text/plain": [
       "<class 'netCDF4._netCDF4.Variable'>\n",
       "float64 lat(rlat, rlon)\n",
       "    units: degrees_north\n",
       "    _FillValue: nan\n",
       "    long_name: latitude\n",
       "unlimited dimensions: \n",
       "current shape = (124, 149)\n",
       "filling on"
      ]
     },
     "execution_count": 8,
     "metadata": {},
     "output_type": "execute_result"
    }
   ],
   "source": [
    "inst['lat']"
   ]
  },
  {
   "cell_type": "code",
   "execution_count": 9,
   "metadata": {},
   "outputs": [
    {
     "name": "stdout",
     "output_type": "stream",
     "text": [
      "rlat (124,) rlon (149,)\n"
     ]
    }
   ],
   "source": [
    "rlat = inst.variables['rlat'][:]\n",
    "rlon = inst.variables['rlon'][:]\n",
    "print('rlat', rlat.shape, 'rlon', rlon.shape)"
   ]
  },
  {
   "cell_type": "code",
   "execution_count": 10,
   "metadata": {},
   "outputs": [
    {
     "name": "stderr",
     "output_type": "stream",
     "text": [
      "/opt/conda/lib/python3.7/site-packages/IPython/core/interactiveshell.py:3267: FutureWarning: \n",
      "Panel is deprecated and will be removed in a future version.\n",
      "The recommended way to represent these types of 3-dimensional data are with a MultiIndex on a DataFrame, via the Panel.to_frame() method\n",
      "Alternatively, you can use the xarray package http://xarray.pydata.org/en/stable/.\n",
      "Pandas provides a `.to_xarray()` method to help automate this conversion.\n",
      "\n",
      "  exec(code_obj, self.user_global_ns, self.user_ns)\n"
     ]
    }
   ],
   "source": [
    "# Create list of parameters in dataset list\n",
    "lat = [full.variables['lat'][:, :] for full in dataset_list]\n",
    "lon = [full.variables['lon'][:, :] for full in dataset_list]\n",
    "pr = [full.variables['pr'][:, :] for full in dataset_list]\n",
    "\n",
    "# Construct 3D pandas dataframe with each data\n",
    "# file as a layer in the 3rd dimension\n",
    "pr={}\n",
    "for full in dataset_list:\n",
    "    pr[full] = full.variables['pr'][:, :]\n",
    "\n",
    "df_pr = pd.Panel(pr)\n",
    "\n",
    "# Create tuple of 3d df and rotated lat/lon\n",
    "CanRCM4 = {'df_pr': df_pr, \n",
    "           'rlat': rlat, \n",
    "           'rlon': rlon\n",
    "          }"
   ]
  },
  {
   "cell_type": "code",
   "execution_count": 11,
   "metadata": {},
   "outputs": [
    {
     "name": "stdout",
     "output_type": "stream",
     "text": [
      "[2.62967844 2.34698278 2.55407072 ... 1.59810338 1.66034745 1.49151918]\n"
     ]
    }
   ],
   "source": [
    "dfx = CanRCM4['df_pr'][dataset_list[1]].T\n",
    "\n",
    "prx = {'pr': dfx.values.flatten(),\n",
    "       'rlon': np.tile(CanRCM4['rlon'], len(rlat)),\n",
    "       'rlat': np.tile(CanRCM4['rlat'], len(rlon))\n",
    "      }\n",
    "\n",
    "idx = np.argwhere(~np.isnan(prx['pr']))[:,0]\n",
    "\n",
    "print(prx['pr'][idx])\n",
    "\n",
    "prx_maskd = {'pr': prx['pr'][idx],\n",
    "            'rlon': prx['rlon'][idx],\n",
    "            'rlat': prx['rlat'][idx]\n",
    "            }"
   ]
  },
  {
   "cell_type": "code",
   "execution_count": 12,
   "metadata": {},
   "outputs": [],
   "source": [
    "df_prx = pd.DataFrame.from_dict(prx_maskd).sample(frac=0.02)"
   ]
  },
  {
   "cell_type": "code",
   "execution_count": null,
   "metadata": {},
   "outputs": [],
   "source": []
  },
  {
   "cell_type": "code",
   "execution_count": 13,
   "metadata": {},
   "outputs": [],
   "source": [
    "class MapXtremePCIC:\n",
    "    \"\"\" \n",
    "    MapXtremePCIC maps design values over North America\n",
    "    ====================================================\n",
    "    Arguments\n",
    "     CanRCM4.lens : information data list for CanRCM4 modelled design values over North America\n",
    "     obs : data array of observed design values over North America, [lon, lat, data] three columns \n",
    "     res : resolution (in km) of the map\n",
    "     method : whether EOF or SOM-based method is employed for mapping\n",
    "     \n",
    "    Value\n",
    "     rlon : vector of longitude coordinates of the map\n",
    "     rlat : vector of latitude coordinates of the map\n",
    "     xtreme : data array of the mapped design values\n",
    "     sp.basis : data array of the spatial basis functions estimated from CanRCM4 modelled data\n",
    "     obs.grid : data array of the gridded observations \n",
    "    \n",
    "    Note: the coordinate system is in polar rotated projection for all involved arrays. The projection\n",
    "     is \"+proj=ob_tran +o_proj=longlat +lon_0=-97 +o_lat_p=42.5 +a=1 +to_meter=0.0174532925199 +no_defs\"\n",
    "     \n",
    "    Author : Nic Annau at PCIC, University of Victoria, nannau@uvic.ca\n",
    "    \"\"\"\n",
    "\n",
    "    def __init__(self, CanRCM4, obs, res, method):\n",
    "        \n",
    "        self.CanRCM4 = CanRCM4\n",
    "        self.obs = obs\n",
    "        self.res = res\n",
    "        self.method = method\n",
    "        \n",
    "        if (type(method) != type('string')):\n",
    "            raise ValueError('Method argument requires {} got {}'.format(type('string'), type(method)))\n",
    "        if (method != 'eof' and method != 'som'):\n",
    "            raise Exception('MapXtremePCIC requires specified \\'som\\' or \\'eof\\'. Got {}'.format(method))\n",
    "        \n",
    "        if (obs.shape[0] < 100):\n",
    "            raise Exception('Observed design values sample size of {} is too small (<100).'.format(obs.shape[0]))\n",
    "\n",
    "        \n",
    "        # Set default res if not specified\n",
    "        if (res == None):\n",
    "            print(\"Res not specified. Setting default res = 50.\")\n",
    "            self.res = 50\n",
    "        \n",
    "        # Check map resolution    \n",
    "        if (type(res) != type(1)):\n",
    "            raise ValueError('Mapping resolution requires {}, got {}'.format(type(1), type(res)))\n",
    "        \n",
    "        # Finds closest value to res in array\n",
    "        resLibrary = [50, 25, 10, 5, 1]\n",
    "        resLib = resLibrary[np.argmin(np.abs(np.subtract(res, res_library)))]\n",
    "        resFactor = resLib/res\n",
    "\n",
    "        #method <- match.arg(method)\n",
    "\n",
    "        # organize (35) maps to (35) vectors\n",
    "        xtreme = np.asarray(CanRCM4['df_pr'])\n",
    "        rlon = CanRCM4['rlon']\n",
    "        rlat = CanRCM4['rlat']\n",
    "\n",
    "        # Get dimensions of input\n",
    "        xtreme_dim = xtreme.shape\n",
    "        nrlon = rlon.shape[0]\n",
    "        nrlat = rlat.shape[0]\n",
    "        nrun = xtreme.shape[0] # Number of files\n",
    "                \n",
    "        # initialize empty array\n",
    "        xtremeMatrix = np.zeros((nrun, nrlon*nrlat))\n",
    "        # flatten the rlon and rlat into one column for each file\n",
    "        xtremeMatrix = np.asarray([xtreme[i, :, :].T.flatten() for i in range(nrun)])\n",
    "        \n",
    "        # Copies of array with replicates of _m\n",
    "        rlonMatrix = np.tile(rlon, nrlat)\n",
    "        rlatMatrix = np.tile(rlat, nrlon)\n",
    "        \n",
    "        # Indexes of NaN\n",
    "        idx = np.argwhere(~np.isnan(xtremeMatrix))\n",
    "        idxx = idx[:, 0]\n",
    "        idxy = idx[:, 1]\n",
    "        \n",
    "        # Mask grid cells with missing values, e.g., oceans\n",
    "        self.xtremeMatrix = xtremeMatrix[:, ~np.isnan(xtremeMatrix).any(axis=0)]\n",
    "        self.rlonMatrix = rlonMatrix[~np.isnan(xtremeMatrix).any(axis=0)]\n",
    "        self.rlatMatrix = rlatMatrix[~np.isnan(xtremeMatrix).any(axis=0)]\n",
    "\n",
    "        # Spatial basis function\n",
    "        if (method == 'eof'):\n",
    "            # create a solver class, taking advantage of built-in weighting\n",
    "            solver = Eof(xtremeMatrix, weights='coslat')\n",
    "\n",
    "            # retrieve the first two EOFs from the solver class\n",
    "            eofs = solver.eofs(neofs=2)\n",
    "\n",
    "        \n",
    "        #if (method==\"eof\") {\n",
    "        #sp.basis <- t(svd(xtreme.matrix)$v[, 1:4])\n",
    "        #} else {\n",
    "        #sp.basis <- getCodes(som(X=xtreme.matrix, grid=somgrid(2, 2, \"hexagonal\", \"gaussian\"), rlen=10000, keep.data=FALSE))\n",
    "        #}\n",
    "\n",
    "        # create the mapping grid\n",
    "        #num.map.rlon <- res.factor*num.rlon\n",
    "        #num.map.rlat <- res.factor*num.rlat\n",
    "        #map.rlon <- seq(from=min(rlon), to=max(rlon), length.out=num.map.rlon)\n",
    "        #map.rlat <- seq(from=min(rlat), to=max(rlat), length.out=num.map.rlat)\n",
    "\n",
    "        # interpolate the spatial basis function\n",
    "        #map.sp.basis <- array(NA, dim=c(num.map.rlon, num.map.rlat, 4))\n",
    "        #for (i in 1:4) {\n",
    "        #map.sp.basis[, , i] <- interp(x=rlon.matrix, y=rlat.matrix, z=sp.basis[i, ], xo=map.rlon, yo=map.rlat, extrap=TRUE)$z\n",
    "        #}\n",
    "\n",
    "        # mask oceans in the mapping grid\n",
    "        #mask <- land.mask(map.rlon, map.rlat)\n",
    "        #mask <- replicate(4, mask, simplify=FALSE)\n",
    "        #mask <- do.call(abind, c(mask, along = 3))\n",
    "\n",
    "        #map.sp.basis[!mask] <- NA\n",
    "\n",
    "        # create gridded observations\n",
    "        #dif.map.rlon <- (map.rlon[2]-map.rlon[1])*0.5\n",
    "        #dif.map.rlat <- (map.rlat[2]-map.rlat[1])*0.5\n",
    "\n",
    "        #obs.grid <- array(NA, dim=c(num.map.rlon, num.map.rlat))\n",
    "        #for (i in 1:num.map.rlon) {\n",
    "        #for (j in 1:num.map.rlat) {\n",
    "        #  if (mask[i, j, 1]) {\n",
    "        #    idx1 <- obs[, 1]>=(map.rlon[i]-dif.map.rlon) & obs[, 1]<(map.rlon[i]+dif.map.rlon)\n",
    "        #    idx2 <- obs[, 2]>=(map.rlat[j]-dif.map.rlat) & obs[, 2]<(map.rlat[j]+dif.map.rlat)\n",
    "        #    obs.grid[i, j] <- mean(obs[idx1&idx2, 3])\n",
    "        #  }\n",
    "        #}\n",
    "        #}\n",
    "        # Note:\n",
    "        # The grid value is the mean of the observations falling in a grid cell.\n",
    "\n",
    "        # estimate 'temporal' basis function\n",
    "        #idx <- is.na(obs.grid)\n",
    "        #y <- as.matrix(obs.grid[!idx])\n",
    "        #x <- array(NA, dim=c(length(y), 4))\n",
    "        #for (i in 1:4) {\n",
    "        #x.ith <- map.sp.basis[, , i]\n",
    "        #x[, i] <- x.ith[!idx]\n",
    "        #}\n",
    "        #map.tp.basis <- lm(y~x+1)$coefficients\n",
    "\n",
    "        # mapping\n",
    "        #map.xtreme <- map.tp.basis[1]\n",
    "        #for (i in 1:4) {\n",
    "        #map.xtreme <- map.xtreme+map.sp.basis[, , i]*map.tp.basis[i+1]\n",
    "        #}\n",
    "\n",
    "        # output\n",
    "        #return(list(rlon=map.rlon,\n",
    "        #          rlat=map.rlat,\n",
    "        #          xtreme=map.xtreme,\n",
    "        #          sp.basis=map.sp.basis,\n",
    "        #          obs.grid=obs.grid))\n",
    "        \n",
    "\n"
   ]
  },
  {
   "cell_type": "code",
   "execution_count": 14,
   "metadata": {},
   "outputs": [],
   "source": [
    "res = 50\n",
    "method = 'som'\n",
    "res_library = [50, 25, 10, 5, 1]\n",
    "\n",
    "xtreme = CanRCM4['df_pr']\n",
    "\n",
    "rlon = CanRCM4['rlon']\n",
    "\n",
    "mappy = MapXtremePCIC(CanRCM4, df_prx, res, method)"
   ]
  },
  {
   "cell_type": "code",
   "execution_count": null,
   "metadata": {},
   "outputs": [],
   "source": [
    "    def landMask(lon, lat):\n",
    "        \"\"\"\n",
    "        Creates land mask for North America\n",
    "        Arguments\n",
    "         lon : vector of longitude coordinates for making the land mask\n",
    "         lat : vector of latitude coordinates for making the land mask\n",
    "        Returns\n",
    "         Value: a matrix with TRUE for land grid cells\n",
    "        \"\"\"\n",
    "        nlon = len(lon)\n",
    "\n",
    "        # all grid cells\n",
    "        lon = np.tile(lon, len(lat))\n",
    "        lat = np.tile(lat, len(lon))\n",
    "        \n",
    "        d = {'lon': lon,\n",
    "             'lat': lat\n",
    "            }\n",
    "        \n",
    "        pts = pd.DataFrame.from_dict(d)\n",
    "        \n",
    "        # pts.idx <- rownames(pts)\n",
    "\n",
    "        # grid cells over land\n",
    "        \n",
    "        namCoastShp = coastlineCanRCM4() # Need to write this function\n",
    "        \n",
    "        worldBound = gpd.read_file(landPath)\n",
    "        \n",
    "        #pointList = [Point()]\n",
    "        \"\"\"\n",
    "        coordinates(pts) <- ~lon+lat\n",
    "        projection(pts) <- proj4string(nam.coast.shp)\n",
    "        pts.land <- pts[!is.na(over(pts, as(nam.coast.shp, \"SpatialPolygons\"))),]\n",
    "        pts.land <- data.frame(pts.land@coords)\n",
    "\n",
    "        # where are the land grid cells \n",
    "        mask <- pts.idx %in% rownames(pts.land)\n",
    "\n",
    "        # format as a matrix\n",
    "        mask <- matrix(mask, nrow=num.lon, byrow=TRUE)\n",
    "        \"\"\"\n",
    "        return()"
   ]
  },
  {
   "cell_type": "code",
   "execution_count": null,
   "metadata": {},
   "outputs": [],
   "source": []
  }
 ],
 "metadata": {
  "kernelspec": {
   "display_name": "Python 3",
   "language": "python",
   "name": "python3"
  },
  "language_info": {
   "codemirror_mode": {
    "name": "ipython",
    "version": 3
   },
   "file_extension": ".py",
   "mimetype": "text/x-python",
   "name": "python",
   "nbconvert_exporter": "python",
   "pygments_lexer": "ipython3",
   "version": "3.7.1"
  }
 },
 "nbformat": 4,
 "nbformat_minor": 2
}
