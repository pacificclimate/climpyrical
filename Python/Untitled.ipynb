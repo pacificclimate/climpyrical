{
 "cells": [
  {
   "cell_type": "code",
   "execution_count": 1,
   "metadata": {},
   "outputs": [],
   "source": [
    "from MapXtremePCIC import MapXtremePCIC\n",
    "import pandas as pd\n",
    "from numpy import ma\n",
    "from sklearn.decomposition import pca\n",
    "from scipy import interpolate\n",
    "import numpy as np"
   ]
  },
  {
   "cell_type": "code",
   "execution_count": 2,
   "metadata": {},
   "outputs": [],
   "source": [
    "PATH = './data/pr_24hr_50yrs/'\n",
    "MapXtreme = MapXtremePCIC('110m', 'eof', PATH, 'pr')"
   ]
  },
  {
   "cell_type": "code",
   "execution_count": 3,
   "metadata": {},
   "outputs": [
    {
     "name": "stdout",
     "output_type": "stream",
     "text": [
      "         areas       rlat       rlon\n",
      "0  1772.265835 -27.279999 -32.560013\n",
      "1  1780.387597 -27.279999 -32.119995\n",
      "2  1788.304531 -27.279999 -31.679993\n",
      "3  1796.161150 -27.279999 -31.239990\n",
      "4  1804.299786 -27.279999 -30.800003\n",
      "   run0  run1  run2  run3  run4  run5  run6  run7  run8  run9  ...    run25  \\\n",
      "0   NaN   NaN   NaN   NaN   NaN   NaN   NaN   NaN   NaN   NaN  ...      NaN   \n",
      "1   NaN   NaN   NaN   NaN   NaN   NaN   NaN   NaN   NaN   NaN  ...      NaN   \n",
      "2   NaN   NaN   NaN   NaN   NaN   NaN   NaN   NaN   NaN   NaN  ...      NaN   \n",
      "3   NaN   NaN   NaN   NaN   NaN   NaN   NaN   NaN   NaN   NaN  ...      NaN   \n",
      "4   NaN   NaN   NaN   NaN   NaN   NaN   NaN   NaN   NaN   NaN  ...      NaN   \n",
      "\n",
      "   run26  run27  run28  run29  run30  run31  run32  run33  run34  \n",
      "0    NaN    NaN    NaN    NaN    NaN    NaN    NaN    NaN    NaN  \n",
      "1    NaN    NaN    NaN    NaN    NaN    NaN    NaN    NaN    NaN  \n",
      "2    NaN    NaN    NaN    NaN    NaN    NaN    NaN    NaN    NaN  \n",
      "3    NaN    NaN    NaN    NaN    NaN    NaN    NaN    NaN    NaN  \n",
      "4    NaN    NaN    NaN    NaN    NaN    NaN    NaN    NaN    NaN  \n",
      "\n",
      "[5 rows x 35 columns]\n",
      "         areas       rlat       rlon\n",
      "0  1772.265835 -27.279999 -32.560013\n",
      "1  1780.387597 -27.279999 -32.119995\n",
      "2  1788.304531 -27.279999 -31.679993\n",
      "3  1796.161150 -27.279999 -31.239990\n",
      "4  1804.299786 -27.279999 -30.800003\n",
      "   run0  run1  run2  run3  run4  run5  run6  run7  run8  run9  ...    run25  \\\n",
      "0   NaN   NaN   NaN   NaN   NaN   NaN   NaN   NaN   NaN   NaN  ...      NaN   \n",
      "1   NaN   NaN   NaN   NaN   NaN   NaN   NaN   NaN   NaN   NaN  ...      NaN   \n",
      "2   NaN   NaN   NaN   NaN   NaN   NaN   NaN   NaN   NaN   NaN  ...      NaN   \n",
      "3   NaN   NaN   NaN   NaN   NaN   NaN   NaN   NaN   NaN   NaN  ...      NaN   \n",
      "4   NaN   NaN   NaN   NaN   NaN   NaN   NaN   NaN   NaN   NaN  ...      NaN   \n",
      "\n",
      "   run26  run27  run28  run29  run30  run31  run32  run33  run34  \n",
      "0    NaN    NaN    NaN    NaN    NaN    NaN    NaN    NaN    NaN  \n",
      "1    NaN    NaN    NaN    NaN    NaN    NaN    NaN    NaN    NaN  \n",
      "2    NaN    NaN    NaN    NaN    NaN    NaN    NaN    NaN    NaN  \n",
      "3    NaN    NaN    NaN    NaN    NaN    NaN    NaN    NaN    NaN  \n",
      "4    NaN    NaN    NaN    NaN    NaN    NaN    NaN    NaN    NaN  \n",
      "\n",
      "[5 rows x 35 columns]\n"
     ]
    }
   ],
   "source": [
    "df_obs = MapXtreme.get_pseudo_obs()\n",
    "df_model = MapXtreme.standard_matrix(MapXtreme.ensemble_mean(MapXtreme.get_df())).dropna()\n",
    "df = MapXtreme.get_df()"
   ]
  },
  {
   "cell_type": "code",
   "execution_count": 9,
   "metadata": {},
   "outputs": [],
   "source": [
    "n_full, p_full, X_full = MapXtreme.get_arr(df_model)\n",
    "n_field, p_field, X_field = MapXtreme.get_arr(df_obs)\n",
    "\n",
    "skpca = pca.PCA(0.95)\n",
    "skpca.fit_transform(X_full) #_transform\n",
    "EOFs = skpca.components_.T\n",
    "\n",
    "df_model['run_full_eof'] = EOFs[:, 0]\n",
    "\n",
    "df_new = MapXtreme.combine_model_obs(df_model, df)\n",
    "#pd.concat([df_model, df], axis = 1)\n",
    "z = np.reshape(df_new['run_full_eof'].interpolate(method='nearest').fillna(0.0).values, (df_new['rlat'].unique().shape[0], df_new['rlon'].unique().shape[0]))\n",
    "\n",
    "new_grid=interpolate.interp2d(df_new['rlon'].unique(), df_new['rlat'].unique(), z, kind = 'cubic')"
   ]
  },
  {
   "cell_type": "code",
   "execution_count": null,
   "metadata": {},
   "outputs": [],
   "source": []
  },
  {
   "cell_type": "code",
   "execution_count": null,
   "metadata": {},
   "outputs": [],
   "source": []
  }
 ],
 "metadata": {
  "kernelspec": {
   "display_name": "Python 3",
   "language": "python",
   "name": "python3"
  },
  "language_info": {
   "codemirror_mode": {
    "name": "ipython",
    "version": 3
   },
   "file_extension": ".py",
   "mimetype": "text/x-python",
   "name": "python",
   "nbconvert_exporter": "python",
   "pygments_lexer": "ipython3",
   "version": "3.6.7"
  }
 },
 "nbformat": 4,
 "nbformat_minor": 2
}
