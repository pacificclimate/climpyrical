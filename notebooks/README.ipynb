{
 "cells": [
  {
   "cell_type": "markdown",
   "metadata": {},
   "source": [
    "# Interactive Moving Window Kriging Pipeline\n",
    "---\n",
    "The preprocessing pipeline is executed in the following sequence. It assumes that masks have been generated. If a custom mask is required, work through the `mask.ipynb` file to see how the default masks were generated.\n",
    "\n",
    "1. Place netCDF models into `climpyrical/data/model_inputs`. Ensemble models must have:\n",
    "    * lat, lon, rlat, rlon and a 2D data field variable\n",
    "2. Place station files into `climpyrical/data/station_inputs`. Input stations must have:\n",
    "    * A data column with the design value of interest in the same units as the ensemble model. Note that the units need to be placed in parentheses next to the data variable name. i.e \"RL50 (kPa)\" or \"HDD (degC-day)\" are examples of valid names\n",
    "    * latitude or longitude columns\n",
    "    * Additional columns, like province name, elevation, and station name are optional, but recommended\n",
    "3. The data produced in the pipeline will go in various subdirectories of `climpyrical/data/results/` using the PCIC design value naming standards (outlined below)\n",
    "    * figures will be in `climpyrical/data/results/figures/`\n",
    "    * tables will be in `climpyrical/data/results/tables/`\n",
    "    * netCDF files in `climpyrical/data/results/datasets/`\n",
    "    * intermediate notebooks for troubleshooting will be in `climpyrical/data/results/intermediate/`\n",
    "        * These notebooks are titled \n",
    "\n",
    "```\n",
    "climpyrical/data/results\n",
    "├── datasets\n",
    "│   └── \n",
    "├── figures\n",
    "│   ├── \n",
    "├── intermediate\n",
    "│   ├── notebooks\n",
    "│   │   ├── model_log_{design value}.ipynb\n",
    "│   │   ├── plotting_log_{design value}.ipynb\n",
    "│   │   ├── RR_log_{design value}.ipynb\n",
    "│   │   ├── station_log_{design value}.ipynb\n",
    "│   ├── preprocessed_models\n",
    "│   │   ├── {design value}\\_preprocessed.nc\n",
    "│   └── preprocessed_stations\n",
    "│       └── {design value}\\_processed_stations.csv\n",
    "└── tables\n",
    "     └── {design_vale}\\tablec2.csv\n",
    "```"
   ]
  },
  {
   "cell_type": "code",
   "execution_count": null,
   "metadata": {},
   "outputs": [],
   "source": []
  }
 ],
 "metadata": {
  "kernelspec": {
   "display_name": "Python 3",
   "language": "python",
   "name": "python3"
  },
  "language_info": {
   "codemirror_mode": {
    "name": "ipython",
    "version": 3
   },
   "file_extension": ".py",
   "mimetype": "text/x-python",
   "name": "python",
   "nbconvert_exporter": "python",
   "pygments_lexer": "ipython3",
   "version": "3.8.5"
  }
 },
 "nbformat": 4,
 "nbformat_minor": 4
}
