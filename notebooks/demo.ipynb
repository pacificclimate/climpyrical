{
 "cells": [
  {
   "cell_type": "code",
   "execution_count": 52,
   "metadata": {},
   "outputs": [
    {
     "name": "stdout",
     "output_type": "stream",
     "text": [
      "The autoreload extension is already loaded. To reload it, use:\n",
      "  %reload_ext autoreload\n"
     ]
    }
   ],
   "source": [
    "import sys\n",
    "sys.path.append('../scripts')\n",
    "\n",
    "from datacube import read_data\n",
    "from operators import *\n",
    "from preprocessing import *\n",
    "from eof import *\n",
    "from gridding import *\n",
    "from mapper import *\n",
    "\n",
    "\n",
    "import numpy as np\n",
    "import matplotlib.pyplot as plt\n",
    "import cartopy.crs as ccrs\n",
    "import cartopy.feature as cfeature\n",
    "import cartopy.feature\n",
    "import seaborn as sns\n",
    "import pandas as pd\n",
    "\n",
    "\n",
    "%load_ext autoreload\n",
    "%autoreload 2"
   ]
  },
  {
   "cell_type": "markdown",
   "metadata": {},
   "source": [
    "### Preprocessing the Models\n",
    "\n",
    "Use a wildcard and specify the path of the ensemble members for the design value"
   ]
  },
  {
   "cell_type": "code",
   "execution_count": 196,
   "metadata": {},
   "outputs": [],
   "source": [
    "PATH = '/storage/data/projects/nrc/CanRCM4_large_ensemble/design_values/tas/hdd/*.nc'\n",
    "#PATH = '/home/nannau/Desktop/ensembles/jan1.0p/*'\n",
    "#PATH = '/storage/data/projects/nrc/CanRCM4_large_ensemble/design_values/tas/jul2.5p/*.nc'\n"
   ]
  },
  {
   "cell_type": "code",
   "execution_count": 197,
   "metadata": {},
   "outputs": [],
   "source": [
    "import xarray as xr\n"
   ]
  },
  {
   "cell_type": "markdown",
   "metadata": {},
   "source": [
    "Read in ensembles and put in a xarray dataset"
   ]
  },
  {
   "cell_type": "code",
   "execution_count": 198,
   "metadata": {},
   "outputs": [
    {
     "name": "stdout",
     "output_type": "stream",
     "text": [
      "heating_degree_days_per_time_period\n"
     ]
    }
   ],
   "source": [
    "ds = read_data(PATH)\n",
    "\n",
    "dv_field = ds['dv'].values.copy()"
   ]
  },
  {
   "cell_type": "markdown",
   "metadata": {},
   "source": [
    "load the land mask"
   ]
  },
  {
   "cell_type": "code",
   "execution_count": 199,
   "metadata": {},
   "outputs": [],
   "source": [
    "mask = load_land_mask('../data/mask.nc')"
   ]
  },
  {
   "cell_type": "markdown",
   "metadata": {},
   "source": [
    "Check for any NaN values, and if there are any in the ensemble, disqualify that grid cell from the rest of the analysis. Combine the land mask and the nan mask using `logical disjoint`.\n"
   ]
  },
  {
   "cell_type": "code",
   "execution_count": 200,
   "metadata": {},
   "outputs": [
    {
     "data": {
      "text/plain": [
       "(1, 130, 155)"
      ]
     },
     "execution_count": 200,
     "metadata": {},
     "output_type": "execute_result"
    }
   ],
   "source": [
    "mask_master = mask_land_and_nan(dv_field, mask)\n",
    "mask_master.shape"
   ]
  },
  {
   "cell_type": "markdown",
   "metadata": {},
   "source": [
    "Flatten the master mask into ensemble space to reference the grid cell number that the mask corresponds to. "
   ]
  },
  {
   "cell_type": "code",
   "execution_count": 201,
   "metadata": {},
   "outputs": [],
   "source": [
    "idx = mask_land_and_nan_ens_index(mask_master)"
   ]
  },
  {
   "cell_type": "markdown",
   "metadata": {},
   "source": [
    "Calculate the areas of each grid cell."
   ]
  },
  {
   "cell_type": "code",
   "execution_count": 202,
   "metadata": {},
   "outputs": [
    {
     "data": {
      "text/plain": [
       "(1, 20150)"
      ]
     },
     "execution_count": 202,
     "metadata": {},
     "output_type": "execute_result"
    }
   ],
   "source": [
    "area = frac_grid_area(ds['rlon'], ds['rlat'])\n",
    "area_relevent_grid_cells = area.reshape(1, -1)\n",
    "area_relevent_grid_cells.shape"
   ]
  },
  {
   "cell_type": "markdown",
   "metadata": {},
   "source": [
    "Flatten the ensemble data cube design values."
   ]
  },
  {
   "cell_type": "code",
   "execution_count": 203,
   "metadata": {},
   "outputs": [],
   "source": [
    "ens = ens_flat(ds['dv'].values)"
   ]
  },
  {
   "cell_type": "markdown",
   "metadata": {},
   "source": [
    "Calculate the mean of each grid cell along the ensemble members."
   ]
  },
  {
   "cell_type": "code",
   "execution_count": 204,
   "metadata": {},
   "outputs": [],
   "source": [
    "mean = ens.mean(axis=0).reshape(1, -1)"
   ]
  },
  {
   "cell_type": "markdown",
   "metadata": {},
   "source": [
    "Weight each design value in the ensemble by its corresponding grid cell area, then subtract the mean of that grid cell across the ensemble. This corresponds to \n",
    "$$X' = \\left(I_n - \\frac{1}{n}1_n\\right)X$$\n",
    "and\n",
    "$$X'_w = X' W$$\n",
    "in Chao's methods."
   ]
  },
  {
   "cell_type": "code",
   "execution_count": 205,
   "metadata": {},
   "outputs": [],
   "source": [
    "corr_ens = (ens - mean)*area_relevent_grid_cells      \n",
    "corr_ens = corr_ens[:, idx]"
   ]
  },
  {
   "cell_type": "markdown",
   "metadata": {},
   "source": [
    "The next step is to calculate the first $N$ eof's that explain up to 95% of the variance. Then take only the relavent grid cells by the master mask's ensemble representation, with indices in `idx`"
   ]
  },
  {
   "cell_type": "code",
   "execution_count": 206,
   "metadata": {},
   "outputs": [
    {
     "name": "stdout",
     "output_type": "stream",
     "text": [
      "EOF Shape:  (12, 9005)\n"
     ]
    },
    {
     "data": {
      "text/plain": [
       "sklearn.decomposition.pca.PCA"
      ]
     },
     "execution_count": 206,
     "metadata": {},
     "output_type": "execute_result"
    }
   ],
   "source": [
    "ens_eof = ens_to_eof(corr_ens).components_\n",
    "#corr_ens_full_size[:ens_eof.shape[0], idx] = ens_eof\n",
    "\n",
    "print(\"EOF Shape: \", ens_eof.shape)\n",
    "type(ens_to_eof(corr_ens))"
   ]
  },
  {
   "cell_type": "markdown",
   "metadata": {},
   "source": [
    "With the fitted EOF pattern, we can take a look at how the EOFs reduce the dimensionality of the ensemble space, by looking at the `explained variance` of each principal component."
   ]
  },
  {
   "cell_type": "code",
   "execution_count": 207,
   "metadata": {},
   "outputs": [
    {
     "data": {
      "image/png": "[encoded data removed]",
      "text/plain": [
       "<Figure size 432x288 with 1 Axes>"
      ]
     },
     "metadata": {
      "needs_background": "light"
     },
     "output_type": "display_data"
    },
    {
     "data": {
      "image/png": "[encoded data removed]",
      "text/plain": [
       "<Figure size 432x288 with 1 Axes>"
      ]
     },
     "metadata": {
      "needs_background": "light"
     },
     "output_type": "display_data"
    }
   ],
   "source": [
    "sns.lineplot(range(ens_eof.shape[0]), \n",
    "             ens_to_eof(corr_ens).explained_variance_ratio_, \n",
    "             label='explained variance ratio')\n",
    "plt.xlabel('Principal Component')\n",
    "plt.ylabel('Explained Variance Ratio')\n",
    "plt.show()\n",
    "sns.lineplot(range(ens_eof.shape[0]), \n",
    "             np.cumsum(ens_to_eof(corr_ens).explained_variance_ratio_),\n",
    "             label='cumulative explained variance to 95%')\n",
    "plt.xlabel('Principal Component')\n",
    "plt.ylabel('Explained Variance Ratio')\n",
    "plt.show()"
   ]
  },
  {
   "cell_type": "markdown",
   "metadata": {},
   "source": [
    "Extend the rotated latitude and longitude into the ensemble space, assigning a lat and lon to each grid cell in the ensemble array. Also correct the rotated pole configuration into a non-rotated reference frame."
   ]
  },
  {
   "cell_type": "code",
   "execution_count": 208,
   "metadata": {},
   "outputs": [],
   "source": [
    "rlon = ds['rlon'].values.copy()\n",
    "rlat = ds['rlat'].values.copy()\n",
    "lat, lon = ds['lat'], ds['rlat']"
   ]
  },
  {
   "cell_type": "markdown",
   "metadata": {},
   "source": [
    "Using the lat(rlon, rlat) and lon(rlon, rlat) grids, look up the corresponding lat and lon in the normal lat and lon projection."
   ]
  },
  {
   "cell_type": "code",
   "execution_count": 209,
   "metadata": {},
   "outputs": [],
   "source": [
    "rcoord_ens_dict = rlat_rlon_to_ens(rlat, rlon)\n",
    "rlat_ens = rcoord_ens_dict['rlat'][idx]\n",
    "rlon_ens = rcoord_ens_dict['rlon'][idx]\n",
    "\n",
    "lat_lon_ens = list(zip(rlat_ens, rlon_ens))"
   ]
  },
  {
   "cell_type": "markdown",
   "metadata": {},
   "source": [
    "We are now done with preprocessing the models. \n",
    "\n",
    "### Observations\n",
    "\n",
    "Read in the MSC query observations, and zip together the latitude and longitudes of the stations where the observations were found into a list of tuples representing lat,lon coordinates."
   ]
  },
  {
   "cell_type": "code",
   "execution_count": 225,
   "metadata": {},
   "outputs": [],
   "source": [
    "df = pd.read_csv('../data/hdd_1991_2016', index_col=None)"
   ]
  },
  {
   "cell_type": "code",
   "execution_count": 226,
   "metadata": {},
   "outputs": [],
   "source": [
    "#df = df[df['completeness'] > 0.9]"
   ]
  },
  {
   "cell_type": "code",
   "execution_count": 227,
   "metadata": {},
   "outputs": [],
   "source": [
    "lat_lon_obs = list(zip(df['lat'], df['lon']))\n",
    "lat_obs, lon_obs = zip(*lat_lon_obs)\n",
    "\n",
    "coords = to_rotated(lat_obs, lon_obs)\n",
    "rlat_obs, rlon_obs = np.array(coords['rlat_obs']), np.array(coords['rlon_obs'])\n",
    "\n",
    "lat_lon_obs = list(zip(rlat_obs, rlon_obs))"
   ]
  },
  {
   "cell_type": "markdown",
   "metadata": {},
   "source": [
    "Using the euclidean distance, find the _**index location**_ of the grid in the ensemble space that is closest to the observation. Add it to the dataframe. \n",
    "\n",
    "Note that this method only tells us which grid cell in the ensemble space is closest to the observation lat, lon. It does not tell us what the actual lat,lon value of that grid cell is."
   ]
  },
  {
   "cell_type": "code",
   "execution_count": 228,
   "metadata": {},
   "outputs": [],
   "source": [
    "df['nearest_grid'] = dist_index(lat_lon_obs, lat_lon_ens)"
   ]
  },
  {
   "cell_type": "code",
   "execution_count": null,
   "metadata": {},
   "outputs": [],
   "source": []
  },
  {
   "cell_type": "markdown",
   "metadata": {},
   "source": [
    "If more than one station occupy a CanRCM4 grid cell, take the mean of all of those station's design value."
   ]
  },
  {
   "cell_type": "code",
   "execution_count": 229,
   "metadata": {},
   "outputs": [],
   "source": [
    "df = df[df['completeness']>0.80]\n",
    "ndf = df['hdd'].groupby(df['nearest_grid']).mean()\n",
    "\n",
    "# create an array containing the indices in ensemble space\n",
    "# of the corresponding observed design values\n",
    "match_ens_obs_idx = np.asarray(ndf.index)\n"
   ]
  },
  {
   "cell_type": "markdown",
   "metadata": {},
   "source": [
    "Weight the observations by area, just like they were weighted in the models. \n",
    "\n",
    "$$y_g' = y_g W$$\n",
    "\n",
    "Only bother with the indices that are matched to the ensemble space.\n"
   ]
  },
  {
   "cell_type": "code",
   "execution_count": 230,
   "metadata": {},
   "outputs": [
    {
     "name": "stdout",
     "output_type": "stream",
     "text": [
      "Check that the observations and the EOFs contain the same number of grids: \n",
      "EOF shape:  (12, 399) \n",
      "Matched Obs shape:  (399,)\n"
     ]
    }
   ],
   "source": [
    "match_obs_ens = np.array(ndf)*area_relevent_grid_cells[:, match_ens_obs_idx]\n",
    "match_model_ens = ens_eof[:, match_ens_obs_idx]\n",
    "\n",
    "print(\"Check that the observations and the EOFs contain the same number of grids:\",\n",
    "      '\\nEOF shape: ', match_model_ens.shape, '\\n'\n",
    "      'Matched Obs shape: ', match_obs_ens[0, :].shape)"
   ]
  },
  {
   "cell_type": "markdown",
   "metadata": {},
   "source": [
    "Now regress the matched ensemble array EOFs with the observations, and create a model via least squares regression. Corresponding to the EOFs where $\\beta$ and $\\epsilon$ are the best fit parameter vectors.\n",
    "$$y_{g, \\perp} = V_{1:k, \\perp}\\beta+\\epsilon$$"
   ]
  },
  {
   "cell_type": "code",
   "execution_count": 231,
   "metadata": {},
   "outputs": [
    {
     "name": "stdout",
     "output_type": "stream",
     "text": [
      "Regressed model score: 0.8667300438012628\n"
     ]
    }
   ],
   "source": [
    "model = regress_eof(match_model_ens.T, match_obs_ens[0, :])"
   ]
  },
  {
   "cell_type": "markdown",
   "metadata": {},
   "source": [
    "Now that the model is created, we can use it to reconstruct design values for the rest of the grid cells in the ensemble. "
   ]
  },
  {
   "cell_type": "code",
   "execution_count": 232,
   "metadata": {},
   "outputs": [],
   "source": [
    "predictions = predict_dv(model, ens_eof.T)"
   ]
  },
  {
   "cell_type": "code",
   "execution_count": 233,
   "metadata": {},
   "outputs": [],
   "source": [
    "latlist, lonlist = zip(*list(lat_lon_ens))"
   ]
  },
  {
   "cell_type": "markdown",
   "metadata": {},
   "source": [
    "Undo the areal weighting, and convert from units of `0.1 deg C` to `deg C` for the matched observations. This corresponds to:\n",
    "$$y = V_{1:k}\\beta W^{-1}$$"
   ]
  },
  {
   "cell_type": "code",
   "execution_count": 234,
   "metadata": {},
   "outputs": [],
   "source": [
    "observations = .10*match_obs_ens/area_relevent_grid_cells[:, match_ens_obs_idx] \n",
    "reconstructed_observations = .10*predictions[match_ens_obs_idx]/area_relevent_grid_cells[:, match_ens_obs_idx]"
   ]
  },
  {
   "cell_type": "markdown",
   "metadata": {},
   "source": [
    "Predict design values for CanRCM4 grid cells, and compare them with the real observations at those same points.\n",
    "\n",
    "See how well it compares with a 1:1 relationship."
   ]
  },
  {
   "cell_type": "code",
   "execution_count": 248,
   "metadata": {},
   "outputs": [
    {
     "name": "stdout",
     "output_type": "stream",
     "text": [
      "slope 0.855956203310417\n",
      "EOF Score 0.8667300438012628\n",
      "rmse 2460.4102326278844\n",
      "r2 of linear fit 0.8533045234920088\n"
     ]
    },
    {
     "data": {
      "text/plain": [
       "array([ 0.8559562 , 66.65030451])"
      ]
     },
     "execution_count": 248,
     "metadata": {},
     "output_type": "execute_result"
    }
   ],
   "source": [
    "from sklearn.linear_model import LinearRegression\n",
    "from sklearn.metrics import mean_squared_error, r2_score\n",
    "\n",
    "# Model initialization\n",
    "regression_model = LinearRegression()\n",
    "# Fit the data(train the model)\n",
    "regression_model.fit(observations.T, reconstructed_observations.T)\n",
    "\n",
    "print(\"slope\", regression_model.coef_[0][0])\n",
    "\n",
    "y_predicted = regression_model.predict(observations.T)\n",
    "# model evaluation\n",
    "rmse = mean_squared_error(reconstructed_observations.T, y_predicted)\n",
    "r2 = r2_score(reconstructed_observations.T, y_predicted)\n",
    "print('EOF Score', model.score(match_model_ens.T, match_obs_ens[0, :]))\n",
    "print('rmse', rmse)\n",
    "print('r2 of linear fit', r2)\n",
    "\n",
    "observations.T[:, 0]\n",
    "np.polyfit(observations.T[:, 0], reconstructed_observations.T[:, 0], 1)"
   ]
  },
  {
   "cell_type": "code",
   "execution_count": 239,
   "metadata": {},
   "outputs": [
    {
     "name": "stdout",
     "output_type": "stream",
     "text": [
      "slope 0.855956203310417\n",
      "EOF Score 0.8667300438012628\n",
      "rmse 2460.4102326278844\n",
      "r2 of linear fit 0.8533045234920088\n"
     ]
    },
    {
     "data": {
      "image/png": "[encoded data removed]",
      "text/plain": [
       "<Figure size 792x576 with 2 Axes>"
      ]
     },
     "metadata": {
      "needs_background": "light"
     },
     "output_type": "display_data"
    }
   ],
   "source": [
    "fig = plt.figure(figsize=(11, 8))\n",
    "ax = plt.axes()\n",
    "\n",
    "ax.plot(observations.T[:, 0], \n",
    "        y_predicted[:, 0],\n",
    "        ls=':',\n",
    "        lw=3,\n",
    "        color='red',\n",
    "        label='best fit: {} x + {}'.format(regression_model.coef_[0][0], \n",
    "                                             regression_model.intercept_[0]),\n",
    ")\n",
    "\n",
    "cplot = ax.scatter(observations[0, :],\n",
    "            reconstructed_observations[0, :],\n",
    "            marker='x', \n",
    "            cmap='viridis',\n",
    "            c=rlat_ens[match_ens_obs_idx])\n",
    "\n",
    "cbar = plt.colorbar(cplot, orientation='vertical',fraction=0.056, pad=0.025)\n",
    "cbar.ax.set_ylabel('Latitude [deg]')\n",
    "plt.title('HDD for {} stations from 1991-2016'.format(observations.shape[1]))\n",
    "ax.plot(observations[0, :], observations[0, :], color='r', label='1:1 line')\n",
    "plt.legend()\n",
    "plt.xlabel('Real Observations [Celsius]')\n",
    "plt.ylabel('Predicted Observations [Celsius]')\n",
    "plt.text(800, 400, \"EOF R^2 Score: {}\".format(model.score(match_model_ens.T, match_obs_ens[0, :])))\n",
    "plt.savefig('/home/nannau/Pictures/hdd')\n",
    "plt.show()"
   ]
  },
  {
   "cell_type": "code",
   "execution_count": 185,
   "metadata": {},
   "outputs": [
    {
     "data": {
      "text/plain": [
       "'# generate pseudo observations from models to \\n# compare the reconstruction to real observations with\\npseudo_ens_obs, pseudo_idx = generate_pseudo_obs(ens[:, idx], 0.1)\\n\\nmatch_obs_ens = pseudo_ens_obs*area_relevent_grid_cells[:, pseudo_idx]\\nmatch_model_ens = ens_eof[:, pseudo_idx]\\n\\nprint(\"Check that the observations and the EOFs contain the same number of grids:\",\\n      \\'\\nEOF shape: \\', match_model_ens.shape, \\'\\n\\'\\n      \\'Matched Obs shape: \\', match_obs_ens[0, :].shape)\\n\\nprint(ens_eof.shape, ens[0, idx].shape, match_model_ens.T.shape, match_obs_ens[0, :].shape)\\n\\nmodel = regress_eof(match_model_ens.T, match_obs_ens[0, :])\\npredictions = predict_dv(model, ens_eof.T)\\n\\nprint(ens_eof.shape, ens.shape)\\n\\nobservations = .10*ens[0, idx]/area_relevent_grid_cells[:, idx]\\nreconstructed_observations = .10*predictions/area_relevent_grid_cells[:, idx]\\n\\n# Model initialization\\nregression_model = LinearRegression()\\n# Fit the data(train the model)\\nregression_model.fit(observations.T, reconstructed_observations.T)\\n\\nprint(regression_model.coef_[0][0])\\n\\ny_predicted = regression_model.predict(observations.T)\\n# model evaluation\\nrmse = mean_squared_error(reconstructed_observations.T, y_predicted)\\nr2 = r2_score(reconstructed_observations.T, y_predicted)\\nprint(\\'r2\\', r2)\\nprint(\\'rmse\\', rmse)\\n\\nfig = plt.figure(figsize=(11, 8))\\nax = plt.axes()\\nax.plot(observations.T[:, 0], \\n             y_predicted[:, 0],\\n             label=\\'Best fit: {} x + {}\\'.format(regression_model.coef_[0][0], \\n                                             regression_model.intercept_[0])\\n)\\ncplot = ax.scatter(observations[0, :],\\n            reconstructed_observations[0, :],\\n            marker=\\'x\\', \\n            cmap=\\'viridis\\',\\n            )\\n\\n#cbar = plt.colorbar(cplot, orientation=\\'vertical\\',fraction=0.056, pad=0.025)\\n#cbar.ax.set_ylabel(\\'Latitude [deg]\\')\\nplt.title(\\'Correlation using {} pseudo stations\\'.format(observations.shape[1]))\\nax.plot(observations[0, :], observations[0, :], color=\\'r\\', label=\\'1:1 Correlation\\')\\nplt.legend()\\nplt.xlabel(\\'Real Observations [Celsius]\\')\\nplt.ylabel(\\'Predicted Observations [Celsius]\\')\\nplt.savefig(\\'plots/first_predictions_using_pseudo_obs.pdf\\')'"
      ]
     },
     "execution_count": 185,
     "metadata": {},
     "output_type": "execute_result"
    }
   ],
   "source": [
    "\"\"\"# generate pseudo observations from models to \n",
    "# compare the reconstruction to real observations with\n",
    "pseudo_ens_obs, pseudo_idx = generate_pseudo_obs(ens[:, idx], 0.1)\n",
    "\n",
    "match_obs_ens = pseudo_ens_obs*area_relevent_grid_cells[:, pseudo_idx]\n",
    "match_model_ens = ens_eof[:, pseudo_idx]\n",
    "\n",
    "print(\"Check that the observations and the EOFs contain the same number of grids:\",\n",
    "      '\\nEOF shape: ', match_model_ens.shape, '\\n'\n",
    "      'Matched Obs shape: ', match_obs_ens[0, :].shape)\n",
    "\n",
    "print(ens_eof.shape, ens[0, idx].shape, match_model_ens.T.shape, match_obs_ens[0, :].shape)\n",
    "\n",
    "model = regress_eof(match_model_ens.T, match_obs_ens[0, :])\n",
    "predictions = predict_dv(model, ens_eof.T)\n",
    "\n",
    "print(ens_eof.shape, ens.shape)\n",
    "\n",
    "observations = .10*ens[0, idx]/area_relevent_grid_cells[:, idx]\n",
    "reconstructed_observations = .10*predictions/area_relevent_grid_cells[:, idx]\n",
    "\n",
    "# Model initialization\n",
    "regression_model = LinearRegression()\n",
    "# Fit the data(train the model)\n",
    "regression_model.fit(observations.T, reconstructed_observations.T)\n",
    "\n",
    "print(regression_model.coef_[0][0])\n",
    "\n",
    "y_predicted = regression_model.predict(observations.T)\n",
    "# model evaluation\n",
    "rmse = mean_squared_error(reconstructed_observations.T, y_predicted)\n",
    "r2 = r2_score(reconstructed_observations.T, y_predicted)\n",
    "print('r2', r2)\n",
    "print('rmse', rmse)\n",
    "\n",
    "fig = plt.figure(figsize=(11, 8))\n",
    "ax = plt.axes()\n",
    "ax.plot(observations.T[:, 0], \n",
    "             y_predicted[:, 0],\n",
    "             label='Best fit: {} x + {}'.format(regression_model.coef_[0][0], \n",
    "                                             regression_model.intercept_[0])\n",
    ")\n",
    "cplot = ax.scatter(observations[0, :],\n",
    "            reconstructed_observations[0, :],\n",
    "            marker='x', \n",
    "            cmap='viridis',\n",
    "            )\n",
    "\n",
    "#cbar = plt.colorbar(cplot, orientation='vertical',fraction=0.056, pad=0.025)\n",
    "#cbar.ax.set_ylabel('Latitude [deg]')\n",
    "plt.title('Correlation using {} pseudo stations'.format(observations.shape[1]))\n",
    "ax.plot(observations[0, :], observations[0, :], color='r', label='1:1 Correlation')\n",
    "plt.legend()\n",
    "plt.xlabel('Real Observations [Celsius]')\n",
    "plt.ylabel('Predicted Observations [Celsius]')\n",
    "plt.savefig('plots/first_predictions_using_pseudo_obs.pdf')\"\"\""
   ]
  },
  {
   "cell_type": "markdown",
   "metadata": {},
   "source": [
    "Plot the stations used in the regression over top of their closest CanRCM4 grid cell for an instance of the CanRCM4 ensemble.  "
   ]
  },
  {
   "cell_type": "code",
   "execution_count": null,
   "metadata": {},
   "outputs": [],
   "source": [
    "from matplotlib import cm \n",
    "\n",
    "fig = plt.figure(figsize = (19, 14))\n",
    "\n",
    "states_provinces = cfeature.NaturalEarthFeature(\n",
    "    category='cultural',\n",
    "    name='admin_1_states_provinces_lines',\n",
    "    scale='10m',\n",
    "    facecolor='none')\n",
    "\n",
    "rp = ccrs.RotatedPole(pole_latitude=42.5, pole_longitude=-97+180)\n",
    "\n",
    "\n",
    "ocean = cartopy.feature.NaturalEarthFeature('physical', \n",
    "                                            'ocean',\n",
    "                                            '10m',\n",
    "                                            edgecolor='k',\n",
    "                                            facecolor='white')\n",
    "\n",
    "\n",
    "cmap = mpl.colors.ListedColormap(sns.color_palette('coolwarm'), 10)\n",
    "\n",
    "# define projections\n",
    "ax = plt.axes(projection=rp)\n",
    "ax.coastlines(resolution='110m')\n",
    "ax.add_feature(states_provinces, edgecolor='black')\n",
    "ax.add_feature(cfeature.BORDERS)\n",
    "ax.add_feature(ocean, zorder=0)\n",
    "\n",
    "cplot = ax.scatter(rlon_ens[idx], \n",
    "           rlat_ens[idx],\n",
    "           c=ens[0, idx],\n",
    "           transform=rp,\n",
    "           zorder=1,\n",
    "           marker='s',\n",
    "           cmap=cmap,\n",
    "           vmin=-5,\n",
    "           vmax=-55)\n",
    "\n",
    "ax.scatter(rlon_ens[idx][match_ens_obs_idx], \n",
    "           rlat_ens[idx][match_ens_obs_idx],\n",
    "           transform=rp,\n",
    "           zorder=2,\n",
    "           marker='x',\n",
    "           color='purple',\n",
    "           label='CanRCM4 Grid Cells with Gridded Stations')\n",
    "\n",
    "\n",
    "cbar = plt.colorbar(cplot, \n",
    "                    orientation='horizontal', \n",
    "                    fraction=0.056, \n",
    "                    pad=0.025)\n",
    "\n",
    "cbar.ax.set_xlabel('Temperature [deg C]', fontsize=18)\n",
    "# constrain to data\n",
    "plt.xlim(rlon_ens.min(), rlon_ens.max())\n",
    "plt.ylim(rlat_ens.min()+23, rlat_ens.max()+2)\n",
    "plt.title(\"Jan 1.0p CanRCM4 Model Distribution with {} Gridded Stations from 1991-2016\".format(observations.shape[1]), fontsize=18)\n",
    "plt.legend(fontsize=18)\n",
    "#plt.savefig('plots/jan_1.0p_field_and_stations.png')\n",
    "plt.show()\n"
   ]
  },
  {
   "cell_type": "code",
   "execution_count": null,
   "metadata": {},
   "outputs": [],
   "source": []
  }
 ],
 "metadata": {
  "kernelspec": {
   "display_name": "Python 3",
   "language": "python",
   "name": "python3"
  },
  "language_info": {
   "codemirror_mode": {
    "name": "ipython",
    "version": 3
   },
   "file_extension": ".py",
   "mimetype": "text/x-python",
   "name": "python",
   "nbconvert_exporter": "python",
   "pygments_lexer": "ipython3",
   "version": "3.6.7"
  }
 },
 "nbformat": 4,
 "nbformat_minor": 4
}
