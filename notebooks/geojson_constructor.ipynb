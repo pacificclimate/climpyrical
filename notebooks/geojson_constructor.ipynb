{
 "cells": [
  {
   "cell_type": "code",
   "execution_count": null,
   "metadata": {},
   "outputs": [],
   "source": [
    "import json\n",
    "\n",
    "geos = []\n",
    "for longs,lats in LongLatList\n",
    "    poly = {\n",
    "        'type': 'Polygon',\n",
    "        'design_value': dv\n",
    "        'coordinates': [[lon,lat] for lon,lat in zip(longs,lats) ]\n",
    "    }\n",
    "    geos.append(poly)\n",
    "\n",
    "geometries = {\n",
    "    'type': 'FeatureCollection',\n",
    "    'features': geos,\n",
    "}\n",
    "\n",
    "geo_str = json.dumps(geometries) // import json"
   ]
  }
 ],
 "metadata": {
  "kernelspec": {
   "display_name": "Python 3",
   "language": "python",
   "name": "python3"
  },
  "language_info": {
   "codemirror_mode": {
    "name": "ipython",
    "version": 3
   },
   "file_extension": ".py",
   "mimetype": "text/x-python",
   "name": "python",
   "nbconvert_exporter": "python",
   "pygments_lexer": "ipython3",
   "version": "3.6.8"
  }
 },
 "nbformat": 4,
 "nbformat_minor": 4
}
