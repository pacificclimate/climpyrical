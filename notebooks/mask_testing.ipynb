{
 "cells": [
  {
   "cell_type": "code",
   "execution_count": 13,
   "metadata": {},
   "outputs": [],
   "source": [
    "import numpy as np\n",
    "import numpy.ma as ma"
   ]
  },
  {
   "cell_type": "code",
   "execution_count": 14,
   "metadata": {},
   "outputs": [
    {
     "name": "stdout",
     "output_type": "stream",
     "text": [
      "Before, \n",
      " [[[0.3745401188473625 0.9507143064099162 0.7319939418114051\n",
      "   0.5986584841970366]\n",
      "  [0.15601864044243652 0.15599452033620265 -- 0.8661761457749352]\n",
      "  [0.6011150117432088 0.7080725777960455 -- 0.9699098521619943]]\n",
      "\n",
      " [[0.8324426408004217 0.21233911067827616 0.18182496720710062\n",
      "   0.18340450985343382]\n",
      "  [0.3042422429595377 0.5247564316322378 0.43194501864211576\n",
      "   0.2912291401980419]\n",
      "  [0.6118528947223795 0.13949386065204183 0.29214464853521815\n",
      "   0.3663618432936917]]]\n",
      "Shape,  (2, 3, 4)\n"
     ]
    }
   ],
   "source": [
    "np.random.seed(42)\n",
    "x = ma.MaskedArray(ma.masked_less(np.random.rand(2, 3, 4), 0.1))\n",
    "\n",
    "print(\"Before, \\n\", x)\n",
    "print(\"Shape, \", x.shape)\n",
    "mask = np.apply_over_axes(np.logical_or.reduce, x.mask, (0))\n",
    "mask = np.broadcast_to(mask, x.shape)"
   ]
  },
  {
   "cell_type": "code",
   "execution_count": 15,
   "metadata": {},
   "outputs": [
    {
     "name": "stdout",
     "output_type": "stream",
     "text": [
      "New mask: \n",
      " [[[0.3745401188473625 0.9507143064099162 0.7319939418114051\n",
      "   0.5986584841970366]\n",
      "  [0.15601864044243652 0.15599452033620265 -- 0.8661761457749352]\n",
      "  [0.6011150117432088 0.7080725777960455 -- 0.9699098521619943]]\n",
      "\n",
      " [[0.8324426408004217 0.21233911067827616 0.18182496720710062\n",
      "   0.18340450985343382]\n",
      "  [0.3042422429595377 0.5247564316322378 -- 0.2912291401980419]\n",
      "  [0.6118528947223795 0.13949386065204183 -- 0.3663618432936917]]]\n",
      "Shape,  (2, 3, 4)\n"
     ]
    }
   ],
   "source": [
    "x = ma.MaskedArray(x, mask)\n",
    "print(\"New mask: \\n\", x)\n",
    "print(\"Shape, \", x.shape)"
   ]
  },
  {
   "cell_type": "code",
   "execution_count": 16,
   "metadata": {},
   "outputs": [
    {
     "name": "stdout",
     "output_type": "stream",
     "text": [
      "Reshape into ensemble size: \n",
      " [[[0.3745401188473625 0.9507143064099162 0.7319939418114051\n",
      "   0.5986584841970366]\n",
      "  [0.15601864044243652 0.15599452033620265 -- 0.8661761457749352]\n",
      "  [0.6011150117432088 0.7080725777960455 -- 0.9699098521619943]]\n",
      "\n",
      " [[0.8324426408004217 0.21233911067827616 0.18182496720710062\n",
      "   0.18340450985343382]\n",
      "  [0.3042422429595377 0.5247564316322378 -- 0.2912291401980419]\n",
      "  [0.6118528947223795 0.13949386065204183 -- 0.3663618432936917]]]\n",
      "Shape,  (2, 3, 4)\n"
     ]
    }
   ],
   "source": [
    "x_b = x.reshape((x.shape[0], x.shape[1]*x.shape[2])).T\n",
    "print(\"Reshape into ensemble size: \\n\", x) \n",
    "print(\"Shape, \", x.shape)"
   ]
  },
  {
   "cell_type": "code",
   "execution_count": 58,
   "metadata": {},
   "outputs": [
    {
     "name": "stdout",
     "output_type": "stream",
     "text": [
      "Good rows only \n",
      " [[0.37454012 0.83244264]\n",
      " [0.95071431 0.21233911]\n",
      " [0.73199394 0.18182497]\n",
      " [0.59865848 0.18340451]\n",
      " [0.15601864 0.30424224]\n",
      " [0.15599452 0.52475643]\n",
      " [0.86617615 0.29122914]\n",
      " [0.60111501 0.61185289]\n",
      " [0.70807258 0.13949386]\n",
      " [0.96990985 0.36636184]]\n",
      "Shape,  (10, 2)\n"
     ]
    }
   ],
   "source": [
    "x = x_b.data[~x_b.mask[:,0], :]\n",
    "indx = np.arange(0, x_b.shape[0])\n",
    "print(\"Good rows only \\n\", x)\n",
    "print(\"Shape, \", x.shape)"
   ]
  },
  {
   "cell_type": "code",
   "execution_count": 73,
   "metadata": {},
   "outputs": [
    {
     "data": {
      "text/plain": [
       "masked_array(\n",
       "  data=[[0.0, 0.0],\n",
       "        [0.3745401188473625, 0.8324426408004217],\n",
       "        [1.0, 1.0],\n",
       "        [0.9507143064099162, 0.21233911067827616],\n",
       "        [2.0, 2.0],\n",
       "        [0.7319939418114051, 0.18182496720710062],\n",
       "        [3.0, 3.0],\n",
       "        [0.5986584841970366, 0.18340450985343382],\n",
       "        [4.0, 4.0],\n",
       "        [0.15601864044243652, 0.3042422429595377],\n",
       "        [5.0, 5.0],\n",
       "        [0.15599452033620265, 0.5247564316322378],\n",
       "        [6.0, 6.0],\n",
       "        [--, --],\n",
       "        [7.0, 7.0],\n",
       "        [0.8661761457749352, 0.2912291401980419],\n",
       "        [8.0, 8.0],\n",
       "        [0.6011150117432088, 0.6118528947223795],\n",
       "        [9.0, 9.0],\n",
       "        [0.7080725777960455, 0.13949386065204183],\n",
       "        [10.0, 10.0],\n",
       "        [--, --],\n",
       "        [11.0, 11.0],\n",
       "        [0.9699098521619943, 0.3663618432936917]],\n",
       "  mask=[[False, False],\n",
       "        [False, False],\n",
       "        [False, False],\n",
       "        [False, False],\n",
       "        [False, False],\n",
       "        [False, False],\n",
       "        [False, False],\n",
       "        [False, False],\n",
       "        [False, False],\n",
       "        [False, False],\n",
       "        [False, False],\n",
       "        [False, False],\n",
       "        [False, False],\n",
       "        [ True,  True],\n",
       "        [False, False],\n",
       "        [False, False],\n",
       "        [False, False],\n",
       "        [False, False],\n",
       "        [False, False],\n",
       "        [False, False],\n",
       "        [False, False],\n",
       "        [ True,  True],\n",
       "        [False, False],\n",
       "        [False, False]],\n",
       "  fill_value=1e+20)"
      ]
     },
     "execution_count": 73,
     "metadata": {},
     "output_type": "execute_result"
    }
   ],
   "source": [
    "x_repeat = np.repeat(x_b, 2, axis=0)\n",
    "indx_reshape = np.repeat(indx, 2).reshape(x_b.shape)\n",
    "x_repeat[::2] = indx_reshape\n",
    "x_repeat"
   ]
  },
  {
   "cell_type": "code",
   "execution_count": 35,
   "metadata": {},
   "outputs": [],
   "source": [
    "import pandas as pd\n",
    "df = pd.read_csv('/home/nannau/Downloads/stellar.csv')[1:]\n",
    "x = pd.to_numeric(df['ASTM E-490 AM0 Standard Spectra']).values\n",
    "y = pd.to_numeric(df['Unnamed: 1']).values\n",
    "standard = pd.to_numeric(df['Unnamed: 6']).values"
   ]
  },
  {
   "cell_type": "code",
   "execution_count": 41,
   "metadata": {},
   "outputs": [],
   "source": [
    "import matplotlib.pyplot as plt\n",
    "import numpy as np"
   ]
  },
  {
   "cell_type": "code",
   "execution_count": 50,
   "metadata": {},
   "outputs": [
    {
     "data": {
      "text/plain": [
       "<matplotlib.collections.LineCollection at 0x7f08d45800f0>"
      ]
     },
     "execution_count": 50,
     "metadata": {},
     "output_type": "execute_result"
    },
    {
     "data": {
      "image/png": "[encoded data removed]",
      "text/plain": [
       "<Figure size 432x288 with 1 Axes>"
      ]
     },
     "metadata": {
      "needs_background": "light"
     },
     "output_type": "display_data"
    }
   ],
   "source": [
    "from matplotlib.collections import LineCollection\n",
    "from matplotlib.colors import ListedColormap, BoundaryNorm\n",
    "\n",
    "import numpy as np\n",
    "import matplotlib.pyplot as plt\n",
    "\n",
    "import matplotlib.pyplot as plt\n",
    "import numpy as np\n",
    "import matplotlib.collections as mcoll\n",
    "import matplotlib.path as mpath\n",
    "\n",
    "def colorline(\n",
    "    x, y, z=None, cmap=plt.get_cmap('copper'), norm=plt.Normalize(0.0, 1.0),\n",
    "        linewidth=3, alpha=1.0):\n",
    "    \"\"\"\n",
    "    http://nbviewer.ipython.org/github/dpsanders/matplotlib-examples/blob/master/colorline.ipynb\n",
    "    http://matplotlib.org/examples/pylab_examples/multicolored_line.html\n",
    "    Plot a colored line with coordinates x and y\n",
    "    Optionally specify colors in the array z\n",
    "    Optionally specify a colormap, a norm function and a line width\n",
    "    \"\"\"\n",
    "\n",
    "    # Default colors equally spaced on [0,1]:\n",
    "    if z is None:\n",
    "        z = np.linspace(0.0, 1.0, len(x))\n",
    "\n",
    "    # Special case if a single number:\n",
    "    if not hasattr(z, \"__iter__\"):  # to check for numerical input -- this is a hack\n",
    "        z = np.array([z])\n",
    "\n",
    "    z = np.asarray(z)\n",
    "\n",
    "    segments = make_segments(x, y)\n",
    "    lc = mcoll.LineCollection(segments, array=z, cmap=cmap, norm=norm,\n",
    "                              linewidth=linewidth, alpha=alpha)\n",
    "\n",
    "    ax = plt.gca()\n",
    "    ax.add_collection(lc)\n",
    "\n",
    "    return lc\n",
    "\n",
    "def make_segments(x, y):\n",
    "    \"\"\"\n",
    "    Create list of line segments from x and y coordinates, in the correct format\n",
    "    for LineCollection: an array of the form numlines x (points per line) x 2 (x\n",
    "    and y) array\n",
    "    \"\"\"\n",
    "\n",
    "    points = np.array([x, y]).T.reshape(-1, 1, 2)\n",
    "    segments = np.concatenate([points[:-1], points[1:]], axis=1)\n",
    "    return segments\n",
    "\n",
    "colorline(x[:600]*10, y[:600], z=standard[:600], cmap=plt.get_cmap('flag'))\n",
    "\n",
    "#plt.xlabel('Wavelength A')\n",
    "#plt.ylabel('Flux Wm-2 nm-1')"
   ]
  },
  {
   "cell_type": "code",
   "execution_count": null,
   "metadata": {},
   "outputs": [],
   "source": []
  }
 ],
 "metadata": {
  "kernelspec": {
   "display_name": "Python 3",
   "language": "python",
   "name": "python3"
  },
  "language_info": {
   "codemirror_mode": {
    "name": "ipython",
    "version": 3
   },
   "file_extension": ".py",
   "mimetype": "text/x-python",
   "name": "python",
   "nbconvert_exporter": "python",
   "pygments_lexer": "ipython3",
   "version": "3.6.7"
  }
 },
 "nbformat": 4,
 "nbformat_minor": 2
}
