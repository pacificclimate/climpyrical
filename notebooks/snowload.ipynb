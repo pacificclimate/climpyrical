{
 "cells": [
  {
   "cell_type": "code",
   "execution_count": 1,
   "metadata": {},
   "outputs": [],
   "source": [
    "import sys\n",
    "sys.path.append('../modules')\n",
    "\n",
    "from datacube import read_data\n",
    "from operators import *\n",
    "from preprocessing import *\n",
    "from eof import *\n",
    "from gridding import *\n",
    "from mapper import *\n",
    "from scipy import interpolate\n",
    "\n",
    "import numpy as np\n",
    "import matplotlib.pyplot as plt\n",
    "import cartopy.crs as ccrs\n",
    "import cartopy.feature as cfeature\n",
    "import cartopy.feature\n",
    "import seaborn as sns\n",
    "import pandas as pd\n",
    "\n",
    "\n",
    "%load_ext autoreload\n",
    "%autoreload 2"
   ]
  },
  {
   "cell_type": "code",
   "execution_count": 2,
   "metadata": {},
   "outputs": [],
   "source": [
    "#PATH = '/storage/data/projects/nrc/CanRCM4_large_ensemble/design_values/tas/hdd/*.nc'\n",
    "#PATH = '/home/nannau/Desktop/ensembles/jan1.0p/*'\n",
    "#PATH = '/storage/data/projects/nrc/CanRCM4_large_ensemble/design_values/tas/jul2.5p/*.nc'"
   ]
  },
  {
   "cell_type": "code",
   "execution_count": 3,
   "metadata": {},
   "outputs": [
    {
     "ename": "ValueError",
     "evalue": "cannot rename 'time' because it is not a variable or dimension in this dataset",
     "output_type": "error",
     "traceback": [
      "\u001b[0;31m---------------------------------------------------------------------------\u001b[0m",
      "\u001b[0;31mValueError\u001b[0m                                Traceback (most recent call last)",
      "\u001b[0;32m<ipython-input-3-48947d7c1f9a>\u001b[0m in \u001b[0;36m<module>\u001b[0;34m\u001b[0m\n\u001b[1;32m      6\u001b[0m \u001b[0;34m\u001b[0m\u001b[0m\n\u001b[1;32m      7\u001b[0m \u001b[0mtest_file\u001b[0m \u001b[0;34m=\u001b[0m \u001b[0mxr\u001b[0m\u001b[0;34m.\u001b[0m\u001b[0mopen_dataset\u001b[0m\u001b[0;34m(\u001b[0m\u001b[0mPATH\u001b[0m\u001b[0;34m)\u001b[0m\u001b[0;34m\u001b[0m\u001b[0;34m\u001b[0m\u001b[0m\n\u001b[0;32m----> 8\u001b[0;31m \u001b[0mtest_file\u001b[0m \u001b[0;34m=\u001b[0m \u001b[0mtest_file\u001b[0m\u001b[0;34m.\u001b[0m\u001b[0mrename\u001b[0m\u001b[0;34m(\u001b[0m\u001b[0;34m{\u001b[0m\u001b[0;34m'time'\u001b[0m\u001b[0;34m:\u001b[0m\u001b[0;34m'run'\u001b[0m\u001b[0;34m}\u001b[0m\u001b[0;34m)\u001b[0m\u001b[0;34m\u001b[0m\u001b[0;34m\u001b[0m\u001b[0m\n\u001b[0m\u001b[1;32m      9\u001b[0m \u001b[0mds\u001b[0m \u001b[0;34m=\u001b[0m \u001b[0mtest_file\u001b[0m\u001b[0;34m.\u001b[0m\u001b[0mrename\u001b[0m\u001b[0;34m(\u001b[0m\u001b[0;34m{\u001b[0m\u001b[0;34m'snw'\u001b[0m\u001b[0;34m:\u001b[0m\u001b[0;34m'dv'\u001b[0m\u001b[0;34m}\u001b[0m\u001b[0;34m)\u001b[0m\u001b[0;34m\u001b[0m\u001b[0;34m\u001b[0m\u001b[0m\n\u001b[1;32m     10\u001b[0m \u001b[0;34m\u001b[0m\u001b[0m\n",
      "\u001b[0;32m~/climpyrical-venv/lib/python3.6/site-packages/xarray/core/dataset.py\u001b[0m in \u001b[0;36mrename\u001b[0;34m(self, name_dict, inplace, **names)\u001b[0m\n\u001b[1;32m   2331\u001b[0m             \u001b[0;32mif\u001b[0m \u001b[0mk\u001b[0m \u001b[0;32mnot\u001b[0m \u001b[0;32min\u001b[0m \u001b[0mself\u001b[0m \u001b[0;32mand\u001b[0m \u001b[0mk\u001b[0m \u001b[0;32mnot\u001b[0m \u001b[0;32min\u001b[0m \u001b[0mself\u001b[0m\u001b[0;34m.\u001b[0m\u001b[0mdims\u001b[0m\u001b[0;34m:\u001b[0m\u001b[0;34m\u001b[0m\u001b[0;34m\u001b[0m\u001b[0m\n\u001b[1;32m   2332\u001b[0m                 raise ValueError(\"cannot rename %r because it is not a \"\n\u001b[0;32m-> 2333\u001b[0;31m                                  \"variable or dimension in this dataset\" % k)\n\u001b[0m\u001b[1;32m   2334\u001b[0m \u001b[0;34m\u001b[0m\u001b[0m\n\u001b[1;32m   2335\u001b[0m         variables, coord_names, dims, indexes = self._rename_all(\n",
      "\u001b[0;31mValueError\u001b[0m: cannot rename 'time' because it is not a variable or dimension in this dataset"
     ]
    }
   ],
   "source": [
    "#ds = read_data(PATH)\n",
    "\n",
    "import xarray as xr\n",
    "\n",
    "PATH = '/storage/data/projects/nrc/CanRCM4_large_ensemble/design_values/snw/snw_CanRCM4-LE_ens35_1951-2016_max_rl50_load.nc'\n",
    "\n",
    "test_file = xr.open_dataset(PATH)\n",
    "test_file = test_file.rename({'time':'run'})\n",
    "ds = test_file.rename({'snw':'dv'})\n",
    "\n",
    "dv_field = ds['dv'].values.copy()\n",
    "ens = ens_flat(dv_field)\n",
    "rlat, rlon = ds['rlat'].values, ds['rlon'].values"
   ]
  },
  {
   "cell_type": "code",
   "execution_count": null,
   "metadata": {},
   "outputs": [],
   "source": [
    "irlon = np.linspace(np.min(rlon), np.max(rlon), rlon.shape[0]*10)\n",
    "irlat = np.linspace(np.min(rlat), np.max(rlat), rlat.shape[0]*10)\n",
    "\n",
    "rlon_ens = np.tile(rlon, rlat.shape[0])\n",
    "rlat_ens = np.repeat(rlat, rlon.shape[0])\n",
    "\n",
    "irlon_ens = np.tile(irlon, irlat.shape[0])\n",
    "irlat_ens = np.repeat(irlat, irlon.shape[0])\n",
    "icoordens = np.array(list(zip(irlon_ens, irlat_ens)))\n",
    "\n",
    "coordens = np.array(list(zip(rlon_ens, rlat_ens)))"
   ]
  },
  {
   "cell_type": "code",
   "execution_count": null,
   "metadata": {},
   "outputs": [],
   "source": [
    "mask = load_land_mask('../data/mask.nc')\n",
    "mask_master = mask_land_and_nan(dv_field, mask)\n",
    "idx_ = mask_land_and_nan_ens_index(mask_master)\n",
    "print(mask_master.shape)\n",
    "#imask = np.tile(mask, (irlon.shape[0]*irlat.shape[0]))\n",
    "mask_master = np.repeat(np.repeat(mask_master, 10, axis=1), 10) # honestly don't know how this works but it does\n",
    "mask_master.shape\n",
    "#idx = mask_land_and_nan_ens_index(mask_master)"
   ]
  },
  {
   "cell_type": "code",
   "execution_count": null,
   "metadata": {},
   "outputs": [],
   "source": [
    "imask = np.expand_dims(np.reshape(mask_master, (irlat.shape[0], irlon.shape[0])), axis=0)\n",
    "imask.shape\n",
    "idx = mask_land_and_nan_ens_index(imask)\n",
    "idx.shape, idx_.shape"
   ]
  },
  {
   "cell_type": "code",
   "execution_count": null,
   "metadata": {},
   "outputs": [],
   "source": [
    "#fmask = interpolate.griddata(coordens, mask_master, icoordens, method = 'cubic', fill_value=False)\n",
    "\n",
    "#imask = fmask.copy()\n",
    "#imask = np.expand_dims(imask.astype(bool), axis=0)\n",
    "\n",
    "#print(mask[0, ...].shape)\n",
    "\n",
    "#plt.figure(figsize=(10, 10))\n",
    "#plt.imshow(mask[0, ...], extent=[np.amin(rlon), np.amax(rlon), np.amin(rlat), np.amax(rlat)], cmap='cool', alpha=0.7)\n",
    "#plt.imshow(imask, cmap='Greys', alpha=0.7)\n",
    "#plt.gca().invert_yaxis()\n",
    "#plt.savefig('/home/nannau/Desktop/maskpic.png')\n",
    "#plt.show()"
   ]
  },
  {
   "cell_type": "code",
   "execution_count": null,
   "metadata": {},
   "outputs": [],
   "source": [
    "#idx = imask == True\n",
    "#idx.shape\n",
    "points = icoordens[idx]"
   ]
  },
  {
   "cell_type": "code",
   "execution_count": null,
   "metadata": {},
   "outputs": [],
   "source": [
    "iens = np.broadcast_to(np.reshape(imask, (irlon.shape[0]*irlat.shape[0])), (dv_field.shape[0], irlon.shape[0]*irlat.shape[0])).copy().astype(float)\n"
   ]
  },
  {
   "cell_type": "code",
   "execution_count": 10,
   "metadata": {},
   "outputs": [
    {
     "data": {
      "text/plain": [
       "((35, 2015000), (35, 20150))"
      ]
     },
     "execution_count": 10,
     "metadata": {},
     "output_type": "execute_result"
    }
   ],
   "source": [
    "points = icoordens[idx]\n",
    "\n",
    "for i in range(dv_field.shape[0]):\n",
    "    iens[i, idx] = interpolate.griddata(coordens[idx_], ens[i, idx_], points, method='linear')\n",
    "\n",
    "iens.shape, ens.shape"
   ]
  },
  {
   "cell_type": "code",
   "execution_count": 77,
   "metadata": {},
   "outputs": [
    {
     "ename": "NameError",
     "evalue": "name 'iens' is not defined",
     "output_type": "error",
     "traceback": [
      "\u001b[0;31m---------------------------------------------------------------------------\u001b[0m",
      "\u001b[0;31mNameError\u001b[0m                                 Traceback (most recent call last)",
      "\u001b[0;32m<ipython-input-77-2526f88b7eb0>\u001b[0m in \u001b[0;36m<module>\u001b[0;34m\u001b[0m\n\u001b[1;32m      1\u001b[0m nan_mask = np.apply_over_axes(\n\u001b[1;32m      2\u001b[0m                 \u001b[0mnp\u001b[0m\u001b[0;34m.\u001b[0m\u001b[0mlogical_or\u001b[0m\u001b[0;34m.\u001b[0m\u001b[0mreduce\u001b[0m\u001b[0;34m,\u001b[0m\u001b[0;34m\u001b[0m\u001b[0;34m\u001b[0m\u001b[0m\n\u001b[0;32m----> 3\u001b[0;31m                 \u001b[0mnp\u001b[0m\u001b[0;34m.\u001b[0m\u001b[0misnan\u001b[0m\u001b[0;34m(\u001b[0m\u001b[0miens\u001b[0m\u001b[0;34m)\u001b[0m\u001b[0;34m,\u001b[0m\u001b[0;34m\u001b[0m\u001b[0;34m\u001b[0m\u001b[0m\n\u001b[0m\u001b[1;32m      4\u001b[0m                 \u001b[0;34m(\u001b[0m\u001b[0;36m0\u001b[0m\u001b[0;34m)\u001b[0m\u001b[0;34m\u001b[0m\u001b[0;34m\u001b[0m\u001b[0m\n\u001b[1;32m      5\u001b[0m )\n",
      "\u001b[0;31mNameError\u001b[0m: name 'iens' is not defined"
     ]
    }
   ],
   "source": [
    "nan_mask = np.apply_over_axes(\n",
    "                np.logical_or.reduce,\n",
    "                np.isnan(iens),\n",
    "                (0)\n",
    ")\n",
    "\n",
    "master_idx = ~np.logical_or(~mask_master, nan_mask).flatten()\n",
    "\n",
    "iens[:, master_idx]"
   ]
  },
  {
   "cell_type": "code",
   "execution_count": 76,
   "metadata": {},
   "outputs": [
    {
     "ename": "NameError",
     "evalue": "name 'iens' is not defined",
     "output_type": "error",
     "traceback": [
      "\u001b[0;31m---------------------------------------------------------------------------\u001b[0m",
      "\u001b[0;31mNameError\u001b[0m                                 Traceback (most recent call last)",
      "\u001b[0;32m<ipython-input-76-6c7a7e461568>\u001b[0m in \u001b[0;36m<module>\u001b[0;34m\u001b[0m\n\u001b[0;32m----> 1\u001b[0;31m \u001b[0mnp\u001b[0m\u001b[0;34m.\u001b[0m\u001b[0mstd\u001b[0m\u001b[0;34m(\u001b[0m\u001b[0miens\u001b[0m\u001b[0;34m[\u001b[0m\u001b[0;34m:\u001b[0m\u001b[0;34m,\u001b[0m \u001b[0mmaster_idx\u001b[0m\u001b[0;34m]\u001b[0m\u001b[0;34m,\u001b[0m \u001b[0maxis\u001b[0m\u001b[0;34m=\u001b[0m\u001b[0;36m1\u001b[0m\u001b[0;34m)\u001b[0m\u001b[0;34m.\u001b[0m\u001b[0mshape\u001b[0m\u001b[0;34m\u001b[0m\u001b[0;34m\u001b[0m\u001b[0m\n\u001b[0m",
      "\u001b[0;31mNameError\u001b[0m: name 'iens' is not defined"
     ]
    }
   ],
   "source": [
    "np.std(iens[:, master_idx], axis=1).shape"
   ]
  },
  {
   "cell_type": "code",
   "execution_count": 12,
   "metadata": {},
   "outputs": [
    {
     "data": {
      "text/plain": [
       "(1, 2015000)"
      ]
     },
     "execution_count": 12,
     "metadata": {},
     "output_type": "execute_result"
    }
   ],
   "source": [
    "area = frac_grid_area(irlon, irlat)\n",
    "area_relevent_grid_cells = area.reshape(1, -1)\n",
    "area_relevent_grid_cells.shape"
   ]
  },
  {
   "cell_type": "code",
   "execution_count": 13,
   "metadata": {},
   "outputs": [
    {
     "data": {
      "text/plain": [
       "<matplotlib.axes._subplots.AxesSubplot at 0x7f22b8c17588>"
      ]
     },
     "execution_count": 13,
     "metadata": {},
     "output_type": "execute_result"
    },
    {
     "data": {
      "image/png": "[encoded data removed]",
      "text/plain": [
       "<Figure size 432x288 with 1 Axes>"
      ]
     },
     "metadata": {
      "needs_background": "light"
     },
     "output_type": "display_data"
    }
   ],
   "source": [
    "mean = iens.mean(axis=0)[master_idx].reshape(1, -1)\n",
    "sns.distplot(mean.flatten())"
   ]
  },
  {
   "cell_type": "code",
   "execution_count": 40,
   "metadata": {},
   "outputs": [],
   "source": [
    "corr_ens = (iens[:, master_idx] - mean)*area_relevent_grid_cells[:, master_idx]      \n",
    "#corr_ens = corr_ens[:, master_idx]\n"
   ]
  },
  {
   "cell_type": "code",
   "execution_count": 42,
   "metadata": {},
   "outputs": [
    {
     "name": "stdout",
     "output_type": "stream",
     "text": [
      "EOF Shape:  (28, 35)\n"
     ]
    }
   ],
   "source": [
    "model_eof = ens_to_eof(corr_ens.T, explained_variance=0.95)\n",
    "#ens_eof = model_eof.components_\n",
    "\n",
    "#corr_ens_full_size[:ens_eof.shape[0], idx] = ens_eof\n",
    "\n",
    "print(\"EOF Shape: \", ens_eof.shape)"
   ]
  },
  {
   "cell_type": "code",
   "execution_count": 43,
   "metadata": {},
   "outputs": [],
   "source": [
    "#corr_ens.shape\n",
    "X = model_eof.transform(corr_ens.T)\n",
    "ens_eof = X.T\n",
    "\n",
    "del corr_ens"
   ]
  },
  {
   "cell_type": "code",
   "execution_count": 44,
   "metadata": {},
   "outputs": [
    {
     "data": {
      "text/plain": [
       "(28, 628708)"
      ]
     },
     "execution_count": 44,
     "metadata": {},
     "output_type": "execute_result"
    }
   ],
   "source": [
    "#ens_eof = X.T\n",
    "ens_eof.shape\n"
   ]
  },
  {
   "cell_type": "code",
   "execution_count": 45,
   "metadata": {},
   "outputs": [
    {
     "data": {
      "image/png": "[encoded data removed]",
      "text/plain": [
       "<Figure size 432x288 with 1 Axes>"
      ]
     },
     "metadata": {
      "needs_background": "light"
     },
     "output_type": "display_data"
    },
    {
     "data": {
      "image/png": "[encoded data removed]",
      "text/plain": [
       "<Figure size 432x288 with 1 Axes>"
      ]
     },
     "metadata": {
      "needs_background": "light"
     },
     "output_type": "display_data"
    }
   ],
   "source": [
    "sns.lineplot(range(ens_eof.shape[0]), \n",
    "             model_eof.explained_variance_ratio_, \n",
    "             label='explained variance ratio')\n",
    "plt.xlabel('Principal Component')\n",
    "plt.ylabel('Explained Variance Ratio')\n",
    "plt.show()\n",
    "sns.lineplot(range(ens_eof.shape[0]), \n",
    "             np.cumsum(model_eof.explained_variance_ratio_),\n",
    "             label='cumulative explained variance to 95%')\n",
    "plt.xlabel('Principal Component')\n",
    "plt.ylabel('Explained Variance Ratio')\n",
    "plt.show()"
   ]
  },
  {
   "cell_type": "code",
   "execution_count": 46,
   "metadata": {},
   "outputs": [
    {
     "data": {
      "text/plain": [
       "628708"
      ]
     },
     "execution_count": 46,
     "metadata": {},
     "output_type": "execute_result"
    }
   ],
   "source": [
    "rcoord_ens_dict = rlat_rlon_to_ens(irlat, irlon)\n",
    "rlat_ens = rcoord_ens_dict['rlat'][master_idx]\n",
    "rlon_ens = rcoord_ens_dict['rlon'][master_idx]\n",
    "\n",
    "lat_lon_ens = list(zip(rlat_ens, rlon_ens))\n",
    "len(lat_lon_ens)"
   ]
  },
  {
   "cell_type": "code",
   "execution_count": 47,
   "metadata": {},
   "outputs": [],
   "source": [
    "df = pd.read_csv('/storage/data/projects/nrc/station_data/snow_load/swe_rl50_stations_test.csv', index_col=None)"
   ]
  },
  {
   "cell_type": "code",
   "execution_count": 48,
   "metadata": {},
   "outputs": [
    {
     "data": {
      "text/html": [
       "<div>\n",
       "<style scoped>\n",
       "    .dataframe tbody tr th:only-of-type {\n",
       "        vertical-align: middle;\n",
       "    }\n",
       "\n",
       "    .dataframe tbody tr th {\n",
       "        vertical-align: top;\n",
       "    }\n",
       "\n",
       "    .dataframe thead th {\n",
       "        text-align: right;\n",
       "    }\n",
       "</style>\n",
       "<table border=\"1\" class=\"dataframe\">\n",
       "  <thead>\n",
       "    <tr style=\"text-align: right;\">\n",
       "      <th></th>\n",
       "      <th>id</th>\n",
       "      <th>station_name</th>\n",
       "      <th>lat</th>\n",
       "      <th>lon</th>\n",
       "      <th>prov</th>\n",
       "      <th>snow_load_rl50</th>\n",
       "    </tr>\n",
       "  </thead>\n",
       "  <tbody>\n",
       "    <tr>\n",
       "      <th>0</th>\n",
       "      <td>2193</td>\n",
       "      <td>EUREKA A</td>\n",
       "      <td>79.9833</td>\n",
       "      <td>-85.9333</td>\n",
       "      <td>NU</td>\n",
       "      <td>0.936965</td>\n",
       "    </tr>\n",
       "    <tr>\n",
       "      <th>1</th>\n",
       "      <td>2027</td>\n",
       "      <td>TUKTOYAKTUK</td>\n",
       "      <td>69.4500</td>\n",
       "      <td>-133.0000</td>\n",
       "      <td>NT</td>\n",
       "      <td>1.815147</td>\n",
       "    </tr>\n",
       "    <tr>\n",
       "      <th>2</th>\n",
       "      <td>2029</td>\n",
       "      <td>TUKTOYAKTUK A</td>\n",
       "      <td>69.4333</td>\n",
       "      <td>-133.0260</td>\n",
       "      <td>NT</td>\n",
       "      <td>2.158906</td>\n",
       "    </tr>\n",
       "    <tr>\n",
       "      <th>3</th>\n",
       "      <td>2064</td>\n",
       "      <td>BAKER LAKE A</td>\n",
       "      <td>64.2989</td>\n",
       "      <td>-96.0778</td>\n",
       "      <td>NU</td>\n",
       "      <td>3.265956</td>\n",
       "    </tr>\n",
       "    <tr>\n",
       "      <th>4</th>\n",
       "      <td>2072</td>\n",
       "      <td>CHESTERFIELD</td>\n",
       "      <td>63.3333</td>\n",
       "      <td>-90.7167</td>\n",
       "      <td>NU</td>\n",
       "      <td>3.314342</td>\n",
       "    </tr>\n",
       "  </tbody>\n",
       "</table>\n",
       "</div>"
      ],
      "text/plain": [
       "     id   station_name      lat       lon prov  snow_load_rl50\n",
       "0  2193       EUREKA A  79.9833  -85.9333   NU        0.936965\n",
       "1  2027    TUKTOYAKTUK  69.4500 -133.0000   NT        1.815147\n",
       "2  2029  TUKTOYAKTUK A  69.4333 -133.0260   NT        2.158906\n",
       "3  2064   BAKER LAKE A  64.2989  -96.0778   NU        3.265956\n",
       "4  2072   CHESTERFIELD  63.3333  -90.7167   NU        3.314342"
      ]
     },
     "execution_count": 48,
     "metadata": {},
     "output_type": "execute_result"
    }
   ],
   "source": [
    "#df = df[df['completeness'] > 0.8]\n",
    "df.head()"
   ]
  },
  {
   "cell_type": "code",
   "execution_count": 49,
   "metadata": {},
   "outputs": [],
   "source": [
    "lat_lon_obs = list(zip(df['lat'], df['lon']))\n",
    "lat_obs, lon_obs = zip(*lat_lon_obs)\n",
    "\n",
    "coords = to_rotated(lat_obs, lon_obs)\n",
    "rlat_obs, rlon_obs = np.array(coords['rlat_obs']), np.array(coords['rlon_obs'])\n",
    "\n",
    "lat_lon_obs = list(zip(rlat_obs, rlon_obs))"
   ]
  },
  {
   "cell_type": "code",
   "execution_count": 50,
   "metadata": {},
   "outputs": [],
   "source": [
    "df['nearest_grid'] = dist_index(lat_lon_obs, lat_lon_ens)"
   ]
  },
  {
   "cell_type": "code",
   "execution_count": 51,
   "metadata": {},
   "outputs": [],
   "source": [
    "ndf = df['snow_load_rl50'].groupby(df['nearest_grid']).max()\n"
   ]
  },
  {
   "cell_type": "code",
   "execution_count": 52,
   "metadata": {},
   "outputs": [
    {
     "data": {
      "text/plain": [
       "((525,), (526, 7))"
      ]
     },
     "execution_count": 52,
     "metadata": {},
     "output_type": "execute_result"
    }
   ],
   "source": [
    "ndf.shape, df.shape"
   ]
  },
  {
   "cell_type": "code",
   "execution_count": 53,
   "metadata": {},
   "outputs": [
    {
     "data": {
      "text/plain": [
       "(1, 525)"
      ]
     },
     "execution_count": 53,
     "metadata": {},
     "output_type": "execute_result"
    }
   ],
   "source": [
    "match_ens_obs_idx = np.asarray(ndf.index)\n",
    "mean[:, match_ens_obs_idx].shape"
   ]
  },
  {
   "cell_type": "code",
   "execution_count": 54,
   "metadata": {},
   "outputs": [
    {
     "name": "stdout",
     "output_type": "stream",
     "text": [
      "Check that the observations and the EOFs contain the same number of grids: \n",
      "EOF shape:  (28, 525) \n",
      "Matched Obs shape:  (525,)\n"
     ]
    }
   ],
   "source": [
    "match_obs_ens = (np.array(ndf)-mean[:, match_ens_obs_idx])*area_relevent_grid_cells[:, match_ens_obs_idx]\n",
    "match_obs_ens2 = (np.array(ndf))*area_relevent_grid_cells[:, match_ens_obs_idx]\n",
    "\n",
    "match_model_ens = ens_eof[:, match_ens_obs_idx]\n",
    "\n",
    "print(\"Check that the observations and the EOFs contain the same number of grids:\",\n",
    "      '\\nEOF shape: ', match_model_ens.shape, '\\n'\n",
    "      'Matched Obs shape: ', match_obs_ens[0, :].shape)"
   ]
  },
  {
   "cell_type": "code",
   "execution_count": 55,
   "metadata": {},
   "outputs": [
    {
     "name": "stdout",
     "output_type": "stream",
     "text": [
      "Regressed model score: 0.60864011040018\n"
     ]
    }
   ],
   "source": [
    "from sklearn.neural_network import MLPRegressor\n",
    "\n",
    "#model = MLPRegressor() \n",
    "model = regress_eof(match_model_ens.T, match_obs_ens.flatten())"
   ]
  },
  {
   "cell_type": "code",
   "execution_count": 56,
   "metadata": {},
   "outputs": [
    {
     "data": {
      "text/plain": [
       "<matplotlib.legend.Legend at 0x7f2282191278>"
      ]
     },
     "execution_count": 56,
     "metadata": {},
     "output_type": "execute_result"
    },
    {
     "data": {
      "image/png": "[encoded data removed]",
      "text/plain": [
       "<Figure size 432x288 with 1 Axes>"
      ]
     },
     "metadata": {
      "needs_background": "light"
     },
     "output_type": "display_data"
    }
   ],
   "source": [
    "sns.distplot(match_model_ens[0, :], kde=False, label='Ens')\n",
    "sns.distplot(match_obs_ens[0, :], kde=False, label='Obs')\n",
    "sns.distplot(match_obs_ens2[0, :], kde=False, label='Obs no mean')\n",
    "\n",
    "plt.legend()"
   ]
  },
  {
   "cell_type": "code",
   "execution_count": 57,
   "metadata": {},
   "outputs": [],
   "source": [
    "predictions = predict_dv(model, ens_eof.T)"
   ]
  },
  {
   "cell_type": "code",
   "execution_count": 58,
   "metadata": {},
   "outputs": [],
   "source": [
    "latlist, lonlist = zip(*list(lat_lon_ens))"
   ]
  },
  {
   "cell_type": "code",
   "execution_count": 1,
   "metadata": {},
   "outputs": [
    {
     "ename": "NameError",
     "evalue": "name 'match_obs_ens' is not defined",
     "output_type": "error",
     "traceback": [
      "\u001b[0;31m---------------------------------------------------------------------------\u001b[0m",
      "\u001b[0;31mNameError\u001b[0m                                 Traceback (most recent call last)",
      "\u001b[0;32m<ipython-input-1-5597dd66c331>\u001b[0m in \u001b[0;36m<module>\u001b[0;34m\u001b[0m\n\u001b[0;32m----> 1\u001b[0;31m \u001b[0mobservations\u001b[0m \u001b[0;34m=\u001b[0m \u001b[0mmatch_obs_ens\u001b[0m\u001b[0;34m/\u001b[0m\u001b[0marea_relevent_grid_cells\u001b[0m\u001b[0;34m[\u001b[0m\u001b[0;34m:\u001b[0m\u001b[0;34m,\u001b[0m \u001b[0mmatch_ens_obs_idx\u001b[0m\u001b[0;34m]\u001b[0m\u001b[0;34m+\u001b[0m\u001b[0mmean\u001b[0m\u001b[0;34m[\u001b[0m\u001b[0mmatch_ens_obs_idx\u001b[0m\u001b[0;34m]\u001b[0m\u001b[0;34m\u001b[0m\u001b[0;34m\u001b[0m\u001b[0m\n\u001b[0m\u001b[1;32m      2\u001b[0m \u001b[0mreconstructed_observations\u001b[0m \u001b[0;34m=\u001b[0m \u001b[0mpredictions\u001b[0m\u001b[0;34m[\u001b[0m\u001b[0mmatch_ens_obs_idx\u001b[0m\u001b[0;34m]\u001b[0m\u001b[0;34m/\u001b[0m\u001b[0marea_relevent_grid_cells\u001b[0m\u001b[0;34m[\u001b[0m\u001b[0;34m:\u001b[0m\u001b[0;34m,\u001b[0m \u001b[0mmatch_ens_obs_idx\u001b[0m\u001b[0;34m]\u001b[0m\u001b[0;34m+\u001b[0m\u001b[0mmean\u001b[0m\u001b[0;34m[\u001b[0m\u001b[0mmatch_ens_obs_idx\u001b[0m\u001b[0;34m]\u001b[0m\u001b[0;34m\u001b[0m\u001b[0;34m\u001b[0m\u001b[0m\n",
      "\u001b[0;31mNameError\u001b[0m: name 'match_obs_ens' is not defined"
     ]
    }
   ],
   "source": [
    "observations = match_obs_ens/area_relevent_grid_cells[:, match_ens_obs_idx]+mean[match_ens_obs_idx]\n",
    "reconstructed_observations = predictions[match_ens_obs_idx]/area_relevent_grid_cells[:, match_ens_obs_idx]+mean[match_ens_obs_idx]"
   ]
  },
  {
   "cell_type": "code",
   "execution_count": 60,
   "metadata": {},
   "outputs": [
    {
     "name": "stdout",
     "output_type": "stream",
     "text": [
      "slope 0.6077957880130632\n",
      "EOF Score 0.60864011040018\n"
     ]
    }
   ],
   "source": [
    "from sklearn.linear_model import LinearRegression\n",
    "from sklearn.metrics import mean_squared_error, r2_score\n",
    "\n",
    "# Model initialization\n",
    "regression_model = LinearRegression()\n",
    "# Fit the data(train the model)\n",
    "regression_model.fit(observations.T, reconstructed_observations.T)\n",
    "\n",
    "print(\"slope\", regression_model.coef_[0][0])\n",
    "\n",
    "y_predicted = regression_model.predict(observations.T)\n",
    "# model evaluation\n",
    "rmse = mean_squared_error(reconstructed_observations.T, y_predicted)\n",
    "r2 = r2_score(reconstructed_observations.T, y_predicted)\n",
    "print('EOF Score', model.score(match_model_ens.T, match_obs_ens.flatten()))\n"
   ]
  },
  {
   "cell_type": "code",
   "execution_count": null,
   "metadata": {},
   "outputs": [],
   "source": []
  },
  {
   "cell_type": "code",
   "execution_count": 64,
   "metadata": {},
   "outputs": [
    {
     "data": {
      "image/png": "[encoded data removed]",
      "text/plain": [
       "<Figure size 432x432 with 3 Axes>"
      ]
     },
     "metadata": {
      "needs_background": "light"
     },
     "output_type": "display_data"
    }
   ],
   "source": [
    "ax = sns.jointplot(observations.T[:, 0], reconstructed_observations.T[:, 0], kind='reg', color='green', marker='+',scatter_kws={\"s\": 0.01})\n",
    "sns.scatterplot(observations.T[:, 0], \n",
    "                reconstructed_observations.T[:, 0], \n",
    "                hue=rlat_ens[match_ens_obs_idx], \n",
    "                palette=\"viridis\",\n",
    "                marker='+'\n",
    ")\n",
    "sns.lineplot(observations.T[:, 0], \n",
    "             observations.T[:, 0], \n",
    "             color='r')\n",
    "plt.xlabel('Observations')\n",
    "plt.ylabel('Reconstruction')\n",
    "plt.savefig('../plots/snow')"
   ]
  },
  {
   "cell_type": "code",
   "execution_count": 62,
   "metadata": {},
   "outputs": [
    {
     "data": {
      "text/html": [
       "<div>\n",
       "<style scoped>\n",
       "    .dataframe tbody tr th:only-of-type {\n",
       "        vertical-align: middle;\n",
       "    }\n",
       "\n",
       "    .dataframe tbody tr th {\n",
       "        vertical-align: top;\n",
       "    }\n",
       "\n",
       "    .dataframe thead th {\n",
       "        text-align: right;\n",
       "    }\n",
       "</style>\n",
       "<table border=\"1\" class=\"dataframe\">\n",
       "  <thead>\n",
       "    <tr style=\"text-align: right;\">\n",
       "      <th></th>\n",
       "      <th>id</th>\n",
       "      <th>lat</th>\n",
       "      <th>lon</th>\n",
       "      <th>snow_load_rl50</th>\n",
       "      <th>nearest_grid</th>\n",
       "    </tr>\n",
       "  </thead>\n",
       "  <tbody>\n",
       "    <tr>\n",
       "      <th>count</th>\n",
       "      <td>526.000000</td>\n",
       "      <td>526.000000</td>\n",
       "      <td>526.000000</td>\n",
       "      <td>526.000000</td>\n",
       "      <td>526.000000</td>\n",
       "    </tr>\n",
       "    <tr>\n",
       "      <th>mean</th>\n",
       "      <td>4749.811787</td>\n",
       "      <td>50.578980</td>\n",
       "      <td>-88.710341</td>\n",
       "      <td>3.486906</td>\n",
       "      <td>266287.228137</td>\n",
       "    </tr>\n",
       "    <tr>\n",
       "      <th>std</th>\n",
       "      <td>2833.537383</td>\n",
       "      <td>6.459008</td>\n",
       "      <td>23.686569</td>\n",
       "      <td>2.299070</td>\n",
       "      <td>130794.697683</td>\n",
       "    </tr>\n",
       "    <tr>\n",
       "      <th>min</th>\n",
       "      <td>15.000000</td>\n",
       "      <td>42.275600</td>\n",
       "      <td>-139.433000</td>\n",
       "      <td>0.383805</td>\n",
       "      <td>76922.000000</td>\n",
       "    </tr>\n",
       "    <tr>\n",
       "      <th>25%</th>\n",
       "      <td>2066.000000</td>\n",
       "      <td>46.087475</td>\n",
       "      <td>-111.834000</td>\n",
       "      <td>1.957583</td>\n",
       "      <td>170790.750000</td>\n",
       "    </tr>\n",
       "    <tr>\n",
       "      <th>50%</th>\n",
       "      <td>5130.500000</td>\n",
       "      <td>49.190124</td>\n",
       "      <td>-79.829050</td>\n",
       "      <td>2.930648</td>\n",
       "      <td>221882.500000</td>\n",
       "    </tr>\n",
       "    <tr>\n",
       "      <th>75%</th>\n",
       "      <td>7176.000000</td>\n",
       "      <td>52.445850</td>\n",
       "      <td>-70.279200</td>\n",
       "      <td>4.321027</td>\n",
       "      <td>336775.250000</td>\n",
       "    </tr>\n",
       "    <tr>\n",
       "      <th>max</th>\n",
       "      <td>12341.000000</td>\n",
       "      <td>82.517800</td>\n",
       "      <td>-52.716700</td>\n",
       "      <td>20.698461</td>\n",
       "      <td>628046.000000</td>\n",
       "    </tr>\n",
       "  </tbody>\n",
       "</table>\n",
       "</div>"
      ],
      "text/plain": [
       "                 id         lat         lon  snow_load_rl50   nearest_grid\n",
       "count    526.000000  526.000000  526.000000      526.000000     526.000000\n",
       "mean    4749.811787   50.578980  -88.710341        3.486906  266287.228137\n",
       "std     2833.537383    6.459008   23.686569        2.299070  130794.697683\n",
       "min       15.000000   42.275600 -139.433000        0.383805   76922.000000\n",
       "25%     2066.000000   46.087475 -111.834000        1.957583  170790.750000\n",
       "50%     5130.500000   49.190124  -79.829050        2.930648  221882.500000\n",
       "75%     7176.000000   52.445850  -70.279200        4.321027  336775.250000\n",
       "max    12341.000000   82.517800  -52.716700       20.698461  628046.000000"
      ]
     },
     "execution_count": 62,
     "metadata": {},
     "output_type": "execute_result"
    }
   ],
   "source": [
    "df.describe()"
   ]
  },
  {
   "cell_type": "code",
   "execution_count": 63,
   "metadata": {},
   "outputs": [
    {
     "ename": "IndexError",
     "evalue": "boolean index did not match indexed array along dimension 0; dimension is 628708 but corresponding boolean dimension is 2015000",
     "output_type": "error",
     "traceback": [
      "\u001b[0;31m---------------------------------------------------------------------------\u001b[0m",
      "\u001b[0;31mIndexError\u001b[0m                                Traceback (most recent call last)",
      "\u001b[0;32m<ipython-input-63-98447d7505f5>\u001b[0m in \u001b[0;36m<module>\u001b[0;34m\u001b[0m\n\u001b[1;32m      1\u001b[0m \u001b[0;32mfrom\u001b[0m \u001b[0mscipy\u001b[0m \u001b[0;32mimport\u001b[0m \u001b[0mstats\u001b[0m\u001b[0;34m\u001b[0m\u001b[0;34m\u001b[0m\u001b[0m\n\u001b[1;32m      2\u001b[0m \u001b[0mX\u001b[0m \u001b[0;34m=\u001b[0m \u001b[0;34m(\u001b[0m\u001b[0miens\u001b[0m\u001b[0;34m[\u001b[0m\u001b[0;36m0\u001b[0m\u001b[0;34m,\u001b[0m \u001b[0mmaster_idx\u001b[0m\u001b[0;34m]\u001b[0m\u001b[0;34m)\u001b[0m\u001b[0;34m\u001b[0m\u001b[0;34m\u001b[0m\u001b[0m\n\u001b[0;32m----> 3\u001b[0;31m \u001b[0my\u001b[0m \u001b[0;34m=\u001b[0m \u001b[0;34m(\u001b[0m\u001b[0mpredictions\u001b[0m\u001b[0;34m[\u001b[0m\u001b[0mmaster_idx\u001b[0m\u001b[0;34m]\u001b[0m\u001b[0;34m)\u001b[0m\u001b[0;34m/\u001b[0m\u001b[0marea_relevent_grid_cells\u001b[0m\u001b[0;34m[\u001b[0m\u001b[0;34m:\u001b[0m\u001b[0;34m,\u001b[0m \u001b[0mmaster_idx\u001b[0m\u001b[0;34m]\u001b[0m\u001b[0;34m.\u001b[0m\u001b[0mflatten\u001b[0m\u001b[0;34m(\u001b[0m\u001b[0;34m)\u001b[0m\u001b[0;34m[\u001b[0m\u001b[0mmaster_idx\u001b[0m\u001b[0;34m]\u001b[0m\u001b[0;34m+\u001b[0m\u001b[0mmean\u001b[0m\u001b[0;34m[\u001b[0m\u001b[0;34m:\u001b[0m\u001b[0;34m,\u001b[0m \u001b[0mmaster_idx\u001b[0m\u001b[0;34m]\u001b[0m\u001b[0;34m\u001b[0m\u001b[0;34m\u001b[0m\u001b[0m\n\u001b[0m\u001b[1;32m      4\u001b[0m \u001b[0mprint\u001b[0m\u001b[0;34m(\u001b[0m\u001b[0mX\u001b[0m\u001b[0;34m.\u001b[0m\u001b[0mshape\u001b[0m\u001b[0;34m,\u001b[0m \u001b[0my\u001b[0m\u001b[0;34m.\u001b[0m\u001b[0mshape\u001b[0m\u001b[0;34m,\u001b[0m \u001b[0mrlat_ens\u001b[0m\u001b[0;34m.\u001b[0m\u001b[0mshape\u001b[0m\u001b[0;34m)\u001b[0m\u001b[0;34m\u001b[0m\u001b[0;34m\u001b[0m\u001b[0m\n\u001b[1;32m      5\u001b[0m \u001b[0max\u001b[0m \u001b[0;34m=\u001b[0m \u001b[0msns\u001b[0m\u001b[0;34m.\u001b[0m\u001b[0mjointplot\u001b[0m\u001b[0;34m(\u001b[0m\u001b[0mX\u001b[0m\u001b[0;34m.\u001b[0m\u001b[0mflatten\u001b[0m\u001b[0;34m(\u001b[0m\u001b[0;34m)\u001b[0m\u001b[0;34m,\u001b[0m \u001b[0my\u001b[0m\u001b[0;34m.\u001b[0m\u001b[0mflatten\u001b[0m\u001b[0;34m(\u001b[0m\u001b[0;34m)\u001b[0m\u001b[0;34m,\u001b[0m \u001b[0mkind\u001b[0m\u001b[0;34m=\u001b[0m\u001b[0;34m'reg'\u001b[0m\u001b[0;34m,\u001b[0m \u001b[0mcolor\u001b[0m\u001b[0;34m=\u001b[0m\u001b[0;34m'green'\u001b[0m\u001b[0;34m,\u001b[0m \u001b[0mmarker\u001b[0m\u001b[0;34m=\u001b[0m\u001b[0;34m'+'\u001b[0m\u001b[0;34m,\u001b[0m\u001b[0mscatter_kws\u001b[0m\u001b[0;34m=\u001b[0m\u001b[0;34m{\u001b[0m\u001b[0;34m\"s\"\u001b[0m\u001b[0;34m:\u001b[0m \u001b[0;36m0.01\u001b[0m\u001b[0;34m}\u001b[0m\u001b[0;34m)\u001b[0m\u001b[0;34m\u001b[0m\u001b[0;34m\u001b[0m\u001b[0m\n",
      "\u001b[0;31mIndexError\u001b[0m: boolean index did not match indexed array along dimension 0; dimension is 628708 but corresponding boolean dimension is 2015000"
     ]
    }
   ],
   "source": [
    "from scipy import stats\n",
    "X = (iens[0, master_idx])\n",
    "y = (predictions[master_idx])/area_relevent_grid_cells[:, master_idx].flatten()[master_idx]+mean[:, master_idx]\n",
    "print(X.shape, y.shape, rlat_ens.shape)\n",
    "ax = sns.jointplot(X.flatten(), y.flatten(), kind='reg', color='green', marker='+',scatter_kws={\"s\": 0.01})\n",
    "sns.scatterplot(X.flatten(), y.flatten(), hue=rlat_ens, palette='viridis', marker='+', alpha = 0.5, s=4)\n",
    "# sns.lineplot(predictions[:1000], \n",
    "#              predictions[:1000], \n",
    "#              color='r')\n",
    "plt.xlabel('Observations')\n",
    "plt.ylabel('Reconstruction')"
   ]
  },
  {
   "cell_type": "code",
   "execution_count": 205,
   "metadata": {},
   "outputs": [
    {
     "name": "stdout",
     "output_type": "stream",
     "text": [
      "slope 0.9960888187457072\n"
     ]
    }
   ],
   "source": [
    "# Model initialization\n",
    "regression_model = LinearRegression()\n",
    "# Fit the data(train the model)\n",
    "regression_model.fit(X.reshape(-1, 1), y.reshape(-1, 1))\n",
    "\n",
    "print(\"slope\", regression_model.coef_[0][0])"
   ]
  },
  {
   "cell_type": "code",
   "execution_count": 49,
   "metadata": {},
   "outputs": [
    {
     "data": {
      "text/plain": [
       "(628708,)"
      ]
     },
     "execution_count": 49,
     "metadata": {},
     "output_type": "execute_result"
    }
   ],
   "source": [
    "rlat_ens.shape"
   ]
  },
  {
   "cell_type": "code",
   "execution_count": 272,
   "metadata": {},
   "outputs": [
    {
     "data": {
      "image/png": "[encoded data removed]",
      "text/plain": [
       "<Figure size 1080x720 with 1 Axes>"
      ]
     },
     "metadata": {
      "needs_background": "light"
     },
     "output_type": "display_data"
    }
   ],
   "source": [
    "new_iens = iens[0, :].copy()\n",
    "new_iens[master_idx] = predictions/area_relevent_grid_cells.flatten()[master_idx]\n",
    "new_dv_field = new_iens.reshape((irlat.shape[0], irlon.shape[0]))\n",
    "\n",
    "#plt.imshow(new_dv_field[imask[0, ...]])\n",
    "#plt.gca().invert_yaxis()\n",
    "#new_dv_field[~imask[0, ...]]\n",
    "\n",
    "\n",
    "\n",
    "plt.figure(figsize=(15, 10))\n",
    "sns.scatterplot(irlon_ens[master_idx], irlat_ens[master_idx], hue=new_iens[master_idx], marker='s', linewidth=0, palette='hot')\n",
    "plt.savefig('snow')\n",
    "#plt.gca().invert_yaxis()"
   ]
  },
  {
   "cell_type": "code",
   "execution_count": 33,
   "metadata": {},
   "outputs": [
    {
     "data": {
      "text/html": [
       "<div>\n",
       "<style scoped>\n",
       "    .dataframe tbody tr th:only-of-type {\n",
       "        vertical-align: middle;\n",
       "    }\n",
       "\n",
       "    .dataframe tbody tr th {\n",
       "        vertical-align: top;\n",
       "    }\n",
       "\n",
       "    .dataframe thead th {\n",
       "        text-align: right;\n",
       "    }\n",
       "</style>\n",
       "<table border=\"1\" class=\"dataframe\">\n",
       "  <thead>\n",
       "    <tr style=\"text-align: right;\">\n",
       "      <th></th>\n",
       "      <th>rlat</th>\n",
       "      <th>rlon</th>\n",
       "      <th>dv</th>\n",
       "    </tr>\n",
       "  </thead>\n",
       "  <tbody>\n",
       "    <tr>\n",
       "      <th>0</th>\n",
       "      <td>-13.612561</td>\n",
       "      <td>-9.689375</td>\n",
       "      <td>-67.720240</td>\n",
       "    </tr>\n",
       "    <tr>\n",
       "      <th>1</th>\n",
       "      <td>-13.612561</td>\n",
       "      <td>-9.645631</td>\n",
       "      <td>-7.465351</td>\n",
       "    </tr>\n",
       "    <tr>\n",
       "      <th>2</th>\n",
       "      <td>-13.612561</td>\n",
       "      <td>-9.601886</td>\n",
       "      <td>44.473585</td>\n",
       "    </tr>\n",
       "    <tr>\n",
       "      <th>3</th>\n",
       "      <td>-13.612561</td>\n",
       "      <td>-9.558142</td>\n",
       "      <td>-6.339242</td>\n",
       "    </tr>\n",
       "    <tr>\n",
       "      <th>4</th>\n",
       "      <td>-13.612561</td>\n",
       "      <td>-9.514398</td>\n",
       "      <td>-20.212499</td>\n",
       "    </tr>\n",
       "  </tbody>\n",
       "</table>\n",
       "</div>"
      ],
      "text/plain": [
       "        rlat      rlon         dv\n",
       "0 -13.612561 -9.689375 -67.720240\n",
       "1 -13.612561 -9.645631  -7.465351\n",
       "2 -13.612561 -9.601886  44.473585\n",
       "3 -13.612561 -9.558142  -6.339242\n",
       "4 -13.612561 -9.514398 -20.212499"
      ]
     },
     "execution_count": 33,
     "metadata": {},
     "output_type": "execute_result"
    }
   ],
   "source": [
    "df_new = pd.DataFrame({'rlat':irlat_ens[master_idx], 'rlon':irlon_ens[master_idx], 'dv':new_iens[master_idx]})\n",
    "df_new.head()"
   ]
  },
  {
   "cell_type": "code",
   "execution_count": 34,
   "metadata": {},
   "outputs": [],
   "source": [
    "import geojson\n",
    "\n",
    "def data2geojson(df):\n",
    "    features = []\n",
    "    insert_features = lambda X: features.append(\n",
    "            geojson.Feature(geometry=geojson.Point((X[\"rlon\"],\n",
    "                                                    X[\"rlat\"],\n",
    "                                                    X[\"dv\"]))))\n",
    "    df.apply(insert_features, axis=1)\n",
    "    with open('map1.geojson', 'w', encoding='utf8') as fp:\n",
    "        geojson.dump(geojson.FeatureCollection(features), fp, sort_keys=True, ensure_ascii=False)\n",
    "\n",
    "#data2geojson(df_new)"
   ]
  },
  {
   "cell_type": "code",
   "execution_count": null,
   "metadata": {},
   "outputs": [],
   "source": [
    "import folium\n",
    "import json\n",
    "from folium import plugins\n",
    "\n",
    "geo_json_data = json.load(open('map1.geojson'))\n",
    "\n",
    "# plot the density of stations\n",
    "m = folium.Map([55.8781, -100], zoom_start=4)\n",
    "#m.add_child(plugins.HeatMap(df_new))\n",
    "\n",
    "# m.choropleth(geo_data='map1.geojson', data_out='data1.json', data=df_new,\n",
    "#              columns=['rlat', 'rlon', 'dv'],\n",
    "#              fill_color='YlOrRd', \n",
    "#              fill_opacity=0.7,\n",
    "#              line_opacity=0.3)\n",
    "folium.GeoJson(geo_json_data).add_to(m)\n",
    "folium.LayerControl().add_to(m)\n",
    "\n",
    "#m.create_map(path='map_1.html')\n",
    "#m.save('index.html')\n",
    "m"
   ]
  },
  {
   "cell_type": "code",
   "execution_count": 46,
   "metadata": {},
   "outputs": [],
   "source": [
    "x = np.linspace(-10, 10)"
   ]
  },
  {
   "cell_type": "code",
   "execution_count": 47,
   "metadata": {},
   "outputs": [],
   "source": [
    "y = np.linspace(-10, 10)"
   ]
  },
  {
   "cell_type": "code",
   "execution_count": 48,
   "metadata": {},
   "outputs": [
    {
     "data": {
      "text/plain": [
       "array([-10.        ,  -9.59183673,  -9.18367347,  -8.7755102 ,\n",
       "        -8.36734694,  -7.95918367,  -7.55102041,  -7.14285714,\n",
       "        -6.73469388,  -6.32653061,  -5.91836735,  -5.51020408,\n",
       "        -5.10204082,  -4.69387755,  -4.28571429,  -3.87755102,\n",
       "        -3.46938776,  -3.06122449,  -2.65306122,  -2.24489796,\n",
       "        -1.83673469,  -1.42857143,  -1.02040816,  -0.6122449 ,\n",
       "        -0.20408163,   0.20408163,   0.6122449 ,   1.02040816,\n",
       "         1.42857143,   1.83673469,   2.24489796,   2.65306122,\n",
       "         3.06122449,   3.46938776,   3.87755102,   4.28571429,\n",
       "         4.69387755,   5.10204082,   5.51020408,   5.91836735,\n",
       "         6.32653061,   6.73469388,   7.14285714,   7.55102041,\n",
       "         7.95918367,   8.36734694,   8.7755102 ,   9.18367347,\n",
       "         9.59183673,  10.        ])"
      ]
     },
     "execution_count": 48,
     "metadata": {},
     "output_type": "execute_result"
    }
   ],
   "source": [
    "x"
   ]
  },
  {
   "cell_type": "code",
   "execution_count": 52,
   "metadata": {},
   "outputs": [],
   "source": [
    "x=x**2"
   ]
  },
  {
   "cell_type": "code",
   "execution_count": 53,
   "metadata": {},
   "outputs": [
    {
     "data": {
      "text/plain": [
       "<matplotlib.collections.PathCollection at 0x7ff60b31c7f0>"
      ]
     },
     "execution_count": 53,
     "metadata": {},
     "output_type": "execute_result"
    },
    {
     "data": {
      "image/png": "[encoded data removed]",
      "text/plain": [
       "<Figure size 432x288 with 1 Axes>"
      ]
     },
     "metadata": {
      "needs_background": "light"
     },
     "output_type": "display_data"
    }
   ],
   "source": [
    "plt.scatter(x, y)"
   ]
  },
  {
   "cell_type": "code",
   "execution_count": 74,
   "metadata": {},
   "outputs": [
    {
     "data": {
      "text/plain": [
       "array([  0.56951585,   0.70857802,   0.7982587 ,   1.01130106,\n",
       "         1.20463183,   1.37382622,   1.48509792,   1.68682303,\n",
       "         1.80420953,   2.03887384,   2.16795803,   2.29146432,\n",
       "         2.55110893,   2.66038205,   2.83326736,   3.07537037,\n",
       "         3.24569924,   3.28910803,   3.51314347,   3.73649323,\n",
       "         3.80233213,   3.94189815,   4.16204325,   4.41251706,\n",
       "         4.48143521,   4.66680839,   4.85889294,   4.99385692,\n",
       "         5.24613899,   5.3541938 ,   5.57026458,   5.66504918,\n",
       "         5.87145197,   5.90515336,   6.14326233,   6.35738152,\n",
       "         6.45338948,   6.67204616,   6.79925122,   6.95013163,\n",
       "         7.20140629,   7.31302348,   7.61336632,   7.60899015,\n",
       "         7.8373009 ,   8.08799763,   8.11307291,   8.30642722,\n",
       "         8.51550386,   8.67184367,   8.81161545,   9.04155976,\n",
       "         9.17615458,   9.3416874 ,   9.4756852 ,   9.70556594,\n",
       "         9.85085503,  10.03431314,  10.23197511,  10.31288245,\n",
       "        10.38403608,  10.6598414 ,  10.8929568 ,  11.14213953,\n",
       "        11.25362022,  11.32894303,  11.61042189,  11.7399376 ,\n",
       "        11.87153549,  11.99068352,  12.16132804,  12.39232664,\n",
       "        12.53865203,  12.62749717,  12.89848985,  12.98540823,\n",
       "        13.08608721,  13.32626756,  13.48131826,  13.685033  ,\n",
       "        13.85857749,  13.97440217,  14.21848116,  14.36690704,\n",
       "        14.52168135,  14.73216444,  14.89053603,  15.11672966,\n",
       "        15.10186697,  15.3431987 ,  15.49612795,  15.7413277 ,\n",
       "        15.81270385,  16.02208618,  16.16150701,  16.44490568,\n",
       "        16.44849215,  16.62897709,  16.89049952,  17.00020425,\n",
       "        17.15279324,  17.36841373,  17.51058294,  17.70942883,\n",
       "        17.90201302,  18.11892654,  18.29814119,  18.4087799 ,\n",
       "        18.48468755,  18.5310401 ,  18.91220647,  19.072252  ,\n",
       "        19.15527857,  19.40591281,  19.5234619 ,  19.70669675,\n",
       "        19.89008966,  20.01908171,  20.14215834,  20.44273032,\n",
       "        20.52399453,  20.68725826,  20.84257301,  21.02412198,\n",
       "        21.15976056,  21.34941943,  21.60406524,  21.76823256,\n",
       "        21.88649139,  22.03906857,  22.24094473,  22.44895776,\n",
       "        22.49064293,  22.72828986,  22.84832372,  22.97855472,\n",
       "        23.16618509,  23.33645601,  23.51437337,  23.69764062,\n",
       "        23.9128824 ,  23.99564191,  24.1650407 ,  24.3227493 ,\n",
       "        24.58997249,  24.67468179,  24.80843965,  25.07629544,\n",
       "        25.17367394,  25.42287398,  25.60733044,  25.73946041,\n",
       "        25.84885472,  25.99346095,  26.25426536,  26.54189958,\n",
       "        26.49180074,  26.73992809,  26.80228351,  27.00923162,\n",
       "        27.1771679 ,  27.33612639,  27.63130806,  27.80795909,\n",
       "        27.93694115,  27.99102384,  28.2464817 ,  28.39806709,\n",
       "        28.54176021,  28.75959884,  28.86458336,  29.02748329,\n",
       "        29.27041037,  29.37972409,  29.57252422,  29.73725563,\n",
       "        29.8590594 ,  30.05065338,  30.24762042,  30.33499437,\n",
       "        30.61777761,  30.69014455,  30.88811257,  31.05757197,\n",
       "        31.16628202,  31.45723347,  31.52959601,  31.70739308,\n",
       "        31.83868776,  32.04702114,  32.19774361,  32.37307253,\n",
       "        32.48665224,  32.77367884,  32.94578577,  33.05381567,\n",
       "        33.22369858,  33.44640967,  33.45271416,  33.71494138,\n",
       "        33.96560842,  34.05447038,  34.19891025,  34.41906041,\n",
       "        34.61064047,  34.74797502,  34.93290046,  34.96326776,\n",
       "        35.27138622,  35.39258084,  35.51463425,  35.81323461,\n",
       "        35.92983641,  36.05034764,  36.21580583,  36.40590022,\n",
       "        36.53248416,  36.80477392,  36.90538266,  37.06457443,\n",
       "        37.27282355,  37.41593643,  37.53401178,  37.7871215 ,\n",
       "        37.93578677,  38.08531013,  38.22507656,  38.4968939 ,\n",
       "        38.60706117,  38.75228603,  38.85871207,  39.07254664,\n",
       "        39.26246945,  39.37776821,  39.48066505,  39.70598787,\n",
       "        39.90231217,  40.05015174,  40.18283409,  40.37738702,\n",
       "        40.60241968,  40.75097316,  40.88635345,  41.03452786,\n",
       "        41.20141397,  41.37375392,  41.63263549,  41.70975804,\n",
       "        41.90125196,  42.09000848,  42.32817106,  42.46498821,\n",
       "        42.57510264,  42.73657438,  42.78092198,  43.12919176,\n",
       "        43.33589303,  43.36085034,  43.49727426,  43.69683317,\n",
       "        43.85639621,  44.02194693,  44.30258472,  44.36380517,\n",
       "        44.60937111,  44.75734086,  44.90022962,  45.03883435,\n",
       "        45.17256318,  45.41247825,  45.49983487,  45.76522202,\n",
       "        45.94040672,  46.02406514,  46.18089539,  46.4587633 ,\n",
       "        46.60130377,  46.67225259,  46.88034154,  47.05013236,\n",
       "        47.16923657,  47.44055099,  47.58327928,  47.7613835 ,\n",
       "        47.96378089,  48.03085191,  48.2240436 ,  48.45553788,\n",
       "        48.59252205,  48.69461023,  49.02948062,  49.09368769,\n",
       "        49.25508665,  49.45266353,  49.53651373,  49.7509488 ,\n",
       "        49.99931024,  50.04451969,  50.20993638,  50.36398025,\n",
       "        50.63484945,  50.74367003,  50.92461581,  51.08124841,\n",
       "        51.22788484,  51.43017285,  51.62874161,  51.71156221,\n",
       "        51.90702908,  52.10697158,  52.31197116,  52.47625463,\n",
       "        52.64010963,  52.85054606,  52.88338941,  53.04426499,\n",
       "        53.15516569,  53.31269496,  53.57675239,  53.82796055,\n",
       "        53.88566566,  54.13844786,  54.26856121,  54.39942748,\n",
       "        54.46480948,  54.79192109,  54.93150868,  55.09091803,\n",
       "        55.22577943,  55.44317414,  55.66444361,  55.77956665,\n",
       "        55.96617968,  56.10590183,  56.20870542,  56.45615143,\n",
       "        56.5861377 ,  56.85099783,  56.95647624,  57.04987216,\n",
       "        57.25158388,  57.36105287,  57.57283981,  57.71109571,\n",
       "        57.98277929,  58.06671731,  58.35242576,  58.45391365,\n",
       "        58.52108882,  58.63931507,  58.91667637,  59.11626121,\n",
       "        59.30504683,  59.49871877,  59.58956304,  59.81467812,\n",
       "        59.92932075,  60.04681567,  60.26894661,  60.44881698,\n",
       "        60.63536476,  60.71087499,  61.01944724,  61.07172275,\n",
       "        61.25222016,  61.36884811,  61.63120683,  61.83739254,\n",
       "        62.01715304,  62.08615531,  62.37697061,  62.39586273,\n",
       "        62.57801158,  62.77317462,  62.8353365 ,  63.06394841,\n",
       "        63.29155693,  63.46896465,  63.50636392,  63.84695295,\n",
       "        63.89327692,  64.10278194,  64.30614481,  64.52608626,\n",
       "        64.5454835 ,  64.82888712,  64.98873887,  65.0585756 ,\n",
       "        65.29893347,  65.48168611,  65.59311608,  65.80149843,\n",
       "        65.94632446,  66.15507755,  66.28084412,  66.4818208 ,\n",
       "        66.66472494,  66.85414991,  66.95992504,  67.23978371,\n",
       "        67.2939792 ,  67.42855006,  67.50132949,  67.67293895,\n",
       "        67.98103657,  68.13126698,  68.30348111,  68.40976226,\n",
       "        68.60231989,  68.81126252,  68.94166537,  69.12028644,\n",
       "        69.23510742,  69.43524558,  69.6401455 ,  69.74910416,\n",
       "        69.91930318,  70.15487329,  70.22671894,  70.43224582,\n",
       "        70.62874853,  70.80762583,  70.90947162,  71.107133  ,\n",
       "        71.32768286,  71.44074892,  71.62425016,  71.79531312,\n",
       "        71.88192779,  72.10061317,  72.29506932,  72.48270482,\n",
       "        72.59468684,  72.72190092,  73.00295066,  73.11920062,\n",
       "        73.29048055,  73.45394981,  73.61909978,  73.83467789,\n",
       "        73.93311798,  74.11059075,  74.24348417,  74.38725408,\n",
       "        74.57611182,  74.8030121 ,  74.97910979,  75.13668471,\n",
       "        75.26194955,  75.49123836,  75.54385711,  75.77318674,\n",
       "        75.91667899,  76.14937646,  76.33640187,  76.48036309,\n",
       "        76.59745453,  76.77049425,  76.91346674,  77.18231692,\n",
       "        77.33529774,  77.3530315 ,  77.56777823,  77.84790843,\n",
       "        77.8978896 ,  78.14377832,  78.28426765,  78.43320141,\n",
       "        78.61138191,  78.89917486,  78.92799324,  79.10679844,\n",
       "        79.31589705,  79.45216642,  79.67922333,  79.81863953,\n",
       "        80.00179686,  80.08359008,  80.30299296,  80.48622984,\n",
       "        80.65989416,  80.78102771,  81.00277423,  81.06993259,\n",
       "        81.29224827,  81.49371844,  81.57009851,  81.74655046,\n",
       "        81.98822546,  82.08302049,  82.27541758,  82.45081583,\n",
       "        82.62660015,  82.86033008,  82.93904461,  83.11182782,\n",
       "        83.31162943,  83.49381712,  83.66209281,  83.76807251,\n",
       "        83.97938127,  84.17378435,  84.30242077,  84.44728737,\n",
       "        84.55936461,  84.82440563,  84.94630788,  85.05831791,\n",
       "        85.26951309,  85.45964775,  85.59280327,  85.91574149,\n",
       "        85.94717681,  86.12020309,  86.23220165,  86.41248371,\n",
       "        86.61290727,  86.81043655,  86.98518533,  87.11652241,\n",
       "        87.37705717,  87.512465  ,  87.54446667,  87.86259753,\n",
       "        87.90126205,  88.11397128,  88.28723537,  88.415898  ,\n",
       "        88.60739819,  88.83048495,  88.96851013,  89.15801812,\n",
       "        89.25773751,  89.43558218,  89.65355507,  89.78099308,\n",
       "        89.92614235,  90.22552791,  90.27498726,  90.50764154,\n",
       "        90.64344164,  90.80016131,  90.99395112,  91.14218756,\n",
       "        91.29308893,  91.54179448,  91.72515267,  91.76571112,\n",
       "        92.02688449,  92.10762697,  92.31517368,  92.47452904,\n",
       "        92.62171155,  92.78567846,  92.99057802,  93.08850414,\n",
       "        93.17585831,  93.57884665,  93.7154173 ,  93.78566518,\n",
       "        94.10189022,  94.17684345,  94.24083709,  94.46972654,\n",
       "        94.64927178,  94.85992437,  95.03172018,  95.17378339,\n",
       "        95.3221418 ,  95.44602116,  95.69813185,  95.85390524,\n",
       "        95.96410152,  96.11874801,  96.29787904,  96.45649585,\n",
       "        96.73764132,  96.83563614,  97.01232461,  97.11654118,\n",
       "        97.29556757,  97.50108433,  97.54201488,  97.86376706,\n",
       "        97.95577092,  98.27883892,  98.30823393,  98.54337607,\n",
       "        98.71037865,  98.75249459,  99.01517767,  99.16548891,\n",
       "        99.28555782,  99.51449624,  99.67159648,  99.76033105,\n",
       "       100.01146067, 100.15458712, 100.41927417, 100.52552025])"
      ]
     },
     "execution_count": 74,
     "metadata": {},
     "output_type": "execute_result"
    }
   ],
   "source": [
    "import numpy as np\n",
    "from sklearn.decomposition import pca\n",
    "\n",
    "x = np.broadcast_to(np.linspace(0., 100., 600), (35,600))\n",
    "dx = np.random.random((35, 600))\n",
    "y = x+dx\n",
    "\n",
    "ymean = y - np.mean(y, axis=0)\n",
    "\n",
    "np.mean(y, axis=0)"
   ]
  },
  {
   "cell_type": "code",
   "execution_count": 52,
   "metadata": {},
   "outputs": [
    {
     "data": {
      "text/plain": [
       "(600, 1)"
      ]
     },
     "execution_count": 52,
     "metadata": {},
     "output_type": "execute_result"
    }
   ],
   "source": [
    "pcan = pca.PCA(0.95).fit(y.T)\n",
    "ny = pcan.transform(y.T)\n",
    "ny.shape"
   ]
  },
  {
   "cell_type": "code",
   "execution_count": 85,
   "metadata": {},
   "outputs": [
    {
     "data": {
      "text/plain": [
       "array([-295.4839792 , -295.00055753, -293.67859039, -292.42496631,\n",
       "       -291.63438871, -291.2210919 , -289.90160546, -289.09722509,\n",
       "       -287.99767757, -286.50098476, -285.98303145, -284.86091122,\n",
       "       -283.86393698, -282.75980194, -281.79153402, -281.2552345 ,\n",
       "       -279.73909032, -279.00504024, -278.45957808, -277.32432791,\n",
       "       -275.83411637, -275.28052215, -273.8420726 , -273.40656406,\n",
       "       -271.83025536, -270.92642702, -270.1188309 , -269.44617624,\n",
       "       -267.81350861, -266.86154781, -266.3653959 , -265.83028362,\n",
       "       -264.35265431, -263.09380203, -262.2979127 , -261.49589952,\n",
       "       -260.13925597, -258.90913889, -257.77151174, -257.32989898,\n",
       "       -256.72941257, -254.80603415, -254.47580545, -253.25242599,\n",
       "       -252.76465085, -251.54620967, -250.64390849, -249.22618434,\n",
       "       -248.44882086, -247.67027021, -245.739554  , -245.37066754,\n",
       "       -244.75457332, -243.89231514, -242.49302202, -241.95996418,\n",
       "       -240.47963945, -238.82399506, -238.46300467, -237.54051028,\n",
       "       -236.46644686, -235.46872499, -234.10605789, -233.56266974,\n",
       "       -232.87360718, -231.38603933, -230.74716926, -229.2210881 ,\n",
       "       -228.69834338, -227.5332128 , -226.85757159, -226.0858481 ,\n",
       "       -224.77790532, -223.65931683, -223.20338826, -221.46344537,\n",
       "       -221.23584895, -220.15820453, -218.95996507, -217.74537733,\n",
       "       -216.83993924, -215.93768221, -214.83811107, -213.92079129,\n",
       "       -212.48070721, -211.66561791, -210.44802656, -209.84086651,\n",
       "       -208.86753817, -207.92154029, -206.95306832, -206.09211933,\n",
       "       -204.72018273, -204.22733456, -202.97435006, -201.97852495,\n",
       "       -201.18712459, -199.82483767, -198.84788771, -198.34278822,\n",
       "       -197.00936329, -196.4131776 , -194.72830184, -194.34073887,\n",
       "       -193.28510372, -192.01617173, -191.48404272, -190.28735052,\n",
       "       -189.50518304, -188.16656885, -187.13174225, -186.18825843,\n",
       "       -185.56468316, -184.03634142, -183.42742926, -182.03494167,\n",
       "       -181.37087186, -180.46012761, -178.80564944, -178.47229251,\n",
       "       -176.63518447, -175.92415833, -175.35633425, -174.39766753,\n",
       "       -172.93556367, -172.13304054, -171.34834622, -170.44704061,\n",
       "       -169.20319005, -167.92910006, -167.53671049, -166.8486339 ,\n",
       "       -165.41849293, -164.20154958, -163.60095997, -162.59167288,\n",
       "       -161.30467851, -160.64543759, -159.55678639, -158.34178613,\n",
       "       -157.22485106, -156.96063114, -155.42701842, -154.80833743,\n",
       "       -153.32626558, -152.49873008, -151.59303019, -150.44449944,\n",
       "       -149.35888771, -148.66937274, -147.74301767, -146.42639588,\n",
       "       -145.53670108, -144.46388014, -143.99211678, -142.84098057,\n",
       "       -141.27382508, -140.92204897, -139.63583925, -138.76357909,\n",
       "       -137.94923553, -136.80344063, -135.29786604, -134.87264616,\n",
       "       -133.42184158, -133.13994888, -131.61619889, -130.60941641,\n",
       "       -129.41452504, -128.79727338, -127.5765705 , -127.02809214,\n",
       "       -125.8134385 , -124.72494809, -124.01030542, -123.0864865 ,\n",
       "       -121.684189  , -121.56973514, -119.87665729, -119.35812905,\n",
       "       -118.37202528, -117.21018922, -116.17296559, -115.08611763,\n",
       "       -114.37764975, -113.09656133, -112.09448196, -111.17312526,\n",
       "       -110.08230955, -109.35499295, -107.94416508, -107.07091002,\n",
       "       -106.01340694, -105.05265597, -104.11989537, -103.10073652,\n",
       "       -102.01356311, -101.26849308, -100.54593938,  -99.57323427,\n",
       "        -98.55921092,  -97.24994072,  -96.30952012,  -95.1398331 ,\n",
       "        -94.0442143 ,  -93.44552001,  -92.37547647,  -91.11987684,\n",
       "        -90.48088543,  -89.39226644,  -88.76292231,  -87.34974303,\n",
       "        -86.00039137,  -85.33379858,  -84.50795505,  -83.3442651 ,\n",
       "        -82.44793157,  -81.16349574,  -80.59557104,  -79.97208212,\n",
       "        -78.59002077,  -77.27701488,  -76.64763245,  -75.33457141,\n",
       "        -74.5081443 ,  -73.77469751,  -72.10687017,  -72.18510944,\n",
       "        -70.4794727 ,  -69.84466876,  -68.48548828,  -67.82413085,\n",
       "        -66.4387185 ,  -65.02757634,  -64.94150379,  -63.47504057,\n",
       "        -62.57379625,  -62.22168224,  -61.15289301,  -59.54741003,\n",
       "        -58.67139098,  -58.20113451,  -56.64346995,  -55.70532629,\n",
       "        -54.89133384,  -53.50498454,  -52.80258113,  -51.5806211 ,\n",
       "        -50.79621175,  -50.01968241,  -48.57985014,  -47.59097572,\n",
       "        -47.52963179,  -45.93048503,  -44.74075028,  -43.98935509,\n",
       "        -43.28476734,  -42.34362407,  -40.82478932,  -39.87320994,\n",
       "        -39.2782702 ,  -38.01126932,  -36.9469916 ,  -36.02855259,\n",
       "        -35.30941493,  -34.06117904,  -33.32158174,  -32.08843794,\n",
       "        -31.12313772,  -30.20071705,  -29.08417232,  -28.76391086,\n",
       "        -27.51777691,  -26.11477015,  -25.64557994,  -24.01397148,\n",
       "        -23.77191135,  -22.4151667 ,  -21.46742586,  -20.15085873,\n",
       "        -18.9123098 ,  -18.64251256,  -17.07005463,  -16.43070664,\n",
       "        -14.96177472,  -14.42007424,  -13.73023366,  -12.26605521,\n",
       "        -11.48641922,   -9.85914978,   -8.88792268,   -8.58180131,\n",
       "         -7.1400006 ,   -6.25219952,   -5.81544742,   -4.3281672 ,\n",
       "         -4.21849366,   -2.56247829,   -0.8998183 ,   -0.95520143,\n",
       "          0.65162428,    1.34611816,    2.50992771,    3.5605688 ,\n",
       "          4.35246354,    5.83178945,    6.49887168,    7.9622229 ,\n",
       "          8.1732643 ,    9.44821005,   10.54279132,   11.81962468,\n",
       "         12.47427696,   13.27828258,   14.75188493,   15.93725404,\n",
       "         16.48809181,   17.41475394,   18.06155925,   19.2442851 ,\n",
       "         19.91905578,   21.37300441,   22.54459533,   22.70160622,\n",
       "         23.86735035,   25.29157552,   25.91432832,   27.38947322,\n",
       "         28.24488716,   28.85293236,   30.70189976,   31.07158271,\n",
       "         31.95275275,   32.77783091,   34.01374425,   35.49385996,\n",
       "         35.92498138,   37.46191306,   37.92336732,   39.00646152,\n",
       "         40.06968717,   40.6750432 ,   41.44252857,   42.85475645,\n",
       "         43.91989554,   45.42690894,   45.79251436,   46.81160919,\n",
       "         47.92908661,   48.77361739,   49.7472137 ,   50.56147056,\n",
       "         51.39630827,   52.7762118 ,   53.71843602,   54.98429209,\n",
       "         55.99988246,   56.60903522,   57.63454775,   59.04710622,\n",
       "         59.50183277,   60.58112099,   61.46029453,   62.89238741,\n",
       "         63.71099239,   64.49366033,   65.46298279,   66.69834527,\n",
       "         67.303063  ,   69.11252978,   69.53766612,   70.6928135 ,\n",
       "         71.62358672,   72.46961039,   74.05894756,   74.82156316,\n",
       "         76.19172092,   76.84189656,   77.93692497,   78.46327375,\n",
       "         79.74097031,   80.61996054,   81.43572514,   82.14494125,\n",
       "         83.63371725,   84.71101912,   85.86167697,   86.90526331,\n",
       "         87.12402554,   88.24750379,   89.4060714 ,   90.19479784,\n",
       "         91.13620996,   92.29586784,   93.43453994,   94.67721398,\n",
       "         95.34509709,   96.59648583,   97.63529161,   97.84310426,\n",
       "         99.12599756,  100.37634792,  101.40973695,  102.16019467,\n",
       "        103.51734976,  104.15848708,  105.75809208,  106.20114075,\n",
       "        107.48700514,  108.27096863,  109.65157107,  109.87130041,\n",
       "        110.49149595,  111.8570335 ,  113.33689112,  113.99770473,\n",
       "        115.04553777,  116.32527224,  117.03847334,  117.92815505,\n",
       "        119.39099336,  119.93835222,  120.98676562,  121.89397176,\n",
       "        122.98484653,  124.34884786,  125.15902972,  126.24877865,\n",
       "        127.02096904,  127.63710137,  129.36869399,  129.33625072,\n",
       "        130.84383243,  131.50345014,  132.67940809,  133.90532545,\n",
       "        134.38937788,  135.92752543,  136.57577724,  137.50305007,\n",
       "        139.25319638,  139.60992207,  140.20347505,  141.80001096,\n",
       "        142.90747489,  143.79206537,  144.28615102,  145.38531813,\n",
       "        146.65917768,  147.9030576 ,  148.59098976,  149.1575304 ,\n",
       "        150.78384344,  151.66836236,  152.7860839 ,  153.65018048,\n",
       "        154.55083183,  155.64995722,  156.75120338,  157.18731209,\n",
       "        158.73551873,  159.39338694,  160.70220164,  161.62037538,\n",
       "        162.94986748,  163.37562219,  164.77234614,  165.21335992,\n",
       "        166.4120868 ,  166.80550634,  168.24970235,  169.11370084,\n",
       "        170.00149747,  171.31157308,  171.87016011,  173.54165405,\n",
       "        174.23294087,  174.97935847,  176.2249596 ,  177.0983444 ,\n",
       "        178.50486518,  179.29397212,  179.62709925,  181.46351624,\n",
       "        182.12447399,  183.40673454,  184.00604564,  185.58691021,\n",
       "        186.51033657,  186.81504703,  188.61731192,  189.35320538,\n",
       "        190.10269341,  191.09494661,  192.20099126,  193.13232187,\n",
       "        193.79873202,  194.97305962,  195.89167603,  196.37201745,\n",
       "        198.16766374,  199.04638316,  199.55979555,  201.14729852,\n",
       "        202.04593408,  202.89826004,  203.52809826,  204.77927091,\n",
       "        205.65776218,  206.61481576,  207.85867937,  209.00697646,\n",
       "        209.44999502,  211.04221078,  212.02777498,  212.74643855,\n",
       "        214.13248224,  214.87684671,  215.69061964,  216.97767161,\n",
       "        218.1194424 ,  219.28694222,  219.728772  ,  220.18114364,\n",
       "        222.15425575,  222.29580226,  223.86402855,  224.32603755,\n",
       "        225.80257216,  226.43880152,  227.93239719,  228.71646046,\n",
       "        229.23418235,  230.37112124,  231.43522047,  232.98366953,\n",
       "        233.56674396,  234.63179861,  235.07656489,  236.73856335,\n",
       "        237.35735386,  238.34132314,  239.57690687,  240.01696479,\n",
       "        241.30343332,  242.56776653,  243.87088323,  244.97597242,\n",
       "        245.61788631,  246.46951733,  247.16454825,  248.29071438,\n",
       "        249.40412706,  250.21398843,  251.39524852,  252.69490369,\n",
       "        253.3090933 ,  253.8551307 ,  254.65373353,  255.86730477,\n",
       "        256.97829241,  258.83321534,  259.29787542,  260.05886499,\n",
       "        260.82292068,  262.10153939,  263.34551226,  264.15201749,\n",
       "        265.70927472,  266.06824761,  267.3466852 ,  268.09290885,\n",
       "        269.17324944,  270.0081195 ,  270.92153299,  272.30651939,\n",
       "        273.0197097 ,  273.76650252,  275.57631428,  275.62690201,\n",
       "        276.91452107,  278.16586086,  278.85371323,  280.27343032,\n",
       "        281.10689373,  282.19292463,  282.76880112,  283.97360178,\n",
       "        284.65044071,  285.68439864,  287.10846446,  287.94433765,\n",
       "        288.89482458,  290.0025223 ,  290.8630149 ,  292.05272157,\n",
       "        293.17922116,  294.39357116,  295.04628619,  295.91071181])"
      ]
     },
     "execution_count": 85,
     "metadata": {},
     "output_type": "execute_result"
    }
   ],
   "source": [
    "ny.flatten()"
   ]
  },
  {
   "cell_type": "code",
   "execution_count": 53,
   "metadata": {},
   "outputs": [
    {
     "data": {
      "text/plain": [
       "(600, 29)"
      ]
     },
     "execution_count": 53,
     "metadata": {},
     "output_type": "execute_result"
    }
   ],
   "source": [
    "pcam = pca.PCA(0.90).fit(ymean.T)\n",
    "ymean = pcam.transform(ymean.T)\n",
    "ymean.shape"
   ]
  },
  {
   "cell_type": "code",
   "execution_count": 54,
   "metadata": {},
   "outputs": [
    {
     "data": {
      "text/plain": [
       "False"
      ]
     },
     "execution_count": 54,
     "metadata": {},
     "output_type": "execute_result"
    }
   ],
   "source": [
    "np.all(ymean==ny)"
   ]
  },
  {
   "cell_type": "code",
   "execution_count": 55,
   "metadata": {},
   "outputs": [
    {
     "data": {
      "text/plain": [
       "(array([0.99990191]), 0.9022452454514305)"
      ]
     },
     "execution_count": 55,
     "metadata": {},
     "output_type": "execute_result"
    }
   ],
   "source": [
    "pcan.explained_variance_ratio_, np.sum(pcam.explained_variance_ratio_)"
   ]
  },
  {
   "cell_type": "code",
   "execution_count": 58,
   "metadata": {},
   "outputs": [
    {
     "data": {
      "text/plain": [
       "(array([0.16802286, 0.17358607, 0.16812461, 0.16894446, 0.15550322,\n",
       "        0.17160703, 0.17029338, 0.16498685, 0.15997451, 0.16021316,\n",
       "        0.17083267, 0.16806482, 0.17166846, 0.16736171, 0.17147071,\n",
       "        0.17828633, 0.16620434, 0.16150145, 0.17581553, 0.17768826,\n",
       "        0.16910043, 0.17629938, 0.13962398, 0.15500667, 0.17164191,\n",
       "        0.16805684, 0.15046774, 0.14198001, 0.15948875, 0.16243693,\n",
       "        0.17238156, 0.16319307, 0.16651373, 0.17130396, 0.16734082]),\n",
       " array([0.3534444 , 0.34394183, 0.34185283, 0.33665507, 0.3295002 ,\n",
       "        0.32574534, 0.3225141 , 0.31886664, 0.31697316, 0.31280194,\n",
       "        0.31161466, 0.30593752, 0.30310758, 0.30094058, 0.29787265,\n",
       "        0.29627436, 0.2901764 , 0.2883821 , 0.2836897 , 0.28136774,\n",
       "        0.27601553, 0.27280178, 0.27140074, 0.26811372, 0.26450079,\n",
       "        0.26061944, 0.25743421, 0.25088672, 0.24827672]))"
      ]
     },
     "execution_count": 58,
     "metadata": {},
     "output_type": "execute_result"
    }
   ],
   "source": [
    "np.std(pcam.components_, axis=0), np.std(ymean, axis=0)"
   ]
  },
  {
   "cell_type": "code",
   "execution_count": 67,
   "metadata": {},
   "outputs": [
    {
     "data": {
      "image/png": "[encoded data removed]",
      "text/plain": [
       "<Figure size 432x288 with 1 Axes>"
      ]
     },
     "metadata": {
      "needs_background": "light"
     },
     "output_type": "display_data"
    }
   ],
   "source": [
    "import matplotlib.pyplot as plt\n",
    "#plt.plot(range(ymean.shape[1]), np.std(ymean, axis=0)/np.sum(np.std(ymean, axis=0)))\n",
    "plt.plot(range(ymean.shape[1]), \n",
    "             pcam.explained_variance_ratio_, \n",
    "             label='explained variance ratio')\n",
    "plt.xlabel('Principal Component')\n",
    "plt.ylabel('Explained Variance Ratio')\n",
    "plt.show()"
   ]
  },
  {
   "cell_type": "code",
   "execution_count": null,
   "metadata": {},
   "outputs": [],
   "source": []
  },
  {
   "cell_type": "code",
   "execution_count": null,
   "metadata": {},
   "outputs": [],
   "source": []
  },
  {
   "cell_type": "code",
   "execution_count": null,
   "metadata": {},
   "outputs": [],
   "source": []
  },
  {
   "cell_type": "code",
   "execution_count": null,
   "metadata": {},
   "outputs": [],
   "source": []
  },
  {
   "cell_type": "code",
   "execution_count": null,
   "metadata": {},
   "outputs": [],
   "source": []
  },
  {
   "cell_type": "code",
   "execution_count": null,
   "metadata": {},
   "outputs": [],
   "source": []
  },
  {
   "cell_type": "code",
   "execution_count": null,
   "metadata": {},
   "outputs": [],
   "source": []
  },
  {
   "cell_type": "code",
   "execution_count": null,
   "metadata": {},
   "outputs": [],
   "source": []
  },
  {
   "cell_type": "code",
   "execution_count": null,
   "metadata": {},
   "outputs": [],
   "source": []
  },
  {
   "cell_type": "code",
   "execution_count": null,
   "metadata": {},
   "outputs": [],
   "source": []
  },
  {
   "cell_type": "code",
   "execution_count": null,
   "metadata": {},
   "outputs": [],
   "source": []
  },
  {
   "cell_type": "code",
   "execution_count": null,
   "metadata": {},
   "outputs": [],
   "source": []
  },
  {
   "cell_type": "code",
   "execution_count": null,
   "metadata": {},
   "outputs": [],
   "source": []
  }
 ],
 "metadata": {
  "kernelspec": {
   "display_name": "Python 3",
   "language": "python",
   "name": "python3"
  },
  "language_info": {
   "codemirror_mode": {
    "name": "ipython",
    "version": 3
   },
   "file_extension": ".py",
   "mimetype": "text/x-python",
   "name": "python",
   "nbconvert_exporter": "python",
   "pygments_lexer": "ipython3",
   "version": "3.6.8"
  }
 },
 "nbformat": 4,
 "nbformat_minor": 4
}
