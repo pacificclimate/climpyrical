{
 "cells": [
  {
   "cell_type": "markdown",
   "metadata": {},
   "source": [
    "# Process Stations"
   ]
  },
  {
   "cell_type": "code",
   "execution_count": 1,
   "metadata": {},
   "outputs": [],
   "source": [
    "import pandas as pd\n",
    "import geopandas as gpd\n",
    "import xarray as xr\n",
    "import numpy as np\n",
    "import matplotlib.pyplot as plt\n",
    "from pkg_resources import resource_filename\n",
    "\n",
    "from climpyrical.gridding import transform_coords, find_element_wise_nearest_pos, scale_model_obs\n",
    "from scipy.interpolate import NearestNDInterpolator"
   ]
  },
  {
   "cell_type": "markdown",
   "metadata": {},
   "source": [
    "### Load station data for processing"
   ]
  },
  {
   "cell_type": "code",
   "execution_count": 2,
   "metadata": {},
   "outputs": [
    {
     "name": "stderr",
     "output_type": "stream",
     "text": [
      "/home/nannau/tri/lib/python3.7/site-packages/pyproj/crs/crs.py:53: FutureWarning: '+init=<authority>:<code>' syntax is deprecated. '<authority>:<code>' is the preferred initialization method. When making the change, be mindful of axis order changes: https://pyproj4.github.io/pyproj/stable/gotchas.html#axis-order-changes-in-proj-6\n",
      "  return _prepare_from_string(\" \".join(pjargs))\n"
     ]
    }
   ],
   "source": [
    "# station_dv = 'RL50 (kPa)'\n",
    "# station_dv = 'mean RH (%)'\n",
    "# station_dv = 'SL50 (kPa)'\n",
    "# station_dv = 'TJan2.5 (degC)'\n",
    "station_dv = 'HDD (degC-day)'\n",
    "# station_dv = 'Q10_Gumbel-MM'\n",
    "# station_dv = 'Q50_Gumbel-MM'\n",
    "\n",
    "paths = {\n",
    "    'RL50 (kPa)': 'nrc_data/Interim_snow_rain_load_LR_composite_stations_tbd_v4.csv',\n",
    "    'mean RH (%)': 'nrc_data/rh_annual_mean_10yr_for_maps.csv',\n",
    "    'HDD (degC-day)': 'nrc_data/Interim_hdd_Tmax_Tmin_delivered.csv',\n",
    "    'SL50 (kPa)': 'nrc_data/Interim_snow_rain_load_LR_composite_stations_tbd_v4.csv',\n",
    "    'Q10_Gumbel-MM': 'nrc_data/wpress_stations_rl10_rl50.csv',\n",
    "    'TJan2.5 (degC)': 'nrc_data/janT2.5p_T1.0p_allstations_v2_for_maps.csv',\n",
    "    'TJan1.0 (degC)': 'nrc_data/janT2.5p_T1.0p_allstations_v2_for_maps.csv'\n",
    "}\n",
    "\n",
    "DF_PATH = resource_filename(\n",
    "    'climpyrical',\n",
    "    paths[station_dv]\n",
    ")\n",
    "\n",
    "df = pd.read_csv(DF_PATH, index_col=None).dropna()\n",
    "\n",
    "# transform into rotated pole and assign as new columns\n",
    "rlon_st, rlat_st = transform_coords(df['lon'].values, df['lat'].values)\n",
    "\n",
    "df = df.assign(\n",
    "        rlon=rlon_st, \n",
    "        rlat=rlat_st\n",
    ")\n",
    "\n",
    "# Create array of mean\n",
    "if 'degC' in station_dv and not 'degC-day' in station_dv:\n",
    "    df[station_dv] = df[station_dv].values + 273.15\n",
    "else:\n",
    "    df[station_dv] = df[station_dv].values\n",
    "\n",
    "file_dv = station_dv.split(' ')[0]\n",
    "\n",
    "if 'RL50' in station_dv:\n",
    "    df = df[df[station_dv] != 0.0]\n",
    "    assert not np.any(np.isclose(df[station_dv].values, 0.0))"
   ]
  },
  {
   "cell_type": "markdown",
   "metadata": {},
   "source": [
    "### Open the pre-processed model"
   ]
  },
  {
   "cell_type": "code",
   "execution_count": 3,
   "metadata": {},
   "outputs": [],
   "source": [
    "pre_processed_path = resource_filename(\n",
    "    \"climpyrical\", \n",
    "    \"/nrc_data/processed/pre_processed.nc\"\n",
    ")\n",
    "\n",
    "ds = xr.open_dataset(pre_processed_path)\n",
    "dv = list(ds.data_vars)[0]"
   ]
  },
  {
   "cell_type": "markdown",
   "metadata": {},
   "source": [
    "### Match stations to grids in model\n",
    "Find the nearest grid cells to the station locations"
   ]
  },
  {
   "cell_type": "code",
   "execution_count": 4,
   "metadata": {},
   "outputs": [],
   "source": [
    "ix, iy = find_element_wise_nearest_pos(\n",
    "            ds.rlon.values, \n",
    "            ds.rlat.values, \n",
    "            df.rlon.values, \n",
    "            df.rlat.values\n",
    ")\n",
    "\n",
    "matched_df = pd.DataFrame({'ilocy': iy, 'ilocx': ix, station_dv: df[station_dv], 'rlat':df.rlat, 'rlon':df.rlon, 'lat': df.lat, 'lon':df.lon, 'station_name':df.station_name})\n",
    "matched_df = matched_df.groupby(['ilocy', 'ilocx'], as_index=False).agg({station_dv: 'mean', 'rlat':'mean', 'rlon':'mean', 'lat': 'mean', 'lon': 'mean', 'station_name': 'first'})\n",
    "\n",
    "iy = matched_df.ilocy.values\n",
    "ix = matched_df.ilocx.values\n",
    "station_vals = matched_df[station_dv].values"
   ]
  },
  {
   "cell_type": "markdown",
   "metadata": {},
   "source": [
    "Identify locations where the closest grid cell falls on a invalid model value"
   ]
  },
  {
   "cell_type": "code",
   "execution_count": 5,
   "metadata": {},
   "outputs": [
    {
     "data": {
      "text/plain": [
       "(array([], dtype=int64), array([], dtype=int64))"
      ]
     },
     "execution_count": 5,
     "metadata": {},
     "output_type": "execute_result"
    }
   ],
   "source": [
    "nan_index = np.isnan(ds[dv].values[iy, ix])\n",
    "ixnan, iynan = matched_df.ilocx.values[nan_index], matched_df.ilocy.values[nan_index]\n",
    "ixnan, iynan"
   ]
  },
  {
   "cell_type": "markdown",
   "metadata": {},
   "source": [
    "Create an interpolator that can find the nearest valid model value at these locations"
   ]
  },
  {
   "cell_type": "code",
   "execution_count": 6,
   "metadata": {},
   "outputs": [],
   "source": [
    "rlon, rlat = np.meshgrid(ds.rlon, ds.rlat)\n",
    "\n",
    "model_nan = ~np.isnan(ds[dv])\n",
    "model_vals = ds[dv].values[iy, ix]\n",
    "\n",
    "f = NearestNDInterpolator(np.stack([rlon[model_nan], rlat[model_nan]]).T, ds[dv].values[model_nan])"
   ]
  },
  {
   "cell_type": "markdown",
   "metadata": {},
   "source": [
    "Replace those invalid values with their nearest neighbor based on above interpolator."
   ]
  },
  {
   "cell_type": "code",
   "execution_count": 7,
   "metadata": {},
   "outputs": [],
   "source": [
    "model_vals[nan_index] = f(np.stack([rlon[iynan, ixnan], rlat[iynan, ixnan]]).T)"
   ]
  },
  {
   "cell_type": "code",
   "execution_count": 8,
   "metadata": {},
   "outputs": [
    {
     "data": {
      "text/plain": [
       "<matplotlib.collections.PathCollection at 0x7f0cc32975d0>"
      ]
     },
     "execution_count": 8,
     "metadata": {},
     "output_type": "execute_result"
    },
    {
     "data": {
      "image/png": "[encoded data removed]",
      "text/plain": [
       "<Figure size 432x288 with 1 Axes>"
      ]
     },
     "metadata": {
      "needs_background": "light"
     },
     "output_type": "display_data"
    }
   ],
   "source": [
    "plt.scatter(station_vals, model_vals)"
   ]
  },
  {
   "cell_type": "markdown",
   "metadata": {},
   "source": [
    "Now each station should be matched with a value grid cell value"
   ]
  },
  {
   "cell_type": "code",
   "execution_count": 9,
   "metadata": {},
   "outputs": [],
   "source": [
    "ratio = matched_df[station_dv]/model_vals\n",
    "assert not np.any(np.isnan(ratio))"
   ]
  },
  {
   "cell_type": "markdown",
   "metadata": {},
   "source": [
    "### Normalize the model mean to match that of the station distribution\n",
    "Find a factor, $\\beta$ such that the model mean $$\\frac{\\mu_m}{\\beta} \\approx \\mu_s$$ where $\\mu_s$ is the station mean. "
   ]
  },
  {
   "cell_type": "code",
   "execution_count": 10,
   "metadata": {},
   "outputs": [],
   "source": [
    "# calculate ratios with applied correction\n",
    "ratio, best_tol = scale_model_obs(model_vals, station_vals)\n",
    "matched_df = matched_df.assign(ratio=ratio)"
   ]
  },
  {
   "cell_type": "code",
   "execution_count": 11,
   "metadata": {},
   "outputs": [],
   "source": [
    "matched_df = matched_df.assign(model_vals = model_vals, best_tol = best_tol)"
   ]
  },
  {
   "cell_type": "code",
   "execution_count": 12,
   "metadata": {},
   "outputs": [],
   "source": [
    "df_path_write = resource_filename('climpyrical', '/nrc_data/processed/processed_station.csv')\n",
    "matched_df.to_csv(df_path_write)\n",
    "\n",
    "matched_df.to_csv(f'~/dash-dv-explorer/assets/data/stations/{file_dv}_stations.csv')"
   ]
  },
  {
   "cell_type": "code",
   "execution_count": 13,
   "metadata": {},
   "outputs": [
    {
     "data": {
      "text/html": [
       "<div>\n",
       "<style scoped>\n",
       "    .dataframe tbody tr th:only-of-type {\n",
       "        vertical-align: middle;\n",
       "    }\n",
       "\n",
       "    .dataframe tbody tr th {\n",
       "        vertical-align: top;\n",
       "    }\n",
       "\n",
       "    .dataframe thead th {\n",
       "        text-align: right;\n",
       "    }\n",
       "</style>\n",
       "<table border=\"1\" class=\"dataframe\">\n",
       "  <thead>\n",
       "    <tr style=\"text-align: right;\">\n",
       "      <th></th>\n",
       "      <th>ilocy</th>\n",
       "      <th>ilocx</th>\n",
       "      <th>HDD (degC-day)</th>\n",
       "      <th>rlat</th>\n",
       "      <th>rlon</th>\n",
       "      <th>lat</th>\n",
       "      <th>lon</th>\n",
       "      <th>station_name</th>\n",
       "      <th>ratio</th>\n",
       "      <th>model_vals</th>\n",
       "      <th>best_tol</th>\n",
       "    </tr>\n",
       "  </thead>\n",
       "  <tbody>\n",
       "    <tr>\n",
       "      <th>0</th>\n",
       "      <td>552</td>\n",
       "      <td>1011</td>\n",
       "      <td>3829.15</td>\n",
       "      <td>-4.517790</td>\n",
       "      <td>10.457750</td>\n",
       "      <td>42.0333</td>\n",
       "      <td>-82.9000</td>\n",
       "      <td>HARROW CDA</td>\n",
       "      <td>1.192796</td>\n",
       "      <td>2973.975594</td>\n",
       "      <td>0.926406</td>\n",
       "    </tr>\n",
       "    <tr>\n",
       "      <th>1</th>\n",
       "      <td>552</td>\n",
       "      <td>1017</td>\n",
       "      <td>3734.15</td>\n",
       "      <td>-4.547677</td>\n",
       "      <td>10.753982</td>\n",
       "      <td>41.9500</td>\n",
       "      <td>-82.5167</td>\n",
       "      <td>POINT PELEE</td>\n",
       "      <td>1.212751</td>\n",
       "      <td>2852.472486</td>\n",
       "      <td>0.926406</td>\n",
       "    </tr>\n",
       "    <tr>\n",
       "      <th>2</th>\n",
       "      <td>553</td>\n",
       "      <td>1007</td>\n",
       "      <td>3635.15</td>\n",
       "      <td>-4.474659</td>\n",
       "      <td>10.302673</td>\n",
       "      <td>42.1034</td>\n",
       "      <td>-83.0945</td>\n",
       "      <td>AMHERSTBURG</td>\n",
       "      <td>1.097154</td>\n",
       "      <td>3069.419146</td>\n",
       "      <td>0.926406</td>\n",
       "    </tr>\n",
       "    <tr>\n",
       "      <th>3</th>\n",
       "      <td>557</td>\n",
       "      <td>1013</td>\n",
       "      <td>3672.15</td>\n",
       "      <td>-4.315023</td>\n",
       "      <td>10.546376</td>\n",
       "      <td>42.2167</td>\n",
       "      <td>-82.7333</td>\n",
       "      <td>WOODSLEE CDA AUTOMATIC CLIMATE STATION</td>\n",
       "      <td>1.116152</td>\n",
       "      <td>3047.884345</td>\n",
       "      <td>0.926406</td>\n",
       "    </tr>\n",
       "    <tr>\n",
       "      <th>4</th>\n",
       "      <td>558</td>\n",
       "      <td>1009</td>\n",
       "      <td>3652.15</td>\n",
       "      <td>-4.286849</td>\n",
       "      <td>10.373390</td>\n",
       "      <td>42.2756</td>\n",
       "      <td>-82.9556</td>\n",
       "      <td>WINDSOR A</td>\n",
       "      <td>1.078551</td>\n",
       "      <td>3136.962689</td>\n",
       "      <td>0.926406</td>\n",
       "    </tr>\n",
       "  </tbody>\n",
       "</table>\n",
       "</div>"
      ],
      "text/plain": [
       "   ilocy  ilocx  HDD (degC-day)      rlat       rlon      lat      lon  \\\n",
       "0    552   1011         3829.15 -4.517790  10.457750  42.0333 -82.9000   \n",
       "1    552   1017         3734.15 -4.547677  10.753982  41.9500 -82.5167   \n",
       "2    553   1007         3635.15 -4.474659  10.302673  42.1034 -83.0945   \n",
       "3    557   1013         3672.15 -4.315023  10.546376  42.2167 -82.7333   \n",
       "4    558   1009         3652.15 -4.286849  10.373390  42.2756 -82.9556   \n",
       "\n",
       "                             station_name     ratio   model_vals  best_tol  \n",
       "0                              HARROW CDA  1.192796  2973.975594  0.926406  \n",
       "1                             POINT PELEE  1.212751  2852.472486  0.926406  \n",
       "2                             AMHERSTBURG  1.097154  3069.419146  0.926406  \n",
       "3  WOODSLEE CDA AUTOMATIC CLIMATE STATION  1.116152  3047.884345  0.926406  \n",
       "4                               WINDSOR A  1.078551  3136.962689  0.926406  "
      ]
     },
     "execution_count": 13,
     "metadata": {},
     "output_type": "execute_result"
    }
   ],
   "source": [
    "matched_df.head()"
   ]
  },
  {
   "cell_type": "code",
   "execution_count": 14,
   "metadata": {},
   "outputs": [],
   "source": [
    "assert np.all(matched_df['ratio'] > 0)"
   ]
  },
  {
   "cell_type": "markdown",
   "metadata": {},
   "source": [
    "# Process NRC Locations"
   ]
  },
  {
   "cell_type": "code",
   "execution_count": 15,
   "metadata": {},
   "outputs": [
    {
     "name": "stderr",
     "output_type": "stream",
     "text": [
      "/home/nannau/tri/lib/python3.7/site-packages/pyproj/crs/crs.py:53: FutureWarning: '+init=<authority>:<code>' syntax is deprecated. '<authority>:<code>' is the preferred initialization method. When making the change, be mindful of axis order changes: https://pyproj4.github.io/pyproj/stable/gotchas.html#axis-order-changes-in-proj-6\n",
      "  return _prepare_from_string(\" \".join(pjargs))\n"
     ]
    }
   ],
   "source": [
    "nrc_path = '/home/nannau/nrc_data/NBCC_2020_new_coords.xlsm'\n",
    "df_nrc = pd.read_excel(nrc_path).dropna()\n",
    "\n",
    "# fill problem values with better values from 2015\n",
    "id_typo = df_nrc[(df_nrc['2020 Longitude'] > 0) | (df_nrc['2020 Latitude'] < 40)].index\n",
    "df_nrc.loc[id_typo, '2020 Longitude'] = df_nrc['2015 Long.'].values[id_typo]\n",
    "df_nrc.loc[id_typo, '2020 Latitude'] = df_nrc['2015 Lat.'].values[id_typo]\n",
    "\n",
    "# get rotated pole coordinates\n",
    "rlon_st, rlat_st = transform_coords(df_nrc['2020 Longitude'].values, df_nrc['2020 Latitude'].values)\n",
    "df_nrc = df_nrc.assign(\n",
    "        rlon=rlon_st, \n",
    "        rlat=rlat_st\n",
    ")"
   ]
  },
  {
   "cell_type": "code",
   "execution_count": 16,
   "metadata": {},
   "outputs": [],
   "source": [
    "# find indices of the station locations\n",
    "ix, iy = find_element_wise_nearest_pos(\n",
    "            ds.rlon.values, \n",
    "            ds.rlat.values, \n",
    "            df_nrc.rlon.values, \n",
    "            df_nrc.rlat.values\n",
    ")\n",
    "# write to new dataframe\n",
    "df_nrc_matched = pd.DataFrame(\n",
    "    {'ilocy': iy, \n",
    "     'ilocx': ix, \n",
    "     'Location': df_nrc.Location, \n",
    "     'rlat':df_nrc.rlat, \n",
    "     'rlon':df_nrc.rlon, \n",
    "     'lon': df_nrc['2020 Longitude'], \n",
    "     'lat': df_nrc['2020 Latitude']\n",
    "     }\n",
    ")\n",
    "\n",
    "df_nrc_matched.to_csv('./data/processed/nrc_locations.csv')"
   ]
  },
  {
   "cell_type": "code",
   "execution_count": null,
   "metadata": {},
   "outputs": [],
   "source": []
  }
 ],
 "metadata": {
  "kernelspec": {
   "display_name": "Python 3",
   "language": "python",
   "name": "python3"
  },
  "language_info": {
   "codemirror_mode": {
    "name": "ipython",
    "version": 3
   },
   "file_extension": ".py",
   "mimetype": "text/x-python",
   "name": "python",
   "nbconvert_exporter": "python",
   "pygments_lexer": "ipython3",
   "version": "3.7.9"
  }
 },
 "nbformat": 4,
 "nbformat_minor": 4
}
