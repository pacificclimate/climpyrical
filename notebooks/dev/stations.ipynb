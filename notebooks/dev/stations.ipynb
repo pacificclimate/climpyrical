{
 "cells": [
  {
   "cell_type": "markdown",
   "metadata": {},
   "source": [
    "# Process Stations"
   ]
  },
  {
   "cell_type": "code",
   "execution_count": 1,
   "metadata": {},
   "outputs": [],
   "source": [
    "import pandas as pd\n",
    "import geopandas as gpd\n",
    "import xarray as xr\n",
    "import numpy as np\n",
    "import matplotlib.pyplot as plt\n",
    "from pkg_resources import resource_filename\n",
    "import pickle\n",
    "\n",
    "from climpyrical.gridding import transform_coords, find_element_wise_nearest_pos, scale_model_obs\n",
    "from scipy.interpolate import NearestNDInterpolator"
   ]
  },
  {
   "cell_type": "markdown",
   "metadata": {},
   "source": [
    "### Load station data for processing\n",
    "\n",
    "TJan2.5\n",
    "TJan1.0\n",
    "TJul97.5\n",
    "TwJul97.5\n",
    "HDD\n",
    "Tmax\n",
    "Tmin\n",
    "R15m10\n",
    "R1d50\n",
    "PAnn\n",
    "RAnn\n",
    "MI\n",
    "SL50\n",
    "RL50\n",
    "WP10\n",
    "WP50\n",
    "DRWP5\n",
    "RHann"
   ]
  },
  {
   "cell_type": "code",
   "execution_count": 2,
   "metadata": {},
   "outputs": [
    {
     "name": "stdout",
     "output_type": "stream",
     "text": [
      "Pickled station dv:  Tmin (degC)\n",
      "Index(['history_id', 'station_name', 'province', 'lon', 'lat', 'elevation (m)',\n",
      "       'Tmean', 'Tmin (degC)', 'Tmax (degC)', 'HDD (degC-day)'],\n",
      "      dtype='object')\n",
      "Added!\n"
     ]
    },
    {
     "name": "stderr",
     "output_type": "stream",
     "text": [
      "/home/nannau/tri/lib/python3.7/site-packages/pyproj/crs/crs.py:53: FutureWarning: '+init=<authority>:<code>' syntax is deprecated. '<authority>:<code>' is the preferred initialization method. When making the change, be mindful of axis order changes: https://pyproj4.github.io/pyproj/stable/gotchas.html#axis-order-changes-in-proj-6\n",
      "  return _prepare_from_string(\" \".join(pjargs))\n"
     ]
    }
   ],
   "source": [
    "# station_dv = 'RL50 (kPa)'\n",
    "# station_dv = 'mean RH (%)'\n",
    "# station_dv = 'HDD (degC-day)'\n",
    "# station_dv = 'SL50 (kPa)'\n",
    "# station_dv = 'TJan2.5 (degC)'\n",
    "# station_dv = 'TJan1.0 (degC)'\n",
    "# station_dv = 'Q10_Gumbel-MM'\n",
    "# station_dv = 'Q50_Gumbel-MM'\n",
    "# station_dv = 'Tmin (degC)'\n",
    "# station_dv = 'Tmax (degC)'\n",
    "# station_dv = 'TJul2.5 (degC)'\n",
    "# station_dv = 'TwJul2.5 (degC)'\n",
    "\n",
    "with open('station_dv.pickle', 'rb') as outfile:\n",
    "    station_dv = pickle.load(outfile)\n",
    "    print(\"Pickled station dv: \", station_dv)\n",
    "\n",
    "paths = {\n",
    "    'RL50 (kPa)': 'nrc_data/Interim_snow_rain_load_LR_composite_stations_tbd_v4.csv',\n",
    "    'mean RH (%)': 'nrc_data/rh_annual_mean_10yr_for_maps.csv',\n",
    "    'HDD (degC-day)': 'nrc_data/Interim_hdd_Tmax_Tmin_delivered.csv',\n",
    "    'SL50 (kPa)': 'nrc_data/Interim_snow_rain_load_LR_composite_stations_tbd_v4.csv',\n",
    "    'Q10_Gumbel-MM': 'nrc_data/wpress_stations_rl10_rl50.csv',\n",
    "    'Q50_Gumbel-MM': 'nrc_data/wpress_stations_rl10_rl50.csv',\n",
    "    'TJan2.5 (degC)': 'nrc_data/janT2.5p_T1.0p_allstations_v3_min8yr_for_maps.csv',\n",
    "    'TJan1.0 (degC)': 'nrc_data/janT2.5p_T1.0p_allstations_v3_min8yr_for_maps.csv',\n",
    "    'Tmin (degC)': 'nrc_data/Interim_hdd_Tmax_Tmin_delivered.csv',\n",
    "    'Tmax (degC)': 'nrc_data/Interim_hdd_Tmax_Tmin_delivered.csv',\n",
    "    'TJul2.5 (degC)': 'nrc_data/julT97.5p_allstations_v3_min8yr_for_maps.csv',\n",
    "    'TwJul2.5 (degC)': 'nrc_data/julTwb97.5p_allstations_v3_for_maps.csv',\n",
    "    'DRWP-RL5 (Pa)': 'nrc_data/drwp_rl5_for_maps.csv',\n",
    "    'annual_pr (mm)': 'nrc_data/pr_annual_mean_doy_MSC_25yr_for_maps.csv',\n",
    "    'annual_rain (mm)': 'nrc_data/rain_annual_mean_doy_MSC_25yr_for_maps.csv',\n",
    "    'RL50 (mm)':'nrc_data/1day_rain_rl50_for_maps.csv'\n",
    "    \n",
    "}\n",
    "\n",
    "filenames = {\n",
    "    'RL50 (kPa)': 'RL50',\n",
    "    'mean RH (%)': 'RHann',\n",
    "    'HDD (degC-day)': 'HDD',\n",
    "    'SL50 (kPa)': 'SL50',\n",
    "    'Q10_Gumbel-MM': 'WP10',\n",
    "    'Q50_Gumbel-MM': 'WP50',\n",
    "    'TJan2.5 (degC)': 'TJan2.5',\n",
    "    'TJan1.0 (degC)': 'TJan1.0',\n",
    "    'Tmin (degC)': 'Tmin',\n",
    "    'Tmax (degC)': 'Tmax',\n",
    "    'TJul2.5 (degC)': 'TJul97.5',\n",
    "    'TwJul2.5 (degC)': 'TwJul97.5',\n",
    "    'DRWP-RL5 (Pa)': 'DRWP5',\n",
    "    'annual_pr (mm)': 'PAnn',\n",
    "    'annual_rain (mm)': 'RAnn',\n",
    "    'RL50 (mm)': 'R1d50'\n",
    "}\n",
    "\n",
    "file_dv = filenames[station_dv]\n",
    "\n",
    "DF_PATH = resource_filename(\n",
    "    'climpyrical',\n",
    "    paths[station_dv]\n",
    ")\n",
    "\n",
    "df = pd.read_csv(DF_PATH, index_col=None).dropna()\n",
    "print(df.columns)\n",
    "\n",
    "def check_df_columns(df):\n",
    "    if 'longitude' in df.columns:\n",
    "        df=df.rename(columns={'longitude': 'lon'})\n",
    "    if 'long' in df.columns:\n",
    "        df=df.rename(columns={'long': 'lon'})\n",
    "    if 'latitude' in df.columns:\n",
    "        df=df.rename(columns={'latitude': 'lat'})\n",
    "    if 'name' in df.columns:\n",
    "        df=df.rename(columns={'name': 'station_name'})\n",
    "    if 'Name' in df.columns:\n",
    "        df=df.rename(columns={'Name': 'station_name'})\n",
    "    return df\n",
    "\n",
    "df = check_df_columns(df)\n",
    "    \n",
    "# transform into rotated pole and assign as new columns\n",
    "rlon_st, rlat_st = transform_coords(df['lon'].values, df['lat'].values)\n",
    "\n",
    "df = df.assign(\n",
    "        rlon=rlon_st, \n",
    "        rlat=rlat_st\n",
    ")\n",
    "\n",
    "\n",
    "# Create array of mean\n",
    "if 'degC' in station_dv and not 'degC-day' in station_dv:\n",
    "    print(\"Added!\")\n",
    "    df[station_dv] = df[station_dv].values + 273.15\n",
    "else:\n",
    "    print(\"Not added!\")\n",
    "    df[station_dv] = df[station_dv].values\n",
    "\n",
    "if 'RL50' in station_dv:\n",
    "    df = df[df[station_dv] != 0.0]\n",
    "    print(\"RL50 Not inluding RL50 == 0\")\n",
    "    assert not np.any(np.isclose(df[station_dv].values, 0.0))"
   ]
  },
  {
   "cell_type": "markdown",
   "metadata": {},
   "source": [
    "### Open the pre-processed model"
   ]
  },
  {
   "cell_type": "code",
   "execution_count": 3,
   "metadata": {},
   "outputs": [],
   "source": [
    "pre_processed_path = resource_filename(\n",
    "    \"climpyrical\", \n",
    "    f\"/nrc_data/processed/{file_dv}_pre_processed.nc\"\n",
    ")\n",
    "\n",
    "ds = xr.open_dataset(pre_processed_path)\n",
    "dv = list(ds.data_vars)[0]"
   ]
  },
  {
   "cell_type": "markdown",
   "metadata": {},
   "source": [
    "### Match stations to grids in model\n",
    "Find the nearest grid cells to the station locations"
   ]
  },
  {
   "cell_type": "code",
   "execution_count": 4,
   "metadata": {},
   "outputs": [],
   "source": [
    "ix, iy = find_element_wise_nearest_pos(\n",
    "            ds.rlon.values, \n",
    "            ds.rlat.values,\n",
    "            df.rlon.values, \n",
    "            df.rlat.values\n",
    ")\n",
    "\n",
    "matched_df = pd.DataFrame(\n",
    "    {\n",
    "        'ilocy': iy, \n",
    "        'ilocx': ix, \n",
    "        station_dv: df[station_dv], \n",
    "        'rlat':df.rlat, \n",
    "        'rlon':df.rlon, \n",
    "        'lat': df.lat, \n",
    "        'lon':df.lon, \n",
    "        'station_name':df.station_name\n",
    "    }\n",
    ")\n",
    "\n",
    "matched_df = matched_df.groupby(\n",
    "    ['ilocy', 'ilocx'], as_index=False\n",
    ").agg(\n",
    "    {\n",
    "        station_dv: 'mean', \n",
    "        'rlat':'mean', \n",
    "        'rlon':'mean', \n",
    "        'lat': 'mean', \n",
    "        'lon': 'mean', \n",
    "        'station_name': 'first'\n",
    "    }\n",
    ")\n",
    "\n",
    "iy = matched_df.ilocy.values\n",
    "ix = matched_df.ilocx.values\n",
    "station_vals = matched_df[station_dv].values"
   ]
  },
  {
   "cell_type": "markdown",
   "metadata": {},
   "source": [
    "Identify locations where the closest grid cell falls on a invalid model value"
   ]
  },
  {
   "cell_type": "code",
   "execution_count": 5,
   "metadata": {},
   "outputs": [
    {
     "data": {
      "text/plain": [
       "(array([1061, 1250, 1253,  364,  363,  386, 1250,  386,  375,  349, 1393,\n",
       "         338, 1376,  336,  347,  348, 1403, 1326,  349,  345, 1398, 1365,\n",
       "         332,  337,  310,  904,  549]),\n",
       " array([ 599,  693,  696,  756,  758,  760,  760,  766,  776,  778,  807,\n",
       "         808,  813,  817,  818,  824,  824,  840,  848,  850,  858,  865,\n",
       "         886,  903,  915, 1161, 1207]))"
      ]
     },
     "execution_count": 5,
     "metadata": {},
     "output_type": "execute_result"
    }
   ],
   "source": [
    "nan_index = np.isnan(ds[dv].values[iy, ix])\n",
    "ixnan, iynan = matched_df.ilocx.values[nan_index], matched_df.ilocy.values[nan_index]\n",
    "ixnan, iynan"
   ]
  },
  {
   "cell_type": "markdown",
   "metadata": {},
   "source": [
    "Create an interpolator that can find the nearest valid model value at these locations"
   ]
  },
  {
   "cell_type": "code",
   "execution_count": 6,
   "metadata": {},
   "outputs": [
    {
     "name": "stdout",
     "output_type": "stream",
     "text": [
      "(1510, 1550)\n"
     ]
    },
    {
     "name": "stderr",
     "output_type": "stream",
     "text": [
      "/home/nannau/tri/lib/python3.7/site-packages/pyproj/crs/crs.py:53: FutureWarning: '+init=<authority>:<code>' syntax is deprecated. '<authority>:<code>' is the preferred initialization method. When making the change, be mindful of axis order changes: https://pyproj4.github.io/pyproj/stable/gotchas.html#axis-order-changes-in-proj-6\n",
      "  return _prepare_from_string(\" \".join(pjargs))\n"
     ]
    }
   ],
   "source": [
    "from climpyrical.data import read_data\n",
    "from climpyrical.gridding import extend_north\n",
    "rlon, rlat = np.meshgrid(ds.rlon, ds.rlat)\n",
    "\n",
    "mask_path = resource_filename('climpyrical', '/nrc_data/processed/canada_mask_rp.nc')\n",
    "\n",
    "with read_data(mask_path) as ds_mask:\n",
    "    print(ds_mask['mask'].shape)\n",
    "    rmask = extend_north(ds_mask, 'mask', 210, fill_val=np.nan)\n",
    "    rmask = ds_mask['mask'].values\n",
    "\n",
    "model_nan = ~np.isnan(ds[dv])\n",
    "model_nan = np.logical_and(rmask, model_nan)\n",
    "model_vals = ds[dv].values[iy, ix]\n",
    "\n",
    "f = NearestNDInterpolator(np.stack([rlon[model_nan], rlat[model_nan]]).T, ds[dv].values[model_nan], 'nearest')"
   ]
  },
  {
   "cell_type": "markdown",
   "metadata": {},
   "source": [
    "Replace those invalid values with their nearest neighbor based on above interpolator."
   ]
  },
  {
   "cell_type": "code",
   "execution_count": 7,
   "metadata": {},
   "outputs": [],
   "source": [
    "model_vals[nan_index] = f(np.stack([rlon[iynan, ixnan], rlat[iynan, ixnan]]).T)"
   ]
  },
  {
   "cell_type": "code",
   "execution_count": 8,
   "metadata": {},
   "outputs": [
    {
     "data": {
      "text/plain": [
       "<matplotlib.collections.PathCollection at 0x7f8536ef8cd0>"
      ]
     },
     "execution_count": 8,
     "metadata": {},
     "output_type": "execute_result"
    },
    {
     "data": {
      "image/png": "[encoded data removed]",
      "text/plain": [
       "<Figure size 432x288 with 1 Axes>"
      ]
     },
     "metadata": {
      "needs_background": "light"
     },
     "output_type": "display_data"
    }
   ],
   "source": [
    "plt.scatter(station_vals, model_vals)"
   ]
  },
  {
   "cell_type": "markdown",
   "metadata": {},
   "source": [
    "Now each station should be matched with a value grid cell value"
   ]
  },
  {
   "cell_type": "markdown",
   "metadata": {},
   "source": [
    "### Normalize the model mean to match that of the station distribution\n",
    "Find a factor, $\\beta$ such that the model mean $$\\frac{\\mu_m}{\\beta} \\approx \\mu_s$$ where $\\mu_s$ is the station mean. "
   ]
  },
  {
   "cell_type": "code",
   "execution_count": 9,
   "metadata": {},
   "outputs": [
    {
     "name": "stdout",
     "output_type": "stream",
     "text": [
      "0.996781877025386\n"
     ]
    }
   ],
   "source": [
    "# calculate ratios with applied correction\n",
    "ratio, best_tol = scale_model_obs(model_vals, station_vals)\n",
    "assert not np.any(np.isnan(ratio))\n",
    "matched_df = matched_df.assign(ratio=ratio)\n",
    "print(best_tol)"
   ]
  },
  {
   "cell_type": "code",
   "execution_count": 10,
   "metadata": {},
   "outputs": [
    {
     "data": {
      "text/html": [
       "<div>\n",
       "<style scoped>\n",
       "    .dataframe tbody tr th:only-of-type {\n",
       "        vertical-align: middle;\n",
       "    }\n",
       "\n",
       "    .dataframe tbody tr th {\n",
       "        vertical-align: top;\n",
       "    }\n",
       "\n",
       "    .dataframe thead th {\n",
       "        text-align: right;\n",
       "    }\n",
       "</style>\n",
       "<table border=\"1\" class=\"dataframe\">\n",
       "  <thead>\n",
       "    <tr style=\"text-align: right;\">\n",
       "      <th></th>\n",
       "      <th>ilocy</th>\n",
       "      <th>ilocx</th>\n",
       "      <th>Tmin (degC)</th>\n",
       "      <th>rlat</th>\n",
       "      <th>rlon</th>\n",
       "      <th>lat</th>\n",
       "      <th>lon</th>\n",
       "      <th>station_name</th>\n",
       "      <th>ratio</th>\n",
       "      <th>model_vals</th>\n",
       "    </tr>\n",
       "  </thead>\n",
       "  <tbody>\n",
       "  </tbody>\n",
       "</table>\n",
       "</div>"
      ],
      "text/plain": [
       "Empty DataFrame\n",
       "Columns: [ilocy, ilocx, Tmin (degC), rlat, rlon, lat, lon, station_name, ratio, model_vals]\n",
       "Index: []"
      ]
     },
     "execution_count": 10,
     "metadata": {},
     "output_type": "execute_result"
    }
   ],
   "source": [
    "matched_df = matched_df.assign(model_vals = model_vals)\n",
    "matched_df[matched_df.ratio > 3]"
   ]
  },
  {
   "cell_type": "code",
   "execution_count": 11,
   "metadata": {},
   "outputs": [
    {
     "data": {
      "text/html": [
       "<div>\n",
       "<style scoped>\n",
       "    .dataframe tbody tr th:only-of-type {\n",
       "        vertical-align: middle;\n",
       "    }\n",
       "\n",
       "    .dataframe tbody tr th {\n",
       "        vertical-align: top;\n",
       "    }\n",
       "\n",
       "    .dataframe thead th {\n",
       "        text-align: right;\n",
       "    }\n",
       "</style>\n",
       "<table border=\"1\" class=\"dataframe\">\n",
       "  <thead>\n",
       "    <tr style=\"text-align: right;\">\n",
       "      <th></th>\n",
       "      <th>ilocy</th>\n",
       "      <th>ilocx</th>\n",
       "      <th>Tmin (degC)</th>\n",
       "      <th>rlat</th>\n",
       "      <th>rlon</th>\n",
       "      <th>lat</th>\n",
       "      <th>lon</th>\n",
       "      <th>station_name</th>\n",
       "      <th>ratio</th>\n",
       "      <th>model_vals</th>\n",
       "    </tr>\n",
       "  </thead>\n",
       "  <tbody>\n",
       "    <tr>\n",
       "      <th>0</th>\n",
       "      <td>552</td>\n",
       "      <td>1011</td>\n",
       "      <td>255.15</td>\n",
       "      <td>-4.517790</td>\n",
       "      <td>10.457750</td>\n",
       "      <td>42.0333</td>\n",
       "      <td>-82.9000</td>\n",
       "      <td>HARROW CDA</td>\n",
       "      <td>0.977559</td>\n",
       "      <td>260.167236</td>\n",
       "    </tr>\n",
       "    <tr>\n",
       "      <th>1</th>\n",
       "      <td>552</td>\n",
       "      <td>1017</td>\n",
       "      <td>257.15</td>\n",
       "      <td>-4.547677</td>\n",
       "      <td>10.753982</td>\n",
       "      <td>41.9500</td>\n",
       "      <td>-82.5167</td>\n",
       "      <td>POINT PELEE</td>\n",
       "      <td>0.984618</td>\n",
       "      <td>260.326752</td>\n",
       "    </tr>\n",
       "    <tr>\n",
       "      <th>2</th>\n",
       "      <td>553</td>\n",
       "      <td>1007</td>\n",
       "      <td>258.15</td>\n",
       "      <td>-4.474659</td>\n",
       "      <td>10.302673</td>\n",
       "      <td>42.1034</td>\n",
       "      <td>-83.0945</td>\n",
       "      <td>AMHERSTBURG</td>\n",
       "      <td>0.990677</td>\n",
       "      <td>259.740845</td>\n",
       "    </tr>\n",
       "  </tbody>\n",
       "</table>\n",
       "</div>"
      ],
      "text/plain": [
       "   ilocy  ilocx  Tmin (degC)      rlat       rlon      lat      lon  \\\n",
       "0    552   1011       255.15 -4.517790  10.457750  42.0333 -82.9000   \n",
       "1    552   1017       257.15 -4.547677  10.753982  41.9500 -82.5167   \n",
       "2    553   1007       258.15 -4.474659  10.302673  42.1034 -83.0945   \n",
       "\n",
       "  station_name     ratio  model_vals  \n",
       "0   HARROW CDA  0.977559  260.167236  \n",
       "1  POINT PELEE  0.984618  260.326752  \n",
       "2  AMHERSTBURG  0.990677  259.740845  "
      ]
     },
     "execution_count": 11,
     "metadata": {},
     "output_type": "execute_result"
    }
   ],
   "source": [
    "matched_df.head(3)"
   ]
  },
  {
   "cell_type": "code",
   "execution_count": 12,
   "metadata": {},
   "outputs": [],
   "source": [
    "df_path_write = resource_filename('climpyrical', f'/nrc_data/processed/{file_dv}_processed_station.csv')\n",
    "matched_df.to_csv(df_path_write, index=False)\n",
    "\n",
    "matched_df.to_csv(f'~/dash-dv-explorer/assets/data/stations/{file_dv}_stations.csv', index=False)"
   ]
  },
  {
   "cell_type": "code",
   "execution_count": 13,
   "metadata": {},
   "outputs": [],
   "source": [
    "assert np.all(matched_df['ratio'] >= 0)"
   ]
  },
  {
   "cell_type": "markdown",
   "metadata": {},
   "source": [
    "# Process NRC Locations"
   ]
  },
  {
   "cell_type": "code",
   "execution_count": 14,
   "metadata": {},
   "outputs": [
    {
     "name": "stderr",
     "output_type": "stream",
     "text": [
      "/home/nannau/tri/lib/python3.7/site-packages/pyproj/crs/crs.py:53: FutureWarning: '+init=<authority>:<code>' syntax is deprecated. '<authority>:<code>' is the preferred initialization method. When making the change, be mindful of axis order changes: https://pyproj4.github.io/pyproj/stable/gotchas.html#axis-order-changes-in-proj-6\n",
      "  return _prepare_from_string(\" \".join(pjargs))\n"
     ]
    }
   ],
   "source": [
    "nrc_path = '/home/nannau/nrc_data/NBCC_2020_new_coords.xlsm'\n",
    "df_nrc = pd.read_excel(nrc_path).dropna()\n",
    "\n",
    "# fill problem values with better values from 2015\n",
    "id_typo = df_nrc[(df_nrc['2020 Longitude'] > 0) | (df_nrc['2020 Latitude'] < 40)].index\n",
    "df_nrc.loc[id_typo, '2020 Longitude'] = df_nrc['2015 Long.'].values[id_typo]\n",
    "df_nrc.loc[id_typo, '2020 Latitude'] = df_nrc['2015 Lat.'].values[id_typo]\n",
    "\n",
    "# get rotated pole coordinates\n",
    "rlon_st, rlat_st = transform_coords(df_nrc['2020 Longitude'].values, df_nrc['2020 Latitude'].values)\n",
    "df_nrc = df_nrc.assign(\n",
    "        rlon=rlon_st, \n",
    "        rlat=rlat_st\n",
    ")"
   ]
  },
  {
   "cell_type": "code",
   "execution_count": 15,
   "metadata": {},
   "outputs": [],
   "source": [
    "# find indices of the station locations\n",
    "ix, iy = find_element_wise_nearest_pos(\n",
    "            ds.rlon.values, \n",
    "            ds.rlat.values, \n",
    "            df_nrc.rlon.values, \n",
    "            df_nrc.rlat.values\n",
    ")\n",
    "# write to new dataframe\n",
    "df_nrc_matched = pd.DataFrame(\n",
    "    {'ilocy': iy, \n",
    "     'ilocx': ix, \n",
    "     'Location': df_nrc.Location, \n",
    "     'Prov': df_nrc.Prov,\n",
    "     'rlat':df_nrc.rlat, \n",
    "     'rlon':df_nrc.rlon, \n",
    "     'lon': df_nrc['2020 Longitude'], \n",
    "     'lat': df_nrc['2020 Latitude']\n",
    "     }\n",
    ")\n",
    "\n",
    "df_nrc_matched.to_csv('./data/processed/nrc_locations.csv', index=False)"
   ]
  },
  {
   "cell_type": "code",
   "execution_count": 16,
   "metadata": {},
   "outputs": [
    {
     "data": {
      "text/html": [
       "<div>\n",
       "<style scoped>\n",
       "    .dataframe tbody tr th:only-of-type {\n",
       "        vertical-align: middle;\n",
       "    }\n",
       "\n",
       "    .dataframe tbody tr th {\n",
       "        vertical-align: top;\n",
       "    }\n",
       "\n",
       "    .dataframe thead th {\n",
       "        text-align: right;\n",
       "    }\n",
       "</style>\n",
       "<table border=\"1\" class=\"dataframe\">\n",
       "  <thead>\n",
       "    <tr style=\"text-align: right;\">\n",
       "      <th></th>\n",
       "      <th>LocationID</th>\n",
       "      <th>SortOrder</th>\n",
       "      <th>Location</th>\n",
       "      <th>Prov</th>\n",
       "      <th>2015 Elev (m)</th>\n",
       "      <th>2020 Elev (m)</th>\n",
       "      <th>Was Elev. Changed</th>\n",
       "      <th>2015 Lat.</th>\n",
       "      <th>2015 Long.</th>\n",
       "      <th>2020 Latitude</th>\n",
       "      <th>2020 Longitude</th>\n",
       "      <th>Was Lat. Changed</th>\n",
       "      <th>Was Long. Changed</th>\n",
       "      <th>rlon</th>\n",
       "      <th>rlat</th>\n",
       "    </tr>\n",
       "  </thead>\n",
       "  <tbody>\n",
       "    <tr>\n",
       "      <th>0</th>\n",
       "      <td>1.0</td>\n",
       "      <td>10.0</td>\n",
       "      <td>100 Mile House</td>\n",
       "      <td>BC</td>\n",
       "      <td>1040</td>\n",
       "      <td>926</td>\n",
       "      <td>Yes</td>\n",
       "      <td>51.6500</td>\n",
       "      <td>-121.2833</td>\n",
       "      <td>51.64</td>\n",
       "      <td>-121.3</td>\n",
       "      <td>Yes</td>\n",
       "      <td>Yes</td>\n",
       "      <td>-14.893575</td>\n",
       "      <td>6.472805</td>\n",
       "    </tr>\n",
       "    <tr>\n",
       "      <th>1</th>\n",
       "      <td>2.0</td>\n",
       "      <td>20.0</td>\n",
       "      <td>Abbotsford</td>\n",
       "      <td>BC</td>\n",
       "      <td>70</td>\n",
       "      <td>70</td>\n",
       "      <td>No</td>\n",
       "      <td>49.0517</td>\n",
       "      <td>-122.3289</td>\n",
       "      <td>49.05</td>\n",
       "      <td>-122.33</td>\n",
       "      <td>Yes</td>\n",
       "      <td>Yes</td>\n",
       "      <td>-16.329523</td>\n",
       "      <td>4.215381</td>\n",
       "    </tr>\n",
       "    <tr>\n",
       "      <th>2</th>\n",
       "      <td>3.0</td>\n",
       "      <td>30.0</td>\n",
       "      <td>Agassiz</td>\n",
       "      <td>BC</td>\n",
       "      <td>15</td>\n",
       "      <td>25</td>\n",
       "      <td>Yes</td>\n",
       "      <td>49.2300</td>\n",
       "      <td>-121.7700</td>\n",
       "      <td>49.24</td>\n",
       "      <td>-121.76</td>\n",
       "      <td>Yes</td>\n",
       "      <td>Yes</td>\n",
       "      <td>-15.914789</td>\n",
       "      <td>4.279140</td>\n",
       "    </tr>\n",
       "    <tr>\n",
       "      <th>3</th>\n",
       "      <td>4.0</td>\n",
       "      <td>40.0</td>\n",
       "      <td>Alberni</td>\n",
       "      <td>BC</td>\n",
       "      <td>12</td>\n",
       "      <td>50</td>\n",
       "      <td>Yes</td>\n",
       "      <td>49.2700</td>\n",
       "      <td>-124.8000</td>\n",
       "      <td>49.27</td>\n",
       "      <td>-124.8</td>\n",
       "      <td>No</td>\n",
       "      <td>No</td>\n",
       "      <td>-17.785699</td>\n",
       "      <td>4.957228</td>\n",
       "    </tr>\n",
       "    <tr>\n",
       "      <th>4</th>\n",
       "      <td>5.0</td>\n",
       "      <td>50.0</td>\n",
       "      <td>Ashcroft</td>\n",
       "      <td>BC</td>\n",
       "      <td>305</td>\n",
       "      <td>305</td>\n",
       "      <td>No</td>\n",
       "      <td>50.7200</td>\n",
       "      <td>-121.2800</td>\n",
       "      <td>50.72</td>\n",
       "      <td>-121.28</td>\n",
       "      <td>No</td>\n",
       "      <td>No</td>\n",
       "      <td>-15.163711</td>\n",
       "      <td>5.592810</td>\n",
       "    </tr>\n",
       "    <tr>\n",
       "      <th>...</th>\n",
       "      <td>...</td>\n",
       "      <td>...</td>\n",
       "      <td>...</td>\n",
       "      <td>...</td>\n",
       "      <td>...</td>\n",
       "      <td>...</td>\n",
       "      <td>...</td>\n",
       "      <td>...</td>\n",
       "      <td>...</td>\n",
       "      <td>...</td>\n",
       "      <td>...</td>\n",
       "      <td>...</td>\n",
       "      <td>...</td>\n",
       "      <td>...</td>\n",
       "      <td>...</td>\n",
       "    </tr>\n",
       "    <tr>\n",
       "      <th>675</th>\n",
       "      <td>632.0</td>\n",
       "      <td>6760.0</td>\n",
       "      <td>Kugluktuk</td>\n",
       "      <td>NU</td>\n",
       "      <td>10</td>\n",
       "      <td>15</td>\n",
       "      <td>Yes</td>\n",
       "      <td>67.8300</td>\n",
       "      <td>-115.0800</td>\n",
       "      <td>67.83</td>\n",
       "      <td>-115.1</td>\n",
       "      <td>No</td>\n",
       "      <td>Yes</td>\n",
       "      <td>-7.222514</td>\n",
       "      <td>21.173542</td>\n",
       "    </tr>\n",
       "    <tr>\n",
       "      <th>676</th>\n",
       "      <td>637.0</td>\n",
       "      <td>6770.0</td>\n",
       "      <td>Nottingham Island</td>\n",
       "      <td>NU</td>\n",
       "      <td>30</td>\n",
       "      <td>30</td>\n",
       "      <td>No</td>\n",
       "      <td>63.1000</td>\n",
       "      <td>-78.0000</td>\n",
       "      <td>63.12</td>\n",
       "      <td>-77.93</td>\n",
       "      <td>Yes</td>\n",
       "      <td>Yes</td>\n",
       "      <td>8.872319</td>\n",
       "      <td>16.711316</td>\n",
       "    </tr>\n",
       "    <tr>\n",
       "      <th>677</th>\n",
       "      <td>639.0</td>\n",
       "      <td>6780.0</td>\n",
       "      <td>Resolute</td>\n",
       "      <td>NU</td>\n",
       "      <td>25</td>\n",
       "      <td>20</td>\n",
       "      <td>Yes</td>\n",
       "      <td>74.6800</td>\n",
       "      <td>-94.9000</td>\n",
       "      <td>74.70</td>\n",
       "      <td>-94.83</td>\n",
       "      <td>Yes</td>\n",
       "      <td>Yes</td>\n",
       "      <td>0.643710</td>\n",
       "      <td>27.208988</td>\n",
       "    </tr>\n",
       "    <tr>\n",
       "      <th>678</th>\n",
       "      <td>640.0</td>\n",
       "      <td>6790.0</td>\n",
       "      <td>Resolution Island</td>\n",
       "      <td>NU</td>\n",
       "      <td>5</td>\n",
       "      <td>0</td>\n",
       "      <td>Yes</td>\n",
       "      <td>61.3000</td>\n",
       "      <td>-64.8833</td>\n",
       "      <td>61.31</td>\n",
       "      <td>-64.87</td>\n",
       "      <td>Yes</td>\n",
       "      <td>Yes</td>\n",
       "      <td>15.487842</td>\n",
       "      <td>17.032368</td>\n",
       "    </tr>\n",
       "    <tr>\n",
       "      <th>679</th>\n",
       "      <td>633.0</td>\n",
       "      <td>6800.0</td>\n",
       "      <td>Salliq / Coral Harbour</td>\n",
       "      <td>NU</td>\n",
       "      <td>15</td>\n",
       "      <td>10</td>\n",
       "      <td>Yes</td>\n",
       "      <td>64.1300</td>\n",
       "      <td>-83.1700</td>\n",
       "      <td>64.14</td>\n",
       "      <td>-83.17</td>\n",
       "      <td>Yes</td>\n",
       "      <td>No</td>\n",
       "      <td>6.265970</td>\n",
       "      <td>17.198330</td>\n",
       "    </tr>\n",
       "  </tbody>\n",
       "</table>\n",
       "<p>679 rows × 15 columns</p>\n",
       "</div>"
      ],
      "text/plain": [
       "     LocationID  SortOrder                Location Prov 2015 Elev (m)  \\\n",
       "0           1.0       10.0          100 Mile House   BC          1040   \n",
       "1           2.0       20.0              Abbotsford   BC            70   \n",
       "2           3.0       30.0                 Agassiz   BC            15   \n",
       "3           4.0       40.0                 Alberni   BC            12   \n",
       "4           5.0       50.0                Ashcroft   BC           305   \n",
       "..          ...        ...                     ...  ...           ...   \n",
       "675       632.0     6760.0               Kugluktuk   NU            10   \n",
       "676       637.0     6770.0       Nottingham Island   NU            30   \n",
       "677       639.0     6780.0                Resolute   NU            25   \n",
       "678       640.0     6790.0       Resolution Island   NU             5   \n",
       "679       633.0     6800.0  Salliq / Coral Harbour   NU            15   \n",
       "\n",
       "    2020 Elev (m) Was Elev. Changed  2015 Lat.  2015 Long.  2020 Latitude  \\\n",
       "0             926               Yes    51.6500   -121.2833          51.64   \n",
       "1              70                No    49.0517   -122.3289          49.05   \n",
       "2              25               Yes    49.2300   -121.7700          49.24   \n",
       "3              50               Yes    49.2700   -124.8000          49.27   \n",
       "4             305                No    50.7200   -121.2800          50.72   \n",
       "..            ...               ...        ...         ...            ...   \n",
       "675            15               Yes    67.8300   -115.0800          67.83   \n",
       "676            30                No    63.1000    -78.0000          63.12   \n",
       "677            20               Yes    74.6800    -94.9000          74.70   \n",
       "678             0               Yes    61.3000    -64.8833          61.31   \n",
       "679            10               Yes    64.1300    -83.1700          64.14   \n",
       "\n",
       "    2020 Longitude Was Lat. Changed Was Long. Changed       rlon       rlat  \n",
       "0           -121.3              Yes               Yes -14.893575   6.472805  \n",
       "1          -122.33              Yes               Yes -16.329523   4.215381  \n",
       "2          -121.76              Yes               Yes -15.914789   4.279140  \n",
       "3           -124.8               No                No -17.785699   4.957228  \n",
       "4          -121.28               No                No -15.163711   5.592810  \n",
       "..             ...              ...               ...        ...        ...  \n",
       "675         -115.1               No               Yes  -7.222514  21.173542  \n",
       "676         -77.93              Yes               Yes   8.872319  16.711316  \n",
       "677         -94.83              Yes               Yes   0.643710  27.208988  \n",
       "678         -64.87              Yes               Yes  15.487842  17.032368  \n",
       "679         -83.17              Yes                No   6.265970  17.198330  \n",
       "\n",
       "[679 rows x 15 columns]"
      ]
     },
     "execution_count": 16,
     "metadata": {},
     "output_type": "execute_result"
    }
   ],
   "source": [
    "df_nrc"
   ]
  },
  {
   "cell_type": "code",
   "execution_count": null,
   "metadata": {},
   "outputs": [],
   "source": []
  },
  {
   "cell_type": "code",
   "execution_count": null,
   "metadata": {},
   "outputs": [],
   "source": []
  },
  {
   "cell_type": "code",
   "execution_count": null,
   "metadata": {},
   "outputs": [],
   "source": []
  }
 ],
 "metadata": {
  "kernelspec": {
   "display_name": "Python 3",
   "language": "python",
   "name": "python3"
  },
  "language_info": {
   "codemirror_mode": {
    "name": "ipython",
    "version": 3
   },
   "file_extension": ".py",
   "mimetype": "text/x-python",
   "name": "python",
   "nbconvert_exporter": "python",
   "pygments_lexer": "ipython3",
   "version": "3.7.9"
  }
 },
 "nbformat": 4,
 "nbformat_minor": 4
}
