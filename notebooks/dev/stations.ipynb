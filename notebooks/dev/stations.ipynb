{
 "cells": [
  {
   "cell_type": "markdown",
   "metadata": {},
   "source": [
    "# Process Stations"
   ]
  },
  {
   "cell_type": "code",
   "execution_count": 1,
   "metadata": {},
   "outputs": [],
   "source": [
    "import pandas as pd\n",
    "import geopandas as gpd\n",
    "import xarray as xr\n",
    "import numpy as np\n",
    "import matplotlib.pyplot as plt\n",
    "\n",
    "from climpyrical.gridding import transform_coords, find_element_wise_nearest_pos\n",
    "from scipy.interpolate import NearestNDInterpolator"
   ]
  },
  {
   "cell_type": "markdown",
   "metadata": {},
   "source": [
    "### Load station data for processing"
   ]
  },
  {
   "cell_type": "code",
   "execution_count": 43,
   "metadata": {},
   "outputs": [],
   "source": [
    "df_path = '/home/nannau/nrc_data/Interim_snow_rain_load_LR_composite_stations_delivered_v3.csv'\n",
    "\n",
    "df = pd.read_csv(df_path, index_col=None)\n",
    "df_zero = pd.read_csv(df_path, index_col=None)\n",
    "\n",
    "\n",
    "station_dv = 'RL50 (kPa)'\n",
    "\n",
    "# transform into rotated pole and assign as new columns\n",
    "rlon_st, rlat_st = transform_coords(df['lon'].values, df['lat'].values)\n",
    "df = df.assign(\n",
    "        rlon=rlon_st, \n",
    "        rlat=rlat_st\n",
    ")\n",
    "\n",
    "df_zero = df.copy()\n",
    "\n",
    "\n",
    "df = df[df[station_dv] != 0.0]"
   ]
  },
  {
   "cell_type": "code",
   "execution_count": 44,
   "metadata": {},
   "outputs": [
    {
     "data": {
      "text/plain": [
       "27.224762925109236"
      ]
     },
     "execution_count": 44,
     "metadata": {},
     "output_type": "execute_result"
    }
   ],
   "source": [
    "df.rlat.max()"
   ]
  },
  {
   "cell_type": "markdown",
   "metadata": {},
   "source": [
    "### Open the pre-processed model"
   ]
  },
  {
   "cell_type": "code",
   "execution_count": 45,
   "metadata": {},
   "outputs": [],
   "source": [
    "dv = 'Rain-RL50'\n",
    "ds = xr.open_dataset('./data/processed/pre_processed.nc')"
   ]
  },
  {
   "cell_type": "markdown",
   "metadata": {},
   "source": [
    "### Match stations to grids in model\n",
    "Find the nearest grid cells to the station locations"
   ]
  },
  {
   "cell_type": "code",
   "execution_count": 46,
   "metadata": {},
   "outputs": [],
   "source": [
    "ix, iy = find_element_wise_nearest_pos(\n",
    "            ds.rlon.values, \n",
    "            ds.rlat.values, \n",
    "            df.rlon.values, \n",
    "            df.rlat.values\n",
    ")\n",
    "\n",
    "matched_df = pd.DataFrame({'ilocy': iy, 'ilocx': ix, station_dv: df[station_dv], 'rlat':df.rlat, 'rlon':df.rlon, 'lat': df.lat, 'lon':df.lon, 'station_name':df.station_name})\n",
    "matched_df = matched_df.groupby(['ilocy', 'ilocx'], as_index=False).agg({station_dv: 'mean', 'rlat':'mean', 'rlon':'mean', 'lat': 'mean', 'lon': 'mean', 'station_name': 'first'})\n",
    "\n",
    "iy = matched_df.ilocy.values\n",
    "ix = matched_df.ilocx.values\n",
    "station_vals = matched_df[station_dv].values"
   ]
  },
  {
   "cell_type": "markdown",
   "metadata": {},
   "source": [
    "Identify locations where the closest grid cell falls on a invalid model value"
   ]
  },
  {
   "cell_type": "code",
   "execution_count": 47,
   "metadata": {},
   "outputs": [
    {
     "data": {
      "text/plain": [
       "(array([1313,  377,  343,  345,  310]), array([752, 771, 818, 850, 915]))"
      ]
     },
     "execution_count": 47,
     "metadata": {},
     "output_type": "execute_result"
    }
   ],
   "source": [
    "nan_index = np.isnan(ds[dv].values[iy, ix])\n",
    "ixnan, iynan = matched_df.ilocx.values[nan_index], matched_df.ilocy.values[nan_index]\n",
    "ixnan, iynan"
   ]
  },
  {
   "cell_type": "markdown",
   "metadata": {},
   "source": [
    "Create an interpolator that can find the nearest valid model value at these locations"
   ]
  },
  {
   "cell_type": "code",
   "execution_count": 48,
   "metadata": {},
   "outputs": [],
   "source": [
    "rlon, rlat = np.meshgrid(ds.rlon, ds.rlat)\n",
    "\n",
    "model_nan = ~np.isnan(ds[dv])\n",
    "model_vals = ds[dv].values[iy, ix]\n",
    "\n",
    "f = NearestNDInterpolator(np.stack([rlon[model_nan], rlat[model_nan]]).T, ds[dv].values[model_nan])"
   ]
  },
  {
   "cell_type": "markdown",
   "metadata": {},
   "source": [
    "Replace those invalid values with their nearest neighbor based on above interpolator."
   ]
  },
  {
   "cell_type": "code",
   "execution_count": 49,
   "metadata": {},
   "outputs": [],
   "source": [
    "model_vals[nan_index] = f(np.stack([rlon[iynan, ixnan], rlat[iynan, ixnan]]).T)"
   ]
  },
  {
   "cell_type": "markdown",
   "metadata": {},
   "source": [
    "Now each station should be matched with a value grid cell value"
   ]
  },
  {
   "cell_type": "code",
   "execution_count": 50,
   "metadata": {},
   "outputs": [],
   "source": [
    "ratio = matched_df[station_dv]/model_vals\n",
    "assert not np.any(np.isnan(ratio))"
   ]
  },
  {
   "cell_type": "markdown",
   "metadata": {},
   "source": [
    "### Normalize the model mean to match that of the station distribution\n",
    "Find a factor, $\\beta$ such that the model mean $$\\frac{\\mu_m}{\\beta} \\approx \\mu_s$$ where $\\mu_s$ is the station mean. "
   ]
  },
  {
   "cell_type": "code",
   "execution_count": 51,
   "metadata": {},
   "outputs": [
    {
     "name": "stdout",
     "output_type": "stream",
     "text": [
      "0.07631750039103402 <= 0.8226638467373804 <= 1.676317500391034\n"
     ]
    }
   ],
   "source": [
    "# choose starting value\n",
    "start = np.nanmean(model_vals/station_vals)\n",
    "# enter tolerances\n",
    "tol = np.linspace(start-0.8, start+0.8, 1000)\n",
    "\n",
    "if np.nanmean(matched_df[station_dv] - model_vals) >= 0:\n",
    "    rmtols = np.array([np.nanmean(matched_df[station_dv] - (model_vals/t)) for t in tol])\n",
    "    best_tol = tol[np.where(np.diff(np.sign(rmtols)) != 0.)[0][0]]\n",
    "\n",
    "if np.nanmean(matched_df[station_dv] - model_vals) < 0:\n",
    "    rmtols = np.array([np.nanmean(matched_df[station_dv] - (model_vals/t)) for t in tol])\n",
    "    best_tol = tol[np.where(np.diff(np.sign(rmtols)) != 0.)[0][0]]\n",
    "\n",
    "print(tol.min(), \"<=\", best_tol, \"<=\", tol.max())\n",
    "\n",
    "# apply correction\n",
    "model_vals_corrected = model_vals/best_tol\n",
    "mean_corrected = ds[dv].values/best_tol\n",
    "ratio = model_vals_corrected/station_vals\n",
    "\n",
    "# calculate ratios with applied correction\n",
    "matched_df = matched_df.assign(ratio=ratio)"
   ]
  },
  {
   "cell_type": "code",
   "execution_count": 52,
   "metadata": {},
   "outputs": [],
   "source": [
    "final_df = pd.concat([matched_df, df_zero[df_zero[station_dv] == 0.0]], sort=False)"
   ]
  },
  {
   "cell_type": "code",
   "execution_count": 53,
   "metadata": {},
   "outputs": [
    {
     "data": {
      "text/html": [
       "<div>\n",
       "<style scoped>\n",
       "    .dataframe tbody tr th:only-of-type {\n",
       "        vertical-align: middle;\n",
       "    }\n",
       "\n",
       "    .dataframe tbody tr th {\n",
       "        vertical-align: top;\n",
       "    }\n",
       "\n",
       "    .dataframe thead th {\n",
       "        text-align: right;\n",
       "    }\n",
       "</style>\n",
       "<table border=\"1\" class=\"dataframe\">\n",
       "  <thead>\n",
       "    <tr style=\"text-align: right;\">\n",
       "      <th></th>\n",
       "      <th>ilocy</th>\n",
       "      <th>ilocx</th>\n",
       "      <th>RL50 (kPa)</th>\n",
       "      <th>rlat</th>\n",
       "      <th>rlon</th>\n",
       "      <th>lat</th>\n",
       "      <th>lon</th>\n",
       "      <th>station_name</th>\n",
       "      <th>ratio</th>\n",
       "      <th>id</th>\n",
       "      <th>province</th>\n",
       "      <th>elev (m)</th>\n",
       "      <th>SL50 (kPa)</th>\n",
       "    </tr>\n",
       "  </thead>\n",
       "  <tbody>\n",
       "    <tr>\n",
       "      <th>0</th>\n",
       "      <td>558.0</td>\n",
       "      <td>1009.0</td>\n",
       "      <td>0.402</td>\n",
       "      <td>-4.286849</td>\n",
       "      <td>10.373390</td>\n",
       "      <td>42.275600</td>\n",
       "      <td>-82.955600</td>\n",
       "      <td>WINDSOR A</td>\n",
       "      <td>0.853905</td>\n",
       "      <td>NaN</td>\n",
       "      <td>NaN</td>\n",
       "      <td>NaN</td>\n",
       "      <td>NaN</td>\n",
       "    </tr>\n",
       "    <tr>\n",
       "      <th>1</th>\n",
       "      <td>559.0</td>\n",
       "      <td>1009.0</td>\n",
       "      <td>0.484</td>\n",
       "      <td>-4.227125</td>\n",
       "      <td>10.379271</td>\n",
       "      <td>42.333300</td>\n",
       "      <td>-82.933300</td>\n",
       "      <td>WINDSOR RIVERSIDE</td>\n",
       "      <td>0.707769</td>\n",
       "      <td>NaN</td>\n",
       "      <td>NaN</td>\n",
       "      <td>NaN</td>\n",
       "      <td>NaN</td>\n",
       "    </tr>\n",
       "    <tr>\n",
       "      <th>2</th>\n",
       "      <td>576.0</td>\n",
       "      <td>1017.0</td>\n",
       "      <td>0.389</td>\n",
       "      <td>-3.494586</td>\n",
       "      <td>10.713492</td>\n",
       "      <td>42.992200</td>\n",
       "      <td>-82.304700</td>\n",
       "      <td>SARNIA AIRPORT</td>\n",
       "      <td>0.894242</td>\n",
       "      <td>NaN</td>\n",
       "      <td>NaN</td>\n",
       "      <td>NaN</td>\n",
       "      <td>NaN</td>\n",
       "    </tr>\n",
       "    <tr>\n",
       "      <th>3</th>\n",
       "      <td>577.0</td>\n",
       "      <td>1048.0</td>\n",
       "      <td>0.470</td>\n",
       "      <td>-3.434479</td>\n",
       "      <td>12.106219</td>\n",
       "      <td>42.774390</td>\n",
       "      <td>-80.429060</td>\n",
       "      <td>HAGERSVILLE 2 composite</td>\n",
       "      <td>0.830162</td>\n",
       "      <td>NaN</td>\n",
       "      <td>NaN</td>\n",
       "      <td>NaN</td>\n",
       "      <td>NaN</td>\n",
       "    </tr>\n",
       "    <tr>\n",
       "      <th>4</th>\n",
       "      <td>579.0</td>\n",
       "      <td>1046.0</td>\n",
       "      <td>0.587</td>\n",
       "      <td>-3.362845</td>\n",
       "      <td>11.999925</td>\n",
       "      <td>42.866700</td>\n",
       "      <td>-80.550000</td>\n",
       "      <td>DELHI CDA</td>\n",
       "      <td>0.656625</td>\n",
       "      <td>NaN</td>\n",
       "      <td>NaN</td>\n",
       "      <td>NaN</td>\n",
       "      <td>NaN</td>\n",
       "    </tr>\n",
       "    <tr>\n",
       "      <th>...</th>\n",
       "      <td>...</td>\n",
       "      <td>...</td>\n",
       "      <td>...</td>\n",
       "      <td>...</td>\n",
       "      <td>...</td>\n",
       "      <td>...</td>\n",
       "      <td>...</td>\n",
       "      <td>...</td>\n",
       "      <td>...</td>\n",
       "      <td>...</td>\n",
       "      <td>...</td>\n",
       "      <td>...</td>\n",
       "      <td>...</td>\n",
       "    </tr>\n",
       "    <tr>\n",
       "      <th>515</th>\n",
       "      <td>NaN</td>\n",
       "      <td>NaN</td>\n",
       "      <td>0.000</td>\n",
       "      <td>6.264631</td>\n",
       "      <td>-10.568321</td>\n",
       "      <td>52.576342</td>\n",
       "      <td>-114.457750</td>\n",
       "      <td>ROCKY MTN HOUSE A composite</td>\n",
       "      <td>NaN</td>\n",
       "      <td>1002.0</td>\n",
       "      <td>AB</td>\n",
       "      <td>964.0</td>\n",
       "      <td>2.0</td>\n",
       "    </tr>\n",
       "    <tr>\n",
       "      <th>516</th>\n",
       "      <td>NaN</td>\n",
       "      <td>NaN</td>\n",
       "      <td>0.000</td>\n",
       "      <td>7.123156</td>\n",
       "      <td>-9.770329</td>\n",
       "      <td>53.586200</td>\n",
       "      <td>-113.479294</td>\n",
       "      <td>OLIVER TREE NURSERY composite</td>\n",
       "      <td>NaN</td>\n",
       "      <td>1124.0</td>\n",
       "      <td>AB</td>\n",
       "      <td>676.0</td>\n",
       "      <td>1.8</td>\n",
       "    </tr>\n",
       "    <tr>\n",
       "      <th>517</th>\n",
       "      <td>NaN</td>\n",
       "      <td>NaN</td>\n",
       "      <td>0.000</td>\n",
       "      <td>9.005042</td>\n",
       "      <td>-10.025082</td>\n",
       "      <td>55.367700</td>\n",
       "      <td>-114.610000</td>\n",
       "      <td>WAGNER composite</td>\n",
       "      <td>NaN</td>\n",
       "      <td>1734.0</td>\n",
       "      <td>AB</td>\n",
       "      <td>584.0</td>\n",
       "      <td>2.8</td>\n",
       "    </tr>\n",
       "    <tr>\n",
       "      <th>518</th>\n",
       "      <td>NaN</td>\n",
       "      <td>NaN</td>\n",
       "      <td>0.000</td>\n",
       "      <td>15.939087</td>\n",
       "      <td>13.391752</td>\n",
       "      <td>61.066650</td>\n",
       "      <td>-69.591650</td>\n",
       "      <td>CAPE HOPES ADVANCE composite</td>\n",
       "      <td>NaN</td>\n",
       "      <td>2075.0</td>\n",
       "      <td>QC</td>\n",
       "      <td>52.0</td>\n",
       "      <td>4.2</td>\n",
       "    </tr>\n",
       "    <tr>\n",
       "      <th>519</th>\n",
       "      <td>NaN</td>\n",
       "      <td>NaN</td>\n",
       "      <td>0.000</td>\n",
       "      <td>16.132952</td>\n",
       "      <td>-11.670039</td>\n",
       "      <td>61.802860</td>\n",
       "      <td>-121.282200</td>\n",
       "      <td>FORT SIMPSON composite</td>\n",
       "      <td>NaN</td>\n",
       "      <td>2139.0</td>\n",
       "      <td>NT</td>\n",
       "      <td>154.0</td>\n",
       "      <td>2.7</td>\n",
       "    </tr>\n",
       "  </tbody>\n",
       "</table>\n",
       "<p>519 rows × 13 columns</p>\n",
       "</div>"
      ],
      "text/plain": [
       "     ilocy   ilocx  RL50 (kPa)       rlat       rlon        lat         lon  \\\n",
       "0    558.0  1009.0       0.402  -4.286849  10.373390  42.275600  -82.955600   \n",
       "1    559.0  1009.0       0.484  -4.227125  10.379271  42.333300  -82.933300   \n",
       "2    576.0  1017.0       0.389  -3.494586  10.713492  42.992200  -82.304700   \n",
       "3    577.0  1048.0       0.470  -3.434479  12.106219  42.774390  -80.429060   \n",
       "4    579.0  1046.0       0.587  -3.362845  11.999925  42.866700  -80.550000   \n",
       "..     ...     ...         ...        ...        ...        ...         ...   \n",
       "515    NaN     NaN       0.000   6.264631 -10.568321  52.576342 -114.457750   \n",
       "516    NaN     NaN       0.000   7.123156  -9.770329  53.586200 -113.479294   \n",
       "517    NaN     NaN       0.000   9.005042 -10.025082  55.367700 -114.610000   \n",
       "518    NaN     NaN       0.000  15.939087  13.391752  61.066650  -69.591650   \n",
       "519    NaN     NaN       0.000  16.132952 -11.670039  61.802860 -121.282200   \n",
       "\n",
       "                      station_name     ratio      id province  elev (m)  \\\n",
       "0                        WINDSOR A  0.853905     NaN      NaN       NaN   \n",
       "1                WINDSOR RIVERSIDE  0.707769     NaN      NaN       NaN   \n",
       "2                   SARNIA AIRPORT  0.894242     NaN      NaN       NaN   \n",
       "3          HAGERSVILLE 2 composite  0.830162     NaN      NaN       NaN   \n",
       "4                        DELHI CDA  0.656625     NaN      NaN       NaN   \n",
       "..                             ...       ...     ...      ...       ...   \n",
       "515    ROCKY MTN HOUSE A composite       NaN  1002.0       AB     964.0   \n",
       "516  OLIVER TREE NURSERY composite       NaN  1124.0       AB     676.0   \n",
       "517               WAGNER composite       NaN  1734.0       AB     584.0   \n",
       "518   CAPE HOPES ADVANCE composite       NaN  2075.0       QC      52.0   \n",
       "519         FORT SIMPSON composite       NaN  2139.0       NT     154.0   \n",
       "\n",
       "     SL50 (kPa)  \n",
       "0           NaN  \n",
       "1           NaN  \n",
       "2           NaN  \n",
       "3           NaN  \n",
       "4           NaN  \n",
       "..          ...  \n",
       "515         2.0  \n",
       "516         1.8  \n",
       "517         2.8  \n",
       "518         4.2  \n",
       "519         2.7  \n",
       "\n",
       "[519 rows x 13 columns]"
      ]
     },
     "execution_count": 53,
     "metadata": {},
     "output_type": "execute_result"
    }
   ],
   "source": [
    "final_df.to_csv('./data/processed/processed_station.csv')\n",
    "final_df"
   ]
  },
  {
   "cell_type": "code",
   "execution_count": 35,
   "metadata": {},
   "outputs": [
    {
     "data": {
      "text/html": [
       "<div>\n",
       "<style scoped>\n",
       "    .dataframe tbody tr th:only-of-type {\n",
       "        vertical-align: middle;\n",
       "    }\n",
       "\n",
       "    .dataframe tbody tr th {\n",
       "        vertical-align: top;\n",
       "    }\n",
       "\n",
       "    .dataframe thead th {\n",
       "        text-align: right;\n",
       "    }\n",
       "</style>\n",
       "<table border=\"1\" class=\"dataframe\">\n",
       "  <thead>\n",
       "    <tr style=\"text-align: right;\">\n",
       "      <th></th>\n",
       "      <th>ilocy</th>\n",
       "      <th>ilocx</th>\n",
       "      <th>RL50 (kPa)</th>\n",
       "      <th>rlat</th>\n",
       "      <th>rlon</th>\n",
       "      <th>lat</th>\n",
       "      <th>lon</th>\n",
       "      <th>station_name</th>\n",
       "      <th>ratio</th>\n",
       "    </tr>\n",
       "  </thead>\n",
       "  <tbody>\n",
       "    <tr>\n",
       "      <th>0</th>\n",
       "      <td>558</td>\n",
       "      <td>1009</td>\n",
       "      <td>0.402</td>\n",
       "      <td>-4.286849</td>\n",
       "      <td>10.373390</td>\n",
       "      <td>42.27560</td>\n",
       "      <td>-82.95560</td>\n",
       "      <td>WINDSOR A</td>\n",
       "      <td>0.853905</td>\n",
       "    </tr>\n",
       "    <tr>\n",
       "      <th>1</th>\n",
       "      <td>559</td>\n",
       "      <td>1009</td>\n",
       "      <td>0.484</td>\n",
       "      <td>-4.227125</td>\n",
       "      <td>10.379271</td>\n",
       "      <td>42.33330</td>\n",
       "      <td>-82.93330</td>\n",
       "      <td>WINDSOR RIVERSIDE</td>\n",
       "      <td>0.707769</td>\n",
       "    </tr>\n",
       "    <tr>\n",
       "      <th>2</th>\n",
       "      <td>576</td>\n",
       "      <td>1017</td>\n",
       "      <td>0.389</td>\n",
       "      <td>-3.494586</td>\n",
       "      <td>10.713492</td>\n",
       "      <td>42.99220</td>\n",
       "      <td>-82.30470</td>\n",
       "      <td>SARNIA AIRPORT</td>\n",
       "      <td>0.894242</td>\n",
       "    </tr>\n",
       "    <tr>\n",
       "      <th>3</th>\n",
       "      <td>577</td>\n",
       "      <td>1048</td>\n",
       "      <td>0.470</td>\n",
       "      <td>-3.434479</td>\n",
       "      <td>12.106219</td>\n",
       "      <td>42.77439</td>\n",
       "      <td>-80.42906</td>\n",
       "      <td>HAGERSVILLE 2 composite</td>\n",
       "      <td>0.830162</td>\n",
       "    </tr>\n",
       "    <tr>\n",
       "      <th>4</th>\n",
       "      <td>579</td>\n",
       "      <td>1046</td>\n",
       "      <td>0.587</td>\n",
       "      <td>-3.362845</td>\n",
       "      <td>11.999925</td>\n",
       "      <td>42.86670</td>\n",
       "      <td>-80.55000</td>\n",
       "      <td>DELHI CDA</td>\n",
       "      <td>0.656625</td>\n",
       "    </tr>\n",
       "  </tbody>\n",
       "</table>\n",
       "</div>"
      ],
      "text/plain": [
       "   ilocy  ilocx  RL50 (kPa)      rlat       rlon       lat       lon  \\\n",
       "0    558   1009       0.402 -4.286849  10.373390  42.27560 -82.95560   \n",
       "1    559   1009       0.484 -4.227125  10.379271  42.33330 -82.93330   \n",
       "2    576   1017       0.389 -3.494586  10.713492  42.99220 -82.30470   \n",
       "3    577   1048       0.470 -3.434479  12.106219  42.77439 -80.42906   \n",
       "4    579   1046       0.587 -3.362845  11.999925  42.86670 -80.55000   \n",
       "\n",
       "              station_name     ratio  \n",
       "0                WINDSOR A  0.853905  \n",
       "1        WINDSOR RIVERSIDE  0.707769  \n",
       "2           SARNIA AIRPORT  0.894242  \n",
       "3  HAGERSVILLE 2 composite  0.830162  \n",
       "4                DELHI CDA  0.656625  "
      ]
     },
     "execution_count": 35,
     "metadata": {},
     "output_type": "execute_result"
    }
   ],
   "source": [
    "matched_df.head()"
   ]
  },
  {
   "cell_type": "markdown",
   "metadata": {},
   "source": [
    "# NRC Locations"
   ]
  },
  {
   "cell_type": "code",
   "execution_count": 26,
   "metadata": {},
   "outputs": [],
   "source": [
    "nrc_path = '/home/nannau/nrc_data/NBCC_2020_new_coords.xlsm'\n",
    "df_nrc = pd.read_excel(nrc_path).dropna()\n",
    "\n",
    "# fill problem values with better values from 2015\n",
    "id_typo = df_nrc[(df_nrc['2020 Longitude'] > 0) | (df_nrc['2020 Latitude'] < 40)].index\n",
    "df_nrc.loc[id_typo, '2020 Longitude'] = df_nrc['2015 Long.'].values[id_typo]\n",
    "df_nrc.loc[id_typo, '2020 Latitude'] = df_nrc['2015 Lat.'].values[id_typo]\n",
    "\n",
    "# get rotated pole coordinates\n",
    "rlon_st, rlat_st = transform_coords(df_nrc['2020 Longitude'].values, df_nrc['2020 Latitude'].values)\n",
    "df_nrc = df_nrc.assign(\n",
    "        rlon=rlon_st, \n",
    "        rlat=rlat_st\n",
    ")"
   ]
  },
  {
   "cell_type": "code",
   "execution_count": 31,
   "metadata": {},
   "outputs": [],
   "source": [
    "# find indices of the station locations\n",
    "ix, iy = find_element_wise_nearest_pos(\n",
    "            ds.rlon.values, \n",
    "            ds.rlat.values, \n",
    "            df_nrc.rlon.values, \n",
    "            df_nrc.rlat.values\n",
    ")\n",
    "# write to new dataframe\n",
    "df_nrc_matched = pd.DataFrame(\n",
    "    {'ilocy': iy, \n",
    "     'ilocx': ix, \n",
    "     'Location': df_nrc.Location, \n",
    "     'rlat':df_nrc.rlat, \n",
    "     'rlon':df_nrc.rlon, \n",
    "     '2020 Longitude': df_nrc['2020 Longitude'], \n",
    "     '2020 Latitude': df_nrc['2020 Latitude']\n",
    "     }\n",
    ")\n",
    "\n",
    "df_nrc_matched.to_csv('./data/processed/nrc_locations.csv')"
   ]
  },
  {
   "cell_type": "code",
   "execution_count": null,
   "metadata": {},
   "outputs": [],
   "source": []
  }
 ],
 "metadata": {
  "kernelspec": {
   "display_name": "Python 3",
   "language": "python",
   "name": "python3"
  },
  "language_info": {
   "codemirror_mode": {
    "name": "ipython",
    "version": 3
   },
   "file_extension": ".py",
   "mimetype": "text/x-python",
   "name": "python",
   "nbconvert_exporter": "python",
   "pygments_lexer": "ipython3",
   "version": "3.6.7"
  }
 },
 "nbformat": 4,
 "nbformat_minor": 2
}
