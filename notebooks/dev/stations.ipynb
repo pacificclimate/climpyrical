{
 "cells": [
  {
   "cell_type": "markdown",
   "metadata": {},
   "source": [
    "# Process Stations"
   ]
  },
  {
   "cell_type": "code",
   "execution_count": 1,
   "metadata": {},
   "outputs": [],
   "source": [
    "import pandas as pd\n",
    "import geopandas as gpd\n",
    "import xarray as xr\n",
    "import numpy as np\n",
    "import matplotlib.pyplot as plt\n",
    "from pkg_resources import resource_filename\n",
    "\n",
    "from climpyrical.gridding import transform_coords, find_element_wise_nearest_pos\n",
    "from scipy.interpolate import NearestNDInterpolator"
   ]
  },
  {
   "cell_type": "markdown",
   "metadata": {},
   "source": [
    "### Load station data for processing"
   ]
  },
  {
   "cell_type": "code",
   "execution_count": 2,
   "metadata": {},
   "outputs": [
    {
     "name": "stderr",
     "output_type": "stream",
     "text": [
      "/home/nannau/tri/lib/python3.7/site-packages/pyproj/crs/crs.py:53: FutureWarning: '+init=<authority>:<code>' syntax is deprecated. '<authority>:<code>' is the preferred initialization method. When making the change, be mindful of axis order changes: https://pyproj4.github.io/pyproj/stable/gotchas.html#axis-order-changes-in-proj-6\n",
      "  return _prepare_from_string(\" \".join(pjargs))\n"
     ]
    },
    {
     "data": {
      "text/html": [
       "<div>\n",
       "<style scoped>\n",
       "    .dataframe tbody tr th:only-of-type {\n",
       "        vertical-align: middle;\n",
       "    }\n",
       "\n",
       "    .dataframe tbody tr th {\n",
       "        vertical-align: top;\n",
       "    }\n",
       "\n",
       "    .dataframe thead th {\n",
       "        text-align: right;\n",
       "    }\n",
       "</style>\n",
       "<table border=\"1\" class=\"dataframe\">\n",
       "  <thead>\n",
       "    <tr style=\"text-align: right;\">\n",
       "      <th></th>\n",
       "      <th>history_id</th>\n",
       "      <th>station_name</th>\n",
       "      <th>province</th>\n",
       "      <th>lon</th>\n",
       "      <th>lat</th>\n",
       "      <th>elev (m)</th>\n",
       "      <th>TJan2.5 (degC)</th>\n",
       "      <th>TJan1.0 (degC)</th>\n",
       "      <th>rlon</th>\n",
       "      <th>rlat</th>\n",
       "    </tr>\n",
       "  </thead>\n",
       "  <tbody>\n",
       "    <tr>\n",
       "      <th>0</th>\n",
       "      <td>31</td>\n",
       "      <td>DISCOVERY ISLAND</td>\n",
       "      <td>BC</td>\n",
       "      <td>-123.226</td>\n",
       "      <td>48.4246</td>\n",
       "      <td>19</td>\n",
       "      <td>273.85</td>\n",
       "      <td>-1.4</td>\n",
       "      <td>-17.091967</td>\n",
       "      <td>3.813107</td>\n",
       "    </tr>\n",
       "    <tr>\n",
       "      <th>1</th>\n",
       "      <td>42</td>\n",
       "      <td>ESQUIMALT HARBOUR</td>\n",
       "      <td>BC</td>\n",
       "      <td>-123.439</td>\n",
       "      <td>48.4320</td>\n",
       "      <td>3</td>\n",
       "      <td>271.75</td>\n",
       "      <td>-3.2</td>\n",
       "      <td>-17.223366</td>\n",
       "      <td>3.866425</td>\n",
       "    </tr>\n",
       "    <tr>\n",
       "      <th>2</th>\n",
       "      <td>56</td>\n",
       "      <td>MALAHAT</td>\n",
       "      <td>BC</td>\n",
       "      <td>-123.530</td>\n",
       "      <td>48.5749</td>\n",
       "      <td>366</td>\n",
       "      <td>267.95</td>\n",
       "      <td>-7.0</td>\n",
       "      <td>-17.233219</td>\n",
       "      <td>4.021213</td>\n",
       "    </tr>\n",
       "  </tbody>\n",
       "</table>\n",
       "</div>"
      ],
      "text/plain": [
       "   history_id       station_name province      lon      lat  elev (m)  \\\n",
       "0          31   DISCOVERY ISLAND       BC -123.226  48.4246        19   \n",
       "1          42  ESQUIMALT HARBOUR       BC -123.439  48.4320         3   \n",
       "2          56            MALAHAT       BC -123.530  48.5749       366   \n",
       "\n",
       "   TJan2.5 (degC)  TJan1.0 (degC)       rlon      rlat  \n",
       "0          273.85            -1.4 -17.091967  3.813107  \n",
       "1          271.75            -3.2 -17.223366  3.866425  \n",
       "2          267.95            -7.0 -17.233219  4.021213  "
      ]
     },
     "execution_count": 2,
     "metadata": {},
     "output_type": "execute_result"
    }
   ],
   "source": [
    "# df_path = '/home/nannau/nrc_data/Interim_snow_rain_load_LR_composite_stations_delivered_v3.csv'\n",
    "# df_path = '/home/nannau/nrc_data/Interim_hdd_Tmax_Tmin_delivered.csv'\n",
    "# df_path = '/home/nannau/nrc_data/Interim_snow_rain_load_LR_composite_stations_tbd_v4.csv'\n",
    "# df_path = '/home/nannau/nrc_data/sl50_from_swe50_sdmax_lrs_composite_mss.csv'\n",
    "# df_path = resource_filename('climpyrical', \n",
    "#                             '/nrc_data/janT2.5p_T1.0p_allstations_v2_for_maps.csv')\n",
    "\n",
    "df_path = resource_filename('climpyrical', \n",
    "                            '/nrc_data/janT2.5p_T1.0p_allstations_min8yr_for_maps.csv')\n",
    "\n",
    "df = pd.read_csv(df_path, index_col=None)#.dropna()\n",
    "df_zero = pd.read_csv(df_path, index_col=None)\n",
    "\n",
    "\n",
    "# station_dv = 'RL50 (kPa)'\n",
    "# station_dv = 'SL50 (kPa)'\n",
    "station_dv = 'TJan2.5 (degC)'\n",
    "\n",
    "# station_dv = 'HDD (degC-day)'\n",
    "\n",
    "# transform into rotated pole and assign as new columns\n",
    "rlon_st, rlat_st = transform_coords(df['lon'].values, df['lat'].values)\n",
    "\n",
    "df = df.assign(\n",
    "        rlon=rlon_st, \n",
    "        rlat=rlat_st\n",
    ")\n",
    "\n",
    "df[station_dv] = df[station_dv].values + 273.15\n",
    "\n",
    "\n",
    "# df_zero = df.copy()\n",
    "\n",
    "# df = df[df[station_dv] != 0.0]\n",
    "df.head(3)"
   ]
  },
  {
   "cell_type": "markdown",
   "metadata": {},
   "source": [
    "### Open the pre-processed model"
   ]
  },
  {
   "cell_type": "code",
   "execution_count": 3,
   "metadata": {},
   "outputs": [
    {
     "data": {
      "text/plain": [
       "263.724028701548"
      ]
     },
     "execution_count": 3,
     "metadata": {},
     "output_type": "execute_result"
    }
   ],
   "source": [
    "# dv = 'Rain-RL50'\n",
    "# dv = 'heating_degree_days_per_time_period'\n",
    "# dv = 'snw'\n",
    "dv = 'tas'\n",
    "\n",
    "pre_processed_path = resource_filename(\n",
    "    \"climpyrical\", \n",
    "    \"/nrc_data/processed/pre_processed.nc\"\n",
    ")\n",
    "\n",
    "ds = xr.open_dataset(pre_processed_path)\n",
    "np.nanmean(ds[dv].values)"
   ]
  },
  {
   "cell_type": "markdown",
   "metadata": {},
   "source": [
    "### Match stations to grids in model\n",
    "Find the nearest grid cells to the station locations"
   ]
  },
  {
   "cell_type": "code",
   "execution_count": 4,
   "metadata": {},
   "outputs": [],
   "source": [
    "ix, iy = find_element_wise_nearest_pos(\n",
    "            ds.rlon.values, \n",
    "            ds.rlat.values, \n",
    "            df.rlon.values, \n",
    "            df.rlat.values\n",
    ")\n",
    "\n",
    "matched_df = pd.DataFrame({'ilocy': iy, 'ilocx': ix, station_dv: df[station_dv], 'rlat':df.rlat, 'rlon':df.rlon, 'lat': df.lat, 'lon':df.lon, 'station_name':df.station_name})\n",
    "matched_df = matched_df.groupby(['ilocy', 'ilocx'], as_index=False).agg({station_dv: 'mean', 'rlat':'mean', 'rlon':'mean', 'lat': 'mean', 'lon': 'mean', 'station_name': 'first'})\n",
    "\n",
    "iy = matched_df.ilocy.values\n",
    "ix = matched_df.ilocx.values\n",
    "station_vals = matched_df[station_dv].values"
   ]
  },
  {
   "cell_type": "code",
   "execution_count": 5,
   "metadata": {},
   "outputs": [],
   "source": [
    "# station_vals"
   ]
  },
  {
   "cell_type": "code",
   "execution_count": 6,
   "metadata": {},
   "outputs": [
    {
     "name": "stdout",
     "output_type": "stream",
     "text": [
      "(373,) (393, 10)\n"
     ]
    }
   ],
   "source": [
    "print(station_vals.shape, df.shape)"
   ]
  },
  {
   "cell_type": "markdown",
   "metadata": {},
   "source": [
    "Identify locations where the closest grid cell falls on a invalid model value"
   ]
  },
  {
   "cell_type": "code",
   "execution_count": 7,
   "metadata": {},
   "outputs": [
    {
     "data": {
      "text/plain": [
       "(array([], dtype=int64), array([], dtype=int64))"
      ]
     },
     "execution_count": 7,
     "metadata": {},
     "output_type": "execute_result"
    }
   ],
   "source": [
    "nan_index = np.isnan(ds[dv].values[iy, ix])\n",
    "ixnan, iynan = matched_df.ilocx.values[nan_index], matched_df.ilocy.values[nan_index]\n",
    "ixnan, iynan"
   ]
  },
  {
   "cell_type": "markdown",
   "metadata": {},
   "source": [
    "Create an interpolator that can find the nearest valid model value at these locations"
   ]
  },
  {
   "cell_type": "code",
   "execution_count": 8,
   "metadata": {},
   "outputs": [],
   "source": [
    "rlon, rlat = np.meshgrid(ds.rlon, ds.rlat)\n",
    "\n",
    "model_nan = ~np.isnan(ds[dv])\n",
    "model_vals = ds[dv].values[iy, ix]\n",
    "\n",
    "f = NearestNDInterpolator(np.stack([rlon[model_nan], rlat[model_nan]]).T, ds[dv].values[model_nan])"
   ]
  },
  {
   "cell_type": "markdown",
   "metadata": {},
   "source": [
    "Replace those invalid values with their nearest neighbor based on above interpolator."
   ]
  },
  {
   "cell_type": "code",
   "execution_count": 9,
   "metadata": {},
   "outputs": [],
   "source": [
    "model_vals[nan_index] = f(np.stack([rlon[iynan, ixnan], rlat[iynan, ixnan]]).T)"
   ]
  },
  {
   "cell_type": "code",
   "execution_count": 10,
   "metadata": {},
   "outputs": [
    {
     "data": {
      "text/plain": [
       "<matplotlib.collections.PathCollection at 0x7f5d62f41790>"
      ]
     },
     "execution_count": 10,
     "metadata": {},
     "output_type": "execute_result"
    },
    {
     "data": {
      "image/png": "[encoded data removed]",
      "text/plain": [
       "<Figure size 432x288 with 1 Axes>"
      ]
     },
     "metadata": {
      "needs_background": "light"
     },
     "output_type": "display_data"
    }
   ],
   "source": [
    "plt.scatter(station_vals, model_vals)"
   ]
  },
  {
   "cell_type": "markdown",
   "metadata": {},
   "source": [
    "Now each station should be matched with a value grid cell value"
   ]
  },
  {
   "cell_type": "code",
   "execution_count": 11,
   "metadata": {},
   "outputs": [],
   "source": [
    "ratio = matched_df[station_dv]/model_vals\n",
    "assert not np.any(np.isnan(ratio))"
   ]
  },
  {
   "cell_type": "markdown",
   "metadata": {},
   "source": [
    "### Normalize the model mean to match that of the station distribution\n",
    "Find a factor, $\\beta$ such that the model mean $$\\frac{\\mu_m}{\\beta} \\approx \\mu_s$$ where $\\mu_s$ is the station mean. "
   ]
  },
  {
   "cell_type": "code",
   "execution_count": 12,
   "metadata": {},
   "outputs": [
    {
     "name": "stdout",
     "output_type": "stream",
     "text": [
      "0.1 <= 1.0045478527426555 < 3.0138447099142436\n",
      "New difference -0.01640380755393429\n"
     ]
    },
    {
     "data": {
      "image/png": "[encoded data removed]",
      "text/plain": [
       "<Figure size 432x288 with 1 Axes>"
      ]
     },
     "metadata": {
      "needs_background": "light"
     },
     "output_type": "display_data"
    }
   ],
   "source": [
    "# choose starting value\n",
    "# station_vals_no_0 = station_vals[station_vals != 0.0]\n",
    "# model_vals_no_0 = model_vals[station_vals != 0.0]\n",
    "\n",
    "start = np.nanmean(model_vals)/np. nanmean(station_vals)\n",
    "\n",
    "# enter tolerances\n",
    "tol = np.linspace(0.1, start*3, 10000)\n",
    "\n",
    "diff = np.array([np.nanmean((station_vals - model_vals/t)) for t in tol])\n",
    "# idx = np.argwhere(np.diff(np.sign(np.zeros(tol.shape) - diff))).flatten()\n",
    "best_tol = tol[np.where(np.diff(np.sign(diff)))[0][0]]\n",
    "# best_tol = tol[idx][0]\n",
    "\n",
    "plt.plot(tol, diff, color='red')\n",
    "plt.hlines(0, tol.min(), tol.max(), color='black', linestyle='--')\n",
    "plt.vlines(best_tol, -50, 50, color='black', linestyle='--')\n",
    "plt.plot()\n",
    "\n",
    "# rmtols = np.array([np.nanmean(station_vals - (model_vals/t)) for t in tol])\n",
    "# print(rmtols)\n",
    "# best_tol = tol[np.where(np.diff(np.sign(rmtols)) != 0.)[0][0]]\n",
    "# best_tol = 1.0\n",
    "print(tol.min(), \"<=\", best_tol, \"<\", tol.max())\n",
    "\n",
    "# apply correction\n",
    "model_vals_corrected = model_vals/best_tol\n",
    "mean_corrected = ds[dv].values/best_tol\n",
    "\n",
    "ratio = (station_vals/model_vals_corrected)\n",
    "# ratio = (station_vals-model_vals_corrected)/np.nanstd(mean_corrected)\n",
    "# ratio = np.sqrt(-(station_vals-5))/np.sqrt(-(model_vals_corrected-5))\n",
    "\n",
    "\n",
    "print(\"New difference\", np.nanmean(station_vals - model_vals_corrected))\n",
    "\n",
    "# calculate ratios with applied correction\n",
    "matched_df = matched_df.assign(ratio=ratio)\n"
   ]
  },
  {
   "cell_type": "code",
   "execution_count": 13,
   "metadata": {},
   "outputs": [],
   "source": [
    "matched_df = matched_df.assign(model_vals = model_vals, best_tol = best_tol)"
   ]
  },
  {
   "cell_type": "code",
   "execution_count": 14,
   "metadata": {},
   "outputs": [],
   "source": [
    "# final_df = pd.concat([matched_df, df_zero[df_zero[station_dv] == 0.0]], sort=False)"
   ]
  },
  {
   "cell_type": "code",
   "execution_count": 15,
   "metadata": {},
   "outputs": [],
   "source": [
    "# final_df.to_csv('./data/processed/processed_station.csv')\n",
    "df_path_write = resource_filename('climpyrical', '/nrc_data/processed/processed_station.csv')\n",
    "matched_df.to_csv(df_path_write)"
   ]
  },
  {
   "cell_type": "code",
   "execution_count": 16,
   "metadata": {},
   "outputs": [
    {
     "data": {
      "text/html": [
       "<div>\n",
       "<style scoped>\n",
       "    .dataframe tbody tr th:only-of-type {\n",
       "        vertical-align: middle;\n",
       "    }\n",
       "\n",
       "    .dataframe tbody tr th {\n",
       "        vertical-align: top;\n",
       "    }\n",
       "\n",
       "    .dataframe thead th {\n",
       "        text-align: right;\n",
       "    }\n",
       "</style>\n",
       "<table border=\"1\" class=\"dataframe\">\n",
       "  <thead>\n",
       "    <tr style=\"text-align: right;\">\n",
       "      <th></th>\n",
       "      <th>ilocy</th>\n",
       "      <th>ilocx</th>\n",
       "      <th>TJan2.5 (degC)</th>\n",
       "      <th>rlat</th>\n",
       "      <th>rlon</th>\n",
       "      <th>lat</th>\n",
       "      <th>lon</th>\n",
       "      <th>station_name</th>\n",
       "      <th>ratio</th>\n",
       "      <th>model_vals</th>\n",
       "      <th>best_tol</th>\n",
       "    </tr>\n",
       "  </thead>\n",
       "  <tbody>\n",
       "    <tr>\n",
       "      <th>0</th>\n",
       "      <td>552</td>\n",
       "      <td>1011</td>\n",
       "      <td>257.35</td>\n",
       "      <td>-4.517790</td>\n",
       "      <td>10.457750</td>\n",
       "      <td>42.0333</td>\n",
       "      <td>-82.90000</td>\n",
       "      <td>HARROW CDA AUTO</td>\n",
       "      <td>0.985532</td>\n",
       "      <td>262.315500</td>\n",
       "      <td>1.004548</td>\n",
       "    </tr>\n",
       "    <tr>\n",
       "      <th>1</th>\n",
       "      <td>558</td>\n",
       "      <td>1009</td>\n",
       "      <td>256.55</td>\n",
       "      <td>-4.286849</td>\n",
       "      <td>10.373390</td>\n",
       "      <td>42.2756</td>\n",
       "      <td>-82.95560</td>\n",
       "      <td>WINDSOR A</td>\n",
       "      <td>0.997972</td>\n",
       "      <td>258.240342</td>\n",
       "      <td>1.004548</td>\n",
       "    </tr>\n",
       "    <tr>\n",
       "      <th>2</th>\n",
       "      <td>560</td>\n",
       "      <td>1026</td>\n",
       "      <td>258.15</td>\n",
       "      <td>-4.166610</td>\n",
       "      <td>11.147744</td>\n",
       "      <td>42.2501</td>\n",
       "      <td>-81.90010</td>\n",
       "      <td>ERIEAU (AUT)</td>\n",
       "      <td>0.980918</td>\n",
       "      <td>264.368830</td>\n",
       "      <td>1.004548</td>\n",
       "    </tr>\n",
       "    <tr>\n",
       "      <th>3</th>\n",
       "      <td>565</td>\n",
       "      <td>1026</td>\n",
       "      <td>253.85</td>\n",
       "      <td>-3.968063</td>\n",
       "      <td>11.121350</td>\n",
       "      <td>42.4500</td>\n",
       "      <td>-81.88330</td>\n",
       "      <td>RIDGETOWN RCS</td>\n",
       "      <td>0.975944</td>\n",
       "      <td>261.290108</td>\n",
       "      <td>1.004548</td>\n",
       "    </tr>\n",
       "    <tr>\n",
       "      <th>4</th>\n",
       "      <td>580</td>\n",
       "      <td>1035</td>\n",
       "      <td>254.75</td>\n",
       "      <td>-3.290193</td>\n",
       "      <td>11.534742</td>\n",
       "      <td>43.0332</td>\n",
       "      <td>-81.15055</td>\n",
       "      <td>LONDON CS</td>\n",
       "      <td>0.996843</td>\n",
       "      <td>256.719086</td>\n",
       "      <td>1.004548</td>\n",
       "    </tr>\n",
       "  </tbody>\n",
       "</table>\n",
       "</div>"
      ],
      "text/plain": [
       "   ilocy  ilocx  TJan2.5 (degC)      rlat       rlon      lat       lon  \\\n",
       "0    552   1011          257.35 -4.517790  10.457750  42.0333 -82.90000   \n",
       "1    558   1009          256.55 -4.286849  10.373390  42.2756 -82.95560   \n",
       "2    560   1026          258.15 -4.166610  11.147744  42.2501 -81.90010   \n",
       "3    565   1026          253.85 -3.968063  11.121350  42.4500 -81.88330   \n",
       "4    580   1035          254.75 -3.290193  11.534742  43.0332 -81.15055   \n",
       "\n",
       "      station_name     ratio  model_vals  best_tol  \n",
       "0  HARROW CDA AUTO  0.985532  262.315500  1.004548  \n",
       "1        WINDSOR A  0.997972  258.240342  1.004548  \n",
       "2     ERIEAU (AUT)  0.980918  264.368830  1.004548  \n",
       "3    RIDGETOWN RCS  0.975944  261.290108  1.004548  \n",
       "4        LONDON CS  0.996843  256.719086  1.004548  "
      ]
     },
     "execution_count": 16,
     "metadata": {},
     "output_type": "execute_result"
    }
   ],
   "source": [
    "matched_df.head()"
   ]
  },
  {
   "cell_type": "markdown",
   "metadata": {},
   "source": [
    "# NRC Locations"
   ]
  },
  {
   "cell_type": "code",
   "execution_count": 17,
   "metadata": {},
   "outputs": [
    {
     "name": "stderr",
     "output_type": "stream",
     "text": [
      "/home/nannau/tri/lib/python3.7/site-packages/pyproj/crs/crs.py:53: FutureWarning: '+init=<authority>:<code>' syntax is deprecated. '<authority>:<code>' is the preferred initialization method. When making the change, be mindful of axis order changes: https://pyproj4.github.io/pyproj/stable/gotchas.html#axis-order-changes-in-proj-6\n",
      "  return _prepare_from_string(\" \".join(pjargs))\n"
     ]
    }
   ],
   "source": [
    "nrc_path = '/home/nannau/nrc_data/NBCC_2020_new_coords.xlsm'\n",
    "df_nrc = pd.read_excel(nrc_path).dropna()\n",
    "\n",
    "# fill problem values with better values from 2015\n",
    "id_typo = df_nrc[(df_nrc['2020 Longitude'] > 0) | (df_nrc['2020 Latitude'] < 40)].index\n",
    "df_nrc.loc[id_typo, '2020 Longitude'] = df_nrc['2015 Long.'].values[id_typo]\n",
    "df_nrc.loc[id_typo, '2020 Latitude'] = df_nrc['2015 Lat.'].values[id_typo]\n",
    "\n",
    "# get rotated pole coordinates\n",
    "rlon_st, rlat_st = transform_coords(df_nrc['2020 Longitude'].values, df_nrc['2020 Latitude'].values)\n",
    "df_nrc = df_nrc.assign(\n",
    "        rlon=rlon_st, \n",
    "        rlat=rlat_st\n",
    ")"
   ]
  },
  {
   "cell_type": "code",
   "execution_count": 18,
   "metadata": {},
   "outputs": [],
   "source": [
    "# find indices of the station locations\n",
    "ix, iy = find_element_wise_nearest_pos(\n",
    "            ds.rlon.values, \n",
    "            ds.rlat.values, \n",
    "            df_nrc.rlon.values, \n",
    "            df_nrc.rlat.values\n",
    ")\n",
    "# write to new dataframe\n",
    "df_nrc_matched = pd.DataFrame(\n",
    "    {'ilocy': iy, \n",
    "     'ilocx': ix, \n",
    "     'Location': df_nrc.Location, \n",
    "     'rlat':df_nrc.rlat, \n",
    "     'rlon':df_nrc.rlon, \n",
    "     'lon': df_nrc['2020 Longitude'], \n",
    "     'lat': df_nrc['2020 Latitude']\n",
    "     }\n",
    ")\n",
    "\n",
    "df_nrc_matched.to_csv('./data/processed/nrc_locations.csv')"
   ]
  },
  {
   "cell_type": "code",
   "execution_count": null,
   "metadata": {},
   "outputs": [],
   "source": []
  }
 ],
 "metadata": {
  "kernelspec": {
   "display_name": "Python 3",
   "language": "python",
   "name": "python3"
  },
  "language_info": {
   "codemirror_mode": {
    "name": "ipython",
    "version": 3
   },
   "file_extension": ".py",
   "mimetype": "text/x-python",
   "name": "python",
   "nbconvert_exporter": "python",
   "pygments_lexer": "ipython3",
   "version": "3.7.9"
  }
 },
 "nbformat": 4,
 "nbformat_minor": 4
}
