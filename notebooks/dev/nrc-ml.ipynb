{
 "cells": [
  {
   "cell_type": "markdown",
   "metadata": {},
   "source": [
    "# Climpyrical National Building Code\n",
    "## Analysis of Gradient Boosting Regression Using 15 Spatial Orthogonal Basis Functions\n",
    "Nic Annau, Pacific Climate Impacts Consortium"
   ]
  },
  {
   "cell_type": "markdown",
   "metadata": {},
   "source": [
    "## Load Climpyrical and Other Dependencies"
   ]
  },
  {
   "cell_type": "code",
   "execution_count": 1,
   "metadata": {},
   "outputs": [
    {
     "name": "stdout",
     "output_type": "stream",
     "text": [
      "Processing /home/nannau/temp/climpyrical/climpyrical_master/climpyrical\n",
      "Requirement already satisfied: numpy in /home/nannau/climpyrical-venv/lib/python3.6/site-packages (from climpyrical==0.1.dev0) (1.16.4)\n",
      "Requirement already satisfied: shapely in /home/nannau/climpyrical-venv/lib/python3.6/site-packages (from climpyrical==0.1.dev0) (1.6.4.post2)\n",
      "Requirement already satisfied: geopandas in /home/nannau/climpyrical-venv/lib/python3.6/site-packages (from climpyrical==0.1.dev0) (0.6.0)\n",
      "Requirement already satisfied: xarray in /home/nannau/climpyrical-venv/lib/python3.6/site-packages (from climpyrical==0.1.dev0) (0.12.2)\n",
      "Requirement already satisfied: pyproj in /home/nannau/climpyrical-venv/lib/python3.6/site-packages (from geopandas->climpyrical==0.1.dev0) (2.4.0)\n",
      "Requirement already satisfied: pandas>=0.23.0 in /home/nannau/climpyrical-venv/lib/python3.6/site-packages (from geopandas->climpyrical==0.1.dev0) (0.24.2)\n",
      "Requirement already satisfied: fiona in /home/nannau/climpyrical-venv/lib/python3.6/site-packages (from geopandas->climpyrical==0.1.dev0) (1.8.8)\n",
      "Requirement already satisfied: pytz>=2011k in /home/nannau/climpyrical-venv/lib/python3.6/site-packages (from pandas>=0.23.0->geopandas->climpyrical==0.1.dev0) (2019.1)\n",
      "Requirement already satisfied: python-dateutil>=2.5.0 in /home/nannau/climpyrical-venv/lib/python3.6/site-packages (from pandas>=0.23.0->geopandas->climpyrical==0.1.dev0) (2.8.0)\n",
      "Requirement already satisfied: attrs>=17 in /home/nannau/climpyrical-venv/lib/python3.6/site-packages (from fiona->geopandas->climpyrical==0.1.dev0) (19.1.0)\n",
      "Requirement already satisfied: six>=1.7 in /home/nannau/climpyrical-venv/lib/python3.6/site-packages (from fiona->geopandas->climpyrical==0.1.dev0) (1.12.0)\n",
      "Requirement already satisfied: cligj>=0.5 in /home/nannau/climpyrical-venv/lib/python3.6/site-packages (from fiona->geopandas->climpyrical==0.1.dev0) (0.5.0)\n",
      "Requirement already satisfied: click<8,>=4.0 in /home/nannau/climpyrical-venv/lib/python3.6/site-packages (from fiona->geopandas->climpyrical==0.1.dev0) (7.0)\n",
      "Requirement already satisfied: munch in /home/nannau/climpyrical-venv/lib/python3.6/site-packages (from fiona->geopandas->climpyrical==0.1.dev0) (2.3.2)\n",
      "Requirement already satisfied: click-plugins>=1.0 in /home/nannau/climpyrical-venv/lib/python3.6/site-packages (from fiona->geopandas->climpyrical==0.1.dev0) (1.1.1)\n",
      "Building wheels for collected packages: climpyrical\n",
      "  Building wheel for climpyrical (setup.py) ... \u001b[?25ldone\n",
      "\u001b[?25h  Stored in directory: /tmp/pip-ephem-wheel-cache-09tph4jh/wheels/8b/bf/2e/6a26fa0f442da9fda3291448d1e2863d0ff36814cba03aac77\n",
      "Successfully built climpyrical\n",
      "Installing collected packages: climpyrical\n",
      "  Found existing installation: climpyrical 0.1.dev0\n",
      "    Uninstalling climpyrical-0.1.dev0:\n",
      "      Successfully uninstalled climpyrical-0.1.dev0\n",
      "Successfully installed climpyrical-0.1.dev0\n",
      "\u001b[33mWARNING: You are using pip version 19.1.1, however version 19.3.1 is available.\n",
      "You should consider upgrading via the 'pip install --upgrade pip' command.\u001b[0m\n"
     ]
    }
   ],
   "source": [
    "!pip install ../../.\n",
    "from climpyrical.mask import *\n",
    "from climpyrical.gridding import *\n",
    "from climpyrical.datacube import *\n",
    "\n",
    "import matplotlib.pyplot as plt\n",
    "import numpy as np\n",
    "import geopandas as gpd\n",
    "import pandas as pd\n",
    "import pickle\n",
    "\n",
    "%load_ext autoreload\n",
    "%autoreload 2"
   ]
  },
  {
   "cell_type": "markdown",
   "metadata": {},
   "source": [
    "## Load Ensemble from File"
   ]
  },
  {
   "cell_type": "code",
   "execution_count": 2,
   "metadata": {},
   "outputs": [],
   "source": [
    "PATH = '../../climpyrical/tests/data/snw_test_ensemble.nc'\n",
    "dv = 'Rain-RL50'\n",
    "ds = read_data(PATH, dv)\n",
    "\n",
    "dx, dy = np.diff(ds.rlon.values).mean()/3, np.diff(ds.rlat.values).mean()/3\n",
    "inrlon = np.linspace(ds.rlon.min()-dx, ds.rlon.max()+dx, ds.rlon.shape[0]*3)\n",
    "inrlat = np.linspace(ds.rlat.min()-dy, ds.rlat.max()+dy, ds.rlat.shape[0]*3)\n",
    "new_ens = np.ones((inrlat.size, inrlon.size))\n",
    "\n",
    "new_ds = np.repeat(np.repeat(ds[dv].values, 3, axis=1), 3, axis=2)\n",
    "\n",
    "ids = xr.Dataset({dv: (['level', 'y', 'x'], new_ds)}, \n",
    "                 coords={'rlon':  ('x', inrlon), \n",
    "                         'rlat': ('y', inrlat), \n",
    "                         'level': ('level', range(35))})\n",
    "ds = ids"
   ]
  },
  {
   "cell_type": "markdown",
   "metadata": {},
   "source": [
    "## Load Shapefile and Generate Mask"
   ]
  },
  {
   "cell_type": "code",
   "execution_count": 3,
   "metadata": {},
   "outputs": [],
   "source": [
    "world = gpd.read_file(gpd.datasets.get_path('naturalearth_lowres'))\n",
    "can_index = world[world.name == \"Canada\"].index\n",
    "can_geom = world.loc[can_index, 'geometry']\n",
    "\n",
    "canada = rotate_shapefile(can_geom)\n",
    "\n",
    "mask = gen_raster_mask_from_vector(ds.rlon.values, ds.rlat.values, canada)"
   ]
  },
  {
   "cell_type": "code",
   "execution_count": 4,
   "metadata": {},
   "outputs": [
    {
     "data": {
      "text/plain": [
       "<xarray.DataArray 'rlon' (x: 465)>\n",
       "array([-34.026672, -33.880005, -33.733338, ...,  33.733338,  33.880005,\n",
       "        34.026672])\n",
       "Coordinates:\n",
       "    rlon     (x) float64 -34.03 -33.88 -33.73 -33.59 ... 33.59 33.73 33.88 34.03\n",
       "Dimensions without coordinates: x"
      ]
     },
     "execution_count": 4,
     "metadata": {},
     "output_type": "execute_result"
    }
   ],
   "source": [
    "ds.rlon"
   ]
  },
  {
   "cell_type": "markdown",
   "metadata": {},
   "source": [
    "## Take Anomally of Design Value Ensembles"
   ]
  },
  {
   "cell_type": "code",
   "execution_count": 5,
   "metadata": {},
   "outputs": [
    {
     "data": {
      "text/plain": [
       "(390, 465)"
      ]
     },
     "execution_count": 5,
     "metadata": {},
     "output_type": "execute_result"
    }
   ],
   "source": [
    "ens_mean = ds[dv].values.mean(axis=0)\n",
    "ens_mean.shape"
   ]
  },
  {
   "cell_type": "markdown",
   "metadata": {},
   "source": [
    "## Apply any additional masking\n",
    "If the model has any NaN values left over that the mask did not catch, find them, and add them to the mask using `logical_and`. Reshape arrays and mask to all work with the same mask. "
   ]
  },
  {
   "cell_type": "code",
   "execution_count": 6,
   "metadata": {},
   "outputs": [],
   "source": [
    "# Create a mask of extra NaN values that is flattened\n",
    "flat_mask_with_extra_nan = np.logical_and(~np.isnan(ens_mean.flatten()), mask.flatten())\n",
    "\n",
    "# Put back into the spatial shape\n",
    "final_mask = flat_mask_with_extra_nan.reshape(ens_mean.shape)\n",
    "\n",
    "# create two grids of rlon and rlat to use new mask with\n",
    "rlon, rlat = np.meshgrid(ds.rlon, ds.rlat)\n",
    "\n",
    "# check that the shapes of all of the arrays after masking are consistent\n",
    "assert rlat[final_mask].shape == rlon[final_mask].shape and ens_mean[final_mask].shape == rlat[final_mask].shape"
   ]
  },
  {
   "cell_type": "markdown",
   "metadata": {},
   "source": [
    "## Interpolated to 3x3 Grids"
   ]
  },
  {
   "cell_type": "code",
   "execution_count": 7,
   "metadata": {},
   "outputs": [
    {
     "data": {
      "text/plain": [
       "((35, 390, 465), array([[False, False, False, ..., False, False, False],\n",
       "        [False, False, False, ..., False, False, False],\n",
       "        [False, False, False, ..., False, False, False],\n",
       "        ...,\n",
       "        [False, False, False, ..., False, False, False],\n",
       "        [False, False, False, ..., False, False, False],\n",
       "        [False, False, False, ..., False, False, False]]))"
      ]
     },
     "execution_count": 7,
     "metadata": {},
     "output_type": "execute_result"
    }
   ],
   "source": [
    "ds[dv].values.shape, final_mask"
   ]
  },
  {
   "cell_type": "code",
   "execution_count": null,
   "metadata": {},
   "outputs": [],
   "source": []
  },
  {
   "cell_type": "markdown",
   "metadata": {},
   "source": [
    "# Load the station data from file\n",
    "Add new columns of converted longitude and latitude into rotated pole coordinate"
   ]
  },
  {
   "cell_type": "code",
   "execution_count": 11,
   "metadata": {},
   "outputs": [],
   "source": [
    "from sklearn import ensemble\n",
    "import seaborn as sns\n",
    "from scipy.stats import linregress\n",
    "from sklearn.model_selection import train_test_split\n",
    "from sklearn.model_selection import GridSearchCV\n",
    "from sklearn.utils import shuffle\n",
    "from sklearn.metrics import mean_squared_error\n",
    "from scipy.stats import norm\n",
    "from sklearn.metrics import *\n",
    "from sklearn.neighbors import KNeighborsRegressor\n",
    "from sklearn.neighbors import RadiusNeighborsRegressor\n",
    "from scipy import stats\n",
    "\n",
    "frac = 0.01\n",
    "\n",
    "df = pd.read_csv('../../climpyrical/tests/data/stations.csv', index_col=None)\n",
    "\n",
    "df['rlon'], df['rlat'] = transform_coords(df['lon'].values, df['lat'].values)\n",
    "df = df[df['RL50 (kPa)'] != 0.0]\n",
    "rlon_ens, rlat_ens = flatten_coords(ds.rlon.values, ds.rlat.values, ds)\n",
    "\n",
    "dist_to_closest_station = pairwise_distances_argmin_min(\n",
    "            np.array(list(zip(rlon_ens, rlat_ens))),\n",
    "            np.array(list(zip(df.rlon, df.rlat))),\n",
    "            metric='euclidean'\n",
    "        )[1]\n",
    "\n",
    "df_non_stations = pd.DataFrame({\n",
    "                    'rlon': rlon[final_mask], \n",
    "                    'rlat': rlat[final_mask], \n",
    "                    'mean': ens_mean[final_mask],\n",
    "                    'distance_weights': dist_to_closest_station[final_mask.flatten()]**2.5\n",
    "})\n",
    "\n",
    "img_dist_arr = np.reshape(dist_to_closest_station, ens_mean.shape)\n",
    "img_dist_arr[~final_mask] = np.nan\n",
    "\n",
    "final=[]\n",
    "for model in ds[dv].values:\n",
    "    ens_mean = model\n",
    "    df_non_stations_weight = df_non_stations.sample(frac=frac, weights='distance_weights')\n",
    "    df_to_add = pd.DataFrame({\n",
    "                    'rlon': df_non_stations_weight.rlon, \n",
    "                    'rlat': df_non_stations_weight.rlat, \n",
    "                    'RL50 (kPa)': df_non_stations_weight['mean'],\n",
    "                    'label': 'model'})\n",
    "\n",
    "    df['label'] = 'stations'\n",
    "\n",
    "    # df = pd.concat([df, df_to_add], sort=False)\n",
    "\n",
    "    rlon_i, rlat_i = find_element_wise_nearest_pos(ds.rlon.values, ds.rlat.values, df.rlon.values, df.rlat.values)\n",
    "\n",
    "    # Add nearest rlon and rlat locations in grid to stations\n",
    "    df['rlon_nearest'], df['rlat_nearest'] = ds.rlon.values[rlon_i], ds.rlat.values[rlat_i]\n",
    "    df['rlon_nearest_index'], df['rlat_nearest_index'] = rlon_i, rlat_i\n",
    "\n",
    "    # Zip together a tuple of grid indices\n",
    "    df['nearest_grid'] = list(zip(rlon_i, rlat_i))\n",
    "    df['count'] = df['nearest_grid']\n",
    "\n",
    "    # Group together stations falling in same grid cell and take mean\n",
    "    station_dv = 'RL50 (kPa)'\n",
    "    ndf = df.groupby(['nearest_grid'], as_index=False).agg({\n",
    "                                    station_dv: 'mean',\n",
    "                                    'lat':'min',\n",
    "                                    'lon':'min',\n",
    "                                    'rlat':'min',\n",
    "                                    'rlon':'min',\n",
    "                                    'rlat_nearest':'min',\n",
    "                                    'rlon_nearest':'min',\n",
    "                                    'rlon_nearest_index':'mean',\n",
    "                                    'rlat_nearest_index':'mean',\n",
    "                                    'label': 'min',\n",
    "                                    'count':'count'\n",
    "                                })\n",
    "\n",
    "    # Remove stations with zero rainfall as advised\n",
    "    ndf = ndf[ndf['RL50 (kPa)'] != 0.0]\n",
    "    # Get the indices for each grid axis that are matched and grouped\n",
    "    rlon_i_agg, rlat_i_agg = ndf.rlon_nearest_index.values, ndf.rlat_nearest_index.values\n",
    "\n",
    "    ndf['mean_values_at_real_stations'] = find_nearest_index_value(ds.rlon.values, ds.rlat.values, rlon_i_agg, rlat_i_agg, ens_mean, final_mask, ds)\n",
    "\n",
    "    # Get the indices for each grid axis that are matched and grouped\n",
    "    rlon_i_agg, rlat_i_agg = ndf.rlon_nearest_index.values, ndf.rlat_nearest_index.values\n",
    "    rlon_i_agg_p, rlat_i_agg_p = ndf[ndf.label=='stations'].rlon_nearest_index.values, ndf[ndf.label=='stations'].rlat_nearest_index.values\n",
    "\n",
    "    mean_values_at_real_stations = find_nearest_index_value(ds.rlon.values, ds.rlat.values, rlon_i_agg, rlat_i_agg, ens_mean, final_mask, ds)\n",
    "    mean_values_at_real_stations_p = find_nearest_index_value(ds.rlon.values, ds.rlat.values, rlon_i_agg, rlat_i_agg, ens_mean, final_mask, ds)\n",
    "\n",
    "    # mean_values_at_real_stations = m*mean_values_at_real_stations\n",
    "    bases = [find_nearest_index_value(ds.rlon.values, ds.rlat.values, rlon_i_agg, rlat_i_agg, ds[dv].values[i, :, :], final_mask, ds) for i in range(35)]\n",
    "    basesp = [find_nearest_index_value(ds.rlon.values, ds.rlat.values, rlon_i_agg_p, rlat_i_agg_p, ds[dv].values[i, :, :], final_mask, ds) for i in range(35)] \n",
    "\n",
    "    values = np.stack(bases)\n",
    "    values = np.concatenate((values, ndf.rlon_nearest.values.reshape(1, -1)), axis=0)\n",
    "    values = np.concatenate((values, ndf.rlat_nearest.values.reshape(1, -1)), axis=0)\n",
    "\n",
    "    valuesp = np.stack(basesp)\n",
    "    valuesp = np.concatenate((valuesp, ndf[ndf.label=='stations'].rlon_nearest.values.reshape(1, -1)), axis=0)\n",
    "    valuesp = np.concatenate((valuesp, ndf[ndf.label=='stations'].rlat_nearest.values.reshape(1, -1)), axis=0)\n",
    "\n",
    "    X, Y = values.T, (ndf['RL50 (kPa)'].values/ndf['mean_values_at_real_stations'].values)\n",
    "    Xp, Yp = valuesp.T, ndf[ndf.label=='stations']['RL50 (kPa)']\n",
    "    # X, Y = shuffle(X, Y, random_state=0)\n",
    "\n",
    "    model = KNeighborsRegressor(n_neighbors=8, weights='distance')\n",
    "    model.fit(X, Y)\n",
    "\n",
    "    modelp = KNeighborsRegressor(n_neighbors=8, weights='distance')\n",
    "    modelp.fit(Xp, Yp)\n",
    "\n",
    "    ndf['predict'] = (model.predict(X))#, random_state=0)\n",
    "    stations = ndf[ndf.label == 'stations']\n",
    "\n",
    "    rmse = np.sqrt(mean_squared_error(\n",
    "        ndf[ndf.label == 'stations']['RL50 (kPa)'], \n",
    "        stations['predict']\n",
    "    )\n",
    "    )\n",
    "\n",
    "    rmse_mean_sample = np.sqrt(mean_squared_error(\n",
    "        ndf['RL50 (kPa)'], \n",
    "        ndf['predict']\n",
    "    )\n",
    "    )\n",
    "\n",
    "    sx, sy = ndf['rlon_nearest_index'].values, ndf['rlat_nearest_index'].values\n",
    "\n",
    "    mean_values_at_real_stations = find_nearest_index_value(ds.rlon.values, ds.rlat.values, sx, sy, ens_mean, final_mask, ds)\n",
    "\n",
    "    rmse_mean_and_stations = np.sqrt(mean_squared_error(\n",
    "    #         ndf[ndf.label == 'stations']['RL50 (kPa)'], \n",
    "        ndf['RL50 (kPa)'],   \n",
    "        mean_values_at_real_stations\n",
    "    )\n",
    "    )\n",
    "\n",
    "    dc = ds[dv].values[0, ...].flatten().copy()\n",
    "    d_gridx = np.moveaxis(ds[dv].values, 0, -1)#[..., important_features]\n",
    "    d_gridx = np.dstack((d_gridx, rlon))\n",
    "    d_gridx = np.dstack((d_gridx, rlat))\n",
    "    dc[final_mask.flatten()] = (model.predict((d_gridx[final_mask])))#*ens_mean[final_mask]\n",
    "\n",
    "    dcp= dc.copy()\n",
    "    dcp[final_mask.flatten()] = (modelp.predict((d_gridx[final_mask])))\n",
    "\n",
    "    dc[~final_mask.flatten()] = np.nan\n",
    "    dcp[~final_mask.flatten()] = np.nan\n",
    "    # final_pseudo = dc.reshape(d_gridx[..., 0].shape)\n",
    "    final.append(dc.reshape(d_gridx[..., 0].shape)*ens_mean)\n",
    "    finalp = dcp.reshape(d_gridx[..., 0].shape)\n",
    "    #\n",
    "    fff = final_mask\n",
    "    dcb = dc.copy()\n",
    "    dcb[final_mask.flatten()] = model.predict(d_gridx[final_mask]) <= 0.0\n",
    "\n",
    "    dcb = dcb.reshape(final_mask.shape)"
   ]
  },
  {
   "cell_type": "code",
   "execution_count": 12,
   "metadata": {},
   "outputs": [],
   "source": [
    "final = np.mean(np.array(final), axis=0)"
   ]
  },
  {
   "cell_type": "code",
   "execution_count": null,
   "metadata": {},
   "outputs": [],
   "source": []
  },
  {
   "cell_type": "code",
   "execution_count": 10,
   "metadata": {},
   "outputs": [
    {
     "ename": "AttributeError",
     "evalue": "'numpy.ndarray' object has no attribute 'append'",
     "output_type": "error",
     "traceback": [
      "\u001b[0;31m---------------------------------------------------------------------------\u001b[0m",
      "\u001b[0;31mAttributeError\u001b[0m                            Traceback (most recent call last)",
      "\u001b[0;32m<ipython-input-10-484489ae2515>\u001b[0m in \u001b[0;36m<module>\u001b[0;34m\u001b[0m\n\u001b[1;32m     66\u001b[0m \u001b[0mdcp\u001b[0m\u001b[0;34m[\u001b[0m\u001b[0;34m~\u001b[0m\u001b[0mfinal_mask\u001b[0m\u001b[0;34m.\u001b[0m\u001b[0mflatten\u001b[0m\u001b[0;34m(\u001b[0m\u001b[0;34m)\u001b[0m\u001b[0;34m]\u001b[0m \u001b[0;34m=\u001b[0m \u001b[0mnp\u001b[0m\u001b[0;34m.\u001b[0m\u001b[0mnan\u001b[0m\u001b[0;34m\u001b[0m\u001b[0;34m\u001b[0m\u001b[0m\n\u001b[1;32m     67\u001b[0m \u001b[0;31m# final_pseudo = dc.reshape(d_gridx[..., 0].shape)\u001b[0m\u001b[0;34m\u001b[0m\u001b[0;34m\u001b[0m\u001b[0;34m\u001b[0m\u001b[0m\n\u001b[0;32m---> 68\u001b[0;31m \u001b[0mfinal\u001b[0m\u001b[0;34m.\u001b[0m\u001b[0mappend\u001b[0m\u001b[0;34m(\u001b[0m\u001b[0mdc\u001b[0m\u001b[0;34m.\u001b[0m\u001b[0mreshape\u001b[0m\u001b[0;34m(\u001b[0m\u001b[0md_gridx\u001b[0m\u001b[0;34m[\u001b[0m\u001b[0;34m...\u001b[0m\u001b[0;34m,\u001b[0m \u001b[0;36m0\u001b[0m\u001b[0;34m]\u001b[0m\u001b[0;34m.\u001b[0m\u001b[0mshape\u001b[0m\u001b[0;34m)\u001b[0m\u001b[0;34m*\u001b[0m\u001b[0mens_mean\u001b[0m\u001b[0;34m)\u001b[0m\u001b[0;34m\u001b[0m\u001b[0;34m\u001b[0m\u001b[0m\n\u001b[0m\u001b[1;32m     69\u001b[0m \u001b[0mfinalp\u001b[0m \u001b[0;34m=\u001b[0m \u001b[0mdcp\u001b[0m\u001b[0;34m.\u001b[0m\u001b[0mreshape\u001b[0m\u001b[0;34m(\u001b[0m\u001b[0md_gridx\u001b[0m\u001b[0;34m[\u001b[0m\u001b[0;34m...\u001b[0m\u001b[0;34m,\u001b[0m \u001b[0;36m0\u001b[0m\u001b[0;34m]\u001b[0m\u001b[0;34m.\u001b[0m\u001b[0mshape\u001b[0m\u001b[0;34m)\u001b[0m\u001b[0;34m\u001b[0m\u001b[0;34m\u001b[0m\u001b[0m\n\u001b[1;32m     70\u001b[0m \u001b[0;31m#\u001b[0m\u001b[0;34m\u001b[0m\u001b[0;34m\u001b[0m\u001b[0;34m\u001b[0m\u001b[0m\n",
      "\u001b[0;31mAttributeError\u001b[0m: 'numpy.ndarray' object has no attribute 'append'"
     ]
    }
   ],
   "source": [
    "# Get the indices for each grid axis that are matched and grouped\n",
    "rlon_i_agg, rlat_i_agg = ndf.rlon_nearest_index.values, ndf.rlat_nearest_index.values\n",
    "rlon_i_agg_p, rlat_i_agg_p = ndf[ndf.label=='stations'].rlon_nearest_index.values, ndf[ndf.label=='stations'].rlat_nearest_index.values\n",
    "\n",
    "mean_values_at_real_stations = find_nearest_index_value(ds.rlon.values, ds.rlat.values, rlon_i_agg, rlat_i_agg, ens_mean, final_mask, ds)\n",
    "mean_values_at_real_stations_p = find_nearest_index_value(ds.rlon.values, ds.rlat.values, rlon_i_agg, rlat_i_agg, ens_mean, final_mask, ds)\n",
    "\n",
    "# mean_values_at_real_stations = m*mean_values_at_real_stations\n",
    "bases = [find_nearest_index_value(ds.rlon.values, ds.rlat.values, rlon_i_agg, rlat_i_agg, ds[dv].values[i, :, :], final_mask, ds) for i in range(35)]\n",
    "basesp = [find_nearest_index_value(ds.rlon.values, ds.rlat.values, rlon_i_agg_p, rlat_i_agg_p, ds[dv].values[i, :, :], final_mask, ds) for i in range(35)] \n",
    "\n",
    "values = np.stack(bases)\n",
    "values = np.concatenate((values, ndf.rlon_nearest.values.reshape(1, -1)), axis=0)\n",
    "values = np.concatenate((values, ndf.rlat_nearest.values.reshape(1, -1)), axis=0)\n",
    "\n",
    "valuesp = np.stack(basesp)\n",
    "valuesp = np.concatenate((valuesp, ndf[ndf.label=='stations'].rlon_nearest.values.reshape(1, -1)), axis=0)\n",
    "valuesp = np.concatenate((valuesp, ndf[ndf.label=='stations'].rlat_nearest.values.reshape(1, -1)), axis=0)\n",
    "\n",
    "X, Y = values.T, (ndf['RL50 (kPa)'].values/ndf['mean_values_at_real_stations'].values)\n",
    "Xp, Yp = valuesp.T, ndf[ndf.label=='stations']['RL50 (kPa)']\n",
    "# X, Y = shuffle(X, Y, random_state=0)\n",
    "\n",
    "model = KNeighborsRegressor(n_neighbors=5, weights='distance')\n",
    "model.fit(X, Y)\n",
    "\n",
    "modelp = KNeighborsRegressor(n_neighbors=5, weights='distance')\n",
    "modelp.fit(Xp, Yp)\n",
    "\n",
    "ndf['predict'] = (model.predict(X))#, random_state=0)\n",
    "stations = ndf[ndf.label == 'stations']\n",
    "\n",
    "rmse = np.sqrt(mean_squared_error(\n",
    "        ndf[ndf.label == 'stations']['RL50 (kPa)'], \n",
    "        stations['predict']\n",
    "    )\n",
    ")\n",
    "\n",
    "rmse_mean_sample = np.sqrt(mean_squared_error(\n",
    "        ndf['RL50 (kPa)'], \n",
    "        ndf['predict']\n",
    "    )\n",
    ")\n",
    "\n",
    "sx, sy = ndf['rlon_nearest_index'].values, ndf['rlat_nearest_index'].values\n",
    "\n",
    "mean_values_at_real_stations = find_nearest_index_value(ds.rlon.values, ds.rlat.values, sx, sy, ens_mean, final_mask, ds)\n",
    "\n",
    "rmse_mean_and_stations = np.sqrt(mean_squared_error(\n",
    "#         ndf[ndf.label == 'stations']['RL50 (kPa)'], \n",
    "        ndf['RL50 (kPa)'],   \n",
    "        mean_values_at_real_stations\n",
    "    )\n",
    ")\n",
    "\n",
    "dc = ds[dv].values[0, ...].flatten().copy()\n",
    "d_gridx = np.moveaxis(ds[dv].values, 0, -1)#[..., important_features]\n",
    "d_gridx = np.dstack((d_gridx, rlon))\n",
    "d_gridx = np.dstack((d_gridx, rlat))\n",
    "dc[final_mask.flatten()] = (model.predict((d_gridx[final_mask])))#*ens_mean[final_mask]\n",
    "\n",
    "dcp= dc.copy()\n",
    "dcp[final_mask.flatten()] = (modelp.predict((d_gridx[final_mask])))\n",
    "\n",
    "dc[~final_mask.flatten()] = np.nan\n",
    "dcp[~final_mask.flatten()] = np.nan\n",
    "# final_pseudo = dc.reshape(d_gridx[..., 0].shape)\n",
    "final.append(dc.reshape(d_gridx[..., 0].shape)*ens_mean)\n",
    "finalp = dcp.reshape(d_gridx[..., 0].shape)\n",
    "#\n",
    "fff = final_mask\n",
    "dcb = dc.copy()\n",
    "dcb[final_mask.flatten()] = model.predict(d_gridx[final_mask]) <= 0.0\n",
    "\n",
    "dcb = dcb.reshape(final_mask.shape)\n",
    "\n"
   ]
  },
  {
   "cell_type": "code",
   "execution_count": 13,
   "metadata": {},
   "outputs": [
    {
     "data": {
      "image/png": "[encoded data removed]",
      "text/plain": [
       "<Figure size 1080x1080 with 1 Axes>"
      ]
     },
     "metadata": {
      "needs_background": "light"
     },
     "output_type": "display_data"
    }
   ],
   "source": [
    "plt.figure(figsize=(15, 15))\n",
    "sns.scatterplot('rlon', 'rlat',  marker='o', data=ndf[ndf.label=='model'], label='pseudo stations')\n",
    "sns.scatterplot('rlon', 'rlat',  marker='o', data=ndf[ndf.label=='stations'], label='real stations')\n",
    "\n",
    "plt.imshow(\n",
    "    img_dist_arr, \n",
    "    cmap='RdBu', \n",
    "    origin='lower', \n",
    "    extent=[\n",
    "            ds.rlon.values.min(),\n",
    "            ds.rlon.values.max(),\n",
    "            ds.rlat.values.min(),\n",
    "            ds.rlat.values.max()\n",
    "        ],\n",
    "    label='distance weighting'\n",
    ")\n",
    "plt.ylim(df.rlat.values.min()-2,df.rlat.values.max()+1)\n",
    "plt.xlim(df.rlon.values.min()-2, df.rlon.values.max()+2)\n",
    "plt.title(\"Distance to Nearest Station Weighted Map with Selected Pseudo Stations\")\n",
    "plt.legend()\n",
    "plt.savefig(\"weighted_map\")\n",
    "plt.show()"
   ]
  },
  {
   "cell_type": "markdown",
   "metadata": {},
   "source": [
    "## Regression Score"
   ]
  },
  {
   "cell_type": "code",
   "execution_count": 14,
   "metadata": {},
   "outputs": [
    {
     "name": "stdout",
     "output_type": "stream",
     "text": [
      "Model R2 score: 1.0\n",
      "Model RMSE: 0.9292676942615784\n",
      "Mean RMSE: 0.9292676942615784\n"
     ]
    }
   ],
   "source": [
    "print(\"Model R2 score:\", model.score(X, Y))\n",
    "\n",
    "# rmse = np.sqrt(mean_squared_error(Y, model.predict(X)))\n",
    "print(\"Model RMSE:\", rmse)\n",
    "\n",
    "# rmse_mean = np.sqrt(mean_squared_error(ndf['RL50 (kPa)'].values, mean_values))\n",
    "print(\"Mean RMSE:\", rmse_mean_sample)"
   ]
  },
  {
   "cell_type": "markdown",
   "metadata": {},
   "source": [
    "## Reconstruct the entire field"
   ]
  },
  {
   "cell_type": "code",
   "execution_count": 15,
   "metadata": {},
   "outputs": [],
   "source": [
    "dc = ds[dv].values[0, ...].flatten().copy()\n",
    "d_gridx = np.moveaxis(ds[dv].values, 0, -1)#[..., important_features]\n",
    "d_gridx = np.dstack((d_gridx, rlon))\n",
    "d_gridx = np.dstack((d_gridx, rlat))\n",
    "dc[final_mask.flatten()] = (model.predict((d_gridx[final_mask])))#*ens_mean[final_mask]\n",
    "\n",
    "dcp= dc.copy()\n",
    "dcp[final_mask.flatten()] = (modelp.predict((d_gridx[final_mask])))"
   ]
  },
  {
   "cell_type": "code",
   "execution_count": 16,
   "metadata": {},
   "outputs": [
    {
     "data": {
      "image/png": "[encoded data removed]",
      "text/plain": [
       "<Figure size 432x288 with 1 Axes>"
      ]
     },
     "metadata": {
      "needs_background": "light"
     },
     "output_type": "display_data"
    },
    {
     "data": {
      "text/plain": [
       "<matplotlib.collections.PathCollection at 0x7f70ca167e10>"
      ]
     },
     "execution_count": 16,
     "metadata": {},
     "output_type": "execute_result"
    },
    {
     "data": {
      "image/png": "[encoded data removed]",
      "text/plain": [
       "<Figure size 432x288 with 1 Axes>"
      ]
     },
     "metadata": {
      "needs_background": "light"
     },
     "output_type": "display_data"
    }
   ],
   "source": [
    "sns.distplot(model.predict((d_gridx[final_mask]))**2)\n",
    "sns.distplot(ens_mean[final_mask])\n",
    "\n",
    "plt.xlabel(\"Predicted Square Root of Value for Entire Field Reconstruction\")\n",
    "plt.ylabel(\"Normalized Frequency\")\n",
    "plt.savefig(\"/home/nannau/Pictures/recondist\")\n",
    "# assert np.any(model.predict(d_gridx[final_mask]) < 0.0) == False\n",
    "\n",
    "plt.show()\n",
    "\n",
    "plt.scatter(ndf[ndf.label=='stations']['RL50 (kPa)'], ndf[ndf.label=='stations']['predict'])\n",
    "plt.scatter(ndf[ndf.label=='model']['RL50 (kPa)'], ndf[ndf.label=='model']['predict'])"
   ]
  },
  {
   "cell_type": "code",
   "execution_count": 17,
   "metadata": {},
   "outputs": [],
   "source": [
    "dc[~final_mask.flatten()] = np.nan\n",
    "dcp[~final_mask.flatten()] = np.nan\n",
    "# final_pseudo = dc.reshape(d_gridx[..., 0].shape)\n",
    "final = dc.reshape(d_gridx[..., 0].shape)*ens_mean\n",
    "finalp = dcp.reshape(d_gridx[..., 0].shape)\n",
    "#\n",
    "fff = final_mask\n",
    "dcb = dc.copy()\n",
    "dcb[final_mask.flatten()] = model.predict(d_gridx[final_mask]) <= 0.0\n",
    "\n",
    "dcb = dcb.reshape(final_mask.shape)\n",
    "\n",
    "assert np.allclose(dcb[final_mask], 0.0)"
   ]
  },
  {
   "cell_type": "markdown",
   "metadata": {},
   "source": [
    "## Plot the final reconstructed field"
   ]
  },
  {
   "cell_type": "markdown",
   "metadata": {},
   "source": [
    "## Change the colors to highlight contours"
   ]
  },
  {
   "cell_type": "code",
   "execution_count": 18,
   "metadata": {},
   "outputs": [],
   "source": [
    "ens_mean_with_nan = ens_mean.copy()\n",
    "ens_mean_with_nan[~final_mask] = np.nan\n",
    "ens_mean_with_nan = ens_mean_with_nan.reshape(ens_mean.shape)"
   ]
  },
  {
   "cell_type": "markdown",
   "metadata": {},
   "source": [
    "## Plot final interpolated field"
   ]
  },
  {
   "cell_type": "code",
   "execution_count": 19,
   "metadata": {},
   "outputs": [],
   "source": [
    "import matplotlib\n",
    "from matplotlib import cm\n",
    "import numpy as np\n",
    "\n",
    "magma_cmap = matplotlib.cm.get_cmap('RdBu', 25)\n",
    "norm = matplotlib.colors.Normalize(vmin=0, vmax=255)\n",
    "\n",
    "magma_rgb = []\n",
    "\n",
    "for i in range(0, 255):\n",
    "    k = matplotlib.colors.colorConverter.to_rgb(magma_cmap(norm(i)))\n",
    "    magma_rgb.append(k)\n",
    "\n",
    "def matplotlib_to_plotly(cmap, pl_entries):\n",
    "    h = 1.0/(pl_entries-1)\n",
    "    pl_colorscale = []\n",
    "\n",
    "    for k in range(pl_entries):\n",
    "        C = list(map(np.uint8, np.array(cmap(k*h)[:3])*255))\n",
    "        pl_colorscale.append([k*h, 'rgb'+str((C[0], C[1], C[2]))])\n",
    "\n",
    "    return pl_colorscale\n",
    "\n",
    "magma = matplotlib_to_plotly(magma_cmap, 26)\n",
    "new_magma = []\n",
    "for i, color in enumerate(magma):\n",
    "    if i < len(magma)-1:\n",
    "        new_magma.append(color)\n",
    "        new_magma.append(magma[i+1])\n",
    "\n",
    "nmcopy = []        \n",
    "for i in range(len(new_magma)):\n",
    "    if i < len(new_magma)-1:\n",
    "        nmcopy.append([new_magma[i][0], new_magma[i+1][1]])\n",
    "\n",
    "nmcopy.append(magma[len(magma)-1])"
   ]
  },
  {
   "cell_type": "code",
   "execution_count": 20,
   "metadata": {},
   "outputs": [],
   "source": [
    "find_element_wise_nearest_pos\n",
    "ix, iy = find_element_wise_nearest_pos(ds.rlon.values, ds.rlat.values, df_non_stations.rlon.values, df_non_stations.rlat.values)\n",
    "df_non_stations[\"Reconstruction\"] = find_nearest_index_value(ds.rlon.values, ds.rlat.values, ix, iy, final, final_mask, ds)\n",
    "non_stations_rmse_mean_reconstruction = mean_squared_error(df_non_stations[\"mean\"], df_non_stations[\"Reconstruction\"])"
   ]
  },
  {
   "cell_type": "code",
   "execution_count": 21,
   "metadata": {},
   "outputs": [
    {
     "data": {
      "text/plain": [
       "'rl50_pseudo_rand_sample_distance_weight.html'"
      ]
     },
     "execution_count": 21,
     "metadata": {},
     "output_type": "execute_result"
    }
   ],
   "source": [
    "import plotly.graph_objects as go\n",
    "import plotly\n",
    "from plotly.subplots import make_subplots\n",
    "import chart_studio.plotly as py\n",
    "from plotly import colors as clr\n",
    "import chart_studio\n",
    "chart_studio.tools.set_config_file(world_readable=False,\n",
    "                             sharing='private')\n",
    "\n",
    "\n",
    "fig = make_subplots(rows=4, cols=2, \n",
    "            subplot_titles=(\"Reconstruction With Pseudo\",\n",
    "                            'Reconstruction No Pseudo', \n",
    "                            \"Mean\", \n",
    "                            'RMSE Summary', \n",
    "                            '(Reconstruction - Mean) with Pseudo Residuals', \n",
    "                            '(Station - Mean) with Pseudo Residuals', \n",
    "                            '(Reconstruction - Mean) w/o Pseudo Residuals', \n",
    "                            '(Station - Mean) w/o Pseudo Residuals'), \n",
    "            specs=[[{\"type\": \"scatter\"},\n",
    "               {\"type\": \"scatter\"}],\n",
    "               [{\"type\": \"scatter\"},\n",
    "               {\"type\": \"table\"}],\n",
    "               [{\"type\": \"scatter\"},\n",
    "               {\"type\": \"scatter\"}],\n",
    "               [{\"type\": \"scatter\"},\n",
    "               {\"type\": \"scatter\"}]])\n",
    "\n",
    "fig.add_trace(\n",
    "    go.Heatmap(\n",
    "        z=final,\n",
    "        x=ds.rlon.values,\n",
    "        y=ds.rlat.values,\n",
    "        hoverongaps = False,\n",
    "        colorscale=nmcopy,\n",
    "        showscale=True,\n",
    "        hovertemplate =\n",
    "        \"<b>Reconstructed Value: %{z} </b><br>\" +\n",
    "        \"rlon: %{x}<br>\" +\n",
    "        \"rlat: %{y}<br>\" ,\n",
    "        name=\"Reconstruction\", \n",
    "        colorbar=dict(title=dv, len=.5, x=-0.2, y=.75),\n",
    "        \n",
    "    ),\n",
    "    row=1, col=1\n",
    ")\n",
    "\n",
    "fig.add_trace(\n",
    "    go.Heatmap(\n",
    "        z=finalp,\n",
    "        x=ds.rlon.values,\n",
    "        y=ds.rlat.values,\n",
    "        hoverongaps = False,\n",
    "        colorscale=nmcopy,\n",
    "        showscale=False,\n",
    "        hovertemplate =\n",
    "        \"<b>Reconstructed Value: %{z} </b><br>\" +\n",
    "        \"rlon: %{x}<br>\" +\n",
    "        \"rlat: %{y}<br>\" ,\n",
    "        name=\"Reconstruction\", \n",
    "        \n",
    "    ),\n",
    "    row=1, col=2\n",
    ")\n",
    "\n",
    "fig.add_trace(\n",
    "    go.Heatmap(\n",
    "            z=ens_mean_with_nan,\n",
    "            x=ds.rlon.values,\n",
    "            y=ds.rlat.values,\n",
    "            hoverongaps = False,\n",
    "            colorscale=nmcopy,\n",
    "            showscale=False,\n",
    "            hovertemplate =\n",
    "            \"<b>Mean: %{z} </b><br>\" +\n",
    "            \"rlon: %{x}<br>\" +\n",
    "            \"rlat: %{y}<br>\" ,\n",
    "            name=\"Mean\",\n",
    "        ),\n",
    "    row=2, col=1\n",
    ")\n",
    "\n",
    "fig.add_trace(\n",
    "    go.Heatmap(\n",
    "            z=final-ens_mean_with_nan,\n",
    "            x=ds.rlon.values,\n",
    "            y=ds.rlat.values,\n",
    "            zmin=-0.2,\n",
    "            zmax=0.2,\n",
    "            hoverongaps = False,\n",
    "            colorscale=\"RdBu\",\n",
    "            showscale=False,       \n",
    "            hovertemplate =\n",
    "            \"<b>Residual: %{z} </b><br>\" +\n",
    "            \"rlon: %{x}<br>\" +\n",
    "            \"rlat: %{y}<br>\" ,\n",
    "            name=\"Residual\",\n",
    "        ),\n",
    "    row=3, col=1\n",
    ")\n",
    "\n",
    "fig.add_trace(\n",
    "    go.Heatmap(\n",
    "            z=finalp-ens_mean_with_nan,\n",
    "            x=ds.rlon.values,\n",
    "            y=ds.rlat.values,\n",
    "            zmin=-0.2,\n",
    "            zmax=0.2,\n",
    "            hoverongaps = False,\n",
    "            colorscale=\"RdBu\",\n",
    "            showscale=True,\n",
    "            colorbar=dict(title=\"Residual\", len=0.45, x=-0.2, y=0.21),        \n",
    "            hovertemplate =\n",
    "            \"<b>Residual: %{z} </b><br>\" +\n",
    "            \"rlon: %{x}<br>\" +\n",
    "            \"rlat: %{y}<br>\" ,\n",
    "            name=\"Residual\",\n",
    "        ),\n",
    "    row=4, col=1\n",
    ")\n",
    "\n",
    "# fig.add_scatter(\n",
    "#         x=ndf_p.rlon.values, \n",
    "#         y=ndf_p.rlat.values,\n",
    "#         mode='markers',\n",
    "#         marker=dict(\n",
    "#             color=ndf_p['RL50 (kPa)'].values, \n",
    "#             colorscale=nmcopy,\n",
    "#             line=dict(width=0.35, color='DarkSlateGrey'),\n",
    "#             showscale=False,\n",
    "#         ),\n",
    "#         text = list(zip(ndf_p['RL50 (kPa)'].values, ndf_p.label.values)),\n",
    "#         hoverinfo = 'text',\n",
    "#         hovertemplate =\n",
    "#         \"<b>Station Value: %{text} </b><br>\" +\n",
    "#         \"rlon: %{x}<br>\" +\n",
    "#         \"rlat: %{y}<br>\",\n",
    "#     name=\"Stations on Reconstruction\",\n",
    "#     row=1,\n",
    "#     col=1   \n",
    "# )\n",
    "\n",
    "# fig.add_scatter(\n",
    "#         x=ndf[ndf.label=='model'].rlon.values, \n",
    "#         y=ndf[ndf.label=='model'].rlat.values,\n",
    "#         mode='markers',\n",
    "#         marker=dict(\n",
    "#             color=ndf[ndf.label=='model']['RL50 (kPa)'].values, \n",
    "#             colorscale=nmcopy,\n",
    "#             line=dict(width=0.35, color='DarkSlateGrey'),\n",
    "#             showscale=True,\n",
    "#         ),\n",
    "#         text = ndf[ndf.label=='model']['RL50 (kPa)'].values,\n",
    "#         hoverinfo = 'text',\n",
    "#         hovertemplate =\n",
    "#             \"<b>Pseudo Station Value: %{text} </b><br>\" +\n",
    "#             \"rlon: %{x}<br>\" +\n",
    "#             \"rlat: %{y}<br>\",\n",
    "#     name=\"Pseudo Stations on Reconstruction\",\n",
    "#     row=1,\n",
    "#     col=1   \n",
    "# )\n",
    "\n",
    "fig.add_scatter(\n",
    "        x=ndf[ndf.label=='stations'].rlon.values, \n",
    "        y=ndf[ndf.label=='stations'].rlat.values,\n",
    "        mode='markers',\n",
    "        marker=dict(\n",
    "            symbol='x',\n",
    "            color=ndf[ndf.label=='stations']['RL50 (kPa)'].values, \n",
    "            colorscale=nmcopy,\n",
    "            colorbar=dict(\n",
    "                title=dv, \n",
    "                len=.65, \n",
    "                x=-0.15, \n",
    "                y=.7\n",
    "            ),\n",
    "            line=dict(width=0.35, color='DarkSlateGrey'),\n",
    "            showscale=False,\n",
    "        ),\n",
    "        text = ndf[ndf.label=='stations']['RL50 (kPa)'].values,\n",
    "        hoverinfo = 'text',\n",
    "        hovertemplate =\n",
    "            \"<b>Station Value: %{text} </b><br>\" +\n",
    "            \"rlon: %{x}<br>\" +\n",
    "            \"rlat: %{y}<br>\",\n",
    "    name=\" Stations on Reconstruction\",\n",
    "    row=1,\n",
    "    col=1   \n",
    ")\n",
    "\n",
    "fig.add_scatter(\n",
    "        x=ndf[ndf.label=='stations'].rlon.values, \n",
    "        y=ndf[ndf.label=='stations'].rlat.values,\n",
    "        mode='markers',\n",
    "        marker=dict(\n",
    "            symbol='x',\n",
    "            color=ndf[ndf.label=='stations']['RL50 (kPa)'].values, \n",
    "            colorscale=nmcopy,\n",
    "            colorbar=dict(\n",
    "                title=dv, \n",
    "                len=.65, \n",
    "                x=-0.15, \n",
    "                y=.7\n",
    "            ),\n",
    "            line=dict(width=0.35, color='DarkSlateGrey'),\n",
    "            showscale=False,\n",
    "        ),\n",
    "        text = ndf[ndf.label=='stations']['RL50 (kPa)'].values,\n",
    "        hoverinfo = 'text',\n",
    "        hovertemplate =\n",
    "            \"<b>Station Value: %{text} </b><br>\" +\n",
    "            \"rlon: %{x}<br>\" +\n",
    "            \"rlat: %{y}<br>\",\n",
    "    name=\" Stations on Non Pseudo Station Reconstruction\",\n",
    "    row=1,\n",
    "    col=2   \n",
    ")\n",
    "\n",
    "fig.add_scatter(\n",
    "        x=ndf[ndf.label=='model'].rlon.values, \n",
    "        y=ndf[ndf.label=='model'].rlat.values,\n",
    "        mode='markers',\n",
    "        marker=dict(\n",
    "            color=ndf[ndf.label=='model']['RL50 (kPa)'].values,\n",
    "            colorscale=nmcopy,\n",
    "            cmin=ndf[ndf.label=='stations']['RL50 (kPa)'].values.min(),\n",
    "            cmax=ndf[ndf.label=='stations']['RL50 (kPa)'].values.max(),\n",
    "            colorbar=dict(\n",
    "                title=dv, \n",
    "                len=.65, \n",
    "                x=-0.15, \n",
    "                y=.7\n",
    "            ),\n",
    "            line=dict(width=0.35, color='DarkSlateGrey'),\n",
    "            showscale=False,\n",
    "        ),\n",
    "        text = ndf[ndf.label=='model']['RL50 (kPa)'].values,\n",
    "        hoverinfo = 'text',\n",
    "        hovertemplate =\n",
    "            \"<b>Station Value: %{text} </b><br>\" +\n",
    "            \"rlon: %{x}<br>\" +\n",
    "            \"rlat: %{y}<br>\",\n",
    "    name=\"Pseudo Stations on Reconstruction\",\n",
    "    row=1,\n",
    "    col=1   \n",
    ")\n",
    "\n",
    "fig.add_trace(\n",
    "    go.Scatter(\n",
    "        x=ndf.rlon.values, \n",
    "        y=ndf.rlat.values,\n",
    "        mode='markers',\n",
    "        marker=dict(\n",
    "            color=ndf['RL50 (kPa)'], \n",
    "            colorscale=nmcopy,\n",
    "            line=dict(\n",
    "            width=0.35,\n",
    "            color='DarkSlateGrey'),\n",
    "            showscale=False,\n",
    "        ),\n",
    "        text = ndf['RL50 (kPa)'].values,\n",
    "        hoverinfo = 'text',\n",
    "        hovertemplate =\n",
    "                \"<b>Station Value: %{text} </b><br>\" +\n",
    "                \"rlon: %{x}<br>\" +\n",
    "                \"rlat: %{y}<br>\",\n",
    "    name=\"Stations on Mean\"\n",
    "    ),\n",
    "    row=2,col=1\n",
    ")\n",
    "\n",
    "fig.add_trace(\n",
    "    go.Scatter(\n",
    "        x=ndf.rlon.values, \n",
    "        y=ndf.rlat.values,\n",
    "        mode='markers',\n",
    "        marker=dict(\n",
    "            color=ndf['RL50 (kPa)']-mean_values_at_real_stations, \n",
    "            colorscale=nmcopy,\n",
    "            size=10,\n",
    "            line=dict(width=0.,\n",
    "            color='DarkSlateGrey'),\n",
    "            showscale=False,\n",
    "            cmin=-0.2,\n",
    "            cmax=0.2\n",
    "        ),\n",
    "        showlegend=False,\n",
    "        text = ndf['RL50 (kPa)']-mean_values_at_real_stations,\n",
    "        hoverinfo = 'text',\n",
    "        hovertemplate =\n",
    "                \"<b>Residual: %{text} </b><br>\" +\n",
    "                \"rlon: %{x}<br>\" +\n",
    "                \"rlat: %{y}<br>\",\n",
    "    ),\n",
    "    row=3,col=2\n",
    ")\n",
    "\n",
    "fig.add_trace(\n",
    "    go.Scatter(\n",
    "        x=ndf[ndf.label=='stations'].rlon.values, \n",
    "        y=ndf[ndf.label=='stations'].rlat.values,\n",
    "        mode='markers',\n",
    "        marker=dict(\n",
    "            color=ndf[ndf.label=='stations']['RL50 (kPa)']-ndf[ndf.label=='stations']['mean_values_at_real_stations'], \n",
    "            colorscale=nmcopy,\n",
    "            size=10,\n",
    "            line=dict(width=0.,\n",
    "            color='DarkSlateGrey'),\n",
    "            showscale=False,\n",
    "            cmin=-0.2,\n",
    "            cmax=0.2\n",
    "        ),\n",
    "        showlegend=False,\n",
    "        text = ndf[ndf.label=='stations']['RL50 (kPa)']-ndf[ndf.label=='stations']['mean_values_at_real_stations'],\n",
    "        hoverinfo = 'text',\n",
    "        hovertemplate =\n",
    "                \"<b>Residual: %{text} </b><br>\" +\n",
    "                \"rlon: %{x}<br>\" +\n",
    "                \"rlat: %{y}<br>\",\n",
    "    ),\n",
    "    row=4,col=2\n",
    ")\n",
    "\n",
    "# fig.add_trace(\n",
    "#     go.Scatter(\n",
    "#         x=ndf['RL50 (kPa)'].values, \n",
    "#         y=(model.predict(X))**2,\n",
    "#         mode='markers',\n",
    "#         marker=dict(symbol='circle-open-dot', size=10,\n",
    "#                     color=\"blue\",\n",
    "#                    line=dict(width=1.5,\n",
    "#             color='DarkSlateGrey')),\n",
    "#         name=\"Stations and Reconstruction\"\n",
    "#     ),\n",
    "#     row=1,\n",
    "#     col=2,\n",
    "\n",
    "# )\n",
    "\n",
    "# fig.add_trace(\n",
    "#     go.Scatter(\n",
    "#         x=ndf['RL50 (kPa)'].values, \n",
    "#         y=mean_values_at_real_stations,\n",
    "#         mode='markers',\n",
    "#         marker=dict(symbol='circle', size=10,\n",
    "#                     color=\"red\",\n",
    "#                    line=dict(width=1.5,\n",
    "#             color='DarkSlateGrey')),\n",
    "#         name=\"Stations and Mean\"\n",
    "#     ),\n",
    "#     row=1,\n",
    "#     col=2,\n",
    "\n",
    "# )\n",
    "\n",
    "# fig.add_trace(\n",
    "#     go.Scatter(\n",
    "#         x=Y.flatten()**2, \n",
    "#         y=Y.flatten()**2, \n",
    "#         name='m = 1',                     \n",
    "#         line=dict(color='black', width=4, dash='dash'),\n",
    "        \n",
    "#     ),\n",
    "#     row=1, \n",
    "#     col=2\n",
    "# )\n",
    "\n",
    "fig.add_trace(\n",
    "    go.Table(\n",
    "        header=dict(\n",
    "            values=[\n",
    "                [\"<b>RMSE</b>\", \n",
    "                \"Stations and Corresponding Mean\",\n",
    "                \"Stations and Corresponding Reconstruction\", \n",
    "                \"Non-Station<br>Mean and Reconstruction\",\n",
    "                \"<b>Extremes</b>\",\n",
    "                \"Min Residual Mean and Reconstruction (kPa)\",\n",
    "                \"Max Residual Mean and Reconstruction (kPa)\",\n",
    "                \"<b>Other</b>\",\n",
    "                \"# of Real Stations\",\n",
    "                \"# of Pseudo Stations\"],\n",
    "                [\"\",\n",
    "                 rmse_mean_and_stations, \n",
    "                 rmse, \n",
    "                 non_stations_rmse_mean_reconstruction,\n",
    "                 \"\",\n",
    "                 np.nanmin(final-ens_mean_with_nan),\n",
    "                 np.nanmax(final-ens_mean_with_nan),\n",
    "                 \"\",\n",
    "                 ndf[ndf['label']==\"stations\"].shape[0],\n",
    "                 ndf[ndf['label']==\"model\"].shape[0]]\n",
    "            ],\n",
    "            fill=dict(color=['black', 'white']),\n",
    "            font=dict(color=['white', 'black'], size=16),\n",
    "            align=\"left\"\n",
    "        ),\n",
    "        ),\n",
    "    row=2, col=2\n",
    ")\n",
    "\n",
    "fig.update_yaxes(title=\"rlat\", range=[ndf.rlat.values.min()-2, ndf.rlat.values.max()+2], row=1, col=1)\n",
    "fig.update_yaxes(title=\"rlat\", range=[ndf.rlat.values.min()-2, ndf.rlat.values.max()+2], row=2, col=1)\n",
    "fig.update_yaxes(title=\"rlat\", range=[ndf.rlat.values.min()-2, ndf.rlat.values.max()+2], row=3, col=1)\n",
    "fig.update_yaxes(title=\"rlat\", range=[ndf.rlat.values.min()-2, ndf.rlat.values.max()+2], row=4, col=1)\n",
    "fig.update_yaxes(title=\"rlat\", range=[ndf.rlat.values.min()-2, ndf.rlat.values.max()+2], row=1, col=2)\n",
    "\n",
    "\n",
    "# fig.update_yaxes(title=\"Reconstruction\", range=[(Y.flatten()**2).min()-0.2, (Y.flatten()**2).max()+0.2], row=1, col=2)\n",
    "# fig.update_yaxes(title=\"Reconstruction\", range=[(Y.flatten()**2).min()-0.2, (Y.flatten()**2).max()+0.2], row=2, col=2)\n",
    "\n",
    "fig.update_xaxes(title=\"rlon\", range=[ndf.rlon.values.min()-2, ndf.rlon.values.max()+2], row=1, col=1)\n",
    "fig.update_xaxes(title=\"rlon\", range=[ndf.rlon.values.min()-2, ndf.rlon.values.max()+2], row=2, col=1)\n",
    "fig.update_xaxes(title=\"rlon\", range=[ndf.rlon.values.min()-2, ndf.rlon.values.max()+2], row=3, col=1)\n",
    "fig.update_xaxes(title=\"rlon\", range=[ndf.rlon.values.min()-2, ndf.rlon.values.max()+2], row=4, col=1)\n",
    "fig.update_xaxes(title=\"rlon\", range=[ndf.rlon.values.min()-2, ndf.rlon.values.max()+2], row=1, col=2)\n",
    "\n",
    "# fig.update_xaxes(title=\"Stations\", range=[(model.predict(X)**2).min()-0.2, (model.predict(X)**2).max()+0.2], row=1, col=2)\n",
    "fig.update_xaxes(title=\"Stations\", range=[(model.predict(X)**2).min()-0.2, (model.predict(X)**2).max()+0.2], row=2, col=2)\n",
    "\n",
    "fig.update_layout(\n",
    "    title=\"<b>National Building Code K Nearest Neighbour Regression Results</b> Nic Annau, PCIC\",\n",
    "    font=dict(size=24),\n",
    "    margin=dict(b=30),\n",
    "    width=1800, \n",
    "    height=2830,\n",
    "    showlegend=True,\n",
    "    legend_orientation=\"v\",\n",
    ")\n",
    "\n",
    "plotly.offline.plot(fig, filename='rl50_pseudo_rand_sample_distance_weight.html')\n",
    "# py.plot(fig, filename = 'nrc_knn', auto_open=True)\n",
    "\n",
    "# fig.show()"
   ]
  },
  {
   "cell_type": "code",
   "execution_count": 120,
   "metadata": {},
   "outputs": [],
   "source": [
    "# from paramiko import SSHClient\n",
    "# from scp import SCPClient\n",
    "\n",
    "# ssh = SSHClient()\n",
    "# ssh.load_system_host_keys()\n",
    "# ssh.connect('lynx.compute.pcic.uvic.ca')\n",
    "\n",
    "# with SCPClient(ssh.get_transport()) as scp:\n",
    "#     scp.put('./rl50_pseudo_rand_sample_distance_weight.html', '/storage/home/nannau/public_html')"
   ]
  },
  {
   "cell_type": "code",
   "execution_count": 28,
   "metadata": {},
   "outputs": [
    {
     "name": "stdout",
     "output_type": "stream",
     "text": [
      "8334\n"
     ]
    },
    {
     "data": {
      "text/plain": [
       "(0.008800001268262988, 2.640000380478896)"
      ]
     },
     "execution_count": 28,
     "metadata": {},
     "output_type": "execute_result"
    }
   ],
   "source": [
    "from sklearn.metrics import pairwise_distances_chunked\n",
    "\n",
    "radius_size = 300/((50/3)/np.diff(ds.rlon.values).mean())\n",
    "\n",
    "n = int((47/(np.pi*radius_size**2))*((ds.rlon.max()-ds.rlon.min())*(ds.rlat.max()-ds.rlat.min())).values)\n",
    "print(n)\n",
    "\n",
    "rand = pd.DataFrame({\n",
    "                'rlon': np.random.uniform(ds.rlon.values.min(), ds.rlon.values.max(), n),\n",
    "                'rlat': np.random.uniform(ds.rlat.values.min(), ds.rlat.values.max(), n),\n",
    "                'label': 'pseudo'\n",
    "})\n",
    "\n",
    "# rand = rand[rand.apply(lambda x: (canada.contains(Point(x.rlon, x.rlat)).values[0]), axis=1)]\n",
    "\n",
    "ndfpseudo = ndf.copy()#.append(rand)\n",
    "np.diff(ds.rlon.values).mean()/(50/3), radius_size"
   ]
  },
  {
   "cell_type": "code",
   "execution_count": 41,
   "metadata": {},
   "outputs": [
    {
     "name": "stdout",
     "output_type": "stream",
     "text": [
      "80\n"
     ]
    },
    {
     "data": {
      "text/plain": [
       "array([[-20.54536787529786, 11.545163694436308, 'stations'],\n",
       "       [-20.436114299632873, 8.9221102400567, 'stations'],\n",
       "       [-20.314453931732185, 10.323304131822256, 'stations'],\n",
       "       ...,\n",
       "       [27.673154067932142, 17.04618494568063, 'pseudo'],\n",
       "       [0.09415717342090346, -1.910902399289668, 'pseudo'],\n",
       "       [-20.087615958256677, 15.689783588340907, 'pseudo']], dtype=object)"
      ]
     },
     "execution_count": 41,
     "metadata": {},
     "output_type": "execute_result"
    }
   ],
   "source": [
    "from shapely.geometry import Point, Polygon\n",
    "import random\n",
    "from sklearn.neighbors import KDTree\n",
    "ndfpseudo = ndf.copy()\n",
    "tree = KDTree(np.array(list(zip(ndf.rlon, ndf.rlat))))\n",
    "\n",
    "max_count = tree.query_radius(np.array(list(zip(ndfpseudo.rlon, ndfpseudo.rlat))),r=radius_size, count_only=True).max()\n",
    "# for each station, add stations until it reaches set density, then move onto the next station\n",
    "print(max_count)\n",
    "box = Polygon([\n",
    "        (ds.rlon.values.min(), ds.rlat.values.max()),\n",
    "        (ds.rlon.values.min(), ds.rlat.values.min()), \n",
    "        (ds.rlon.values.max(), ds.rlat.values.min()),\n",
    "        (ds.rlon.values.max(), ds.rlat.values.max())\n",
    "])\n",
    "# for single value!\n",
    "sums = tree.query_radius(np.array([ndf.loc[0].rlon, ndf.loc[0].rlat]).reshape(1, -1),r=radius_size, count_only=True)\n",
    "sums = 0\n",
    "sumbroke = 0\n",
    "niter = 0\n",
    "\n",
    "dfarr = ndfpseudo[['rlon', 'rlat', 'label']]\n",
    "\n",
    "entire_field = int((max_count/(np.pi*radius_size**2))*(ds.rlon.values.max()-ds.rlon.values.min())*(ds.rlat.values.max()-ds.rlat.values.min()))\n",
    "xn = np.random.uniform(ds.rlon.values.max(), ds.rlon.values.min(), entire_field)\n",
    "yn = np.random.uniform(ds.rlat.values.max(), ds.rlat.values.min(), entire_field)\n",
    "ndf_full = pd.concat([dfarr, pd.DataFrame({'rlon':xn, 'rlat':yn, 'label': 'pseudo'})])\n",
    "\n",
    "ndf_full_arr = ndf_full.values\n",
    "ndf_full_arr"
   ]
  },
  {
   "cell_type": "code",
   "execution_count": 170,
   "metadata": {},
   "outputs": [],
   "source": [
    "ndfpseudonew = pd.DataFrame(\n",
    "                    {\n",
    "                        'rlon': dfarr[:, 0],\n",
    "                        'rlat': dfarr[:, 1],\n",
    "                        'label': dfarr[:, 2],\n",
    "                    }\n",
    ")"
   ]
  },
  {
   "cell_type": "code",
   "execution_count": 174,
   "metadata": {},
   "outputs": [],
   "source": [
    "# plt.scatter(ndfpseudonew[ndfpseudonew.label=='pseudo'].rlon, ndfpseudonew[ndfpseudonew.label=='pseudo'].rlat, s=0.1)\n",
    "# plt.scatter(ndfpseudonew[ndfpseudonew.label=='stations'].rlon, ndfpseudonew[ndfpseudonew.label=='stations'].rlat, s=0.6)\n",
    "# plt.show()"
   ]
  },
  {
   "cell_type": "code",
   "execution_count": null,
   "metadata": {},
   "outputs": [],
   "source": [
    "plt.scatter(dfarr[:, 0], dfarr[:, 1], marker='.')"
   ]
  },
  {
   "cell_type": "code",
   "execution_count": 75,
   "metadata": {},
   "outputs": [],
   "source": [
    "from sklearn.manifold import TSNE\n",
    "X_embedded = TSNE(n_components=3).fit_transform(ds[dv].values[:, final_mask].T)"
   ]
  },
  {
   "cell_type": "code",
   "execution_count": 86,
   "metadata": {},
   "outputs": [
    {
     "data": {
      "text/plain": [
       "array([33.81399  , 33.81399  , 33.81399  , ...,  1.8755201,  1.8755201,\n",
       "        4.644344 ], dtype=float32)"
      ]
     },
     "execution_count": 86,
     "metadata": {},
     "output_type": "execute_result"
    }
   ],
   "source": [
    "X_embedded[:, 1]"
   ]
  },
  {
   "cell_type": "code",
   "execution_count": 90,
   "metadata": {},
   "outputs": [
    {
     "data": {
      "text/plain": [
       "<matplotlib.collections.PathCollection at 0x7f70c2335c88>"
      ]
     },
     "execution_count": 90,
     "metadata": {},
     "output_type": "execute_result"
    },
    {
     "data": {
      "image/png": "[encoded data removed]",
      "text/plain": [
       "<Figure size 432x288 with 1 Axes>"
      ]
     },
     "metadata": {
      "needs_background": "light"
     },
     "output_type": "display_data"
    }
   ],
   "source": [
    "plt.scatter(X_embedded.T[2, :], X_embedded.T[1,:], s=0.1)"
   ]
  },
  {
   "cell_type": "code",
   "execution_count": null,
   "metadata": {},
   "outputs": [],
   "source": []
  }
 ],
 "metadata": {
  "hide_input": false,
  "kernelspec": {
   "display_name": "Python 3",
   "language": "python",
   "name": "python3"
  },
  "language_info": {
   "codemirror_mode": {
    "name": "ipython",
    "version": 3
   },
   "file_extension": ".py",
   "mimetype": "text/x-python",
   "name": "python",
   "nbconvert_exporter": "python",
   "pygments_lexer": "ipython3",
   "version": "3.6.8"
  },
  "toc": {
   "base_numbering": 1,
   "nav_menu": {},
   "number_sections": true,
   "sideBar": true,
   "skip_h1_title": false,
   "title_cell": "Table of Contents",
   "title_sidebar": "Contents",
   "toc_cell": false,
   "toc_position": {},
   "toc_section_display": true,
   "toc_window_display": true
  }
 },
 "nbformat": 4,
 "nbformat_minor": 4
}
