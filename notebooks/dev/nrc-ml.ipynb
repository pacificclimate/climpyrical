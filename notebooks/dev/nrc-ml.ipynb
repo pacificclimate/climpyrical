{
 "cells": [
  {
   "cell_type": "markdown",
   "metadata": {},
   "source": [
    "# Climpyrical National Building Code\n",
    "## Analysis of K-NN Regression\n",
    "Nic Annau, Pacific Climate Impacts Consortium"
   ]
  },
  {
   "cell_type": "markdown",
   "metadata": {},
   "source": [
    "## Load Climpyrical and Other Dependencies"
   ]
  },
  {
   "cell_type": "code",
   "execution_count": 1,
   "metadata": {},
   "outputs": [
    {
     "name": "stdout",
     "output_type": "stream",
     "text": [
      "Processing /home/nannau/temp/climpyrical/climpyrical_master/climpyrical\n",
      "Requirement already satisfied: numpy in /home/nannau/climpyrical-venv/lib/python3.6/site-packages (from climpyrical==0.1.dev0) (1.16.4)\n",
      "Requirement already satisfied: shapely in /home/nannau/climpyrical-venv/lib/python3.6/site-packages (from climpyrical==0.1.dev0) (1.6.4.post2)\n",
      "Requirement already satisfied: geopandas in /home/nannau/climpyrical-venv/lib/python3.6/site-packages (from climpyrical==0.1.dev0) (0.6.0)\n",
      "Requirement already satisfied: xarray in /home/nannau/climpyrical-venv/lib/python3.6/site-packages (from climpyrical==0.1.dev0) (0.12.2)\n",
      "Requirement already satisfied: pandas>=0.23.0 in /home/nannau/climpyrical-venv/lib/python3.6/site-packages (from geopandas->climpyrical==0.1.dev0) (0.24.2)\n",
      "Requirement already satisfied: fiona in /home/nannau/climpyrical-venv/lib/python3.6/site-packages (from geopandas->climpyrical==0.1.dev0) (1.8.8)\n",
      "Requirement already satisfied: pyproj in /home/nannau/climpyrical-venv/lib/python3.6/site-packages (from geopandas->climpyrical==0.1.dev0) (2.4.0)\n",
      "Requirement already satisfied: python-dateutil>=2.5.0 in /home/nannau/climpyrical-venv/lib/python3.6/site-packages (from pandas>=0.23.0->geopandas->climpyrical==0.1.dev0) (2.8.0)\n",
      "Requirement already satisfied: pytz>=2011k in /home/nannau/climpyrical-venv/lib/python3.6/site-packages (from pandas>=0.23.0->geopandas->climpyrical==0.1.dev0) (2019.1)\n",
      "Requirement already satisfied: click<8,>=4.0 in /home/nannau/climpyrical-venv/lib/python3.6/site-packages (from fiona->geopandas->climpyrical==0.1.dev0) (7.0)\n",
      "Requirement already satisfied: cligj>=0.5 in /home/nannau/climpyrical-venv/lib/python3.6/site-packages (from fiona->geopandas->climpyrical==0.1.dev0) (0.5.0)\n",
      "Requirement already satisfied: munch in /home/nannau/climpyrical-venv/lib/python3.6/site-packages (from fiona->geopandas->climpyrical==0.1.dev0) (2.3.2)\n",
      "Requirement already satisfied: six>=1.7 in /home/nannau/climpyrical-venv/lib/python3.6/site-packages (from fiona->geopandas->climpyrical==0.1.dev0) (1.12.0)\n",
      "Requirement already satisfied: attrs>=17 in /home/nannau/climpyrical-venv/lib/python3.6/site-packages (from fiona->geopandas->climpyrical==0.1.dev0) (19.1.0)\n",
      "Requirement already satisfied: click-plugins>=1.0 in /home/nannau/climpyrical-venv/lib/python3.6/site-packages (from fiona->geopandas->climpyrical==0.1.dev0) (1.1.1)\n",
      "Building wheels for collected packages: climpyrical\n",
      "  Building wheel for climpyrical (setup.py) ... \u001b[?25ldone\n",
      "\u001b[?25h  Stored in directory: /tmp/pip-ephem-wheel-cache-pilj_6bt/wheels/8b/bf/2e/6a26fa0f442da9fda3291448d1e2863d0ff36814cba03aac77\n",
      "Successfully built climpyrical\n",
      "Installing collected packages: climpyrical\n",
      "  Found existing installation: climpyrical 0.1.dev0\n",
      "    Uninstalling climpyrical-0.1.dev0:\n",
      "      Successfully uninstalled climpyrical-0.1.dev0\n",
      "Successfully installed climpyrical-0.1.dev0\n",
      "\u001b[33mWARNING: You are using pip version 19.1.1, however version 20.0.1 is available.\n",
      "You should consider upgrading via the 'pip install --upgrade pip' command.\u001b[0m\n"
     ]
    }
   ],
   "source": [
    "!pip install ../../.\n",
    "from climpyrical.mask import *\n",
    "from climpyrical.gridding import *\n",
    "from climpyrical.datacube import *\n",
    "\n",
    "import matplotlib.pyplot as plt\n",
    "import numpy as np\n",
    "import geopandas as gpd\n",
    "import pandas as pd\n",
    "import pickle\n",
    "\n",
    "%load_ext autoreload\n",
    "%autoreload 2"
   ]
  },
  {
   "cell_type": "markdown",
   "metadata": {},
   "source": [
    "## Load Ensemble from File"
   ]
  },
  {
   "cell_type": "code",
   "execution_count": 2,
   "metadata": {},
   "outputs": [],
   "source": [
    "PATH = '../../climpyrical/tests/data/snw_test_ensemble.nc'\n",
    "dv = 'Rain-RL50'\n",
    "ds = read_data(PATH, dv)\n",
    "\n",
    "dx, dy = np.diff(ds.rlon.values).mean()/3, np.diff(ds.rlat.values).mean()/3\n",
    "inrlon = np.linspace(ds.rlon.min()-dx, ds.rlon.max()+dx, ds.rlon.shape[0]*3)\n",
    "inrlat = np.linspace(ds.rlat.min()-dy, ds.rlat.max()+dy, ds.rlat.shape[0]*3)\n",
    "new_ens = np.ones((inrlat.size, inrlon.size))\n",
    "\n",
    "new_ds = np.repeat(np.repeat(ds[dv].values, 3, axis=1), 3, axis=2)\n",
    "\n",
    "ids = xr.Dataset({dv: (['level', 'y', 'x'], new_ds)}, \n",
    "                 coords={'rlon':  ('x', inrlon), \n",
    "                         'rlat': ('y', inrlat), \n",
    "                         'level': ('level', range(35))})\n",
    "ds = ids"
   ]
  },
  {
   "cell_type": "markdown",
   "metadata": {},
   "source": [
    "## Load Shapefile and Generate Mask"
   ]
  },
  {
   "cell_type": "code",
   "execution_count": 3,
   "metadata": {},
   "outputs": [],
   "source": [
    "world = gpd.read_file(gpd.datasets.get_path('naturalearth_lowres'))\n",
    "can_index = world[world.name == \"Canada\"].index\n",
    "can_geom = world.loc[can_index, 'geometry']\n",
    "\n",
    "canada = rotate_shapefile(can_geom)\n",
    "\n",
    "mask = gen_raster_mask_from_vector(ds.rlon.values, ds.rlat.values, canada)"
   ]
  },
  {
   "cell_type": "code",
   "execution_count": 4,
   "metadata": {},
   "outputs": [
    {
     "data": {
      "text/plain": [
       "<xarray.DataArray 'rlon' (x: 465)>\n",
       "array([-34.026672, -33.880005, -33.733338, ...,  33.733338,  33.880005,\n",
       "        34.026672])\n",
       "Coordinates:\n",
       "    rlon     (x) float64 -34.03 -33.88 -33.73 -33.59 ... 33.59 33.73 33.88 34.03\n",
       "Dimensions without coordinates: x"
      ]
     },
     "execution_count": 4,
     "metadata": {},
     "output_type": "execute_result"
    }
   ],
   "source": [
    "ds.rlon"
   ]
  },
  {
   "cell_type": "markdown",
   "metadata": {},
   "source": [
    "## Take Anomally of Design Value Ensembles"
   ]
  },
  {
   "cell_type": "code",
   "execution_count": 5,
   "metadata": {},
   "outputs": [
    {
     "data": {
      "text/plain": [
       "(390, 465)"
      ]
     },
     "execution_count": 5,
     "metadata": {},
     "output_type": "execute_result"
    }
   ],
   "source": [
    "ens_mean = ds[dv].values.mean(axis=0)\n",
    "ens_mean.shape"
   ]
  },
  {
   "cell_type": "markdown",
   "metadata": {},
   "source": [
    "## Apply any additional masking\n",
    "If the model has any NaN values left over that the mask did not catch, find them, and add them to the mask using `logical_and`. Reshape arrays and mask to all work with the same mask. "
   ]
  },
  {
   "cell_type": "code",
   "execution_count": 6,
   "metadata": {},
   "outputs": [],
   "source": [
    "# Create a mask of extra NaN values that is flattened\n",
    "flat_mask_with_extra_nan = np.logical_and(~np.isnan(ens_mean.flatten()), mask.flatten())\n",
    "\n",
    "# Put back into the spatial shape\n",
    "final_mask = flat_mask_with_extra_nan.reshape(ens_mean.shape)\n",
    "\n",
    "# create two grids of rlon and rlat to use new mask with\n",
    "rlon, rlat = np.meshgrid(ds.rlon, ds.rlat)\n",
    "\n",
    "# check that the shapes of all of the arrays after masking are consistent\n",
    "assert rlat[final_mask].shape == rlon[final_mask].shape and ens_mean[final_mask].shape == rlat[final_mask].shape"
   ]
  },
  {
   "cell_type": "markdown",
   "metadata": {},
   "source": [
    "## Interpolated to 3x3 Grids"
   ]
  },
  {
   "cell_type": "code",
   "execution_count": 7,
   "metadata": {},
   "outputs": [
    {
     "data": {
      "text/plain": [
       "((35, 390, 465), array([[False, False, False, ..., False, False, False],\n",
       "        [False, False, False, ..., False, False, False],\n",
       "        [False, False, False, ..., False, False, False],\n",
       "        ...,\n",
       "        [False, False, False, ..., False, False, False],\n",
       "        [False, False, False, ..., False, False, False],\n",
       "        [False, False, False, ..., False, False, False]]))"
      ]
     },
     "execution_count": 7,
     "metadata": {},
     "output_type": "execute_result"
    }
   ],
   "source": [
    "ds[dv].values.shape, final_mask"
   ]
  },
  {
   "cell_type": "code",
   "execution_count": null,
   "metadata": {},
   "outputs": [],
   "source": []
  },
  {
   "cell_type": "markdown",
   "metadata": {},
   "source": [
    "# Load the station data from file\n",
    "Add new columns of converted longitude and latitude into rotated pole coordinate"
   ]
  },
  {
   "cell_type": "code",
   "execution_count": 26,
   "metadata": {},
   "outputs": [],
   "source": [
    "from sklearn import ensemble\n",
    "import seaborn as sns\n",
    "from scipy.stats import linregress\n",
    "from sklearn.model_selection import train_test_split\n",
    "from sklearn.model_selection import GridSearchCV\n",
    "from sklearn.utils import shuffle\n",
    "from sklearn.metrics import mean_squared_error\n",
    "from scipy.stats import norm\n",
    "from sklearn.metrics import *\n",
    "from sklearn.neighbors import KNeighborsRegressor\n",
    "from sklearn.neighbors import RadiusNeighborsRegressor\n",
    "from scipy import stats\n",
    "\n",
    "frac = 0.01\n",
    "\n",
    "df = pd.read_csv('../../climpyrical/tests/data/stations.csv', index_col=None)\n",
    "station_dv = 'RL50 (kPa)'\n",
    "df['rlon'], df['rlat'] = transform_coords(df['lon'].values, df['lat'].values)\n",
    "df = df[df['RL50 (kPa)'] != 0.0]\n",
    "df['label'] = 'stations'\n",
    "\n",
    "rlon_ens, rlat_ens = flatten_coords(ds.rlon.values, ds.rlat.values, ds)\n",
    "rlon_i, rlat_i = find_element_wise_nearest_pos(ds.rlon.values, ds.rlat.values, df.rlon.values, df.rlat.values)\n",
    "\n",
    "# Add nearest rlon and rlat locations in grid to stations\n",
    "df['rlon_nearest'], df['rlat_nearest'] = ds.rlon.values[rlon_i], ds.rlat.values[rlat_i]\n",
    "df['rlon_nearest_index'], df['rlat_nearest_index'] = rlon_i, rlat_i\n",
    "\n",
    "# Zip together a tuple of grid indices\n",
    "df['nearest_grid'] = list(zip(rlon_i, rlat_i))\n",
    "df['count'] = df['nearest_grid']\n",
    "\n",
    "# Group together stations falling in same grid cell and take mean\n",
    "ndf = df.groupby(['nearest_grid'], as_index=False).agg({\n",
    "                                station_dv: 'mean',\n",
    "                                'lat':'min',\n",
    "                                'lon':'min',\n",
    "                                'rlat':'min',\n",
    "                                'rlon':'min',\n",
    "                                'rlat_nearest':'min',\n",
    "                                'rlon_nearest':'min',\n",
    "                                'rlon_nearest_index':'mean',\n",
    "                                'rlat_nearest_index':'mean',\n",
    "                                'label': 'min',\n",
    "                                'count':'count'\n",
    "                            })\n",
    "\n",
    "# Remove stations with zero rainfall as advised\n",
    "ndf = ndf[ndf['RL50 (kPa)'] != 0.0]\n",
    "# Get the indices for each grid axis that are matched and grouped\n",
    "rlon_i_agg, rlat_i_agg = ndf.rlon_nearest_index.values, ndf.rlat_nearest_index.values\n",
    "\n",
    "ndf['mean_values_at_real_stations'] = find_nearest_index_value(ds.rlon.values, ds.rlat.values, rlon_i_agg, rlat_i_agg, ens_mean, final_mask, ds)"
   ]
  },
  {
   "cell_type": "code",
   "execution_count": 49,
   "metadata": {},
   "outputs": [],
   "source": [
    "radius_size = 300/((50/3)/np.diff(ds.rlon.values).mean())\n",
    "\n",
    "from shapely.geometry import Point, Polygon\n",
    "import random\n",
    "from sklearn.neighbors import KDTree\n",
    "\n",
    "ndfpseudo = ndf.copy()\n",
    "tree = KDTree(np.array(list(zip(ndf.rlon, ndf.rlat))))\n",
    "max_count = tree.query_radius(np.array(list(zip(ndfpseudo.rlon, ndfpseudo.rlat))),r=radius_size, count_only=True).max()\n",
    "dfarr = ndfpseudo[['rlon', 'rlat', 'label']]\n",
    "\n",
    "entire_field = int((max_count/(np.pi*radius_size**2))*(ds.rlon.values.max()-ds.rlon.values.min())*(ds.rlat.values.max()-ds.rlat.values.min()))\n",
    "xn = np.random.uniform(ds.rlon.values.max(), ds.rlon.values.min(), entire_field)\n",
    "yn = np.random.uniform(ds.rlat.values.max(), ds.rlat.values.min(), entire_field)\n",
    "ndf_full = pd.concat([dfarr, pd.DataFrame({'rlon':xn, 'rlat':yn, 'label': 'pseudo'})])\n",
    "\n",
    "ndf_full_arr = ndf_full.values\n",
    "\n",
    "# def recursion(ndf_full_arr):\n",
    "arlon,arlat = ndf_full_arr[:,0], ndf_full_arr[:,1]\n",
    "tree = KDTree(np.array(list(zip(arlon, arlat))))\n",
    "i=0\n",
    "to_keep = np.ones(ndf_full_arr.shape[0]) == 1\n",
    "\n",
    "def get_sum(ndf_full_arr):\n",
    "    arlon, arlat = ndf_full_arr[:,0], ndf_full_arr[:,1]\n",
    "    return KDTree(np.array(list(zip(arlon, arlat))))\n",
    "\n",
    "for irlon, irlat, ilabel in ndf_full_arr:\n",
    "    temp_arr = ndf_full_arr[np.array(to_keep)]\n",
    "    tree = get_sum(temp_arr)\n",
    "    sums = tree.query_radius(np.array([irlon, irlat]).reshape(1, -1),r=radius_size, count_only=True)\n",
    "\n",
    "    if sums >= max_count and ilabel == 'pseudo':\n",
    "        to_keep[i] = False\n",
    "    else:\n",
    "        to_keep[i] = True\n",
    "    i+=1\n",
    "    \n",
    "dfarr = ndf_full_arr[np.array(to_keep)]\n",
    "    \n",
    "df_to_add = pd.DataFrame(\n",
    "                    {\n",
    "                        'rlon': dfarr[:, 0],\n",
    "                        'rlat': dfarr[:, 1],\n",
    "                        'label': dfarr[:, 2],\n",
    "                    }\n",
    ")\n",
    "df_to_add = df_to_add[df_to_add.apply(lambda x: (canada.contains(Point(x.rlon, x.rlat)).values[0]), axis=1)]\n",
    "df_to_add = df_to_add[df_to_add.label == 'pseudo']\n",
    "\n",
    "df = pd.concat([df, df_to_add], sort=False)\n",
    "\n",
    "rlon_i, rlat_i = find_element_wise_nearest_pos(ds.rlon.values, ds.rlat.values, df.rlon.values, df.rlat.values)\n",
    "\n",
    "# Add nearest rlon and rlat locations in grid to stations\n",
    "df['rlon_nearest'], df['rlat_nearest'] = ds.rlon.values[rlon_i], ds.rlat.values[rlat_i]\n",
    "df['rlon_nearest_index'], df['rlat_nearest_index'] = rlon_i, rlat_i\n",
    "\n",
    "# Zip together a tuple of grid indices\n",
    "df['nearest_grid'] = list(zip(rlon_i, rlat_i))\n",
    "df['count'] = df['nearest_grid']\n",
    "\n",
    "# Group together stations falling in same grid cell and take mean\n",
    "station_dv = 'RL50 (kPa)'\n",
    "ndf = df.groupby(['nearest_grid'], as_index=False).agg({\n",
    "                                station_dv: 'mean',\n",
    "                                'lat':'min',\n",
    "                                'lon':'min',\n",
    "                                'rlat':'min',\n",
    "                                'rlon':'min',\n",
    "                                'rlat_nearest':'min',\n",
    "                                'rlon_nearest':'min',\n",
    "                                'rlon_nearest_index':'mean',\n",
    "                                'rlat_nearest_index':'mean',\n",
    "                                'label': 'min',\n",
    "                                'count':'count'\n",
    "                            })\n",
    "\n",
    "# Remove stations with zero rainfall as advised\n",
    "ndf = ndf[ndf['RL50 (kPa)'] != 0.0]\n",
    "# Get the indices for each grid axis that are matched and grouped\n",
    "rlon_i_agg, rlat_i_agg = ndf.rlon_nearest_index.values, ndf.rlat_nearest_index.values\n",
    "# rlon_i_agg_pseudo, rlat_i_agg_pseudo = ndf[ndf.label=='pseudo'].rlon_nearest_index.values, ndf[ndf.label=='pseudo'].rlat_nearest_index.values\n",
    "\n",
    "ndf['mean_values_at_real_stations'] = find_nearest_index_value(ds.rlon.values, ds.rlat.values, rlon_i_agg, rlat_i_agg, ens_mean, final_mask, ds)\n",
    "# ndf[ndf.label=='pseudo']['RL50 (kPa)'] = find_nearest_index_value(ds.rlon.values, ds.rlat.values, rlon_i_agg_pseudo, rlat_i_agg_pseudo, ens_mean, final_mask, ds)\n",
    "\n",
    "# Get the indices for each grid axis that are matched and grouped\n",
    "rlon_i_agg_p, rlat_i_agg_p = ndf[ndf.label=='stations'].rlon_nearest_index.values, ndf[ndf.label=='stations'].rlat_nearest_index.values\n",
    "mean_values_at_real_stations = find_nearest_index_value(ds.rlon.values, ds.rlat.values, rlon_i_agg, rlat_i_agg, ens_mean, final_mask, ds)\n",
    "mean_values_at_real_stations_p = find_nearest_index_value(ds.rlon.values, ds.rlat.values, rlon_i_agg, rlat_i_agg, ens_mean, final_mask, ds)\n",
    "\n",
    "# mean_values_at_real_stations = m*mean_values_at_real_stations\n",
    "bases = [find_nearest_index_value(ds.rlon.values, ds.rlat.values, rlon_i_agg, rlat_i_agg, ds[dv].values[i, :, :], final_mask, ds) for i in range(35)]\n",
    "basesp = [find_nearest_index_value(ds.rlon.values, ds.rlat.values, rlon_i_agg_p, rlat_i_agg_p, ds[dv].values[i, :, :], final_mask, ds) for i in range(35)] \n",
    "\n",
    "values = np.stack(bases)\n",
    "values = np.concatenate((values, ndf.rlon_nearest.values.reshape(1, -1)), axis=0)\n",
    "values = np.concatenate((values, ndf.rlat_nearest.values.reshape(1, -1)), axis=0)\n",
    "\n",
    "valuesp = np.stack(basesp)\n",
    "valuesp = np.concatenate((valuesp, ndf[ndf.label=='stations'].rlon_nearest.values.reshape(1, -1)), axis=0)\n",
    "valuesp = np.concatenate((valuesp, ndf[ndf.label=='stations'].rlat_nearest.values.reshape(1, -1)), axis=0)"
   ]
  },
  {
   "cell_type": "code",
   "execution_count": 85,
   "metadata": {},
   "outputs": [
    {
     "name": "stderr",
     "output_type": "stream",
     "text": [
      "/home/nannau/climpyrical-venv/lib/python3.6/site-packages/pandas/core/indexing.py:190: SettingWithCopyWarning:\n",
      "\n",
      "\n",
      "A value is trying to be set on a copy of a slice from a DataFrame\n",
      "\n",
      "See the caveats in the documentation: http://pandas.pydata.org/pandas-docs/stable/indexing.html#indexing-view-versus-copy\n",
      "\n"
     ]
    },
    {
     "data": {
      "text/plain": [
       "(340, 37)"
      ]
     },
     "execution_count": 85,
     "metadata": {},
     "output_type": "execute_result"
    }
   ],
   "source": [
    "X, Y = values.T, (ndf['RL50 (kPa)'].values)\n",
    "idx = ndf.loc[ndf.label=='pseudo']\n",
    "ndf['RL50 (kPa)'].loc[ndf.label == 'pseudo'] = ndf[ndf.label=='pseudo']['mean_values_at_real_stations']\n",
    "ndf.drop\n",
    "ndf\n",
    "Xp, Yp = valuesp.T, ndf[ndf.label=='stations']['RL50 (kPa)']\n",
    "# X, Y = shuffle(X, Y, random_state=0)\n",
    "\n",
    "from sklearn.model_selection import LeaveOneOut\n",
    "\n",
    "fullscores = []\n",
    "fullscores2d = []\n",
    "\n",
    "ndf['X'] = pd.Series(X.tolist())\n",
    "np.vstack(ndf.X.values).shape"
   ]
  },
  {
   "cell_type": "code",
   "execution_count": 86,
   "metadata": {},
   "outputs": [],
   "source": [
    "for frac in np.linspace(1.0, 0.01, 10):\n",
    "    for n in range(2, 8):\n",
    "        X = np.vstack(ndf.X.values)\n",
    "        Y = ndf['RL50 (kPa)'].values\n",
    "        loo = LeaveOneOut()\n",
    "        model = KNeighborsRegressor(n_neighbors=n, weights='distance')\n",
    "        scores=[]\n",
    "        for train_index, test_index in loo.split(X):\n",
    "            X_train, X_test = X[train_index], X[test_index]\n",
    "            y_train, y_test = Y[train_index], Y[test_index]\n",
    "            model.fit(X_train, y_train)\n",
    "            scores.append([model.predict(X_test), y_test])\n",
    "\n",
    "            test, pred = np.array(scores)[:, 0][:, 0], np.array(scores)[:, 1][:, 0]\n",
    "        fullscores.append(np.sqrt(((pred-test)**2).mean(axis=0)))\n",
    "    fullscores2d.append(fullscores)\n",
    "    ndf_prev = ndf[ndf['label']=='stations'].copy()\n",
    "    ndf_drop = ndf[ndf['label']=='pseudo'].sample(frac=frac)\n",
    "    ndf = pd.concat([ndf_prev, ndf_drop])"
   ]
  },
  {
   "cell_type": "code",
   "execution_count": 89,
   "metadata": {},
   "outputs": [],
   "source": [
    "# fullscores2d"
   ]
  },
  {
   "cell_type": "code",
   "execution_count": 90,
   "metadata": {},
   "outputs": [
    {
     "data": {
      "application/vnd.plotly.v1+json": {
       "config": {
        "plotlyServerURL": "https://plot.ly"
       },
       "data": [
        {
         "type": "surface",
         "x": [
          1,
          0.89,
          0.78,
          0.6699999999999999,
          0.56,
          0.44999999999999996,
          0.33999999999999997,
          0.22999999999999998,
          0.12,
          0.01
         ],
         "y": [
          2,
          3,
          4,
          5,
          6,
          7
         ],
         "z": [
          [
           0.11645540414593218,
           0.1074153445832192,
           0.10390395722877173,
           0.10163595521603536,
           0.10131768391716982,
           0.10116027052964122,
           0.11645540414593218,
           0.1074153445832192,
           0.10390395722877173,
           0.10163595521603536,
           0.10131768391716982,
           0.10116027052964122,
           0.11645540414593218,
           0.1074153445832192,
           0.10390395722877173,
           0.10163595521603536,
           0.10131768391716982,
           0.10116027052964122,
           0.11645540414593218,
           0.1074153445832192,
           0.10390395722877173,
           0.10163595521603536,
           0.10131768391716982,
           0.10116027052964122,
           0.11645540414593218,
           0.1074153445832192,
           0.10390395722877173,
           0.10163595521603536,
           0.10131768391716982,
           0.10116027052964122,
           0.11645540414593218,
           0.1074153445832192,
           0.10390395722877173,
           0.10163595521603536,
           0.10131768391716982,
           0.10116027052964122,
           0.11645540414593218,
           0.1074153445832192,
           0.10390395722877173,
           0.10163595521603536,
           0.10131768391716982,
           0.10116027052964122,
           0.11645540414593218,
           0.1074153445832192,
           0.10390395722877173,
           0.10163595521603536,
           0.10131768391716982,
           0.10116027052964122,
           0.11645540414593218,
           0.1074153445832192,
           0.10390395722877173,
           0.10163595521603536,
           0.10131768391716982,
           0.10116027052964122,
           0.11645540414593218,
           0.1074153445832192,
           0.10390395722877173,
           0.10163595521603536,
           0.10131768391716982,
           0.10116027052964122
          ],
          [
           0.11645540414593218,
           0.1074153445832192,
           0.10390395722877173,
           0.10163595521603536,
           0.10131768391716982,
           0.10116027052964122,
           0.11645540414593218,
           0.1074153445832192,
           0.10390395722877173,
           0.10163595521603536,
           0.10131768391716982,
           0.10116027052964122,
           0.11645540414593218,
           0.1074153445832192,
           0.10390395722877173,
           0.10163595521603536,
           0.10131768391716982,
           0.10116027052964122,
           0.11645540414593218,
           0.1074153445832192,
           0.10390395722877173,
           0.10163595521603536,
           0.10131768391716982,
           0.10116027052964122,
           0.11645540414593218,
           0.1074153445832192,
           0.10390395722877173,
           0.10163595521603536,
           0.10131768391716982,
           0.10116027052964122,
           0.11645540414593218,
           0.1074153445832192,
           0.10390395722877173,
           0.10163595521603536,
           0.10131768391716982,
           0.10116027052964122,
           0.11645540414593218,
           0.1074153445832192,
           0.10390395722877173,
           0.10163595521603536,
           0.10131768391716982,
           0.10116027052964122,
           0.11645540414593218,
           0.1074153445832192,
           0.10390395722877173,
           0.10163595521603536,
           0.10131768391716982,
           0.10116027052964122,
           0.11645540414593218,
           0.1074153445832192,
           0.10390395722877173,
           0.10163595521603536,
           0.10131768391716982,
           0.10116027052964122,
           0.11645540414593218,
           0.1074153445832192,
           0.10390395722877173,
           0.10163595521603536,
           0.10131768391716982,
           0.10116027052964122
          ],
          [
           0.11645540414593218,
           0.1074153445832192,
           0.10390395722877173,
           0.10163595521603536,
           0.10131768391716982,
           0.10116027052964122,
           0.11645540414593218,
           0.1074153445832192,
           0.10390395722877173,
           0.10163595521603536,
           0.10131768391716982,
           0.10116027052964122,
           0.11645540414593218,
           0.1074153445832192,
           0.10390395722877173,
           0.10163595521603536,
           0.10131768391716982,
           0.10116027052964122,
           0.11645540414593218,
           0.1074153445832192,
           0.10390395722877173,
           0.10163595521603536,
           0.10131768391716982,
           0.10116027052964122,
           0.11645540414593218,
           0.1074153445832192,
           0.10390395722877173,
           0.10163595521603536,
           0.10131768391716982,
           0.10116027052964122,
           0.11645540414593218,
           0.1074153445832192,
           0.10390395722877173,
           0.10163595521603536,
           0.10131768391716982,
           0.10116027052964122,
           0.11645540414593218,
           0.1074153445832192,
           0.10390395722877173,
           0.10163595521603536,
           0.10131768391716982,
           0.10116027052964122,
           0.11645540414593218,
           0.1074153445832192,
           0.10390395722877173,
           0.10163595521603536,
           0.10131768391716982,
           0.10116027052964122,
           0.11645540414593218,
           0.1074153445832192,
           0.10390395722877173,
           0.10163595521603536,
           0.10131768391716982,
           0.10116027052964122,
           0.11645540414593218,
           0.1074153445832192,
           0.10390395722877173,
           0.10163595521603536,
           0.10131768391716982,
           0.10116027052964122
          ],
          [
           0.11645540414593218,
           0.1074153445832192,
           0.10390395722877173,
           0.10163595521603536,
           0.10131768391716982,
           0.10116027052964122,
           0.11645540414593218,
           0.1074153445832192,
           0.10390395722877173,
           0.10163595521603536,
           0.10131768391716982,
           0.10116027052964122,
           0.11645540414593218,
           0.1074153445832192,
           0.10390395722877173,
           0.10163595521603536,
           0.10131768391716982,
           0.10116027052964122,
           0.11645540414593218,
           0.1074153445832192,
           0.10390395722877173,
           0.10163595521603536,
           0.10131768391716982,
           0.10116027052964122,
           0.11645540414593218,
           0.1074153445832192,
           0.10390395722877173,
           0.10163595521603536,
           0.10131768391716982,
           0.10116027052964122,
           0.11645540414593218,
           0.1074153445832192,
           0.10390395722877173,
           0.10163595521603536,
           0.10131768391716982,
           0.10116027052964122,
           0.11645540414593218,
           0.1074153445832192,
           0.10390395722877173,
           0.10163595521603536,
           0.10131768391716982,
           0.10116027052964122,
           0.11645540414593218,
           0.1074153445832192,
           0.10390395722877173,
           0.10163595521603536,
           0.10131768391716982,
           0.10116027052964122,
           0.11645540414593218,
           0.1074153445832192,
           0.10390395722877173,
           0.10163595521603536,
           0.10131768391716982,
           0.10116027052964122,
           0.11645540414593218,
           0.1074153445832192,
           0.10390395722877173,
           0.10163595521603536,
           0.10131768391716982,
           0.10116027052964122
          ],
          [
           0.11645540414593218,
           0.1074153445832192,
           0.10390395722877173,
           0.10163595521603536,
           0.10131768391716982,
           0.10116027052964122,
           0.11645540414593218,
           0.1074153445832192,
           0.10390395722877173,
           0.10163595521603536,
           0.10131768391716982,
           0.10116027052964122,
           0.11645540414593218,
           0.1074153445832192,
           0.10390395722877173,
           0.10163595521603536,
           0.10131768391716982,
           0.10116027052964122,
           0.11645540414593218,
           0.1074153445832192,
           0.10390395722877173,
           0.10163595521603536,
           0.10131768391716982,
           0.10116027052964122,
           0.11645540414593218,
           0.1074153445832192,
           0.10390395722877173,
           0.10163595521603536,
           0.10131768391716982,
           0.10116027052964122,
           0.11645540414593218,
           0.1074153445832192,
           0.10390395722877173,
           0.10163595521603536,
           0.10131768391716982,
           0.10116027052964122,
           0.11645540414593218,
           0.1074153445832192,
           0.10390395722877173,
           0.10163595521603536,
           0.10131768391716982,
           0.10116027052964122,
           0.11645540414593218,
           0.1074153445832192,
           0.10390395722877173,
           0.10163595521603536,
           0.10131768391716982,
           0.10116027052964122,
           0.11645540414593218,
           0.1074153445832192,
           0.10390395722877173,
           0.10163595521603536,
           0.10131768391716982,
           0.10116027052964122,
           0.11645540414593218,
           0.1074153445832192,
           0.10390395722877173,
           0.10163595521603536,
           0.10131768391716982,
           0.10116027052964122
          ],
          [
           0.11645540414593218,
           0.1074153445832192,
           0.10390395722877173,
           0.10163595521603536,
           0.10131768391716982,
           0.10116027052964122,
           0.11645540414593218,
           0.1074153445832192,
           0.10390395722877173,
           0.10163595521603536,
           0.10131768391716982,
           0.10116027052964122,
           0.11645540414593218,
           0.1074153445832192,
           0.10390395722877173,
           0.10163595521603536,
           0.10131768391716982,
           0.10116027052964122,
           0.11645540414593218,
           0.1074153445832192,
           0.10390395722877173,
           0.10163595521603536,
           0.10131768391716982,
           0.10116027052964122,
           0.11645540414593218,
           0.1074153445832192,
           0.10390395722877173,
           0.10163595521603536,
           0.10131768391716982,
           0.10116027052964122,
           0.11645540414593218,
           0.1074153445832192,
           0.10390395722877173,
           0.10163595521603536,
           0.10131768391716982,
           0.10116027052964122,
           0.11645540414593218,
           0.1074153445832192,
           0.10390395722877173,
           0.10163595521603536,
           0.10131768391716982,
           0.10116027052964122,
           0.11645540414593218,
           0.1074153445832192,
           0.10390395722877173,
           0.10163595521603536,
           0.10131768391716982,
           0.10116027052964122,
           0.11645540414593218,
           0.1074153445832192,
           0.10390395722877173,
           0.10163595521603536,
           0.10131768391716982,
           0.10116027052964122,
           0.11645540414593218,
           0.1074153445832192,
           0.10390395722877173,
           0.10163595521603536,
           0.10131768391716982,
           0.10116027052964122
          ],
          [
           0.11645540414593218,
           0.1074153445832192,
           0.10390395722877173,
           0.10163595521603536,
           0.10131768391716982,
           0.10116027052964122,
           0.11645540414593218,
           0.1074153445832192,
           0.10390395722877173,
           0.10163595521603536,
           0.10131768391716982,
           0.10116027052964122,
           0.11645540414593218,
           0.1074153445832192,
           0.10390395722877173,
           0.10163595521603536,
           0.10131768391716982,
           0.10116027052964122,
           0.11645540414593218,
           0.1074153445832192,
           0.10390395722877173,
           0.10163595521603536,
           0.10131768391716982,
           0.10116027052964122,
           0.11645540414593218,
           0.1074153445832192,
           0.10390395722877173,
           0.10163595521603536,
           0.10131768391716982,
           0.10116027052964122,
           0.11645540414593218,
           0.1074153445832192,
           0.10390395722877173,
           0.10163595521603536,
           0.10131768391716982,
           0.10116027052964122,
           0.11645540414593218,
           0.1074153445832192,
           0.10390395722877173,
           0.10163595521603536,
           0.10131768391716982,
           0.10116027052964122,
           0.11645540414593218,
           0.1074153445832192,
           0.10390395722877173,
           0.10163595521603536,
           0.10131768391716982,
           0.10116027052964122,
           0.11645540414593218,
           0.1074153445832192,
           0.10390395722877173,
           0.10163595521603536,
           0.10131768391716982,
           0.10116027052964122,
           0.11645540414593218,
           0.1074153445832192,
           0.10390395722877173,
           0.10163595521603536,
           0.10131768391716982,
           0.10116027052964122
          ],
          [
           0.11645540414593218,
           0.1074153445832192,
           0.10390395722877173,
           0.10163595521603536,
           0.10131768391716982,
           0.10116027052964122,
           0.11645540414593218,
           0.1074153445832192,
           0.10390395722877173,
           0.10163595521603536,
           0.10131768391716982,
           0.10116027052964122,
           0.11645540414593218,
           0.1074153445832192,
           0.10390395722877173,
           0.10163595521603536,
           0.10131768391716982,
           0.10116027052964122,
           0.11645540414593218,
           0.1074153445832192,
           0.10390395722877173,
           0.10163595521603536,
           0.10131768391716982,
           0.10116027052964122,
           0.11645540414593218,
           0.1074153445832192,
           0.10390395722877173,
           0.10163595521603536,
           0.10131768391716982,
           0.10116027052964122,
           0.11645540414593218,
           0.1074153445832192,
           0.10390395722877173,
           0.10163595521603536,
           0.10131768391716982,
           0.10116027052964122,
           0.11645540414593218,
           0.1074153445832192,
           0.10390395722877173,
           0.10163595521603536,
           0.10131768391716982,
           0.10116027052964122,
           0.11645540414593218,
           0.1074153445832192,
           0.10390395722877173,
           0.10163595521603536,
           0.10131768391716982,
           0.10116027052964122,
           0.11645540414593218,
           0.1074153445832192,
           0.10390395722877173,
           0.10163595521603536,
           0.10131768391716982,
           0.10116027052964122,
           0.11645540414593218,
           0.1074153445832192,
           0.10390395722877173,
           0.10163595521603536,
           0.10131768391716982,
           0.10116027052964122
          ],
          [
           0.11645540414593218,
           0.1074153445832192,
           0.10390395722877173,
           0.10163595521603536,
           0.10131768391716982,
           0.10116027052964122,
           0.11645540414593218,
           0.1074153445832192,
           0.10390395722877173,
           0.10163595521603536,
           0.10131768391716982,
           0.10116027052964122,
           0.11645540414593218,
           0.1074153445832192,
           0.10390395722877173,
           0.10163595521603536,
           0.10131768391716982,
           0.10116027052964122,
           0.11645540414593218,
           0.1074153445832192,
           0.10390395722877173,
           0.10163595521603536,
           0.10131768391716982,
           0.10116027052964122,
           0.11645540414593218,
           0.1074153445832192,
           0.10390395722877173,
           0.10163595521603536,
           0.10131768391716982,
           0.10116027052964122,
           0.11645540414593218,
           0.1074153445832192,
           0.10390395722877173,
           0.10163595521603536,
           0.10131768391716982,
           0.10116027052964122,
           0.11645540414593218,
           0.1074153445832192,
           0.10390395722877173,
           0.10163595521603536,
           0.10131768391716982,
           0.10116027052964122,
           0.11645540414593218,
           0.1074153445832192,
           0.10390395722877173,
           0.10163595521603536,
           0.10131768391716982,
           0.10116027052964122,
           0.11645540414593218,
           0.1074153445832192,
           0.10390395722877173,
           0.10163595521603536,
           0.10131768391716982,
           0.10116027052964122,
           0.11645540414593218,
           0.1074153445832192,
           0.10390395722877173,
           0.10163595521603536,
           0.10131768391716982,
           0.10116027052964122
          ],
          [
           0.11645540414593218,
           0.1074153445832192,
           0.10390395722877173,
           0.10163595521603536,
           0.10131768391716982,
           0.10116027052964122,
           0.11645540414593218,
           0.1074153445832192,
           0.10390395722877173,
           0.10163595521603536,
           0.10131768391716982,
           0.10116027052964122,
           0.11645540414593218,
           0.1074153445832192,
           0.10390395722877173,
           0.10163595521603536,
           0.10131768391716982,
           0.10116027052964122,
           0.11645540414593218,
           0.1074153445832192,
           0.10390395722877173,
           0.10163595521603536,
           0.10131768391716982,
           0.10116027052964122,
           0.11645540414593218,
           0.1074153445832192,
           0.10390395722877173,
           0.10163595521603536,
           0.10131768391716982,
           0.10116027052964122,
           0.11645540414593218,
           0.1074153445832192,
           0.10390395722877173,
           0.10163595521603536,
           0.10131768391716982,
           0.10116027052964122,
           0.11645540414593218,
           0.1074153445832192,
           0.10390395722877173,
           0.10163595521603536,
           0.10131768391716982,
           0.10116027052964122,
           0.11645540414593218,
           0.1074153445832192,
           0.10390395722877173,
           0.10163595521603536,
           0.10131768391716982,
           0.10116027052964122,
           0.11645540414593218,
           0.1074153445832192,
           0.10390395722877173,
           0.10163595521603536,
           0.10131768391716982,
           0.10116027052964122,
           0.11645540414593218,
           0.1074153445832192,
           0.10390395722877173,
           0.10163595521603536,
           0.10131768391716982,
           0.10116027052964122
          ]
         ]
        }
       ],
       "layout": {
        "autosize": false,
        "height": 500,
        "margin": {
         "b": 65,
         "l": 65,
         "r": 50,
         "t": 90
        },
        "scene": {
         "aspectmode": "auto",
         "aspectratio": {
          "x": 1,
          "y": 1,
          "z": 1
         },
         "camera": {
          "center": {
           "x": 0.12224515437807792,
           "y": -0.2884767306323958,
           "z": 0.16623157625431786
          },
          "eye": {
           "x": 2.481789169262603,
           "y": 0.35172297776637035,
           "z": 1.080224875146938
          },
          "projection": {
           "type": "perspective"
          },
          "up": {
           "x": 0,
           "y": 0,
           "z": 1
          }
         }
        },
        "template": {
         "data": {
          "bar": [
           {
            "error_x": {
             "color": "#2a3f5f"
            },
            "error_y": {
             "color": "#2a3f5f"
            },
            "marker": {
             "line": {
              "color": "#E5ECF6",
              "width": 0.5
             }
            },
            "type": "bar"
           }
          ],
          "barpolar": [
           {
            "marker": {
             "line": {
              "color": "#E5ECF6",
              "width": 0.5
             }
            },
            "type": "barpolar"
           }
          ],
          "carpet": [
           {
            "aaxis": {
             "endlinecolor": "#2a3f5f",
             "gridcolor": "white",
             "linecolor": "white",
             "minorgridcolor": "white",
             "startlinecolor": "#2a3f5f"
            },
            "baxis": {
             "endlinecolor": "#2a3f5f",
             "gridcolor": "white",
             "linecolor": "white",
             "minorgridcolor": "white",
             "startlinecolor": "#2a3f5f"
            },
            "type": "carpet"
           }
          ],
          "choropleth": [
           {
            "colorbar": {
             "outlinewidth": 0,
             "ticks": ""
            },
            "type": "choropleth"
           }
          ],
          "contour": [
           {
            "colorbar": {
             "outlinewidth": 0,
             "ticks": ""
            },
            "colorscale": [
             [
              0,
              "#0d0887"
             ],
             [
              0.1111111111111111,
              "#46039f"
             ],
             [
              0.2222222222222222,
              "#7201a8"
             ],
             [
              0.3333333333333333,
              "#9c179e"
             ],
             [
              0.4444444444444444,
              "#bd3786"
             ],
             [
              0.5555555555555556,
              "#d8576b"
             ],
             [
              0.6666666666666666,
              "#ed7953"
             ],
             [
              0.7777777777777778,
              "#fb9f3a"
             ],
             [
              0.8888888888888888,
              "#fdca26"
             ],
             [
              1,
              "#f0f921"
             ]
            ],
            "type": "contour"
           }
          ],
          "contourcarpet": [
           {
            "colorbar": {
             "outlinewidth": 0,
             "ticks": ""
            },
            "type": "contourcarpet"
           }
          ],
          "heatmap": [
           {
            "colorbar": {
             "outlinewidth": 0,
             "ticks": ""
            },
            "colorscale": [
             [
              0,
              "#0d0887"
             ],
             [
              0.1111111111111111,
              "#46039f"
             ],
             [
              0.2222222222222222,
              "#7201a8"
             ],
             [
              0.3333333333333333,
              "#9c179e"
             ],
             [
              0.4444444444444444,
              "#bd3786"
             ],
             [
              0.5555555555555556,
              "#d8576b"
             ],
             [
              0.6666666666666666,
              "#ed7953"
             ],
             [
              0.7777777777777778,
              "#fb9f3a"
             ],
             [
              0.8888888888888888,
              "#fdca26"
             ],
             [
              1,
              "#f0f921"
             ]
            ],
            "type": "heatmap"
           }
          ],
          "heatmapgl": [
           {
            "colorbar": {
             "outlinewidth": 0,
             "ticks": ""
            },
            "colorscale": [
             [
              0,
              "#0d0887"
             ],
             [
              0.1111111111111111,
              "#46039f"
             ],
             [
              0.2222222222222222,
              "#7201a8"
             ],
             [
              0.3333333333333333,
              "#9c179e"
             ],
             [
              0.4444444444444444,
              "#bd3786"
             ],
             [
              0.5555555555555556,
              "#d8576b"
             ],
             [
              0.6666666666666666,
              "#ed7953"
             ],
             [
              0.7777777777777778,
              "#fb9f3a"
             ],
             [
              0.8888888888888888,
              "#fdca26"
             ],
             [
              1,
              "#f0f921"
             ]
            ],
            "type": "heatmapgl"
           }
          ],
          "histogram": [
           {
            "marker": {
             "colorbar": {
              "outlinewidth": 0,
              "ticks": ""
             }
            },
            "type": "histogram"
           }
          ],
          "histogram2d": [
           {
            "colorbar": {
             "outlinewidth": 0,
             "ticks": ""
            },
            "colorscale": [
             [
              0,
              "#0d0887"
             ],
             [
              0.1111111111111111,
              "#46039f"
             ],
             [
              0.2222222222222222,
              "#7201a8"
             ],
             [
              0.3333333333333333,
              "#9c179e"
             ],
             [
              0.4444444444444444,
              "#bd3786"
             ],
             [
              0.5555555555555556,
              "#d8576b"
             ],
             [
              0.6666666666666666,
              "#ed7953"
             ],
             [
              0.7777777777777778,
              "#fb9f3a"
             ],
             [
              0.8888888888888888,
              "#fdca26"
             ],
             [
              1,
              "#f0f921"
             ]
            ],
            "type": "histogram2d"
           }
          ],
          "histogram2dcontour": [
           {
            "colorbar": {
             "outlinewidth": 0,
             "ticks": ""
            },
            "colorscale": [
             [
              0,
              "#0d0887"
             ],
             [
              0.1111111111111111,
              "#46039f"
             ],
             [
              0.2222222222222222,
              "#7201a8"
             ],
             [
              0.3333333333333333,
              "#9c179e"
             ],
             [
              0.4444444444444444,
              "#bd3786"
             ],
             [
              0.5555555555555556,
              "#d8576b"
             ],
             [
              0.6666666666666666,
              "#ed7953"
             ],
             [
              0.7777777777777778,
              "#fb9f3a"
             ],
             [
              0.8888888888888888,
              "#fdca26"
             ],
             [
              1,
              "#f0f921"
             ]
            ],
            "type": "histogram2dcontour"
           }
          ],
          "mesh3d": [
           {
            "colorbar": {
             "outlinewidth": 0,
             "ticks": ""
            },
            "type": "mesh3d"
           }
          ],
          "parcoords": [
           {
            "line": {
             "colorbar": {
              "outlinewidth": 0,
              "ticks": ""
             }
            },
            "type": "parcoords"
           }
          ],
          "pie": [
           {
            "automargin": true,
            "type": "pie"
           }
          ],
          "scatter": [
           {
            "marker": {
             "colorbar": {
              "outlinewidth": 0,
              "ticks": ""
             }
            },
            "type": "scatter"
           }
          ],
          "scatter3d": [
           {
            "line": {
             "colorbar": {
              "outlinewidth": 0,
              "ticks": ""
             }
            },
            "marker": {
             "colorbar": {
              "outlinewidth": 0,
              "ticks": ""
             }
            },
            "type": "scatter3d"
           }
          ],
          "scattercarpet": [
           {
            "marker": {
             "colorbar": {
              "outlinewidth": 0,
              "ticks": ""
             }
            },
            "type": "scattercarpet"
           }
          ],
          "scattergeo": [
           {
            "marker": {
             "colorbar": {
              "outlinewidth": 0,
              "ticks": ""
             }
            },
            "type": "scattergeo"
           }
          ],
          "scattergl": [
           {
            "marker": {
             "colorbar": {
              "outlinewidth": 0,
              "ticks": ""
             }
            },
            "type": "scattergl"
           }
          ],
          "scattermapbox": [
           {
            "marker": {
             "colorbar": {
              "outlinewidth": 0,
              "ticks": ""
             }
            },
            "type": "scattermapbox"
           }
          ],
          "scatterpolar": [
           {
            "marker": {
             "colorbar": {
              "outlinewidth": 0,
              "ticks": ""
             }
            },
            "type": "scatterpolar"
           }
          ],
          "scatterpolargl": [
           {
            "marker": {
             "colorbar": {
              "outlinewidth": 0,
              "ticks": ""
             }
            },
            "type": "scatterpolargl"
           }
          ],
          "scatterternary": [
           {
            "marker": {
             "colorbar": {
              "outlinewidth": 0,
              "ticks": ""
             }
            },
            "type": "scatterternary"
           }
          ],
          "surface": [
           {
            "colorbar": {
             "outlinewidth": 0,
             "ticks": ""
            },
            "colorscale": [
             [
              0,
              "#0d0887"
             ],
             [
              0.1111111111111111,
              "#46039f"
             ],
             [
              0.2222222222222222,
              "#7201a8"
             ],
             [
              0.3333333333333333,
              "#9c179e"
             ],
             [
              0.4444444444444444,
              "#bd3786"
             ],
             [
              0.5555555555555556,
              "#d8576b"
             ],
             [
              0.6666666666666666,
              "#ed7953"
             ],
             [
              0.7777777777777778,
              "#fb9f3a"
             ],
             [
              0.8888888888888888,
              "#fdca26"
             ],
             [
              1,
              "#f0f921"
             ]
            ],
            "type": "surface"
           }
          ],
          "table": [
           {
            "cells": {
             "fill": {
              "color": "#EBF0F8"
             },
             "line": {
              "color": "white"
             }
            },
            "header": {
             "fill": {
              "color": "#C8D4E3"
             },
             "line": {
              "color": "white"
             }
            },
            "type": "table"
           }
          ]
         },
         "layout": {
          "annotationdefaults": {
           "arrowcolor": "#2a3f5f",
           "arrowhead": 0,
           "arrowwidth": 1
          },
          "coloraxis": {
           "colorbar": {
            "outlinewidth": 0,
            "ticks": ""
           }
          },
          "colorscale": {
           "diverging": [
            [
             0,
             "#8e0152"
            ],
            [
             0.1,
             "#c51b7d"
            ],
            [
             0.2,
             "#de77ae"
            ],
            [
             0.3,
             "#f1b6da"
            ],
            [
             0.4,
             "#fde0ef"
            ],
            [
             0.5,
             "#f7f7f7"
            ],
            [
             0.6,
             "#e6f5d0"
            ],
            [
             0.7,
             "#b8e186"
            ],
            [
             0.8,
             "#7fbc41"
            ],
            [
             0.9,
             "#4d9221"
            ],
            [
             1,
             "#276419"
            ]
           ],
           "sequential": [
            [
             0,
             "#0d0887"
            ],
            [
             0.1111111111111111,
             "#46039f"
            ],
            [
             0.2222222222222222,
             "#7201a8"
            ],
            [
             0.3333333333333333,
             "#9c179e"
            ],
            [
             0.4444444444444444,
             "#bd3786"
            ],
            [
             0.5555555555555556,
             "#d8576b"
            ],
            [
             0.6666666666666666,
             "#ed7953"
            ],
            [
             0.7777777777777778,
             "#fb9f3a"
            ],
            [
             0.8888888888888888,
             "#fdca26"
            ],
            [
             1,
             "#f0f921"
            ]
           ],
           "sequentialminus": [
            [
             0,
             "#0d0887"
            ],
            [
             0.1111111111111111,
             "#46039f"
            ],
            [
             0.2222222222222222,
             "#7201a8"
            ],
            [
             0.3333333333333333,
             "#9c179e"
            ],
            [
             0.4444444444444444,
             "#bd3786"
            ],
            [
             0.5555555555555556,
             "#d8576b"
            ],
            [
             0.6666666666666666,
             "#ed7953"
            ],
            [
             0.7777777777777778,
             "#fb9f3a"
            ],
            [
             0.8888888888888888,
             "#fdca26"
            ],
            [
             1,
             "#f0f921"
            ]
           ]
          },
          "colorway": [
           "#636efa",
           "#EF553B",
           "#00cc96",
           "#ab63fa",
           "#FFA15A",
           "#19d3f3",
           "#FF6692",
           "#B6E880",
           "#FF97FF",
           "#FECB52"
          ],
          "font": {
           "color": "#2a3f5f"
          },
          "geo": {
           "bgcolor": "white",
           "lakecolor": "white",
           "landcolor": "#E5ECF6",
           "showlakes": true,
           "showland": true,
           "subunitcolor": "white"
          },
          "hoverlabel": {
           "align": "left"
          },
          "hovermode": "closest",
          "mapbox": {
           "style": "light"
          },
          "paper_bgcolor": "white",
          "plot_bgcolor": "#E5ECF6",
          "polar": {
           "angularaxis": {
            "gridcolor": "white",
            "linecolor": "white",
            "ticks": ""
           },
           "bgcolor": "#E5ECF6",
           "radialaxis": {
            "gridcolor": "white",
            "linecolor": "white",
            "ticks": ""
           }
          },
          "scene": {
           "xaxis": {
            "backgroundcolor": "#E5ECF6",
            "gridcolor": "white",
            "gridwidth": 2,
            "linecolor": "white",
            "showbackground": true,
            "ticks": "",
            "zerolinecolor": "white"
           },
           "yaxis": {
            "backgroundcolor": "#E5ECF6",
            "gridcolor": "white",
            "gridwidth": 2,
            "linecolor": "white",
            "showbackground": true,
            "ticks": "",
            "zerolinecolor": "white"
           },
           "zaxis": {
            "backgroundcolor": "#E5ECF6",
            "gridcolor": "white",
            "gridwidth": 2,
            "linecolor": "white",
            "showbackground": true,
            "ticks": "",
            "zerolinecolor": "white"
           }
          },
          "shapedefaults": {
           "line": {
            "color": "#2a3f5f"
           }
          },
          "ternary": {
           "aaxis": {
            "gridcolor": "white",
            "linecolor": "white",
            "ticks": ""
           },
           "baxis": {
            "gridcolor": "white",
            "linecolor": "white",
            "ticks": ""
           },
           "bgcolor": "#E5ECF6",
           "caxis": {
            "gridcolor": "white",
            "linecolor": "white",
            "ticks": ""
           }
          },
          "title": {
           "x": 0.05
          },
          "xaxis": {
           "automargin": true,
           "gridcolor": "white",
           "linecolor": "white",
           "ticks": "",
           "title": {
            "standoff": 15
           },
           "zerolinecolor": "white",
           "zerolinewidth": 2
          },
          "yaxis": {
           "automargin": true,
           "gridcolor": "white",
           "linecolor": "white",
           "ticks": "",
           "title": {
            "standoff": 15
           },
           "zerolinecolor": "white",
           "zerolinewidth": 2
          }
         }
        },
        "title": {
         "text": "LOO Scoring"
        },
        "width": 500
       }
      },
      "image/png": "[encoded data removed]",
      "text/html": [
       "<div>\n",
       "        \n",
       "        \n",
       "            <div id=\"4155d9df-a218-4c77-89ea-9a490a52857f\" class=\"plotly-graph-div\" style=\"height:500px; width:500px;\"></div>\n",
       "            <script type=\"text/javascript\">\n",
       "                require([\"plotly\"], function(Plotly) {\n",
       "                    window.PLOTLYENV=window.PLOTLYENV || {};\n",
       "                    \n",
       "                if (document.getElementById(\"4155d9df-a218-4c77-89ea-9a490a52857f\")) {\n",
       "                    Plotly.newPlot(\n",
       "                        '4155d9df-a218-4c77-89ea-9a490a52857f',\n",
       "                        [{\"type\": \"surface\", \"x\": [1.0, 0.89, 0.78, 0.6699999999999999, 0.56, 0.44999999999999996, 0.33999999999999997, 0.22999999999999998, 0.12, 0.01], \"y\": [2, 3, 4, 5, 6, 7], \"z\": [[0.11645540414593218, 0.1074153445832192, 0.10390395722877173, 0.10163595521603536, 0.10131768391716982, 0.10116027052964122, 0.11645540414593218, 0.1074153445832192, 0.10390395722877173, 0.10163595521603536, 0.10131768391716982, 0.10116027052964122, 0.11645540414593218, 0.1074153445832192, 0.10390395722877173, 0.10163595521603536, 0.10131768391716982, 0.10116027052964122, 0.11645540414593218, 0.1074153445832192, 0.10390395722877173, 0.10163595521603536, 0.10131768391716982, 0.10116027052964122, 0.11645540414593218, 0.1074153445832192, 0.10390395722877173, 0.10163595521603536, 0.10131768391716982, 0.10116027052964122, 0.11645540414593218, 0.1074153445832192, 0.10390395722877173, 0.10163595521603536, 0.10131768391716982, 0.10116027052964122, 0.11645540414593218, 0.1074153445832192, 0.10390395722877173, 0.10163595521603536, 0.10131768391716982, 0.10116027052964122, 0.11645540414593218, 0.1074153445832192, 0.10390395722877173, 0.10163595521603536, 0.10131768391716982, 0.10116027052964122, 0.11645540414593218, 0.1074153445832192, 0.10390395722877173, 0.10163595521603536, 0.10131768391716982, 0.10116027052964122, 0.11645540414593218, 0.1074153445832192, 0.10390395722877173, 0.10163595521603536, 0.10131768391716982, 0.10116027052964122], [0.11645540414593218, 0.1074153445832192, 0.10390395722877173, 0.10163595521603536, 0.10131768391716982, 0.10116027052964122, 0.11645540414593218, 0.1074153445832192, 0.10390395722877173, 0.10163595521603536, 0.10131768391716982, 0.10116027052964122, 0.11645540414593218, 0.1074153445832192, 0.10390395722877173, 0.10163595521603536, 0.10131768391716982, 0.10116027052964122, 0.11645540414593218, 0.1074153445832192, 0.10390395722877173, 0.10163595521603536, 0.10131768391716982, 0.10116027052964122, 0.11645540414593218, 0.1074153445832192, 0.10390395722877173, 0.10163595521603536, 0.10131768391716982, 0.10116027052964122, 0.11645540414593218, 0.1074153445832192, 0.10390395722877173, 0.10163595521603536, 0.10131768391716982, 0.10116027052964122, 0.11645540414593218, 0.1074153445832192, 0.10390395722877173, 0.10163595521603536, 0.10131768391716982, 0.10116027052964122, 0.11645540414593218, 0.1074153445832192, 0.10390395722877173, 0.10163595521603536, 0.10131768391716982, 0.10116027052964122, 0.11645540414593218, 0.1074153445832192, 0.10390395722877173, 0.10163595521603536, 0.10131768391716982, 0.10116027052964122, 0.11645540414593218, 0.1074153445832192, 0.10390395722877173, 0.10163595521603536, 0.10131768391716982, 0.10116027052964122], [0.11645540414593218, 0.1074153445832192, 0.10390395722877173, 0.10163595521603536, 0.10131768391716982, 0.10116027052964122, 0.11645540414593218, 0.1074153445832192, 0.10390395722877173, 0.10163595521603536, 0.10131768391716982, 0.10116027052964122, 0.11645540414593218, 0.1074153445832192, 0.10390395722877173, 0.10163595521603536, 0.10131768391716982, 0.10116027052964122, 0.11645540414593218, 0.1074153445832192, 0.10390395722877173, 0.10163595521603536, 0.10131768391716982, 0.10116027052964122, 0.11645540414593218, 0.1074153445832192, 0.10390395722877173, 0.10163595521603536, 0.10131768391716982, 0.10116027052964122, 0.11645540414593218, 0.1074153445832192, 0.10390395722877173, 0.10163595521603536, 0.10131768391716982, 0.10116027052964122, 0.11645540414593218, 0.1074153445832192, 0.10390395722877173, 0.10163595521603536, 0.10131768391716982, 0.10116027052964122, 0.11645540414593218, 0.1074153445832192, 0.10390395722877173, 0.10163595521603536, 0.10131768391716982, 0.10116027052964122, 0.11645540414593218, 0.1074153445832192, 0.10390395722877173, 0.10163595521603536, 0.10131768391716982, 0.10116027052964122, 0.11645540414593218, 0.1074153445832192, 0.10390395722877173, 0.10163595521603536, 0.10131768391716982, 0.10116027052964122], [0.11645540414593218, 0.1074153445832192, 0.10390395722877173, 0.10163595521603536, 0.10131768391716982, 0.10116027052964122, 0.11645540414593218, 0.1074153445832192, 0.10390395722877173, 0.10163595521603536, 0.10131768391716982, 0.10116027052964122, 0.11645540414593218, 0.1074153445832192, 0.10390395722877173, 0.10163595521603536, 0.10131768391716982, 0.10116027052964122, 0.11645540414593218, 0.1074153445832192, 0.10390395722877173, 0.10163595521603536, 0.10131768391716982, 0.10116027052964122, 0.11645540414593218, 0.1074153445832192, 0.10390395722877173, 0.10163595521603536, 0.10131768391716982, 0.10116027052964122, 0.11645540414593218, 0.1074153445832192, 0.10390395722877173, 0.10163595521603536, 0.10131768391716982, 0.10116027052964122, 0.11645540414593218, 0.1074153445832192, 0.10390395722877173, 0.10163595521603536, 0.10131768391716982, 0.10116027052964122, 0.11645540414593218, 0.1074153445832192, 0.10390395722877173, 0.10163595521603536, 0.10131768391716982, 0.10116027052964122, 0.11645540414593218, 0.1074153445832192, 0.10390395722877173, 0.10163595521603536, 0.10131768391716982, 0.10116027052964122, 0.11645540414593218, 0.1074153445832192, 0.10390395722877173, 0.10163595521603536, 0.10131768391716982, 0.10116027052964122], [0.11645540414593218, 0.1074153445832192, 0.10390395722877173, 0.10163595521603536, 0.10131768391716982, 0.10116027052964122, 0.11645540414593218, 0.1074153445832192, 0.10390395722877173, 0.10163595521603536, 0.10131768391716982, 0.10116027052964122, 0.11645540414593218, 0.1074153445832192, 0.10390395722877173, 0.10163595521603536, 0.10131768391716982, 0.10116027052964122, 0.11645540414593218, 0.1074153445832192, 0.10390395722877173, 0.10163595521603536, 0.10131768391716982, 0.10116027052964122, 0.11645540414593218, 0.1074153445832192, 0.10390395722877173, 0.10163595521603536, 0.10131768391716982, 0.10116027052964122, 0.11645540414593218, 0.1074153445832192, 0.10390395722877173, 0.10163595521603536, 0.10131768391716982, 0.10116027052964122, 0.11645540414593218, 0.1074153445832192, 0.10390395722877173, 0.10163595521603536, 0.10131768391716982, 0.10116027052964122, 0.11645540414593218, 0.1074153445832192, 0.10390395722877173, 0.10163595521603536, 0.10131768391716982, 0.10116027052964122, 0.11645540414593218, 0.1074153445832192, 0.10390395722877173, 0.10163595521603536, 0.10131768391716982, 0.10116027052964122, 0.11645540414593218, 0.1074153445832192, 0.10390395722877173, 0.10163595521603536, 0.10131768391716982, 0.10116027052964122], [0.11645540414593218, 0.1074153445832192, 0.10390395722877173, 0.10163595521603536, 0.10131768391716982, 0.10116027052964122, 0.11645540414593218, 0.1074153445832192, 0.10390395722877173, 0.10163595521603536, 0.10131768391716982, 0.10116027052964122, 0.11645540414593218, 0.1074153445832192, 0.10390395722877173, 0.10163595521603536, 0.10131768391716982, 0.10116027052964122, 0.11645540414593218, 0.1074153445832192, 0.10390395722877173, 0.10163595521603536, 0.10131768391716982, 0.10116027052964122, 0.11645540414593218, 0.1074153445832192, 0.10390395722877173, 0.10163595521603536, 0.10131768391716982, 0.10116027052964122, 0.11645540414593218, 0.1074153445832192, 0.10390395722877173, 0.10163595521603536, 0.10131768391716982, 0.10116027052964122, 0.11645540414593218, 0.1074153445832192, 0.10390395722877173, 0.10163595521603536, 0.10131768391716982, 0.10116027052964122, 0.11645540414593218, 0.1074153445832192, 0.10390395722877173, 0.10163595521603536, 0.10131768391716982, 0.10116027052964122, 0.11645540414593218, 0.1074153445832192, 0.10390395722877173, 0.10163595521603536, 0.10131768391716982, 0.10116027052964122, 0.11645540414593218, 0.1074153445832192, 0.10390395722877173, 0.10163595521603536, 0.10131768391716982, 0.10116027052964122], [0.11645540414593218, 0.1074153445832192, 0.10390395722877173, 0.10163595521603536, 0.10131768391716982, 0.10116027052964122, 0.11645540414593218, 0.1074153445832192, 0.10390395722877173, 0.10163595521603536, 0.10131768391716982, 0.10116027052964122, 0.11645540414593218, 0.1074153445832192, 0.10390395722877173, 0.10163595521603536, 0.10131768391716982, 0.10116027052964122, 0.11645540414593218, 0.1074153445832192, 0.10390395722877173, 0.10163595521603536, 0.10131768391716982, 0.10116027052964122, 0.11645540414593218, 0.1074153445832192, 0.10390395722877173, 0.10163595521603536, 0.10131768391716982, 0.10116027052964122, 0.11645540414593218, 0.1074153445832192, 0.10390395722877173, 0.10163595521603536, 0.10131768391716982, 0.10116027052964122, 0.11645540414593218, 0.1074153445832192, 0.10390395722877173, 0.10163595521603536, 0.10131768391716982, 0.10116027052964122, 0.11645540414593218, 0.1074153445832192, 0.10390395722877173, 0.10163595521603536, 0.10131768391716982, 0.10116027052964122, 0.11645540414593218, 0.1074153445832192, 0.10390395722877173, 0.10163595521603536, 0.10131768391716982, 0.10116027052964122, 0.11645540414593218, 0.1074153445832192, 0.10390395722877173, 0.10163595521603536, 0.10131768391716982, 0.10116027052964122], [0.11645540414593218, 0.1074153445832192, 0.10390395722877173, 0.10163595521603536, 0.10131768391716982, 0.10116027052964122, 0.11645540414593218, 0.1074153445832192, 0.10390395722877173, 0.10163595521603536, 0.10131768391716982, 0.10116027052964122, 0.11645540414593218, 0.1074153445832192, 0.10390395722877173, 0.10163595521603536, 0.10131768391716982, 0.10116027052964122, 0.11645540414593218, 0.1074153445832192, 0.10390395722877173, 0.10163595521603536, 0.10131768391716982, 0.10116027052964122, 0.11645540414593218, 0.1074153445832192, 0.10390395722877173, 0.10163595521603536, 0.10131768391716982, 0.10116027052964122, 0.11645540414593218, 0.1074153445832192, 0.10390395722877173, 0.10163595521603536, 0.10131768391716982, 0.10116027052964122, 0.11645540414593218, 0.1074153445832192, 0.10390395722877173, 0.10163595521603536, 0.10131768391716982, 0.10116027052964122, 0.11645540414593218, 0.1074153445832192, 0.10390395722877173, 0.10163595521603536, 0.10131768391716982, 0.10116027052964122, 0.11645540414593218, 0.1074153445832192, 0.10390395722877173, 0.10163595521603536, 0.10131768391716982, 0.10116027052964122, 0.11645540414593218, 0.1074153445832192, 0.10390395722877173, 0.10163595521603536, 0.10131768391716982, 0.10116027052964122], [0.11645540414593218, 0.1074153445832192, 0.10390395722877173, 0.10163595521603536, 0.10131768391716982, 0.10116027052964122, 0.11645540414593218, 0.1074153445832192, 0.10390395722877173, 0.10163595521603536, 0.10131768391716982, 0.10116027052964122, 0.11645540414593218, 0.1074153445832192, 0.10390395722877173, 0.10163595521603536, 0.10131768391716982, 0.10116027052964122, 0.11645540414593218, 0.1074153445832192, 0.10390395722877173, 0.10163595521603536, 0.10131768391716982, 0.10116027052964122, 0.11645540414593218, 0.1074153445832192, 0.10390395722877173, 0.10163595521603536, 0.10131768391716982, 0.10116027052964122, 0.11645540414593218, 0.1074153445832192, 0.10390395722877173, 0.10163595521603536, 0.10131768391716982, 0.10116027052964122, 0.11645540414593218, 0.1074153445832192, 0.10390395722877173, 0.10163595521603536, 0.10131768391716982, 0.10116027052964122, 0.11645540414593218, 0.1074153445832192, 0.10390395722877173, 0.10163595521603536, 0.10131768391716982, 0.10116027052964122, 0.11645540414593218, 0.1074153445832192, 0.10390395722877173, 0.10163595521603536, 0.10131768391716982, 0.10116027052964122, 0.11645540414593218, 0.1074153445832192, 0.10390395722877173, 0.10163595521603536, 0.10131768391716982, 0.10116027052964122], [0.11645540414593218, 0.1074153445832192, 0.10390395722877173, 0.10163595521603536, 0.10131768391716982, 0.10116027052964122, 0.11645540414593218, 0.1074153445832192, 0.10390395722877173, 0.10163595521603536, 0.10131768391716982, 0.10116027052964122, 0.11645540414593218, 0.1074153445832192, 0.10390395722877173, 0.10163595521603536, 0.10131768391716982, 0.10116027052964122, 0.11645540414593218, 0.1074153445832192, 0.10390395722877173, 0.10163595521603536, 0.10131768391716982, 0.10116027052964122, 0.11645540414593218, 0.1074153445832192, 0.10390395722877173, 0.10163595521603536, 0.10131768391716982, 0.10116027052964122, 0.11645540414593218, 0.1074153445832192, 0.10390395722877173, 0.10163595521603536, 0.10131768391716982, 0.10116027052964122, 0.11645540414593218, 0.1074153445832192, 0.10390395722877173, 0.10163595521603536, 0.10131768391716982, 0.10116027052964122, 0.11645540414593218, 0.1074153445832192, 0.10390395722877173, 0.10163595521603536, 0.10131768391716982, 0.10116027052964122, 0.11645540414593218, 0.1074153445832192, 0.10390395722877173, 0.10163595521603536, 0.10131768391716982, 0.10116027052964122, 0.11645540414593218, 0.1074153445832192, 0.10390395722877173, 0.10163595521603536, 0.10131768391716982, 0.10116027052964122]]}],\n",
       "                        {\"autosize\": false, \"height\": 500, \"margin\": {\"b\": 65, \"l\": 65, \"r\": 50, \"t\": 90}, \"template\": {\"data\": {\"bar\": [{\"error_x\": {\"color\": \"#2a3f5f\"}, \"error_y\": {\"color\": \"#2a3f5f\"}, \"marker\": {\"line\": {\"color\": \"#E5ECF6\", \"width\": 0.5}}, \"type\": \"bar\"}], \"barpolar\": [{\"marker\": {\"line\": {\"color\": \"#E5ECF6\", \"width\": 0.5}}, \"type\": \"barpolar\"}], \"carpet\": [{\"aaxis\": {\"endlinecolor\": \"#2a3f5f\", \"gridcolor\": \"white\", \"linecolor\": \"white\", \"minorgridcolor\": \"white\", \"startlinecolor\": \"#2a3f5f\"}, \"baxis\": {\"endlinecolor\": \"#2a3f5f\", \"gridcolor\": \"white\", \"linecolor\": \"white\", \"minorgridcolor\": \"white\", \"startlinecolor\": \"#2a3f5f\"}, \"type\": \"carpet\"}], \"choropleth\": [{\"colorbar\": {\"outlinewidth\": 0, \"ticks\": \"\"}, \"type\": \"choropleth\"}], \"contour\": [{\"colorbar\": {\"outlinewidth\": 0, \"ticks\": \"\"}, \"colorscale\": [[0.0, \"#0d0887\"], [0.1111111111111111, \"#46039f\"], [0.2222222222222222, \"#7201a8\"], [0.3333333333333333, \"#9c179e\"], [0.4444444444444444, \"#bd3786\"], [0.5555555555555556, \"#d8576b\"], [0.6666666666666666, \"#ed7953\"], [0.7777777777777778, \"#fb9f3a\"], [0.8888888888888888, \"#fdca26\"], [1.0, \"#f0f921\"]], \"type\": \"contour\"}], \"contourcarpet\": [{\"colorbar\": {\"outlinewidth\": 0, \"ticks\": \"\"}, \"type\": \"contourcarpet\"}], \"heatmap\": [{\"colorbar\": {\"outlinewidth\": 0, \"ticks\": \"\"}, \"colorscale\": [[0.0, \"#0d0887\"], [0.1111111111111111, \"#46039f\"], [0.2222222222222222, \"#7201a8\"], [0.3333333333333333, \"#9c179e\"], [0.4444444444444444, \"#bd3786\"], [0.5555555555555556, \"#d8576b\"], [0.6666666666666666, \"#ed7953\"], [0.7777777777777778, \"#fb9f3a\"], [0.8888888888888888, \"#fdca26\"], [1.0, \"#f0f921\"]], \"type\": \"heatmap\"}], \"heatmapgl\": [{\"colorbar\": {\"outlinewidth\": 0, \"ticks\": \"\"}, \"colorscale\": [[0.0, \"#0d0887\"], [0.1111111111111111, \"#46039f\"], [0.2222222222222222, \"#7201a8\"], [0.3333333333333333, \"#9c179e\"], [0.4444444444444444, \"#bd3786\"], [0.5555555555555556, \"#d8576b\"], [0.6666666666666666, \"#ed7953\"], [0.7777777777777778, \"#fb9f3a\"], [0.8888888888888888, \"#fdca26\"], [1.0, \"#f0f921\"]], \"type\": \"heatmapgl\"}], \"histogram\": [{\"marker\": {\"colorbar\": {\"outlinewidth\": 0, \"ticks\": \"\"}}, \"type\": \"histogram\"}], \"histogram2d\": [{\"colorbar\": {\"outlinewidth\": 0, \"ticks\": \"\"}, \"colorscale\": [[0.0, \"#0d0887\"], [0.1111111111111111, \"#46039f\"], [0.2222222222222222, \"#7201a8\"], [0.3333333333333333, \"#9c179e\"], [0.4444444444444444, \"#bd3786\"], [0.5555555555555556, \"#d8576b\"], [0.6666666666666666, \"#ed7953\"], [0.7777777777777778, \"#fb9f3a\"], [0.8888888888888888, \"#fdca26\"], [1.0, \"#f0f921\"]], \"type\": \"histogram2d\"}], \"histogram2dcontour\": [{\"colorbar\": {\"outlinewidth\": 0, \"ticks\": \"\"}, \"colorscale\": [[0.0, \"#0d0887\"], [0.1111111111111111, \"#46039f\"], [0.2222222222222222, \"#7201a8\"], [0.3333333333333333, \"#9c179e\"], [0.4444444444444444, \"#bd3786\"], [0.5555555555555556, \"#d8576b\"], [0.6666666666666666, \"#ed7953\"], [0.7777777777777778, \"#fb9f3a\"], [0.8888888888888888, \"#fdca26\"], [1.0, \"#f0f921\"]], \"type\": \"histogram2dcontour\"}], \"mesh3d\": [{\"colorbar\": {\"outlinewidth\": 0, \"ticks\": \"\"}, \"type\": \"mesh3d\"}], \"parcoords\": [{\"line\": {\"colorbar\": {\"outlinewidth\": 0, \"ticks\": \"\"}}, \"type\": \"parcoords\"}], \"pie\": [{\"automargin\": true, \"type\": \"pie\"}], \"scatter\": [{\"marker\": {\"colorbar\": {\"outlinewidth\": 0, \"ticks\": \"\"}}, \"type\": \"scatter\"}], \"scatter3d\": [{\"line\": {\"colorbar\": {\"outlinewidth\": 0, \"ticks\": \"\"}}, \"marker\": {\"colorbar\": {\"outlinewidth\": 0, \"ticks\": \"\"}}, \"type\": \"scatter3d\"}], \"scattercarpet\": [{\"marker\": {\"colorbar\": {\"outlinewidth\": 0, \"ticks\": \"\"}}, \"type\": \"scattercarpet\"}], \"scattergeo\": [{\"marker\": {\"colorbar\": {\"outlinewidth\": 0, \"ticks\": \"\"}}, \"type\": \"scattergeo\"}], \"scattergl\": [{\"marker\": {\"colorbar\": {\"outlinewidth\": 0, \"ticks\": \"\"}}, \"type\": \"scattergl\"}], \"scattermapbox\": [{\"marker\": {\"colorbar\": {\"outlinewidth\": 0, \"ticks\": \"\"}}, \"type\": \"scattermapbox\"}], \"scatterpolar\": [{\"marker\": {\"colorbar\": {\"outlinewidth\": 0, \"ticks\": \"\"}}, \"type\": \"scatterpolar\"}], \"scatterpolargl\": [{\"marker\": {\"colorbar\": {\"outlinewidth\": 0, \"ticks\": \"\"}}, \"type\": \"scatterpolargl\"}], \"scatterternary\": [{\"marker\": {\"colorbar\": {\"outlinewidth\": 0, \"ticks\": \"\"}}, \"type\": \"scatterternary\"}], \"surface\": [{\"colorbar\": {\"outlinewidth\": 0, \"ticks\": \"\"}, \"colorscale\": [[0.0, \"#0d0887\"], [0.1111111111111111, \"#46039f\"], [0.2222222222222222, \"#7201a8\"], [0.3333333333333333, \"#9c179e\"], [0.4444444444444444, \"#bd3786\"], [0.5555555555555556, \"#d8576b\"], [0.6666666666666666, \"#ed7953\"], [0.7777777777777778, \"#fb9f3a\"], [0.8888888888888888, \"#fdca26\"], [1.0, \"#f0f921\"]], \"type\": \"surface\"}], \"table\": [{\"cells\": {\"fill\": {\"color\": \"#EBF0F8\"}, \"line\": {\"color\": \"white\"}}, \"header\": {\"fill\": {\"color\": \"#C8D4E3\"}, \"line\": {\"color\": \"white\"}}, \"type\": \"table\"}]}, \"layout\": {\"annotationdefaults\": {\"arrowcolor\": \"#2a3f5f\", \"arrowhead\": 0, \"arrowwidth\": 1}, \"coloraxis\": {\"colorbar\": {\"outlinewidth\": 0, \"ticks\": \"\"}}, \"colorscale\": {\"diverging\": [[0, \"#8e0152\"], [0.1, \"#c51b7d\"], [0.2, \"#de77ae\"], [0.3, \"#f1b6da\"], [0.4, \"#fde0ef\"], [0.5, \"#f7f7f7\"], [0.6, \"#e6f5d0\"], [0.7, \"#b8e186\"], [0.8, \"#7fbc41\"], [0.9, \"#4d9221\"], [1, \"#276419\"]], \"sequential\": [[0.0, \"#0d0887\"], [0.1111111111111111, \"#46039f\"], [0.2222222222222222, \"#7201a8\"], [0.3333333333333333, \"#9c179e\"], [0.4444444444444444, \"#bd3786\"], [0.5555555555555556, \"#d8576b\"], [0.6666666666666666, \"#ed7953\"], [0.7777777777777778, \"#fb9f3a\"], [0.8888888888888888, \"#fdca26\"], [1.0, \"#f0f921\"]], \"sequentialminus\": [[0.0, \"#0d0887\"], [0.1111111111111111, \"#46039f\"], [0.2222222222222222, \"#7201a8\"], [0.3333333333333333, \"#9c179e\"], [0.4444444444444444, \"#bd3786\"], [0.5555555555555556, \"#d8576b\"], [0.6666666666666666, \"#ed7953\"], [0.7777777777777778, \"#fb9f3a\"], [0.8888888888888888, \"#fdca26\"], [1.0, \"#f0f921\"]]}, \"colorway\": [\"#636efa\", \"#EF553B\", \"#00cc96\", \"#ab63fa\", \"#FFA15A\", \"#19d3f3\", \"#FF6692\", \"#B6E880\", \"#FF97FF\", \"#FECB52\"], \"font\": {\"color\": \"#2a3f5f\"}, \"geo\": {\"bgcolor\": \"white\", \"lakecolor\": \"white\", \"landcolor\": \"#E5ECF6\", \"showlakes\": true, \"showland\": true, \"subunitcolor\": \"white\"}, \"hoverlabel\": {\"align\": \"left\"}, \"hovermode\": \"closest\", \"mapbox\": {\"style\": \"light\"}, \"paper_bgcolor\": \"white\", \"plot_bgcolor\": \"#E5ECF6\", \"polar\": {\"angularaxis\": {\"gridcolor\": \"white\", \"linecolor\": \"white\", \"ticks\": \"\"}, \"bgcolor\": \"#E5ECF6\", \"radialaxis\": {\"gridcolor\": \"white\", \"linecolor\": \"white\", \"ticks\": \"\"}}, \"scene\": {\"xaxis\": {\"backgroundcolor\": \"#E5ECF6\", \"gridcolor\": \"white\", \"gridwidth\": 2, \"linecolor\": \"white\", \"showbackground\": true, \"ticks\": \"\", \"zerolinecolor\": \"white\"}, \"yaxis\": {\"backgroundcolor\": \"#E5ECF6\", \"gridcolor\": \"white\", \"gridwidth\": 2, \"linecolor\": \"white\", \"showbackground\": true, \"ticks\": \"\", \"zerolinecolor\": \"white\"}, \"zaxis\": {\"backgroundcolor\": \"#E5ECF6\", \"gridcolor\": \"white\", \"gridwidth\": 2, \"linecolor\": \"white\", \"showbackground\": true, \"ticks\": \"\", \"zerolinecolor\": \"white\"}}, \"shapedefaults\": {\"line\": {\"color\": \"#2a3f5f\"}}, \"ternary\": {\"aaxis\": {\"gridcolor\": \"white\", \"linecolor\": \"white\", \"ticks\": \"\"}, \"baxis\": {\"gridcolor\": \"white\", \"linecolor\": \"white\", \"ticks\": \"\"}, \"bgcolor\": \"#E5ECF6\", \"caxis\": {\"gridcolor\": \"white\", \"linecolor\": \"white\", \"ticks\": \"\"}}, \"title\": {\"x\": 0.05}, \"xaxis\": {\"automargin\": true, \"gridcolor\": \"white\", \"linecolor\": \"white\", \"ticks\": \"\", \"title\": {\"standoff\": 15}, \"zerolinecolor\": \"white\", \"zerolinewidth\": 2}, \"yaxis\": {\"automargin\": true, \"gridcolor\": \"white\", \"linecolor\": \"white\", \"ticks\": \"\", \"title\": {\"standoff\": 15}, \"zerolinecolor\": \"white\", \"zerolinewidth\": 2}}}, \"title\": {\"text\": \"LOO Scoring\"}, \"width\": 500},\n",
       "                        {\"responsive\": true}\n",
       "                    ).then(function(){\n",
       "                            \n",
       "var gd = document.getElementById('4155d9df-a218-4c77-89ea-9a490a52857f');\n",
       "var x = new MutationObserver(function (mutations, observer) {{\n",
       "        var display = window.getComputedStyle(gd).display;\n",
       "        if (!display || display === 'none') {{\n",
       "            console.log([gd, 'removed!']);\n",
       "            Plotly.purge(gd);\n",
       "            observer.disconnect();\n",
       "        }}\n",
       "}});\n",
       "\n",
       "// Listen for the removal of the full notebook cells\n",
       "var notebookContainer = gd.closest('#notebook-container');\n",
       "if (notebookContainer) {{\n",
       "    x.observe(notebookContainer, {childList: true});\n",
       "}}\n",
       "\n",
       "// Listen for the clearing of the current output cell\n",
       "var outputEl = gd.closest('.output');\n",
       "if (outputEl) {{\n",
       "    x.observe(outputEl, {childList: true});\n",
       "}}\n",
       "\n",
       "                        })\n",
       "                };\n",
       "                });\n",
       "            </script>\n",
       "        </div>"
      ]
     },
     "metadata": {},
     "output_type": "display_data"
    }
   ],
   "source": [
    "import plotly.graph_objects as go\n",
    "\n",
    "\n",
    "fullscores2d = np.array(fullscores2d)\n",
    "\n",
    "fig = go.Figure(data=[go.Surface(z=fullscores2d, x=np.linspace(1.0, 0.01, 10), y=np.array(range(2, 8)))])\n",
    "\n",
    "fig.update_layout(title='LOO Scoring', autosize=False,\n",
    "                  width=500, height=500,\n",
    "                  margin=dict(l=65, r=50, b=65, t=90))\n",
    "\n",
    "fig.show()"
   ]
  },
  {
   "cell_type": "code",
   "execution_count": 12,
   "metadata": {},
   "outputs": [],
   "source": [
    "model = KNeighborsRegressor(n_neighbors=5, weights='distance')\n",
    "model.fit(X, Y)\n",
    "\n",
    "modelp = KNeighborsRegressor(n_neighbors=5, weights='distance')\n",
    "modelp.fit(Xp, Yp)\n",
    "\n",
    "ndf['predict'] = (model.predict(X))#, random_state=0)\n",
    "stations = ndf[ndf.label == 'stations']\n",
    "\n",
    "rmse = np.sqrt(mean_squared_error(\n",
    "    ndf[ndf.label == 'stations']['RL50 (kPa)'], \n",
    "    stations['predict']\n",
    ")\n",
    ")\n",
    "\n",
    "rmse_mean_sample = np.sqrt(mean_squared_error(\n",
    "    ndf['RL50 (kPa)'], \n",
    "    ndf['predict']\n",
    ")\n",
    ")\n",
    "\n",
    "sx, sy = ndf['rlon_nearest_index'].values, ndf['rlat_nearest_index'].values\n",
    "\n",
    "mean_values_at_real_stations = find_nearest_index_value(ds.rlon.values, ds.rlat.values, sx, sy, ens_mean, final_mask, ds)\n",
    "\n",
    "rmse_mean_and_stations = np.sqrt(mean_squared_error(\n",
    "#         ndf[ndf.label == 'stations']['RL50 (kPa)'], \n",
    "    ndf['RL50 (kPa)'],   \n",
    "    mean_values_at_real_stations\n",
    ")\n",
    ")\n",
    "\n",
    "dc = ds[dv].values[0, ...].flatten().copy()\n",
    "d_gridx = np.moveaxis(ds[dv].values, 0, -1)#[..., important_features]\n",
    "d_gridx = np.dstack((d_gridx, rlon))\n",
    "d_gridx = np.dstack((d_gridx, rlat))\n",
    "dc[final_mask.flatten()] = (model.predict((d_gridx[final_mask])))#*ens_mean[final_mask]\n",
    "\n",
    "dcp= dc.copy()\n",
    "dcp[final_mask.flatten()] = (modelp.predict((d_gridx[final_mask])))\n",
    "\n",
    "dc[~final_mask.flatten()] = np.nan\n",
    "dcp[~final_mask.flatten()] = np.nan\n",
    "# final_pseudo = dc.reshape(d_gridx[..., 0].shape)\n",
    "# final.append(dc.reshape(d_gridx[..., 0].shape))\n",
    "final = dc.reshape(d_gridx[..., 0].shape)\n",
    "finalp = dcp.reshape(d_gridx[..., 0].shape)"
   ]
  },
  {
   "cell_type": "code",
   "execution_count": 13,
   "metadata": {},
   "outputs": [],
   "source": [
    "# final = np.mean(np.array(final), axis=0)\n",
    "# Let's try and assign some soft max probabilities...\n",
    "from sklearn.metrics.pairwise import paired_distances\n",
    "from scipy.spatial import distance\n",
    "a = np.array([rlon[final_mask], rlat[final_mask]]).T\n",
    "a1 = np.array([ndf['rlon'].values, ndf['rlat'].values]).T\n",
    "\n",
    "d = model.kneighbors_graph(d_gridx[final_mask], mode='distance').toarray()"
   ]
  },
  {
   "cell_type": "code",
   "execution_count": 100,
   "metadata": {},
   "outputs": [
    {
     "data": {
      "text/plain": [
       "<matplotlib.image.AxesImage at 0x7f95bf8bb9e8>"
      ]
     },
     "execution_count": 100,
     "metadata": {},
     "output_type": "execute_result"
    },
    {
     "data": {
      "image/png": "[encoded data removed]",
      "text/plain": [
       "<Figure size 432x288 with 1 Axes>"
      ]
     },
     "metadata": {
      "needs_background": "light"
     },
     "output_type": "display_data"
    }
   ],
   "source": [
    "denom = np.exp(-1.0*np.sum(np.sort(d, axis=1)[:, :2], axis=1))\n",
    "num = np.exp(-1.0*np.sort(distance.cdist(a, a1), axis=1)[:, 0])\n",
    "\n",
    "p = num/denom\n",
    "pwhole = ds[dv].values[0, ...]\n",
    "pwhole[final_mask] = p\n",
    "pwhole[~final_mask] = np.nan\n",
    "pwhole = pwhole.reshape(ens_mean.shape)\n",
    "plt.imshow(pwhole, origin='lower')"
   ]
  },
  {
   "cell_type": "code",
   "execution_count": 101,
   "metadata": {},
   "outputs": [
    {
     "data": {
      "text/plain": [
       "(array([-13.04154066]), array([3.6852972]))"
      ]
     },
     "execution_count": 101,
     "metadata": {},
     "output_type": "execute_result"
    }
   ],
   "source": [
    "ens_mean = ds[dv].values.mean(axis=0)\n",
    "\n",
    "i,j = np.array([49.481803]), np.array([-117.280288])\n",
    "transform_coords(j, i)"
   ]
  },
  {
   "cell_type": "code",
   "execution_count": 103,
   "metadata": {},
   "outputs": [
    {
     "name": "stderr",
     "output_type": "stream",
     "text": [
      "No handles with labels found to put in legend.\n"
     ]
    },
    {
     "data": {
      "image/png": "[encoded data removed]",
      "text/plain": [
       "<Figure size 1080x1080 with 2 Axes>"
      ]
     },
     "metadata": {
      "needs_background": "light"
     },
     "output_type": "display_data"
    }
   ],
   "source": [
    "plt.figure(figsize=(15, 15))\n",
    "# sns.scatterplot('rlon', 'rlat',  marker='o', data=ndf[ndf.label=='pseudo'], label='pseudo stations')\n",
    "# sns.scatterplot('rlon', 'rlat',  marker='o', data=ndf[ndf.label=='stations'], label='real stations')\n",
    "\n",
    "plt.imshow(\n",
    "    pwhole, \n",
    "    cmap='RdBu', \n",
    "    origin='lower', \n",
    "    extent=[\n",
    "            ds.rlon.values.min(),\n",
    "            ds.rlon.values.max(),\n",
    "            ds.rlat.values.min(),\n",
    "            ds.rlat.values.max()\n",
    "        ],\n",
    "    label='distance weighting'\n",
    ")\n",
    "plt.ylim(df.rlat.values.min()-2,df.rlat.values.max()+1)\n",
    "plt.xlim(df.rlon.values.min()-2, df.rlon.values.max()+2)\n",
    "plt.title(\"Softmax Probability of Correct \\\"Prediction\\\"\")\n",
    "plt.colorbar()\n",
    "plt.legend()\n",
    "plt.savefig(\"softmax\")\n",
    "plt.show()\n",
    "\n",
    "from paramiko import SSHClient\n",
    "from scp import SCPClient\n",
    "\n",
    "ssh = SSHClient()\n",
    "ssh.load_system_host_keys()\n",
    "ssh.connect('lynx.compute.pcic.uvic.ca')\n",
    "\n",
    "with SCPClient(ssh.get_transport()) as scp:\n",
    "    scp.put('./softmax.png', '/storage/home/nannau/public_html')"
   ]
  },
  {
   "cell_type": "markdown",
   "metadata": {},
   "source": [
    "## Regression Score"
   ]
  },
  {
   "cell_type": "code",
   "execution_count": 17,
   "metadata": {},
   "outputs": [
    {
     "name": "stdout",
     "output_type": "stream",
     "text": [
      "Model R2 score: 1.0\n",
      "Model RMSE: 0.0\n",
      "Mean RMSE: 0.0\n"
     ]
    }
   ],
   "source": [
    "print(\"Model R2 score:\", model.score(X, Y))\n",
    "\n",
    "# rmse = np.sqrt(mean_squared_error(Y, model.predict(X)))\n",
    "print(\"Model RMSE:\", rmse)\n",
    "\n",
    "# rmse_mean = np.sqrt(mean_squared_error(ndf['RL50 (kPa)'].values, mean_values))\n",
    "print(\"Mean RMSE:\", rmse_mean_sample)"
   ]
  },
  {
   "cell_type": "markdown",
   "metadata": {},
   "source": [
    "## Reconstruct the entire field"
   ]
  },
  {
   "cell_type": "code",
   "execution_count": 18,
   "metadata": {},
   "outputs": [],
   "source": [
    "# dc[~final_mask.flatten()] = np.nan\n",
    "# dcp[~final_mask.flatten()] = np.nan\n",
    "# # final_pseudo = dc.reshape(d_gridx[..., 0].shape)\n",
    "# final = dc.reshape(d_gridx[..., 0].shape)\n",
    "# finalp = dcp.reshape(d_gridx[..., 0].shape)\n",
    "# #\n",
    "# fff = final_mask\n",
    "# dcb = dc.copy()\n",
    "# dcb[final_mask.flatten()] = model.predict(d_gridx[final_mask]) <= 0.0\n",
    "\n",
    "# dcb = dcb.reshape(final_mask.shape)\n",
    "\n",
    "# assert np.allclose(dcb[final_mask], 0.0)"
   ]
  },
  {
   "cell_type": "markdown",
   "metadata": {},
   "source": [
    "## Plot the final reconstructed field"
   ]
  },
  {
   "cell_type": "markdown",
   "metadata": {},
   "source": [
    "## Change the colors to highlight contours"
   ]
  },
  {
   "cell_type": "code",
   "execution_count": 19,
   "metadata": {},
   "outputs": [],
   "source": [
    "ens_mean_with_nan = ens_mean.copy()\n",
    "ens_mean_with_nan[~final_mask] = np.nan\n",
    "ens_mean_with_nan = ens_mean_with_nan.reshape(ens_mean.shape)"
   ]
  },
  {
   "cell_type": "markdown",
   "metadata": {},
   "source": [
    "## Plot final interpolated field"
   ]
  },
  {
   "cell_type": "code",
   "execution_count": 20,
   "metadata": {},
   "outputs": [],
   "source": [
    "import matplotlib\n",
    "from matplotlib import cm\n",
    "import numpy as np\n",
    "\n",
    "magma_cmap = matplotlib.cm.get_cmap('RdBu', 25)\n",
    "norm = matplotlib.colors.Normalize(vmin=0, vmax=255)\n",
    "\n",
    "magma_rgb = []\n",
    "\n",
    "for i in range(0, 255):\n",
    "    k = matplotlib.colors.colorConverter.to_rgb(magma_cmap(norm(i)))\n",
    "    magma_rgb.append(k)\n",
    "\n",
    "def matplotlib_to_plotly(cmap, pl_entries):\n",
    "    h = 1.0/(pl_entries-1)\n",
    "    pl_colorscale = []\n",
    "\n",
    "    for k in range(pl_entries):\n",
    "        C = list(map(np.uint8, np.array(cmap(k*h)[:3])*255))\n",
    "        pl_colorscale.append([k*h, 'rgb'+str((C[0], C[1], C[2]))])\n",
    "\n",
    "    return pl_colorscale\n",
    "\n",
    "magma = matplotlib_to_plotly(magma_cmap, 26)\n",
    "new_magma = []\n",
    "for i, color in enumerate(magma):\n",
    "    if i < len(magma)-1:\n",
    "        new_magma.append(color)\n",
    "        new_magma.append(magma[i+1])\n",
    "\n",
    "nmcopy = []        \n",
    "for i in range(len(new_magma)):\n",
    "    if i < len(new_magma)-1:\n",
    "        nmcopy.append([new_magma[i][0], new_magma[i+1][1]])\n",
    "\n",
    "nmcopy.append(magma[len(magma)-1])"
   ]
  },
  {
   "cell_type": "code",
   "execution_count": 21,
   "metadata": {},
   "outputs": [
    {
     "ename": "NameError",
     "evalue": "name 'df_non_stations' is not defined",
     "output_type": "error",
     "traceback": [
      "\u001b[0;31m---------------------------------------------------------------------------\u001b[0m",
      "\u001b[0;31mNameError\u001b[0m                                 Traceback (most recent call last)",
      "\u001b[0;32m<ipython-input-21-ff4bc6962814>\u001b[0m in \u001b[0;36m<module>\u001b[0;34m\u001b[0m\n\u001b[1;32m      1\u001b[0m \u001b[0mfind_element_wise_nearest_pos\u001b[0m\u001b[0;34m\u001b[0m\u001b[0;34m\u001b[0m\u001b[0m\n\u001b[0;32m----> 2\u001b[0;31m \u001b[0mix\u001b[0m\u001b[0;34m,\u001b[0m \u001b[0miy\u001b[0m \u001b[0;34m=\u001b[0m \u001b[0mfind_element_wise_nearest_pos\u001b[0m\u001b[0;34m(\u001b[0m\u001b[0mds\u001b[0m\u001b[0;34m.\u001b[0m\u001b[0mrlon\u001b[0m\u001b[0;34m.\u001b[0m\u001b[0mvalues\u001b[0m\u001b[0;34m,\u001b[0m \u001b[0mds\u001b[0m\u001b[0;34m.\u001b[0m\u001b[0mrlat\u001b[0m\u001b[0;34m.\u001b[0m\u001b[0mvalues\u001b[0m\u001b[0;34m,\u001b[0m \u001b[0mdf_non_stations\u001b[0m\u001b[0;34m.\u001b[0m\u001b[0mrlon\u001b[0m\u001b[0;34m.\u001b[0m\u001b[0mvalues\u001b[0m\u001b[0;34m,\u001b[0m \u001b[0mdf_non_stations\u001b[0m\u001b[0;34m.\u001b[0m\u001b[0mrlat\u001b[0m\u001b[0;34m.\u001b[0m\u001b[0mvalues\u001b[0m\u001b[0;34m)\u001b[0m\u001b[0;34m\u001b[0m\u001b[0;34m\u001b[0m\u001b[0m\n\u001b[0m\u001b[1;32m      3\u001b[0m \u001b[0mdf_non_stations\u001b[0m\u001b[0;34m[\u001b[0m\u001b[0;34m\"Reconstruction\"\u001b[0m\u001b[0;34m]\u001b[0m \u001b[0;34m=\u001b[0m \u001b[0mfind_nearest_index_value\u001b[0m\u001b[0;34m(\u001b[0m\u001b[0mds\u001b[0m\u001b[0;34m.\u001b[0m\u001b[0mrlon\u001b[0m\u001b[0;34m.\u001b[0m\u001b[0mvalues\u001b[0m\u001b[0;34m,\u001b[0m \u001b[0mds\u001b[0m\u001b[0;34m.\u001b[0m\u001b[0mrlat\u001b[0m\u001b[0;34m.\u001b[0m\u001b[0mvalues\u001b[0m\u001b[0;34m,\u001b[0m \u001b[0mix\u001b[0m\u001b[0;34m,\u001b[0m \u001b[0miy\u001b[0m\u001b[0;34m,\u001b[0m \u001b[0mfinal\u001b[0m\u001b[0;34m,\u001b[0m \u001b[0mfinal_mask\u001b[0m\u001b[0;34m,\u001b[0m \u001b[0mds\u001b[0m\u001b[0;34m)\u001b[0m\u001b[0;34m\u001b[0m\u001b[0;34m\u001b[0m\u001b[0m\n\u001b[1;32m      4\u001b[0m \u001b[0mnon_stations_rmse_mean_reconstruction\u001b[0m \u001b[0;34m=\u001b[0m \u001b[0mmean_squared_error\u001b[0m\u001b[0;34m(\u001b[0m\u001b[0mdf_non_stations\u001b[0m\u001b[0;34m[\u001b[0m\u001b[0;34m\"mean\"\u001b[0m\u001b[0;34m]\u001b[0m\u001b[0;34m,\u001b[0m \u001b[0mdf_non_stations\u001b[0m\u001b[0;34m[\u001b[0m\u001b[0;34m\"Reconstruction\"\u001b[0m\u001b[0;34m]\u001b[0m\u001b[0;34m)\u001b[0m\u001b[0;34m\u001b[0m\u001b[0;34m\u001b[0m\u001b[0m\n",
      "\u001b[0;31mNameError\u001b[0m: name 'df_non_stations' is not defined"
     ]
    }
   ],
   "source": [
    "find_element_wise_nearest_pos\n",
    "ix, iy = find_element_wise_nearest_pos(ds.rlon.values, ds.rlat.values, df_non_stations.rlon.values, df_non_stations.rlat.values)\n",
    "df_non_stations[\"Reconstruction\"] = find_nearest_index_value(ds.rlon.values, ds.rlat.values, ix, iy, final, final_mask, ds)\n",
    "non_stations_rmse_mean_reconstruction = mean_squared_error(df_non_stations[\"mean\"], df_non_stations[\"Reconstruction\"])"
   ]
  },
  {
   "cell_type": "code",
   "execution_count": 68,
   "metadata": {},
   "outputs": [
    {
     "data": {
      "text/plain": [
       "'algo_rl50_fit_slope.html'"
      ]
     },
     "execution_count": 68,
     "metadata": {},
     "output_type": "execute_result"
    }
   ],
   "source": [
    "import plotly.graph_objects as go\n",
    "import plotly\n",
    "from plotly.subplots import make_subplots\n",
    "import chart_studio.plotly as py\n",
    "from plotly import colors as clr\n",
    "import chart_studio\n",
    "chart_studio.tools.set_config_file(world_readable=False,\n",
    "                             sharing='private')\n",
    "\n",
    "\n",
    "fig = make_subplots(rows=4, cols=2, \n",
    "            subplot_titles=(\"Reconstruction With Pseudo\",\n",
    "                            'Reconstruction No Pseudo', \n",
    "                            \"Mean\", \n",
    "                            'RMSE Summary', \n",
    "                            '(Reconstruction - Mean) with Pseudo Residuals', \n",
    "                            '(Station - Mean) with Pseudo Residuals', \n",
    "                            '(Reconstruction - Mean) w/o Pseudo Residuals', \n",
    "                            '(Station - Mean) w/o Pseudo Residuals'), \n",
    "            specs=[[{\"type\": \"scatter\"},\n",
    "               {\"type\": \"scatter\"}],\n",
    "               [{\"type\": \"scatter\"},\n",
    "               {\"type\": \"table\"}],\n",
    "               [{\"type\": \"scatter\"},\n",
    "               {\"type\": \"scatter\"}],\n",
    "               [{\"type\": \"scatter\"},\n",
    "               {\"type\": \"scatter\"}]])\n",
    "\n",
    "fig.add_trace(\n",
    "    go.Heatmap(\n",
    "        z=final,\n",
    "        x=ds.rlon.values,\n",
    "        y=ds.rlat.values,\n",
    "        hoverongaps = False,\n",
    "        colorscale=nmcopy,\n",
    "        showscale=True,\n",
    "        hovertemplate =\n",
    "        \"<b>Reconstructed Value: %{z} </b><br>\" +\n",
    "        \"rlon: %{x}<br>\" +\n",
    "        \"rlat: %{y}<br>\" ,\n",
    "        name=\"Reconstruction\", \n",
    "        colorbar=dict(title=dv, len=.5, x=-0.2, y=.75),\n",
    "        \n",
    "    ),\n",
    "    row=1, col=1\n",
    ")\n",
    "\n",
    "fig.add_trace(\n",
    "    go.Heatmap(\n",
    "        z=finalp,\n",
    "        x=ds.rlon.values,\n",
    "        y=ds.rlat.values,\n",
    "        hoverongaps = False,\n",
    "        colorscale=nmcopy,\n",
    "        showscale=False,\n",
    "        hovertemplate =\n",
    "        \"<b>Reconstructed Value: %{z} </b><br>\" +\n",
    "        \"rlon: %{x}<br>\" +\n",
    "        \"rlat: %{y}<br>\" ,\n",
    "        name=\"Reconstruction\", \n",
    "        \n",
    "    ),\n",
    "    row=1, col=2\n",
    ")\n",
    "\n",
    "fig.add_trace(\n",
    "    go.Heatmap(\n",
    "            z=ens_mean_with_nan,\n",
    "            x=ds.rlon.values,\n",
    "            y=ds.rlat.values,\n",
    "            hoverongaps = False,\n",
    "            colorscale=nmcopy,\n",
    "            showscale=False,\n",
    "            hovertemplate =\n",
    "            \"<b>Mean: %{z} </b><br>\" +\n",
    "            \"rlon: %{x}<br>\" +\n",
    "            \"rlat: %{y}<br>\" ,\n",
    "            name=\"Mean\",\n",
    "        ),\n",
    "    row=2, col=1\n",
    ")\n",
    "\n",
    "fig.add_trace(\n",
    "    go.Heatmap(\n",
    "            z=final-ens_mean_with_nan,\n",
    "            x=ds.rlon.values,\n",
    "            y=ds.rlat.values,\n",
    "            zmin=-0.2,\n",
    "            zmax=0.2,\n",
    "            hoverongaps = False,\n",
    "            colorscale=\"RdBu\",\n",
    "            showscale=False,       \n",
    "            hovertemplate =\n",
    "            \"<b>Residual: %{z} </b><br>\" +\n",
    "            \"rlon: %{x}<br>\" +\n",
    "            \"rlat: %{y}<br>\" ,\n",
    "            name=\"Residual\",\n",
    "        ),\n",
    "    row=3, col=1\n",
    ")\n",
    "\n",
    "fig.add_trace(\n",
    "    go.Heatmap(\n",
    "            z=finalp-ens_mean_with_nan,\n",
    "            x=ds.rlon.values,\n",
    "            y=ds.rlat.values,\n",
    "            zmin=-0.2,\n",
    "            zmax=0.2,\n",
    "            hoverongaps = False,\n",
    "            colorscale=\"RdBu\",\n",
    "            showscale=True,\n",
    "            colorbar=dict(title=\"Residual\", len=0.45, x=-0.2, y=0.21),        \n",
    "            hovertemplate =\n",
    "            \"<b>Residual: %{z} </b><br>\" +\n",
    "            \"rlon: %{x}<br>\" +\n",
    "            \"rlat: %{y}<br>\" ,\n",
    "            name=\"Residual\",\n",
    "        ),\n",
    "    row=4, col=1\n",
    ")\n",
    "\n",
    "# fig.add_scatter(\n",
    "#         x=ndf_p.rlon.values, \n",
    "#         y=ndf_p.rlat.values,\n",
    "#         mode='markers',\n",
    "#         marker=dict(\n",
    "#             color=ndf_p['RL50 (kPa)'].values, \n",
    "#             colorscale=nmcopy,\n",
    "#             line=dict(width=0.35, color='DarkSlateGrey'),\n",
    "#             showscale=False,\n",
    "#         ),\n",
    "#         text = list(zip(ndf_p['RL50 (kPa)'].values, ndf_p.label.values)),\n",
    "#         hoverinfo = 'text',\n",
    "#         hovertemplate =\n",
    "#         \"<b>Station Value: %{text} </b><br>\" +\n",
    "#         \"rlon: %{x}<br>\" +\n",
    "#         \"rlat: %{y}<br>\",\n",
    "#     name=\"Stations on Reconstruction\",\n",
    "#     row=1,\n",
    "#     col=1   \n",
    "# )\n",
    "\n",
    "# fig.add_scatter(\n",
    "#         x=ndf[ndf.label=='model'].rlon.values, \n",
    "#         y=ndf[ndf.label=='model'].rlat.values,\n",
    "#         mode='markers',\n",
    "#         marker=dict(\n",
    "#             color=ndf[ndf.label=='model']['RL50 (kPa)'].values, \n",
    "#             colorscale=nmcopy,\n",
    "#             line=dict(width=0.35, color='DarkSlateGrey'),\n",
    "#             showscale=True,\n",
    "#         ),\n",
    "#         text = ndf[ndf.label=='model']['RL50 (kPa)'].values,\n",
    "#         hoverinfo = 'text',\n",
    "#         hovertemplate =\n",
    "#             \"<b>Pseudo Station Value: %{text} </b><br>\" +\n",
    "#             \"rlon: %{x}<br>\" +\n",
    "#             \"rlat: %{y}<br>\",\n",
    "#     name=\"Pseudo Stations on Reconstruction\",\n",
    "#     row=1,\n",
    "#     col=1   \n",
    "# )\n",
    "\n",
    "fig.add_scatter(\n",
    "        x=ndf[ndf.label=='stations'].rlon.values, \n",
    "        y=ndf[ndf.label=='stations'].rlat.values,\n",
    "        mode='markers',\n",
    "        marker=dict(\n",
    "            symbol='x',\n",
    "            color=ndf[ndf.label=='stations']['RL50 (kPa)'].values, \n",
    "            colorscale=nmcopy,\n",
    "            colorbar=dict(\n",
    "                title=dv, \n",
    "                len=.65, \n",
    "                x=-0.15, \n",
    "                y=.7\n",
    "            ),\n",
    "            line=dict(width=0.35, color='DarkSlateGrey'),\n",
    "            showscale=False,\n",
    "        ),\n",
    "        text = ndf[ndf.label=='stations']['RL50 (kPa)'].values,\n",
    "        hoverinfo = 'text',\n",
    "        hovertemplate =\n",
    "            \"<b>Station Value: %{text} </b><br>\" +\n",
    "            \"rlon: %{x}<br>\" +\n",
    "            \"rlat: %{y}<br>\",\n",
    "    name=\" Stations on Reconstruction\",\n",
    "    row=1,\n",
    "    col=1   \n",
    ")\n",
    "\n",
    "fig.add_scatter(\n",
    "        x=ndf[ndf.label=='stations'].rlon.values, \n",
    "        y=ndf[ndf.label=='stations'].rlat.values,\n",
    "        mode='markers',\n",
    "        marker=dict(\n",
    "            symbol='x',\n",
    "            color=ndf[ndf.label=='stations']['RL50 (kPa)'].values, \n",
    "            colorscale=nmcopy,\n",
    "            colorbar=dict(\n",
    "                title=dv, \n",
    "                len=.65, \n",
    "                x=-0.15, \n",
    "                y=.7\n",
    "            ),\n",
    "            line=dict(width=0.35, color='DarkSlateGrey'),\n",
    "            showscale=False,\n",
    "        ),\n",
    "        text = ndf[ndf.label=='stations']['RL50 (kPa)'].values,\n",
    "        hoverinfo = 'text',\n",
    "        hovertemplate =\n",
    "            \"<b>Station Value: %{text} </b><br>\" +\n",
    "            \"rlon: %{x}<br>\" +\n",
    "            \"rlat: %{y}<br>\",\n",
    "    name=\" Stations on Non Pseudo Station Reconstruction\",\n",
    "    row=1,\n",
    "    col=2   \n",
    ")\n",
    "\n",
    "fig.add_scatter(\n",
    "        x=ndf[ndf.label=='pseudo'].rlon.values, \n",
    "        y=ndf[ndf.label=='pseudo'].rlat.values,\n",
    "        mode='markers',\n",
    "        marker=dict(\n",
    "            color=ndf[ndf.label=='pseudo']['RL50 (kPa)'].values,\n",
    "            colorscale=nmcopy,\n",
    "            cmin=ndf[ndf.label=='stations']['RL50 (kPa)'].values.min(),\n",
    "            cmax=ndf[ndf.label=='stations']['RL50 (kPa)'].values.max(),\n",
    "            colorbar=dict(\n",
    "                title=dv, \n",
    "                len=.65, \n",
    "                x=-0.15, \n",
    "                y=.7\n",
    "            ),\n",
    "            line=dict(width=0.35, color='DarkSlateGrey'),\n",
    "            showscale=False,\n",
    "        ),\n",
    "        text = ndf[ndf.label=='pseudo']['RL50 (kPa)'].values,\n",
    "        hoverinfo = 'text',\n",
    "        hovertemplate =\n",
    "            \"<b>Station Value: %{text} </b><br>\" +\n",
    "            \"rlon: %{x}<br>\" +\n",
    "            \"rlat: %{y}<br>\",\n",
    "    name=\"Pseudo Stations on Reconstruction\",\n",
    "    row=1,\n",
    "    col=1   \n",
    ")\n",
    "\n",
    "fig.add_trace(\n",
    "    go.Scatter(\n",
    "        x=ndf.rlon.values, \n",
    "        y=ndf.rlat.values,\n",
    "        mode='markers',\n",
    "        marker=dict(\n",
    "            color=ndf['RL50 (kPa)'], \n",
    "            colorscale=nmcopy,\n",
    "            line=dict(\n",
    "            width=0.35,\n",
    "            color='DarkSlateGrey'),\n",
    "            showscale=False,\n",
    "        ),\n",
    "        text = ndf['RL50 (kPa)'].values,\n",
    "        hoverinfo = 'text',\n",
    "        hovertemplate =\n",
    "                \"<b>Station Value: %{text} </b><br>\" +\n",
    "                \"rlon: %{x}<br>\" +\n",
    "                \"rlat: %{y}<br>\",\n",
    "    name=\"Stations on Mean\"\n",
    "    ),\n",
    "    row=2,col=1\n",
    ")\n",
    "\n",
    "fig.add_trace(\n",
    "    go.Scatter(\n",
    "        x=ndf.rlon.values, \n",
    "        y=ndf.rlat.values,\n",
    "        mode='markers',\n",
    "        marker=dict(\n",
    "            color=ndf['RL50 (kPa)']-mean_values_at_real_stations, \n",
    "            colorscale=nmcopy,\n",
    "            size=10,\n",
    "            line=dict(width=0.,\n",
    "            color='DarkSlateGrey'),\n",
    "            showscale=False,\n",
    "            cmin=-0.2,\n",
    "            cmax=0.2\n",
    "        ),\n",
    "        showlegend=False,\n",
    "        text = ndf['RL50 (kPa)']-mean_values_at_real_stations,\n",
    "        hoverinfo = 'text',\n",
    "        hovertemplate =\n",
    "                \"<b>Residual: %{text} </b><br>\" +\n",
    "                \"rlon: %{x}<br>\" +\n",
    "                \"rlat: %{y}<br>\",\n",
    "    ),\n",
    "    row=3,col=2\n",
    ")\n",
    "\n",
    "fig.add_trace(\n",
    "    go.Scatter(\n",
    "        x=ndf[ndf.label=='stations'].rlon.values, \n",
    "        y=ndf[ndf.label=='stations'].rlat.values,\n",
    "        mode='markers',\n",
    "        marker=dict(\n",
    "            color=ndf[ndf.label=='stations']['RL50 (kPa)']-ndf[ndf.label=='stations']['mean_values_at_real_stations'], \n",
    "            colorscale=nmcopy,\n",
    "            size=10,\n",
    "            line=dict(width=0.,\n",
    "            color='DarkSlateGrey'),\n",
    "            showscale=False,\n",
    "            cmin=-0.2,\n",
    "            cmax=0.2\n",
    "        ),\n",
    "        showlegend=False,\n",
    "        text = ndf[ndf.label=='stations']['RL50 (kPa)']-ndf[ndf.label=='stations']['mean_values_at_real_stations'],\n",
    "        hoverinfo = 'text',\n",
    "        hovertemplate =\n",
    "                \"<b>Residual: %{text} </b><br>\" +\n",
    "                \"rlon: %{x}<br>\" +\n",
    "                \"rlat: %{y}<br>\",\n",
    "    ),\n",
    "    row=4,col=2\n",
    ")\n",
    "\n",
    "# fig.add_trace(\n",
    "#     go.Scatter(\n",
    "#         x=ndf['RL50 (kPa)'].values, \n",
    "#         y=(model.predict(X))**2,\n",
    "#         mode='markers',\n",
    "#         marker=dict(symbol='circle-open-dot', size=10,\n",
    "#                     color=\"blue\",\n",
    "#                    line=dict(width=1.5,\n",
    "#             color='DarkSlateGrey')),\n",
    "#         name=\"Stations and Reconstruction\"\n",
    "#     ),\n",
    "#     row=1,\n",
    "#     col=2,\n",
    "\n",
    "# )\n",
    "\n",
    "# fig.add_trace(\n",
    "#     go.Scatter(\n",
    "#         x=ndf['RL50 (kPa)'].values, \n",
    "#         y=mean_values_at_real_stations,\n",
    "#         mode='markers',\n",
    "#         marker=dict(symbol='circle', size=10,\n",
    "#                     color=\"red\",\n",
    "#                    line=dict(width=1.5,\n",
    "#             color='DarkSlateGrey')),\n",
    "#         name=\"Stations and Mean\"\n",
    "#     ),\n",
    "#     row=1,\n",
    "#     col=2,\n",
    "\n",
    "# )\n",
    "\n",
    "# fig.add_trace(\n",
    "#     go.Scatter(\n",
    "#         x=Y.flatten()**2, \n",
    "#         y=Y.flatten()**2, \n",
    "#         name='m = 1',                     \n",
    "#         line=dict(color='black', width=4, dash='dash'),\n",
    "        \n",
    "#     ),\n",
    "#     row=1, \n",
    "#     col=2\n",
    "# )\n",
    "\n",
    "fig.add_trace(\n",
    "    go.Table(\n",
    "        header=dict(\n",
    "            values=[\n",
    "                [\"<b>RMSE</b>\", \n",
    "                \"Stations and Corresponding Mean\",\n",
    "                \"Stations and Corresponding Reconstruction\", \n",
    "                \"Non-Station<br>Mean and Reconstruction\",\n",
    "                \"<b>Extremes</b>\",\n",
    "                \"Min Residual Mean and Reconstruction (kPa)\",\n",
    "                \"Max Residual Mean and Reconstruction (kPa)\",\n",
    "                \"<b>Other</b>\",\n",
    "                \"# of Real Stations\",\n",
    "                \"# of Pseudo Stations\"],\n",
    "                [\"\",\n",
    "                 rmse_mean_and_stations, \n",
    "                 rmse, \n",
    "                 non_stations_rmse_mean_reconstruction,\n",
    "                 \"\",\n",
    "                 np.nanmin(final-ens_mean_with_nan),\n",
    "                 np.nanmax(final-ens_mean_with_nan),\n",
    "                 \"\",\n",
    "                 ndf[ndf['label']==\"stations\"].shape[0],\n",
    "                 ndf[ndf['label']==\"pseudo\"].shape[0]]\n",
    "            ],\n",
    "            fill=dict(color=['black', 'white']),\n",
    "            font=dict(color=['white', 'black'], size=16),\n",
    "            align=\"left\"\n",
    "        ),\n",
    "        ),\n",
    "    row=2, col=2\n",
    ")\n",
    "\n",
    "fig.update_yaxes(title=\"rlat\", range=[ndf.rlat.values.min()-2, ndf.rlat.values.max()+2], row=1, col=1)\n",
    "fig.update_yaxes(title=\"rlat\", range=[ndf.rlat.values.min()-2, ndf.rlat.values.max()+2], row=2, col=1)\n",
    "fig.update_yaxes(title=\"rlat\", range=[ndf.rlat.values.min()-2, ndf.rlat.values.max()+2], row=3, col=1)\n",
    "fig.update_yaxes(title=\"rlat\", range=[ndf.rlat.values.min()-2, ndf.rlat.values.max()+2], row=4, col=1)\n",
    "fig.update_yaxes(title=\"rlat\", range=[ndf.rlat.values.min()-2, ndf.rlat.values.max()+2], row=1, col=2)\n",
    "\n",
    "\n",
    "# fig.update_yaxes(title=\"Reconstruction\", range=[(Y.flatten()**2).min()-0.2, (Y.flatten()**2).max()+0.2], row=1, col=2)\n",
    "# fig.update_yaxes(title=\"Reconstruction\", range=[(Y.flatten()**2).min()-0.2, (Y.flatten()**2).max()+0.2], row=2, col=2)\n",
    "\n",
    "fig.update_xaxes(title=\"rlon\", range=[ndf.rlon.values.min()-2, ndf.rlon.values.max()+2], row=1, col=1)\n",
    "fig.update_xaxes(title=\"rlon\", range=[ndf.rlon.values.min()-2, ndf.rlon.values.max()+2], row=2, col=1)\n",
    "fig.update_xaxes(title=\"rlon\", range=[ndf.rlon.values.min()-2, ndf.rlon.values.max()+2], row=3, col=1)\n",
    "fig.update_xaxes(title=\"rlon\", range=[ndf.rlon.values.min()-2, ndf.rlon.values.max()+2], row=4, col=1)\n",
    "fig.update_xaxes(title=\"rlon\", range=[ndf.rlon.values.min()-2, ndf.rlon.values.max()+2], row=1, col=2)\n",
    "\n",
    "# fig.update_xaxes(title=\"Stations\", range=[(model.predict(X)**2).min()-0.2, (model.predict(X)**2).max()+0.2], row=1, col=2)\n",
    "fig.update_xaxes(title=\"Stations\", range=[(model.predict(X)**2).min()-0.2, (model.predict(X)**2).max()+0.2], row=2, col=2)\n",
    "\n",
    "fig.update_layout(\n",
    "    title=\"<b>National Building Code K Nearest Neighbour Regression Results</b> Nic Annau, PCIC\",\n",
    "    font=dict(size=24),\n",
    "    margin=dict(b=30),\n",
    "    width=1800, \n",
    "    height=2830,\n",
    "    showlegend=True,\n",
    "    legend_orientation=\"v\",\n",
    ")\n",
    "\n",
    "plotly.offline.plot(fig, filename='algo_rl50_fit_slope.html')\n",
    "# py.plot(fig, filename = 'algo_rl50_fit_slope.html', auto_open=True)\n",
    "\n",
    "# fig.show()"
   ]
  },
  {
   "cell_type": "code",
   "execution_count": 182,
   "metadata": {},
   "outputs": [],
   "source": [
    "from paramiko import SSHClient\n",
    "from scp import SCPClient\n",
    "\n",
    "ssh = SSHClient()\n",
    "ssh.load_system_host_keys()\n",
    "ssh.connect('lynx.compute.pcic.uvic.ca')\n",
    "\n",
    "with SCPClient(ssh.get_transport()) as scp:\n",
    "#     scp.put('./rl50_fit_slope.html', '/storage/home/nannau/public_html')"
   ]
  },
  {
   "cell_type": "code",
   "execution_count": 290,
   "metadata": {},
   "outputs": [
    {
     "name": "stdout",
     "output_type": "stream",
     "text": [
      "8334\n"
     ]
    },
    {
     "data": {
      "text/plain": [
       "(0.008800001268262988, 2.640000380478896)"
      ]
     },
     "execution_count": 290,
     "metadata": {},
     "output_type": "execute_result"
    }
   ],
   "source": [
    "from sklearn.metrics import pairwise_distances_chunked\n",
    "\n",
    "radius_size = 300/((50/3)/np.diff(ds.rlon.values).mean())\n",
    "\n",
    "n = int((47/(np.pi*radius_size**2))*((ds.rlon.max()-ds.rlon.min())*(ds.rlat.max()-ds.rlat.min())).values)\n",
    "print(n)\n",
    "\n",
    "rand = pd.DataFrame({\n",
    "                'rlon': np.random.uniform(ds.rlon.values.min(), ds.rlon.values.max(), n),\n",
    "                'rlat': np.random.uniform(ds.rlat.values.min(), ds.rlat.values.max(), n),\n",
    "                'label': 'pseudo'\n",
    "})\n",
    "\n",
    "# rand = rand[rand.apply(lambda x: (canada.contains(Point(x.rlon, x.rlat)).values[0]), axis=1)]\n",
    "\n",
    "ndfpseudo = ndf.copy()#.append(rand)\n",
    "np.diff(ds.rlon.values).mean()/(50/3), radius_size"
   ]
  },
  {
   "cell_type": "code",
   "execution_count": 293,
   "metadata": {},
   "outputs": [],
   "source": [
    "radius_size = 300/((50/3)/np.diff(ds.rlon.values).mean())\n",
    "\n",
    "from shapely.geometry import Point, Polygon\n",
    "import random\n",
    "from sklearn.neighbors import KDTree\n",
    "ndfpseudo = ndf.copy()\n",
    "tree = KDTree(np.array(list(zip(ndf.rlon, ndf.rlat))))\n",
    "max_count = tree.query_radius(np.array(list(zip(ndfpseudo.rlon, ndfpseudo.rlat))),r=radius_size, count_only=True).max()\n",
    "dfarr = ndfpseudo[['rlon', 'rlat', 'label']]\n",
    "\n",
    "entire_field = int((max_count/(np.pi*radius_size**2))*(ds.rlon.values.max()-ds.rlon.values.min())*(ds.rlat.values.max()-ds.rlat.values.min()))\n",
    "xn = np.random.uniform(ds.rlon.values.max(), ds.rlon.values.min(), entire_field)\n",
    "yn = np.random.uniform(ds.rlat.values.max(), ds.rlat.values.min(), entire_field)\n",
    "ndf_full = pd.concat([dfarr, pd.DataFrame({'rlon':xn, 'rlat':yn, 'label': 'pseudo'})])\n",
    "\n",
    "ndf_full_arr = ndf_full.values\n",
    "\n",
    "# def recursion(ndf_full_arr):\n",
    "arlon,arlat = ndf_full_arr[:,0], ndf_full_arr[:,1]\n",
    "tree = KDTree(np.array(list(zip(arlon, arlat))))\n",
    "i=0\n",
    "to_keep = np.ones(ndf_full_arr.shape[0]) == 1\n",
    "\n",
    "def get_sum(ndf_full_arr):\n",
    "    arlon, arlat = ndf_full_arr[:,0], ndf_full_arr[:,1]\n",
    "    return KDTree(np.array(list(zip(arlon, arlat))))\n",
    "\n",
    "for irlon, irlat, ilabel in ndf_full_arr:\n",
    "    temp_arr = ndf_full_arr[np.array(to_keep)]\n",
    "    tree = get_sum(temp_arr)\n",
    "    sums = tree.query_radius(np.array([irlon, irlat]).reshape(1, -1),r=radius_size, count_only=True)\n",
    "\n",
    "    if sums >= max_count and ilabel == 'pseudo':\n",
    "        to_keep[i] = False\n",
    "    else:\n",
    "        to_keep[i] = True\n",
    "    i+=1\n",
    "    \n",
    "dfarr = ndf_full_arr[np.array(to_keep)]\n",
    "    \n",
    "ndfpseudonew = pd.DataFrame(\n",
    "                    {\n",
    "                        'rlon': dfarr[:, 0],\n",
    "                        'rlat': dfarr[:, 1],\n",
    "                        'label': dfarr[:, 2],\n",
    "                    }\n",
    ")\n",
    "ndfpseudonew = ndfpseudonew[ndfpseudonew.apply(lambda x: (canada.contains(Point(x.rlon, x.rlat)).values[0]), axis=1)]"
   ]
  },
  {
   "cell_type": "code",
   "execution_count": 260,
   "metadata": {},
   "outputs": [],
   "source": [
    "entire_field = int((max_count/(np.pi*radius_size**2))*(ds.rlon.values.max()-ds.rlon.values.min())*(ds.rlat.values.max()-ds.rlat.values.min()))\n",
    "xn = np.random.uniform(ds.rlon.values.max(), ds.rlon.values.min(), entire_field)\n",
    "yn = np.random.uniform(ds.rlat.values.max(), ds.rlat.values.min(), entire_field)\n",
    "ndf_full = pd.concat([dfarr, pd.DataFrame({'rlon':xn, 'rlat':yn, 'label': 'pseudo'})])\n",
    "\n",
    "ndf_full_arr = ndf_full.values\n",
    "\n",
    "# def recursion(ndf_full_arr):\n",
    "arlon,arlat = ndf_full_arr[:,0], ndf_full_arr[:,1]\n",
    "tree = KDTree(np.array(list(zip(arlon, arlat))))\n",
    "i=0\n",
    "to_keep = np.ones(ndf_full_arr.shape[0]) == 1\n",
    "\n",
    "def get_sum(ndf_full_arr):\n",
    "    arlon, arlat = ndf_full_arr[:,0], ndf_full_arr[:,1]\n",
    "    return KDTree(np.array(list(zip(arlon, arlat))))\n",
    "\n",
    "for irlon, irlat, ilabel in ndf_full_arr:\n",
    "    temp_arr = ndf_full_arr[np.array(to_keep)]\n",
    "    tree = get_sum(temp_arr)\n",
    "    sums = tree.query_radius(np.array([irlon, irlat]).reshape(1, -1),r=radius_size, count_only=True)\n",
    "\n",
    "    if sums >= max_count and ilabel == 'pseudo':\n",
    "        to_keep[i] = False\n",
    "    else:\n",
    "        to_keep[i] = True\n",
    "    i+=1\n",
    "    \n",
    "ndfpseudonew = pd.DataFrame(\n",
    "                    {\n",
    "                        'rlon': dfarr[:, 0],\n",
    "                        'rlat': dfarr[:, 1],\n",
    "                        'label': dfarr[:, 2],\n",
    "                    }\n",
    ")\n",
    "ndfpseudonew = ndfpseudonew[ndfpseudonew.apply(lambda x: (canada.contains(Point(x.rlon, x.rlat)).values[0]), axis=1)]\n"
   ]
  },
  {
   "cell_type": "code",
   "execution_count": 254,
   "metadata": {},
   "outputs": [
    {
     "name": "stdout",
     "output_type": "stream",
     "text": [
      "[3, 5, 7] [3, 5, 7]\n"
     ]
    }
   ],
   "source": []
  },
  {
   "cell_type": "code",
   "execution_count": 261,
   "metadata": {},
   "outputs": [],
   "source": [
    "dfarr = ndf_full_arr[np.array(to_keep)]"
   ]
  },
  {
   "cell_type": "code",
   "execution_count": 262,
   "metadata": {},
   "outputs": [],
   "source": [
    "ndfpseudonew = pd.DataFrame(\n",
    "                    {\n",
    "                        'rlon': dfarr[:, 0],\n",
    "                        'rlat': dfarr[:, 1],\n",
    "                        'label': dfarr[:, 2],\n",
    "                    }\n",
    ")\n",
    "ndfpseudonew = ndfpseudonew[ndfpseudonew.apply(lambda x: (canada.contains(Point(x.rlon, x.rlat)).values[0]), axis=1)]\n"
   ]
  },
  {
   "cell_type": "code",
   "execution_count": 285,
   "metadata": {},
   "outputs": [],
   "source": [
    "# sns.scatterplot(ndfpseudonew[ndfpseudonew.label=='pseudo'].rlon, ndfpseudonew[ndfpseudonew.label=='pseudo'].rlat)#, s=0.1)\n",
    "# sns.scatterplot(ndfpseudonew[ndfpseudonew.label=='stations'].rlon, ndfpseudonew[ndfpseudonew.label=='stations'].rlat)#, s=1)\n",
    "# plt.show()"
   ]
  },
  {
   "cell_type": "code",
   "execution_count": 288,
   "metadata": {},
   "outputs": [
    {
     "ename": "KeyboardInterrupt",
     "evalue": "",
     "output_type": "error",
     "traceback": [
      "\u001b[0;31m---------------------------------------------------------------------------\u001b[0m",
      "\u001b[0;31mKeyboardInterrupt\u001b[0m                         Traceback (most recent call last)",
      "\u001b[0;32m<ipython-input-288-61ef341638b7>\u001b[0m in \u001b[0;36m<module>\u001b[0;34m\u001b[0m\n\u001b[1;32m      1\u001b[0m \u001b[0ma\u001b[0m \u001b[0;34m=\u001b[0m \u001b[0mndfpseudonew\u001b[0m\u001b[0;34m[\u001b[0m\u001b[0mndfpseudonew\u001b[0m\u001b[0;34m[\u001b[0m\u001b[0;34m'label'\u001b[0m\u001b[0;34m]\u001b[0m\u001b[0;34m==\u001b[0m\u001b[0;34m'pseudo'\u001b[0m\u001b[0;34m]\u001b[0m\u001b[0;34m[\u001b[0m\u001b[0;34m'rlon'\u001b[0m\u001b[0;34m]\u001b[0m\u001b[0;34m.\u001b[0m\u001b[0mvalues\u001b[0m\u001b[0;34m\u001b[0m\u001b[0;34m\u001b[0m\u001b[0m\n\u001b[0;32m----> 2\u001b[0;31m \u001b[0mplt\u001b[0m\u001b[0;34m.\u001b[0m\u001b[0mhist\u001b[0m\u001b[0;34m(\u001b[0m\u001b[0ma\u001b[0m\u001b[0;34m)\u001b[0m\u001b[0;34m\u001b[0m\u001b[0;34m\u001b[0m\u001b[0m\n\u001b[0m",
      "\u001b[0;32m~/tri/lib/python3.6/site-packages/matplotlib/pyplot.py\u001b[0m in \u001b[0;36mhist\u001b[0;34m(x, bins, range, density, weights, cumulative, bottom, histtype, align, orientation, rwidth, log, color, label, stacked, normed, data, **kwargs)\u001b[0m\n\u001b[1;32m   2657\u001b[0m         \u001b[0malign\u001b[0m\u001b[0;34m=\u001b[0m\u001b[0malign\u001b[0m\u001b[0;34m,\u001b[0m \u001b[0morientation\u001b[0m\u001b[0;34m=\u001b[0m\u001b[0morientation\u001b[0m\u001b[0;34m,\u001b[0m \u001b[0mrwidth\u001b[0m\u001b[0;34m=\u001b[0m\u001b[0mrwidth\u001b[0m\u001b[0;34m,\u001b[0m \u001b[0mlog\u001b[0m\u001b[0;34m=\u001b[0m\u001b[0mlog\u001b[0m\u001b[0;34m,\u001b[0m\u001b[0;34m\u001b[0m\u001b[0;34m\u001b[0m\u001b[0m\n\u001b[1;32m   2658\u001b[0m         \u001b[0mcolor\u001b[0m\u001b[0;34m=\u001b[0m\u001b[0mcolor\u001b[0m\u001b[0;34m,\u001b[0m \u001b[0mlabel\u001b[0m\u001b[0;34m=\u001b[0m\u001b[0mlabel\u001b[0m\u001b[0;34m,\u001b[0m \u001b[0mstacked\u001b[0m\u001b[0;34m=\u001b[0m\u001b[0mstacked\u001b[0m\u001b[0;34m,\u001b[0m \u001b[0mnormed\u001b[0m\u001b[0;34m=\u001b[0m\u001b[0mnormed\u001b[0m\u001b[0;34m,\u001b[0m\u001b[0;34m\u001b[0m\u001b[0;34m\u001b[0m\u001b[0m\n\u001b[0;32m-> 2659\u001b[0;31m         **({\"data\": data} if data is not None else {}), **kwargs)\n\u001b[0m\u001b[1;32m   2660\u001b[0m \u001b[0;34m\u001b[0m\u001b[0m\n\u001b[1;32m   2661\u001b[0m \u001b[0;34m\u001b[0m\u001b[0m\n",
      "\u001b[0;32m~/tri/lib/python3.6/site-packages/matplotlib/__init__.py\u001b[0m in \u001b[0;36minner\u001b[0;34m(ax, data, *args, **kwargs)\u001b[0m\n\u001b[1;32m   1808\u001b[0m                         \u001b[0;34m\"the Matplotlib list!)\"\u001b[0m \u001b[0;34m%\u001b[0m \u001b[0;34m(\u001b[0m\u001b[0mlabel_namer\u001b[0m\u001b[0;34m,\u001b[0m \u001b[0mfunc\u001b[0m\u001b[0;34m.\u001b[0m\u001b[0m__name__\u001b[0m\u001b[0;34m)\u001b[0m\u001b[0;34m,\u001b[0m\u001b[0;34m\u001b[0m\u001b[0;34m\u001b[0m\u001b[0m\n\u001b[1;32m   1809\u001b[0m                         RuntimeWarning, stacklevel=2)\n\u001b[0;32m-> 1810\u001b[0;31m             \u001b[0;32mreturn\u001b[0m \u001b[0mfunc\u001b[0m\u001b[0;34m(\u001b[0m\u001b[0max\u001b[0m\u001b[0;34m,\u001b[0m \u001b[0;34m*\u001b[0m\u001b[0margs\u001b[0m\u001b[0;34m,\u001b[0m \u001b[0;34m**\u001b[0m\u001b[0mkwargs\u001b[0m\u001b[0;34m)\u001b[0m\u001b[0;34m\u001b[0m\u001b[0;34m\u001b[0m\u001b[0m\n\u001b[0m\u001b[1;32m   1811\u001b[0m \u001b[0;34m\u001b[0m\u001b[0m\n\u001b[1;32m   1812\u001b[0m         inner.__doc__ = _add_data_doc(inner.__doc__,\n",
      "\u001b[0;32m~/tri/lib/python3.6/site-packages/matplotlib/axes/_axes.py\u001b[0m in \u001b[0;36mhist\u001b[0;34m(self, x, bins, range, density, weights, cumulative, bottom, histtype, align, orientation, rwidth, log, color, label, stacked, normed, **kwargs)\u001b[0m\n\u001b[1;32m   6665\u001b[0m                 patch = _barfunc(bins[:-1]+boffset, height, width,\n\u001b[1;32m   6666\u001b[0m                                  \u001b[0malign\u001b[0m\u001b[0;34m=\u001b[0m\u001b[0;34m'center'\u001b[0m\u001b[0;34m,\u001b[0m \u001b[0mlog\u001b[0m\u001b[0;34m=\u001b[0m\u001b[0mlog\u001b[0m\u001b[0;34m,\u001b[0m\u001b[0;34m\u001b[0m\u001b[0;34m\u001b[0m\u001b[0m\n\u001b[0;32m-> 6667\u001b[0;31m                                  color=c, **{bottom_kwarg: bottom})\n\u001b[0m\u001b[1;32m   6668\u001b[0m                 \u001b[0mpatches\u001b[0m\u001b[0;34m.\u001b[0m\u001b[0mappend\u001b[0m\u001b[0;34m(\u001b[0m\u001b[0mpatch\u001b[0m\u001b[0;34m)\u001b[0m\u001b[0;34m\u001b[0m\u001b[0;34m\u001b[0m\u001b[0m\n\u001b[1;32m   6669\u001b[0m                 \u001b[0;32mif\u001b[0m \u001b[0mstacked\u001b[0m\u001b[0;34m:\u001b[0m\u001b[0;34m\u001b[0m\u001b[0;34m\u001b[0m\u001b[0m\n",
      "\u001b[0;32m~/tri/lib/python3.6/site-packages/matplotlib/__init__.py\u001b[0m in \u001b[0;36minner\u001b[0;34m(ax, data, *args, **kwargs)\u001b[0m\n\u001b[1;32m   1808\u001b[0m                         \u001b[0;34m\"the Matplotlib list!)\"\u001b[0m \u001b[0;34m%\u001b[0m \u001b[0;34m(\u001b[0m\u001b[0mlabel_namer\u001b[0m\u001b[0;34m,\u001b[0m \u001b[0mfunc\u001b[0m\u001b[0;34m.\u001b[0m\u001b[0m__name__\u001b[0m\u001b[0;34m)\u001b[0m\u001b[0;34m,\u001b[0m\u001b[0;34m\u001b[0m\u001b[0;34m\u001b[0m\u001b[0m\n\u001b[1;32m   1809\u001b[0m                         RuntimeWarning, stacklevel=2)\n\u001b[0;32m-> 1810\u001b[0;31m             \u001b[0;32mreturn\u001b[0m \u001b[0mfunc\u001b[0m\u001b[0;34m(\u001b[0m\u001b[0max\u001b[0m\u001b[0;34m,\u001b[0m \u001b[0;34m*\u001b[0m\u001b[0margs\u001b[0m\u001b[0;34m,\u001b[0m \u001b[0;34m**\u001b[0m\u001b[0mkwargs\u001b[0m\u001b[0;34m)\u001b[0m\u001b[0;34m\u001b[0m\u001b[0;34m\u001b[0m\u001b[0m\n\u001b[0m\u001b[1;32m   1811\u001b[0m \u001b[0;34m\u001b[0m\u001b[0m\n\u001b[1;32m   1812\u001b[0m         inner.__doc__ = _add_data_doc(inner.__doc__,\n",
      "\u001b[0;32m~/tri/lib/python3.6/site-packages/matplotlib/axes/_axes.py\u001b[0m in \u001b[0;36mbar\u001b[0;34m(self, x, height, width, bottom, align, **kwargs)\u001b[0m\n\u001b[1;32m   2339\u001b[0m             \u001b[0mymin\u001b[0m \u001b[0;34m=\u001b[0m \u001b[0mmax\u001b[0m\u001b[0;34m(\u001b[0m\u001b[0mymin\u001b[0m \u001b[0;34m*\u001b[0m \u001b[0;36m0.9\u001b[0m\u001b[0;34m,\u001b[0m \u001b[0;36m1e-100\u001b[0m\u001b[0;34m)\u001b[0m\u001b[0;34m\u001b[0m\u001b[0;34m\u001b[0m\u001b[0m\n\u001b[1;32m   2340\u001b[0m             \u001b[0mself\u001b[0m\u001b[0;34m.\u001b[0m\u001b[0mdataLim\u001b[0m\u001b[0;34m.\u001b[0m\u001b[0mintervaly\u001b[0m \u001b[0;34m=\u001b[0m \u001b[0;34m(\u001b[0m\u001b[0mymin\u001b[0m\u001b[0;34m,\u001b[0m \u001b[0mymax\u001b[0m\u001b[0;34m)\u001b[0m\u001b[0;34m\u001b[0m\u001b[0;34m\u001b[0m\u001b[0m\n\u001b[0;32m-> 2341\u001b[0;31m         \u001b[0mself\u001b[0m\u001b[0;34m.\u001b[0m\u001b[0mautoscale_view\u001b[0m\u001b[0;34m(\u001b[0m\u001b[0;34m)\u001b[0m\u001b[0;34m\u001b[0m\u001b[0;34m\u001b[0m\u001b[0m\n\u001b[0m\u001b[1;32m   2342\u001b[0m \u001b[0;34m\u001b[0m\u001b[0m\n\u001b[1;32m   2343\u001b[0m         \u001b[0mbar_container\u001b[0m \u001b[0;34m=\u001b[0m \u001b[0mBarContainer\u001b[0m\u001b[0;34m(\u001b[0m\u001b[0mpatches\u001b[0m\u001b[0;34m,\u001b[0m \u001b[0merrorbar\u001b[0m\u001b[0;34m,\u001b[0m \u001b[0mlabel\u001b[0m\u001b[0;34m=\u001b[0m\u001b[0mlabel\u001b[0m\u001b[0;34m)\u001b[0m\u001b[0;34m\u001b[0m\u001b[0;34m\u001b[0m\u001b[0m\n",
      "\u001b[0;32m~/tri/lib/python3.6/site-packages/matplotlib/axes/_base.py\u001b[0m in \u001b[0;36mautoscale_view\u001b[0;34m(self, tight, scalex, scaley)\u001b[0m\n\u001b[1;32m   2426\u001b[0m             \u001b[0mstickies\u001b[0m \u001b[0;34m=\u001b[0m \u001b[0;34m[\u001b[0m\u001b[0martist\u001b[0m\u001b[0;34m.\u001b[0m\u001b[0msticky_edges\u001b[0m \u001b[0;32mfor\u001b[0m \u001b[0martist\u001b[0m \u001b[0;32min\u001b[0m \u001b[0mself\u001b[0m\u001b[0;34m.\u001b[0m\u001b[0mget_children\u001b[0m\u001b[0;34m(\u001b[0m\u001b[0;34m)\u001b[0m\u001b[0;34m]\u001b[0m\u001b[0;34m\u001b[0m\u001b[0;34m\u001b[0m\u001b[0m\n\u001b[1;32m   2427\u001b[0m             \u001b[0mx_stickies\u001b[0m \u001b[0;34m=\u001b[0m \u001b[0msum\u001b[0m\u001b[0;34m(\u001b[0m\u001b[0;34m[\u001b[0m\u001b[0msticky\u001b[0m\u001b[0;34m.\u001b[0m\u001b[0mx\u001b[0m \u001b[0;32mfor\u001b[0m \u001b[0msticky\u001b[0m \u001b[0;32min\u001b[0m \u001b[0mstickies\u001b[0m\u001b[0;34m]\u001b[0m\u001b[0;34m,\u001b[0m \u001b[0;34m[\u001b[0m\u001b[0;34m]\u001b[0m\u001b[0;34m)\u001b[0m\u001b[0;34m\u001b[0m\u001b[0;34m\u001b[0m\u001b[0m\n\u001b[0;32m-> 2428\u001b[0;31m             \u001b[0my_stickies\u001b[0m \u001b[0;34m=\u001b[0m \u001b[0msum\u001b[0m\u001b[0;34m(\u001b[0m\u001b[0;34m[\u001b[0m\u001b[0msticky\u001b[0m\u001b[0;34m.\u001b[0m\u001b[0my\u001b[0m \u001b[0;32mfor\u001b[0m \u001b[0msticky\u001b[0m \u001b[0;32min\u001b[0m \u001b[0mstickies\u001b[0m\u001b[0;34m]\u001b[0m\u001b[0;34m,\u001b[0m \u001b[0;34m[\u001b[0m\u001b[0;34m]\u001b[0m\u001b[0;34m)\u001b[0m\u001b[0;34m\u001b[0m\u001b[0;34m\u001b[0m\u001b[0m\n\u001b[0m\u001b[1;32m   2429\u001b[0m             \u001b[0;32mif\u001b[0m \u001b[0mself\u001b[0m\u001b[0;34m.\u001b[0m\u001b[0mget_xscale\u001b[0m\u001b[0;34m(\u001b[0m\u001b[0;34m)\u001b[0m\u001b[0;34m.\u001b[0m\u001b[0mlower\u001b[0m\u001b[0;34m(\u001b[0m\u001b[0;34m)\u001b[0m \u001b[0;34m==\u001b[0m \u001b[0;34m'log'\u001b[0m\u001b[0;34m:\u001b[0m\u001b[0;34m\u001b[0m\u001b[0;34m\u001b[0m\u001b[0m\n\u001b[1;32m   2430\u001b[0m                 \u001b[0mx_stickies\u001b[0m \u001b[0;34m=\u001b[0m \u001b[0;34m[\u001b[0m\u001b[0mxs\u001b[0m \u001b[0;32mfor\u001b[0m \u001b[0mxs\u001b[0m \u001b[0;32min\u001b[0m \u001b[0mx_stickies\u001b[0m \u001b[0;32mif\u001b[0m \u001b[0mxs\u001b[0m \u001b[0;34m>\u001b[0m \u001b[0;36m0\u001b[0m\u001b[0;34m]\u001b[0m\u001b[0;34m\u001b[0m\u001b[0;34m\u001b[0m\u001b[0m\n",
      "\u001b[0;31mKeyboardInterrupt\u001b[0m: "
     ]
    },
    {
     "data": {
      "image/png": "[encoded data removed]",
      "text/plain": [
       "<Figure size 432x288 with 1 Axes>"
      ]
     },
     "metadata": {
      "needs_background": "light"
     },
     "output_type": "display_data"
    }
   ],
   "source": [
    "a = ndfpseudonew[ndfpseudonew['label']=='pseudo']['rlon'].values\n",
    "plt.hist(a)"
   ]
  },
  {
   "cell_type": "code",
   "execution_count": 232,
   "metadata": {},
   "outputs": [
    {
     "data": {
      "text/plain": [
       "<matplotlib.collections.PathCollection at 0x7fd250391eb8>"
      ]
     },
     "execution_count": 232,
     "metadata": {},
     "output_type": "execute_result"
    },
    {
     "data": {
      "image/png": "[encoded data removed]",
      "text/plain": [
       "<Figure size 432x288 with 1 Axes>"
      ]
     },
     "metadata": {
      "needs_background": "light"
     },
     "output_type": "display_data"
    }
   ],
   "source": [
    "plt.scatter(ndf_full_arr[:, 0], ndf_full_arr[:, 1], marker='.')"
   ]
  },
  {
   "cell_type": "code",
   "execution_count": null,
   "metadata": {},
   "outputs": [],
   "source": []
  }
 ],
 "metadata": {
  "hide_input": false,
  "kernelspec": {
   "display_name": "Python 3",
   "language": "python",
   "name": "python3"
  },
  "language_info": {
   "codemirror_mode": {
    "name": "ipython",
    "version": 3
   },
   "file_extension": ".py",
   "mimetype": "text/x-python",
   "name": "python",
   "nbconvert_exporter": "python",
   "pygments_lexer": "ipython3",
   "version": "3.6.8"
  },
  "toc": {
   "base_numbering": 1,
   "nav_menu": {},
   "number_sections": true,
   "sideBar": true,
   "skip_h1_title": false,
   "title_cell": "Table of Contents",
   "title_sidebar": "Contents",
   "toc_cell": false,
   "toc_position": {},
   "toc_section_display": true,
   "toc_window_display": true
  }
 },
 "nbformat": 4,
 "nbformat_minor": 4
}
