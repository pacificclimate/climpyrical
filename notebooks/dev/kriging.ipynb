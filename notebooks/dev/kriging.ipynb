{
 "cells": [
  {
   "cell_type": "code",
   "execution_count": 1,
   "metadata": {},
   "outputs": [],
   "source": [
    "# !pip install -e ../.\n",
    "\n",
    "from climpyrical.datacube import *\n",
    "from climpyrical.mask import *\n",
    "from climpyrical.gridding import *\n",
    "\n",
    "import matplotlib.pyplot as plt\n",
    "import numpy as np\n",
    "import geopandas as gpd\n",
    "import pandas as pd\n",
    "\n",
    "from sklearn import ensemble\n",
    "import seaborn as sns\n",
    "from scipy.stats import linregress\n",
    "from sklearn.model_selection import train_test_split\n",
    "from sklearn.model_selection import GridSearchCV\n",
    "from sklearn.utils import shuffle\n",
    "from sklearn.metrics import mean_squared_error\n",
    "from sklearn.preprocessing import StandardScaler\n",
    "from scipy.stats import norm\n",
    "from sklearn.metrics import *\n",
    "from sklearn.neighbors import KNeighborsRegressor\n",
    "from scipy import stats\n",
    "from pykrige.ok import OrdinaryKriging\n",
    "\n",
    "\n",
    "from sklearn.metrics.pairwise import paired_distances\n",
    "from scipy.spatial import distance\n",
    "from scipy.stats import linregress\n",
    "\n",
    "import plotly.graph_objects as go\n",
    "import plotly\n",
    "from plotly.subplots import make_subplots\n",
    "import chart_studio.plotly as py\n",
    "from plotly import colors as clr\n",
    "import chart_studio\n",
    "\n",
    "chart_studio.tools.set_config_file(world_readable=False,\n",
    "                             sharing='private')\n",
    "\n",
    "%load_ext autoreload\n",
    "%autoreload 2"
   ]
  },
  {
   "cell_type": "code",
   "execution_count": 2,
   "metadata": {},
   "outputs": [],
   "source": [
    "# PATH_MASK = '../../climpyrical/tests/data/'\n",
    "PATH = '../../climpyrical/tests/data/snw_CanRCM4-LE_ens35_1951-2016_max_rl50_load.nc'\n",
    "PATH_MEAN = '../../climpyrical/tests/data/snw_CanRCM4-LE_ens35_1951-2016_max_rl50_load_ensmean.nc'\n",
    "# PATH = '../../climpyrical/tests/data/hdd_CanRCM4-LE_ens35_1951-2016_ann_ta.nc'\n",
    "# PATH_MEAN = '../../climpyrical/tests/data/hdd_CanRCM4-LE_ens35_1951-2016_ann_ensmean.nc'\n",
    "# print(xr.open_dataset(PATH))\n",
    "# dv = 'heating_degree_days_per_time_period'\n",
    "dv = 'snw'\n",
    "\n",
    "dsold = read_data(PATH, dv)\n",
    "ds_mean = read_data(PATH_MEAN, dv, ['rlon', 'rlat'])\n",
    "ds_mean.keys()\n",
    "\n",
    "N = 3\n",
    "ds = regrid_ensemble(dsold, dv, N)\n",
    "\n",
    "if 'time' in ds_mean.keys():\n",
    "    ds_mean = regrid_ensemble(ds_mean.squeeze('time'), dv, N, ['rlon', 'rlat'])\n",
    "else:\n",
    "    ds_mean = regrid_ensemble(ds_mean, dv, N, ['rlon', 'rlat'])\n",
    "mean = ds_mean[dv].values\n",
    "        \n",
    "dvmask = 'sftlf'\n",
    "mask = read_data('../../climpyrical/tests/data/land_mask_CanRCM4_sftlf.nc', dvmask, keys=['rlat', 'rlon'])\n",
    "\n",
    "if 'time' in mask.keys():\n",
    "    mask = mask.squeeze('time')\n",
    "    mask = mask.drop('time')\n",
    "mask = regrid_ensemble(mask, dvmask, N, ['rlon', 'rlat'])\n",
    "mask = mask[dvmask].values >= 1.0\n",
    "\n",
    "assert mean.shape == ds[dv].values[0, ...].shape"
   ]
  },
  {
   "cell_type": "code",
   "execution_count": 3,
   "metadata": {},
   "outputs": [],
   "source": [
    "canada = gpd.read_file('../../climpyrical/tests/data/canada.geojson')\n",
    "canada = rotate_shapefile(canada.geometry)\n",
    "\n",
    "north_ext = 140\n",
    "newmean = np.ones((mean.shape[0]+north_ext, mean.shape[1]))\n",
    "newmean[0:mean.shape[0], 0:mean.shape[1]] = mean\n",
    "\n",
    "# nrlat = np.linspace(ds[dv]rlon.min())\n",
    "drlat = np.mean(np.diff(ds_mean.rlon))/ds_mean.rlon.size\n",
    "nrlat = np.linspace(ds_mean.rlon.min(), ds_mean.rlon.max()+north_ext*drlat, mean.shape[0]+north_ext)\n",
    "nrlon = ds_mean.rlon.copy()\n",
    "\n",
    "ds_mean = xr.Dataset(\n",
    "    {dv: ([\"rlat\", \"rlon\"], newmean), \"lon\": nrlon, \"lat\": nrlat},\n",
    "    coords={\"rlon\": (\"rlon\", nrlon), \"rlat\": (\"rlat\", nrlat)},\n",
    ")\n",
    "\n",
    "mean = ds_mean[dv]\n",
    "\n",
    "\n",
    "x, y = flatten_coords(ds_mean.rlon, ds_mean.rlat)\n",
    "xy = np.stack([x, y]).T\n",
    "contained = []\n",
    "\n",
    "for xcoord, ycoord in xy:\n",
    "    contained.append(canada.contains(Point(xcoord, ycoord)))\n",
    "    \n",
    "final_mask = np.array(contained).reshape(ds_mean[dv].shape)\n"
   ]
  },
  {
   "cell_type": "code",
   "execution_count": 4,
   "metadata": {},
   "outputs": [],
   "source": [
    "final_mask = np.logical_and(final_mask.copy(), ~np.isnan(mean))\n",
    "assert final_mask.shape == mean.shape"
   ]
  },
  {
   "cell_type": "code",
   "execution_count": 5,
   "metadata": {},
   "outputs": [],
   "source": [
    "rlon, rlat = np.meshgrid(ds_mean.rlon, ds_mean.rlat)\n",
    "assert rlon.shape == rlat.shape and rlon.shape == final_mask.shape"
   ]
  },
  {
   "cell_type": "code",
   "execution_count": 6,
   "metadata": {},
   "outputs": [
    {
     "data": {
      "text/plain": [
       "(520, 9)"
      ]
     },
     "execution_count": 6,
     "metadata": {},
     "output_type": "execute_result"
    }
   ],
   "source": [
    "# df_path = '../../climpyrical/tests/data/Interim_hdd_Tmax_Tmin_delivered.csv'\n",
    "df_path = '../../climpyrical/tests/data/sl50_short.csv'\n",
    "df = pd.read_csv(df_path, index_col=None)\n",
    "# station_dv = 'HDD (degC-day)'\n",
    "station_dv = 'SL50 (kPa)'\n",
    "\n",
    "# transform into rotated pole\n",
    "rlon_st, rlat_st = transform_coords(df['lon'].values, df['lat'].values)\n",
    "\n",
    "df = df.assign(\n",
    "        rlon=rlon_st, \n",
    "        rlat=rlat_st\n",
    ")\n",
    "\n",
    "target = '+proj=lcc +lat_1=20 +lat_2=60 +lat_0=40 +lon_0=-96 +x_0=0 +y_0=0 +datum=NAD83 +units=m +no_defs'\n",
    "df.shape"
   ]
  },
  {
   "cell_type": "code",
   "execution_count": 7,
   "metadata": {},
   "outputs": [
    {
     "data": {
      "text/html": [
       "<div>\n",
       "<style scoped>\n",
       "    .dataframe tbody tr th:only-of-type {\n",
       "        vertical-align: middle;\n",
       "    }\n",
       "\n",
       "    .dataframe tbody tr th {\n",
       "        vertical-align: top;\n",
       "    }\n",
       "\n",
       "    .dataframe thead th {\n",
       "        text-align: right;\n",
       "    }\n",
       "</style>\n",
       "<table border=\"1\" class=\"dataframe\">\n",
       "  <thead>\n",
       "    <tr style=\"text-align: right;\">\n",
       "      <th></th>\n",
       "      <th>ilocy</th>\n",
       "      <th>ilocx</th>\n",
       "      <th>SL50 (kPa)</th>\n",
       "      <th>ilocx_mask</th>\n",
       "      <th>ilocy_mask</th>\n",
       "      <th>rlat</th>\n",
       "      <th>rlon</th>\n",
       "      <th>lat</th>\n",
       "      <th>lon</th>\n",
       "      <th>station_name</th>\n",
       "    </tr>\n",
       "  </thead>\n",
       "  <tbody>\n",
       "    <tr>\n",
       "      <th>0</th>\n",
       "      <td>231</td>\n",
       "      <td>303</td>\n",
       "      <td>1.05</td>\n",
       "      <td>303.0</td>\n",
       "      <td>231.0</td>\n",
       "      <td>-4.290334</td>\n",
       "      <td>10.413335</td>\n",
       "      <td>42.304450</td>\n",
       "      <td>-82.94445</td>\n",
       "      <td>WINDSOR RIVERSIDE</td>\n",
       "    </tr>\n",
       "    <tr>\n",
       "      <th>1</th>\n",
       "      <td>237</td>\n",
       "      <td>305</td>\n",
       "      <td>1.50</td>\n",
       "      <td>305.0</td>\n",
       "      <td>237.0</td>\n",
       "      <td>-3.517961</td>\n",
       "      <td>10.706668</td>\n",
       "      <td>42.992200</td>\n",
       "      <td>-82.30470</td>\n",
       "      <td>SARNIA AIRPORT</td>\n",
       "    </tr>\n",
       "    <tr>\n",
       "      <th>2</th>\n",
       "      <td>238</td>\n",
       "      <td>314</td>\n",
       "      <td>1.60</td>\n",
       "      <td>314.0</td>\n",
       "      <td>238.0</td>\n",
       "      <td>-3.389233</td>\n",
       "      <td>12.026668</td>\n",
       "      <td>42.866700</td>\n",
       "      <td>-80.55000</td>\n",
       "      <td>DELHI CDA</td>\n",
       "    </tr>\n",
       "    <tr>\n",
       "      <th>3</th>\n",
       "      <td>238</td>\n",
       "      <td>315</td>\n",
       "      <td>1.60</td>\n",
       "      <td>315.0</td>\n",
       "      <td>238.0</td>\n",
       "      <td>-3.389233</td>\n",
       "      <td>12.173335</td>\n",
       "      <td>42.812195</td>\n",
       "      <td>-80.34788</td>\n",
       "      <td>SIMCOE</td>\n",
       "    </tr>\n",
       "    <tr>\n",
       "      <th>4</th>\n",
       "      <td>239</td>\n",
       "      <td>311</td>\n",
       "      <td>1.65</td>\n",
       "      <td>311.0</td>\n",
       "      <td>239.0</td>\n",
       "      <td>-3.260504</td>\n",
       "      <td>11.586668</td>\n",
       "      <td>43.017550</td>\n",
       "      <td>-81.09195</td>\n",
       "      <td>DORCHESTER</td>\n",
       "    </tr>\n",
       "  </tbody>\n",
       "</table>\n",
       "</div>"
      ],
      "text/plain": [
       "   ilocy  ilocx  SL50 (kPa)  ilocx_mask  ilocy_mask      rlat       rlon  \\\n",
       "0    231    303        1.05       303.0       231.0 -4.290334  10.413335   \n",
       "1    237    305        1.50       305.0       237.0 -3.517961  10.706668   \n",
       "2    238    314        1.60       314.0       238.0 -3.389233  12.026668   \n",
       "3    238    315        1.60       315.0       238.0 -3.389233  12.173335   \n",
       "4    239    311        1.65       311.0       239.0 -3.260504  11.586668   \n",
       "\n",
       "         lat       lon       station_name  \n",
       "0  42.304450 -82.94445  WINDSOR RIVERSIDE  \n",
       "1  42.992200 -82.30470     SARNIA AIRPORT  \n",
       "2  42.866700 -80.55000          DELHI CDA  \n",
       "3  42.812195 -80.34788             SIMCOE  \n",
       "4  43.017550 -81.09195         DORCHESTER  "
      ]
     },
     "execution_count": 7,
     "metadata": {},
     "output_type": "execute_result"
    }
   ],
   "source": [
    "rlon_st, rlat_st = transform_coords(df['lon'].values, df['lat'].values)\n",
    "df = df.assign(\n",
    "        rlon=rlon_st, \n",
    "        rlat=rlat_st\n",
    ")\n",
    "\n",
    "# find nearest grid cells to station locations in rlon and rlat using haversine distance\n",
    "nearest_gridcell_idx = pairwise_distances_argmin_min( \n",
    "    np.deg2rad(\n",
    "    np.stack([df.rlon, df.rlat]).T\n",
    "    ),\n",
    "    np.deg2rad(np.stack([rlon.copy().flatten(), rlat.copy().flatten()]).T), \n",
    "    metric='haversine'\n",
    ")[0]\n",
    "\n",
    "nearest_gridcell_idx_masked = pairwise_distances_argmin_min( \n",
    "    np.deg2rad(\n",
    "    np.stack([df.rlon, df.rlat]).T\n",
    "    ),\n",
    "    np.deg2rad(np.stack([rlon.copy()[final_mask], rlat.copy()[final_mask]]).T), \n",
    "    metric='haversine'\n",
    ")[0]\n",
    "\n",
    "# create a mesh of indices of rlon and rlat grids for masking \n",
    "irlon, irlat = np.meshgrid(range(ds_mean.rlon.size), range(ds_mean.rlat.size))\n",
    "# combine indices and extract the nearest grid cell index in x and y axis\n",
    "ix_non_agg, iy_non_agg = np.stack([irlon.flatten(), irlat.flatten()])[:, nearest_gridcell_idx]\n",
    "ix_non_agg_masked, iy_non_agg_masked = np.stack([irlon[final_mask], irlat[final_mask]])[:, nearest_gridcell_idx_masked]\n",
    "\n",
    "# where_nan = np.isnan(mean[iy_non_agg, ix_non_agg])\n",
    "# ix_non_agg[where_nan] = ix_non_agg_masked[where_nan]\n",
    "# iy_non_agg[where_nan] = iy_non_agg_masked[where_nan]\n",
    "\n",
    "\n",
    "# add to dataframe\n",
    "matched_df = pd.DataFrame({'ilocy': iy_non_agg, 'ilocx': ix_non_agg, 'ilocy_mask': iy_non_agg_masked, 'ilocx_mask': ix_non_agg_masked, station_dv: df[station_dv],'rlat':df.rlat, 'rlon':df.rlon, 'lat': df.lat, 'lon':df.lon, 'station_name':df.station_name})\n",
    "# aggregate stations in same grid cell by taking mean\n",
    "# matched_df.to_csv('/home/nannau/06172020/dash-dv-explorer/assets/data/snow_stations.csv')\n",
    "matched_df = matched_df.groupby(['ilocy', 'ilocx'], as_index=False).agg({station_dv: 'mean', 'ilocx_mask': 'mean', 'ilocy_mask': 'mean', 'rlat':'mean', 'rlon':'mean', 'lat': 'mean', 'lon': 'mean', 'station_name': 'first'})#, 'niy': 'min', 'nix': 'min'})\n",
    "\n",
    "\n",
    "iy = matched_df.ilocy.values\n",
    "ix = matched_df.ilocx.values\n",
    "iym, ixm = matched_df.ilocy_mask.values.astype(int), matched_df.ilocx_mask.values.astype(int)\n",
    "\n",
    "where_nan = np.isnan(ds_mean[dv].values[iy, ix])\n",
    "\n",
    "station_vals = matched_df[station_dv].values\n",
    "\n",
    "# comment out for station rlon,rlat\n",
    "matched_df['rlon'] = rlon[iy, ix]\n",
    "matched_df['rlat'] = rlat[iy, ix]\n",
    "\n",
    "matched_df.head()"
   ]
  },
  {
   "cell_type": "code",
   "execution_count": 8,
   "metadata": {},
   "outputs": [
    {
     "data": {
      "text/plain": [
       "(array([106, 399, 400, 406, 417, 399, 418, 426, 400, 420, 424, 400, 427,\n",
       "        423, 405, 402, 426, 399, 401, 425, 418, 398, 410, 402, 406, 414,\n",
       "        405, 398, 411, 420, 412, 397, 377, 398, 300, 388, 371, 362]),\n",
       " array([106, 396, 396, 397, 401, 388, 401, 401, 388, 401, 401, 388, 401,\n",
       "        401, 401, 401, 401, 388, 401, 401, 401, 398, 401, 401, 401, 401,\n",
       "        401, 398, 401, 401, 401, 398, 374, 400, 303, 386, 368, 362]))"
      ]
     },
     "execution_count": 8,
     "metadata": {},
     "output_type": "execute_result"
    }
   ],
   "source": [
    "np.any(where_nan)\n",
    "where_nan.shape, ix.shape, ixm.shape\n",
    "ix[where_nan], ixm[where_nan]"
   ]
  },
  {
   "cell_type": "code",
   "execution_count": 9,
   "metadata": {},
   "outputs": [
    {
     "name": "stdout",
     "output_type": "stream",
     "text": [
      "0.6856009918427177\n",
      "[0.7960396] -0.002644019603385694\n"
     ]
    },
    {
     "data": {
      "text/plain": [
       "-0.002644019603385694"
      ]
     },
     "execution_count": 9,
     "metadata": {},
     "output_type": "execute_result"
    }
   ],
   "source": [
    "def regionalize(array):\n",
    "    return array[u:lw, l:r].reshape((lw-u, r-l))\n",
    "def squareize(array):\n",
    "    ar = mean.copy()\n",
    "    ar[final_mask] = array\n",
    "    ar[~final_mask] = np.nan\n",
    "    return ar\n",
    "mean = ds_mean[dv].values\n",
    "mean[iy[where_nan], ix[where_nan]] = mean[iym[where_nan], ixm[where_nan]]\n",
    "oldmean = mean.copy()\n",
    "meanc = mean.copy()\n",
    "tol = np.linspace(0.1, 10, 10000)\n",
    "\n",
    "print(np.nanmean(station_vals - meanc[iy, ix]))\n",
    "\n",
    "if np.nanmean(station_vals - meanc[iy, ix]) >= 0:\n",
    "    rmtols = np.array([np.mean(matched_df[station_dv] - (meanc[iy, ix]/t)) for t in tol])\n",
    "    best_tol = tol[np.where(np.diff(np.sign(rmtols)) != 0.)[0]]\n",
    "\n",
    "# if np.mean(matched_df[station_dv] - meanc[iy, ix]) < 0:\n",
    "#     rmtols = np.array([np.mean(matched_df[station_dv] + (meanc[iy, ix]/t)) for t in tol])\n",
    "#     best_tol = tol[np.where(np.diff(np.sign(rmtols)) != 0.)[0]]\n",
    "\n",
    "mean = meanc/best_tol\n",
    "print(best_tol, np.mean(matched_df[station_dv] - mean[iy, ix]))\n",
    "\n",
    "\n",
    "np.mean(station_vals - mean[iy, ix])\n",
    "# print(np.mean(matched_df[station_dv] - meanc[iy, ix]))\n",
    "# print(np.mean(matched_df[station_dv] - mean[iy, ix]))"
   ]
  },
  {
   "cell_type": "code",
   "execution_count": 10,
   "metadata": {},
   "outputs": [
    {
     "data": {
      "text/plain": [
       "<matplotlib.image.AxesImage at 0x7f57e9a1ff98>"
      ]
     },
     "execution_count": 10,
     "metadata": {},
     "output_type": "execute_result"
    },
    {
     "data": {
      "image/png": "[encoded data removed]",
      "text/plain": [
       "<Figure size 432x288 with 1 Axes>"
      ]
     },
     "metadata": {
      "needs_background": "light"
     },
     "output_type": "display_data"
    }
   ],
   "source": [
    "plt.imshow(mean, origin='lower')"
   ]
  },
  {
   "cell_type": "code",
   "execution_count": 11,
   "metadata": {},
   "outputs": [],
   "source": [
    "newmean = meanc/best_tol"
   ]
  },
  {
   "cell_type": "code",
   "execution_count": 12,
   "metadata": {},
   "outputs": [
    {
     "data": {
      "text/plain": [
       "<matplotlib.axes._subplots.AxesSubplot at 0x7f57e79702e8>"
      ]
     },
     "execution_count": 12,
     "metadata": {},
     "output_type": "execute_result"
    },
    {
     "data": {
      "image/png": "[encoded data removed]",
      "text/plain": [
       "<Figure size 432x288 with 1 Axes>"
      ]
     },
     "metadata": {
      "needs_background": "light"
     },
     "output_type": "display_data"
    }
   ],
   "source": [
    "sns.distplot(newmean[final_mask])\n",
    "sns.distplot(meanc[final_mask])"
   ]
  },
  {
   "cell_type": "code",
   "execution_count": 13,
   "metadata": {},
   "outputs": [],
   "source": [
    "assert np.sum(~np.isclose(rlon[iy_non_agg, ix_non_agg], df.rlon, atol=0.6)) < 6"
   ]
  },
  {
   "cell_type": "code",
   "execution_count": 14,
   "metadata": {},
   "outputs": [],
   "source": [
    "# subset of grid cells closest station locations\n",
    "X = np.stack([rlon[iy, ix], rlat[iy, ix], mean[iy, ix]]).T\n",
    "\n",
    "# full set of locations we wish to predict a value at\n",
    "Xf = np.stack([rlon[final_mask], rlat[final_mask], mean[final_mask]]).T"
   ]
  },
  {
   "cell_type": "code",
   "execution_count": 15,
   "metadata": {},
   "outputs": [],
   "source": [
    "# from sklearn.gaussian_process.kernels import ConstantKernel\n",
    "\n",
    "# C_0, rho, length_scale = [0.0762, 1.13, 129/2]"
   ]
  },
  {
   "cell_type": "code",
   "execution_count": 16,
   "metadata": {},
   "outputs": [],
   "source": [
    "# from sklearn.gaussian_process.kernels import WhiteKernel, ConstantKernel, RBF, RBFMOD\n",
    "# from sklearn.gaussian_process import GaussianProcessRegressor\n",
    "# from sklearn.model_selection import GridSearchCV\n",
    "\n",
    "# kernel = ConstantKernel(C_0)+ConstantKernel(rho)*RBFMOD(length_scale)\n",
    "# krig = GaussianProcessRegressor(alpha=5, random_state=0, kernel=kernel)    \n",
    "\n",
    "# # clf = GridSearchCV(krig, kernel)\n",
    "# krig.fit(X, station_vals)\n",
    "\n",
    "# # sorted(krig.cv_results_.keys())\n",
    "\n",
    "# krigfield = [krig.predict(Xf)]\n",
    "# # print(krig.kernel)\n",
    "\n",
    "# # plt.scatter(station_vals, squareize(krigfield[0])[iy, ix])\n",
    "# # np.sqrt(mean_squared_error(S[iy, ix], station_vals))"
   ]
  },
  {
   "cell_type": "code",
   "execution_count": 17,
   "metadata": {},
   "outputs": [],
   "source": [
    "ratio = station_vals/mean[iy, ix] #np.var(station_vals, mean[iy, ix])\n",
    "matched_df = matched_df.assign(ratio=ratio)\n",
    "def undo(x, mean):\n",
    "    return x*mean\n",
    "\n",
    "def undo_rho(x, mean, rho):\n",
    "    return ((np.ones(x.shape)-rho)+x)*mean\n",
    "\n",
    "assert np.any(~np.isnan(ratio))"
   ]
  },
  {
   "cell_type": "code",
   "execution_count": 18,
   "metadata": {},
   "outputs": [
    {
     "data": {
      "text/plain": [
       "<matplotlib.image.AxesImage at 0x7f57e781f240>"
      ]
     },
     "execution_count": 18,
     "metadata": {},
     "output_type": "execute_result"
    },
    {
     "data": {
      "image/png": "[encoded data removed]",
      "text/plain": [
       "<Figure size 432x288 with 1 Axes>"
      ]
     },
     "metadata": {
      "needs_background": "light"
     },
     "output_type": "display_data"
    }
   ],
   "source": [
    "plt.imshow(ds_mean[dv].values, origin='lower')"
   ]
  },
  {
   "cell_type": "code",
   "execution_count": 19,
   "metadata": {},
   "outputs": [],
   "source": [
    "# import numpy as np\n",
    "# from pykrige.rk import Krige\n",
    "# from pykrige.compat import GridSearchCV\n",
    "\n",
    "\n",
    "# # 2D Kring param opt\n",
    "\n",
    "# param_dict = {\n",
    "#     \"method\": [\"ordinary\"],\n",
    "#     \"variogram_model\": [\"linear\", \"power\", \"gaussian\", \"exponential\", \"spherical\"],\n",
    "#     # \"nlags\": [4, 6, 8],\n",
    "#     # \"weight\": [True, False]\n",
    "# }\n",
    "\n",
    "\n",
    "# estimator = GridSearchCV(Krige(), param_dict, verbose=True)\n",
    "\n",
    "# # dummy data\n",
    "\n",
    "# # run the gridsearch\n",
    "# X = np.stack([dfc.rlon, dfc.rlat]).T\n",
    "# y = dfc[station_dv]\n",
    "# estimator.fit(X=X, y=y)\n",
    "\n",
    "\n",
    "# if hasattr(estimator, \"best_score_\"):\n",
    "#     print(\"best_score R² = {:.3f}\".format(estimator.best_score_))\n",
    "#     print(\"best_params = \", estimator.best_params_)\n",
    "\n",
    "# print(\"\\nCV results::\")\n",
    "# if hasattr(estimator, \"cv_results_\"):\n",
    "#     for key in [\n",
    "#         \"mean_test_score\",\n",
    "#         \"mean_train_score\",\n",
    "#         \"param_method\",\n",
    "#         \"param_variogram_model\",\n",
    "#     ]:\n",
    "#         print(\" - {} : {}\".format(key, estimator.cv_results_[key]))\n",
    "\n",
    "# from pykrige.ok import OrdinaryKriging\n",
    "\n",
    "# okie = OrdinaryKriging(matched_df.rlon, matched_df.rlat, matched_df[station_dv], variogram_model='exponential', exact_values=False, coordinates_type = \"geographic\")\n",
    "# krigfield = okie.execute('points', rlon[final_mask], rlat[final_mask])\n",
    "# okie.display_variogram_model()\n",
    "# print(okie.variogram_model_parameters)\n",
    "\n",
    "# S = mean.copy()\n",
    "# S[final_mask] = krigfield[0]\n",
    "# S[~final_mask] = np.nan\n",
    "# plt.imshow(S)"
   ]
  },
  {
   "cell_type": "code",
   "execution_count": 20,
   "metadata": {},
   "outputs": [],
   "source": [
    "# plt.scatter(S[iy, ix], matched_df[station_dv])\n",
    "# plt.plot(S[iy, ix],S[iy, ix], color='red')"
   ]
  },
  {
   "cell_type": "code",
   "execution_count": 21,
   "metadata": {},
   "outputs": [
    {
     "ename": "TypeError",
     "evalue": "__init__() got an unexpected keyword argument 'exact_values'",
     "output_type": "error",
     "traceback": [
      "\u001b[0;31m---------------------------------------------------------------------------\u001b[0m",
      "\u001b[0;31mTypeError\u001b[0m                                 Traceback (most recent call last)",
      "\u001b[0;32m<ipython-input-21-0c61e6791fef>\u001b[0m in \u001b[0;36m<module>\u001b[0;34m\u001b[0m\n\u001b[1;32m     31\u001b[0m uk = OrdinaryKriging(\n\u001b[1;32m     32\u001b[0m     \u001b[0mxs\u001b[0m\u001b[0;34m,\u001b[0m \u001b[0mys\u001b[0m\u001b[0;34m,\u001b[0m \u001b[0mz_sample\u001b[0m\u001b[0;34m,\u001b[0m \u001b[0mvariogram_model\u001b[0m\u001b[0;34m=\u001b[0m\u001b[0;34m\"custom\"\u001b[0m\u001b[0;34m,\u001b[0m\u001b[0;34m\u001b[0m\u001b[0;34m\u001b[0m\u001b[0m\n\u001b[0;32m---> 33\u001b[0;31m     \u001b[0mexact_values\u001b[0m\u001b[0;34m=\u001b[0m\u001b[0;32mFalse\u001b[0m\u001b[0;34m,\u001b[0m \u001b[0mvariogram_function\u001b[0m\u001b[0;34m=\u001b[0m\u001b[0mexpvar\u001b[0m\u001b[0;34m,\u001b[0m \u001b[0mvariogram_parameters\u001b[0m\u001b[0;34m=\u001b[0m\u001b[0;34m[\u001b[0m\u001b[0msill\u001b[0m\u001b[0;34m,\u001b[0m \u001b[0mr\u001b[0m\u001b[0;34m,\u001b[0m \u001b[0mnugget\u001b[0m\u001b[0;34m]\u001b[0m\u001b[0;34m\u001b[0m\u001b[0;34m\u001b[0m\u001b[0m\n\u001b[0m\u001b[1;32m     34\u001b[0m )\n\u001b[1;32m     35\u001b[0m \u001b[0my_pred\u001b[0m\u001b[0;34m,\u001b[0m \u001b[0my_std\u001b[0m \u001b[0;34m=\u001b[0m \u001b[0muk\u001b[0m\u001b[0;34m.\u001b[0m\u001b[0mexecute\u001b[0m\u001b[0;34m(\u001b[0m\u001b[0;34m'points'\u001b[0m\u001b[0;34m,\u001b[0m \u001b[0mxn\u001b[0m\u001b[0;34m,\u001b[0m \u001b[0myn\u001b[0m\u001b[0;34m,\u001b[0m \u001b[0mbackend\u001b[0m\u001b[0;34m=\u001b[0m\u001b[0;34m\"loop\"\u001b[0m\u001b[0;34m)\u001b[0m\u001b[0;34m\u001b[0m\u001b[0;34m\u001b[0m\u001b[0m\n",
      "\u001b[0;31mTypeError\u001b[0m: __init__() got an unexpected keyword argument 'exact_values'"
     ]
    }
   ],
   "source": [
    "import matplotlib.pyplot as plt\n",
    "import random\n",
    "import climpyrical.spytialProcess as sp\n",
    "from climpyrical.gridding import *\n",
    "import numpy as np\n",
    "from pykrige.ok import OrdinaryKriging\n",
    "\n",
    "def expvar(params, x):\n",
    "    s, r, n = params\n",
    "    return n+s*(1.0-np.exp(-x/r))\n",
    "\n",
    "n = 100\n",
    "x = np.linspace(-2.5, 5, n)\n",
    "y = np.linspace(-2.5, 5, n)\n",
    "random.seed(47)\n",
    "i, j = random.sample(range(x.size),n), random.sample(range(x.size),n)\n",
    "\n",
    "xx, yy = np.meshgrid(x, y)\n",
    "d = np.sqrt(xx*xx+yy*yy)\n",
    "sigma, mu = 1.0, 0.0\n",
    "z = np.exp(-( (d-mu)**2 / ( 2.0 * sigma**2 ) ) )\n",
    "z_sample = z[j, i]\n",
    "xs, ys = xx[j, i], yy[j, i]\n",
    "\n",
    "xn, yn = flatten_coords(x, y)\n",
    "\n",
    "zpred, x1, y1, cov = sp.fit(np.stack([xs, ys]), z_sample, x.size, y.size)\n",
    "nugget, sill, r = cov['sigma.MLE'][0]**2, cov['rho.MLE'][0], cov['theta.MLE'][0]\n",
    "nanmask = ~np.isnan(zpred)\n",
    "\n",
    "uk = OrdinaryKriging(\n",
    "    xs, ys, z_sample, variogram_model=\"custom\", \n",
    "    exact_values=False, variogram_function=expvar, variogram_parameters=[sill, r, nugget]\n",
    ")\n",
    "y_pred, y_std = uk.execute('points', xn, yn, backend=\"loop\")\n",
    "y_pred = y_pred.reshape(z.shape)\n",
    "from matplotlib import rc\n",
    "\n",
    "fig, ax = plt.subplots(2, 2, figsize=(15, 15))\n",
    "rc('text', usetex=True)\n",
    "\n",
    "ax[0,0].imshow(y_pred, origin='lower', label='PyKrige', extent=[xs.min(), xs.max(), ys.min(), ys.max()])\n",
    "ax[0,0].set_title(\"PyKrige\")\n",
    "ax[0,0].scatter(xs, ys, marker='s', s=80, facecolors='none', edgecolors='black', label='Sample')\n",
    "ax[0,0].legend()\n",
    "\n",
    "ax[1,0].imshow(z, vmin=0, vmax=1, origin='lower', extent=[xs.min(), xs.max(), ys.min(), ys.max()])\n",
    "ax[1,0].set_title(\"2D Gaussian $e^{\\\\frac{-(d-\\\\mu)^2}{2\\\\sigma^2}}$ Reference Field\")\n",
    "ax[1,0].scatter(xs, ys, marker='s', s=80, facecolors='none', edgecolors='black', label='Sample')\n",
    "ax[1,0].legend()\n",
    "\n",
    "ax[0,1].imshow(zpred.T, origin='lower', label='spatialProcess', extent=[xs.min(), xs.max(), ys.min(), ys.max()])\n",
    "ax[0,1].set_title(\"spatialProcess R\")\n",
    "ax[0,1].scatter(xs, ys, marker='s', s=80, facecolors='none', edgecolors='black', label='Sample')\n",
    "ax[0,1].legend()\n",
    "\n",
    "ax[1,1].scatter(y_pred.T[nanmask].flatten(), zpred[nanmask].flatten(), marker='s',facecolors='none', edgecolors='black', label='All Prediction Points')\n",
    "ax[1,1].set_xlabel('PyKrige Prediction')\n",
    "ax[1,1].set_ylabel('R, spatialProcess Prediction')\n",
    "ax[1,1].scatter(y_pred.T[j, i].flatten(), zpred[j, i].flatten(), marker='o', color='orange', label='Prediction of Sample Points')\n",
    "ax[1,1].plot(y_pred.T[j, i].flatten(), y_pred.T[j, i].flatten(), '--', color='red', label='y = x')\n",
    "ax[1,1].legend()\n",
    "\n",
    "plt.savefig('spatialProcess_vs_PyKrige_modified')"
   ]
  },
  {
   "cell_type": "code",
   "execution_count": null,
   "metadata": {},
   "outputs": [],
   "source": [
    "# assert_allclose(y_pred.T[nanmask], zpred[nanmask])\n",
    "\n",
    "# assert_allclose(y_pred.T[nanmask].flatten(), zpred[nanmask].flatten(), atol=0.005)\n",
    "fig, ax = plt.subplots(1, 3, figsize=(17, 10))\n",
    "col = ax[0].imshow(z, vmin=0, vmax=1, origin='lower', extent=[xs.min(), xs.max(), ys.min(), ys.max()])\n",
    "ax[0].set_title(\"2D Gaussian $e^{\\\\frac{-(d-\\\\mu)^2}{2\\\\sigma^2}}$ Reference Field\")\n",
    "ax[0].scatter(xs, ys, marker='s', s=80, facecolors='none', edgecolors='black', label='Sample')\n",
    "ax[0].legend()\n",
    "plt.colorbar(col, ax=ax[0], fraction=0.045)\n",
    "\n",
    "empty = np.empty(z.shape)\n",
    "empty[:] = np.nan\n",
    "\n",
    "cbar = ax[1].imshow(empty, origin='lower', vmin=0, vmax=1, extent=[xs.min(), xs.max(), ys.min(), ys.max()])\n",
    "ax[1].set_title(\"2D Gaussian $e^{\\\\frac{-(d-\\\\mu)^2}{2\\\\sigma^2}}$ Reference Sample\")\n",
    "ax[1].scatter(xs, ys, marker='s', s=80, facecolors='none', c=z_sample, edgecolors='black', label='Sample')\n",
    "ax[1].legend()\n",
    "plt.colorbar(cbar, ax = ax[1], fraction=0.045)\n",
    "\n",
    "col_res = ax[2].imshow(np.abs(np.subtract(y_pred.T, zpred)).T, vmin=0, vmax=.001, origin='lower', extent=[xs.min(), xs.max(), ys.min(), ys.max()])\n",
    "ax[2].set_title('$\\mid$ R spatialProcess - PyKrige $\\mid$ Residuals')\n",
    "ax[2].scatter(xs, ys, marker='s', s=80, facecolors='none', edgecolors='black', label='Sample')\n",
    "ax[2].legend()\n",
    "plt.colorbar(col_res, ax=ax[2], fraction=0.045)\n",
    "\n",
    "plt.savefig('residual_pykrige_spatialProcess')\n",
    "# plt.imshow(np.corrcoef(y_pred.T, zpred), vmin=0.9, vmax=1)"
   ]
  },
  {
   "cell_type": "code",
   "execution_count": null,
   "metadata": {},
   "outputs": [],
   "source": [
    "plt.imshow(y_pred/zpred)"
   ]
  },
  {
   "cell_type": "code",
   "execution_count": null,
   "metadata": {},
   "outputs": [],
   "source": [
    "y_pred[~np.isnan(zpred)].flatten(), zpred[~np.isnan(zpred)].flatten()"
   ]
  },
  {
   "cell_type": "code",
   "execution_count": null,
   "metadata": {},
   "outputs": [],
   "source": [
    "# !cd \"/home/nannau/06172020/climpyrical/\"; bash r_install.sh\n",
    "from rpy2.robjects.packages import importr\n",
    "\n",
    "importr(\"fields\")#, lib_loc=\"../../r-library/fields/\")\n",
    "# importr(\"sp\", lib_loc=\"../../r-library/sp/\")\n",
    "# importr(\"gstat\", lib_loc=\"../../r-library/gstat/\")\n",
    "# importr(\"geoR\", lib_loc=\"../../r-library/geoR/\")"
   ]
  },
  {
   "cell_type": "code",
   "execution_count": null,
   "metadata": {},
   "outputs": [],
   "source": [
    "dfc = matched_df.copy()"
   ]
  },
  {
   "cell_type": "code",
   "execution_count": null,
   "metadata": {},
   "outputs": [],
   "source": [
    "from shapely.geometry import Point, Polygon\n",
    "import climpyrical.spytialProcess as sp\n",
    "\n",
    "pairs = {\n",
    "    'north': {\n",
    "        'x1': -90,\n",
    "        'x2': -50,\n",
    "        'y1': 40,\n",
    "        'y2': 60\n",
    "    },\n",
    "    'east': {\n",
    "        'x1': -140,\n",
    "        'x2': -100,\n",
    "        'y1': 55,\n",
    "        'y2': 80\n",
    "    },\n",
    "    'west': {\n",
    "        'x1': -140,\n",
    "        'x2': -90,\n",
    "        'y1': 48,\n",
    "        'y2': 60\n",
    "    }\n",
    "    \n",
    "}\n",
    "\n",
    "Z = mean.copy()\n",
    "Z_py = mean.copy()\n",
    "Z_py[...] = np.nan\n",
    "Z[...] = np.nan\n",
    "\n",
    "# for key in pairs:\n",
    "key = 'north'\n",
    "lon1, lon2 = pairs[key]['x1'], pairs[key]['x2']\n",
    "lat1, lat2 = pairs[key]['y1'], pairs[key]['y2']\n",
    "\n",
    "dfc = matched_df.copy()\n",
    "\n",
    "dfc = dfc.assign(ratio = ratio)\n",
    "\n",
    "region_cond = ((dfc.lon > lon1) & (dfc.lon < lon2) & (dfc.lat > lat1) & (dfc.lat < lat2))\n",
    "region_cond_df = ((df.lon > lon1) & (df.lon < lon2) & (df.lat > lat1) & (df.lat < lat2))\n",
    "\n",
    "dfc = dfc[region_cond]\n",
    "\n",
    "p1 = (dfc.rlon.min(), dfc.rlat.min())\n",
    "p2 = (dfc.rlon.max(), dfc.rlat.min())\n",
    "p3 = (dfc.rlon.max(), dfc.rlat.max())\n",
    "p4 = (dfc.rlon.min(), dfc.rlat.max())\n",
    "\n",
    "l, rside = find_nearest_index(ds.rlon.values, dfc.rlon.min()), find_nearest_index(ds.rlon.values, dfc.rlon.max())\n",
    "l, r = find_nearest_index(ds.rlon.values, dfc.rlon.min()), find_nearest_index(ds.rlon.values, dfc.rlon.max())\n",
    "\n",
    "u, lw = find_nearest_index(ds.rlat.values, dfc.rlat.min()), find_nearest_index(ds.rlat.values, dfc.rlat.max())\n",
    "\n",
    "final_mask_c = final_mask.copy()\n",
    "region = final_mask.copy() \n",
    "region[...] = False\n",
    "region[u:lw, l:r] = True\n",
    "\n",
    "\n",
    "# If True, keep station locations in the mask\n",
    "final_mask_c[iy, ix] = True\n",
    "# combine region mask and land mask\n",
    "region = np.logical_and(final_mask_c, region)\n",
    "region[dfc.ilocy, dfc.ilocx] = True\n",
    "\n",
    "latlon = np.stack([dfc.rlon, dfc.rlat])\n",
    "#     stats = dfc['ratio'].values\n",
    "stats = dfc[station_dv].values\n",
    "\n",
    "ylim = lw-u\n",
    "xlim = r-l\n",
    "z, x, y, cov = sp.fit(latlon, stats, xlim, ylim)\n",
    "\n",
    "#     okie = OrdinaryKriging(dfc.rlon, dfc.rlat, stats, variogram_model='exponential', exact_values=False, coordinates_type = \"geographic\")\n",
    "#     krigfield = okie.execute('points', rlon[region], rlat[region])[0]\n",
    "\n",
    "Z[u:lw, l:rside] = z.T#*mean[u:lw, l:rside]\n",
    "#     Z_py[region] = krigfield\n"
   ]
  },
  {
   "cell_type": "code",
   "execution_count": null,
   "metadata": {},
   "outputs": [],
   "source": [
    "plt.scatter(dfc.rlon, dfc.rlat)"
   ]
  },
  {
   "cell_type": "code",
   "execution_count": null,
   "metadata": {},
   "outputs": [],
   "source": [
    "# print(cov.keys())\n",
    "nugget, sill, r = cov['sigma.MLE'][0]**2, cov['rho.MLE'][0], cov['theta.MLE'][0]"
   ]
  },
  {
   "cell_type": "code",
   "execution_count": null,
   "metadata": {},
   "outputs": [],
   "source": [
    "nugget, sill, r, cov['N'][0], cov['cov.function.name'][0]"
   ]
  },
  {
   "cell_type": "code",
   "execution_count": null,
   "metadata": {},
   "outputs": [],
   "source": [
    "cov.keys()\n",
    "cov['lnProfileLike.FULL']"
   ]
  },
  {
   "cell_type": "code",
   "execution_count": null,
   "metadata": {},
   "outputs": [],
   "source": [
    "# from skgstat import Variogram\n",
    "# V = Variogram(latlon.T, stats, normalize=False, n_lags=30)\n",
    "# x = np.linspace(0, 25.0)\n",
    "# def exp(nugget, sill, r, x):\n",
    "#     return nugget + sill*(1.-np.exp(-x/r))\n",
    "# V.plot()\n",
    "# plt.show()\n",
    "# plt.plot(x, exp(nugget, sill, r, x))\n",
    "# plt.show()"
   ]
  },
  {
   "cell_type": "code",
   "execution_count": null,
   "metadata": {},
   "outputs": [],
   "source": [
    "import matplotlib\n",
    "\n",
    "from sklearn.cluster import DBSCAN, KMeans\n",
    "from sklearn.preprocessing import StandardScaler\n",
    "from sklearn.neighbors import KDTree\n",
    "\n",
    "std = StandardScaler() \n",
    "N = 10\n",
    "db = KMeans(n_clusters=N)\n",
    "# db = DBSCAN(eps=0.2, min_samples=30, metric='haversine')\n",
    "\n",
    "X = np.stack([matched_df.rlon, matched_df.rlat])\n",
    "# X\n",
    "X = std.fit_transform(X.T)\n",
    "db.fit(X)\n",
    "\n",
    "db.labels_.shape, matched_df.shape[0]\n",
    "\n",
    "matched_df = matched_df.assign(label = db.labels_)\n",
    "\n",
    "# sns.distplot(db.labels_, kde=False)\n",
    "\n",
    "ccenters = std.inverse_transform(db.cluster_centers_)\n",
    "xcenter, ycenter = ccenters[:, 0], ccenters[:, 1]\n",
    "\n",
    "from shapely import geometry\n",
    "\n",
    "X_distances = np.stack([matched_df.rlon.values, matched_df.rlat.values])\n",
    "# dfc = matched_df.copy()\n",
    "\n",
    "Zl = []"
   ]
  },
  {
   "cell_type": "code",
   "execution_count": null,
   "metadata": {},
   "outputs": [],
   "source": [
    "latlon = np.stack([dfc.rlon, dfc.rlat]).T\n",
    "# stats = dfc[station_dv].values\n",
    "box=5\n",
    "\n",
    "from sklearn.neighbors import NearestNeighbors\n",
    "nbrs = NearestNeighbors(n_neighbors=35, metric='euclidean').fit(X_distances.T)\n",
    "dist, ind = nbrs.kneighbors(X_distances.T)\n",
    "\n",
    "# tree = KDTree(X_distances.T, leaf_size=2)\n",
    "# dist, ind = tree.query(X_distances.T, k=35)"
   ]
  },
  {
   "cell_type": "code",
   "execution_count": null,
   "metadata": {},
   "outputs": [],
   "source": [
    "ind.shape\n",
    "from climpyrical.spytialProcess import *"
   ]
  },
  {
   "cell_type": "code",
   "execution_count": null,
   "metadata": {},
   "outputs": [],
   "source": [
    "# from scipy.spatial.distance import cdist\n",
    "# alpha = 1.0\n",
    "# d_arr = np.exp(-alpha*cdist(np.stack([matched_df.rlon.values, matched_df.rlat.values]).T, np.stack([rlon.flatten(), rlat.flatten()]).T))\n",
    "# d_arr = d_arr/np.amax(d_arr, axis=0)\n",
    "# d_arr = d_arr.reshape((d_arr.shape[0], mean.shape[0], mean.shape[1]))"
   ]
  },
  {
   "cell_type": "code",
   "execution_count": null,
   "metadata": {},
   "outputs": [],
   "source": [
    "import warnings\n",
    "warnings.filterwarnings('ignore')\n",
    "warnings.simplefilter('ignore')"
   ]
  },
  {
   "cell_type": "code",
   "execution_count": null,
   "metadata": {},
   "outputs": [],
   "source": [
    "cov.keys()\n",
    "np.mean(cov['trA.info'])"
   ]
  },
  {
   "cell_type": "code",
   "execution_count": null,
   "metadata": {},
   "outputs": [],
   "source": [
    "# plt.scatter(dfc.rlon.values[ind[120]], dfc.rlat.values[ind[120]])\n",
    "# dfc = dfc[(dfc.rlon < -5) & (dfc.rlon > -15)& (dfc.rlat > 15) & (dfc.rlat < 25)]\n",
    "\n",
    "okie = OrdinaryKriging(matched_df.rlon, matched_df.rlat, matched_df[station_dv], variogram_model='exponential', coordinates_type = \"geographic\", exact_values=False)\n",
    "krigfield_mv_window = okie.execute('points', rlon.flatten(), rlat.flatten(), backend='loop', n_closest_points=35)\n",
    "krigfield = okie.execute('points', rlon.flatten(), rlat.flatten(), backend='loop')\n",
    "\n",
    "# okie.display_variogram_model()\n",
    "# print(okie.variogram_model_parameters)\n"
   ]
  },
  {
   "cell_type": "code",
   "execution_count": null,
   "metadata": {},
   "outputs": [],
   "source": [
    "plt.imshow(krigfield[0].reshape(mean.shape), origin='lower')\n",
    "plt.show()\n",
    "plt.imshow(krigfield_mv_window[0].reshape(mean.shape), origin='lower')"
   ]
  },
  {
   "cell_type": "code",
   "execution_count": null,
   "metadata": {},
   "outputs": [],
   "source": [
    "matched_df.iloc[10:20]"
   ]
  },
  {
   "cell_type": "code",
   "execution_count": null,
   "metadata": {},
   "outputs": [],
   "source": [
    "matched_df.shape, df.shape"
   ]
  },
  {
   "cell_type": "code",
   "execution_count": null,
   "metadata": {},
   "outputs": [],
   "source": [
    "plt.imshow(mean)"
   ]
  },
  {
   "cell_type": "code",
   "execution_count": null,
   "metadata": {},
   "outputs": [],
   "source": [
    "i_to_drop = []\n",
    "i_of_drop = []\n",
    "Zl = []\n",
    "Zl_r = []\n",
    "# dfc = matched_df.copy()\n",
    "# matched_df_region = dfc.copy()\n",
    "# dfc = matched_df_region.copy()\n",
    "dfc = matched_df.copy()\n",
    "\n",
    "from sklearn.neighbors import NearestNeighbors\n",
    "# nbrs = NearestNeighbors(n_neighbors=35, metric='euclidean').fit(X_distances.T)\n",
    "# dist, ind = nbrs.kneighbors(X_distances.T)\n",
    "\n",
    "loglike = []\n",
    "reml = []\n",
    "rmse = []\n",
    "function_name = []\n",
    "\n",
    "xc, yc = -10, 17.5\n",
    "# i = 454\n",
    "i = 0 \n",
    "# i = 40\n",
    "print(\"LON, LAT\", df.lon[i], df.lat[i])\n",
    "\n",
    "per_station_loglike = []\n",
    "\n",
    "nneighs = np.arange(35, dfc.shape[0])\n",
    "\n",
    "nug_arr = []\n",
    "pykrige_variogram_parameters = []\n",
    "\n",
    "# Three conditions to meet:\n",
    "\n",
    "# 1.) At least 35 stations in a window [x]\n",
    "# 2.) Minimum area must be 5x5 grid [x]\n",
    "# 3.) Windows can not have greater than 50% coverage of any other window [x]\n",
    "\n",
    "area = np.zeros(mean.shape)\n",
    "X_distances = np.stack([dfc.rlon.values, dfc.rlat.values])\n",
    "N = dfc.values.shape[0]\n",
    "\n",
    "# for i in np.arange(N):\n",
    "#     nn = 40\n",
    "#     nbrs = NearestNeighbors(n_neighbors=nn, metric='euclidean').fit(X_distances.T)\n",
    "#     dist, ind = nbrs.kneighbors(X_distances.T)\n",
    "#     temp_df = dfc.iloc[ind[i]]\n",
    "\n",
    "#     xmin, xmax = temp_df.rlon.min(), temp_df.rlon.max()\n",
    "#     ymin, ymax = temp_df.rlat.min(), temp_df.rlat.max()\n",
    "\n",
    "#     latlon = np.stack([temp_df.rlon, temp_df.rlat])\n",
    "# #     stats = temp_df[station_dv]\n",
    "#     stats = temp_df.ratio\n",
    "\n",
    "#     lw, u = find_nearest_index(ds_mean.rlat.values, ymin), find_nearest_index(ds_mean.rlat.values, ymax)\n",
    "#     l, r = find_nearest_index(ds_mean.rlon.values, xmin), find_nearest_index(ds_mean.rlon.values, xmax)\n",
    "#     ylim = u-lw\n",
    "#     xlim = r-l\n",
    "\n",
    "#     try:\n",
    "#         z, x, y, cov = sp.fit(latlon, stats, xlim, ylim)\n",
    "\n",
    "#         final = mean.copy()\n",
    "#         final[:, :] = np.nan\n",
    "#         final[lw:u, l:r] = z.T#*mean[lw:u, l:r]\n",
    "#         nanmask = ~np.isnan(final)\n",
    "#     except:\n",
    "#         pass\n",
    "    \n",
    "#     # increase neighbours until area condition is met\n",
    "#     # the nearest stations must be >= 35 in all cases\n",
    "#     while np.sum(nanmask) < (3*5)**2:\n",
    "#         nn += 1\n",
    "#         nbrs = NearestNeighbors(n_neighbors=nn, metric='euclidean').fit(X_distances.T)\n",
    "#         dist, ind = nbrs.kneighbors(X_distances.T)\n",
    "\n",
    "#         temp_df = dfc.iloc[ind[i]]\n",
    "\n",
    "#         xmin, xmax = temp_df.rlon.min(), temp_df.rlon.max()\n",
    "#         ymin, ymax = temp_df.rlat.min(), temp_df.rlat.max()\n",
    "\n",
    "#         latlon = np.stack([temp_df.rlon, temp_df.rlat])\n",
    "# #         stats = temp_df[station_dv]\n",
    "#         stats = temp_df.ratio\n",
    "\n",
    "#         lw, u = find_nearest_index(ds_mean.rlat.values, ymin), find_nearest_index(ds_mean.rlat.values, ymax)\n",
    "#         l, r = find_nearest_index(ds_mean.rlon.values, xmin), find_nearest_index(ds_mean.rlon.values, xmax)\n",
    "#         ylim = u-lw\n",
    "#         xlim = r-l\n",
    "#         try:\n",
    "#             z, x, y, cov = sp.fit(latlon, stats, xlim, ylim)\n",
    "\n",
    "#             final = mean.copy()\n",
    "#             final[:, :] = np.nan\n",
    "#             final[lw:u, l:r] = z.T#*mean[lw:u, l:r]\n",
    "#             nanmask = ~np.isnan(final)\n",
    "#         except:\n",
    "#             pass\n",
    "# #         print(\"Increase the area\")\n",
    "\n",
    "\n",
    "# #     area[lw:u, l:r] += 1.0\n",
    "#     area[nanmask] += 1.0\n",
    "#     # field already has kriged values in it? If so, where, True?\n",
    "# #     n_tot = ylim*xlim\n",
    "#     n_tot = np.sum(nanmask)\n",
    "#     n_sum = np.sum(\n",
    "# #                 area[lw:u, l:r] > 1.0\n",
    "#                   area[nanmask] > 1.0\n",
    "#             )\n",
    "\n",
    "#     if float(n_sum)/n_tot >= 0.85:\n",
    "#         area[lw:u, l:r] -= 1.0\n",
    "#         continue\n",
    "        \n",
    "#     try:\n",
    "#         z, x, y, cov = sp.fit(latlon, stats, xlim, ylim)\n",
    "#         reml.append(np.sqrt(np.mean(np.array(cov['residuals'])**2)))\n",
    "\n",
    "#         nugget, sill, range_r = cov['sigma.MLE'][0]**2, cov['rho.MLE'][0], cov['theta.MLE'][0]\n",
    "#         function_name.append(cov['cov.function.name'][0])\n",
    "#         nug_arr.append(nugget)\n",
    "\n",
    "#         final = mean.copy()\n",
    "#         final[:, :] = np.nan\n",
    "#         final[lw:u, l:r] = z.T*mean[lw:u, l:r]\n",
    "#         rmse.append(np.sqrt(np.nanmean(np.subtract(final[temp_df.ilocy, temp_df.ilocx], temp_df[station_dv])**2)))\n",
    "#         Zl.append(final)\n",
    "\n",
    "#     except:\n",
    "# #         print(\"failure\")\n",
    "#         pass\n",
    "# Zl = np.array(Zl)\n",
    "from scipy.spatial import ConvexHull\n",
    "\n",
    "dA = (np.amax(ds_mean.rlon.values)-np.amin(ds_mean.rlon.values))/ds_mean.rlon.size\n",
    "\n",
    "print(dA)\n",
    "\n",
    "for i in np.arange(N):\n",
    "    nn = 35\n",
    "    nbrs = NearestNeighbors(n_neighbors=nn, metric='euclidean').fit(X_distances.T)\n",
    "    dist, ind = nbrs.kneighbors(X_distances.T)\n",
    "    temp_df = dfc.iloc[ind[i]]\n",
    "\n",
    "    xmin, xmax = temp_df.rlon.min(), temp_df.rlon.max()\n",
    "    ymin, ymax = temp_df.rlat.min(), temp_df.rlat.max()\n",
    "\n",
    "    latlon = np.stack([temp_df.rlon, temp_df.rlat])\n",
    "    stats = temp_df[station_dv]\n",
    "    stats_rat = temp_df.ratio\n",
    "\n",
    "    lw, u = find_nearest_index(ds_mean.rlat.values, ymin), find_nearest_index(ds_mean.rlat.values, ymax)\n",
    "    l, r = find_nearest_index(ds_mean.rlon.values, xmin), find_nearest_index(ds_mean.rlon.values, xmax)\n",
    "    ylim = u-lw\n",
    "    xlim = r-l\n",
    "\n",
    "    hull = ConvexHull(points=latlon.T)\n",
    "    \n",
    "    # increase neighbours until area condition is met\n",
    "    # the nearest stations must be >= 35 in all cases\n",
    "    while hull.area < (dA**2)*(3*5)**2:\n",
    "        nn += 1\n",
    "        nbrs = NearestNeighbors(n_neighbors=nn, metric='euclidean').fit(X_distances.T)\n",
    "        dist, ind = nbrs.kneighbors(X_distances.T)\n",
    "\n",
    "        temp_df = dfc.iloc[ind[i]]\n",
    "\n",
    "        xmin, xmax = temp_df.rlon.min(), temp_df.rlon.max()\n",
    "        ymin, ymax = temp_df.rlat.min(), temp_df.rlat.max()\n",
    "\n",
    "        latlon = np.stack([temp_df.rlon, temp_df.rlat])\n",
    "        \n",
    "        hull = ConvexHull(points=latlon.T)\n",
    "\n",
    "        stats = temp_df[station_dv]\n",
    "        stats_rat = temp_df.ratio\n",
    "\n",
    "        lw, u = find_nearest_index(ds_mean.rlat.values, ymin), find_nearest_index(ds_mean.rlat.values, ymax)\n",
    "        l, r = find_nearest_index(ds_mean.rlon.values, xmin), find_nearest_index(ds_mean.rlon.values, xmax)\n",
    "        ylim = u-lw\n",
    "        xlim = r-l\n",
    "\n",
    "#         print(\"Increase the area\")\n",
    "\n",
    "    try:\n",
    "        z, x, y, cov = sp.fit(latlon, stats, xlim, ylim)\n",
    "        zrat, x, y, cov = sp.fit(latlon, stats_rat, xlim, ylim)\n",
    "#         reml.append(np.sqrt(np.mean(np.array(cov['residuals'])**2)))\n",
    "\n",
    "#         nugget, sill, range_r = cov['sigma.MLE'][0]**2, cov['rho.MLE'][0], cov['theta.MLE'][0]\n",
    "#         function_name.append(cov['cov.function.name'][0])\n",
    "#         nug_arr.append(nugget)\n",
    "\n",
    "        final = mean.copy()\n",
    "        final[:, :] = np.nan\n",
    "        final_r = final.copy()\n",
    "        final[lw:u, l:r] = z.T#*mean[lw:u, l:r]\n",
    "        final_r[lw:u, l:r] = zrat.T#*mean[lw:u, l:r]\n",
    "        nanmask = ~np.isnan(final)\n",
    "        nanmask_r = ~np.isnan(final_r)\n",
    "\n",
    "        \n",
    "        area[nanmask] += 1.0\n",
    "\n",
    "        # field already has kriged values in it? If so, where, True?\n",
    "        n_tot = np.sum(nanmask)\n",
    "        n_sum = np.sum(\n",
    "                      area[nanmask] > 1.0\n",
    "                )\n",
    "\n",
    "        if float(n_sum)/n_tot >= 0.5:\n",
    "            area[lw:u, l:r] -= 1.0\n",
    "        else:\n",
    "            Zl.append(final)\n",
    "            Zl_r.append(final_r)\n",
    "\n",
    "    except:\n",
    "        pass\n",
    "\n",
    "Zl = np.array(Zl)\n",
    "Zl_r = np.array(Zl_r)"
   ]
  },
  {
   "cell_type": "code",
   "execution_count": null,
   "metadata": {},
   "outputs": [],
   "source": [
    "dfc.shape"
   ]
  },
  {
   "cell_type": "code",
   "execution_count": null,
   "metadata": {},
   "outputs": [],
   "source": [
    "Zl.shape"
   ]
  },
  {
   "cell_type": "code",
   "execution_count": null,
   "metadata": {},
   "outputs": [],
   "source": [
    "canada = gpd.read_file('../../climpyrical/tests/data/canada.geojson')\n",
    "canada = rotate_shapefile(canada.geometry)\n",
    "\n",
    "fig, ax = plt.subplots(figsize=(10,10))\n",
    "for im in Zl:\n",
    "    extent=[ds_mean.rlon.min(), ds_mean.rlon.max(), ds_mean.rlat.min(), ds_mean.rlat.max()]\n",
    "    ax.imshow(im, origin='lower', alpha=0.5, extent=extent)\n",
    "canada.plot(ax = ax, zorder = 0, color='grey')\n",
    "plt.xlabel('rlon')\n",
    "plt.ylabel('rlat')\n",
    "plt.ylim(-8, 40)\n",
    "# plt.savefig(\"overlapping_regions\")\n",
    "plt.show()"
   ]
  },
  {
   "cell_type": "code",
   "execution_count": null,
   "metadata": {},
   "outputs": [],
   "source": [
    "fig, ax = plt.subplots(figsize=(10,10))\n",
    "for im in Zl_r:\n",
    "    extent=[ds_mean.rlon.min(), ds_mean.rlon.max(), ds_mean.rlat.min(), ds_mean.rlat.max()]\n",
    "    ax.imshow(im, origin='lower', alpha=0.5, extent=extent)\n",
    "canada.plot(ax = ax, zorder = 0, color='grey')\n",
    "plt.xlabel('rlon')\n",
    "plt.ylabel('rlat')\n",
    "plt.ylim(-8, 40)\n",
    "# plt.savefig(\"overlapping_regions\")\n",
    "plt.show()"
   ]
  },
  {
   "cell_type": "code",
   "execution_count": null,
   "metadata": {},
   "outputs": [],
   "source": [
    "canada = gpd.read_file('../../climpyrical/tests/data/canada.geojson')\n",
    "canada = rotate_shapefile(canada.geometry)\n",
    "\n",
    "fig, ax = plt.subplots(figsize=(10,10))\n",
    "# for im in Zl:\n",
    "extent=[ds_mean.rlon.min(), ds_mean.rlon.max(), ds_mean.rlat.min(), ds_mean.rlat.max()]\n",
    "col = ax.imshow(np.nanmean(Zl, axis=0), origin='lower', extent=extent, vmin=0, vmax=12.75)\n",
    "canada.plot(ax = ax, zorder = 0, color='grey')\n",
    "# plt.scatter(dfc.rlon, dfc.rlat)\n",
    "plt.xlabel('rlon')\n",
    "plt.ylabel('rlat')\n",
    "plt.ylim(-8, 40)\n",
    "plt.colorbar(col, pad=0.03, fraction=0.033)\n",
    "plt.savefig(\"east_region_new_kriged\")\n",
    "plt.show()"
   ]
  },
  {
   "cell_type": "code",
   "execution_count": null,
   "metadata": {},
   "outputs": [],
   "source": [
    "canada = gpd.read_file('../../climpyrical/tests/data/canada.geojson')\n",
    "canada = rotate_shapefile(canada.geometry)\n",
    "\n",
    "fig, ax = plt.subplots(figsize=(10,10))\n",
    "# for im in Zl:\n",
    "extent=[ds_mean.rlon.min(), ds_mean.rlon.max(), ds_mean.rlat.min(), ds_mean.rlat.max()]\n",
    "col = ax.imshow(np.nanmean(Zl_r, axis=0), origin='lower', extent=extent, vmin=0, vmax=12.75)\n",
    "canada.plot(ax = ax, zorder = 0, color='grey')\n",
    "# plt.scatter(dfc.rlon, dfc.rlat)\n",
    "plt.xlabel('rlon')\n",
    "plt.ylabel('rlat')\n",
    "plt.ylim(-8, 40)\n",
    "plt.colorbar(col, pad=0.03, fraction=0.033)\n",
    "plt.savefig(\"east_region_new_kriged\")\n",
    "plt.show()"
   ]
  },
  {
   "cell_type": "code",
   "execution_count": 47,
   "metadata": {},
   "outputs": [],
   "source": [
    "# grid = np.meshgrid(x, y)[0]\n",
    "# for i, rlon in enumerate(x):\n",
    "#     for j, rlat in enumerate(y):\n",
    "#         pt = Point(rlon, rlat)\n",
    "#         grid[j, i] = p.contains(pt)\n",
    "# return grid == 1.0\n",
    "\n",
    "# np.stack([rlon.flatten(), rlat.flatten()])\n",
    "x, y = flatten_coords(ds_mean.rlon, ds_mean.rlat)\n",
    "xy = np.stack([x, y]).T\n",
    "contained = []\n",
    "\n",
    "for xcoord, ycoord in xy:\n",
    "    contained.append(canada.contains(Point(xcoord, ycoord)))\n",
    "    \n",
    "contained = np.array(contained).reshape(ds_mean[dv].shape)"
   ]
  },
  {
   "cell_type": "code",
   "execution_count": null,
   "metadata": {},
   "outputs": [],
   "source": []
  },
  {
   "cell_type": "code",
   "execution_count": 48,
   "metadata": {},
   "outputs": [
    {
     "data": {
      "image/png": "[encoded data removed]",
      "text/plain": [
       "<Figure size 432x288 with 1 Axes>"
      ]
     },
     "metadata": {
      "needs_background": "light"
     },
     "output_type": "display_data"
    }
   ],
   "source": [
    "# gen_raster_mask_from_vector()\n",
    "rec = np.nanmean(Zl, axis=0)\n",
    "rec_nan = np.isnan(rec)\n",
    "trouble_areas = np.logical_and(rec_nan, contained)\n",
    "rec_ratio = rec/ds_mean[dv].values\n",
    "# rlon[rec_nan].size, rlon.shape\n",
    "# plt.imshow(np.logical_and(rec_nan, contained), origin='lower')\n",
    "plt.imshow(rec_ratio, origin='lower')\n",
    "plt.savefig('./email/ratio_clean')"
   ]
  },
  {
   "cell_type": "code",
   "execution_count": 49,
   "metadata": {},
   "outputs": [
    {
     "data": {
      "image/png": "[encoded data removed]",
      "text/plain": [
       "<Figure size 720x720 with 3 Axes>"
      ]
     },
     "metadata": {
      "needs_background": "light"
     },
     "output_type": "display_data"
    }
   ],
   "source": [
    "fig, ax = plt.subplots(1, 3, figsize=(10, 10))\n",
    "ax[0].imshow(contained, origin='lower')\n",
    "ax[0].set_title('Canada Reference on CanRCM4 Native Layout')\n",
    "ax[1].imshow(rec_ratio, origin='lower')\n",
    "ax[1].set_title('Kriged Field MW Example')\n",
    "ax[2].imshow(trouble_areas, origin='lower')\n",
    "ax[2].set_title('Areas in Canada missed by MW')\n",
    "plt.savefig('./email/canada_raster')"
   ]
  },
  {
   "cell_type": "code",
   "execution_count": 50,
   "metadata": {},
   "outputs": [
    {
     "data": {
      "image/png": "[encoded data removed]",
      "text/plain": [
       "<Figure size 432x288 with 1 Axes>"
      ]
     },
     "metadata": {
      "needs_background": "light"
     },
     "output_type": "display_data"
    }
   ],
   "source": [
    "plt.imshow(trouble_areas, origin='lower')\n",
    "plt.savefig('./email/not_covered')"
   ]
  },
  {
   "cell_type": "code",
   "execution_count": 51,
   "metadata": {},
   "outputs": [],
   "source": [
    "rlon, rlat = np.meshgrid(ds_mean.rlon, ds_mean.rlat)\n",
    "\n",
    "from scipy.interpolate import NearestNDInterpolator\n",
    "from scipy.interpolate import LinearNDInterpolator\n",
    "\n",
    "f = NearestNDInterpolator(np.stack([rlon[~rec_nan], rlat[~rec_nan]]).T, rec_ratio[~rec_nan])\n",
    "rec_ratio[trouble_areas] = f(np.stack([rlon[trouble_areas], rlat[trouble_areas]]).T)\n",
    "\n",
    "rec_final = rec_ratio*ds_mean[dv].values"
   ]
  },
  {
   "cell_type": "code",
   "execution_count": 52,
   "metadata": {},
   "outputs": [
    {
     "data": {
      "image/png": "[encoded data removed]",
      "text/plain": [
       "<Figure size 1440x504 with 4 Axes>"
      ]
     },
     "metadata": {
      "needs_background": "light"
     },
     "output_type": "display_data"
    }
   ],
   "source": [
    "fig, ax = plt.subplots(1, 2, figsize=(20, 7))\n",
    "col = ax[0].imshow(rec_final, origin='lower')\n",
    "ax[0].set_title('Scaling 1')\n",
    "plt.colorbar(col, ax=ax[0])\n",
    "col1 = ax[1].imshow(rec_final, origin='lower', vmin=0, vmax=6)\n",
    "ax[1].set_title('Scaling 2')\n",
    "plt.colorbar(col1, ax=ax[1])\n",
    "plt.savefig('./email/scaling')"
   ]
  },
  {
   "cell_type": "code",
   "execution_count": 53,
   "metadata": {},
   "outputs": [
    {
     "data": {
      "image/png": "[encoded data removed]",
      "text/plain": [
       "<Figure size 720x720 with 1 Axes>"
      ]
     },
     "metadata": {
      "needs_background": "light"
     },
     "output_type": "display_data"
    },
    {
     "data": {
      "text/plain": [
       "<matplotlib.image.AxesImage at 0x7f83a1384f98>"
      ]
     },
     "execution_count": 53,
     "metadata": {},
     "output_type": "execute_result"
    },
    {
     "data": {
      "image/png": "[encoded data removed]",
      "text/plain": [
       "<Figure size 432x288 with 1 Axes>"
      ]
     },
     "metadata": {
      "needs_background": "light"
     },
     "output_type": "display_data"
    }
   ],
   "source": [
    "rec[trouble_areas] = ds_mean[dv].values[trouble_areas]\n",
    "new_trouble_areas = np.logical_and(np.isnan(rec), contained)\n",
    "\n",
    "f_lin = LinearNDInterpolator(np.stack([rlon[~rec_nan], rlat[~rec_nan]]).T, ds_mean[dv].values[~rec_nan])\n",
    "rec_final[new_trouble_areas] = f_lin(np.stack([rlon[new_trouble_areas], rlat[new_trouble_areas]]).T)\n",
    "plt.figure(figsize=(10, 10))\n",
    "# plt.imshow(rec_final, origin='lower', vmin=1, vmax=5)\n",
    "plt.imshow(rec_final, origin='lower')\n",
    "plt.show()\n",
    "\n",
    "plt.imshow(new_trouble_areas, origin='lower')"
   ]
  },
  {
   "cell_type": "code",
   "execution_count": null,
   "metadata": {},
   "outputs": [],
   "source": [
    "mmm = ~np.isnan(ds_mean[dv].values)\n",
    "f_lin_full = LinearNDInterpolator(np.stack([rlon[mmm], rlat[mmm]]).T, rec_final[mmm])\n",
    "final_ds = ds_mean.copy()\n",
    "n = 10\n",
    "dx = np.diff(final_ds.rlon.values).mean() / n\n",
    "dy = np.diff(final_ds.rlat.values).mean() / n\n",
    "\n",
    "# define new boundaries\n",
    "x1 = final_ds.rlon.min() - dx\n",
    "x2 = final_ds.rlon.max() + dx\n",
    "y1 = final_ds.rlat.min() - dy\n",
    "y2 = final_ds.rlat.max() + dy\n",
    "\n",
    "# define new coordinate arrays\n",
    "new_x = np.linspace(x1, x2, final_ds.rlon.size * n)\n",
    "new_y = np.linspace(y1, y2, final_ds.rlat.size * n)\n",
    "\n",
    "new_x, new_y = flatten_coords(new_x, new_y)\n",
    "\n",
    "new_final_field = f_lin_full(np.stack([new_x, new_y]).T).reshape((final_ds.rlat.size * n, final_ds.rlon.size * n))\n",
    "\n",
    "# regridded_ds = xr.Dataset(\n",
    "#     {dv: ([\"rlat\", \"rlon\"], new_ds), \"lon\": ds.lon, \"lat\": ds.lat},\n",
    "#     coords={\n",
    "#         \"rlon\": (\"rlon\", new_x),\n",
    "#         \"rlat\": (\"rlat\", new_y),\n",
    "#         \"level\": (\"level\", ds.level.values.astype(int)),\n",
    "#     },\n",
    "# )\n",
    "# fig, ax = plt.subplots(figsize=(10, 10))\n",
    "# x, y = flatten_coords(ds_mean.rlon, ds_mean.rlat)\n",
    "newshape = np.repeat(np.repeat(contained, n, axis=0), n, axis=1).shape\n",
    "\n",
    "\n",
    "xy = np.stack([new_x, new_y]).T\n",
    "newcontained = []\n",
    "for xcoord, ycoord in xy:\n",
    "    newcontained.append(canada.contains(Point(xcoord, ycoord)))\n",
    "    \n",
    "newcontained = np.array(newcontained).reshape(newshape)\n",
    "\n",
    "\n",
    "newmask = newcontained.copy() #np.repeat(np.repeat(newcontained, n, axis=0), n, axis=1)\n",
    "\n",
    "new_final_field[~newmask] = np.nan\n",
    "# col = plt.imshow(new_final_field, origin='lower', extent=extent, vmin=0, vmax=6)\n",
    "# plt.colorbar(col)\n",
    "# canada.plot(ax=ax, zorder=0)\n",
    "# plt.savefig('final_reconstruction')\n",
    "\n",
    "fig, ax = plt.subplots(1, 2, figsize=(20, 7))\n",
    "col = ax[0].imshow(new_final_field, origin='lower', extent=extent)\n",
    "ax[0].set_title('Scaling 1')\n",
    "canada.plot(ax=ax[0], zorder=0)\n",
    "plt.colorbar(col, ax=ax[0])\n",
    "\n",
    "col1 = ax[1].imshow(new_final_field, origin='lower', vmin=0, vmax=6, extent=extent)\n",
    "ax[1].set_title('Scaling 2')\n",
    "canada.plot(ax=ax[1], zorder=0)\n",
    "\n",
    "plt.colorbar(col1, ax=ax[1])\n",
    "plt.savefig('./email/scaling_final_res')"
   ]
  },
  {
   "cell_type": "code",
   "execution_count": null,
   "metadata": {},
   "outputs": [],
   "source": [
    "# GH Actions stuff with Nikola \n",
    "# Trying to get the docker-compose working in dv-explorer\n",
    "# Running the infill in the background\n",
    "# Producing more maps using moving window, moving onto more technical points that the method needs to address"
   ]
  },
  {
   "cell_type": "code",
   "execution_count": null,
   "metadata": {},
   "outputs": [],
   "source": [
    "fig, ax = plt.subplots(1, 2, figsize=(20, 7))\n",
    "col = ax[0].imshow(rec_final, origin='lower')\n",
    "ax[0].set_title('Scaling 1')\n",
    "plt.colorbar(col, ax=ax[0])\n",
    "col1 = ax[1].imshow(rec_final, origin='lower', vmin=0, vmax=6)\n",
    "ax[1].set_title('Scaling 2')\n",
    "plt.colorbar(col1, ax=ax[1])\n",
    "plt.savefig('./email/scaling')"
   ]
  },
  {
   "cell_type": "code",
   "execution_count": 67,
   "metadata": {},
   "outputs": [
    {
     "ename": "IndexError",
     "evalue": "too many indices for array",
     "output_type": "error",
     "traceback": [
      "\u001b[0;31m---------------------------------------------------------------------------\u001b[0m",
      "\u001b[0;31mIndexError\u001b[0m                                Traceback (most recent call last)",
      "\u001b[0;32m<ipython-input-67-7d261e2befc4>\u001b[0m in \u001b[0;36m<module>\u001b[0;34m\u001b[0m\n\u001b[0;32m----> 1\u001b[0;31m \u001b[0mnugget\u001b[0m \u001b[0;34m=\u001b[0m \u001b[0mnp\u001b[0m\u001b[0;34m.\u001b[0m\u001b[0marray\u001b[0m\u001b[0;34m(\u001b[0m\u001b[0mpykrige_variogram_parameters\u001b[0m\u001b[0;34m)\u001b[0m\u001b[0;34m[\u001b[0m\u001b[0;34m:\u001b[0m\u001b[0;34m,\u001b[0m \u001b[0;36m2\u001b[0m\u001b[0;34m]\u001b[0m\u001b[0;34m\u001b[0m\u001b[0;34m\u001b[0m\u001b[0m\n\u001b[0m\u001b[1;32m      2\u001b[0m \u001b[0msill\u001b[0m \u001b[0;34m=\u001b[0m \u001b[0mnp\u001b[0m\u001b[0;34m.\u001b[0m\u001b[0marray\u001b[0m\u001b[0;34m(\u001b[0m\u001b[0mpykrige_variogram_parameters\u001b[0m\u001b[0;34m)\u001b[0m\u001b[0;34m[\u001b[0m\u001b[0;34m:\u001b[0m\u001b[0;34m,\u001b[0m \u001b[0;36m0\u001b[0m\u001b[0;34m]\u001b[0m\u001b[0;34m\u001b[0m\u001b[0;34m\u001b[0m\u001b[0m\n\u001b[1;32m      3\u001b[0m \u001b[0mrange\u001b[0m \u001b[0;34m=\u001b[0m \u001b[0mnp\u001b[0m\u001b[0;34m.\u001b[0m\u001b[0marray\u001b[0m\u001b[0;34m(\u001b[0m\u001b[0mpykrige_variogram_parameters\u001b[0m\u001b[0;34m)\u001b[0m\u001b[0;34m[\u001b[0m\u001b[0;34m:\u001b[0m\u001b[0;34m,\u001b[0m \u001b[0;36m1\u001b[0m\u001b[0;34m]\u001b[0m\u001b[0;34m\u001b[0m\u001b[0;34m\u001b[0m\u001b[0m\n",
      "\u001b[0;31mIndexError\u001b[0m: too many indices for array"
     ]
    }
   ],
   "source": [
    "nugget = np.array(pykrige_variogram_parameters)[:, 2]\n",
    "sill = np.array(pykrige_variogram_parameters)[:, 0]\n",
    "range = np.array(pykrige_variogram_parameters)[:, 1]"
   ]
  },
  {
   "cell_type": "code",
   "execution_count": null,
   "metadata": {},
   "outputs": [],
   "source": [
    "plt.figure(figsize=(10, 10))\n",
    "# plt.plot(np.delete(nneighs, i_of_drop), np.array(loglike), label='lnProfileLike')\n",
    "plt.plot(np.delete(nneighs, i_of_drop), np.array(reml), label='RMSE Spatial Process')\n",
    "plt.plot(np.delete(nneighs, i_of_drop), np.array(nug_arr), label='Fitted Nugget Spatial Process')\n",
    "# plt.plot(np.delete(nneighs, i_of_drop), np.array(dof), label='Fitted Nugget')\n",
    "plt.legend()\n",
    "plt.xlabel('N Stations')\n",
    "plt.ylabel('RMSE')\n",
    "\n",
    "plt.show()\n",
    "\n",
    "plt.figure(figsize=(10, 10))\n",
    "plt.plot(nneighs, nugget, label='nugget PyKrige')\n",
    "plt.plot(nneighs, rmse, label='RMSE PyKrige')\n",
    "# plt.plot(nneighs, sill, label='sill PyKrige')\n",
    "# plt.plot(nneighs, range*3, label='range PyKrige')\n",
    "\n",
    "# plt.plot(np.delete(nneighs, i_of_drop), np.array(dof), label='Fitted Nugget')\n",
    "\n",
    "# plt.plot(np.delete(nneighs, i_of_drop), np.array(rmse), label='RMSE')\n",
    "plt.legend()\n",
    "plt.xlabel('N Stations')\n",
    "plt.ylabel('RMSE')\n",
    "# plt.title('Error Profiles Western Canada')\n",
    "# plt.savefig('error_profiles_east')"
   ]
  },
  {
   "cell_type": "code",
   "execution_count": null,
   "metadata": {},
   "outputs": [],
   "source": [
    "S_R_tup = sp.fit(np.stack([matched_df.rlon, matched_df.rlat]), matched_df[station_dv], S.shape[0], S.shape[1])"
   ]
  },
  {
   "cell_type": "code",
   "execution_count": null,
   "metadata": {},
   "outputs": [],
   "source": [
    "S_R = S_R_tup[0]"
   ]
  },
  {
   "cell_type": "code",
   "execution_count": null,
   "metadata": {},
   "outputs": [],
   "source": [
    "plt.scatter(np.sort(S_R.flatten()), np.sort(S.flatten()))"
   ]
  },
  {
   "cell_type": "code",
   "execution_count": null,
   "metadata": {},
   "outputs": [],
   "source": [
    "z, x, y, cov = sp.fit(latlon, stats, xlim, ylim)\n",
    "rlonlon, rlatlat = latlon\n",
    "print(cov)\n",
    "fit_params_names = [\"N\", \"nugget\", \"range\", \"sill\"]\n",
    "fit_params = dict(zip(fit_params_names, cov[[0, 1, 2, 6]]))\n",
    "# fit_params, cov"
   ]
  },
  {
   "cell_type": "code",
   "execution_count": null,
   "metadata": {},
   "outputs": [],
   "source": [
    "from pykrige.ok import OrdinaryKriging\n",
    "okie = OrdinaryKriging(rlonlon, rlatlat, stats, variogram_model='exponential', coordinates_type = \"geographic\")\n",
    "# krigfield = okie.execute('points', rlon[region], rlat[region], exact_values=False)\n",
    "# okie.display_variogram_model()\n",
    "print(okie.variogram_model_parameters)\n",
    "print(fit_params)"
   ]
  },
  {
   "cell_type": "code",
   "execution_count": null,
   "metadata": {},
   "outputs": [],
   "source": [
    "r = np.linspace(0, 25, 100)\n",
    "\n",
    "def variogram(params):\n",
    "    return params['nugget']+params['sill']*(1-np.exp(-r/params['range']))\n",
    "\n",
    "plt.plot(r, variogram(fit_params))"
   ]
  },
  {
   "cell_type": "code",
   "execution_count": null,
   "metadata": {},
   "outputs": [],
   "source": [
    "# cov\n",
    "nugget = d['summary'][1]\n",
    "range_ = d['summary'][2]\n",
    "sill = d['summary'][4]\n",
    "\n",
    "nugget, range_, sill"
   ]
  },
  {
   "cell_type": "code",
   "execution_count": null,
   "metadata": {},
   "outputs": [],
   "source": [
    "fit_params['nugget']+fit_params['sigma']*(1.0-np.exp(-r/))"
   ]
  },
  {
   "cell_type": "code",
   "execution_count": null,
   "metadata": {},
   "outputs": [],
   "source": [
    "list(dict(zip(d['MLEJoint'].names, list(d['MLEJoint'])))['optimResults'])"
   ]
  },
  {
   "cell_type": "code",
   "execution_count": null,
   "metadata": {},
   "outputs": [],
   "source": [
    "# range (distance), degs of freedom, p-values\n",
    "# least squares departure from\n",
    "# get the three parameters from kriging from spatialProcess for the variogram\n",
    "# reconstruct the variogram\n",
    "# put together mean squared error measure\n",
    "# "
   ]
  },
  {
   "cell_type": "code",
   "execution_count": null,
   "metadata": {},
   "outputs": [],
   "source": [
    "se_dict\n",
    "z_se_full = mean.copy()\n",
    "z_se_full[lw:u, l:r] = z_se.T\n",
    "\n",
    "np.nanmean(z_se_full[dfc.ilocy, dfc.ilocx]), np.nanmean(z_se_full)"
   ]
  },
  {
   "cell_type": "code",
   "execution_count": null,
   "metadata": {},
   "outputs": [],
   "source": [
    "plt.imshow(z_se_full, origin='lower', vmin=0, vmax=1)\n",
    "plt.show()\n",
    "plt.imshow(z, origin='lower', vmin=0, vmax=10)\n",
    "plt.show()"
   ]
  },
  {
   "cell_type": "code",
   "execution_count": null,
   "metadata": {},
   "outputs": [],
   "source": []
  },
  {
   "cell_type": "code",
   "execution_count": null,
   "metadata": {},
   "outputs": [],
   "source": [
    "# i_to_drop = []\n",
    "# # Zl = []\n",
    "# dfc = matched_df.copy()\n",
    "# nn = 10\n",
    "# nx = 10\n",
    "# ny = 6\n",
    "# boxdx, boxdy = (dfc.rlon.values.max()-dfc.rlon.values.min())/nx, (dfc.rlat.values.max()-dfc.rlat.values.min())/ny\n",
    "\n",
    "# xstarts = np.linspace(dfc.rlon.values.min()+boxdx/2, dfc.rlon.values.max()-boxdx/2, nx)\n",
    "# ystarts = np.linspace(dfc.rlat.values.min()+boxdy/2, dfc.rlat.values.max()-boxdy/2, ny)\n",
    "\n",
    "# # y box\n",
    "# for yc in ystarts:\n",
    "#     #x box\n",
    "#     for xc in xstarts:\n",
    "#         ndf = dfc.copy()\n",
    "#         condition = (ndf.rlon < xc+boxdx) & (ndf.rlon > xc-boxdx) & (ndf.rlat < yc+boxdy) & (ndf.rlat > yc-boxdy)\n",
    "#         ndf = ndf[condition]\n",
    "        \n",
    "#         latlon = np.stack([ndf.rlon.values, ndf.rlat.values])\n",
    "#         stats = ndf[station_dv].values\n",
    "# #     stats = dfc['ratio'].values[ind[i]]\n",
    "    \n",
    "#         lw, u = find_nearest_index(ds_mean.rlat.values, yc-boxdy), find_nearest_index(ds_mean.rlat.values, yc+boxdy)\n",
    "#         l, r = find_nearest_index(ds_mean.rlon.values, xc-boxdx), find_nearest_index(ds_mean.rlon.values, xc+boxdx)\n",
    "#         ylim = u-lw\n",
    "#         xlim = r-l\n",
    "#         try:\n",
    "#             z, x, y = sp.fit(latlon, stats, xlim, ylim)\n",
    "#             final = mean.copy()\n",
    "#             final[:, :] = np.nan\n",
    "#             final[lw:u, l:r] = z.T#*mean[lw:u, l:r]\n",
    "#         except:\n",
    "#             i_to_drop.append(u)\n",
    "#             pass\n",
    "    \n",
    "#         Zl.append(final)"
   ]
  },
  {
   "cell_type": "code",
   "execution_count": null,
   "metadata": {},
   "outputs": [],
   "source": []
  },
  {
   "cell_type": "code",
   "execution_count": null,
   "metadata": {},
   "outputs": [],
   "source": [
    "Zl = np.array(Zl)\n",
    "# Zl_del = np.delete(Zl, i_to_drop, axis=0)\n",
    "Zlmean = np.nanmean(Zl, axis=0)"
   ]
  },
  {
   "cell_type": "code",
   "execution_count": null,
   "metadata": {},
   "outputs": [],
   "source": [
    "sums = np.sum(~np.isnan(Zl), axis=0)\n",
    "plt.figure(figsize=(10, 10))\n",
    "plt.imshow(sums, origin='lower', cmap=plt.cm.get_cmap(\"Greys\", 100))\n",
    "col = plt.colorbar()\n",
    "plt.savefig(\"overlap_regions\")"
   ]
  },
  {
   "cell_type": "code",
   "execution_count": null,
   "metadata": {},
   "outputs": [],
   "source": [
    "Zlmean"
   ]
  },
  {
   "cell_type": "code",
   "execution_count": null,
   "metadata": {},
   "outputs": [],
   "source": [
    "# plt.imshow(Zl[50, ...], origin='lower')\n",
    "plt.figure(figsize=(10, 10))\n",
    "# plt.imshow(Zlmean, origin='lower', cmap=plt.cm.get_cmap(\"viridis\", 10), vmin=0, vmax=10)\n",
    "plt.imshow(Zlmean, origin='lower')"
   ]
  },
  {
   "cell_type": "code",
   "execution_count": null,
   "metadata": {},
   "outputs": [],
   "source": [
    "# del Zl_del\n",
    "# del d_arrc_del\n",
    "# np.delete(d_arr, i_to_drop, axis=0).shape, Zl.shape"
   ]
  },
  {
   "cell_type": "code",
   "execution_count": null,
   "metadata": {},
   "outputs": [],
   "source": [
    "extent=[ds.rlon.min(), ds.rlon.max(), ds.rlat.min(), ds.rlat.max()]"
   ]
  },
  {
   "cell_type": "code",
   "execution_count": null,
   "metadata": {},
   "outputs": [],
   "source": [
    "Zl = np.array(Zl)\n",
    "Zlfill = Zl.copy()\n",
    "Zlfill[~np.isnan(Zl)] = 0.0\n",
    "fig, ax = plt.subplots(figsize=(10, 10))\n",
    "for img in Zlfill[:, ...]:\n",
    "    ax.imshow(img, origin='lower', extent = extent, alpha=0.3)\n",
    "\n",
    "canada = gpd.read_file('../../climpyrical/tests/data/canada.geojson')\n",
    "canada = rotate_shapefile(canada.geometry)\n",
    "canada.plot(ax = ax, zorder = 0, color='grey')\n",
    "plt.savefig(\"moving_window_overlap_random\")"
   ]
  },
  {
   "cell_type": "code",
   "execution_count": null,
   "metadata": {},
   "outputs": [],
   "source": [
    "from scipy.spatial.distance import pdist\n",
    "from sklearn.neighbors import KNeighborsRegressor\n",
    "\n",
    "a = np.array([rlon[final_mask], rlat[final_mask]]).T\n",
    "a1 = np.array([matched_df.rlon.values, matched_df.rlat.values]).T\n",
    "def pwhole_def(alpha):\n",
    "#     s=time.time()\n",
    "    c = mean.copy()\n",
    "    d = np.amin(distance.cdist(a, a1, metric='euclidean'), axis=1)\n",
    "#     d = pairwise_distances_argmin_min(a, a1[i], metric='euclidean')[1]\n",
    "    c[final_mask] = np.exp(-alpha*d)\n",
    "    c[~final_mask] = np.nan\n",
    "#     print(\"Time:\", time.time()-s)\n",
    "    return c\n",
    "\n",
    "plt.imshow(pwhole_def(1.))"
   ]
  },
  {
   "cell_type": "code",
   "execution_count": null,
   "metadata": {},
   "outputs": [],
   "source": [
    "Z = np.nanmean(Zl, axis=0)\n",
    "plt.figure(figsize=(10, 10))\n",
    "plt.imshow(Z, origin='lower', vmin=0, vmax=6)"
   ]
  },
  {
   "cell_type": "code",
   "execution_count": null,
   "metadata": {},
   "outputs": [],
   "source": [
    "# ds_test = ds_mean.drop('time')\n",
    "# ds_test.assign('snw', Z)\n",
    "# regridded_ds = xr.Dataset(\n",
    "#     {dv: ([\"rlat\", \"rlon\"], ds_mean), \"lon\": ds.lon, \"lat\": ds.lat},\n",
    "#     coords={\"rlon\": (\"rlon\", new_x), \"rlat\": (\"rlat\", new_y)},\n",
    "# )\n",
    "ds_test = ds.copy()\n",
    "A = ds[dv].values\n",
    "A[0, ...] = Zlmean\n",
    "\n",
    "ds_test = ds_test.assign({'snw': ([\"levels\", \"rlat\", \"rlon\"], A)})\n",
    "ds_test.to_netcdf('/home/nannau/06022020/dash-dv-explorer/assets/data/sl50_krig_reconstruction_stations.nc')"
   ]
  },
  {
   "cell_type": "code",
   "execution_count": null,
   "metadata": {},
   "outputs": [],
   "source": [
    "ds_test[dv].shape[1:]"
   ]
  },
  {
   "cell_type": "markdown",
   "metadata": {},
   "source": [
    "# Clustering"
   ]
  },
  {
   "cell_type": "code",
   "execution_count": null,
   "metadata": {},
   "outputs": [],
   "source": [
    "from sklearn.cluster import DBSCAN, KMeans\n",
    "from sklearn.preprocessing import StandardScaler\n",
    "\n",
    "std = StandardScaler() \n",
    "N = 10\n",
    "db = KMeans(n_clusters=N)\n",
    "# db = DBSCAN(eps=0.2, min_samples=30, metric='haversine')\n",
    "\n",
    "X = np.stack([matched_df.rlon, matched_df.rlat]).T\n",
    "# X\n",
    "# X = std.fit_transform(X.T)\n",
    "db.fit(X)\n",
    "\n",
    "db.labels_.shape, matched_df.shape[0]\n",
    "\n",
    "matched_df = matched_df.assign(label = db.labels_)\n",
    "\n",
    "sns.distplot(db.labels_, kde=False)"
   ]
  },
  {
   "cell_type": "code",
   "execution_count": null,
   "metadata": {},
   "outputs": [],
   "source": [
    "ccenters = db.cluster_centers_\n",
    "xcenter, ycenter = ccenters[:, 0], ccenters[:, 1]\n",
    "xcenter, ycenter"
   ]
  },
  {
   "cell_type": "code",
   "execution_count": null,
   "metadata": {},
   "outputs": [],
   "source": [
    "from scipy.spatial.distance import pdist\n",
    "def pwhole_(alpha):\n",
    "    rlon, rlat = np.meshgrid(ds.rlon, ds.rlat)\n",
    "    d_gridx = np.dstack((rlon, rlat))\n",
    "\n",
    "    a = np.array([rlon[final_mask], rlat[final_mask]]).T\n",
    "    a1 = np.array([xcenter, ycenter]).T\n",
    "\n",
    "    d = cdist(a, a1)\n",
    "    \n",
    "#     d = db.kneighbors_graph(a, mode='distance').toarray()\n",
    "#     denom = np.exp(-alpha*np.sum(np.sort(d, axis=1)[:, :1], axis=1))\n",
    "#     num = np.exp(-alpha*np.sort(distance.cdist(a, a1), axis=1)[:, 0])\n",
    "\n",
    "    p = np.exp(-alpha*d)#np.sort(d, axis=0))\n",
    "    print(p.shape)\n",
    "    pwhole = mean.copy()\n",
    "    pwhole[final_mask] = pwhole\n",
    "    pwhole[~final_mask] = np.nan\n",
    "    return pwhole.reshape(mean.shape)\n",
    "\n",
    "\n",
    "# plt.figure(figsize=(10, 10))\n",
    "# plt.imshow(pwhole_(.5), origin='lower', vmin=0, vmax=1)\n",
    "# np.nanmax(pwhole_(0.1))"
   ]
  },
  {
   "cell_type": "code",
   "execution_count": null,
   "metadata": {},
   "outputs": [],
   "source": [
    "plt.figure(figsize=(8, 7))\n",
    "print(np.unique(db.labels_).size)\n",
    "sns.scatterplot(matched_df.rlon, matched_df.rlat, palette=sns.color_palette('muted', n_colors=N), hue=db.labels_)\n",
    "sns.scatterplot(xcenter, ycenter, color = 'black', marker='x')\n",
    "plt.title(\"K-Means Clustering on Station Data SL50\")\n",
    "plt.savefig('K-MeansCluster')"
   ]
  },
  {
   "cell_type": "markdown",
   "metadata": {},
   "source": [
    "# Tool modifications:\n",
    "* Extend ratios to station locations using closest model value - i.e. grid points behind stations using nearest \n",
    "* increase font sizes\n",
    "\n",
    "# Tool notes:\n",
    "* Understanding the audience\n",
    "* Engineers tasked with building things\n",
    "* Primary interest is a location:\n",
    "* Point to a location select list of design values to get information from \n",
    "* Type in lat and lon and extract the design values\n",
    "* Place a pin and get other design values or csv file/ascii file (secondary priority)\n",
    "* New tab with selection of final design values\n"
   ]
  },
  {
   "cell_type": "code",
   "execution_count": null,
   "metadata": {},
   "outputs": [],
   "source": [
    "S = Z.copy()\n",
    "rmse = {\n",
    "    'S_st': np.sqrt(mean_squared_error(S[dfc.ilocy, dfc.ilocx], dfc[station_dv])),\n",
    "#     'R_b_st': np.sqrt(mean_squared_error(R_b[dfc.ilocy, dfc.ilocx], dfc[station_dv])),\n",
    "    's_mod': np.sqrt(mean_squared_error(mean[dfc.ilocy, dfc.ilocx], dfc[station_dv])),\n",
    "    'S_mod': np.sqrt(mean_squared_error(S[region], mean[region])),\n",
    "#     'R_b_mod': np.sqrt(mean_squared_error(R_b[region], mean[region])),\n",
    "}\n",
    "\n",
    "bias = {\n",
    "    'S_st': np.mean(S[dfc.ilocy, dfc.ilocx] - dfc[station_dv]),\n",
    "    's_mod': np.mean(mean[dfc.ilocy, dfc.ilocx] - dfc[station_dv]),\n",
    "    'S_mod': np.mean(mean[region] - S[region]),\n",
    "}\n",
    "\n",
    "rmse, bias"
   ]
  },
  {
   "cell_type": "code",
   "execution_count": null,
   "metadata": {},
   "outputs": [],
   "source": [
    "tp = {\n",
    "    'northern': {\n",
    "        'x1': -20,\n",
    "        'y1': 0,\n",
    "        'x2': -20,\n",
    "        'y2': 25.5,\n",
    "        'x3': -20,\n",
    "        'y3': 10,\n",
    "    },\n",
    "    'eastern': {\n",
    "        'x1': 23,\n",
    "        'y1': 0,\n",
    "        'x2': 5,\n",
    "        'y2': 12,\n",
    "        'x3': 23,\n",
    "        'y3': 0,\n",
    "    },\n",
    "    'western': {\n",
    "        'x1': -5,\n",
    "        'y1': 0,\n",
    "        'x2': -20,\n",
    "        'y2': 14,\n",
    "        'x3': -5,\n",
    "        'y3': 4,\n",
    "    },\n",
    "}\n",
    "key = 'eastern'\n",
    "text = tp[key]"
   ]
  },
  {
   "cell_type": "code",
   "execution_count": null,
   "metadata": {},
   "outputs": [],
   "source": [
    "fig, ax = plt.subplots(3, 3, figsize=(45, 20))\n",
    "zmin,zmax = -.5, np.amax(dfc[station_dv])+1.2\n",
    "bmin, bmax = .6, 2.5\n",
    "c = plt.cm.get_cmap(\"viridis_r\", 10)\n",
    "errorc = plt.cm.get_cmap(\"jet\", 10)\n",
    "extent=[dfc.rlon.min(), dfc.rlon.max(), dfc.rlat.min(), dfc.rlat.max()]\n",
    "clevels = np.linspace(1, 15, 8) \n",
    "\n",
    "# Tile 0, 0\n",
    "pos=(0, 0)\n",
    "stations_only = ax[pos].scatter(dfc.rlon, dfc.rlat, c = dfc[station_dv], cmap=c,  vmin=zmin, vmax=zmax)\n",
    "ax[pos].set_title('Stations SL50 (kPa) [$s$]', fontsize=15, weight='bold') \n",
    "ax[pos].text(text['x1'], text['y1'], f'count pre match: {df[region_cond_df].shape[0]}', fontsize=15)\n",
    "ax[pos].text(text['x1'], text['y1']-1, f'count post match: {dfc.shape[0]}', fontsize=15)\n",
    "plt.colorbar(stations_only, ax=ax[pos])\n",
    "\n",
    "# Tile 0, 1\n",
    "pos = (0, 1)\n",
    "S_plot = ax[pos].imshow(regionalize(S), origin='lower', aspect='auto', extent=extent, cmap=c, vmin=zmin, vmax=zmax)\n",
    "ax[pos].set_title('Station Only Reconstruction SL50 (kPa) [$S$]', fontsize=15, weight='bold') \n",
    "S_plot_ct = ax[pos].contour(\n",
    "    regionalize(rlon), \n",
    "    regionalize(rlat), \n",
    "    regionalize(S), \n",
    "    colors = ['black'], \n",
    "    levels = clevels)\n",
    "ax[pos].clabel(S_plot_ct)\n",
    "plt.colorbar(S_plot, ax=ax[pos])\n",
    "\n",
    "# Tile 0, 3\n",
    "pos = (1,0)\n",
    "ens_mean = ax[pos].imshow(regionalize(mean), origin='lower', aspect='auto', extent=extent, cmap=c, vmin=zmin, vmax=zmax)\n",
    "ax[pos].set_title(r'Ensemble Mean SL50 (kPa) [$\\mu$]', fontsize=15, weight='bold') \n",
    "mean_ct = ax[pos].contour(\n",
    "    regionalize(rlon), \n",
    "    regionalize(rlat), \n",
    "    regionalize(mean), \n",
    "    colors = ['black'], \n",
    "    levels = clevels)\n",
    "ax[pos].clabel(mean_ct)\n",
    "plt.colorbar(ens_mean, ax=ax[pos])\n",
    "\n",
    "# Tile 1, 0\n",
    "# pos = (1, 2)\n",
    "# stations_only_b = ax[pos].scatter(dfc.rlon, dfc.rlat, c = dfc.ratio, cmap=c, vmin=bmin, vmax=bmax)\n",
    "# ax[pos].set_title('Station/Model Ratio [$b$]', fontsize=15, weight='bold') \n",
    "# plt.colorbar(stations_only_b, ax=ax[pos])\n",
    "\n",
    "# Tile 1, 1\n",
    "# pos = (2, 1)\n",
    "# B_plot = ax[pos].imshow(regionalize(R_b), origin='lower', aspect='auto', extent=extent, cmap=c, vmin=zmin, vmax=zmax)\n",
    "# ax[pos].set_title(r'Post Bias Reconstruction SL50 (kPa) [$R_b=B \\times \\mu$]', fontsize=15, weight='bold') \n",
    "# B_plot_ct = ax[pos].contour(\n",
    "#     regionalize(rlon), \n",
    "#     regionalize(rlat), \n",
    "#     regionalize(R_b), \n",
    "#     colors = ['black'], \n",
    "#     levels = clevels)\n",
    "# ax[pos].clabel(B_plot_ct)\n",
    "# plt.colorbar(B_plot, ax=ax[pos])\n",
    "\n",
    "# Tile 2, 0\n",
    "# stations_only_post_bias = ax[2, 0].imshow(regionalize(B), origin='lower', aspect='auto', extent=extent, cmap=c, vmin=bmin, vmax=bmax)\n",
    "# ax[2, 0].set_title('Bias Reconstruction, [$B$]', fontsize=15, weight='bold') \n",
    "# ct_S_only_ps = ax[2, 0].contour(\n",
    "#     regionalize(rlon), \n",
    "#     regionalize(rlat), \n",
    "#     regionalize(B), \n",
    "#     colors = ['black'], \n",
    "#     levels = np.linspace(0, 5, 10))\n",
    "# ax[2, 0].clabel(ct_S_only_ps)\n",
    "# plt.colorbar(stations_only_post_bias, ax=ax[2, 0])\n",
    "\n",
    "# plt.savefig('tile_plot_sl50_east_krig.png')"
   ]
  },
  {
   "cell_type": "code",
   "execution_count": null,
   "metadata": {},
   "outputs": [],
   "source": [
    "from rpy2.robjects.packages import importr\n",
    "from rpy2 import robjects\n",
    "import numpy as np\n",
    "importr('fields', lib_loc='../r-library/fields')"
   ]
  },
  {
   "cell_type": "code",
   "execution_count": null,
   "metadata": {},
   "outputs": [],
   "source": [
    "latlon = np.stack([dfc.rlon, dfc.rlat])\n",
    "stats = dfc[station_dv].values\n",
    "import climpyrical.spytialProcess as sp"
   ]
  },
  {
   "cell_type": "code",
   "execution_count": null,
   "metadata": {},
   "outputs": [],
   "source": [
    "# r['surface'](tr)\n",
    "import climpyrical.spytialProcess as sp\n",
    "u, lw, l, rside\n",
    "ylim = lw-u\n",
    "xlim = rside-l\n",
    "print(xlim, ylim)\n",
    "z, x, y = sp.fit(latlon, stats, xlim, ylim)\n",
    "z.shape"
   ]
  },
  {
   "cell_type": "code",
   "execution_count": null,
   "metadata": {},
   "outputs": [],
   "source": [
    "lw-u"
   ]
  },
  {
   "cell_type": "code",
   "execution_count": null,
   "metadata": {},
   "outputs": [],
   "source": [
    "u, lw, l, rside"
   ]
  },
  {
   "cell_type": "code",
   "execution_count": null,
   "metadata": {},
   "outputs": [],
   "source": [
    "# z = np.array(list(dict(zip(tr.names, list(tr)))['z'])).reshape(ylim, xlim)\n",
    "Z = mean.copy()\n",
    "Z[~final_mask] = np.nan\n",
    "Z[u:lw, l:rside] = z.T"
   ]
  },
  {
   "cell_type": "code",
   "execution_count": null,
   "metadata": {},
   "outputs": [],
   "source": [
    "# region.shape[0], region.shape[1], Z[u:lw, l:r].size, z.size\n",
    "Z[~final_mask] = np.nan"
   ]
  },
  {
   "cell_type": "code",
   "execution_count": null,
   "metadata": {},
   "outputs": [],
   "source": [
    "plt.imshow(regionalize(Z), origin='lower')\n",
    "x.size, y.size\n"
   ]
  },
  {
   "cell_type": "code",
   "execution_count": null,
   "metadata": {},
   "outputs": [],
   "source": [
    "nanmaskz = ~np.isnan(Z[dfc.ilocy, dfc.ilocx])\n",
    "krigz = Z[dfc.ilocy, dfc.ilocx][nanmaskz]"
   ]
  },
  {
   "cell_type": "code",
   "execution_count": null,
   "metadata": {},
   "outputs": [],
   "source": [
    "plt.scatter(krigz, dfc[station_dv].values[nanmaskz])"
   ]
  },
  {
   "cell_type": "code",
   "execution_count": null,
   "metadata": {},
   "outputs": [],
   "source": [
    "np.sqrt(mean_squared_error(krigz, dfc[station_dv].values[nanmaskz]))"
   ]
  },
  {
   "cell_type": "code",
   "execution_count": null,
   "metadata": {},
   "outputs": [],
   "source": [
    "fig, ax = plt.subplots(1, 2, figsize=(20, 5))\n",
    "zmin,zmax = -.5, np.amax(dfc[station_dv])+1.2\n",
    "bmin, bmax = .6, 2.5\n",
    "c = plt.cm.get_cmap(\"viridis_r\", 10)\n",
    "errorc = plt.cm.get_cmap(\"jet\", 10)\n",
    "extent=[dfc.rlon.min(), dfc.rlon.max(), dfc.rlat.min(), dfc.rlat.max()]\n",
    "clevels = np.linspace(0, 12, 4) \n",
    "print(clevels)\n",
    "clevels = [0, 2, 4, 6, 8, 12]\n",
    "\n",
    "# Tile 0, 0\n",
    "# pos=(0, 0)\n",
    "pos = 0\n",
    "stations_only = ax[pos].scatter(dfc.rlon, dfc.rlat, c = dfc[station_dv], cmap=c,  vmin=zmin, vmax=zmax)\n",
    "ax[pos].set_title('Northern Stations SL50 (kPa) [$s$]', fontsize=15, weight='bold') \n",
    "# ax[pos].text(text['x1'], text['y1'], f'count pre match: {df[region_cond_df].shape[0]}', fontsize=15)\n",
    "# ax[pos].text(text['x1'], text['y1']-1, f'count post match: {dfc.shape[0]}', fontsize=15)\n",
    "plt.colorbar(stations_only, ax=ax[pos])\n",
    "\n",
    "# Tile 0, 1\n",
    "# pos = (0, 1)\n",
    "pos = 1\n",
    "S_plot = ax[pos].imshow(regionalize(Z), origin='lower', aspect='auto', extent=extent, cmap=c, vmin=zmin, vmax=zmax)\n",
    "ax[pos].set_title('Northern Station Only Reconstruction Kriged SL50 (kPa) [$S$]', fontsize=15, weight='bold') \n",
    "S_plot_ct = ax[pos].contour(\n",
    "    x, \n",
    "    y, \n",
    "    z, \n",
    "    colors = ['black'], \n",
    "    levels = clevels)\n",
    "ax[pos].clabel(S_plot_ct)\n",
    "plt.colorbar(S_plot, ax=ax[pos])\n",
    "\n",
    "# # Tile 0, 3\n",
    "# pos = (1,0)\n",
    "# ens_mean = ax[pos].imshow(regionalize(mean), origin='lower', aspect='auto', extent=extent, cmap=c, vmin=zmin, vmax=zmax)\n",
    "# ax[pos].set_title(r'Ensemble Mean SL50 (kPa) [$\\mu$]', fontsize=15, weight='bold') \n",
    "# mean_ct = ax[pos].contour(\n",
    "#     regionalize(rlon), \n",
    "#     regionalize(rlat), \n",
    "#     regionalize(mean), \n",
    "#     colors = ['black'], \n",
    "#     levels = clevels)\n",
    "# ax[pos].clabel(mean_ct)\n",
    "# plt.colorbar(ens_mean, ax=ax[pos])\n",
    "plt.savefig('/home/nannau/Pictures/krig_example.png')"
   ]
  },
  {
   "cell_type": "code",
   "execution_count": null,
   "metadata": {},
   "outputs": [],
   "source": [
    "'c'+str((1, 2))"
   ]
  },
  {
   "cell_type": "code",
   "execution_count": null,
   "metadata": {},
   "outputs": [],
   "source": [
    "import climpyrical.spytialProcess as sp"
   ]
  },
  {
   "cell_type": "code",
   "execution_count": null,
   "metadata": {},
   "outputs": [],
   "source": [
    "latlon = np.stack([dfc.rlon, dfc.rlat])\n",
    "stats = dfc[station_dv].values\n",
    "latlon.shape, type(latlon)"
   ]
  },
  {
   "cell_type": "code",
   "execution_count": null,
   "metadata": {},
   "outputs": [],
   "source": [
    "latlon.shape[0], stats.size\n",
    "import typing\n",
    "var = 'x'\n",
    "# isinstance(latlon, NDArray[(2, typing.Any), float])\n",
    "# var: NDArray[(2, typing.Any), float]\n",
    "# \n",
    "# var: typing.List\n",
    "N = 10\n",
    "\n",
    "xx, yy = np.meshgrid(np.linspace(0, 50, N), np.linspace(-25, 25, N), sparse=True)\n",
    "nxx, nyy = flatten_coords(np.linspace(0, 50, N), np.linspace(-25, 25, N))\n",
    "z = np.sin(xx**2 + yy**2) / (xx**2 + yy**2)\n",
    "coords = np.stack([nxx, nyy])"
   ]
  },
  {
   "cell_type": "code",
   "execution_count": null,
   "metadata": {},
   "outputs": [],
   "source": [
    "# z, x, y = sp.fit(latlon, stats, 80, 80, (1,2), 'geo', 'exponential')\n",
    "z, x, y = sp.fit(coords, z.flatten(), N, N, (1,2), 'geo', 'exponential')"
   ]
  },
  {
   "cell_type": "code",
   "execution_count": null,
   "metadata": {},
   "outputs": [],
   "source": [
    "plt.imshow(z)"
   ]
  },
  {
   "cell_type": "code",
   "execution_count": null,
   "metadata": {},
   "outputs": [],
   "source": [
    "isinstance(np.empty((2, 5)), NDArray[(2, Any), float])"
   ]
  },
  {
   "cell_type": "code",
   "execution_count": null,
   "metadata": {},
   "outputs": [],
   "source": []
  },
  {
   "cell_type": "code",
   "execution_count": null,
   "metadata": {},
   "outputs": [],
   "source": []
  }
 ],
 "metadata": {
  "kernelspec": {
   "display_name": "Python 3",
   "language": "python",
   "name": "python3"
  },
  "language_info": {
   "codemirror_mode": {
    "name": "ipython",
    "version": 3
   },
   "file_extension": ".py",
   "mimetype": "text/x-python",
   "name": "python",
   "nbconvert_exporter": "python",
   "pygments_lexer": "ipython3",
   "version": "3.6.8"
  }
 },
 "nbformat": 4,
 "nbformat_minor": 4
}
