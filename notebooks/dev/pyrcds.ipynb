{
 "cells": [
  {
   "cell_type": "code",
   "execution_count": 4,
   "metadata": {},
   "outputs": [
    {
     "name": "stderr",
     "output_type": "stream",
     "text": [
      "Installing package into ‘/home/nannau/R/x86_64-pc-linux-gnu-library/3.4’\n",
      "(as ‘lib’ is unspecified)\n"
     ]
    }
   ],
   "source": [
    "install.packages('reticulate')\n",
    "library(reticulate)"
   ]
  },
  {
   "cell_type": "code",
   "execution_count": 30,
   "metadata": {},
   "outputs": [
    {
     "ename": "ERROR",
     "evalue": "Error in py_module_import(module, convert = convert): ModuleNotFoundError: No module named 'query-temp'\n",
     "output_type": "error",
     "traceback": [
      "Error in py_module_import(module, convert = convert): ModuleNotFoundError: No module named 'query-temp'\nTraceback:\n",
      "1. import(\"query-temp\")",
      "2. py_module_import(module, convert = convert)"
     ]
    }
   ],
   "source": [
    "pycds <- import(\"pycds\")\n",
    "pd <- import(\"pandas\")\n",
    "qtemp <- import(\"query-temp\")\n",
    "qhelpers <- import(\"query-helpers\")\n",
    "pd"
   ]
  },
  {
   "cell_type": "code",
   "execution_count": null,
   "metadata": {},
   "outputs": [],
   "source": [
    "sqlalchemy <- import(\"sqlalchemy\")"
   ]
  },
  {
   "cell_type": "code",
   "execution_count": null,
   "metadata": {},
   "outputs": [],
   "source": [
    "connection_string <- \"postgresql+psycopg2://nannau@dbmsc.pcic.uvic.ca/msc\""
   ]
  },
  {
   "cell_type": "code",
   "execution_count": null,
   "metadata": {},
   "outputs": [],
   "source": [
    "engine <- sqlalchemy$create_engine(connection_string)\n",
    "Session <- sqlalchemy$orm$sessionmaker(bind=engine)\n",
    "session <- Session()"
   ]
  },
  {
   "cell_type": "code",
   "execution_count": null,
   "metadata": {},
   "outputs": [],
   "source": [
    "pd$read_sql(qhelpers$query_variables(session)$statement, engine)"
   ]
  },
  {
   "cell_type": "code",
   "execution_count": 11,
   "metadata": {},
   "outputs": [],
   "source": []
  },
  {
   "cell_type": "code",
   "execution_count": null,
   "metadata": {},
   "outputs": [],
   "source": []
  }
 ],
 "metadata": {
  "kernelspec": {
   "display_name": "R",
   "language": "R",
   "name": "ir"
  },
  "language_info": {
   "codemirror_mode": "r",
   "file_extension": ".r",
   "mimetype": "text/x-r-source",
   "name": "R",
   "pygments_lexer": "r",
   "version": "3.4.4"
  }
 },
 "nbformat": 4,
 "nbformat_minor": 4
}
