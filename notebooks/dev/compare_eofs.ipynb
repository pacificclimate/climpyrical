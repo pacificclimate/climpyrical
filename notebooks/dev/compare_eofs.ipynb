{
 "cells": [
  {
   "cell_type": "code",
   "execution_count": 2,
   "metadata": {},
   "outputs": [
    {
     "name": "stdout",
     "output_type": "stream",
     "text": [
      "The autoreload extension is already loaded. To reload it, use:\n",
      "  %reload_ext autoreload\n"
     ]
    },
    {
     "data": {
      "image/png": "[encoded data removed]",
      "text/plain": [
       "<Figure size 432x288 with 1 Axes>"
      ]
     },
     "metadata": {
      "needs_background": "light"
     },
     "output_type": "display_data"
    }
   ],
   "source": [
    "import sys\n",
    "sys.path.append('../modules')\n",
    "\n",
    "#from datacube import read_data\n",
    "from operators import *\n",
    "from preprocessing import *\n",
    "from eof import *\n",
    "from gridding import *\n",
    "from mapper import *\n",
    "from scipy import interpolate\n",
    "from scipy.stats import linregress\n",
    "\n",
    "import numpy as np\n",
    "import matplotlib.pyplot as plt\n",
    "import cartopy.crs as ccrs\n",
    "import cartopy.feature as cfeature\n",
    "import cartopy.feature\n",
    "import seaborn as sns\n",
    "import pandas as pd\n",
    "\n",
    "import glob\n",
    "\n",
    "\n",
    "\n",
    "%load_ext autoreload\n",
    "%autoreload 2\n",
    "\n",
    "import feather\n",
    "\n",
    "\n",
    "\n",
    "def read_data(data_path):\n",
    "    \"\"\"Load an ensemble of CanRCM4\n",
    "    models into a single datacube.\n",
    "    ------------------------------\n",
    "    Args:\n",
    "        data_path (Str): path to folder\n",
    "            containing CanRCM4 ensemble\n",
    "    Returns:\n",
    "        ds (xarray Dataset): data cube of assembled ensemble models\n",
    "            into a single variable.\n",
    "    \"\"\"\n",
    "    #check_path(data_path)\n",
    "\n",
    "    nc_list = np.asarray(glob.glob(data_path))\n",
    "    test_file = xr.open_dataset(nc_list[0])\n",
    "    actual_keys = set(test_file.variables).union(set(test_file.dims))\n",
    "    #check_keys(actual_keys, {'rlat', 'rlon', 'lat', 'lon'})\n",
    "\n",
    "    xr_list = [xr.open_dataset(path) for path in nc_list]\n",
    "    ds = xr.concat(xr_list, 'run')\n",
    "    actual_keys = set(ds.variables).union(set(ds.dims))\n",
    "    #check_keys(actual_keys, {'rlat', 'rlon', 'lat', 'lon', 'run'})\n",
    "\n",
    "     # find design value key so that it can\n",
    "    # be renamed to dv for references throughout\n",
    "    # climpyrical project\n",
    "    for var in list(ds.variables):\n",
    "\n",
    "        grids = ['rlon', 'rlat', 'lon', 'lat', 'time_bnds', 'bnds', 'time', 'rotated_pole']\n",
    "\n",
    "        if var not in grids and var in ds.variables:\n",
    "             ds = ds.rename({var: 'dv'})\n",
    "        if 'time' in ds.keys():\n",
    "            check_time(len(ds['time']))\n",
    "            ds = ds.squeeze('time')\n",
    "\n",
    "    return ds\n",
    "\n",
    "import xarray as xr\n",
    "#print(xr.open_dataset('/storage/data/projects/nrc/mapping_tool/data/pr_24hr_50yrs/pr24hr_50yrs_MLE_H09link_48grids_NAM-44_CCCma-CanESM2_historical-r1_r1i1p1_CCCma-CanRCM4_r2_1951-2016.nc'))\n",
    "iens = flatten_ensemble(read_data('/storage/data/projects/nrc/mapping_tool/data/pr_24hr_50yrs/*.nc')['dv'].values)\n",
    "iens = iens[:, ~np.isnan(iens)[0, ...]]\n",
    "u, s, vT = np.linalg.svd(iens, full_matrices=False)\n",
    "\n",
    "path = '../data/mpbasis.feather'\n",
    "reofs = feather.read_dataframe(path).values\n",
    "\n",
    "np.sort(reofs[0, ...]), np.sort(vT[0, ...])\n",
    "\n",
    "vT[:4, ...].min()\n",
    "\n",
    "x, y = np.sort(reofs[0, ...]), np.sort(vT[0, ...])\n",
    "\n",
    "sns.scatterplot(x, \n",
    "                y, \n",
    "                palette=\"viridis\",\n",
    "                marker='+')\n",
    "\n",
    "sns.lineplot(x, \n",
    "          x,\n",
    "          color='r')\n",
    "\n",
    "slope, intercept, r_value, p_value, std_err = linregress(x, y)\n",
    "\n",
    "plt.text(-0.02, -0.03, \"slope: {}\".format(slope))\n",
    "\n",
    "plt.ylabel('my eofs')\n",
    "plt.xlabel('chao\\'s eofs')\n",
    "plt.savefig('../plots/svdcomparison')"
   ]
  },
  {
   "cell_type": "code",
   "execution_count": null,
   "metadata": {},
   "outputs": [],
   "source": []
  }
 ],
 "metadata": {
  "kernelspec": {
   "display_name": "Python 3",
   "language": "python",
   "name": "python3"
  },
  "language_info": {
   "codemirror_mode": {
    "name": "ipython",
    "version": 3
   },
   "file_extension": ".py",
   "mimetype": "text/x-python",
   "name": "python",
   "nbconvert_exporter": "python",
   "pygments_lexer": "ipython3",
   "version": "3.6.8"
  }
 },
 "nbformat": 4,
 "nbformat_minor": 4
}
