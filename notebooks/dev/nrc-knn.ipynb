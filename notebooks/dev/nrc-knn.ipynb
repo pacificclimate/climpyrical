{
 "cells": [
  {
   "cell_type": "code",
   "execution_count": 1,
   "metadata": {},
   "outputs": [
    {
     "name": "stdout",
     "output_type": "stream",
     "text": [
      "Obtaining file:///home/nannau/temp/climpyrical/climpyrical_master/climpyrical\n",
      "Requirement already satisfied: numpy in /home/nannau/climpyrical-venv/lib/python3.6/site-packages (from climpyrical==0.1.dev0) (1.16.4)\n",
      "Requirement already satisfied: shapely in /home/nannau/climpyrical-venv/lib/python3.6/site-packages (from climpyrical==0.1.dev0) (1.6.4.post2)\n",
      "Requirement already satisfied: geopandas in /home/nannau/climpyrical-venv/lib/python3.6/site-packages (from climpyrical==0.1.dev0) (0.6.0)\n",
      "Requirement already satisfied: xarray in /home/nannau/climpyrical-venv/lib/python3.6/site-packages (from climpyrical==0.1.dev0) (0.12.2)\n",
      "Requirement already satisfied: fiona in /home/nannau/climpyrical-venv/lib/python3.6/site-packages (from geopandas->climpyrical==0.1.dev0) (1.8.8)\n",
      "Requirement already satisfied: pyproj in /home/nannau/climpyrical-venv/lib/python3.6/site-packages (from geopandas->climpyrical==0.1.dev0) (2.4.0)\n",
      "Requirement already satisfied: pandas>=0.23.0 in /home/nannau/climpyrical-venv/lib/python3.6/site-packages (from geopandas->climpyrical==0.1.dev0) (0.24.2)\n",
      "Requirement already satisfied: six>=1.7 in /home/nannau/climpyrical-venv/lib/python3.6/site-packages (from fiona->geopandas->climpyrical==0.1.dev0) (1.12.0)\n",
      "Requirement already satisfied: attrs>=17 in /home/nannau/climpyrical-venv/lib/python3.6/site-packages (from fiona->geopandas->climpyrical==0.1.dev0) (19.1.0)\n",
      "Requirement already satisfied: click-plugins>=1.0 in /home/nannau/climpyrical-venv/lib/python3.6/site-packages (from fiona->geopandas->climpyrical==0.1.dev0) (1.1.1)\n",
      "Requirement already satisfied: click<8,>=4.0 in /home/nannau/climpyrical-venv/lib/python3.6/site-packages (from fiona->geopandas->climpyrical==0.1.dev0) (7.0)\n",
      "Requirement already satisfied: cligj>=0.5 in /home/nannau/climpyrical-venv/lib/python3.6/site-packages (from fiona->geopandas->climpyrical==0.1.dev0) (0.5.0)\n",
      "Requirement already satisfied: munch in /home/nannau/climpyrical-venv/lib/python3.6/site-packages (from fiona->geopandas->climpyrical==0.1.dev0) (2.3.2)\n",
      "Requirement already satisfied: python-dateutil>=2.5.0 in /home/nannau/climpyrical-venv/lib/python3.6/site-packages (from pandas>=0.23.0->geopandas->climpyrical==0.1.dev0) (2.8.0)\n",
      "Requirement already satisfied: pytz>=2011k in /home/nannau/climpyrical-venv/lib/python3.6/site-packages (from pandas>=0.23.0->geopandas->climpyrical==0.1.dev0) (2019.1)\n",
      "Installing collected packages: climpyrical\n",
      "  Found existing installation: climpyrical 0.1.dev0\n",
      "    Uninstalling climpyrical-0.1.dev0:\n",
      "      Successfully uninstalled climpyrical-0.1.dev0\n",
      "  Running setup.py develop for climpyrical\n",
      "Successfully installed climpyrical\n",
      "\u001b[33mWARNING: You are using pip version 19.1.1, however version 20.0.2 is available.\n",
      "You should consider upgrading via the 'pip install --upgrade pip' command.\u001b[0m\n"
     ]
    }
   ],
   "source": [
    "!pip install -e ../../.\n",
    "from climpyrical.mask import *\n",
    "from climpyrical.gridding import *\n",
    "from climpyrical.datacube import *\n",
    "\n",
    "import matplotlib.pyplot as plt\n",
    "import numpy as np\n",
    "import geopandas as gpd\n",
    "import pandas as pd\n",
    "\n",
    "from sklearn import ensemble\n",
    "import seaborn as sns\n",
    "from scipy.stats import linregress\n",
    "from sklearn.model_selection import train_test_split\n",
    "from sklearn.model_selection import GridSearchCV\n",
    "from sklearn.utils import shuffle\n",
    "from sklearn.metrics import mean_squared_error\n",
    "from sklearn.preprocessing import StandardScaler\n",
    "from scipy.stats import norm\n",
    "from sklearn.metrics import *\n",
    "from sklearn.neighbors import KNeighborsRegressor\n",
    "from scipy import stats\n",
    "\n",
    "from sklearn.metrics.pairwise import paired_distances\n",
    "from scipy.spatial import distance\n",
    "from scipy.stats import linregress\n",
    "\n",
    "import plotly.graph_objects as go\n",
    "import plotly\n",
    "from plotly.subplots import make_subplots\n",
    "import chart_studio.plotly as py\n",
    "from plotly import colors as clr\n",
    "import chart_studio\n",
    "import xgeo\n",
    "\n",
    "chart_studio.tools.set_config_file(world_readable=False,\n",
    "                             sharing='private')\n",
    "\n",
    "%load_ext autoreload\n",
    "%autoreload 2"
   ]
  },
  {
   "cell_type": "code",
   "execution_count": 2,
   "metadata": {},
   "outputs": [],
   "source": [
    "PATH = '../../climpyrical/tests/data/snw_test_ensemble.nc'\n",
    "dv = 'Rain-RL50'\n",
    "dsold = read_data(PATH, dv)\n",
    "\n",
    "NNN = 3\n",
    "ds = regrid_ensemble(dsold, dv, NNN)\n"
   ]
  },
  {
   "cell_type": "code",
   "execution_count": 3,
   "metadata": {},
   "outputs": [],
   "source": [
    "shape = ds[dv].values[0, ...].shape"
   ]
  },
  {
   "cell_type": "code",
   "execution_count": 4,
   "metadata": {},
   "outputs": [
    {
     "data": {
      "text/plain": [
       "<matplotlib.image.AxesImage at 0x7fa743cfbcf8>"
      ]
     },
     "execution_count": 4,
     "metadata": {},
     "output_type": "execute_result"
    },
    {
     "data": {
      "image/png": "[encoded data removed]",
      "text/plain": [
       "<Figure size 432x288 with 1 Axes>"
      ]
     },
     "metadata": {
      "needs_background": "light"
     },
     "output_type": "display_data"
    }
   ],
   "source": [
    "mask = read_data('/home/nannau/temp/climpyrical/climpyrical_master/climpyrical/climpyrical/tests/data/land_mask_CanRCM4_sftlf.nc', design_value_name='sftlf', keys={'rlat', \n",
    "'rlon'})\n",
    "dvmask = 'sftlf'\n",
    "# mask\n",
    "mask = regrid_ensemble(mask, 'sftlf', NNN, keys={'rlat', 'rlon'})\n",
    "mask = mask[dvmask].values >= 1.0\n",
    "plt.imshow(mask, origin='lower')"
   ]
  },
  {
   "cell_type": "code",
   "execution_count": 5,
   "metadata": {},
   "outputs": [
    {
     "data": {
      "text/plain": [
       "(390, 465)"
      ]
     },
     "execution_count": 5,
     "metadata": {},
     "output_type": "execute_result"
    }
   ],
   "source": [
    "ens_mean = np.mean(ds[dv].values, axis=0)\n",
    "ens_mean.shape"
   ]
  },
  {
   "cell_type": "code",
   "execution_count": 6,
   "metadata": {},
   "outputs": [],
   "source": [
    "# Create a mask of extra NaN values that is flattened\n",
    "flat_mask_with_extra_nan = np.logical_and(~np.isnan(ens_mean.flatten()), mask.flatten())\n",
    "\n",
    "# Put back into the spatial shape\n",
    "final_mask = flat_mask_with_extra_nan.reshape(ens_mean.shape)\n",
    "\n",
    "# create two grids of rlon and rlat to use new mask with\n",
    "rlon, rlat = np.meshgrid(ds.rlon, ds.rlat)\n",
    "\n",
    "# check that the shapes of all of the arrays after masking are consistent\n",
    "assert rlat[final_mask].shape == rlon[final_mask].shape and ens_mean[final_mask].shape == rlat[final_mask].shape"
   ]
  },
  {
   "cell_type": "code",
   "execution_count": 15,
   "metadata": {},
   "outputs": [],
   "source": [
    "df = pd.read_csv('../../climpyrical/tests/data/stations.csv', index_col=None)\n",
    "station_dv = 'RL50 (kPa)'\n",
    "\n",
    "# transform into rotated pole\n",
    "rlon_st, rlat_st = transform_coords(df['lon'].values, df['lat'].values)\n",
    "df = df.assign(\n",
    "        rlon=rlon_st, \n",
    "        rlat=rlat_st\n",
    ")\n",
    "df = df[df[station_dv] != 0.0]\n",
    "\n",
    "# Add nearest rlon and rlat locations in grid to stations\n",
    "rlon_nearest_index, rlat_nearest_index = find_element_wise_nearest_pos(ds.rlon.values, ds.rlat.values, df.rlon.values, df.rlat.values)\n",
    "\n",
    "# df = df.assign(\n",
    "#         rlon=rlon[rlat_nearest_index, rlon_nearest_index], \n",
    "#         rlat=rlat[rlat_nearest_index, rlon_nearest_index]\n",
    "# )\n",
    "\n",
    "df = df.assign(\n",
    "    label='stations',\n",
    "    rlon_nearest_index = rlon_nearest_index, \n",
    "    rlat_nearest_index = rlat_nearest_index,\n",
    "    nearest_grid = list(zip(rlon_nearest_index, rlat_nearest_index))\n",
    ")\n",
    "\n",
    "# Group together stations falling in same grid cell and take mean\n",
    "ndf = df.groupby(['nearest_grid'], as_index=False).agg({\n",
    "                                station_dv: 'mean',\n",
    "                                'lat':'mean',\n",
    "                                'lon':'mean',\n",
    "                                'rlat': 'mean',\n",
    "                                'rlon': 'mean',\n",
    "                                'rlon_nearest_index':'mean',\n",
    "                                'rlat_nearest_index':'mean',\n",
    "                                'label': 'min',\n",
    "                            })\n",
    "\n",
    "# Get the indices for each grid axis that are matched and grouped\n",
    "rlon_i_agg, rlat_i_agg = ndf.rlon_nearest_index.values, ndf.rlat_nearest_index.values"
   ]
  },
  {
   "cell_type": "code",
   "execution_count": 134,
   "metadata": {},
   "outputs": [
    {
     "data": {
      "image/png": "[encoded data removed]",
      "text/plain": [
       "<Figure size 432x288 with 1 Axes>"
      ]
     },
     "metadata": {
      "needs_background": "light"
     },
     "output_type": "display_data"
    },
    {
     "data": {
      "text/plain": [
       "<matplotlib.axes._subplots.AxesSubplot at 0x7fa73e822ef0>"
      ]
     },
     "execution_count": 134,
     "metadata": {},
     "output_type": "execute_result"
    },
    {
     "data": {
      "image/png": "[encoded data removed]",
      "text/plain": [
       "<Figure size 432x288 with 1 Axes>"
      ]
     },
     "metadata": {
      "needs_background": "light"
     },
     "output_type": "display_data"
    }
   ],
   "source": [
    "plt.plot(rlon[rlat_nearest_index, rlon_nearest_index], df.rlon.values)\n",
    "plt.plot(rlat[rlat_nearest_index, rlon_nearest_index], df.rlat.values)\n",
    "plt.show()\n",
    "\n",
    "from sklearn.metrics import pairwise_distances_argmin_min\n",
    "\n",
    "distance_to_nearest_gridcell = pairwise_distances_argmin_min( \n",
    "    np.deg2rad(np.stack([ndf.rlon, ndf.rlat]).T), \n",
    "    np.deg2rad(\n",
    "        np.stack([rlon[rlat_i_agg, rlon_i_agg], rlat[rlat_i_agg, rlon_i_agg]]).T\n",
    "    ),\n",
    "    metric='haversine'\n",
    "    \n",
    ")[1]*6371000/1000\n",
    "ndf['distances']=distance_to_nearest_gridcell\n",
    "sns.distplot(ndf['distances'])"
   ]
  },
  {
   "cell_type": "code",
   "execution_count": 135,
   "metadata": {},
   "outputs": [
    {
     "data": {
      "text/plain": [
       "((378,), (378, 2))"
      ]
     },
     "execution_count": 135,
     "metadata": {},
     "output_type": "execute_result"
    }
   ],
   "source": [
    "X = np.stack([df.rlon.values, df.rlat.values]).T\n",
    "\n",
    "# rlat_nearest_index, rlon_nearest_index\n",
    "\n",
    "X = np.stack(\n",
    "        [\n",
    "            rlon[rlat_nearest_index, rlon_nearest_index], \n",
    "            rlat[rlat_nearest_index, rlon_nearest_index]\n",
    "        ]\n",
    ").T\n",
    "\n",
    "Xf = np.stack(\n",
    "        [\n",
    "            rlon[final_mask], \n",
    "            rlat[final_mask]\n",
    "        ]\n",
    ").T\n",
    "\n",
    "model_arr = np.array([\n",
    "                        find_nearest_index_value(\n",
    "                            ds.rlon.values, \n",
    "                            ds.rlat.values, \n",
    "                            rlon_nearest_index, \n",
    "                            rlat_nearest_index, \n",
    "                            ds[dv].values[i, ...], \n",
    "                            final_mask, \n",
    "                            ds\n",
    "                        ) for i in range(35)])\n",
    "ratio = df[station_dv].values/model_arr\n",
    "ratio[0,...].shape, X.shape"
   ]
  },
  {
   "cell_type": "code",
   "execution_count": 136,
   "metadata": {},
   "outputs": [
    {
     "data": {
      "text/plain": [
       "KNeighborsRegressor(algorithm='auto', leaf_size=30, metric='minkowski',\n",
       "                    metric_params=None, n_jobs=None, n_neighbors=5, p=2,\n",
       "                    weights='uniform')"
      ]
     },
     "execution_count": 136,
     "metadata": {},
     "output_type": "execute_result"
    }
   ],
   "source": [
    "KNeighborsRegressor()"
   ]
  },
  {
   "cell_type": "code",
   "execution_count": 144,
   "metadata": {},
   "outputs": [
    {
     "name": "stdout",
     "output_type": "stream",
     "text": [
      "0\n",
      "1\n",
      "2\n",
      "3\n",
      "4\n",
      "5\n",
      "6\n",
      "7\n",
      "8\n",
      "9\n",
      "10\n",
      "11\n",
      "12\n",
      "13\n",
      "14\n",
      "15\n",
      "16\n",
      "17\n",
      "18\n",
      "19\n",
      "20\n",
      "21\n",
      "22\n",
      "23\n",
      "24\n",
      "25\n",
      "26\n",
      "27\n",
      "28\n",
      "29\n",
      "30\n",
      "31\n",
      "32\n",
      "33\n",
      "34\n"
     ]
    }
   ],
   "source": [
    "warnings.filterwarnings('ignore')\n",
    "predlist = []\n",
    "predfull = []\n",
    "params_fit = []\n",
    "for i in range(35):\n",
    "    print(i)\n",
    "    parameters = {'n_neighbors': range(2, 50)}\n",
    "    model = KNeighborsRegressor(weights='distance')\n",
    "    clf = GridSearchCV(model, parameters, cv=10)\n",
    "    clf.fit(X, ratio[i, ...])\n",
    "    predlist.append(clf.predict(X))\n",
    "    predfull.append(clf.predict(Xf))\n",
    "    params_fit.append(clf.best_params_)"
   ]
  },
  {
   "cell_type": "code",
   "execution_count": 138,
   "metadata": {},
   "outputs": [],
   "source": [
    "preds = np.array(predlist)\n",
    "preds = preds*model_arr\n",
    "predsfull = np.array(predfull)*ds[dv].values[:, final_mask]"
   ]
  },
  {
   "cell_type": "code",
   "execution_count": 143,
   "metadata": {},
   "outputs": [
    {
     "data": {
      "text/plain": [
       "<matplotlib.collections.PathCollection at 0x7fa73cca1f60>"
      ]
     },
     "execution_count": 143,
     "metadata": {},
     "output_type": "execute_result"
    },
    {
     "data": {
      "image/png": "[encoded data removed]",
      "text/plain": [
       "<Figure size 432x288 with 1 Axes>"
      ]
     },
     "metadata": {
      "needs_background": "light"
     },
     "output_type": "display_data"
    }
   ],
   "source": [
    "S = ds[dv].values.copy()\n",
    "S[:, final_mask] = predsfull\n",
    "# S[:, rlat_nearest_index, rlon_nearest_index] = preds\n",
    "\n",
    "plt.scatter(find_nearest_index_value(\n",
    "    ds.rlon.values, \n",
    "    ds.rlat.values, \n",
    "    rlon_nearest_index, \n",
    "    rlat_nearest_index, \n",
    "    S[0, ...].copy(), \n",
    "    final_mask, \n",
    "    ds\n",
    "), df[station_dv])\n",
    "plt.scatter(S[0, rlat_nearest_index, rlon_nearest_index], df[station_dv])\n",
    "plt.scatter(preds[0, ...], df[station_dv])"
   ]
  },
  {
   "cell_type": "code",
   "execution_count": 111,
   "metadata": {},
   "outputs": [],
   "source": [
    "assert np.all([np.isclose(mean_squared_error(preds[i, ...], df[station_dv]), 0.) for i in range(35)])\n"
   ]
  },
  {
   "cell_type": "code",
   "execution_count": 119,
   "metadata": {},
   "outputs": [
    {
     "data": {
      "text/plain": [
       "21"
      ]
     },
     "execution_count": 119,
     "metadata": {},
     "output_type": "execute_result"
    }
   ],
   "source": [
    "ks = np.array([t['n_neighbors'] for t in params_fit])\n",
    "int(np.mean(ks))"
   ]
  },
  {
   "cell_type": "code",
   "execution_count": 120,
   "metadata": {},
   "outputs": [],
   "source": [
    "\n",
    "model = KNeighborsRegressor(n_neighbors=9, weights='distance')\n",
    "model.fit(X, ratio[0, ...])\n",
    "\n",
    "def pwhole_(alpha, k, Y):\n",
    "    rlon, rlat = np.meshgrid(ds.rlon, ds.rlat)\n",
    "    d_gridx = np.dstack((rlon, rlat))\n",
    "    a = np.array([rlon[final_mask], rlat[final_mask]]).T\n",
    "    a1 = np.array([df['rlon'].values, df['rlat'].values]).T\n",
    "#     a1 = np.array([rlon[rlat_i_agg, rlon_i_agg], rlat[rlat_i_agg, rlon_i_agg]]).T\n",
    "    model = KNeighborsRegressor(n_neighbors=k, weights='distance')\n",
    "    model.fit(X, Y)\n",
    "    d = model.kneighbors_graph(a, mode='distance').toarray()\n",
    "    fracs = np.linspace(0.2, -5)\n",
    "    residual = []\n",
    "    residual_plain = []\n",
    "    residual_inv=[]\n",
    "    psumar=[]\n",
    "\n",
    "    denom = np.exp(-alpha*np.sum(np.sort(d, axis=1)[:, :1], axis=1))\n",
    "    num = np.exp(-alpha*np.sort(distance.cdist(a, a1), axis=1)[:, 0])\n",
    "\n",
    "    p = num/denom\n",
    "    pwhole = ens_mean.copy()\n",
    "    pwhole[final_mask] = p\n",
    "    pwhole[~final_mask] = np.nan\n",
    "    return pwhole.reshape(ens_mean.shape)"
   ]
  },
  {
   "cell_type": "code",
   "execution_count": null,
   "metadata": {},
   "outputs": [],
   "source": [
    "stations, mean = [], []\n",
    "fracs = np.linspace(-1, 5, 30)\n",
    "\n",
    "for frac in fracs:\n",
    "    pwhole = pwhole_(frac, )\n",
    "    \n",
    "    values = np.stack([ndf.rlon, ndf.rlat])\n",
    "    ndf['ratio'] = ndf[station_dv]/ndf.mean_values\n",
    "    \n",
    "    final = ens_mean.copy()\n",
    "    Xfull = np.stack([rlon[final_mask], rlat[final_mask]])\n",
    "    predfull = model.predict(Xfull.T)\n",
    "    final[final_mask] = predfull\n",
    "    final = ((np.ones(ens_mean.shape)-pwhole) + pwhole*final)*ens_mean\n",
    "\n",
    "    final[~final_mask] = np.nan\n",
    "\n",
    "\n",
    "    pred = find_nearest_index_value(ds.rlon.values, ds.rlat.values, rlon_i_agg, rlat_i_agg, final.copy(), final_mask, ds)\n",
    "    station_vals = ndf['ratio'].values*ndf.mean_values\n",
    "    stations.append(np.sqrt(mean_squared_error(station_vals, pred))) "
   ]
  }
 ],
 "metadata": {
  "kernelspec": {
   "display_name": "Python 3",
   "language": "python",
   "name": "python3"
  },
  "language_info": {
   "codemirror_mode": {
    "name": "ipython",
    "version": 3
   },
   "file_extension": ".py",
   "mimetype": "text/x-python",
   "name": "python",
   "nbconvert_exporter": "python",
   "pygments_lexer": "ipython3",
   "version": "3.6.8"
  }
 },
 "nbformat": 4,
 "nbformat_minor": 4
}
