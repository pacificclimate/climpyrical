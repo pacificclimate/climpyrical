{
 "cells": [
  {
   "cell_type": "code",
   "execution_count": 1,
   "metadata": {},
   "outputs": [
    {
     "name": "stdout",
     "output_type": "stream",
     "text": [
      "Obtaining file:///home/nannau/climpyrical\n",
      "Requirement already satisfied: numpy in /home/nannau/tri/lib/python3.6/site-packages (from climpyrical==0.1.dev0) (1.17.3)\n",
      "Requirement already satisfied: shapely in /home/nannau/tri/lib/python3.6/site-packages (from climpyrical==0.1.dev0) (1.6.4.post2)\n",
      "Requirement already satisfied: geopandas in /home/nannau/tri/lib/python3.6/site-packages (from climpyrical==0.1.dev0) (0.6.1)\n",
      "Requirement already satisfied: xarray in /home/nannau/tri/lib/python3.6/site-packages (from climpyrical==0.1.dev0) (0.12.1)\n",
      "Requirement already satisfied: pandas>=0.23.0 in /home/nannau/tri/lib/python3.6/site-packages (from geopandas->climpyrical==0.1.dev0) (0.25.3)\n",
      "Requirement already satisfied: fiona in /home/nannau/tri/lib/python3.6/site-packages (from geopandas->climpyrical==0.1.dev0) (1.8.11)\n",
      "Requirement already satisfied: pyproj in /home/nannau/tri/lib/python3.6/site-packages (from geopandas->climpyrical==0.1.dev0) (2.4.1)\n",
      "Requirement already satisfied: python-dateutil>=2.6.1 in /home/nannau/tri/lib/python3.6/site-packages (from pandas>=0.23.0->geopandas->climpyrical==0.1.dev0) (2.8.1)\n",
      "Requirement already satisfied: pytz>=2017.2 in /home/nannau/tri/lib/python3.6/site-packages (from pandas>=0.23.0->geopandas->climpyrical==0.1.dev0) (2019.3)\n",
      "Requirement already satisfied: click-plugins>=1.0 in /home/nannau/tri/lib/python3.6/site-packages (from fiona->geopandas->climpyrical==0.1.dev0) (1.1.1)\n",
      "Requirement already satisfied: click<8,>=4.0 in /home/nannau/tri/lib/python3.6/site-packages (from fiona->geopandas->climpyrical==0.1.dev0) (7.0)\n",
      "Requirement already satisfied: six>=1.7 in /home/nannau/tri/lib/python3.6/site-packages (from fiona->geopandas->climpyrical==0.1.dev0) (1.13.0)\n",
      "Requirement already satisfied: munch in /home/nannau/tri/lib/python3.6/site-packages (from fiona->geopandas->climpyrical==0.1.dev0) (2.5.0)\n",
      "Requirement already satisfied: cligj>=0.5 in /home/nannau/tri/lib/python3.6/site-packages (from fiona->geopandas->climpyrical==0.1.dev0) (0.5.0)\n",
      "Requirement already satisfied: attrs>=17 in /home/nannau/tri/lib/python3.6/site-packages (from fiona->geopandas->climpyrical==0.1.dev0) (19.3.0)\n",
      "Installing collected packages: climpyrical\n",
      "  Found existing installation: climpyrical 0.1.dev0\n",
      "    Uninstalling climpyrical-0.1.dev0:\n",
      "      Successfully uninstalled climpyrical-0.1.dev0\n",
      "  Running setup.py develop for climpyrical\n",
      "Successfully installed climpyrical\n",
      "\u001b[33mYou are using pip version 18.1, however version 20.0.2 is available.\n",
      "You should consider upgrading via the 'pip install --upgrade pip' command.\u001b[0m\n"
     ]
    }
   ],
   "source": [
    "!pip install -e ../../.\n",
    "from climpyrical.mask import *\n",
    "from climpyrical.gridding import *\n",
    "from climpyrical.datacube import *\n",
    "\n",
    "import matplotlib.pyplot as plt\n",
    "import numpy as np\n",
    "import geopandas as gpd\n",
    "import pandas as pd\n",
    "\n",
    "from sklearn import ensemble\n",
    "import seaborn as sns\n",
    "from scipy.stats import linregress\n",
    "from sklearn.model_selection import train_test_split\n",
    "from sklearn.model_selection import GridSearchCV\n",
    "from sklearn.utils import shuffle\n",
    "from sklearn.metrics import mean_squared_error\n",
    "from sklearn.preprocessing import StandardScaler\n",
    "from scipy.stats import norm\n",
    "from sklearn.metrics import *\n",
    "from sklearn.neighbors import KNeighborsRegressor\n",
    "from scipy import stats\n",
    "\n",
    "from sklearn.metrics.pairwise import paired_distances\n",
    "from scipy.spatial import distance\n",
    "from scipy.stats import linregress\n",
    "\n",
    "import plotly.graph_objects as go\n",
    "import plotly\n",
    "from plotly.subplots import make_subplots\n",
    "import chart_studio.plotly as py\n",
    "from plotly import colors as clr\n",
    "import chart_studio\n",
    "\n",
    "chart_studio.tools.set_config_file(world_readable=False,\n",
    "                             sharing='private')\n",
    "\n",
    "%load_ext autoreload\n",
    "%autoreload 2"
   ]
  },
  {
   "cell_type": "code",
   "execution_count": 78,
   "metadata": {},
   "outputs": [],
   "source": [
    "PATH = '../../climpyrical/tests/data/snw_test_ensemble.nc'\n",
    "dv = 'Rain-RL50'\n",
    "dsold = read_data(PATH, dv)\n",
    "\n",
    "NNN = 3\n",
    "ds = regrid_ensemble(dsold, dv, NNN)\n"
   ]
  },
  {
   "cell_type": "code",
   "execution_count": 79,
   "metadata": {},
   "outputs": [],
   "source": [
    "shape = ds[dv].values[0, ...].shape"
   ]
  },
  {
   "cell_type": "code",
   "execution_count": 80,
   "metadata": {},
   "outputs": [
    {
     "data": {
      "text/plain": [
       "<matplotlib.image.AxesImage at 0x7efc88a175c0>"
      ]
     },
     "execution_count": 80,
     "metadata": {},
     "output_type": "execute_result"
    },
    {
     "data": {
      "image/png": "[encoded data removed]",
      "text/plain": [
       "<Figure size 432x288 with 1 Axes>"
      ]
     },
     "metadata": {
      "needs_background": "light"
     },
     "output_type": "display_data"
    }
   ],
   "source": [
    "mask = read_data('/home/nannau/climpyrical/climpyrical/tests/data/land_mask_CanRCM4_sftlf.nc', design_value_name='sftlf', keys={'rlat', \n",
    "'rlon'})\n",
    "dvmask = 'sftlf'\n",
    "# mask\n",
    "mask = mask.squeeze('time')\n",
    "mask = mask.drop('time')\n",
    "mask = regrid_ensemble(mask, 'sftlf', NNN, keys={'rlat', 'rlon'})\n",
    "mask = mask[dvmask].values >= 1.0\n",
    "plt.imshow(mask, origin='lower')"
   ]
  },
  {
   "cell_type": "code",
   "execution_count": 81,
   "metadata": {},
   "outputs": [
    {
     "data": {
      "text/plain": [
       "(390, 465)"
      ]
     },
     "execution_count": 81,
     "metadata": {},
     "output_type": "execute_result"
    }
   ],
   "source": [
    "ens_mean = np.mean(ds[dv].values, axis=0)\n",
    "ens_mean.shape"
   ]
  },
  {
   "cell_type": "code",
   "execution_count": 82,
   "metadata": {},
   "outputs": [],
   "source": [
    "# Create a mask of extra NaN values that is flattened\n",
    "flat_mask_with_extra_nan = np.logical_and(~np.isnan(ens_mean.flatten()), mask.flatten())\n",
    "\n",
    "# Put back into the spatial shape\n",
    "final_mask = flat_mask_with_extra_nan.reshape(ens_mean.shape)\n",
    "\n",
    "# create two grids of rlon and rlat to use new mask with\n",
    "rlon, rlat = np.meshgrid(ds.rlon, ds.rlat)\n",
    "\n",
    "# check that the shapes of all of the arrays after masking are consistent\n",
    "assert rlat[final_mask].shape == rlon[final_mask].shape and ens_mean[final_mask].shape == rlat[final_mask].shape"
   ]
  },
  {
   "cell_type": "code",
   "execution_count": 83,
   "metadata": {},
   "outputs": [],
   "source": [
    "df = pd.read_csv('../../climpyrical/tests/data/stations.csv', index_col=None)\n",
    "station_dv = 'RL50 (kPa)'\n",
    "\n",
    "# transform into rotated pole\n",
    "rlon_st, rlat_st = transform_coords(df['lon'].values, df['lat'].values)\n",
    "df = df.assign(\n",
    "        rlon=rlon_st, \n",
    "        rlat=rlat_st\n",
    ")\n",
    "df = df[df[station_dv] != 0.0]\n",
    "\n",
    "# Add nearest rlon and rlat locations in grid to stations\n",
    "rlon_nearest_index, rlat_nearest_index = find_element_wise_nearest_pos(ds.rlon.values, ds.rlat.values, df.rlon.values, df.rlat.values)\n",
    "\n",
    "# df = df.assign(\n",
    "#         rlon=rlon[rlat_nearest_index, rlon_nearest_index], \n",
    "#         rlat=rlat[rlat_nearest_index, rlon_nearest_index]\n",
    "# )\n",
    "\n",
    "df = df.assign(\n",
    "    label='stations',\n",
    "    rlon_nearest_index = rlon_nearest_index, \n",
    "    rlat_nearest_index = rlat_nearest_index,\n",
    "    nearest_grid = list(zip(rlon_nearest_index, rlat_nearest_index))\n",
    ")\n",
    "\n",
    "# Group together stations falling in same grid cell and take mean\n",
    "ndf = df.groupby(['nearest_grid'], as_index=False).agg({\n",
    "                                station_dv: 'mean',\n",
    "                                'lat':'mean',\n",
    "                                'lon':'mean',\n",
    "                                'rlat': 'mean',\n",
    "                                'rlon': 'mean',\n",
    "                                'rlon_nearest_index':'mean',\n",
    "                                'rlat_nearest_index':'mean',\n",
    "                                'label': 'min',\n",
    "                            })\n",
    "\n",
    "# Get the indices for each grid axis that are matched and grouped\n",
    "rlon_i_agg, rlat_i_agg = ndf.rlon_nearest_index.values, ndf.rlat_nearest_index.values"
   ]
  },
  {
   "cell_type": "code",
   "execution_count": 84,
   "metadata": {},
   "outputs": [
    {
     "data": {
      "image/png": "[encoded data removed]",
      "text/plain": [
       "<Figure size 432x288 with 1 Axes>"
      ]
     },
     "metadata": {
      "needs_background": "light"
     },
     "output_type": "display_data"
    },
    {
     "data": {
      "text/plain": [
       "<matplotlib.axes._subplots.AxesSubplot at 0x7efc7f92ba58>"
      ]
     },
     "execution_count": 84,
     "metadata": {},
     "output_type": "execute_result"
    },
    {
     "data": {
      "image/png": "[encoded data removed]",
      "text/plain": [
       "<Figure size 432x288 with 1 Axes>"
      ]
     },
     "metadata": {
      "needs_background": "light"
     },
     "output_type": "display_data"
    }
   ],
   "source": [
    "plt.plot(rlon[rlat_nearest_index, rlon_nearest_index], df.rlon.values)\n",
    "plt.plot(rlat[rlat_nearest_index, rlon_nearest_index], df.rlat.values)\n",
    "plt.show()\n",
    "\n",
    "from sklearn.metrics import pairwise_distances_argmin_min\n",
    "\n",
    "distance_to_nearest_gridcell = pairwise_distances_argmin_min( \n",
    "    np.deg2rad(np.stack([ndf.rlon, ndf.rlat]).T), \n",
    "    np.deg2rad(\n",
    "        np.stack([rlon[rlat_i_agg, rlon_i_agg], rlat[rlat_i_agg, rlon_i_agg]]).T\n",
    "    ),\n",
    "    metric='haversine'\n",
    "    \n",
    ")[1]*6371000/1000\n",
    "ndf['distances']=distance_to_nearest_gridcell\n",
    "sns.distplot(ndf['distances'])"
   ]
  },
  {
   "cell_type": "code",
   "execution_count": 85,
   "metadata": {},
   "outputs": [
    {
     "data": {
      "text/plain": [
       "\u001b[0;31mSignature:\u001b[0m \u001b[0mfind_nearest_index_value\u001b[0m\u001b[0;34m(\u001b[0m\u001b[0mstation_vals\u001b[0m\u001b[0;34m,\u001b[0m \u001b[0mx\u001b[0m\u001b[0;34m,\u001b[0m \u001b[0my\u001b[0m\u001b[0;34m,\u001b[0m \u001b[0mx_i\u001b[0m\u001b[0;34m,\u001b[0m \u001b[0my_i\u001b[0m\u001b[0;34m,\u001b[0m \u001b[0mfield\u001b[0m\u001b[0;34m,\u001b[0m \u001b[0mmask\u001b[0m\u001b[0;34m,\u001b[0m \u001b[0mds\u001b[0m\u001b[0;34m)\u001b[0m\u001b[0;34m\u001b[0m\u001b[0;34m\u001b[0m\u001b[0m\n",
       "\u001b[0;31mDocstring:\u001b[0m\n",
       "Finds the nearest model value to a station location in the CanRCM4\n",
       "grid space\n",
       "Args:\n",
       "    x, y (np.ndarray): monotonically increasing array of column\n",
       "        or rowcoordinates\n",
       "    x_i, y_i (np.ndarray): indices in the rlon and rlat arrays\n",
       "        of the closest grid to stations\n",
       "    field (np.ndarray): 2 dimensional field array containing\n",
       "        the CanRCM4 field\n",
       "    mask (np.ndarray of bool): 2 dimensional mask array matching field\n",
       "        with a boolean mask of accepted values for analyses\n",
       "    ds (xarray.core.dataset.Dataset): dataset containing the ensemble for\n",
       "        checking consistency with ensemble\n",
       "Raises:\n",
       "    TypeError, ValueError in check_find_nearest_value_inputs\n",
       "    TypeError:\n",
       "            If arrays are not of type np.ndarray\n",
       "    ValueError:\n",
       "            If field provided is not made of x and y coordinates\n",
       "            If field shape and mask shapes are different\n",
       "            If x and y arrays are not monotonically increasing\n",
       "            If x and y arrays do not have expected range\n",
       "            If there are indices provided in x_i or y_i outside\n",
       "                of the expected grid space\n",
       "            If all values in x_i or y_i are not integers\n",
       "\u001b[0;31mFile:\u001b[0m      ~/climpyrical/climpyrical/gridding.py\n",
       "\u001b[0;31mType:\u001b[0m      function\n"
      ]
     },
     "metadata": {},
     "output_type": "display_data"
    }
   ],
   "source": [
    "find_nearest_index_value?"
   ]
  },
  {
   "cell_type": "code",
   "execution_count": 157,
   "metadata": {},
   "outputs": [
    {
     "name": "stdout",
     "output_type": "stream",
     "text": [
      "TRUE\n",
      "TRUE\n",
      "TRUE\n",
      "TRUE\n",
      "TRUE\n",
      "TRUE\n",
      "TRUE\n",
      "TRUE\n",
      "TRUE\n",
      "TRUE\n",
      "TRUE\n",
      "TRUE\n",
      "TRUE\n",
      "TRUE\n",
      "TRUE\n",
      "TRUE\n",
      "TRUE\n",
      "TRUE\n",
      "TRUE\n",
      "TRUE\n",
      "TRUE\n",
      "TRUE\n",
      "TRUE\n",
      "TRUE\n",
      "TRUE\n",
      "TRUE\n",
      "TRUE\n",
      "TRUE\n",
      "TRUE\n",
      "TRUE\n",
      "TRUE\n",
      "TRUE\n",
      "TRUE\n",
      "TRUE\n",
      "TRUE\n"
     ]
    },
    {
     "data": {
      "text/plain": [
       "((35, 378), (378, 2))"
      ]
     },
     "execution_count": 157,
     "metadata": {},
     "output_type": "execute_result"
    }
   ],
   "source": [
    "X = np.stack([df.rlon.values, df.rlat.values]).T\n",
    "\n",
    "# rlat_nearest_index, rlon_nearest_index\n",
    "\n",
    "X = np.stack(\n",
    "        [\n",
    "            rlon[rlat_nearest_index, rlon_nearest_index], \n",
    "            rlat[rlat_nearest_index, rlon_nearest_index]\n",
    "        ]\n",
    ").T\n",
    "\n",
    "Xf = np.stack(\n",
    "        [\n",
    "            rlon[final_mask], \n",
    "            rlat[final_mask]\n",
    "        ]\n",
    ").T\n",
    "\n",
    "model_arr = np.array(\n",
    "                [\n",
    "                    ds[dv].values.copy()[i, rlat_nearest_index, rlon_nearest_index] for i in range(35)\n",
    "                ]\n",
    ")\n",
    "\n",
    "model_arr = np.array([find_nearest_index_value(df[station_dv].values, ds.rlon.values, ds.rlat.values, rlon_nearest_index, rlat_nearest_index, ds[dv].values[i, ...], final_mask, ds) for i in range(35)])\n",
    "\n",
    "ratio = df[station_dv].values/model_arr\n",
    "\n",
    "ratio.shape, X.shape"
   ]
  },
  {
   "cell_type": "code",
   "execution_count": 158,
   "metadata": {},
   "outputs": [],
   "source": [
    "assert np.all([np.isclose(model_arr[:, i], ds[dv].values.copy()[:, rlat_nearest_index[i], rlon_nearest_index[i]]) for i in range(rlon_nearest_index.size)])"
   ]
  },
  {
   "cell_type": "code",
   "execution_count": 159,
   "metadata": {},
   "outputs": [
    {
     "data": {
      "text/plain": [
       "(35, 71928)"
      ]
     },
     "execution_count": 159,
     "metadata": {},
     "output_type": "execute_result"
    }
   ],
   "source": [
    "ds[dv].values.copy()[:, final_mask].shape"
   ]
  },
  {
   "cell_type": "code",
   "execution_count": 160,
   "metadata": {},
   "outputs": [
    {
     "data": {
      "text/plain": [
       "(35, 71928)"
      ]
     },
     "execution_count": 160,
     "metadata": {},
     "output_type": "execute_result"
    }
   ],
   "source": [
    "ds[dv].values.copy()[:, final_mask].shape"
   ]
  },
  {
   "cell_type": "code",
   "execution_count": 161,
   "metadata": {},
   "outputs": [
    {
     "data": {
      "text/plain": [
       "(False, False, False, False)"
      ]
     },
     "execution_count": 161,
     "metadata": {},
     "output_type": "execute_result"
    }
   ],
   "source": [
    "np.any(np.isnan(Xf)), np.any(np.isnan(X)), np.any(np.isnan(ratio)), np.any(np.isnan(model_arr))"
   ]
  },
  {
   "cell_type": "code",
   "execution_count": 162,
   "metadata": {},
   "outputs": [
    {
     "name": "stdout",
     "output_type": "stream",
     "text": [
      "CPU times: user 25.9 s, sys: 101 ms, total: 26 s\n",
      "Wall time: 26 s\n"
     ]
    }
   ],
   "source": [
    "%%time\n",
    "warnings.filterwarnings('ignore')\n",
    "predlist = []\n",
    "predfull = []\n",
    "params_fit = []\n",
    "parameters = {'n_neighbors': range(2, 50)}\n",
    "\n",
    "model = KNeighborsRegressor(weights='distance')\n",
    "clf = GridSearchCV(model, parameters, cv=10)\n",
    "\n",
    "for i in range(35):\n",
    "    clf = GridSearchCV(model, parameters, cv=10)\n",
    "    model = KNeighborsRegressor(weights='distance')\n",
    "    clf.fit(X, ratio[i, ...])\n",
    "    predlist.append(clf.predict(X))\n",
    "    predfull.append(clf.predict(Xf))\n",
    "#     print(clf.score(X, ratio[i, ...]))\n",
    "    params_fit.append(clf.best_params_)"
   ]
  },
  {
   "cell_type": "code",
   "execution_count": 163,
   "metadata": {},
   "outputs": [
    {
     "data": {
      "text/plain": [
       "43"
      ]
     },
     "execution_count": 163,
     "metadata": {},
     "output_type": "execute_result"
    }
   ],
   "source": [
    "78-35"
   ]
  },
  {
   "cell_type": "code",
   "execution_count": 164,
   "metadata": {},
   "outputs": [
    {
     "data": {
      "text/plain": [
       "(0, 326, 377, 378)"
      ]
     },
     "execution_count": 164,
     "metadata": {},
     "output_type": "execute_result"
    }
   ],
   "source": [
    "preds = np.array(predlist)\n",
    "preds = preds*model_arr\n",
    "predsfull = np.array(predfull)*ds[dv].values[:, final_mask]\n",
    "\n",
    "np.isin(model_arr, ds[dv].values)\n",
    "\n",
    "preds.shape, predsfull.shape\n",
    "\n",
    "np.sum(np.isnan(ratio[0, :])), np.sum(np.isin(preds[0, :], predsfull[0, :])), np.sum(np.isin(rlon[rlat_nearest_index, rlon_nearest_index], rlon[final_mask])), preds[0,:].size"
   ]
  },
  {
   "cell_type": "code",
   "execution_count": 172,
   "metadata": {},
   "outputs": [
    {
     "data": {
      "text/plain": [
       "15"
      ]
     },
     "execution_count": 172,
     "metadata": {},
     "output_type": "execute_result"
    },
    {
     "data": {
      "image/png": "[encoded data removed]",
      "text/plain": [
       "<Figure size 1008x1008 with 1 Axes>"
      ]
     },
     "metadata": {
      "needs_background": "light"
     },
     "output_type": "display_data"
    }
   ],
   "source": [
    "S = ds[dv].values.copy()\n",
    "\n",
    "S[:, final_mask] = predsfull\n",
    "# S[:, ~final_mask] = np.nan\n",
    "\n",
    "# S[:, final_mask] = predfull\n",
    "\n",
    "# S[:, rlat_nearest_index, rlon_nearest_index] = preds\n",
    "# for i in range(35):\n",
    "#       plt.scatteRr\n",
    "plt.figure(figsize=(14, 14))\n",
    "# plt.scatter(S[0, rlat_nearest_index, rlon_nearest_index], preds[0, :])\n",
    "#     plt.scatter(S[i, final_mask], ds[dv].values[i, final_mask], s=0.2)\n",
    "#     plt.scatter(preds[i, :]*model_arr[i, :], ratio[i, :]*model_arr[i, :], s=0.2)\n",
    "#     plt.scatter(S[i, rlat_nearest_index, rlon_nearest_index], ratio[i, :], s=0.2)\n",
    "    \n",
    "#     plt.scatter(S[i, rlat_nearest_index, rlon_nearest_index], df[station_dv])\n",
    "plt.xlabel('predictions')\n",
    "plt.ylabel('expected')\n",
    "\n",
    "weird = ~np.isclose(S[0, rlat_nearest_index, rlon_nearest_index]/df[station_dv], 1.0, atol=0.1)\n",
    "sns.scatterplot(S[0, rlat_nearest_index, rlon_nearest_index][weird], preds[0, weird])\n",
    "np.sum(~weird), weird.size, np.sum(weird)\n",
    "S[0, rlat_nearest_index, rlon_nearest_index][weird].size"
   ]
  },
  {
   "cell_type": "code",
   "execution_count": 166,
   "metadata": {},
   "outputs": [
    {
     "data": {
      "text/plain": [
       "15"
      ]
     },
     "execution_count": 166,
     "metadata": {},
     "output_type": "execute_result"
    }
   ],
   "source": [
    "np.sum(weird)"
   ]
  },
  {
   "cell_type": "code",
   "execution_count": 167,
   "metadata": {},
   "outputs": [
    {
     "data": {
      "text/plain": [
       "Coordinates:\n",
       "  * rlat     (rlat) float64 -28.75 -28.6 -28.45 -28.31 ... 28.01 28.16 28.31\n",
       "  * rlon     (rlon) float64 -34.03 -33.88 -33.73 -33.59 ... 33.73 33.88 34.03\n",
       "    lat      (rlat, rlon) float64 nan nan nan nan nan ... nan nan nan nan nan\n",
       "    lon      (rlat, rlon) float64 nan nan nan nan nan ... nan nan nan nan nan\n",
       "  * level    (level) int64 1 2 3 4 5 6 7 8 9 10 ... 27 28 29 30 31 32 33 34 35"
      ]
     },
     "execution_count": 167,
     "metadata": {},
     "output_type": "execute_result"
    }
   ],
   "source": [
    "ds.coords"
   ]
  },
  {
   "cell_type": "code",
   "execution_count": 168,
   "metadata": {},
   "outputs": [
    {
     "data": {
      "text/plain": [
       "363"
      ]
     },
     "execution_count": 168,
     "metadata": {},
     "output_type": "execute_result"
    }
   ],
   "source": [
    "np.sum(~weird)"
   ]
  },
  {
   "cell_type": "code",
   "execution_count": 171,
   "metadata": {},
   "outputs": [
    {
     "data": {
      "image/png": "[encoded data removed]",
      "text/plain": [
       "<Figure size 864x864 with 1 Axes>"
      ]
     },
     "metadata": {
      "needs_background": "light"
     },
     "output_type": "display_data"
    }
   ],
   "source": [
    "plt.figure(figsize=(12,12))\n",
    "plt.scatter(df.rlon.values[weird], df.rlat.values[weird])\n",
    "plt.imshow(mask, origin='lower', extent=[ds.rlon.min(), ds.rlon.max(), ds.rlat.min(), ds.rlat.max()])\n",
    "plt.savefig('incorrect_reconstructions.png')"
   ]
  },
  {
   "cell_type": "code",
   "execution_count": 289,
   "metadata": {},
   "outputs": [
    {
     "data": {
      "text/plain": [
       "array([[[nan, nan, nan, ..., nan, nan, nan],\n",
       "        [nan, nan, nan, ..., nan, nan, nan],\n",
       "        [nan, nan, nan, ..., nan, nan, nan],\n",
       "        ...,\n",
       "        [nan, nan, nan, ..., nan, nan, nan],\n",
       "        [nan, nan, nan, ..., nan, nan, nan],\n",
       "        [nan, nan, nan, ..., nan, nan, nan]],\n",
       "\n",
       "       [[nan, nan, nan, ..., nan, nan, nan],\n",
       "        [nan, nan, nan, ..., nan, nan, nan],\n",
       "        [nan, nan, nan, ..., nan, nan, nan],\n",
       "        ...,\n",
       "        [nan, nan, nan, ..., nan, nan, nan],\n",
       "        [nan, nan, nan, ..., nan, nan, nan],\n",
       "        [nan, nan, nan, ..., nan, nan, nan]],\n",
       "\n",
       "       [[nan, nan, nan, ..., nan, nan, nan],\n",
       "        [nan, nan, nan, ..., nan, nan, nan],\n",
       "        [nan, nan, nan, ..., nan, nan, nan],\n",
       "        ...,\n",
       "        [nan, nan, nan, ..., nan, nan, nan],\n",
       "        [nan, nan, nan, ..., nan, nan, nan],\n",
       "        [nan, nan, nan, ..., nan, nan, nan]],\n",
       "\n",
       "       ...,\n",
       "\n",
       "       [[nan, nan, nan, ..., nan, nan, nan],\n",
       "        [nan, nan, nan, ..., nan, nan, nan],\n",
       "        [nan, nan, nan, ..., nan, nan, nan],\n",
       "        ...,\n",
       "        [nan, nan, nan, ..., nan, nan, nan],\n",
       "        [nan, nan, nan, ..., nan, nan, nan],\n",
       "        [nan, nan, nan, ..., nan, nan, nan]],\n",
       "\n",
       "       [[nan, nan, nan, ..., nan, nan, nan],\n",
       "        [nan, nan, nan, ..., nan, nan, nan],\n",
       "        [nan, nan, nan, ..., nan, nan, nan],\n",
       "        ...,\n",
       "        [nan, nan, nan, ..., nan, nan, nan],\n",
       "        [nan, nan, nan, ..., nan, nan, nan],\n",
       "        [nan, nan, nan, ..., nan, nan, nan]],\n",
       "\n",
       "       [[nan, nan, nan, ..., nan, nan, nan],\n",
       "        [nan, nan, nan, ..., nan, nan, nan],\n",
       "        [nan, nan, nan, ..., nan, nan, nan],\n",
       "        ...,\n",
       "        [nan, nan, nan, ..., nan, nan, nan],\n",
       "        [nan, nan, nan, ..., nan, nan, nan],\n",
       "        [nan, nan, nan, ..., nan, nan, nan]]], dtype=float32)"
      ]
     },
     "execution_count": 289,
     "metadata": {},
     "output_type": "execute_result"
    }
   ],
   "source": [
    "# assert np.all([np.isclose(mean_squared_error(preds[i, ...], df[station_dv]), 0.) for i in range(35)])\n"
   ]
  },
  {
   "cell_type": "code",
   "execution_count": null,
   "metadata": {},
   "outputs": [],
   "source": [
    "ks = np.array([t['n_neighbors'] for t in params_fit])\n",
    "ks"
   ]
  },
  {
   "cell_type": "code",
   "execution_count": 261,
   "metadata": {},
   "outputs": [],
   "source": [
    "\n",
    "model = KNeighborsRegressor(n_neighbors=9, weights='distance')\n",
    "model.fit(X, ratio[0, ...])\n",
    "\n",
    "def pwhole_(alpha, k, Y):\n",
    "    rlon, rlat = np.meshgrid(ds.rlon, ds.rlat)\n",
    "    d_gridx = np.dstack((rlon, rlat))\n",
    "    a = np.array([rlon[final_mask], rlat[final_mask]]).T\n",
    "    a1 = np.array([df['rlon'].values, df['rlat'].values]).T\n",
    "#     a1 = np.array([rlon[rlat_i_agg, rlon_i_agg], rlat[rlat_i_agg, rlon_i_agg]]).T\n",
    "    model = KNeighborsRegressor(n_neighbors=k, weights='distance')\n",
    "    model.fit(X, Y)\n",
    "    d = model.kneighbors_graph(a, mode='distance').toarray()\n",
    "    fracs = np.linspace(0.2, -5)\n",
    "    residual = []\n",
    "    residual_plain = []\n",
    "    residual_inv=[]\n",
    "    psumar=[]\n",
    "\n",
    "    denom = np.exp(-alpha*np.sum(np.sort(d, axis=1)[:, :1], axis=1))\n",
    "    num = np.exp(-alpha*np.sort(distance.cdist(a, a1), axis=1)[:, 0])\n",
    "\n",
    "    p = num/denom\n",
    "    pwhole = ens_mean.copy()\n",
    "    pwhole[final_mask] = p\n",
    "    pwhole[~final_mask] = np.nan\n",
    "    return pwhole.reshape(ens_mean.shape)"
   ]
  },
  {
   "cell_type": "code",
   "execution_count": 262,
   "metadata": {},
   "outputs": [
    {
     "ename": "TypeError",
     "evalue": "pwhole_() missing 2 required positional arguments: 'k' and 'Y'",
     "output_type": "error",
     "traceback": [
      "\u001b[0;31m---------------------------------------------------------------------------\u001b[0m",
      "\u001b[0;31mTypeError\u001b[0m                                 Traceback (most recent call last)",
      "\u001b[0;32m<ipython-input-262-a436c56d32c8>\u001b[0m in \u001b[0;36m<module>\u001b[0;34m\u001b[0m\n\u001b[1;32m      3\u001b[0m \u001b[0;34m\u001b[0m\u001b[0m\n\u001b[1;32m      4\u001b[0m \u001b[0;32mfor\u001b[0m \u001b[0mfrac\u001b[0m \u001b[0;32min\u001b[0m \u001b[0mfracs\u001b[0m\u001b[0;34m:\u001b[0m\u001b[0;34m\u001b[0m\u001b[0;34m\u001b[0m\u001b[0m\n\u001b[0;32m----> 5\u001b[0;31m     \u001b[0mpwhole\u001b[0m \u001b[0;34m=\u001b[0m \u001b[0mpwhole_\u001b[0m\u001b[0;34m(\u001b[0m\u001b[0mfrac\u001b[0m\u001b[0;34m,\u001b[0m \u001b[0;34m)\u001b[0m\u001b[0;34m\u001b[0m\u001b[0;34m\u001b[0m\u001b[0m\n\u001b[0m\u001b[1;32m      6\u001b[0m \u001b[0;34m\u001b[0m\u001b[0m\n\u001b[1;32m      7\u001b[0m     \u001b[0mvalues\u001b[0m \u001b[0;34m=\u001b[0m \u001b[0mnp\u001b[0m\u001b[0;34m.\u001b[0m\u001b[0mstack\u001b[0m\u001b[0;34m(\u001b[0m\u001b[0;34m[\u001b[0m\u001b[0mndf\u001b[0m\u001b[0;34m.\u001b[0m\u001b[0mrlon\u001b[0m\u001b[0;34m,\u001b[0m \u001b[0mndf\u001b[0m\u001b[0;34m.\u001b[0m\u001b[0mrlat\u001b[0m\u001b[0;34m]\u001b[0m\u001b[0;34m)\u001b[0m\u001b[0;34m\u001b[0m\u001b[0;34m\u001b[0m\u001b[0m\n",
      "\u001b[0;31mTypeError\u001b[0m: pwhole_() missing 2 required positional arguments: 'k' and 'Y'"
     ]
    }
   ],
   "source": [
    "stations, mean = [], []\n",
    "fracs = np.linspace(-1, 5, 30)\n",
    "\n",
    "for frac in fracs:\n",
    "    pwhole = pwhole_(frac, ks, )\n",
    "    \n",
    "    values = np.stack([ndf.rlon, ndf.rlat])\n",
    "    ndf['ratio'] = ndf[station_dv]/ndf.mean_values\n",
    "    \n",
    "    final = ens_mean.copy()\n",
    "    Xfull = np.stack([rlon[final_mask], rlat[final_mask]])\n",
    "    predfull = model.predict(Xfull.T)\n",
    "    final[final_mask] = predfull\n",
    "    final = ((np.ones(ens_mean.shape)-pwhole) + pwhole*final)*ens_mean\n",
    "\n",
    "    final[~final_mask] = np.nan\n",
    "\n",
    "\n",
    "    pred = find_nearest_index_value(ds.rlon.values, ds.rlat.values, rlon_i_agg, rlat_i_agg, final.copy(), final_mask, ds)\n",
    "    station_vals = ndf['ratio'].values*ndf.mean_values\n",
    "    stations.append(np.sqrt(mean_squared_error(station_vals, pred))) "
   ]
  },
  {
   "cell_type": "code",
   "execution_count": null,
   "metadata": {},
   "outputs": [],
   "source": []
  }
 ],
 "metadata": {
  "kernelspec": {
   "display_name": "Python 3",
   "language": "python",
   "name": "python3"
  },
  "language_info": {
   "codemirror_mode": {
    "name": "ipython",
    "version": 3
   },
   "file_extension": ".py",
   "mimetype": "text/x-python",
   "name": "python",
   "nbconvert_exporter": "python",
   "pygments_lexer": "ipython3",
   "version": "3.6.7"
  }
 },
 "nbformat": 4,
 "nbformat_minor": 4
}
