{
 "cells": [
  {
   "cell_type": "code",
   "execution_count": 1,
   "metadata": {},
   "outputs": [],
   "source": [
    "import sys\n",
    "sys.path.append('../modules')\n",
    "\n",
    "from operators import *\n",
    "from preprocessing import *\n",
    "from eof import *\n",
    "from gridding import *\n",
    "from mapper import *\n",
    "from scipy.stats import linregress\n",
    "\n",
    "import numpy as np\n",
    "import matplotlib.pyplot as plt\n",
    "import cartopy.crs as ccrs\n",
    "import cartopy.feature as cfeature\n",
    "import cartopy.feature\n",
    "import seaborn as sns\n",
    "import pandas as pd\n",
    "\n",
    "%load_ext autoreload\n",
    "%autoreload 2"
   ]
  },
  {
   "cell_type": "markdown",
   "metadata": {},
   "source": [
    "## Snowload\n",
    "---\n",
    "Load data and interpolate the design value field"
   ]
  },
  {
   "cell_type": "code",
   "execution_count": 2,
   "metadata": {},
   "outputs": [],
   "source": [
    "PATH = '/storage/data/projects/nrc/CanRCM4_large_ensemble/design_values/snw/snw_CanRCM4-LE_ens35_1951-2016_max_rl50_load.nc'\n",
    "mask_path = '/home/nannau/Desktop/climpyrical/data/mask.nc'\n",
    "dv = 'snw'\n",
    "\n",
    "interp_dict = get_interpolation(mask_path, PATH, dv)\n",
    "master_idx = interp_dict['idx']\n",
    "iens = (interp_dict['iens'][:, master_idx])\n",
    "\n",
    "from sklearn.preprocessing import StandardScaler\n",
    "scaler = StandardScaler(with_mean=True, with_std=False, copy=True)\n",
    "iens = scaler.fit_transform(iens)"
   ]
  },
  {
   "cell_type": "markdown",
   "metadata": {},
   "source": [
    "Perform singular value decomposition"
   ]
  },
  {
   "cell_type": "code",
   "execution_count": 3,
   "metadata": {},
   "outputs": [
    {
     "data": {
      "text/plain": [
       "(35, 799963)"
      ]
     },
     "execution_count": 3,
     "metadata": {},
     "output_type": "execute_result"
    }
   ],
   "source": [
    "u, s, vT = np.linalg.svd(iens, full_matrices=False)\n",
    "explained_variance_ratio = [s[i]/np.sum(s) for i in range(s.shape[0])]\n",
    "\n",
    "del u\n",
    "vT.shape"
   ]
  },
  {
   "cell_type": "code",
   "execution_count": 5,
   "metadata": {},
   "outputs": [
    {
     "data": {
      "text/plain": [
       "[<matplotlib.lines.Line2D at 0x7f41e77da7b8>]"
      ]
     },
     "execution_count": 5,
     "metadata": {},
     "output_type": "execute_result"
    },
    {
     "data": {
      "image/png": "[encoded data removed]",
      "text/plain": [
       "<Figure size 432x288 with 1 Axes>"
      ]
     },
     "metadata": {
      "needs_background": "light"
     },
     "output_type": "display_data"
    }
   ],
   "source": [
    "plt.plot(range(s.shape[0]), explained_variance_ratio)"
   ]
  },
  {
   "cell_type": "markdown",
   "metadata": {},
   "source": [
    "Transform back into the spatial representation"
   ]
  },
  {
   "cell_type": "code",
   "execution_count": null,
   "metadata": {},
   "outputs": [],
   "source": [
    "iens_copy = np.empty((interp_dict['iens'].shape))\n",
    "iens_copy[...] = np.nan\n",
    "iens_copy[:, master_idx] = vT\n",
    "X = np.reshape(iens_copy, (iens_copy.shape[0], interp_dict['irlat'].shape[0], interp_dict['irlon'].shape[0]))"
   ]
  },
  {
   "cell_type": "code",
   "execution_count": null,
   "metadata": {},
   "outputs": [],
   "source": [
    "fig, axes = plt.subplots(2, 2, figsize=(12, 12))\n",
    "x, y = interp_dict['irlon'], interp_dict['irlat']\n",
    "eof1 = axes[0, 0].imshow(X[0, ...], origin='lower', cmap=plt.cm.get_cmap('RdBu', 12), label='EOF', vmin=-.0025, vmax=0.0025, extent=[x.min(), x.max(), y.min(), y.max()])\n",
    "axes[0, 0].set_title('EOF 1: {0:.4f}%'.format(explained_variance_ratio[0]))\n",
    "axes[1, 0].imshow(X[1, ...], origin='lower', cmap=plt.cm.get_cmap('RdBu', 12), label='EOF', vmin=-.0025, vmax=0.0025, extent=[x.min(), x.max(), y.min(), y.max()])\n",
    "axes[1, 0].set_title('EOF 2: {0:.4f}%'.format(explained_variance_ratio[1]))\n",
    "axes[0, 1].imshow(X[2, ...], origin='lower', cmap=plt.cm.get_cmap('RdBu', 12), label='EOF', vmin=-.0025, vmax=0.0025, extent=[x.min(), x.max(), y.min(), y.max()])\n",
    "axes[0, 1].set_title('EOF 3: {0:.4f}%'.format(explained_variance_ratio[2]))\n",
    "axes[1, 1].imshow(X[3, ...], origin='lower', cmap=plt.cm.get_cmap('RdBu', 12), label='EOF', vmin=-.0025, vmax=0.0025, extent=[x.min(), x.max(), y.min(), y.max()])\n",
    "axes[1, 1].set_title('EOF 4: {0:.4f}%'.format(explained_variance_ratio[3]))\n",
    "# plt.tight_layout(pad=2, w_pad=0.5, h_pad=1.0)\n",
    "plt.colorbar(eof1, ax=axes.ravel().tolist(), orientation='horizontal')\n",
    "# plt.set_xlim(x.min(), x.max())"
   ]
  },
  {
   "cell_type": "code",
   "execution_count": null,
   "metadata": {},
   "outputs": [],
   "source": []
  }
 ],
 "metadata": {
  "kernelspec": {
   "display_name": "Python 3",
   "language": "python",
   "name": "python3"
  },
  "language_info": {
   "codemirror_mode": {
    "name": "ipython",
    "version": 3
   },
   "file_extension": ".py",
   "mimetype": "text/x-python",
   "name": "python",
   "nbconvert_exporter": "python",
   "pygments_lexer": "ipython3",
   "version": "3.6.8"
  }
 },
 "nbformat": 4,
 "nbformat_minor": 4
}
