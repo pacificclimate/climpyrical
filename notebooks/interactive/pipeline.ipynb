{
 "cells": [
  {
   "cell_type": "markdown",
   "metadata": {},
   "source": [
    "# Interactive Moving Window Kriging Pipeline\n",
    "---\n",
    "The preprocessing pipeline is executed in the following sequence. It assumes that masks have been generated. If a custom mask is required, work through the `mask.ipynb` file to see how the default masks were generated.\n",
    "\n",
    "1. Place netCDF models into `climpyrical/data/model_inputs`. Ensemble models must have:\n",
    "    * lat, lon, rlat, rlon and a 2D data field variable\n",
    "2. Place station files into `climpyrical/data/station_inputs`. Input stations must have:\n",
    "    * A data column with the design value of interest in the same units as the ensemble model. Note that the units need to be placed in parentheses next to the data variable name. i.e \"RL50 (kPa)\" or \"HDD (degC-day)\" are examples of valid names\n",
    "    * latitude or longitude columns\n",
    "    * Additional columns, like province name, elevation, and station name are optional, but recommended\n",
    "3. The data produced in the pipeline will go in various subdirectories of `climpyrical/data/results/` using the PCIC design value naming standards (outlined below)\n",
    "    * figures will be in `climpyrical/data/results/figures/`\n",
    "    * tables will be in `climpyrical/data/results/tables/`\n",
    "    * netCDF files in `climpyrical/data/results/datasets/`\n",
    "    * intermediate notebooks for troubleshooting will be in `climpyrical/data/results/intermediate/`\n",
    "\n",
    "```\n",
    "climpyrical/data/results\n",
    "├── datasets\n",
    "│   └── \n",
    "├── figures\n",
    "│   ├── \n",
    "├── intermediate\n",
    "│   ├── notebooks\n",
    "│   │   ├── model_log_{design value}.ipynb\n",
    "│   │   ├── plotting_log_{design value}.ipynb\n",
    "│   │   ├── RR_log_{design value}.ipynb\n",
    "│   │   ├── station_log_{design value}.ipynb\n",
    "│   ├── preprocessed_models\n",
    "│   │   ├── {design value}\\_preprocessed.nc\n",
    "│   └── preprocessed_stations\n",
    "│       └── {design value}\\_processed_stations.csv\n",
    "└── tables\n",
    "     └── {design_vale}\\tablec2.csv\n",
    "```"
   ]
  },
  {
   "cell_type": "code",
   "execution_count": 1,
   "metadata": {},
   "outputs": [],
   "source": [
    "import papermill as pm\n",
    "import config\n",
    "from simple_colors import red\n",
    "from pkg_resources import resource_filename"
   ]
  },
  {
   "cell_type": "markdown",
   "metadata": {},
   "source": [
    "## Configuration\n",
    "---\n",
    "\n",
    "Configure the notebook pipeline. This notebook calls subsequent notebooks in the correct order.\n",
    "\n",
    "`station_dv` is the name of the design values as they appear in the station csv header column file provided for the station processing step. The naming standards between the station files and the output files need to manually configured\n",
    "\n",
    "\n",
    "`filenames` this dictionary relates the station design value name to the PCIC design value standard name for the given design value. I.e. it produces filenames and plot titles according to this relationsihp"
   ]
  },
  {
   "cell_type": "code",
   "execution_count": 2,
   "metadata": {
    "tags": [
     "parameters"
    ]
   },
   "outputs": [],
   "source": [
    "notebooks = [\"preprocess_model.ipynb\", \"stations.ipynb\", \"ratio_kriging.ipynb\"]\n",
    "\n",
    "station_dvs = config.station_dvs\n",
    "filenames = config.filenames\n",
    "model_paths = config.model_paths\n",
    "station_paths = config.station_paths"
   ]
  },
  {
   "cell_type": "markdown",
   "metadata": {},
   "source": [
    "# Run the pipeline\n",
    "---\n",
    "For each station in the `station_dvs` list, run each file in the pipeline."
   ]
  },
  {
   "cell_type": "code",
   "execution_count": 3,
   "metadata": {},
   "outputs": [
    {
     "name": "stdout",
     "output_type": "stream",
     "text": [
      "\u001b[1;31mGeneration figures for RL50 (kPa)\u001b[0m\n"
     ]
    },
    {
     "data": {
      "application/vnd.jupyter.widget-view+json": {
       "model_id": "cdc2fb50e7864108bc2f31dbd00737a0",
       "version_major": 2,
       "version_minor": 0
      },
      "text/plain": [
       "HBox(children=(HTML(value='Executing'), FloatProgress(value=0.0, max=11.0), HTML(value='')))"
      ]
     },
     "metadata": {},
     "output_type": "display_data"
    },
    {
     "name": "stdout",
     "output_type": "stream",
     "text": [
      "\n",
      "\u001b[1;31mGeneration figures for SL50 (kPa)\u001b[0m\n"
     ]
    },
    {
     "data": {
      "application/vnd.jupyter.widget-view+json": {
       "model_id": "7009c5ec98da40b2b4036cd8bfc5ba1d",
       "version_major": 2,
       "version_minor": 0
      },
      "text/plain": [
       "HBox(children=(HTML(value='Executing'), FloatProgress(value=0.0, max=11.0), HTML(value='')))"
      ]
     },
     "metadata": {},
     "output_type": "display_data"
    },
    {
     "name": "stdout",
     "output_type": "stream",
     "text": [
      "\n",
      "\u001b[1;31mGeneration figures for moisture_index\u001b[0m\n"
     ]
    },
    {
     "data": {
      "application/vnd.jupyter.widget-view+json": {
       "model_id": "0c80dc80d05b4c4a8d8ab5a5573f3e5f",
       "version_major": 2,
       "version_minor": 0
      },
      "text/plain": [
       "HBox(children=(HTML(value='Executing'), FloatProgress(value=0.0, max=11.0), HTML(value='')))"
      ]
     },
     "metadata": {},
     "output_type": "display_data"
    },
    {
     "name": "stdout",
     "output_type": "stream",
     "text": [
      "\n",
      "\u001b[1;31mGeneration figures for mean RH (%)\u001b[0m\n"
     ]
    },
    {
     "data": {
      "application/vnd.jupyter.widget-view+json": {
       "model_id": "dadded1a57a342a08c76e408d01181ac",
       "version_major": 2,
       "version_minor": 0
      },
      "text/plain": [
       "HBox(children=(HTML(value='Executing'), FloatProgress(value=0.0, max=11.0), HTML(value='')))"
      ]
     },
     "metadata": {},
     "output_type": "display_data"
    },
    {
     "name": "stdout",
     "output_type": "stream",
     "text": [
      "\n",
      "\u001b[1;31mGeneration figures for HDD (degC-day)\u001b[0m\n"
     ]
    },
    {
     "data": {
      "application/vnd.jupyter.widget-view+json": {
       "model_id": "8b3d781573f34981a1574fd87d58d7d8",
       "version_major": 2,
       "version_minor": 0
      },
      "text/plain": [
       "HBox(children=(HTML(value='Executing'), FloatProgress(value=0.0, max=11.0), HTML(value='')))"
      ]
     },
     "metadata": {},
     "output_type": "display_data"
    },
    {
     "name": "stdout",
     "output_type": "stream",
     "text": [
      "\n",
      "\u001b[1;31mGeneration figures for TJan2.5 (degC)\u001b[0m\n"
     ]
    },
    {
     "data": {
      "application/vnd.jupyter.widget-view+json": {
       "model_id": "4144b11ef0a24b06b0303cb5394da7c7",
       "version_major": 2,
       "version_minor": 0
      },
      "text/plain": [
       "HBox(children=(HTML(value='Executing'), FloatProgress(value=0.0, max=11.0), HTML(value='')))"
      ]
     },
     "metadata": {},
     "output_type": "display_data"
    },
    {
     "name": "stdout",
     "output_type": "stream",
     "text": [
      "\n",
      "\u001b[1;31mGeneration figures for TJan1.0 (degC)\u001b[0m\n"
     ]
    },
    {
     "data": {
      "application/vnd.jupyter.widget-view+json": {
       "model_id": "c9ce0ba293614fd0b69e435d14ec84c4",
       "version_major": 2,
       "version_minor": 0
      },
      "text/plain": [
       "HBox(children=(HTML(value='Executing'), FloatProgress(value=0.0, max=11.0), HTML(value='')))"
      ]
     },
     "metadata": {},
     "output_type": "display_data"
    },
    {
     "name": "stdout",
     "output_type": "stream",
     "text": [
      "\n",
      "\u001b[1;31mGeneration figures for TJul2.5 (degC)\u001b[0m\n"
     ]
    },
    {
     "data": {
      "application/vnd.jupyter.widget-view+json": {
       "model_id": "7de1f3312d604a78a1fd081e9f8774b0",
       "version_major": 2,
       "version_minor": 0
      },
      "text/plain": [
       "HBox(children=(HTML(value='Executing'), FloatProgress(value=0.0, max=11.0), HTML(value='')))"
      ]
     },
     "metadata": {},
     "output_type": "display_data"
    },
    {
     "name": "stdout",
     "output_type": "stream",
     "text": [
      "\n",
      "\u001b[1;31mGeneration figures for TwJul2.5 (degC)\u001b[0m\n"
     ]
    },
    {
     "data": {
      "application/vnd.jupyter.widget-view+json": {
       "model_id": "250d367aa26a4b07a52a0f55839a4625",
       "version_major": 2,
       "version_minor": 0
      },
      "text/plain": [
       "HBox(children=(HTML(value='Executing'), FloatProgress(value=0.0, max=11.0), HTML(value='')))"
      ]
     },
     "metadata": {},
     "output_type": "display_data"
    },
    {
     "name": "stdout",
     "output_type": "stream",
     "text": [
      "\n",
      "\u001b[1;31mGeneration figures for Tmin (degC)\u001b[0m\n"
     ]
    },
    {
     "data": {
      "application/vnd.jupyter.widget-view+json": {
       "model_id": "b2e940f4989345ab91d98e7550be8dc2",
       "version_major": 2,
       "version_minor": 0
      },
      "text/plain": [
       "HBox(children=(HTML(value='Executing'), FloatProgress(value=0.0, max=11.0), HTML(value='')))"
      ]
     },
     "metadata": {},
     "output_type": "display_data"
    },
    {
     "name": "stdout",
     "output_type": "stream",
     "text": [
      "\n",
      "\u001b[1;31mGeneration figures for Tmax (degC)\u001b[0m\n"
     ]
    },
    {
     "data": {
      "application/vnd.jupyter.widget-view+json": {
       "model_id": "5ba67dce98a04f4dad2dd1a2de2552b7",
       "version_major": 2,
       "version_minor": 0
      },
      "text/plain": [
       "HBox(children=(HTML(value='Executing'), FloatProgress(value=0.0, max=11.0), HTML(value='')))"
      ]
     },
     "metadata": {},
     "output_type": "display_data"
    },
    {
     "name": "stdout",
     "output_type": "stream",
     "text": [
      "\n",
      "\u001b[1;31mGeneration figures for WP10\u001b[0m\n"
     ]
    },
    {
     "data": {
      "application/vnd.jupyter.widget-view+json": {
       "model_id": "0edbc9b8a65d4282b346ce3bc37dbe39",
       "version_major": 2,
       "version_minor": 0
      },
      "text/plain": [
       "HBox(children=(HTML(value='Executing'), FloatProgress(value=0.0, max=11.0), HTML(value='')))"
      ]
     },
     "metadata": {},
     "output_type": "display_data"
    },
    {
     "name": "stdout",
     "output_type": "stream",
     "text": [
      "\n",
      "\u001b[1;31mGeneration figures for WP50\u001b[0m\n"
     ]
    },
    {
     "data": {
      "application/vnd.jupyter.widget-view+json": {
       "model_id": "85cc4e776afb49f0a440cb359407f0cf",
       "version_major": 2,
       "version_minor": 0
      },
      "text/plain": [
       "HBox(children=(HTML(value='Executing'), FloatProgress(value=0.0, max=11.0), HTML(value='')))"
      ]
     },
     "metadata": {},
     "output_type": "display_data"
    },
    {
     "name": "stdout",
     "output_type": "stream",
     "text": [
      "\n",
      "\u001b[1;31mGeneration figures for DRWP-RL5 (Pa)\u001b[0m\n"
     ]
    },
    {
     "data": {
      "application/vnd.jupyter.widget-view+json": {
       "model_id": "452c2c5f1dbb4769a956cd503582d32f",
       "version_major": 2,
       "version_minor": 0
      },
      "text/plain": [
       "HBox(children=(HTML(value='Executing'), FloatProgress(value=0.0, max=11.0), HTML(value='')))"
      ]
     },
     "metadata": {},
     "output_type": "display_data"
    },
    {
     "name": "stdout",
     "output_type": "stream",
     "text": [
      "\n",
      "\u001b[1;31mGeneration figures for annual_pr (mm)\u001b[0m\n"
     ]
    },
    {
     "data": {
      "application/vnd.jupyter.widget-view+json": {
       "model_id": "24b2478ddc6e4125a38f715376bb6b12",
       "version_major": 2,
       "version_minor": 0
      },
      "text/plain": [
       "HBox(children=(HTML(value='Executing'), FloatProgress(value=0.0, max=11.0), HTML(value='')))"
      ]
     },
     "metadata": {},
     "output_type": "display_data"
    },
    {
     "name": "stdout",
     "output_type": "stream",
     "text": [
      "\n",
      "\u001b[1;31mGeneration figures for annual_rain (mm)\u001b[0m\n"
     ]
    },
    {
     "data": {
      "application/vnd.jupyter.widget-view+json": {
       "model_id": "3ce5bf50439c4e588b5145ebb8893f2a",
       "version_major": 2,
       "version_minor": 0
      },
      "text/plain": [
       "HBox(children=(HTML(value='Executing'), FloatProgress(value=0.0, max=11.0), HTML(value='')))"
      ]
     },
     "metadata": {},
     "output_type": "display_data"
    },
    {
     "name": "stdout",
     "output_type": "stream",
     "text": [
      "\n",
      "\u001b[1;31mGeneration figures for 1day rain RL50 (mm)\u001b[0m\n"
     ]
    },
    {
     "data": {
      "application/vnd.jupyter.widget-view+json": {
       "model_id": "b7eb74fcdffa41e0b37c511b10ed282b",
       "version_major": 2,
       "version_minor": 0
      },
      "text/plain": [
       "HBox(children=(HTML(value='Executing'), FloatProgress(value=0.0, max=11.0), HTML(value='')))"
      ]
     },
     "metadata": {},
     "output_type": "display_data"
    },
    {
     "name": "stdout",
     "output_type": "stream",
     "text": [
      "\n",
      "\u001b[1;31mGeneration figures for Gum-LM RL10 (mm)\u001b[0m\n"
     ]
    },
    {
     "data": {
      "application/vnd.jupyter.widget-view+json": {
       "model_id": "afd001b2f62f45ca9178ae42313517f9",
       "version_major": 2,
       "version_minor": 0
      },
      "text/plain": [
       "HBox(children=(HTML(value='Executing'), FloatProgress(value=0.0, max=11.0), HTML(value='')))"
      ]
     },
     "metadata": {},
     "output_type": "display_data"
    },
    {
     "name": "stdout",
     "output_type": "stream",
     "text": [
      "\n"
     ]
    }
   ],
   "source": [
    "output_notebook_dir = resource_filename(\n",
    "    \"climpyrical\",\n",
    "    \"/data/results/intermediate/notebooks/\"\n",
    ")\n",
    "\n",
    "preprocessed_model_dir = resource_filename(\n",
    "    \"climpyrical\",\n",
    "    \"/data/results/intermediate/preprocessed_models/\"\n",
    ")\n",
    "\n",
    "output_stations_dir = resource_filename(\n",
    "    \"climpyrical\",\n",
    "    f\"/data/results/intermediate/preprocessed_stations/\")\n",
    "\n",
    "output_reconstruction_dir = resource_filename(\n",
    "    \"climpyrical\",\n",
    "    f\"/data/results/datasets/\"\n",
    ")\n",
    "\n",
    "output_tables_dir = resource_filename(\n",
    "    \"climpyrical\",\n",
    "    f\"/data/results/tables/\"\n",
    ")\n",
    "\n",
    "for station in station_dvs:\n",
    "#     print(red(f\"Preprocessing Model for {station}\", \"bold\"))\n",
    "#     pm.execute_notebook(\n",
    "#         \"preprocess_model.ipynb\",\n",
    "#         output_notebook_dir+f\"preprocessing_model_log_{filenames[station]}.ipynb\",\n",
    "#         parameters = dict(\n",
    "#             station_dv = station,\n",
    "#             model_input_path = resource_filename(\"climpyrical\", model_paths[station]),\n",
    "#             name = filenames[station],\n",
    "#             fill_glaciers = True,\n",
    "#             processed_model_output_path = preprocessed_model_dir+f\"{filenames[station]}_preprocessed.nc\"\n",
    "#         )\n",
    "#     )\n",
    "\n",
    "#     print(red(f\"Preprocessing stations for {station}\", \"bold\"))\n",
    "#     pm.execute_notebook(\n",
    "#         \"stations.ipynb\",\n",
    "#         output_notebook_dir+f\"stations_log_{filenames[station]}.ipynb\",\n",
    "#         parameters = dict(\n",
    "#             station_dv = station,\n",
    "#             station_input_path = resource_filename(\n",
    "#                 \"climpyrical\",\n",
    "#                 station_paths[station]\n",
    "#             ),\n",
    "#             name = filenames[station],\n",
    "#             processed_model_output_path = preprocessed_model_dir+f\"{filenames[station]}_preprocessed.nc\",\n",
    "#             df_path_write = output_stations_dir+f\"{filenames[station]}_processed_stations.csv\"\n",
    "            \n",
    "#         )\n",
    "#     )\n",
    "#     print(red(f\"Moving Window ratio reconstruction for {station}\", \"bold\"))\n",
    "#     pm.execute_notebook(\n",
    "#         \"ratio_kriging.ipynb\",\n",
    "#         output_notebook_dir+f\"ratio_kriging_log_{filenames[station]}.ipynb\",\n",
    "#         parameters = dict(\n",
    "#             station_dv = station,\n",
    "#             station_input_path = resource_filename(\n",
    "#                 \"climpyrical\",\n",
    "#                 station_paths[station]\n",
    "#             ),\n",
    "#             name = filenames[station],\n",
    "#             processed_model_output_path = preprocessed_model_dir+f\"{filenames[station]}_preprocessed.nc\",\n",
    "#             output_reconstruction_path = output_reconstruction_dir+f\"{filenames[station]}_reconstructed.nc\",\n",
    "#             df_path_write = output_stations_dir+f\"{filenames[station]}_processed_stations.csv\"\n",
    "#         )\n",
    "#     )\n",
    "    print(red(f\"Generation figures for {station}\", \"bold\"))\n",
    "    pm.execute_notebook(\n",
    "        \"plots.ipynb\",\n",
    "        output_notebook_dir+f\"plots_log_{filenames[station]}.ipynb\",\n",
    "        parameters = dict(\n",
    "            station_dv = station,\n",
    "            name = filenames[station],\n",
    "            original_model_path = resource_filename(\"climpyrical\", model_paths[station]),\n",
    "            preprocessed_model_path = preprocessed_model_dir+f\"{filenames[station]}_preprocessed.nc\",\n",
    "            reconstruction_path = output_reconstruction_dir+f\"{filenames[station]}_reconstructed.nc\",\n",
    "            processed_stations_path = output_stations_dir+f\"{filenames[station]}_processed_stations.csv\",\n",
    "            output_figure_dir = resource_filename(\"climpyrical\", \"data/results/figures/\")\n",
    "        )\n",
    "    )\n",
    "#     print(red(f\"Generation tables for {station}\", \"bold\"))\n",
    "#     pm.execute_notebook(\n",
    "#         \"nbcc_stations.ipynb\",\n",
    "#         output_notebook_dir+f\"nbcc_stations_log_{filenames[station]}.ipynb\",\n",
    "#         parameters = dict(\n",
    "#             station_dv = station,\n",
    "#             reconstruction_path = output_reconstruction_dir+f\"{filenames[station]}_reconstructed.nc\",\n",
    "#             processed_stations_path = output_stations_dir+f\"{filenames[station]}_processed_stations.csv\",\n",
    "#             output_nrc_path = output_tables_dir+f\"{filenames[station]}_TableC2.csv\"\n",
    "#         )\n",
    "#     )\n"
   ]
  },
  {
   "cell_type": "code",
   "execution_count": null,
   "metadata": {},
   "outputs": [],
   "source": []
  }
 ],
 "metadata": {
  "kernelspec": {
   "display_name": "Python 3",
   "language": "python",
   "name": "python3"
  },
  "language_info": {
   "codemirror_mode": {
    "name": "ipython",
    "version": 3
   },
   "file_extension": ".py",
   "mimetype": "text/x-python",
   "name": "python",
   "nbconvert_exporter": "python",
   "pygments_lexer": "ipython3",
   "version": "3.8.5"
  }
 },
 "nbformat": 4,
 "nbformat_minor": 4
}
