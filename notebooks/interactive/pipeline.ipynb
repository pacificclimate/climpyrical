{
 "cells": [
  {
   "cell_type": "markdown",
   "metadata": {},
   "source": [
    "# Interactive Moving Window Kriging Pipeline\n",
    "---\n",
    "The preprocessing pipeline is executed in the following sequence. It assumes that masks have been generated. If a custom mask is required, work through the `mask.ipynb` file to see how the default masks were generated.\n",
    "\n",
    "1. Place netCDF models into `climpyrical/data/model_inputs`. Ensemble models must have:\n",
    "    * lat, lon, rlat, rlon and a 2D data field variable\n",
    "2. Place station files into `climpyrical/data/station_inputs`. Input stations must have:\n",
    "    * A data column with the design value of interest in the same units as the ensemble model. Note that the units need to be placed in parentheses next to the data variable name. i.e \"RL50 (kPa)\" or \"HDD (degC-day)\" are examples of valid names\n",
    "    * latitude or longitude columns\n",
    "    * Additional columns, like province name, elevation, and station name are optional\n",
    "3. The data produced in the pipeline will go in various subdirectories of `climpyrical/data/results/` using the PCIC design value naming standards (outlined below)\n",
    "    * figures will be in `climpyrical/data/results/figures/`\n",
    "    * tables will be in `climpyrical/data/results/TableC2/`\n",
    "    * netCDF files in `climpyrical/data/results/netcdf/`\n",
    "    * intermediate notebooks for troubleshooting will be in `climpyrical/data/results/intermediate/`\n",
    "    * preprocessed statations and models are in `climpyrical/data/results/intermediate/` subdirectories\n",
    "\n",
    "```\n",
    "climpyrical/data/results\n",
    "├── netcdf\n",
    "│   └── \n",
    "├── figures\n",
    "│   ├── \n",
    "├── intermediate\n",
    "│   ├── notebooks\n",
    "│   │   ├── model_log_{design value}.ipynb\n",
    "│   │   ├── plotting_log_{design value}.ipynb\n",
    "│   │   ├── MWOrK_log_{design value}.ipynb\n",
    "│   │   ├── station_log_{design value}.ipynb\n",
    "│   ├── preprocessed_netcdf\n",
    "│   │   ├── {design value}_preprocessed.nc\n",
    "│   └── preprocessed_stations\n",
    "│       └── {design value}.csv\n",
    "└── TableC2\n",
    "     └── {design_vale}_TableC2.csv\n",
    "```"
   ]
  },
  {
   "cell_type": "code",
   "execution_count": 1,
   "metadata": {},
   "outputs": [],
   "source": [
    "import yaml\n",
    "import papermill as pm\n",
    "from simple_colors import red\n",
    "from pkg_resources import resource_filename"
   ]
  },
  {
   "cell_type": "markdown",
   "metadata": {},
   "source": [
    "## Configuration\n",
    "---\n",
    "```yaml\n",
    "# Parameterize the pipeline\n",
    "# The pipeline will iterate through each parent tree\n",
    "# in dvs and provide the associated parameters\n",
    "\n",
    "# Which notebooks to use in the pipeline\n",
    "steps: [\n",
    "\"preprocess_model.ipynb\", \n",
    "\"stations.ipynb\", \n",
    "\"MWOrK.ipynb\", \n",
    "\"plots.ipynb\", \n",
    "\"nbcc_stations.ipynb\", \n",
    "\"combine_tables.ipynb\"\n",
    "]\n",
    "\n",
    "n_jobs: 2\n",
    "\n",
    "# To be placed in climpyrical/\n",
    "paths:\n",
    "    output_notebook_path: /data/results/intermediate/notebooks/\n",
    "    preprocessed_model_path: /data/results/intermediate/preprocessed_netcdf/\n",
    "    preprocessed_stations_path: /data/results/intermediate/preprocessed_stations/\n",
    "    output_reconstruction_path: /data/results/netcdf/\n",
    "    output_tables_path: /data/results/TableC2/\n",
    "    output_figure_path: /data/results/figures/\n",
    "    mask_path: data/masks/canada_mask_rp.nc\n",
    "    north_mask_path: data/masks/canada_mask_north_rp.nc\n",
    "    nbcc_loc_path: data/station_inputs/NBCC_2020_new_coords.xlsm\n",
    "\n",
    "nbcc_correction: True\n",
    "dvs:\n",
    "    RL50:\n",
    "        station_dv: \"RL50 (kPa)\"\n",
    "        station_path: data/station_inputs/sl50_rl50_for_maps.csv\n",
    "        input_model_path: data/model_inputs/snw_rain_CanRCM4-LE_ens35_1951-2016_max_rl50_load_ensmean.nc\n",
    "        medians: \n",
    "            value: 0.3\n",
    "            action: multiply\n",
    "        fill_glaciers: True\n",
    "        \n",
    "    RHann:\n",
    "        station_dv: \"mean RH (%)\"\n",
    "        station_path: data/station_inputs/rh_annual_mean_10yr_for_maps.csv\n",
    "        input_model_path: data/model_inputs/hurs_CanRCM4-LE_ens15_1951-2016_ensmean.nc\n",
    "        medians:\n",
    "            value: None\n",
    "            action: None\n",
    "        fill_glaciers: True\n",
    "```"
   ]
  },
  {
   "cell_type": "code",
   "execution_count": 2,
   "metadata": {
    "tags": [
     "parameters"
    ]
   },
   "outputs": [],
   "source": [
    "config_yml = \"./config_example_means.yml\"\n",
    "\n",
    "with open(config_yml) as f:\n",
    "    params = yaml.safe_load(f)\n",
    "    \n",
    "names = params[\"dvs\"].keys()\n",
    "output_notebook_dir = resource_filename(\"climpyrical\", params[\"paths\"][\"output_notebook_path\"])"
   ]
  },
  {
   "cell_type": "markdown",
   "metadata": {},
   "source": [
    "# Run the pipeline\n",
    "---\n",
    "For each design value in config.yml, run each file in the pipeline.\n",
    "\n",
    "### 1.) Preprocess Models\n",
    "### 2.) Preprocess Stations\n",
    "### 3.) MWOrK (Moving Window Ordinary ratio Kriging)\n",
    "### 4.) Generate Figures of Results\n",
    "### 5.) Generate TableC2\n",
    "### 6.) Combine Tables"
   ]
  },
  {
   "cell_type": "code",
   "execution_count": null,
   "metadata": {},
   "outputs": [
    {
     "name": "stdout",
     "output_type": "stream",
     "text": [
      "\u001b[1;31mPreprocessing Model for RL50\u001b[0m\u001b[1;31mPreprocessing Model for HDD\u001b[0m  \n",
      "\n",
      "\n",
      "\n"
     ]
    },
    {
     "data": {
      "application/vnd.jupyter.widget-view+json": {
       "model_id": "cbf2927f6d0b4a9b85030e73abf54a94",
       "version_major": 2,
       "version_minor": 0
      },
      "text/plain": [
       "HBox(children=(HTML(value='Executing'), FloatProgress(value=0.0, max=26.0), HTML(value='')))"
      ]
     },
     "metadata": {},
     "output_type": "display_data"
    },
    {
     "data": {
      "application/vnd.jupyter.widget-view+json": {
       "model_id": "badae358bcbb417b9d6ec814368e8e3a",
       "version_major": 2,
       "version_minor": 0
      },
      "text/plain": [
       "HBox(children=(HTML(value='Executing'), FloatProgress(value=0.0, max=26.0), HTML(value='')))"
      ]
     },
     "metadata": {},
     "output_type": "display_data"
    },
    {
     "name": "stdout",
     "output_type": "stream",
     "text": [
      "\n",
      "\u001b[1;31mPreprocessing stations for RL50\u001b[0m \n",
      "\n"
     ]
    },
    {
     "data": {
      "application/vnd.jupyter.widget-view+json": {
       "model_id": "fd243b8e757640a982e02c645da7f8e5",
       "version_major": 2,
       "version_minor": 0
      },
      "text/plain": [
       "HBox(children=(HTML(value='Executing'), FloatProgress(value=0.0, max=28.0), HTML(value='')))"
      ]
     },
     "metadata": {},
     "output_type": "display_data"
    },
    {
     "name": "stdout",
     "output_type": "stream",
     "text": [
      "\n",
      "\u001b[1;31mPreprocessing stations for HDD\u001b[0m \n",
      "\n"
     ]
    },
    {
     "data": {
      "application/vnd.jupyter.widget-view+json": {
       "model_id": "244ad5ce909c4aee8af5691e1bc82b16",
       "version_major": 2,
       "version_minor": 0
      },
      "text/plain": [
       "HBox(children=(HTML(value='Executing'), FloatProgress(value=0.0, max=28.0), HTML(value='')))"
      ]
     },
     "metadata": {},
     "output_type": "display_data"
    },
    {
     "name": "stdout",
     "output_type": "stream",
     "text": [
      "\n",
      "\u001b[1;31mMoving Window ratio reconstruction for RL50\u001b[0m \n",
      "\n"
     ]
    },
    {
     "data": {
      "application/vnd.jupyter.widget-view+json": {
       "model_id": "29646cdbda424065a3a0b5b8e7e4196e",
       "version_major": 2,
       "version_minor": 0
      },
      "text/plain": [
       "HBox(children=(HTML(value='Executing'), FloatProgress(value=0.0, max=38.0), HTML(value='')))"
      ]
     },
     "metadata": {},
     "output_type": "display_data"
    },
    {
     "name": "stdout",
     "output_type": "stream",
     "text": [
      "\n",
      "\u001b[1;31mMoving Window ratio reconstruction for HDD\u001b[0m \n",
      "\n"
     ]
    },
    {
     "data": {
      "application/vnd.jupyter.widget-view+json": {
       "model_id": "45ca1619e4a24b20894153e96918c305",
       "version_major": 2,
       "version_minor": 0
      },
      "text/plain": [
       "HBox(children=(HTML(value='Executing'), FloatProgress(value=0.0, max=38.0), HTML(value='')))"
      ]
     },
     "metadata": {},
     "output_type": "display_data"
    }
   ],
   "source": [
    "from multiprocessing import Pool\n",
    "import nest_asyncio\n",
    "nest_asyncio.apply()\n",
    "\n",
    "def poolproc(name):\n",
    "    if \"preprocess_model.ipynb\" in params[\"steps\"]:\n",
    "        print(red(f\"Preprocessing Model for {name}\", \"bold\"), \"\\n\")\n",
    "        pm.execute_notebook(\n",
    "            \"preprocess_model.ipynb\",\n",
    "            f\"{output_notebook_dir}preprocessing_model_log_{name}.ipynb\",\n",
    "            parameters = {\"name\": name, **params[\"dvs\"][name], **params[\"paths\"]} \n",
    "        )\n",
    "    if \"stations.ipynb\" in params[\"steps\"]:\n",
    "        print(red(f\"Preprocessing stations for {name}\", \"bold\"), \"\\n\")\n",
    "        pm.execute_notebook(\n",
    "            \"stations.ipynb\",\n",
    "            f\"{output_notebook_dir}stations_log_{name}.ipynb\",\n",
    "            parameters = {\"name\": name, **params[\"dvs\"][name], **params[\"paths\"]} \n",
    "        )\n",
    "    if \"MWOrK.ipynb\" in params[\"steps\"]:\n",
    "        print(red(f\"Moving Window ratio reconstruction for {name}\", \"bold\"), \"\\n\")\n",
    "        pm.execute_notebook(\n",
    "            \"MWOrK.ipynb\",\n",
    "            f\"{output_notebook_dir}MWOrK_log_{name}.ipynb\",\n",
    "            parameters = {\n",
    "                \"name\": name,\n",
    "                **params[\"dvs\"][name],\n",
    "                **params[\"paths\"],\n",
    "                \"nbcc_correction\": params[\"nbcc_correction\"]\n",
    "            }\n",
    "        )\n",
    "    if \"plots.ipynb\" in params[\"steps\"]:\n",
    "        print(red(f\"Generating figures for {name}\", \"bold\"), \"\\n\")\n",
    "        pm.execute_notebook(\n",
    "            \"plots.ipynb\",\n",
    "            f\"{output_notebook_dir}plots_log_{name}.ipynb\",\n",
    "            parameters = {\n",
    "                \"name\": name,\n",
    "                **params[\"dvs\"][name],\n",
    "                **params[\"paths\"]\n",
    "            }\n",
    "        )\n",
    "    if \"nbcc_locations.ipynb\" in params[\"steps\"]:\n",
    "        print(red(f\"Generating tables for {name}\", \"bold\"), \"\\n\")\n",
    "        pm.execute_notebook(\n",
    "            \"nbcc_locations.ipynb\",\n",
    "            f\"{output_notebook_dir}nbcc_locations_log_{name}.ipynb\",\n",
    "            parameters = {\n",
    "                \"name\": name,\n",
    "                **params[\"dvs\"][name],\n",
    "                **params[\"paths\"]\n",
    "            }\n",
    "        )\n",
    "\n",
    "p = Pool(params[\"n_jobs\"])\n",
    "p.map(poolproc, params[\"dvs\"].keys())\n",
    "p.close()\n",
    "p.join()"
   ]
  },
  {
   "cell_type": "markdown",
   "metadata": {},
   "source": [
    "### Generate Full Tables"
   ]
  },
  {
   "cell_type": "code",
   "execution_count": 5,
   "metadata": {},
   "outputs": [
    {
     "name": "stdout",
     "output_type": "stream",
     "text": [
      "\u001b[1;31mCombining tables for all reconstructions\u001b[0m\n"
     ]
    },
    {
     "data": {
      "application/vnd.jupyter.widget-view+json": {
       "model_id": "20dadc36eb8d4c8bb3f976540fbfd4a5",
       "version_major": 2,
       "version_minor": 0
      },
      "text/plain": [
       "HBox(children=(HTML(value='Executing'), FloatProgress(value=0.0, max=10.0), HTML(value='')))"
      ]
     },
     "metadata": {},
     "output_type": "display_data"
    },
    {
     "name": "stdout",
     "output_type": "stream",
     "text": [
      "\n"
     ]
    }
   ],
   "source": [
    "if \"combine_tables.ipynb\" in params[\"steps\"]:\n",
    "    print(red(f\"Combining tables for all reconstructions\", \"bold\"))\n",
    "    pm.execute_notebook(\n",
    "        \"combine_tables.ipynb\",\n",
    "        output_notebook_dir+f\"combined_stations_log.ipynb\",\n",
    "        parameters = {\n",
    "            **params,\n",
    "            **params[\"paths\"]\n",
    "        }\n",
    "    )"
   ]
  },
  {
   "cell_type": "code",
   "execution_count": null,
   "metadata": {},
   "outputs": [],
   "source": []
  }
 ],
 "metadata": {
  "kernelspec": {
   "display_name": "Python 3",
   "language": "python",
   "name": "python3"
  },
  "language_info": {
   "codemirror_mode": {
    "name": "ipython",
    "version": 3
   },
   "file_extension": ".py",
   "mimetype": "text/x-python",
   "name": "python",
   "nbconvert_exporter": "python",
   "pygments_lexer": "ipython3",
   "version": "3.7.9"
  }
 },
 "nbformat": 4,
 "nbformat_minor": 4
}
