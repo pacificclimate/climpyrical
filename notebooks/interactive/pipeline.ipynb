{
 "cells": [
  {
   "cell_type": "markdown",
   "metadata": {},
   "source": [
    "# Interactive Moving Window Kriging Pipeline\n",
    "---\n",
    "The preprocessing pipeline is executed in the following sequence. It assumes that masks have been generated. If a custom mask is required, work through the `mask.ipynb` file to see how the default masks were generated.\n",
    "\n",
    "1. Place netCDF models into `climpyrical/data/model_inputs`. Ensemble models must have:\n",
    "    * lat, lon, rlat, rlon and a 2D data field variable\n",
    "2. Place station files into `climpyrical/data/station_inputs`. Input stations must have:\n",
    "    * A data column with the design value of interest in the same units as the ensemble model. Note that the units need to be placed in parentheses next to the data variable name. i.e \"RL50 (kPa)\" or \"HDD (degC-day)\" are examples of valid names\n",
    "    * latitude or longitude columns\n",
    "    * Additional columns, like province name, elevation, and station name are optional, but recommended\n",
    "3. The data produced in the pipeline will go in various subdirectories of `climpyrical/data/results/` using the PCIC design value naming standards (outlined below)\n",
    "    * figures will be in `climpyrical/data/results/figures/`\n",
    "    * tables will be in `climpyrical/data/results/tables/`\n",
    "    * netCDF files in `climpyrical/data/results/datasets/`\n",
    "    * intermediate notebooks for troubleshooting will be in `climpyrical/data/results/intermediate/`"
   ]
  },
  {
   "cell_type": "code",
   "execution_count": 1,
   "metadata": {},
   "outputs": [],
   "source": [
    "import papermill as pm\n",
    "import config\n",
    "from pkg_resources import resource_filename"
   ]
  },
  {
   "cell_type": "markdown",
   "metadata": {},
   "source": [
    "## Configuration\n",
    "---\n",
    "\n",
    "Configure the notebook pipeline. This notebook calls subsequent notebooks in the correct order.\n",
    "\n",
    "`station_dv` is the name of the design values as they appear in the station csv header column file provided for the station processing step. The naming standards between the station files and the output files need to manually configured\n",
    "\n",
    "\n",
    "`filenames` this dictionary relates the station design value name to the PCIC design value standard name for the given design value. I.e. it produces filenames and plot titles according to this relationsihp"
   ]
  },
  {
   "cell_type": "code",
   "execution_count": 2,
   "metadata": {
    "tags": [
     "parameters"
    ]
   },
   "outputs": [],
   "source": [
    "notebooks = [\"preprocess_model.ipynb\", \"stations.ipynb\", \"ratio_kriging.ipynb\"]\n",
    "\n",
    "station_dvs = config.station_dvs\n",
    "filenames = config.filenames\n",
    "model_paths = config.model_paths\n",
    "station_paths = config.station_paths\n"
   ]
  },
  {
   "cell_type": "markdown",
   "metadata": {},
   "source": [
    "# Run the pipeline\n",
    "---\n",
    "For each station in the `station_dvs` list, run each file in the pipeline."
   ]
  },
  {
   "cell_type": "code",
   "execution_count": 3,
   "metadata": {},
   "outputs": [
    {
     "name": "stdout",
     "output_type": "stream",
     "text": [
      "Preprocessing Model for RL50 (kPa)\n"
     ]
    },
    {
     "data": {
      "application/vnd.jupyter.widget-view+json": {
       "model_id": "4f086028f55044beaa940f91ca661f42",
       "version_major": 2,
       "version_minor": 0
      },
      "text/plain": [
       "HBox(children=(FloatProgress(value=0.0, description='Executing', max=25.0, style=ProgressStyle(description_wid…"
      ]
     },
     "metadata": {},
     "output_type": "display_data"
    },
    {
     "name": "stdout",
     "output_type": "stream",
     "text": [
      "\n",
      "Preprocessing stations for RL50 (kPa)\n"
     ]
    },
    {
     "data": {
      "application/vnd.jupyter.widget-view+json": {
       "model_id": "8e35c1dbacd849c3baf21f60371f0016",
       "version_major": 2,
       "version_minor": 0
      },
      "text/plain": [
       "HBox(children=(FloatProgress(value=0.0, description='Executing', max=20.0, style=ProgressStyle(description_wid…"
      ]
     },
     "metadata": {},
     "output_type": "display_data"
    },
    {
     "name": "stdout",
     "output_type": "stream",
     "text": [
      "\n",
      "Moving Window ratio reconstruction for RL50 (kPa)\n"
     ]
    },
    {
     "data": {
      "application/vnd.jupyter.widget-view+json": {
       "model_id": "bcd65d77b11040018da36432f8f62e4b",
       "version_major": 2,
       "version_minor": 0
      },
      "text/plain": [
       "HBox(children=(FloatProgress(value=0.0, description='Executing', max=20.0, style=ProgressStyle(description_wid…"
      ]
     },
     "metadata": {},
     "output_type": "display_data"
    },
    {
     "name": "stdout",
     "output_type": "stream",
     "text": [
      "\n"
     ]
    }
   ],
   "source": [
    "output_notebook_dir = resource_filename(\n",
    "    \"climpyrical\",\n",
    "    \"/data/results/intermediate/notebooks/\"\n",
    ")\n",
    "\n",
    "preprocessed_model_dir = resource_filename(\n",
    "    \"climpyrical\",\n",
    "    \"/data/results/intermediate/preprocessed_models/\"\n",
    ")\n",
    "\n",
    "output_stations_dir = resource_filename(\n",
    "    \"climpyrical\",\n",
    "    f\"/data/results/intermediate/preprocessed_stations/\")\n",
    "\n",
    "output_reconstruction_dir = resource_filename(\n",
    "    \"climpyrical\",\n",
    "    f\"/data/results/datasets/\"\n",
    ")\n",
    "\n",
    "for station in station_dvs[:1]:\n",
    "    print(\"Preprocessing Model for\", station)\n",
    "    pm.execute_notebook(\n",
    "        \"preprocess_model.ipynb\",\n",
    "        output_notebook_dir+f\"model_log_{filenames[station]}.ipynb\",\n",
    "        parameters = dict(\n",
    "            station_dv = station,\n",
    "            model_input_path = resource_filename(\"climpyrical\", model_paths[station]),\n",
    "            filename = filenames[station],\n",
    "            fill_glaciers = True,\n",
    "            processed_model_output_path = preprocessed_model_dir+f\"{filenames[station]}_preprocessed.nc\"\n",
    "        )\n",
    "    )\n",
    "\n",
    "    print(\"Preprocessing stations for\", station)\n",
    "    pm.execute_notebook(\n",
    "        \"stations.ipynb\",\n",
    "        output_notebook_dir+f\"station_log_{filenames[station]}.ipynb\",\n",
    "        parameters = dict(\n",
    "            station_dv = station,\n",
    "            station_input_path = resource_filename(\n",
    "                \"climpyrical\",\n",
    "                station_paths[station]\n",
    "            ),\n",
    "            filename = filenames[station],\n",
    "            processed_model_output_path = preprocessed_model_dir+f\"{filenames[station]}_preprocessed.nc\",\n",
    "            df_path_write = output_stations_dir+f\"{filenames[station]}_processed_stations.csv\"\n",
    "            \n",
    "        )\n",
    "    )\n",
    "    print(\"Moving Window ratio reconstruction for\", station)\n",
    "    pm.execute_notebook(\n",
    "        \"ratio_kriging.ipynb\",\n",
    "        output_notebook_dir+f\"RR_log_{filenames[station]}.ipynb\",\n",
    "        parameters = dict(\n",
    "            station_dv = station,\n",
    "            station_input_path = resource_filename(\n",
    "                \"climpyrical\",\n",
    "                station_paths[station]\n",
    "            ),\n",
    "            filename = filenames[station],\n",
    "            processed_model_output_path = preprocessed_model_dir+f\"{filenames[station]}_preprocessed.nc\",\n",
    "            output_reconstruction_path = output_reconstruction_dir+f\"{filenames[station]}_reconstructed.nc\",\n",
    "            df_path_write = output_stations_dir+f\"{filenames[station]}_processed_stations.csv\"\n",
    "        )\n",
    "    )\n",
    "#     print(\"Preprocessing stations for\", station)\n",
    "#     pm.execute_notebook(notebooks[1], output_notebook_dir+f\"intermediate_{filenames[station]}_\"+notebooks[1])\n",
    "#     print(\"Ratio kriging for\", station)\n",
    "#     pm.execute_notebook(notebooks[2], output_notebook_dir+f\"intermediate_{filenames[station]}_\"+notebooks[2])\n",
    "#     print(\"Completed!\")"
   ]
  },
  {
   "cell_type": "code",
   "execution_count": null,
   "metadata": {},
   "outputs": [],
   "source": []
  }
 ],
 "metadata": {
  "kernelspec": {
   "display_name": "Python 3",
   "language": "python",
   "name": "python3"
  },
  "language_info": {
   "codemirror_mode": {
    "name": "ipython",
    "version": 3
   },
   "file_extension": ".py",
   "mimetype": "text/x-python",
   "name": "python",
   "nbconvert_exporter": "python",
   "pygments_lexer": "ipython3",
   "version": "3.8.5"
  }
 },
 "nbformat": 4,
 "nbformat_minor": 4
}
