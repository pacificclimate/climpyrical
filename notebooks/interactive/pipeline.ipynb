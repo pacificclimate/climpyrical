{
 "cells": [
  {
   "cell_type": "markdown",
   "metadata": {},
   "source": [
    "# Interactive Moving Window Kriging Pipeline\n",
    "---\n",
    "The preprocessing pipeline is executed in the following sequence. It assumes that masks have been generated. If a custom mask is required, work through the `mask.ipynb` file to see how the default masks were generated.\n",
    "\n",
    "1. Place netCDF models into `climpyrical/data/model_inputs`. Ensemble models must have:\n",
    "    * lat, lon, rlat, rlon and a 2D data field variable\n",
    "2. Place station files into `climpyrical/data/station_inputs`. Input stations must have:\n",
    "    * A data column with the design value of interest in the same units as the ensemble model. Note that the units need to be placed in parentheses next to the data variable name. i.e \"RL50 (kPa)\" or \"HDD (degC-day)\" are examples of valid names\n",
    "    * latitude or longitude columns\n",
    "    * Additional columns, like province name, elevation, and station name are optional, but recommended\n",
    "3. The data produced in the pipeline will go in various subdirectories of `climpyrical/data/results/` using the PCIC design value naming standards (outlined below)\n",
    "    * figures will be in `climpyrical/data/results/figures/`\n",
    "    * tables will be in `climpyrical/data/results/tables/`\n",
    "    * netCDF files in `climpyrical/data/results/netcdf/`\n",
    "    * intermediate notebooks for troubleshooting will be in `climpyrical/data/results/intermediate/`\n",
    "\n",
    "```\n",
    "climpyrical/data/results\n",
    "├── netcdf\n",
    "│   └── \n",
    "├── figures\n",
    "│   ├── \n",
    "├── intermediate\n",
    "│   ├── notebooks\n",
    "│   │   ├── model_log_{design value}.ipynb\n",
    "│   │   ├── plotting_log_{design value}.ipynb\n",
    "│   │   ├── RR_log_{design value}.ipynb\n",
    "│   │   ├── station_log_{design value}.ipynb\n",
    "│   ├── preprocessed_netcdf\n",
    "│   │   ├── {design value}\\_preprocessed.nc\n",
    "│   └── preprocessed_stations\n",
    "│       └── {design value}\\_processed_stations.csv\n",
    "└── tables\n",
    "     └── {design_vale}\\tablec2.csv\n",
    "```"
   ]
  },
  {
   "cell_type": "code",
   "execution_count": 1,
   "metadata": {},
   "outputs": [],
   "source": [
    "import papermill as pm\n",
    "import config\n",
    "from simple_colors import red\n",
    "from pkg_resources import resource_filename"
   ]
  },
  {
   "cell_type": "markdown",
   "metadata": {},
   "source": [
    "## Configuration\n",
    "---\n",
    "\n",
    "Configure the notebook pipeline. This notebook calls subsequent notebooks in the correct order.\n",
    "\n",
    "`station_dv` is the name of the design values as they appear in the station csv header column file provided for the station processing step. The naming standards between the station files and the output files need to manually configured\n",
    "\n",
    "\n",
    "`filenames` this dictionary relates the station design value name to the PCIC design value standard name for the given design value. I.e. it produces filenames and plot titles according to this relationsihp"
   ]
  },
  {
   "cell_type": "code",
   "execution_count": 2,
   "metadata": {
    "tags": [
     "parameters"
    ]
   },
   "outputs": [],
   "source": [
    "notebooks = [\"preprocess_model.ipynb\", \"stations.ipynb\", \"ratio_kriging.ipynb\"]\n",
    "\n",
    "station_dvs = config.station_dvs\n",
    "filenames = config.filenames\n",
    "model_paths = config.model_paths\n",
    "station_paths = config.station_paths"
   ]
  },
  {
   "cell_type": "markdown",
   "metadata": {},
   "source": [
    "# Run the pipeline\n",
    "---\n",
    "For each station in the `station_dvs` list, run each file in the pipeline."
   ]
  },
  {
   "cell_type": "code",
   "execution_count": 3,
   "metadata": {},
   "outputs": [
    {
     "name": "stdout",
     "output_type": "stream",
     "text": [
      "\u001b[1;31mGenerating figures for RL50 (kPa)\u001b[0m\n"
     ]
    },
    {
     "data": {
      "application/vnd.jupyter.widget-view+json": {
       "model_id": "dd7c80ea6f114b909c635dbb3dbbcba8",
       "version_major": 2,
       "version_minor": 0
      },
      "text/plain": [
       "HBox(children=(HTML(value='Executing'), FloatProgress(value=0.0, max=14.0), HTML(value='')))"
      ]
     },
     "metadata": {},
     "output_type": "display_data"
    },
    {
     "name": "stdout",
     "output_type": "stream",
     "text": [
      "\n",
      "\u001b[1;31mGenerating tables for RL50 (kPa)\u001b[0m\n"
     ]
    },
    {
     "data": {
      "application/vnd.jupyter.widget-view+json": {
       "model_id": "61fb58332dec4790b01cf5747508a3c9",
       "version_major": 2,
       "version_minor": 0
      },
      "text/plain": [
       "HBox(children=(HTML(value='Executing'), FloatProgress(value=0.0, max=10.0), HTML(value='')))"
      ]
     },
     "metadata": {},
     "output_type": "display_data"
    },
    {
     "name": "stdout",
     "output_type": "stream",
     "text": [
      "\n",
      "\u001b[1;31mGenerating figures for SL50 (kPa)\u001b[0m\n"
     ]
    },
    {
     "data": {
      "application/vnd.jupyter.widget-view+json": {
       "model_id": "5af5876048b6431392d72cd4c000e048",
       "version_major": 2,
       "version_minor": 0
      },
      "text/plain": [
       "HBox(children=(HTML(value='Executing'), FloatProgress(value=0.0, max=14.0), HTML(value='')))"
      ]
     },
     "metadata": {},
     "output_type": "display_data"
    },
    {
     "name": "stdout",
     "output_type": "stream",
     "text": [
      "\n",
      "\u001b[1;31mGenerating tables for SL50 (kPa)\u001b[0m\n"
     ]
    },
    {
     "data": {
      "application/vnd.jupyter.widget-view+json": {
       "model_id": "b7382aee4def4a75982f439b932629ee",
       "version_major": 2,
       "version_minor": 0
      },
      "text/plain": [
       "HBox(children=(HTML(value='Executing'), FloatProgress(value=0.0, max=10.0), HTML(value='')))"
      ]
     },
     "metadata": {},
     "output_type": "display_data"
    },
    {
     "name": "stdout",
     "output_type": "stream",
     "text": [
      "\n",
      "\u001b[1;31mGenerating figures for moisture_index\u001b[0m\n"
     ]
    },
    {
     "data": {
      "application/vnd.jupyter.widget-view+json": {
       "model_id": "7c52fb6a5a8d4a61aea7966b3b376542",
       "version_major": 2,
       "version_minor": 0
      },
      "text/plain": [
       "HBox(children=(HTML(value='Executing'), FloatProgress(value=0.0, max=14.0), HTML(value='')))"
      ]
     },
     "metadata": {},
     "output_type": "display_data"
    },
    {
     "name": "stdout",
     "output_type": "stream",
     "text": [
      "\n",
      "\u001b[1;31mGenerating tables for moisture_index\u001b[0m\n"
     ]
    },
    {
     "data": {
      "application/vnd.jupyter.widget-view+json": {
       "model_id": "65730cae809d4779a69289acbcd4d54d",
       "version_major": 2,
       "version_minor": 0
      },
      "text/plain": [
       "HBox(children=(HTML(value='Executing'), FloatProgress(value=0.0, max=10.0), HTML(value='')))"
      ]
     },
     "metadata": {},
     "output_type": "display_data"
    },
    {
     "name": "stdout",
     "output_type": "stream",
     "text": [
      "\n",
      "\u001b[1;31mGenerating figures for mean RH (%)\u001b[0m\n"
     ]
    },
    {
     "data": {
      "application/vnd.jupyter.widget-view+json": {
       "model_id": "54f6d193b56d4d0f887c7af3da41e131",
       "version_major": 2,
       "version_minor": 0
      },
      "text/plain": [
       "HBox(children=(HTML(value='Executing'), FloatProgress(value=0.0, max=14.0), HTML(value='')))"
      ]
     },
     "metadata": {},
     "output_type": "display_data"
    },
    {
     "name": "stdout",
     "output_type": "stream",
     "text": [
      "\n",
      "\u001b[1;31mGenerating tables for mean RH (%)\u001b[0m\n"
     ]
    },
    {
     "data": {
      "application/vnd.jupyter.widget-view+json": {
       "model_id": "25392c3d92c042b5aa9fa2a32329446f",
       "version_major": 2,
       "version_minor": 0
      },
      "text/plain": [
       "HBox(children=(HTML(value='Executing'), FloatProgress(value=0.0, max=10.0), HTML(value='')))"
      ]
     },
     "metadata": {},
     "output_type": "display_data"
    },
    {
     "name": "stdout",
     "output_type": "stream",
     "text": [
      "\n",
      "\u001b[1;31mGenerating figures for HDD (degC-day)\u001b[0m\n"
     ]
    },
    {
     "data": {
      "application/vnd.jupyter.widget-view+json": {
       "model_id": "3e60cdfb6772470fa0b48a92ce8564d0",
       "version_major": 2,
       "version_minor": 0
      },
      "text/plain": [
       "HBox(children=(HTML(value='Executing'), FloatProgress(value=0.0, max=14.0), HTML(value='')))"
      ]
     },
     "metadata": {},
     "output_type": "display_data"
    },
    {
     "name": "stdout",
     "output_type": "stream",
     "text": [
      "\n",
      "\u001b[1;31mGenerating tables for HDD (degC-day)\u001b[0m\n"
     ]
    },
    {
     "data": {
      "application/vnd.jupyter.widget-view+json": {
       "model_id": "a96ce2a65dfe4509a314eb15b94140ae",
       "version_major": 2,
       "version_minor": 0
      },
      "text/plain": [
       "HBox(children=(HTML(value='Executing'), FloatProgress(value=0.0, max=10.0), HTML(value='')))"
      ]
     },
     "metadata": {},
     "output_type": "display_data"
    },
    {
     "name": "stdout",
     "output_type": "stream",
     "text": [
      "\n",
      "\u001b[1;31mGenerating figures for TJan2.5 (degC)\u001b[0m\n"
     ]
    },
    {
     "data": {
      "application/vnd.jupyter.widget-view+json": {
       "model_id": "79bac66d6ab249a7a0994b4dceca9ed4",
       "version_major": 2,
       "version_minor": 0
      },
      "text/plain": [
       "HBox(children=(HTML(value='Executing'), FloatProgress(value=0.0, max=14.0), HTML(value='')))"
      ]
     },
     "metadata": {},
     "output_type": "display_data"
    },
    {
     "name": "stdout",
     "output_type": "stream",
     "text": [
      "\n",
      "\u001b[1;31mGenerating tables for TJan2.5 (degC)\u001b[0m\n"
     ]
    },
    {
     "data": {
      "application/vnd.jupyter.widget-view+json": {
       "model_id": "84376fcfda8c47d5bc5abc3936985c54",
       "version_major": 2,
       "version_minor": 0
      },
      "text/plain": [
       "HBox(children=(HTML(value='Executing'), FloatProgress(value=0.0, max=10.0), HTML(value='')))"
      ]
     },
     "metadata": {},
     "output_type": "display_data"
    },
    {
     "name": "stdout",
     "output_type": "stream",
     "text": [
      "\n",
      "\u001b[1;31mGenerating figures for TJan1.0 (degC)\u001b[0m\n"
     ]
    },
    {
     "data": {
      "application/vnd.jupyter.widget-view+json": {
       "model_id": "0cbfcef6dada4e9ebbe34970157240cf",
       "version_major": 2,
       "version_minor": 0
      },
      "text/plain": [
       "HBox(children=(HTML(value='Executing'), FloatProgress(value=0.0, max=14.0), HTML(value='')))"
      ]
     },
     "metadata": {},
     "output_type": "display_data"
    },
    {
     "name": "stdout",
     "output_type": "stream",
     "text": [
      "\n",
      "\u001b[1;31mGenerating tables for TJan1.0 (degC)\u001b[0m\n"
     ]
    },
    {
     "data": {
      "application/vnd.jupyter.widget-view+json": {
       "model_id": "30c9d8a76cf546f1a454703eb8b6efa1",
       "version_major": 2,
       "version_minor": 0
      },
      "text/plain": [
       "HBox(children=(HTML(value='Executing'), FloatProgress(value=0.0, max=10.0), HTML(value='')))"
      ]
     },
     "metadata": {},
     "output_type": "display_data"
    },
    {
     "name": "stdout",
     "output_type": "stream",
     "text": [
      "\n",
      "\u001b[1;31mGenerating figures for TJul2.5 (degC)\u001b[0m\n"
     ]
    },
    {
     "data": {
      "application/vnd.jupyter.widget-view+json": {
       "model_id": "69bd872358c14123b997cb52db8eba95",
       "version_major": 2,
       "version_minor": 0
      },
      "text/plain": [
       "HBox(children=(HTML(value='Executing'), FloatProgress(value=0.0, max=14.0), HTML(value='')))"
      ]
     },
     "metadata": {},
     "output_type": "display_data"
    },
    {
     "name": "stdout",
     "output_type": "stream",
     "text": [
      "\n",
      "\u001b[1;31mGenerating tables for TJul2.5 (degC)\u001b[0m\n"
     ]
    },
    {
     "data": {
      "application/vnd.jupyter.widget-view+json": {
       "model_id": "15427f55b59e4e0088f92e7097802e3b",
       "version_major": 2,
       "version_minor": 0
      },
      "text/plain": [
       "HBox(children=(HTML(value='Executing'), FloatProgress(value=0.0, max=10.0), HTML(value='')))"
      ]
     },
     "metadata": {},
     "output_type": "display_data"
    },
    {
     "name": "stdout",
     "output_type": "stream",
     "text": [
      "\n",
      "\u001b[1;31mGenerating figures for TwJul2.5 (degC)\u001b[0m\n"
     ]
    },
    {
     "data": {
      "application/vnd.jupyter.widget-view+json": {
       "model_id": "6635b476ce654520b5a29919755142c1",
       "version_major": 2,
       "version_minor": 0
      },
      "text/plain": [
       "HBox(children=(HTML(value='Executing'), FloatProgress(value=0.0, max=14.0), HTML(value='')))"
      ]
     },
     "metadata": {},
     "output_type": "display_data"
    },
    {
     "name": "stdout",
     "output_type": "stream",
     "text": [
      "\n",
      "\u001b[1;31mGenerating tables for TwJul2.5 (degC)\u001b[0m\n"
     ]
    },
    {
     "data": {
      "application/vnd.jupyter.widget-view+json": {
       "model_id": "a800f74871d348ddb67793d4194cc8ac",
       "version_major": 2,
       "version_minor": 0
      },
      "text/plain": [
       "HBox(children=(HTML(value='Executing'), FloatProgress(value=0.0, max=10.0), HTML(value='')))"
      ]
     },
     "metadata": {},
     "output_type": "display_data"
    },
    {
     "name": "stdout",
     "output_type": "stream",
     "text": [
      "\n",
      "\u001b[1;31mGenerating figures for Tmin (degC)\u001b[0m\n"
     ]
    },
    {
     "data": {
      "application/vnd.jupyter.widget-view+json": {
       "model_id": "7bf0be25bd094341aba96f8395dde46f",
       "version_major": 2,
       "version_minor": 0
      },
      "text/plain": [
       "HBox(children=(HTML(value='Executing'), FloatProgress(value=0.0, max=14.0), HTML(value='')))"
      ]
     },
     "metadata": {},
     "output_type": "display_data"
    },
    {
     "name": "stdout",
     "output_type": "stream",
     "text": [
      "\n",
      "\u001b[1;31mGenerating tables for Tmin (degC)\u001b[0m\n"
     ]
    },
    {
     "data": {
      "application/vnd.jupyter.widget-view+json": {
       "model_id": "d8eb3bb7206f488e8fc286a489e62f74",
       "version_major": 2,
       "version_minor": 0
      },
      "text/plain": [
       "HBox(children=(HTML(value='Executing'), FloatProgress(value=0.0, max=10.0), HTML(value='')))"
      ]
     },
     "metadata": {},
     "output_type": "display_data"
    },
    {
     "name": "stdout",
     "output_type": "stream",
     "text": [
      "\n",
      "\u001b[1;31mGenerating figures for Tmax (degC)\u001b[0m\n"
     ]
    },
    {
     "data": {
      "application/vnd.jupyter.widget-view+json": {
       "model_id": "d2eee8a22c674a589a0da34292828762",
       "version_major": 2,
       "version_minor": 0
      },
      "text/plain": [
       "HBox(children=(HTML(value='Executing'), FloatProgress(value=0.0, max=14.0), HTML(value='')))"
      ]
     },
     "metadata": {},
     "output_type": "display_data"
    },
    {
     "name": "stdout",
     "output_type": "stream",
     "text": [
      "\n",
      "\u001b[1;31mGenerating tables for Tmax (degC)\u001b[0m\n"
     ]
    },
    {
     "data": {
      "application/vnd.jupyter.widget-view+json": {
       "model_id": "7c9197b245b64ab4899d8cb8844b5e6a",
       "version_major": 2,
       "version_minor": 0
      },
      "text/plain": [
       "HBox(children=(HTML(value='Executing'), FloatProgress(value=0.0, max=10.0), HTML(value='')))"
      ]
     },
     "metadata": {},
     "output_type": "display_data"
    },
    {
     "name": "stdout",
     "output_type": "stream",
     "text": [
      "\n",
      "\u001b[1;31mGenerating figures for WP10\u001b[0m\n"
     ]
    },
    {
     "data": {
      "application/vnd.jupyter.widget-view+json": {
       "model_id": "e34a27d5ae914b5f85ef40908c7cbf7d",
       "version_major": 2,
       "version_minor": 0
      },
      "text/plain": [
       "HBox(children=(HTML(value='Executing'), FloatProgress(value=0.0, max=14.0), HTML(value='')))"
      ]
     },
     "metadata": {},
     "output_type": "display_data"
    },
    {
     "name": "stdout",
     "output_type": "stream",
     "text": [
      "\n",
      "\u001b[1;31mGenerating tables for WP10\u001b[0m\n"
     ]
    },
    {
     "data": {
      "application/vnd.jupyter.widget-view+json": {
       "model_id": "13f133bd50434cf8a973962ac852a4ef",
       "version_major": 2,
       "version_minor": 0
      },
      "text/plain": [
       "HBox(children=(HTML(value='Executing'), FloatProgress(value=0.0, max=10.0), HTML(value='')))"
      ]
     },
     "metadata": {},
     "output_type": "display_data"
    },
    {
     "name": "stdout",
     "output_type": "stream",
     "text": [
      "\n",
      "\u001b[1;31mGenerating figures for WP50\u001b[0m\n"
     ]
    },
    {
     "data": {
      "application/vnd.jupyter.widget-view+json": {
       "model_id": "44ba55882f374f1ea061a48db6d05685",
       "version_major": 2,
       "version_minor": 0
      },
      "text/plain": [
       "HBox(children=(HTML(value='Executing'), FloatProgress(value=0.0, max=14.0), HTML(value='')))"
      ]
     },
     "metadata": {},
     "output_type": "display_data"
    },
    {
     "name": "stdout",
     "output_type": "stream",
     "text": [
      "\n",
      "\u001b[1;31mGenerating tables for WP50\u001b[0m\n"
     ]
    },
    {
     "data": {
      "application/vnd.jupyter.widget-view+json": {
       "model_id": "3df27443052f4324a550cb8aa9e36ab1",
       "version_major": 2,
       "version_minor": 0
      },
      "text/plain": [
       "HBox(children=(HTML(value='Executing'), FloatProgress(value=0.0, max=10.0), HTML(value='')))"
      ]
     },
     "metadata": {},
     "output_type": "display_data"
    },
    {
     "name": "stdout",
     "output_type": "stream",
     "text": [
      "\n",
      "\u001b[1;31mGenerating figures for DRWP-RL5 (Pa)\u001b[0m\n"
     ]
    },
    {
     "data": {
      "application/vnd.jupyter.widget-view+json": {
       "model_id": "16d3f1888f96445d8353b190730addf5",
       "version_major": 2,
       "version_minor": 0
      },
      "text/plain": [
       "HBox(children=(HTML(value='Executing'), FloatProgress(value=0.0, max=14.0), HTML(value='')))"
      ]
     },
     "metadata": {},
     "output_type": "display_data"
    },
    {
     "name": "stdout",
     "output_type": "stream",
     "text": [
      "\n",
      "\u001b[1;31mGenerating tables for DRWP-RL5 (Pa)\u001b[0m\n"
     ]
    },
    {
     "data": {
      "application/vnd.jupyter.widget-view+json": {
       "model_id": "f4a62317ec4c407cb3022c59142fc9cb",
       "version_major": 2,
       "version_minor": 0
      },
      "text/plain": [
       "HBox(children=(HTML(value='Executing'), FloatProgress(value=0.0, max=10.0), HTML(value='')))"
      ]
     },
     "metadata": {},
     "output_type": "display_data"
    },
    {
     "name": "stdout",
     "output_type": "stream",
     "text": [
      "\n",
      "\u001b[1;31mGenerating figures for annual_pr (mm)\u001b[0m\n"
     ]
    },
    {
     "data": {
      "application/vnd.jupyter.widget-view+json": {
       "model_id": "201f8a6daedb436db3efbf9ebb6632bb",
       "version_major": 2,
       "version_minor": 0
      },
      "text/plain": [
       "HBox(children=(HTML(value='Executing'), FloatProgress(value=0.0, max=14.0), HTML(value='')))"
      ]
     },
     "metadata": {},
     "output_type": "display_data"
    },
    {
     "name": "stdout",
     "output_type": "stream",
     "text": [
      "\n",
      "\u001b[1;31mGenerating tables for annual_pr (mm)\u001b[0m\n"
     ]
    },
    {
     "data": {
      "application/vnd.jupyter.widget-view+json": {
       "model_id": "19679e51972a4f6e910d0add78c458a9",
       "version_major": 2,
       "version_minor": 0
      },
      "text/plain": [
       "HBox(children=(HTML(value='Executing'), FloatProgress(value=0.0, max=10.0), HTML(value='')))"
      ]
     },
     "metadata": {},
     "output_type": "display_data"
    },
    {
     "name": "stdout",
     "output_type": "stream",
     "text": [
      "\n",
      "\u001b[1;31mGenerating figures for annual_rain (mm)\u001b[0m\n"
     ]
    },
    {
     "data": {
      "application/vnd.jupyter.widget-view+json": {
       "model_id": "db62101da874414bb432dd8a526dd047",
       "version_major": 2,
       "version_minor": 0
      },
      "text/plain": [
       "HBox(children=(HTML(value='Executing'), FloatProgress(value=0.0, max=14.0), HTML(value='')))"
      ]
     },
     "metadata": {},
     "output_type": "display_data"
    },
    {
     "name": "stdout",
     "output_type": "stream",
     "text": [
      "\n",
      "\u001b[1;31mGenerating tables for annual_rain (mm)\u001b[0m\n"
     ]
    },
    {
     "data": {
      "application/vnd.jupyter.widget-view+json": {
       "model_id": "e8921f16d85046e49d0b24400b538d7d",
       "version_major": 2,
       "version_minor": 0
      },
      "text/plain": [
       "HBox(children=(HTML(value='Executing'), FloatProgress(value=0.0, max=10.0), HTML(value='')))"
      ]
     },
     "metadata": {},
     "output_type": "display_data"
    },
    {
     "name": "stdout",
     "output_type": "stream",
     "text": [
      "\n",
      "\u001b[1;31mGenerating figures for 1day rain RL50 (mm)\u001b[0m\n"
     ]
    },
    {
     "data": {
      "application/vnd.jupyter.widget-view+json": {
       "model_id": "b1faac62438842d0ab7cd654731f15d9",
       "version_major": 2,
       "version_minor": 0
      },
      "text/plain": [
       "HBox(children=(HTML(value='Executing'), FloatProgress(value=0.0, max=14.0), HTML(value='')))"
      ]
     },
     "metadata": {},
     "output_type": "display_data"
    },
    {
     "name": "stdout",
     "output_type": "stream",
     "text": [
      "\n",
      "\u001b[1;31mGenerating tables for 1day rain RL50 (mm)\u001b[0m\n"
     ]
    },
    {
     "data": {
      "application/vnd.jupyter.widget-view+json": {
       "model_id": "ce7805dc41994b22bbe4e57364541f16",
       "version_major": 2,
       "version_minor": 0
      },
      "text/plain": [
       "HBox(children=(HTML(value='Executing'), FloatProgress(value=0.0, max=10.0), HTML(value='')))"
      ]
     },
     "metadata": {},
     "output_type": "display_data"
    },
    {
     "name": "stdout",
     "output_type": "stream",
     "text": [
      "\n",
      "\u001b[1;31mGenerating figures for Gum-LM RL10 (mm)\u001b[0m\n"
     ]
    },
    {
     "data": {
      "application/vnd.jupyter.widget-view+json": {
       "model_id": "5d081b7aa3ec4928b95dc5c5beff585e",
       "version_major": 2,
       "version_minor": 0
      },
      "text/plain": [
       "HBox(children=(HTML(value='Executing'), FloatProgress(value=0.0, max=14.0), HTML(value='')))"
      ]
     },
     "metadata": {},
     "output_type": "display_data"
    },
    {
     "name": "stdout",
     "output_type": "stream",
     "text": [
      "\n",
      "\u001b[1;31mGenerating tables for Gum-LM RL10 (mm)\u001b[0m\n"
     ]
    },
    {
     "data": {
      "application/vnd.jupyter.widget-view+json": {
       "model_id": "f09231ea6d1445f2bc7ca49842300797",
       "version_major": 2,
       "version_minor": 0
      },
      "text/plain": [
       "HBox(children=(HTML(value='Executing'), FloatProgress(value=0.0, max=10.0), HTML(value='')))"
      ]
     },
     "metadata": {},
     "output_type": "display_data"
    },
    {
     "name": "stderr",
     "output_type": "stream",
     "text": [
      "Input notebook does not contain a cell with tag 'parameters'\n"
     ]
    },
    {
     "name": "stdout",
     "output_type": "stream",
     "text": [
      "\n",
      "\u001b[1;31mCombining tables for all reconstructions\u001b[0m\n"
     ]
    },
    {
     "data": {
      "application/vnd.jupyter.widget-view+json": {
       "model_id": "6ca65e1a471047b4b2755f42a6a8cfce",
       "version_major": 2,
       "version_minor": 0
      },
      "text/plain": [
       "HBox(children=(HTML(value='Executing'), FloatProgress(value=0.0, max=10.0), HTML(value='')))"
      ]
     },
     "metadata": {},
     "output_type": "display_data"
    },
    {
     "name": "stdout",
     "output_type": "stream",
     "text": [
      "\n"
     ]
    },
    {
     "data": {
      "text/plain": [
       "{'cells': [{'cell_type': 'code',\n",
       "   'metadata': {'tags': ['injected-parameters'],\n",
       "    'papermill': {'exception': False,\n",
       "     'start_time': '2020-12-16T20:00:14.609996',\n",
       "     'end_time': '2020-12-16T20:00:14.627023',\n",
       "     'duration': 0.017027,\n",
       "     'status': 'completed'},\n",
       "    'execution': {'iopub.status.busy': '2020-12-16T20:00:14.624585Z',\n",
       "     'iopub.execute_input': '2020-12-16T20:00:14.624923Z',\n",
       "     'shell.execute_reply': '2020-12-16T20:00:14.626560Z',\n",
       "     'iopub.status.idle': '2020-12-16T20:00:14.626905Z'}},\n",
       "   'execution_count': 1,\n",
       "   'source': '# Parameters\\nstation_dv = \"Gum-LM RL10 (mm)\"\\noutput_reconstruction_path = \"/home/nannau/Desktop/pipeline/climpyrical/climpyrical/data/results/netcdf/R15m10_reconstructed.nc\"\\nprocessed_station_path = \"/home/nannau/Desktop/pipeline/climpyrical/climpyrical/data/results/intermediate/preprocessed_stations/R15m10_processed_stations.csv\"\\noutput_nrc_path = \"/home/nannau/Desktop/pipeline/climpyrical/climpyrical/data/results/TableC2/R15m10_TableC2.csv\"\\n',\n",
       "   'outputs': []},\n",
       "  {'cell_type': 'code',\n",
       "   'execution_count': 2,\n",
       "   'metadata': {'tags': [],\n",
       "    'papermill': {'exception': False,\n",
       "     'start_time': '2020-12-16T20:00:14.632177',\n",
       "     'end_time': '2020-12-16T20:00:14.949631',\n",
       "     'duration': 0.317454,\n",
       "     'status': 'completed'},\n",
       "    'execution': {'iopub.status.busy': '2020-12-16T20:00:14.641471Z',\n",
       "     'iopub.execute_input': '2020-12-16T20:00:14.642299Z',\n",
       "     'shell.execute_reply': '2020-12-16T20:00:14.948687Z',\n",
       "     'iopub.status.idle': '2020-12-16T20:00:14.949412Z'}},\n",
       "   'outputs': [],\n",
       "   'source': 'import pandas as pd\\nimport config\\nfrom pkg_resources import resource_filename'},\n",
       "  {'cell_type': 'code',\n",
       "   'execution_count': 3,\n",
       "   'metadata': {'tags': [],\n",
       "    'papermill': {'exception': False,\n",
       "     'start_time': '2020-12-16T20:00:14.960876',\n",
       "     'end_time': '2020-12-16T20:00:15.023553',\n",
       "     'duration': 0.062677,\n",
       "     'status': 'completed'},\n",
       "    'execution': {'iopub.status.busy': '2020-12-16T20:00:14.971546Z',\n",
       "     'iopub.execute_input': '2020-12-16T20:00:14.971867Z',\n",
       "     'iopub.status.idle': '2020-12-16T20:00:15.022467Z',\n",
       "     'shell.execute_reply': '2020-12-16T20:00:15.023249Z'}},\n",
       "   'outputs': [{'output_type': 'stream',\n",
       "     'name': 'stdout',\n",
       "     'text': 'RL50\\nSL50\\nMI\\nRHann\\nHDD\\nTJan2.5\\nTJan1.0\\nTJul97.5\\nTwJul97.5\\nTmin\\nTmax\\nWP10\\nWP50\\nDRWP5\\nPAnn\\nRAnn\\nR1d50\\nR15m10\\n'},\n",
       "    {'output_type': 'execute_result',\n",
       "     'metadata': {},\n",
       "     'data': {'text/plain': \"['RL50 (kPa)',\\n 'SL50 (kPa)',\\n 'moisture_index',\\n 'mean RH (%)',\\n 'HDD (degC-day)',\\n 'TJan2.5 (degC)',\\n 'TJan1.0 (degC)',\\n 'TJul2.5 (degC)',\\n 'TwJul2.5 (degC)',\\n 'Tmin (degC)',\\n 'Tmax (degC)',\\n 'WP10',\\n 'WP50',\\n 'DRWP-RL5 (Pa)',\\n 'annual_pr (mm)',\\n 'annual_rain (mm)',\\n '1day rain RL50 (mm)',\\n 'Gum-LM RL10 (mm)']\"},\n",
       "     'execution_count': 3}],\n",
       "   'source': 'output_tables_dir = resource_filename(\\n    \"climpyrical\",\\n    f\"/data/results/TableC2/\"\\n)\\n\\nfilenames = config.filenames\\nstations = config.station_dvs\\ndflist = []\\nfor station in stations:\\n    print(filenames[station])\\n    nrc_table_path = output_tables_dir+f\"{filenames[station]}_TableC2.csv\"\\n    df = pd.read_csv(nrc_table_path)\\n    if filenames[station] in [\"TJan2.5\", \"TJan1.0\", \"TJul97.5\", \"TwJul97.5\", \"Tmin\", \"Tmax\"]:\\n        df[station] -= 273.15\\n    dflist.append(df)\\nstations'},\n",
       "  {'cell_type': 'code',\n",
       "   'execution_count': 4,\n",
       "   'metadata': {'tags': [],\n",
       "    'papermill': {'exception': False,\n",
       "     'start_time': '2020-12-16T20:00:15.035695',\n",
       "     'end_time': '2020-12-16T20:00:15.060261',\n",
       "     'duration': 0.024566,\n",
       "     'status': 'completed'},\n",
       "    'execution': {'iopub.status.busy': '2020-12-16T20:00:15.057058Z',\n",
       "     'iopub.execute_input': '2020-12-16T20:00:15.058109Z',\n",
       "     'iopub.status.idle': '2020-12-16T20:00:15.059195Z',\n",
       "     'shell.execute_reply': '2020-12-16T20:00:15.059970Z'}},\n",
       "   'outputs': [],\n",
       "   'source': '# start with combining the design values\\ndf_combined = pd.DataFrame()\\ndf_combined = df_combined.assign(Location = df.Location, Prov = df.Prov, lon=df.lon, lat=df.lat)\\ndf_combined[\"2020 Elev (m)\"] = df[\"2020 Elev (m)\"]\\nfor i, key in enumerate(stations):\\n    df_combined[key] = dflist[i][key]'},\n",
       "  {'cell_type': 'code',\n",
       "   'execution_count': 5,\n",
       "   'metadata': {'tags': [],\n",
       "    'papermill': {'exception': False,\n",
       "     'start_time': '2020-12-16T20:00:15.072789',\n",
       "     'end_time': '2020-12-16T20:00:15.107735',\n",
       "     'duration': 0.034946,\n",
       "     'status': 'completed'},\n",
       "    'execution': {'iopub.status.busy': '2020-12-16T20:00:15.083715Z',\n",
       "     'iopub.execute_input': '2020-12-16T20:00:15.084549Z',\n",
       "     'iopub.status.idle': '2020-12-16T20:00:15.106705Z',\n",
       "     'shell.execute_reply': '2020-12-16T20:00:15.107446Z'}},\n",
       "   'outputs': [{'output_type': 'execute_result',\n",
       "     'metadata': {},\n",
       "     'data': {'text/plain': '                   Location Prov     lon    lat  2020 Elev (m)  RL50 (kPa)  \\\\\\n0            100 Mile House   BC -121.30  51.64            926       0.110   \\n1                Abbotsford   BC -122.33  49.05             70       0.906   \\n2                   Agassiz   BC -121.76  49.24             25       0.842   \\n3                   Alberni   BC -124.80  49.27             50       0.661   \\n4                  Ashcroft   BC -121.28  50.72            305       0.121   \\n..                      ...  ...     ...    ...            ...         ...   \\n675               Kugluktuk   NU -115.10  67.83             15       0.074   \\n676       Nottingham Island   NU  -77.93  63.12             30       0.201   \\n677                Resolute   NU  -94.83  74.70             20       0.089   \\n678       Resolution Island   NU  -64.87  61.31              0       0.115   \\n679  Salliq / Coral Harbour   NU  -83.17  64.14             10       0.122   \\n\\n     SL50 (kPa)  moisture_index  mean RH (%)  HDD (degC-day)  ...  \\\\\\n0         2.382           0.441       67.907        5028.098  ...   \\n1         1.911           1.475       76.769        2857.760  ...   \\n2         2.565           1.183       76.702        2887.635  ...   \\n3         1.756           1.141       78.130        3077.820  ...   \\n4         1.153           0.285       65.902        4520.982  ...   \\n..          ...             ...          ...             ...  ...   \\n675       2.695           0.858       78.963       10294.078  ...   \\n676       3.370           0.959       78.940        9813.890  ...   \\n677       1.721           0.953       78.665       12389.206  ...   \\n678       6.140           0.909       76.993        9175.936  ...   \\n679       2.695           0.877       76.839       10586.046  ...   \\n\\n     TwJul2.5 (degC)  Tmin (degC)  Tmax (degC)   WP10   WP50  DRWP-RL5 (Pa)  \\\\\\n0           -256.083     -300.195     -252.240  0.125  0.165         47.105   \\n1           -252.249     -279.897     -248.606  0.222  0.294        117.864   \\n2           -252.066     -282.767     -247.755  0.178  0.236        111.923   \\n3           -253.744     -278.618     -250.731  0.259  0.330        137.552   \\n4           -254.904     -296.534     -249.844  0.185  0.249         61.465   \\n..               ...          ...          ...    ...    ...            ...   \\n675         -257.384     -313.004     -254.495  0.361  0.452         79.315   \\n676         -261.952     -309.144     -260.027  0.412  0.535        158.796   \\n677         -262.297     -316.093     -261.126  0.426  0.560         39.434   \\n678         -260.980     -306.179     -258.544  0.341  0.444        176.670   \\n679         -260.124     -313.419     -259.394  0.405  0.549        118.560   \\n\\n     annual_pr (mm)  annual_rain (mm)  1day rain RL50 (mm)  Gum-LM RL10 (mm)  \\n0           477.274           314.874               49.505             8.934  \\n1          1705.196          1667.205              113.280            10.211  \\n2          1895.719          1858.533              135.438             8.234  \\n3          1689.149          1604.801              131.712             8.873  \\n4           363.683           265.828               34.370             8.567  \\n..              ...               ...                  ...               ...  \\n675         221.563           131.453               43.770             7.964  \\n676         408.457           189.731               48.165             5.654  \\n677         140.667            48.476               28.408             3.686  \\n678         545.790           216.815               54.297             6.068  \\n679         298.592           155.380               45.483             4.852  \\n\\n[680 rows x 23 columns]',\n",
       "      'text/html': '<div>\\n<style scoped>\\n    .dataframe tbody tr th:only-of-type {\\n        vertical-align: middle;\\n    }\\n\\n    .dataframe tbody tr th {\\n        vertical-align: top;\\n    }\\n\\n    .dataframe thead th {\\n        text-align: right;\\n    }\\n</style>\\n<table border=\"1\" class=\"dataframe\">\\n  <thead>\\n    <tr style=\"text-align: right;\">\\n      <th></th>\\n      <th>Location</th>\\n      <th>Prov</th>\\n      <th>lon</th>\\n      <th>lat</th>\\n      <th>2020 Elev (m)</th>\\n      <th>RL50 (kPa)</th>\\n      <th>SL50 (kPa)</th>\\n      <th>moisture_index</th>\\n      <th>mean RH (%)</th>\\n      <th>HDD (degC-day)</th>\\n      <th>...</th>\\n      <th>TwJul2.5 (degC)</th>\\n      <th>Tmin (degC)</th>\\n      <th>Tmax (degC)</th>\\n      <th>WP10</th>\\n      <th>WP50</th>\\n      <th>DRWP-RL5 (Pa)</th>\\n      <th>annual_pr (mm)</th>\\n      <th>annual_rain (mm)</th>\\n      <th>1day rain RL50 (mm)</th>\\n      <th>Gum-LM RL10 (mm)</th>\\n    </tr>\\n  </thead>\\n  <tbody>\\n    <tr>\\n      <th>0</th>\\n      <td>100 Mile House</td>\\n      <td>BC</td>\\n      <td>-121.30</td>\\n      <td>51.64</td>\\n      <td>926</td>\\n      <td>0.110</td>\\n      <td>2.382</td>\\n      <td>0.441</td>\\n      <td>67.907</td>\\n      <td>5028.098</td>\\n      <td>...</td>\\n      <td>-256.083</td>\\n      <td>-300.195</td>\\n      <td>-252.240</td>\\n      <td>0.125</td>\\n      <td>0.165</td>\\n      <td>47.105</td>\\n      <td>477.274</td>\\n      <td>314.874</td>\\n      <td>49.505</td>\\n      <td>8.934</td>\\n    </tr>\\n    <tr>\\n      <th>1</th>\\n      <td>Abbotsford</td>\\n      <td>BC</td>\\n      <td>-122.33</td>\\n      <td>49.05</td>\\n      <td>70</td>\\n      <td>0.906</td>\\n      <td>1.911</td>\\n      <td>1.475</td>\\n      <td>76.769</td>\\n      <td>2857.760</td>\\n      <td>...</td>\\n      <td>-252.249</td>\\n      <td>-279.897</td>\\n      <td>-248.606</td>\\n      <td>0.222</td>\\n      <td>0.294</td>\\n      <td>117.864</td>\\n      <td>1705.196</td>\\n      <td>1667.205</td>\\n      <td>113.280</td>\\n      <td>10.211</td>\\n    </tr>\\n    <tr>\\n      <th>2</th>\\n      <td>Agassiz</td>\\n      <td>BC</td>\\n      <td>-121.76</td>\\n      <td>49.24</td>\\n      <td>25</td>\\n      <td>0.842</td>\\n      <td>2.565</td>\\n      <td>1.183</td>\\n      <td>76.702</td>\\n      <td>2887.635</td>\\n      <td>...</td>\\n      <td>-252.066</td>\\n      <td>-282.767</td>\\n      <td>-247.755</td>\\n      <td>0.178</td>\\n      <td>0.236</td>\\n      <td>111.923</td>\\n      <td>1895.719</td>\\n      <td>1858.533</td>\\n      <td>135.438</td>\\n      <td>8.234</td>\\n    </tr>\\n    <tr>\\n      <th>3</th>\\n      <td>Alberni</td>\\n      <td>BC</td>\\n      <td>-124.80</td>\\n      <td>49.27</td>\\n      <td>50</td>\\n      <td>0.661</td>\\n      <td>1.756</td>\\n      <td>1.141</td>\\n      <td>78.130</td>\\n      <td>3077.820</td>\\n      <td>...</td>\\n      <td>-253.744</td>\\n      <td>-278.618</td>\\n      <td>-250.731</td>\\n      <td>0.259</td>\\n      <td>0.330</td>\\n      <td>137.552</td>\\n      <td>1689.149</td>\\n      <td>1604.801</td>\\n      <td>131.712</td>\\n      <td>8.873</td>\\n    </tr>\\n    <tr>\\n      <th>4</th>\\n      <td>Ashcroft</td>\\n      <td>BC</td>\\n      <td>-121.28</td>\\n      <td>50.72</td>\\n      <td>305</td>\\n      <td>0.121</td>\\n      <td>1.153</td>\\n      <td>0.285</td>\\n      <td>65.902</td>\\n      <td>4520.982</td>\\n      <td>...</td>\\n      <td>-254.904</td>\\n      <td>-296.534</td>\\n      <td>-249.844</td>\\n      <td>0.185</td>\\n      <td>0.249</td>\\n      <td>61.465</td>\\n      <td>363.683</td>\\n      <td>265.828</td>\\n      <td>34.370</td>\\n      <td>8.567</td>\\n    </tr>\\n    <tr>\\n      <th>...</th>\\n      <td>...</td>\\n      <td>...</td>\\n      <td>...</td>\\n      <td>...</td>\\n      <td>...</td>\\n      <td>...</td>\\n      <td>...</td>\\n      <td>...</td>\\n      <td>...</td>\\n      <td>...</td>\\n      <td>...</td>\\n      <td>...</td>\\n      <td>...</td>\\n      <td>...</td>\\n      <td>...</td>\\n      <td>...</td>\\n      <td>...</td>\\n      <td>...</td>\\n      <td>...</td>\\n      <td>...</td>\\n      <td>...</td>\\n    </tr>\\n    <tr>\\n      <th>675</th>\\n      <td>Kugluktuk</td>\\n      <td>NU</td>\\n      <td>-115.10</td>\\n      <td>67.83</td>\\n      <td>15</td>\\n      <td>0.074</td>\\n      <td>2.695</td>\\n      <td>0.858</td>\\n      <td>78.963</td>\\n      <td>10294.078</td>\\n      <td>...</td>\\n      <td>-257.384</td>\\n      <td>-313.004</td>\\n      <td>-254.495</td>\\n      <td>0.361</td>\\n      <td>0.452</td>\\n      <td>79.315</td>\\n      <td>221.563</td>\\n      <td>131.453</td>\\n      <td>43.770</td>\\n      <td>7.964</td>\\n    </tr>\\n    <tr>\\n      <th>676</th>\\n      <td>Nottingham Island</td>\\n      <td>NU</td>\\n      <td>-77.93</td>\\n      <td>63.12</td>\\n      <td>30</td>\\n      <td>0.201</td>\\n      <td>3.370</td>\\n      <td>0.959</td>\\n      <td>78.940</td>\\n      <td>9813.890</td>\\n      <td>...</td>\\n      <td>-261.952</td>\\n      <td>-309.144</td>\\n      <td>-260.027</td>\\n      <td>0.412</td>\\n      <td>0.535</td>\\n      <td>158.796</td>\\n      <td>408.457</td>\\n      <td>189.731</td>\\n      <td>48.165</td>\\n      <td>5.654</td>\\n    </tr>\\n    <tr>\\n      <th>677</th>\\n      <td>Resolute</td>\\n      <td>NU</td>\\n      <td>-94.83</td>\\n      <td>74.70</td>\\n      <td>20</td>\\n      <td>0.089</td>\\n      <td>1.721</td>\\n      <td>0.953</td>\\n      <td>78.665</td>\\n      <td>12389.206</td>\\n      <td>...</td>\\n      <td>-262.297</td>\\n      <td>-316.093</td>\\n      <td>-261.126</td>\\n      <td>0.426</td>\\n      <td>0.560</td>\\n      <td>39.434</td>\\n      <td>140.667</td>\\n      <td>48.476</td>\\n      <td>28.408</td>\\n      <td>3.686</td>\\n    </tr>\\n    <tr>\\n      <th>678</th>\\n      <td>Resolution Island</td>\\n      <td>NU</td>\\n      <td>-64.87</td>\\n      <td>61.31</td>\\n      <td>0</td>\\n      <td>0.115</td>\\n      <td>6.140</td>\\n      <td>0.909</td>\\n      <td>76.993</td>\\n      <td>9175.936</td>\\n      <td>...</td>\\n      <td>-260.980</td>\\n      <td>-306.179</td>\\n      <td>-258.544</td>\\n      <td>0.341</td>\\n      <td>0.444</td>\\n      <td>176.670</td>\\n      <td>545.790</td>\\n      <td>216.815</td>\\n      <td>54.297</td>\\n      <td>6.068</td>\\n    </tr>\\n    <tr>\\n      <th>679</th>\\n      <td>Salliq / Coral Harbour</td>\\n      <td>NU</td>\\n      <td>-83.17</td>\\n      <td>64.14</td>\\n      <td>10</td>\\n      <td>0.122</td>\\n      <td>2.695</td>\\n      <td>0.877</td>\\n      <td>76.839</td>\\n      <td>10586.046</td>\\n      <td>...</td>\\n      <td>-260.124</td>\\n      <td>-313.419</td>\\n      <td>-259.394</td>\\n      <td>0.405</td>\\n      <td>0.549</td>\\n      <td>118.560</td>\\n      <td>298.592</td>\\n      <td>155.380</td>\\n      <td>45.483</td>\\n      <td>4.852</td>\\n    </tr>\\n  </tbody>\\n</table>\\n<p>680 rows × 23 columns</p>\\n</div>'},\n",
       "     'execution_count': 5}],\n",
       "   'source': 'df_combined'},\n",
       "  {'cell_type': 'code',\n",
       "   'execution_count': 6,\n",
       "   'metadata': {'tags': [],\n",
       "    'papermill': {'exception': False,\n",
       "     'start_time': '2020-12-16T20:00:15.120051',\n",
       "     'end_time': '2020-12-16T20:00:15.133558',\n",
       "     'duration': 0.013507,\n",
       "     'status': 'completed'},\n",
       "    'execution': {'iopub.status.busy': '2020-12-16T20:00:15.126784Z',\n",
       "     'iopub.execute_input': '2020-12-16T20:00:15.130333Z',\n",
       "     'shell.execute_reply': '2020-12-16T20:00:15.132988Z',\n",
       "     'iopub.status.idle': '2020-12-16T20:00:15.133437Z'}},\n",
       "   'outputs': [],\n",
       "   'source': 'assert not df_combined.isnull().values.any()'},\n",
       "  {'cell_type': 'code',\n",
       "   'execution_count': 7,\n",
       "   'metadata': {'tags': [],\n",
       "    'papermill': {'exception': False,\n",
       "     'start_time': '2020-12-16T20:00:15.140795',\n",
       "     'end_time': '2020-12-16T20:00:15.166668',\n",
       "     'duration': 0.025873,\n",
       "     'status': 'completed'},\n",
       "    'execution': {'iopub.status.busy': '2020-12-16T20:00:15.156060Z',\n",
       "     'iopub.execute_input': '2020-12-16T20:00:15.163727Z',\n",
       "     'iopub.status.idle': '2020-12-16T20:00:15.165638Z',\n",
       "     'shell.execute_reply': '2020-12-16T20:00:15.166397Z'}},\n",
       "   'outputs': [],\n",
       "   'source': '# Sort the combined keys into final format\\n# As they appear in original\\noriginal_columns = {\\n        \"Location\": \"Location\",\\n        \"lat\": \"Latitude\",\\n        \"lon\": \"Longitude\",\\n        \"Prov\": \"prov\",\\n        \"2020 Elev (m)\": \"elevation (m)\",\\n        \"TJan2.5 (degC)\": \"JanT2.5 (degC)\",\\n        \"TJan1.0 (degC)\": \"JanT1.0 (degC)\",\\n        \"TJul2.5 (degC)\": \"JulT2.5 (degC)\",\\n        \"TwJul2.5 (degC)\":\"JulTw2.5 (degC)\",\\n        \"Tmin (degC)\": \"Tmin (degC)\",\\n        \"Tmax (degC)\": \"Tmax (degC)\",\\n        \"HDD (degC-day)\": \"HDD (degC-day)\",\\n        \"Gum-LM RL10 (mm)\": \"R15m10 (mm)\",\\n        \"1day rain RL50 (mm)\": \"R1d50 (mm)\",\\n        \"annual_rain (mm)\": \"AnnR (mm)\",\\n        \"annual_pr (mm)\": \"AnnP (mm)\",\\n        \"mean RH (%)\": \"RH (%)\",\\n        \"moisture_index\": \"MI\",\\n        \"DRWP-RL5 (Pa)\": \"DRWP5 (Pa)\",\\n        \"SL50 (kPa)\": \"SL50 (kPa)\",\\n        \"RL50 (kPa)\": \"RL50 (kPa)\",\\n        \"WP10\": \"WP10 (kPa)\",\\n        \"WP50\": \"WP50 (kPa)\"\\n    }\\n\\ndf_final = pd.DataFrame()\\ndf_final = df_final.assign(Location = df.Location, Prov = df.Prov, lon=df.lon, lat=df.lat)\\ndf_final[\"2020 Elev (m)\"] = df[\"2020 Elev (m)\"]\\ndf_final = df_combined.rename(columns=original_columns)\\ndf_final_ordered = pd.DataFrame()\\nfor key in original_columns.keys():\\n    df_final_ordered[original_columns[key]] = df_final[original_columns[key]]'},\n",
       "  {'cell_type': 'code',\n",
       "   'execution_count': 8,\n",
       "   'metadata': {'tags': [],\n",
       "    'papermill': {'exception': False,\n",
       "     'start_time': '2020-12-16T20:00:15.177229',\n",
       "     'end_time': '2020-12-16T20:00:15.208961',\n",
       "     'duration': 0.031732,\n",
       "     'status': 'completed'},\n",
       "    'execution': {'iopub.status.busy': '2020-12-16T20:00:15.204369Z',\n",
       "     'iopub.execute_input': '2020-12-16T20:00:15.205300Z',\n",
       "     'iopub.status.idle': '2020-12-16T20:00:15.207934Z',\n",
       "     'shell.execute_reply': '2020-12-16T20:00:15.208674Z'}},\n",
       "   'outputs': [{'output_type': 'execute_result',\n",
       "     'metadata': {},\n",
       "     'data': {'text/plain': '         Location  Latitude  Longitude prov  elevation (m)  JanT2.5 (degC)  \\\\\\n0  100 Mile House     51.64    -121.30   BC            926        -297.890   \\n1      Abbotsford     49.05    -122.33   BC             70        -279.531   \\n2         Agassiz     49.24    -121.76   BC             25        -280.850   \\n3         Alberni     49.27    -124.80   BC             50        -277.065   \\n4        Ashcroft     50.72    -121.28   BC            305        -294.255   \\n\\n   JanT1.0 (degC)  JulT2.5 (degC)  JulTw2.5 (degC)  Tmin (degC)  ...  \\\\\\n0        -301.199        -243.898         -256.083     -300.195  ...   \\n1        -281.498        -243.495         -252.249     -279.897  ...   \\n2        -283.015        -243.023         -252.066     -282.767  ...   \\n3        -278.946        -245.725         -253.744     -278.618  ...   \\n4        -296.792        -239.703         -254.904     -296.534  ...   \\n\\n   R1d50 (mm)  AnnR (mm)  AnnP (mm)  RH (%)     MI  DRWP5 (Pa)  SL50 (kPa)  \\\\\\n0      49.505    314.874    477.274  67.907  0.441      47.105       2.382   \\n1     113.280   1667.205   1705.196  76.769  1.475     117.864       1.911   \\n2     135.438   1858.533   1895.719  76.702  1.183     111.923       2.565   \\n3     131.712   1604.801   1689.149  78.130  1.141     137.552       1.756   \\n4      34.370    265.828    363.683  65.902  0.285      61.465       1.153   \\n\\n   RL50 (kPa)  WP10 (kPa)  WP50 (kPa)  \\n0       0.110       0.125       0.165  \\n1       0.906       0.222       0.294  \\n2       0.842       0.178       0.236  \\n3       0.661       0.259       0.330  \\n4       0.121       0.185       0.249  \\n\\n[5 rows x 23 columns]',\n",
       "      'text/html': '<div>\\n<style scoped>\\n    .dataframe tbody tr th:only-of-type {\\n        vertical-align: middle;\\n    }\\n\\n    .dataframe tbody tr th {\\n        vertical-align: top;\\n    }\\n\\n    .dataframe thead th {\\n        text-align: right;\\n    }\\n</style>\\n<table border=\"1\" class=\"dataframe\">\\n  <thead>\\n    <tr style=\"text-align: right;\">\\n      <th></th>\\n      <th>Location</th>\\n      <th>Latitude</th>\\n      <th>Longitude</th>\\n      <th>prov</th>\\n      <th>elevation (m)</th>\\n      <th>JanT2.5 (degC)</th>\\n      <th>JanT1.0 (degC)</th>\\n      <th>JulT2.5 (degC)</th>\\n      <th>JulTw2.5 (degC)</th>\\n      <th>Tmin (degC)</th>\\n      <th>...</th>\\n      <th>R1d50 (mm)</th>\\n      <th>AnnR (mm)</th>\\n      <th>AnnP (mm)</th>\\n      <th>RH (%)</th>\\n      <th>MI</th>\\n      <th>DRWP5 (Pa)</th>\\n      <th>SL50 (kPa)</th>\\n      <th>RL50 (kPa)</th>\\n      <th>WP10 (kPa)</th>\\n      <th>WP50 (kPa)</th>\\n    </tr>\\n  </thead>\\n  <tbody>\\n    <tr>\\n      <th>0</th>\\n      <td>100 Mile House</td>\\n      <td>51.64</td>\\n      <td>-121.30</td>\\n      <td>BC</td>\\n      <td>926</td>\\n      <td>-297.890</td>\\n      <td>-301.199</td>\\n      <td>-243.898</td>\\n      <td>-256.083</td>\\n      <td>-300.195</td>\\n      <td>...</td>\\n      <td>49.505</td>\\n      <td>314.874</td>\\n      <td>477.274</td>\\n      <td>67.907</td>\\n      <td>0.441</td>\\n      <td>47.105</td>\\n      <td>2.382</td>\\n      <td>0.110</td>\\n      <td>0.125</td>\\n      <td>0.165</td>\\n    </tr>\\n    <tr>\\n      <th>1</th>\\n      <td>Abbotsford</td>\\n      <td>49.05</td>\\n      <td>-122.33</td>\\n      <td>BC</td>\\n      <td>70</td>\\n      <td>-279.531</td>\\n      <td>-281.498</td>\\n      <td>-243.495</td>\\n      <td>-252.249</td>\\n      <td>-279.897</td>\\n      <td>...</td>\\n      <td>113.280</td>\\n      <td>1667.205</td>\\n      <td>1705.196</td>\\n      <td>76.769</td>\\n      <td>1.475</td>\\n      <td>117.864</td>\\n      <td>1.911</td>\\n      <td>0.906</td>\\n      <td>0.222</td>\\n      <td>0.294</td>\\n    </tr>\\n    <tr>\\n      <th>2</th>\\n      <td>Agassiz</td>\\n      <td>49.24</td>\\n      <td>-121.76</td>\\n      <td>BC</td>\\n      <td>25</td>\\n      <td>-280.850</td>\\n      <td>-283.015</td>\\n      <td>-243.023</td>\\n      <td>-252.066</td>\\n      <td>-282.767</td>\\n      <td>...</td>\\n      <td>135.438</td>\\n      <td>1858.533</td>\\n      <td>1895.719</td>\\n      <td>76.702</td>\\n      <td>1.183</td>\\n      <td>111.923</td>\\n      <td>2.565</td>\\n      <td>0.842</td>\\n      <td>0.178</td>\\n      <td>0.236</td>\\n    </tr>\\n    <tr>\\n      <th>3</th>\\n      <td>Alberni</td>\\n      <td>49.27</td>\\n      <td>-124.80</td>\\n      <td>BC</td>\\n      <td>50</td>\\n      <td>-277.065</td>\\n      <td>-278.946</td>\\n      <td>-245.725</td>\\n      <td>-253.744</td>\\n      <td>-278.618</td>\\n      <td>...</td>\\n      <td>131.712</td>\\n      <td>1604.801</td>\\n      <td>1689.149</td>\\n      <td>78.130</td>\\n      <td>1.141</td>\\n      <td>137.552</td>\\n      <td>1.756</td>\\n      <td>0.661</td>\\n      <td>0.259</td>\\n      <td>0.330</td>\\n    </tr>\\n    <tr>\\n      <th>4</th>\\n      <td>Ashcroft</td>\\n      <td>50.72</td>\\n      <td>-121.28</td>\\n      <td>BC</td>\\n      <td>305</td>\\n      <td>-294.255</td>\\n      <td>-296.792</td>\\n      <td>-239.703</td>\\n      <td>-254.904</td>\\n      <td>-296.534</td>\\n      <td>...</td>\\n      <td>34.370</td>\\n      <td>265.828</td>\\n      <td>363.683</td>\\n      <td>65.902</td>\\n      <td>0.285</td>\\n      <td>61.465</td>\\n      <td>1.153</td>\\n      <td>0.121</td>\\n      <td>0.185</td>\\n      <td>0.249</td>\\n    </tr>\\n  </tbody>\\n</table>\\n<p>5 rows × 23 columns</p>\\n</div>'},\n",
       "     'execution_count': 8}],\n",
       "   'source': 'df_final_ordered.head()'},\n",
       "  {'cell_type': 'code',\n",
       "   'execution_count': 9,\n",
       "   'metadata': {'tags': [],\n",
       "    'papermill': {'exception': False,\n",
       "     'start_time': '2020-12-16T20:00:15.221118',\n",
       "     'end_time': '2020-12-16T20:00:15.253698',\n",
       "     'duration': 0.03258,\n",
       "     'status': 'completed'},\n",
       "    'execution': {'iopub.status.busy': '2020-12-16T20:00:15.231787Z',\n",
       "     'iopub.execute_input': '2020-12-16T20:00:15.233185Z',\n",
       "     'iopub.status.idle': '2020-12-16T20:00:15.252687Z',\n",
       "     'shell.execute_reply': '2020-12-16T20:00:15.253421Z'}},\n",
       "   'outputs': [],\n",
       "   'source': 'combined_out_path = resource_filename(\"climpyrical\", \"data/results/TableC2/combined_dv_tablec2.csv\")\\ndf_final_ordered.round(3).to_csv(combined_out_path, index=False)'},\n",
       "  {'cell_type': 'code',\n",
       "   'execution_count': None,\n",
       "   'metadata': {'tags': [],\n",
       "    'papermill': {'exception': False,\n",
       "     'start_time': '2020-12-16T20:00:15.266554',\n",
       "     'end_time': '2020-12-16T20:00:15.274304',\n",
       "     'duration': 0.00775,\n",
       "     'status': 'completed'}},\n",
       "   'outputs': [],\n",
       "   'source': ''}],\n",
       " 'metadata': {'kernelspec': {'display_name': 'Python 3',\n",
       "   'language': 'python',\n",
       "   'name': 'python3'},\n",
       "  'language_info': {'name': 'python',\n",
       "   'version': '3.8.5',\n",
       "   'mimetype': 'text/x-python',\n",
       "   'codemirror_mode': {'name': 'ipython', 'version': 3},\n",
       "   'pygments_lexer': 'ipython3',\n",
       "   'nbconvert_exporter': 'python',\n",
       "   'file_extension': '.py'},\n",
       "  'papermill': {'default_parameters': {},\n",
       "   'parameters': {'station_dv': 'Gum-LM RL10 (mm)',\n",
       "    'output_reconstruction_path': '/home/nannau/Desktop/pipeline/climpyrical/climpyrical/data/results/netcdf/R15m10_reconstructed.nc',\n",
       "    'processed_station_path': '/home/nannau/Desktop/pipeline/climpyrical/climpyrical/data/results/intermediate/preprocessed_stations/R15m10_processed_stations.csv',\n",
       "    'output_nrc_path': '/home/nannau/Desktop/pipeline/climpyrical/climpyrical/data/results/TableC2/R15m10_TableC2.csv'},\n",
       "   'environment_variables': {},\n",
       "   'version': '2.2.2',\n",
       "   'input_path': 'combine_tables.ipynb',\n",
       "   'output_path': '/home/nannau/Desktop/pipeline/climpyrical/climpyrical/data/results/intermediate/notebooks/combined_stations_log_R15m10.ipynb',\n",
       "   'start_time': '2020-12-16T20:00:14.030349',\n",
       "   'end_time': '2020-12-16T20:00:15.590654',\n",
       "   'duration': 1.560305,\n",
       "   'exception': None}},\n",
       " 'nbformat': 4,\n",
       " 'nbformat_minor': 4}"
      ]
     },
     "execution_count": 3,
     "metadata": {},
     "output_type": "execute_result"
    }
   ],
   "source": [
    "output_notebook_dir = resource_filename(\n",
    "    \"climpyrical\",\n",
    "    \"/data/results/intermediate/notebooks/\"\n",
    ")\n",
    "\n",
    "preprocessed_model_dir = resource_filename(\n",
    "    \"climpyrical\",\n",
    "    \"/data/results/intermediate/preprocessed_netcdf/\"\n",
    ")\n",
    "\n",
    "output_stations_dir = resource_filename(\n",
    "    \"climpyrical\",\n",
    "    f\"/data/results/intermediate/preprocessed_stations/\")\n",
    "\n",
    "output_reconstruction_dir = resource_filename(\n",
    "    \"climpyrical\",\n",
    "    f\"/data/results/netcdf/\"\n",
    ")\n",
    "\n",
    "output_tables_dir = resource_filename(\n",
    "    \"climpyrical\",\n",
    "    f\"/data/results/TableC2/\"\n",
    ")\n",
    "\n",
    "for station in station_dvs:\n",
    "#     print(red(f\"Preprocessing Model for {station}\", \"bold\"))\n",
    "#     pm.execute_notebook(\n",
    "#         \"preprocess_model.ipynb\",\n",
    "#         output_notebook_dir+f\"preprocessing_model_log_{filenames[station]}.ipynb\",\n",
    "#         parameters = dict(\n",
    "#             station_dv = station,\n",
    "#             model_input_path = resource_filename(\"climpyrical\", model_paths[station]),\n",
    "#             name = filenames[station],\n",
    "#             fill_glaciers = True,\n",
    "#             processed_model_output_path = preprocessed_model_dir+f\"{filenames[station]}_preprocessed.nc\"\n",
    "#         )\n",
    "#     )\n",
    "#     print(red(f\"Preprocessing stations for {station}\", \"bold\"))\n",
    "#     pm.execute_notebook(\n",
    "#         \"stations.ipynb\",\n",
    "#         output_notebook_dir+f\"stations_log_{filenames[station]}.ipynb\",\n",
    "#         parameters = dict(\n",
    "#             station_dv = station,\n",
    "#             station_input_path = resource_filename(\n",
    "#                 \"climpyrical\",\n",
    "#                 station_paths[station]\n",
    "#             ),\n",
    "#             name = filenames[station],\n",
    "#             processed_model_output_path = preprocessed_model_dir+f\"{filenames[station]}_preprocessed.nc\",\n",
    "#             df_path_write = output_stations_dir+f\"{filenames[station]}_processed_stations.csv\"\n",
    "            \n",
    "#         )\n",
    "#     )\n",
    "# #     print(red(f\"Moving Window ratio reconstruction for {station}\", \"bold\"))\n",
    "# #     pm.execute_notebook(\n",
    "# #         \"ratio_kriging.ipynb\",\n",
    "# #         output_notebook_dir+f\"ratio_kriging_log_{filenames[station]}.ipynb\",\n",
    "# #         parameters = dict(\n",
    "# #             station_dv = station,\n",
    "# #             station_input_path = resource_filename(\n",
    "# #                 \"climpyrical\",\n",
    "# #                 station_paths[station]\n",
    "# #             ),\n",
    "# #             name = filenames[station],\n",
    "# #             processed_model_output_path = preprocessed_model_dir+f\"{filenames[station]}_preprocessed.nc\",\n",
    "# #             output_reconstruction_path = output_reconstruction_dir+f\"{filenames[station]}_reconstructed.nc\",\n",
    "# #             df_path_write = output_stations_dir+f\"{filenames[station]}_processed_stations.csv\"\n",
    "# #         )\n",
    "# #     )\n",
    "#     print(red(f\"Moving Window ratio reconstruction for {station}\", \"bold\"))\n",
    "#     pm.execute_notebook(\n",
    "#         \"ratio_kriging_med_corrected.ipynb\",\n",
    "#         output_notebook_dir+f\"ratio_kriging_log_{filenames[station]}.ipynb\",\n",
    "#         parameters = dict(\n",
    "#             station_dv = station,\n",
    "#             station_input_path = resource_filename(\n",
    "#                 \"climpyrical\",\n",
    "#                 station_paths[station]\n",
    "#             ),\n",
    "#             name = filenames[station],\n",
    "#             processed_model_output_path = preprocessed_model_dir+f\"{filenames[station]}_preprocessed.nc\",\n",
    "#             output_reconstruction_path = output_reconstruction_dir+f\"{filenames[station]}_reconstructed.nc\",\n",
    "#             df_path_write = output_stations_dir+f\"{filenames[station]}_processed_stations.csv\"\n",
    "#         )\n",
    "#     )\n",
    "    print(red(f\"Generating figures for {station}\", \"bold\"))\n",
    "    pm.execute_notebook(\n",
    "        \"plots.ipynb\",\n",
    "        output_notebook_dir+f\"plots_log_{filenames[station]}.ipynb\",\n",
    "        parameters = dict(\n",
    "            station_dv = station,\n",
    "            name = filenames[station],\n",
    "            original_model_path = resource_filename(\"climpyrical\", model_paths[station]),\n",
    "            preprocessed_model_path = preprocessed_model_dir+f\"{filenames[station]}_preprocessed.nc\",\n",
    "            reconstruction_path = output_reconstruction_dir+f\"{filenames[station]}_reconstructed.nc\",\n",
    "            processed_station_path = output_stations_dir+f\"{filenames[station]}_processed_stations.csv\",\n",
    "            output_figure_dir = resource_filename(\"climpyrical\", \"data/results/figures/\")\n",
    "        )\n",
    "    )\n",
    "    print(red(f\"Generating tables for {station}\", \"bold\"))\n",
    "    pm.execute_notebook(\n",
    "        \"nbcc_stations.ipynb\",\n",
    "        output_notebook_dir+f\"nbcc_stations_log_{filenames[station]}.ipynb\",\n",
    "        parameters = dict(\n",
    "            station_dv = station,\n",
    "            output_reconstruction_path = output_reconstruction_dir+f\"{filenames[station]}_reconstructed.nc\",\n",
    "            processed_station_path = output_stations_dir+f\"{filenames[station]}_processed_stations.csv\",\n",
    "            output_nrc_path = output_tables_dir+f\"{filenames[station]}_TableC2.csv\"\n",
    "        )\n",
    "    )\n",
    "    \n",
    "    \n",
    "print(red(f\"Combining tables for all reconstructions\", \"bold\"))\n",
    "pm.execute_notebook(\n",
    "    \"combine_tables.ipynb\",\n",
    "    output_notebook_dir+f\"combined_stations_log_{filenames[station]}.ipynb\",\n",
    "    parameters = dict(\n",
    "        station_dv = station,\n",
    "        output_reconstruction_path = output_reconstruction_dir+f\"{filenames[station]}_reconstructed.nc\",\n",
    "        processed_station_path = output_stations_dir+f\"{filenames[station]}_processed_stations.csv\",\n",
    "        output_nrc_path = output_tables_dir+f\"{filenames[station]}_TableC2.csv\"\n",
    "    )\n",
    ")\n"
   ]
  },
  {
   "cell_type": "code",
   "execution_count": null,
   "metadata": {},
   "outputs": [],
   "source": []
  }
 ],
 "metadata": {
  "kernelspec": {
   "display_name": "Python 3",
   "language": "python",
   "name": "python3"
  },
  "language_info": {
   "codemirror_mode": {
    "name": "ipython",
    "version": 3
   },
   "file_extension": ".py",
   "mimetype": "text/x-python",
   "name": "python",
   "nbconvert_exporter": "python",
   "pygments_lexer": "ipython3",
   "version": "3.8.5"
  }
 },
 "nbformat": 4,
 "nbformat_minor": 4
}
