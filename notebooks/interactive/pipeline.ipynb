{
 "cells": [
  {
   "cell_type": "markdown",
   "metadata": {},
   "source": [
    "# Interactive Moving Window Kriging Pipeline\n",
    "---\n",
    "The preprocessing pipeline is executed in the following sequence. It assumes that masks have been generated. If a custom mask is required, work through the `mask.ipynb` file to see how the default masks were generated.\n",
    "\n",
    "1. Place netCDF models into `climpyrical/data/model_inputs`. Ensemble models must have:\n",
    "    * lat, lon, rlat, rlon and a 2D data field variable\n",
    "2. Place station files into `climpyrical/data/station_inputs`. Input stations must have:\n",
    "    * A data column with the design value of interest in the same units as the ensemble model. Note that the units need to be placed in parentheses next to the data variable name. i.e \"RL50 (kPa)\" or \"HDD (degC-day)\" are examples of valid names\n",
    "    * latitude or longitude columns\n",
    "    * Additional columns, like province name, elevation, and station name are optional, but recommended\n",
    "3. The data produced in the pipeline will go in various subdirectories of `climpyrical/data/results/` using the PCIC design value naming standards (outlined below)\n",
    "    * figures will be in `climpyrical/data/results/figures/`\n",
    "    * tables will be in `climpyrical/data/results/tables/`\n",
    "    * netCDF files in `climpyrical/data/results/datasets/`\n",
    "    * intermediate notebooks for troubleshooting will be in `climpyrical/data/results/intermediate/`\n",
    "\n",
    "```\n",
    "climpyrical/data/results\n",
    "├── datasets\n",
    "│   └── \n",
    "├── figures\n",
    "│   ├── \n",
    "├── intermediate\n",
    "│   ├── notebooks\n",
    "│   │   ├── model_log_{design value}.ipynb\n",
    "│   │   ├── plotting_log_{design value}.ipynb\n",
    "│   │   ├── RR_log_{design value}.ipynb\n",
    "│   │   ├── station_log_{design value}.ipynb\n",
    "│   ├── preprocessed_models\n",
    "│   │   ├── {design value}\\_preprocessed.nc\n",
    "│   └── preprocessed_stations\n",
    "│       └── {design value}\\_processed_stations.csv\n",
    "└── tables\n",
    "     └── {design_vale}\\tablec2.csv\n",
    "```"
   ]
  },
  {
   "cell_type": "code",
   "execution_count": 1,
   "metadata": {},
   "outputs": [],
   "source": [
    "import papermill as pm\n",
    "import config\n",
    "from simple_colors import red\n",
    "from pkg_resources import resource_filename"
   ]
  },
  {
   "cell_type": "markdown",
   "metadata": {},
   "source": [
    "## Configuration\n",
    "---\n",
    "\n",
    "Configure the notebook pipeline. This notebook calls subsequent notebooks in the correct order.\n",
    "\n",
    "`station_dv` is the name of the design values as they appear in the station csv header column file provided for the station processing step. The naming standards between the station files and the output files need to manually configured\n",
    "\n",
    "\n",
    "`filenames` this dictionary relates the station design value name to the PCIC design value standard name for the given design value. I.e. it produces filenames and plot titles according to this relationsihp"
   ]
  },
  {
   "cell_type": "code",
   "execution_count": 2,
   "metadata": {
    "tags": [
     "parameters"
    ]
   },
   "outputs": [],
   "source": [
    "notebooks = [\"preprocess_model.ipynb\", \"stations.ipynb\", \"ratio_kriging.ipynb\"]\n",
    "\n",
    "station_dvs = config.station_dvs\n",
    "filenames = config.filenames\n",
    "model_paths = config.model_paths\n",
    "station_paths = config.station_paths"
   ]
  },
  {
   "cell_type": "markdown",
   "metadata": {},
   "source": [
    "# Run the pipeline\n",
    "---\n",
    "For each station in the `station_dvs` list, run each file in the pipeline."
   ]
  },
  {
   "cell_type": "code",
   "execution_count": 3,
   "metadata": {},
   "outputs": [
    {
     "name": "stdout",
     "output_type": "stream",
     "text": [
      "\u001b[1;31mPreprocessing Model for RL50 (kPa)\u001b[0m\n"
     ]
    },
    {
     "data": {
      "application/vnd.jupyter.widget-view+json": {
       "model_id": "3fa9d39814c5433bb00cb310d5a6f940",
       "version_major": 2,
       "version_minor": 0
      },
      "text/plain": [
       "HBox(children=(FloatProgress(value=0.0, description='Executing', max=25.0, style=ProgressStyle(description_wid…"
      ]
     },
     "metadata": {},
     "output_type": "display_data"
    },
    {
     "name": "stdout",
     "output_type": "stream",
     "text": [
      "\n",
      "\u001b[1;31mPreprocessing stations for RL50 (kPa)\u001b[0m\n"
     ]
    },
    {
     "data": {
      "application/vnd.jupyter.widget-view+json": {
       "model_id": "532f6221339d4ec1b2edb64cc3c455f5",
       "version_major": 2,
       "version_minor": 0
      },
      "text/plain": [
       "HBox(children=(FloatProgress(value=0.0, description='Executing', max=20.0, style=ProgressStyle(description_wid…"
      ]
     },
     "metadata": {},
     "output_type": "display_data"
    },
    {
     "name": "stdout",
     "output_type": "stream",
     "text": [
      "\n",
      "\u001b[1;31mMoving Window ratio reconstruction for RL50 (kPa)\u001b[0m\n"
     ]
    },
    {
     "data": {
      "application/vnd.jupyter.widget-view+json": {
       "model_id": "d7318ff10bb142769d59fe171aba3a97",
       "version_major": 2,
       "version_minor": 0
      },
      "text/plain": [
       "HBox(children=(FloatProgress(value=0.0, description='Executing', max=19.0, style=ProgressStyle(description_wid…"
      ]
     },
     "metadata": {},
     "output_type": "display_data"
    },
    {
     "name": "stdout",
     "output_type": "stream",
     "text": [
      "\n",
      "\u001b[1;31mGenerationg figures for RL50 (kPa)\u001b[0m\n"
     ]
    },
    {
     "data": {
      "application/vnd.jupyter.widget-view+json": {
       "model_id": "fbe470d024dd4e06abf2ac880dec5a51",
       "version_major": 2,
       "version_minor": 0
      },
      "text/plain": [
       "HBox(children=(FloatProgress(value=0.0, description='Executing', max=10.0, style=ProgressStyle(description_wid…"
      ]
     },
     "metadata": {},
     "output_type": "display_data"
    },
    {
     "name": "stdout",
     "output_type": "stream",
     "text": [
      "\n"
     ]
    },
    {
     "ename": "PapermillExecutionError",
     "evalue": "\n---------------------------------------------------------------------------\nException encountered at \"In [7]\":\n---------------------------------------------------------------------------\nNameError                                 Traceback (most recent call last)\n<ipython-input-7-30969b2469d2> in <module>\n      2 # whether to plot on a log colorscale. This dictionary configures\n      3 # these options\n----> 4 plot_dict = config.plot_dict\n      5 \n      6 colorscale, log, decimal = plot_dict[station_dv]\n\nNameError: name 'config' is not defined\n",
     "output_type": "error",
     "traceback": [
      "\u001b[0;31m---------------------------------------------------------------------------\u001b[0m",
      "\u001b[0;31mPapermillExecutionError\u001b[0m                   Traceback (most recent call last)",
      "\u001b[0;32m<ipython-input-3-7ca8c4122de6>\u001b[0m in \u001b[0;36m<module>\u001b[0;34m\u001b[0m\n\u001b[1;32m     65\u001b[0m     )\n\u001b[1;32m     66\u001b[0m     \u001b[0mprint\u001b[0m\u001b[0;34m(\u001b[0m\u001b[0mred\u001b[0m\u001b[0;34m(\u001b[0m\u001b[0;34mf\"Generationg figures for {station}\"\u001b[0m\u001b[0;34m,\u001b[0m \u001b[0;34m\"bold\"\u001b[0m\u001b[0;34m)\u001b[0m\u001b[0;34m)\u001b[0m\u001b[0;34m\u001b[0m\u001b[0;34m\u001b[0m\u001b[0m\n\u001b[0;32m---> 67\u001b[0;31m     pm.execute_notebook(\n\u001b[0m\u001b[1;32m     68\u001b[0m         \u001b[0;34m\"plots.ipynb\"\u001b[0m\u001b[0;34m,\u001b[0m\u001b[0;34m\u001b[0m\u001b[0;34m\u001b[0m\u001b[0m\n\u001b[1;32m     69\u001b[0m         \u001b[0moutput_notebook_dir\u001b[0m\u001b[0;34m+\u001b[0m\u001b[0;34mf\"plotting_log_{filenames[station]}.ipynb\"\u001b[0m\u001b[0;34m,\u001b[0m\u001b[0;34m\u001b[0m\u001b[0;34m\u001b[0m\u001b[0m\n",
      "\u001b[0;32m~/tri/lib/python3.8/site-packages/papermill/execute.py\u001b[0m in \u001b[0;36mexecute_notebook\u001b[0;34m(input_path, output_path, parameters, engine_name, request_save_on_cell_execute, prepare_only, kernel_name, progress_bar, log_output, stdout_file, stderr_file, start_timeout, report_mode, cwd, **engine_kwargs)\u001b[0m\n\u001b[1;32m    116\u001b[0m \u001b[0;34m\u001b[0m\u001b[0m\n\u001b[1;32m    117\u001b[0m             \u001b[0;31m# Check for errors first (it saves on error before raising)\u001b[0m\u001b[0;34m\u001b[0m\u001b[0;34m\u001b[0m\u001b[0;34m\u001b[0m\u001b[0m\n\u001b[0;32m--> 118\u001b[0;31m             \u001b[0mraise_for_execution_errors\u001b[0m\u001b[0;34m(\u001b[0m\u001b[0mnb\u001b[0m\u001b[0;34m,\u001b[0m \u001b[0moutput_path\u001b[0m\u001b[0;34m)\u001b[0m\u001b[0;34m\u001b[0m\u001b[0;34m\u001b[0m\u001b[0m\n\u001b[0m\u001b[1;32m    119\u001b[0m \u001b[0;34m\u001b[0m\u001b[0m\n\u001b[1;32m    120\u001b[0m         \u001b[0;31m# Write final output in case the engine didn't write it on cell completion.\u001b[0m\u001b[0;34m\u001b[0m\u001b[0;34m\u001b[0m\u001b[0;34m\u001b[0m\u001b[0m\n",
      "\u001b[0;32m~/tri/lib/python3.8/site-packages/papermill/execute.py\u001b[0m in \u001b[0;36mraise_for_execution_errors\u001b[0;34m(nb, output_path)\u001b[0m\n\u001b[1;32m    228\u001b[0m \u001b[0;34m\u001b[0m\u001b[0m\n\u001b[1;32m    229\u001b[0m         \u001b[0mwrite_ipynb\u001b[0m\u001b[0;34m(\u001b[0m\u001b[0mnb\u001b[0m\u001b[0;34m,\u001b[0m \u001b[0moutput_path\u001b[0m\u001b[0;34m)\u001b[0m\u001b[0;34m\u001b[0m\u001b[0;34m\u001b[0m\u001b[0m\n\u001b[0;32m--> 230\u001b[0;31m         \u001b[0;32mraise\u001b[0m \u001b[0merror\u001b[0m\u001b[0;34m\u001b[0m\u001b[0;34m\u001b[0m\u001b[0m\n\u001b[0m",
      "\u001b[0;31mPapermillExecutionError\u001b[0m: \n---------------------------------------------------------------------------\nException encountered at \"In [7]\":\n---------------------------------------------------------------------------\nNameError                                 Traceback (most recent call last)\n<ipython-input-7-30969b2469d2> in <module>\n      2 # whether to plot on a log colorscale. This dictionary configures\n      3 # these options\n----> 4 plot_dict = config.plot_dict\n      5 \n      6 colorscale, log, decimal = plot_dict[station_dv]\n\nNameError: name 'config' is not defined\n"
     ]
    }
   ],
   "source": [
    "output_notebook_dir = resource_filename(\n",
    "    \"climpyrical\",\n",
    "    \"/data/results/intermediate/notebooks/\"\n",
    ")\n",
    "\n",
    "preprocessed_model_dir = resource_filename(\n",
    "    \"climpyrical\",\n",
    "    \"/data/results/intermediate/preprocessed_models/\"\n",
    ")\n",
    "\n",
    "output_stations_dir = resource_filename(\n",
    "    \"climpyrical\",\n",
    "    f\"/data/results/intermediate/preprocessed_stations/\")\n",
    "\n",
    "output_reconstruction_dir = resource_filename(\n",
    "    \"climpyrical\",\n",
    "    f\"/data/results/datasets/\"\n",
    ")\n",
    "\n",
    "for station in station_dvs:\n",
    "    print(red(f\"Preprocessing Model for {station}\", \"bold\"))\n",
    "    pm.execute_notebook(\n",
    "        \"preprocess_model.ipynb\",\n",
    "        output_notebook_dir+f\"model_log_{filenames[station]}.ipynb\",\n",
    "        parameters = dict(\n",
    "            station_dv = station,\n",
    "            model_input_path = resource_filename(\"climpyrical\", model_paths[station]),\n",
    "            name = filenames[station],\n",
    "            fill_glaciers = True,\n",
    "            processed_model_output_path = preprocessed_model_dir+f\"{filenames[station]}_preprocessed.nc\"\n",
    "        )\n",
    "    )\n",
    "\n",
    "    print(red(f\"Preprocessing stations for {station}\", \"bold\"))\n",
    "    pm.execute_notebook(\n",
    "        \"stations.ipynb\",\n",
    "        output_notebook_dir+f\"station_log_{filenames[station]}.ipynb\",\n",
    "        parameters = dict(\n",
    "            station_dv = station,\n",
    "            station_input_path = resource_filename(\n",
    "                \"climpyrical\",\n",
    "                station_paths[station]\n",
    "            ),\n",
    "            name = filenames[station],\n",
    "            processed_model_output_path = preprocessed_model_dir+f\"{filenames[station]}_preprocessed.nc\",\n",
    "            df_path_write = output_stations_dir+f\"{filenames[station]}_processed_stations.csv\"\n",
    "            \n",
    "        )\n",
    "    )\n",
    "    print(red(f\"Moving Window ratio reconstruction for {station}\", \"bold\"))\n",
    "    pm.execute_notebook(\n",
    "        \"ratio_kriging.ipynb\",\n",
    "        output_notebook_dir+f\"RR_log_{filenames[station]}.ipynb\",\n",
    "        parameters = dict(\n",
    "            station_dv = station,\n",
    "            station_input_path = resource_filename(\n",
    "                \"climpyrical\",\n",
    "                station_paths[station]\n",
    "            ),\n",
    "            name = filenames[station],\n",
    "            processed_model_output_path = preprocessed_model_dir+f\"{filenames[station]}_preprocessed.nc\",\n",
    "            output_reconstruction_path = output_reconstruction_dir+f\"{filenames[station]}_reconstructed.nc\",\n",
    "            df_path_write = output_stations_dir+f\"{filenames[station]}_processed_stations.csv\"\n",
    "        )\n",
    "    )\n",
    "    print(red(f\"Generationg figures for {station}\", \"bold\"))\n",
    "    pm.execute_notebook(\n",
    "        \"plots.ipynb\",\n",
    "        output_notebook_dir+f\"plotting_log_{filenames[station]}.ipynb\",\n",
    "        parameters = dict(\n",
    "            station_dv = station,\n",
    "            name = filenames[station],\n",
    "            preprocessed_model_path = preprocessed_model_dir+f\"{filenames[station]}_preprocessed.nc\",\n",
    "            reconstruction_path = output_reconstruction_dir+f\"{filenames[station]}_reconstructed.nc\",\n",
    "            processed_stations_path = output_stations_dir+f\"{filenames[station]}_processed_stations.csv\",\n",
    "            output_figure_dir = resource_filename(\"climpyrical\", \"data/results/figures/\")\n",
    "        )\n",
    "    )\n",
    "#     print(\"Preprocessing stations for\", station)\n",
    "#     pm.execute_notebook(notebooks[1], output_notebook_dir+f\"intermediate_{filenames[station]}_\"+notebooks[1])\n",
    "#     print(\"Ratio kriging for\", station)\n",
    "#     pm.execute_notebook(notebooks[2], output_notebook_dir+f\"intermediate_{filenames[station]}_\"+notebooks[2])\n",
    "#     print(\"Completed!\")"
   ]
  },
  {
   "cell_type": "code",
   "execution_count": null,
   "metadata": {},
   "outputs": [],
   "source": []
  }
 ],
 "metadata": {
  "kernelspec": {
   "display_name": "Python 3",
   "language": "python",
   "name": "python3"
  },
  "language_info": {
   "codemirror_mode": {
    "name": "ipython",
    "version": 3
   },
   "file_extension": ".py",
   "mimetype": "text/x-python",
   "name": "python",
   "nbconvert_exporter": "python",
   "pygments_lexer": "ipython3",
   "version": "3.8.5"
  }
 },
 "nbformat": 4,
 "nbformat_minor": 4
}
