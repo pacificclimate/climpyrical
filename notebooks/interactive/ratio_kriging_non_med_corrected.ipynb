{
 "cells": [
  {
   "cell_type": "code",
   "execution_count": null,
   "metadata": {},
   "outputs": [],
   "source": [
    "from climpyrical.gridding import find_nearest_index, find_element_wise_nearest_pos, scale_model_obs\n",
    "from climpyrical.mask import gen_raster_mask_from_vector, gen_upper_archipelago_mask, stratify_coords\n",
    "import climpyrical.spytialProcess as sp\n",
    "from climpyrical.data import read_data, interpolate_dataset, gen_dataset\n",
    "from climpyrical.rkrig import krigit_north, rkrig_r\n",
    "from climpyrical.cmd.find_matched_model_vals import add_model_values\n",
    "\n",
    "from pkg_resources import resource_filename\n",
    "\n",
    "from rpy2.robjects.packages import importr\n",
    "from sklearn.neighbors import NearestNeighbors\n",
    "import warnings\n",
    "\n",
    "import pandas as pd\n",
    "import numpy as np\n",
    "import config\n",
    "\n",
    "import matplotlib.pyplot as plt\n",
    "\n",
    "importr(\"fields\")\n",
    "\n",
    "\n",
    "%load_ext autoreload\n",
    "%autoreload 2"
   ]
  },
  {
   "cell_type": "code",
   "execution_count": null,
   "metadata": {
    "tags": [
     "parameters"
    ]
   },
   "outputs": [],
   "source": [
    "# parameter cell\n",
    "# these currently have default values but are configurable when \n",
    "# executing this notebook with papermill\n",
    "\n",
    "# station_dv = \"RL50 (kPa)\"\n",
    "# station_input_path = resource_filename(\"climpyrical\", \"data/station_inputs/Interim_snow_rain_load_LR_composite_stations_tbd_v4.csv\")\n",
    "# name = \"RL50\"\n",
    "# processed_model_output_path = resource_filename(\"climpyrical\", \"data/results/intermediate/preprocessed_models/RL50_preprocessed.nc\")\n",
    "# output_reconstruction_path = resource_filename(\"climpyrical\", f\"data/results/datasets/RL50_reconstructed.nc\")\n",
    "# df_path_write = resource_filename('climpyrical', f'data/results/intermediate/preprocessed_stations/RL50_processed_stations.csv')"
   ]
  },
  {
   "cell_type": "code",
   "execution_count": null,
   "metadata": {},
   "outputs": [],
   "source": [
    "dsold_max = 28.15999984741211\n",
    "\n",
    "mask_path = resource_filename(\n",
    "    'climpyrical',\n",
    "    'data/masks/canada_mask_rp.nc'\n",
    ")\n",
    "\n",
    "north_mask_path = resource_filename(\n",
    "    'climpyrical',\n",
    "    'data/masks/canada_mask_north_rp.nc'\n",
    ")\n",
    "\n",
    "ds = read_data(processed_model_output_path)\n",
    "(dv, ) = ds.data_vars\n",
    "mask = read_data(mask_path)['mask'].values\n",
    "northern_mask = read_data(north_mask_path)['mask'].values\n",
    "\n",
    "rlon, rlat = np.meshgrid(ds.rlon, ds.rlat)"
   ]
  },
  {
   "cell_type": "code",
   "execution_count": null,
   "metadata": {},
   "outputs": [],
   "source": [
    "df = pd.read_csv(df_path_write, index_col=False)\n",
    "df.head(3)"
   ]
  },
  {
   "cell_type": "markdown",
   "metadata": {},
   "source": [
    "separate stations into beyond and within the model domain"
   ]
  },
  {
   "cell_type": "code",
   "execution_count": null,
   "metadata": {},
   "outputs": [],
   "source": [
    "df_north = df[df.rlat > dsold_max].copy()\n",
    "df_south = df[df.rlat <= dsold_max].copy()\n",
    "\n",
    "north_index = df_north.index.values\n",
    "south_index = df_south.index.values"
   ]
  },
  {
   "cell_type": "code",
   "execution_count": null,
   "metadata": {},
   "outputs": [],
   "source": [
    "X_distances = np.stack([np.deg2rad(df_south.lat.values), np.deg2rad(df_south.lon.values)])\n",
    "nbrs = NearestNeighbors(n_neighbors=30, metric=\"haversine\").fit(\n",
    "    X_distances.T\n",
    ")\n",
    "\n",
    "# Order independent window checkers\n",
    "# only uses windows that are not-identical\n",
    "\n",
    "dist, ind = nbrs.kneighbors(X_distances.T)\n",
    "good_i = []\n",
    "list_of_sets = []\n",
    "count = 0 \n",
    "for i in range(df_south.shape[0]):\n",
    "    list_of_sets.append(df_south[[\"lon\", \"lat\", station_dv]].iloc[ind[i]].values)\n",
    "    if i+1-count == np.unique(list_of_sets, axis=0).shape[0]:\n",
    "        good_i.append(i)\n",
    "    else:\n",
    "        warning.warn(\"There are identical windows!\")\n",
    "        count += 1 \n",
    "\n",
    "df_south = df_south.iloc[good_i]"
   ]
  },
  {
   "cell_type": "markdown",
   "metadata": {},
   "source": [
    "# Krig the station only values in the north"
   ]
  },
  {
   "cell_type": "code",
   "execution_count": null,
   "metadata": {},
   "outputs": [],
   "source": [
    "UAA_station_mean = np.nanmean(df[station_dv][df.rlat > dsold_max-1])"
   ]
  },
  {
   "cell_type": "code",
   "execution_count": null,
   "metadata": {},
   "outputs": [],
   "source": [
    "# choose starting value\n",
    "# model_vals = ds[dv].values[df.ilocy.values, df.ilocx.values]\n",
    "model_vals = df.model_values\n",
    "station_vals = df[station_dv]\n",
    "\n",
    "ratio, best_tol = scale_model_obs(df.model_values, station_vals)\n",
    "\n",
    "# apply correction\n",
    "model_vals_corrected = (model_vals/best_tol)\n",
    "mean_corrected = (ds[dv].values/best_tol)\n",
    "\n",
    "print(\"These should be similar: \", best_tol, np.sum(df.model_values)/np.sum(station_vals))"
   ]
  },
  {
   "cell_type": "code",
   "execution_count": null,
   "metadata": {},
   "outputs": [],
   "source": [
    "np.seterr(divide='ignore', invalid='ignore')\n",
    "ratio_field = rkrig_r(df_south, 30, ds, station_dv)\n",
    "ratio_field[~mask] = np.nan"
   ]
  },
  {
   "cell_type": "code",
   "execution_count": null,
   "metadata": {},
   "outputs": [],
   "source": [
    "752, 407\n",
    "ratio_field[752, 407]"
   ]
  },
  {
   "cell_type": "code",
   "execution_count": null,
   "metadata": {},
   "outputs": [],
   "source": [
    "selection = ~np.isnan(ds[dv].where((ds.lat > 72.) & (ds.lat < 73) & (ds.lon - 360 < -75) & (ds.lon - 360 > -127)))\n",
    "\n",
    "nanmask = ~np.isnan(ratio_field)\n",
    "\n",
    "points = np.stack([rlon[nanmask], rlat[nanmask]]).T\n",
    "target_points = np.stack([rlon[nanmask^mask], rlat[nanmask^mask]]).T\n",
    "\n",
    "# swap the filling steps if either of these DVs\n",
    "if station_dv == \"TJul2.5 (degC\" or station_dv == \"TwJul2.5 (degC)\":\n",
    "    reconstructed_field = ratio_field*mean_corrected.copy()\n",
    "    target_values = reconstructed_field[nanmask]\n",
    "    reconstructed_field[nanmask^mask] = interpolate_dataset(points, target_values, target_points, 'nearest')\n",
    "else:\n",
    "    target_values = ratio_field[nanmask]\n",
    "    ratio_field[nanmask^mask] = interpolate_dataset(points, target_values, target_points, 'nearest')\n",
    "    reconstructed_field = ratio_field*mean_corrected.copy()\n",
    "\n",
    "reconstructed_field_strip_mean = np.nanmean(reconstructed_field[selection])\n",
    "combined_ratio_station_mean = np.mean([reconstructed_field_strip_mean, UAA_station_mean])\n",
    "reconstructed_field[northern_mask] = combined_ratio_station_mean"
   ]
  },
  {
   "cell_type": "code",
   "execution_count": null,
   "metadata": {},
   "outputs": [],
   "source": [
    "print(\"Recon field\", reconstructed_field[752, 407], \n",
    "      \"\\nMean correct\", mean_corrected[752, 407], \n",
    "      \"\\nRatio\", ratio_field[752, 407], \n",
    "      \"\\nMean non-corrected\", ds[dv].values[752, 407], \n",
    "      \"\\nGlobal bias shift\", best_tol)"
   ]
  },
  {
   "cell_type": "code",
   "execution_count": null,
   "metadata": {},
   "outputs": [],
   "source": [
    "import seaborn as sns\n",
    "\n",
    "sns.set_theme(style=\"whitegrid\")\n",
    "\n",
    "fig, ax = plt.subplots(figsize=(8, 4.5))\n",
    "\n",
    "violindata = np.concatenate([df.ratio, ratio_field[df.irlat, df.irlon]])\n",
    "\n",
    "b_str = [\"B\" for x in df.ratio.values]\n",
    "bp_str = [\"B'\" for x in ratio_field[df.irlat, df.irlon]]\n",
    "\n",
    "vstrings = np.concatenate([b_str, bp_str])\n",
    "\n",
    "vdf = pd.DataFrame({\"Ratios at Station Grid Cells (i)\": violindata, '': vstrings})\n",
    "# plt.tight_layout()\n",
    "\n",
    "ax.set_title(f\"{name} Distributions of Results\", fontsize=20)\n",
    "sns.violinplot(ax=ax, x=\"Ratios at Station Grid Cells (i)\", y='', data=vdf, palette=sns.color_palette('pastel'))"
   ]
  },
  {
   "cell_type": "code",
   "execution_count": null,
   "metadata": {},
   "outputs": [],
   "source": [
    "print(\n",
    "    \"Northern fill value:\"\n",
    "    \"\\n\"\n",
    "    \"Reconstruction\", reconstructed_field_strip_mean,\n",
    "    \"\\n\"\n",
    "    \"UAA_station_mean\", UAA_station_mean,\n",
    "    \"\\n\"\n",
    "    \"Combined\", combined_ratio_station_mean\n",
    ")"
   ]
  },
  {
   "cell_type": "code",
   "execution_count": null,
   "metadata": {},
   "outputs": [],
   "source": [
    "if ds[dv].attrs[\"units\"]==\"K\":\n",
    "    print(\"Convert back to degC\")\n",
    "    K = 273.15 # K\n",
    "    reconstructed_field -= K\n",
    "    df[station_dv] -= K\n",
    "    ds[dv].attrs[\"units\"] = \"degC\""
   ]
  },
  {
   "cell_type": "code",
   "execution_count": null,
   "metadata": {},
   "outputs": [],
   "source": [
    "ds_recon = gen_dataset(dv, reconstructed_field, ds.rlat, ds.rlon, ds.lat, ds.lon, unit=ds[dv].attrs[\"units\"])"
   ]
  },
  {
   "cell_type": "code",
   "execution_count": null,
   "metadata": {},
   "outputs": [],
   "source": [
    "if ds.attrs:\n",
    "    all_keys = set(ds_recon.variables).union(set(ds_recon.dims))\n",
    "    for key in all_keys:\n",
    "        ds_recon[key].attrs = ds[key].attrs\n",
    "    attr_dict = ds.attrs\n",
    "    attr_dict[\"Climpyrical\"] = (\n",
    "        \"CanRCM4 Reconstruction contains\"\n",
    "        \"hybrid station and model data using\"\n",
    "        \"Climpyrical (https://github.com/pacificclimate/climpyrical)\"\n",
    "    )\n",
    "\n",
    "    ds_recon.attrs = attr_dict\n",
    "else:\n",
    "    raise warnings.warn(\"No attributes detected in dataset file\")"
   ]
  },
  {
   "cell_type": "code",
   "execution_count": null,
   "metadata": {},
   "outputs": [],
   "source": [
    "ds_recon.to_netcdf(output_reconstruction_path, 'w')"
   ]
  },
  {
   "cell_type": "code",
   "execution_count": null,
   "metadata": {},
   "outputs": [],
   "source": [
    "plt.figure(figsize=(20, 20))\n",
    "plt.title(f\"{name} reconstruction\", fontsize=25)\n",
    "plt.imshow(ds_recon[dv], origin='lower')"
   ]
  },
  {
   "cell_type": "code",
   "execution_count": null,
   "metadata": {},
   "outputs": [],
   "source": []
  }
 ],
 "metadata": {
  "kernelspec": {
   "display_name": "Python 3",
   "language": "python",
   "name": "python3"
  },
  "language_info": {
   "codemirror_mode": {
    "name": "ipython",
    "version": 3
   },
   "file_extension": ".py",
   "mimetype": "text/x-python",
   "name": "python",
   "nbconvert_exporter": "python",
   "pygments_lexer": "ipython3",
   "version": "3.8.5"
  }
 },
 "nbformat": 4,
 "nbformat_minor": 4
}
