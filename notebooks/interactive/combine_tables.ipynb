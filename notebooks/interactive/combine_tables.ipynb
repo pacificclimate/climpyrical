{
 "cells": [
  {
   "cell_type": "code",
   "execution_count": null,
   "metadata": {},
   "outputs": [],
   "source": [
    "import pandas as pd\n",
    "from pkg_resources import resource_filename"
   ]
  },
  {
   "cell_type": "code",
   "execution_count": null,
   "metadata": {
    "tags": [
     "parameters"
    ]
   },
   "outputs": [],
   "source": [
    "# Parameters cells"
   ]
  },
  {
   "cell_type": "code",
   "execution_count": null,
   "metadata": {},
   "outputs": [],
   "source": [
    "output_tables_path = resource_filename(\n",
    "    \"climpyrical\",\n",
    "    output_tables_path\n",
    ")\n",
    "\n",
    "dflist = []\n",
    "for name in dvs.keys():\n",
    "    nrc_table_path = f\"{output_tables_path}{name}_TableC2.csv\"\n",
    "    df = pd.read_csv(nrc_table_path)\n",
    "    dflist.append(df)"
   ]
  },
  {
   "cell_type": "code",
   "execution_count": null,
   "metadata": {},
   "outputs": [],
   "source": [
    "# start with combining the design values\n",
    "df_combined = pd.DataFrame()\n",
    "df_combined = df_combined.assign(Location = df.Location, Prov = df.Prov, lon=df.lon, lat=df.lat)\n",
    "df_combined[\"2020 Elev (m)\"] = df[\"2020 Elev (m)\"]\n",
    "for i, key in enumerate(dvs.keys()):\n",
    "    df_combined[dvs[key][\"station_dv\"]] = dflist[i][dvs[key][\"station_dv\"]]"
   ]
  },
  {
   "cell_type": "code",
   "execution_count": null,
   "metadata": {},
   "outputs": [],
   "source": [
    "assert not df_combined.isnull().values.any()"
   ]
  },
  {
   "cell_type": "code",
   "execution_count": null,
   "metadata": {},
   "outputs": [],
   "source": [
    "# Sort the combined keys into final format\n",
    "# As they appear in original\n",
    "original_columns = {\n",
    "        \"Location\": \"Location\",\n",
    "        \"lat\": \"Latitude\",\n",
    "        \"lon\": \"Longitude\",\n",
    "        \"Prov\": \"prov\",\n",
    "        \"2020 Elev (m)\": \"elevation (m)\"\n",
    "}\n",
    "original_dvs = {\n",
    "        \"TJan2.5 (degC)\": \"JanT2.5 (degC)\",\n",
    "        \"TJan1.0 (degC)\": \"JanT1.0 (degC)\",\n",
    "        \"TJul2.5 (degC)\": \"JulT2.5 (degC)\",\n",
    "        \"TwJul2.5 (degC)\":\"JulTw2.5 (degC)\",\n",
    "        \"Tmin (degC)\": \"Tmin (degC)\",\n",
    "        \"Tmax (degC)\": \"Tmax (degC)\",\n",
    "        \"HDD (degC-day)\": \"HDD (degC-day)\",\n",
    "        \"Gum-LM RL10 (mm)\": \"R15m10 (mm)\",\n",
    "        \"1day rain RL50 (mm)\": \"R1d50 (mm)\",\n",
    "        \"annual_rain (mm)\": \"AnnR (mm)\",\n",
    "        \"annual_pr (mm)\": \"AnnP (mm)\",\n",
    "        \"mean RH (%)\": \"RH (%)\",\n",
    "        \"moisture_index\": \"MI\",\n",
    "        \"DRWP-RL5 (Pa)\": \"DRWP5 (Pa)\",\n",
    "        \"SL50 (kPa)\": \"SL50 (kPa)\",\n",
    "        \"RL50 (kPa)\": \"RL50 (kPa)\",\n",
    "        \"WP10 (kPa)\": \"WP10 (kPa)\",\n",
    "        \"WP50 (kPa)\": \"WP50 (kPa)\"\n",
    "    }\n",
    "\n",
    "df_final = pd.DataFrame()\n",
    "df_final = df_final.assign(Location = df.Location, Prov = df.Prov, lon=df.lon, lat=df.lat)\n",
    "df_final[\"2020 Elev (m)\"] = df[\"2020 Elev (m)\"]\n",
    "df_final = df_combined.rename(columns=original_columns)\n",
    "df_final_ordered = df_final.copy()\n",
    "\n",
    "#populate new TableC2 values with DVs from the config\n",
    "for key in original_dvs.keys():\n",
    "    print(key)\n",
    "    try:\n",
    "        df_final_ordered[original_dvs[key]] = df_final[key]\n",
    "        if key != original_dvs[key]:\n",
    "            df_final_ordered = df_final_ordered.drop(key, axis=1)\n",
    "    except KeyError:\n",
    "        continue\n",
    "\n",
    "df_final_ordered"
   ]
  },
  {
   "cell_type": "code",
   "execution_count": null,
   "metadata": {},
   "outputs": [],
   "source": [
    "df_final_ordered.head()"
   ]
  },
  {
   "cell_type": "code",
   "execution_count": null,
   "metadata": {},
   "outputs": [],
   "source": [
    "combined_out_path = resource_filename(\"climpyrical\", \"data/results/TableC2/combined_dv_tablec2.csv\")\n",
    "df_final_ordered.round(3).to_csv(combined_out_path, index=False)"
   ]
  },
  {
   "cell_type": "code",
   "execution_count": null,
   "metadata": {},
   "outputs": [],
   "source": []
  }
 ],
 "metadata": {
  "kernelspec": {
   "display_name": "Python 3",
   "language": "python",
   "name": "python3"
  },
  "language_info": {
   "codemirror_mode": {
    "name": "ipython",
    "version": 3
   },
   "file_extension": ".py",
   "mimetype": "text/x-python",
   "name": "python",
   "nbconvert_exporter": "python",
   "pygments_lexer": "ipython3",
   "version": "3.8.5"
  }
 },
 "nbformat": 4,
 "nbformat_minor": 4
}
