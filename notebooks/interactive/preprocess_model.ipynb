{
 "cells": [
  {
   "cell_type": "markdown",
   "metadata": {},
   "source": [
    "# Model Preprocessing\n",
    "---\n",
    "This notebook performs the necessary preprocessing of CanRCM4 models. Execute each cell in order.\n",
    "\n",
    "* Place netCDF models into `climpyrical/data/model_inputs`. \n",
    "* Ensure ensemble models have:\n",
    "    * lat, lon, rlat, rlon and a 2D data field variable\n",
    "    \n",
    "Output directories are configurable, but are recommended to be placed in `climpyrical/data/results/intermediate/preprocessed_netcdf/`\n",
    "\n",
    "Workflow:"
   ]
  },
  {
   "cell_type": "markdown",
   "metadata": {},
   "source": [
    "<img src=\"../../docs/assets/flowchart_model.png\" alt=\"flowchart\" width=\"450\"/>"
   ]
  },
  {
   "cell_type": "code",
   "execution_count": null,
   "metadata": {},
   "outputs": [],
   "source": [
    "from climpyrical.data import read_data, gen_dataset, interpolate_dataset\n",
    "from climpyrical.gridding import regrid_ensemble, extend_north\n",
    "\n",
    "from pkg_resources import resource_filename\n",
    "import warnings\n",
    "\n",
    "import numpy as np\n",
    "import matplotlib.pyplot as plt\n",
    "\n",
    "%matplotlib inline"
   ]
  },
  {
   "cell_type": "markdown",
   "metadata": {},
   "source": [
    "### Parameters are loaded from config_example.yml\n",
    "Example configuration from config_example.yml:\n",
    "```\n",
    "    paths:\n",
    "        preprocessed_model_path: /data/results/intermediate/preprocessed_netcdf/\n",
    "    RL50:\n",
    "        station_dv: \"RL50 (kPa)\"\n",
    "        station_path: 'data/station_inputs/Interim_snow_rain_load_LR_composite_stations_tbd_v4.csv'\n",
    "        input_model_path: 'data/model_inputs/snw_rain_CanRCM4-LE_ens35_1951-2016_max_rl50_load_ensmean.nc'\n",
    "        medians: \n",
    "            value: 0.4\n",
    "            action: \"multiply\"\n",
    "        fill_glaciers: True\n",
    "```"
   ]
  },
  {
   "cell_type": "code",
   "execution_count": null,
   "metadata": {
    "tags": [
     "parameters"
    ]
   },
   "outputs": [],
   "source": [
    "# Parameters cell"
   ]
  },
  {
   "cell_type": "markdown",
   "metadata": {},
   "source": [
    "Load the CanRCM4 model at native resolution"
   ]
  },
  {
   "cell_type": "code",
   "execution_count": null,
   "metadata": {},
   "outputs": [],
   "source": [
    "ds = read_data(resource_filename(\"climpyrical\", input_model_path))\n",
    "(dv,) = ds.data_vars\n",
    "unit = ds[dv].attrs[\"units\"]\n",
    "print(f\"Design value header name: {dv}\")\n",
    "print(f\"Units in model file: {unit}\")"
   ]
  },
  {
   "cell_type": "markdown",
   "metadata": {},
   "source": [
    "After loading, check for accepted units and convert `degC` to `K` if necessary"
   ]
  },
  {
   "cell_type": "code",
   "execution_count": null,
   "metadata": {},
   "outputs": [],
   "source": [
    "rlon, rlat = np.meshgrid(ds.rlon, ds.rlat)\n",
    "mean = ds[dv].values\n",
    "\n",
    "accepted_units = [\"kPa\", \"kPas\", \"Pas\" \"Pa\", \"degC\", \"degC-day\", \"mm\", \"unitless\", \"%\"]\n",
    "\n",
    "print(f\"Detect units: {unit}\")\n",
    "if unit not in accepted_units:\n",
    "    warnings.warn(\n",
    "        f\"{unit} not recognized from list of accepted units: {accepted_units}\"\n",
    "    )\n",
    "\n",
    "print(f\"Units in model file: {unit}\")"
   ]
  },
  {
   "cell_type": "markdown",
   "metadata": {},
   "source": [
    "Load the masks, starting with the land mask at the native CanRCM4 resolution and the glacier mask"
   ]
  },
  {
   "cell_type": "code",
   "execution_count": null,
   "metadata": {},
   "outputs": [],
   "source": [
    "path_mask = resource_filename(\"climpyrical\", \"data/masks/land_mask_CanRCM4_sftlf.nc\")\n",
    "path_glacier_mask = resource_filename(\"climpyrical\", \"data/masks/glacier_mask.nc\")\n",
    "\n",
    "print(\"Load and regrid file to target resolution\")\n",
    "\n",
    "mask = read_data(path_mask)\n",
    "mask = regrid_ensemble(mask, \"sftlf\", 10, copy=True)\n",
    "mask = mask[\"sftlf\"] >= 1.0\n",
    "\n",
    "print(\"Load original reoslution mask for reference\")\n",
    "mask_og = read_data(path_mask)[\"sftlf\"].values != 0.0\n",
    "glaciermask = read_data(path_glacier_mask)[\"mask\"].values != 0.0"
   ]
  },
  {
   "cell_type": "markdown",
   "metadata": {},
   "source": [
    "plot masks as example"
   ]
  },
  {
   "cell_type": "code",
   "execution_count": null,
   "metadata": {},
   "outputs": [],
   "source": [
    "fig, ax = plt.subplots(1, 2, figsize=(10, 5))\n",
    "ax[0].imshow(mask_og, origin=\"lower\", cmap=\"Greys\")\n",
    "ax[0].set_title(\"Original mask\")\n",
    "ax[1].imshow(glaciermask, origin=\"lower\", cmap=\"Greys\")\n",
    "ax[1].set_title(\"Glacier mask\")"
   ]
  },
  {
   "cell_type": "markdown",
   "metadata": {},
   "source": [
    "Perform bilinear interpolation over glacier points if required"
   ]
  },
  {
   "cell_type": "code",
   "execution_count": null,
   "metadata": {},
   "outputs": [],
   "source": [
    "if fill_glaciers:\n",
    "    print(\"Filling spurious glacier points.\")\n",
    "    mean[glaciermask] = np.nan\n",
    "\n",
    "nanmask = ~np.isnan(mean)\n",
    "points = np.stack([rlon[nanmask], rlat[nanmask]]).T\n",
    "target_values = mean[nanmask]\n",
    "target_points = np.stack([rlon[glaciermask], rlat[glaciermask]]).T\n",
    "\n",
    "mean[glaciermask] = interpolate_dataset(\n",
    "    points, target_values, target_points, \"linear\"\n",
    ")\n",
    "\n",
    "ds_filled = gen_dataset(dv, mean, ds.rlat, ds.rlon, ds.lat, ds.lon, unit)\n"
   ]
  },
  {
   "cell_type": "code",
   "execution_count": null,
   "metadata": {},
   "outputs": [],
   "source": [
    "print(\"Remove water cells at original resolution\")\n",
    "ds_filled[dv].values[~mask_og] = np.nan\n",
    "nanmask = ~np.isnan(ds_filled[dv].values)"
   ]
  },
  {
   "cell_type": "code",
   "execution_count": null,
   "metadata": {},
   "outputs": [],
   "source": [
    "print(\"Copying and downscaling dataset 10x\")\n",
    "ds10 = regrid_ensemble(ds_filled, dv, 10, copy=True)\n",
    "ds10[dv].values[~mask] = np.nan\n",
    "nrlon, nrlat = np.meshgrid(ds10.rlon, ds10.rlat)\n",
    "nanmask10 = ~np.isnan(ds10[dv].values)"
   ]
  },
  {
   "cell_type": "code",
   "execution_count": null,
   "metadata": {},
   "outputs": [],
   "source": [
    "print(\"Interpolating full remaining grid\")\n",
    "points = np.stack([rlon[nanmask], rlat[nanmask]]).T\n",
    "target_points = np.stack([nrlon[nanmask10], nrlat[nanmask10]]).T\n",
    "values = ds[dv].values[nanmask]\n",
    "ds10[dv].values[nanmask10] = interpolate_dataset(\n",
    "    points, values, target_points, \"linear\"\n",
    ")"
   ]
  },
  {
   "cell_type": "code",
   "execution_count": null,
   "metadata": {},
   "outputs": [],
   "source": [
    "print(\"Add northern domain to model\")\n",
    "ds10 = extend_north(ds10, dv, 210, fill_val=np.nan)\n",
    "nanmask10 = ~np.isnan(ds10[dv].values)"
   ]
  },
  {
   "cell_type": "markdown",
   "metadata": {},
   "source": [
    "Load the higher resolution canada mask"
   ]
  },
  {
   "cell_type": "code",
   "execution_count": null,
   "metadata": {},
   "outputs": [],
   "source": [
    "canada_mask_path = resource_filename(\"climpyrical\", \"/data/masks/canada_mask_rp.nc\")\n",
    "with read_data(canada_mask_path) as ds_canada:\n",
    "    ca_mask = ds_canada[\"mask\"].values\n",
    "\n",
    "# select NaN values within new mask\n",
    "ca_mask_or = ~np.logical_or(~ca_mask, nanmask10)\n",
    "\n",
    "fig, ax = plt.subplots(1, 2, figsize=(10, 5))\n",
    "ax[0].imshow(ca_mask, origin=\"lower\", cmap=\"Greys\")\n",
    "ax[0].set_title(\"Target mask\")\n",
    "ax[1].imshow(ca_mask_or, origin=\"lower\", cmap=\"Greys\")\n",
    "ax[1].set_title(\"Missing points mask\")"
   ]
  },
  {
   "cell_type": "code",
   "execution_count": null,
   "metadata": {},
   "outputs": [],
   "source": [
    "print(\"Fill remaining missing points using closest neighbour.\")\n",
    "nrlon, nrlat = np.meshgrid(ds10.rlon.values, ds10.rlat.values)\n",
    "\n",
    "temp_field = ds10[dv].values\n",
    "\n",
    "points = np.stack([nrlon[nanmask10], nrlat[nanmask10]]).T\n",
    "target_points = np.stack([nrlon[ca_mask_or], nrlat[ca_mask_or]]).T\n",
    "target_values = ds10[dv].values[nanmask10]\n",
    "temp_field[~ca_mask] = np.nan\n",
    "\n",
    "temp_field[ca_mask_or] = interpolate_dataset(\n",
    "    points, target_values, target_points, \"nearest\"\n",
    ")"
   ]
  },
  {
   "cell_type": "code",
   "execution_count": null,
   "metadata": {},
   "outputs": [],
   "source": [
    "print(\"Remove the processed northern region.\")\n",
    "uaa_mask_path = resource_filename(\n",
    "    \"climpyrical\", \"/data/masks/canada_mask_north_rp.nc\"\n",
    ")\n",
    "uaa_mask = read_data(uaa_mask_path)[\"mask\"]\n",
    "temp_field[uaa_mask] = np.nan\n",
    "\n",
    "ds_processed = gen_dataset(\n",
    "    dv, temp_field, ds10.rlat, ds10.rlon, ds10.lat, ds10.lon, unit\n",
    ")\n",
    "# Populate new processed dataset with attributes from \n",
    "# the original\n",
    "if ds.attrs:\n",
    "    all_keys = set(ds_processed.variables).union(set(ds_processed.dims))\n",
    "    for key in all_keys:\n",
    "        ds_processed[key].attrs = ds[key].attrs\n",
    "    attr_dict = ds.attrs\n",
    "    attr_dict[\"Climpyrical\"] = (\n",
    "        \"CanRCM4 Reconstruction contains\"\n",
    "        \"hybrid station and model data using\"\n",
    "        \"Climpyrical (https://github.com/pacificclimate/climpyrical)\"\n",
    "    )\n",
    "\n",
    "    ds_processed.attrs = attr_dict\n",
    "\n",
    "print(\"Dataset generated and writing to file.\")\n",
    "\n",
    "ds_processed.to_netcdf(resource_filename(\"climpyrical\", f\"{preprocessed_model_path}{name}.nc\"), mode=\"w\")\n",
    "\n",
    "print(\"Completed!\")"
   ]
  },
  {
   "cell_type": "markdown",
   "metadata": {},
   "source": [
    "Plot the final result"
   ]
  },
  {
   "cell_type": "code",
   "execution_count": null,
   "metadata": {},
   "outputs": [],
   "source": [
    "plt.figure(figsize=(15, 15))\n",
    "plt.title(f\"Processed {name}\")\n",
    "plt.imshow(ds_processed[dv].values, origin=\"lower\")\n",
    "plt.colorbar(fraction=0.045)"
   ]
  }
 ],
 "metadata": {
  "kernelspec": {
   "display_name": "Python 3",
   "language": "python",
   "name": "python3"
  },
  "language_info": {
   "codemirror_mode": {
    "name": "ipython",
    "version": 3
   },
   "file_extension": ".py",
   "mimetype": "text/x-python",
   "name": "python",
   "nbconvert_exporter": "python",
   "pygments_lexer": "ipython3",
   "version": "3.7.9"
  }
 },
 "nbformat": 4,
 "nbformat_minor": 4
}
