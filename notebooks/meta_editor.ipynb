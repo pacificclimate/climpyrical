{
 "cells": [
  {
   "cell_type": "code",
   "execution_count": null,
   "metadata": {},
   "outputs": [],
   "source": [
    "import sys\n",
    "sys.path.append('../modules')\n",
    "\n",
    "from datacube import read_data\n",
    "from operators import *\n",
    "from mask import *\n",
    "from preprocessing import *\n",
    "from eof import *\n",
    "from interpolator import *\n",
    "from gridding import *\n",
    "from mapper import *\n",
    "from scipy import interpolate\n",
    "\n",
    "import seaborn as sns\n",
    "import numpy as np\n",
    "import matplotlib.pyplot as plt\n",
    "import pandas as pd\n",
    "\n",
    "\n",
    "%load_ext autoreload\n",
    "%autoreload 2\n",
    "%page\n",
    "%alias_magic t timeit\n",
    "\n",
    "#PATH = '/storage/data/projects/nrc/CanRCM4_large_ensemble/design_values/tas/hdd/*.nc'\n",
    "#PATH = '/home/nannau/Desktop/ensembles/jan1.0p/*'\n",
    "PATH = '/storage/data/projects/nrc/CanRCM4_large_ensemble/design_values/tas/hdd/*.nc'\n",
    "\n",
    "ds = read_data(PATH)\n",
    "ds = ds.assign_coords(level=ds.level)\n",
    "ds = ds.squeeze('time').drop('time').drop('time_bnds')\n",
    "ds.to_netcdf('#####')"
   ]
  }
 ],
 "metadata": {
  "kernelspec": {
   "display_name": "Python 3",
   "language": "python",
   "name": "python3"
  },
  "language_info": {
   "codemirror_mode": {
    "name": "ipython",
    "version": 3
   },
   "file_extension": ".py",
   "mimetype": "text/x-python",
   "name": "python",
   "nbconvert_exporter": "python",
   "pygments_lexer": "ipython3",
   "version": "3.6.8"
  }
 },
 "nbformat": 4,
 "nbformat_minor": 4
}
