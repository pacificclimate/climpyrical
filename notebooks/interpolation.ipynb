{
 "cells": [
  {
   "cell_type": "code",
   "execution_count": 1,
   "metadata": {},
   "outputs": [],
   "source": [
    "import sys\n",
    "sys.path.append('../modules')\n",
    "\n",
    "from datacube import read_data\n",
    "from operators import *\n",
    "from preprocessing import *\n",
    "from eof import *\n",
    "from gridding import *\n",
    "from mapper import *\n",
    "from scipy import interpolate\n",
    "\n",
    "import numpy as np\n",
    "import matplotlib.pyplot as plt\n",
    "import cartopy.crs as ccrs\n",
    "import cartopy.feature as cfeature\n",
    "import cartopy.feature\n",
    "import seaborn as sns\n",
    "import pandas as pd\n",
    "\n",
    "\n",
    "%load_ext autoreload\n",
    "%autoreload 2"
   ]
  },
  {
   "cell_type": "code",
   "execution_count": 2,
   "metadata": {},
   "outputs": [],
   "source": [
    "PATH = '/storage/data/projects/nrc/CanRCM4_large_ensemble/design_values/tas/hdd/*.nc'\n",
    "#PATH = '/home/nannau/Desktop/ensembles/jan1.0p/*'\n",
    "#PATH = '/storage/data/projects/nrc/CanRCM4_large_ensemble/design_values/tas/jul2.5p/*.nc'"
   ]
  },
  {
   "cell_type": "code",
   "execution_count": 3,
   "metadata": {},
   "outputs": [],
   "source": [
    "ds = read_data(PATH)\n",
    "dv_field = ds['dv'].values.copy()\n",
    "ens = ens_flat(dv_field)\n",
    "rlat, rlon = ds['rlat'].values, ds['rlon'].values"
   ]
  },
  {
   "cell_type": "code",
   "execution_count": 4,
   "metadata": {},
   "outputs": [],
   "source": [
    "irlon = np.linspace(np.min(rlon), np.max(rlon), rlon.shape[0]*10)\n",
    "irlat = np.linspace(np.min(rlat), np.max(rlat), rlat.shape[0]*10)\n",
    "\n",
    "rlon_ens = np.tile(rlon, rlat.shape[0])\n",
    "rlat_ens = np.repeat(rlat, rlon.shape[0])\n",
    "\n",
    "irlon_ens = np.tile(irlon, irlat.shape[0])\n",
    "irlat_ens = np.repeat(irlat, irlon.shape[0])\n",
    "icoordens = np.array(list(zip(irlon_ens, irlat_ens)))\n",
    "\n",
    "coordens = np.array(list(zip(rlon_ens, rlat_ens)))"
   ]
  },
  {
   "cell_type": "code",
   "execution_count": 5,
   "metadata": {},
   "outputs": [
    {
     "name": "stdout",
     "output_type": "stream",
     "text": [
      "(1, 130, 155)\n"
     ]
    },
    {
     "data": {
      "text/plain": [
       "(2015000,)"
      ]
     },
     "execution_count": 5,
     "metadata": {},
     "output_type": "execute_result"
    }
   ],
   "source": [
    "mask = load_land_mask('../data/mask.nc')\n",
    "mask_master = mask_land_and_nan(dv_field, mask)\n",
    "idx_ = mask_land_and_nan_ens_index(mask_master)\n",
    "print(mask_master.shape)\n",
    "#imask = np.tile(mask, (irlon.shape[0]*irlat.shape[0]))\n",
    "mask_master = np.repeat(np.repeat(mask_master, 10, axis=1), 10) # honestly don't know how this works but it does\n",
    "mask_master.shape\n",
    "#idx = mask_land_and_nan_ens_index(mask_master)"
   ]
  },
  {
   "cell_type": "code",
   "execution_count": 6,
   "metadata": {},
   "outputs": [
    {
     "data": {
      "text/plain": [
       "((900500,), (9005,))"
      ]
     },
     "execution_count": 6,
     "metadata": {},
     "output_type": "execute_result"
    }
   ],
   "source": [
    "imask = np.expand_dims(np.reshape(mask_master, (irlat.shape[0], irlon.shape[0])), axis=0)\n",
    "imask.shape\n",
    "idx = mask_land_and_nan_ens_index(imask)\n",
    "idx.shape, idx_.shape"
   ]
  },
  {
   "cell_type": "code",
   "execution_count": 7,
   "metadata": {},
   "outputs": [],
   "source": [
    "#fmask = interpolate.griddata(coordens, mask_master, icoordens, method = 'cubic', fill_value=False)\n",
    "\n",
    "#imask = fmask.copy()\n",
    "#imask = np.expand_dims(imask.astype(bool), axis=0)\n",
    "\n",
    "#print(mask[0, ...].shape)\n",
    "\n",
    "#plt.figure(figsize=(10, 10))\n",
    "#plt.imshow(mask[0, ...], extent=[np.amin(rlon), np.amax(rlon), np.amin(rlat), np.amax(rlat)], cmap='cool', alpha=0.7)\n",
    "#plt.imshow(imask, cmap='Greys', alpha=0.7)\n",
    "#plt.gca().invert_yaxis()\n",
    "#plt.savefig('/home/nannau/Desktop/maskpic.png')\n",
    "#plt.show()"
   ]
  },
  {
   "cell_type": "code",
   "execution_count": 8,
   "metadata": {},
   "outputs": [],
   "source": [
    "#idx = imask == True\n",
    "#idx.shape\n",
    "points = icoordens[idx]"
   ]
  },
  {
   "cell_type": "code",
   "execution_count": 9,
   "metadata": {},
   "outputs": [],
   "source": [
    "iens = np.broadcast_to(np.reshape(imask, (irlon.shape[0]*irlat.shape[0])), (dv_field.shape[0], irlon.shape[0]*irlat.shape[0])).copy().astype(float)\n"
   ]
  },
  {
   "cell_type": "code",
   "execution_count": 10,
   "metadata": {},
   "outputs": [
    {
     "data": {
      "text/plain": [
       "((35, 2015000), (35, 20150))"
      ]
     },
     "execution_count": 10,
     "metadata": {},
     "output_type": "execute_result"
    }
   ],
   "source": [
    "points = icoordens[idx]\n",
    "\n",
    "for i in range(dv_field.shape[0]):\n",
    "    iens[i, idx] = interpolate.griddata(coordens[idx_], ens[i, idx_], points, method='linear')\n",
    "\n",
    "iens.shape, ens.shape"
   ]
  },
  {
   "cell_type": "code",
   "execution_count": 11,
   "metadata": {},
   "outputs": [
    {
     "data": {
      "text/plain": [
       "array([[   10.98308465,    13.66069672,    16.33830879, ...,\n",
       "        10243.15005025, 10124.91817583, 10006.68630141],\n",
       "       [   10.7662496 ,    13.70578595,    16.64532229, ...,\n",
       "        10366.17732043, 10248.04477426, 10129.91222809],\n",
       "       [   15.32516275,    18.85221892,    22.3792751 , ...,\n",
       "        10372.2394258 , 10254.94519835, 10137.6509709 ],\n",
       "       ...,\n",
       "       [   11.11249657,    13.80915245,    16.50580834, ...,\n",
       "        10343.88098173, 10225.11712349, 10106.35326525],\n",
       "       [   14.26176628,    17.58370564,    20.905645  , ...,\n",
       "        10421.12560379, 10304.36044731, 10187.59529083],\n",
       "       [   12.73326155,    15.94831946,    19.16337737, ...,\n",
       "        10284.69433992, 10167.63702441, 10050.5797089 ]])"
      ]
     },
     "execution_count": 11,
     "metadata": {},
     "output_type": "execute_result"
    }
   ],
   "source": [
    "nan_mask = np.apply_over_axes(\n",
    "                np.logical_or.reduce,\n",
    "                np.isnan(iens),\n",
    "                (0)\n",
    ")\n",
    "\n",
    "master_idx = ~np.logical_or(~mask_master, nan_mask).flatten()\n",
    "\n",
    "iens[:, master_idx]"
   ]
  },
  {
   "cell_type": "code",
   "execution_count": null,
   "metadata": {},
   "outputs": [],
   "source": []
  },
  {
   "cell_type": "code",
   "execution_count": 12,
   "metadata": {},
   "outputs": [
    {
     "data": {
      "text/plain": [
       "(1, 2015000)"
      ]
     },
     "execution_count": 12,
     "metadata": {},
     "output_type": "execute_result"
    }
   ],
   "source": [
    "area = frac_grid_area(irlon, irlat)\n",
    "area_relevent_grid_cells = area.reshape(1, -1)\n",
    "area_relevent_grid_cells.shape"
   ]
  },
  {
   "cell_type": "code",
   "execution_count": 13,
   "metadata": {},
   "outputs": [],
   "source": [
    "mean = iens.mean(axis=0).reshape(1, -1)"
   ]
  },
  {
   "cell_type": "code",
   "execution_count": 14,
   "metadata": {},
   "outputs": [],
   "source": [
    "corr_ens = (iens - mean)*area_relevent_grid_cells      \n",
    "corr_ens = corr_ens[:, master_idx]"
   ]
  },
  {
   "cell_type": "code",
   "execution_count": 15,
   "metadata": {},
   "outputs": [
    {
     "name": "stdout",
     "output_type": "stream",
     "text": [
      "EOF Shape:  (12, 900325)\n"
     ]
    },
    {
     "data": {
      "text/plain": [
       "sklearn.decomposition.pca.PCA"
      ]
     },
     "execution_count": 15,
     "metadata": {},
     "output_type": "execute_result"
    }
   ],
   "source": [
    "ens_eof = ens_to_eof(corr_ens).components_\n",
    "#corr_ens_full_size[:ens_eof.shape[0], idx] = ens_eof\n",
    "\n",
    "print(\"EOF Shape: \", ens_eof.shape)\n",
    "type(ens_to_eof(corr_ens))"
   ]
  },
  {
   "cell_type": "code",
   "execution_count": 16,
   "metadata": {},
   "outputs": [
    {
     "data": {
      "image/png": "[encoded data removed]",
      "text/plain": [
       "<Figure size 432x288 with 1 Axes>"
      ]
     },
     "metadata": {
      "needs_background": "light"
     },
     "output_type": "display_data"
    },
    {
     "data": {
      "image/png": "[encoded data removed]",
      "text/plain": [
       "<Figure size 432x288 with 1 Axes>"
      ]
     },
     "metadata": {
      "needs_background": "light"
     },
     "output_type": "display_data"
    }
   ],
   "source": [
    "sns.lineplot(range(ens_eof.shape[0]), \n",
    "             ens_to_eof(corr_ens).explained_variance_ratio_, \n",
    "             label='explained variance ratio')\n",
    "plt.xlabel('Principal Component')\n",
    "plt.ylabel('Explained Variance Ratio')\n",
    "plt.show()\n",
    "sns.lineplot(range(ens_eof.shape[0]), \n",
    "             np.cumsum(ens_to_eof(corr_ens).explained_variance_ratio_),\n",
    "             label='cumulative explained variance to 95%')\n",
    "plt.xlabel('Principal Component')\n",
    "plt.ylabel('Explained Variance Ratio')\n",
    "plt.show()"
   ]
  },
  {
   "cell_type": "code",
   "execution_count": 38,
   "metadata": {},
   "outputs": [
    {
     "data": {
      "text/plain": [
       "900325"
      ]
     },
     "execution_count": 38,
     "metadata": {},
     "output_type": "execute_result"
    }
   ],
   "source": [
    "rcoord_ens_dict = rlat_rlon_to_ens(irlat, irlon)\n",
    "rlat_ens = rcoord_ens_dict['rlat'][master_idx]\n",
    "rlon_ens = rcoord_ens_dict['rlon'][master_idx]\n",
    "\n",
    "lat_lon_ens = list(zip(rlat_ens, rlon_ens))\n",
    "len(lat_lon_ens)"
   ]
  },
  {
   "cell_type": "code",
   "execution_count": 18,
   "metadata": {},
   "outputs": [],
   "source": [
    "df = pd.read_csv('../data/hdd_1991_2016', index_col=None)"
   ]
  },
  {
   "cell_type": "code",
   "execution_count": 19,
   "metadata": {},
   "outputs": [],
   "source": [
    "df = df[df['completeness'] > 0.8]"
   ]
  },
  {
   "cell_type": "code",
   "execution_count": 20,
   "metadata": {},
   "outputs": [],
   "source": [
    "lat_lon_obs = list(zip(df['lat'], df['lon']))\n",
    "lat_obs, lon_obs = zip(*lat_lon_obs)\n",
    "\n",
    "coords = to_rotated(lat_obs, lon_obs)\n",
    "rlat_obs, rlon_obs = np.array(coords['rlat_obs']), np.array(coords['rlon_obs'])\n",
    "\n",
    "lat_lon_obs = list(zip(rlat_obs, rlon_obs))"
   ]
  },
  {
   "cell_type": "code",
   "execution_count": 21,
   "metadata": {},
   "outputs": [],
   "source": [
    "df['nearest_grid'] = dist_index(lat_lon_obs, lat_lon_ens)"
   ]
  },
  {
   "cell_type": "code",
   "execution_count": 24,
   "metadata": {},
   "outputs": [],
   "source": [
    "ndf = df['hdd'].groupby(df['nearest_grid']).mean()\n"
   ]
  },
  {
   "cell_type": "code",
   "execution_count": 26,
   "metadata": {},
   "outputs": [
    {
     "data": {
      "text/plain": [
       "((580,), (597, 9))"
      ]
     },
     "execution_count": 26,
     "metadata": {},
     "output_type": "execute_result"
    }
   ],
   "source": [
    "ndf.shape, df.shape"
   ]
  },
  {
   "cell_type": "code",
   "execution_count": 27,
   "metadata": {},
   "outputs": [],
   "source": [
    "match_ens_obs_idx = np.asarray(ndf.index)"
   ]
  },
  {
   "cell_type": "code",
   "execution_count": 28,
   "metadata": {},
   "outputs": [
    {
     "name": "stdout",
     "output_type": "stream",
     "text": [
      "Check that the observations and the EOFs contain the same number of grids: \n",
      "EOF shape:  (12, 580) \n",
      "Matched Obs shape:  (580,)\n"
     ]
    }
   ],
   "source": [
    "match_obs_ens = np.array(ndf)*area_relevent_grid_cells[:, match_ens_obs_idx]\n",
    "match_model_ens = ens_eof[:, match_ens_obs_idx]\n",
    "\n",
    "print(\"Check that the observations and the EOFs contain the same number of grids:\",\n",
    "      '\\nEOF shape: ', match_model_ens.shape, '\\n'\n",
    "      'Matched Obs shape: ', match_obs_ens[0, :].shape)"
   ]
  },
  {
   "cell_type": "code",
   "execution_count": 29,
   "metadata": {},
   "outputs": [
    {
     "name": "stdout",
     "output_type": "stream",
     "text": [
      "Regressed model score: 0.7993615286214194\n"
     ]
    }
   ],
   "source": [
    "model = regress_eof(match_model_ens.T, match_obs_ens[0, :])"
   ]
  },
  {
   "cell_type": "code",
   "execution_count": 30,
   "metadata": {},
   "outputs": [],
   "source": [
    "predictions = predict_dv(model, ens_eof.T)"
   ]
  },
  {
   "cell_type": "code",
   "execution_count": 31,
   "metadata": {},
   "outputs": [],
   "source": [
    "latlist, lonlist = zip(*list(lat_lon_ens))"
   ]
  },
  {
   "cell_type": "code",
   "execution_count": 32,
   "metadata": {},
   "outputs": [],
   "source": [
    "observations = match_obs_ens/area_relevent_grid_cells[:, match_ens_obs_idx] \n",
    "reconstructed_observations = predictions[match_ens_obs_idx]/area_relevent_grid_cells[:, match_ens_obs_idx]"
   ]
  },
  {
   "cell_type": "code",
   "execution_count": 33,
   "metadata": {},
   "outputs": [
    {
     "name": "stdout",
     "output_type": "stream",
     "text": [
      "slope 0.7827858355865017\n",
      "EOF Score 0.7993615286214194\n",
      "rmse 305896.9258923873\n",
      "r2 of linear fit 0.7828431347757614\n"
     ]
    },
    {
     "data": {
      "text/plain": [
       "array([7.82785836e-01, 9.41842333e+02])"
      ]
     },
     "execution_count": 33,
     "metadata": {},
     "output_type": "execute_result"
    }
   ],
   "source": [
    "from sklearn.linear_model import LinearRegression\n",
    "from sklearn.metrics import mean_squared_error, r2_score\n",
    "\n",
    "# Model initialization\n",
    "regression_model = LinearRegression()\n",
    "# Fit the data(train the model)\n",
    "regression_model.fit(observations.T, reconstructed_observations.T)\n",
    "\n",
    "print(\"slope\", regression_model.coef_[0][0])\n",
    "\n",
    "y_predicted = regression_model.predict(observations.T)\n",
    "# model evaluation\n",
    "rmse = mean_squared_error(reconstructed_observations.T, y_predicted)\n",
    "r2 = r2_score(reconstructed_observations.T, y_predicted)\n",
    "print('EOF Score', model.score(match_model_ens.T, match_obs_ens[0, :]))\n",
    "print('rmse', rmse)\n",
    "print('r2 of linear fit', r2)\n",
    "\n",
    "observations.T[:, 0]\n",
    "np.polyfit(observations.T[:, 0], reconstructed_observations.T[:, 0], 1)"
   ]
  },
  {
   "cell_type": "code",
   "execution_count": 35,
   "metadata": {},
   "outputs": [
    {
     "data": {
      "text/plain": [
       "Text(27.125, 0.5, 'Reconstruction')"
      ]
     },
     "execution_count": 35,
     "metadata": {},
     "output_type": "execute_result"
    },
    {
     "data": {
      "image/png": "[encoded data removed]",
      "text/plain": [
       "<Figure size 432x432 with 3 Axes>"
      ]
     },
     "metadata": {
      "needs_background": "light"
     },
     "output_type": "display_data"
    }
   ],
   "source": [
    "ax = sns.jointplot(observations.T[:, 0], reconstructed_observations.T[:, 0], kind='reg', color='green', marker='+',scatter_kws={\"s\": 0.01})\n",
    "sns.scatterplot(observations.T[:, 0], \n",
    "                reconstructed_observations.T[:, 0], \n",
    "                hue=rlat_ens[match_ens_obs_idx], \n",
    "                palette=\"viridis\",\n",
    "                marker='+'\n",
    ")\n",
    "sns.lineplot(observations.T[:, 0], \n",
    "             observations.T[:, 0], \n",
    "             color='r')\n",
    "plt.xlabel('Observations')\n",
    "plt.ylabel('Reconstruction')"
   ]
  },
  {
   "cell_type": "code",
   "execution_count": null,
   "metadata": {},
   "outputs": [],
   "source": [
    "# Now it's time to plot!\n"
   ]
  }
 ],
 "metadata": {
  "kernelspec": {
   "display_name": "Python 3",
   "language": "python",
   "name": "python3"
  },
  "language_info": {
   "codemirror_mode": {
    "name": "ipython",
    "version": 3
   },
   "file_extension": ".py",
   "mimetype": "text/x-python",
   "name": "python",
   "nbconvert_exporter": "python",
   "pygments_lexer": "ipython3",
   "version": "3.6.8"
  }
 },
 "nbformat": 4,
 "nbformat_minor": 4
}
