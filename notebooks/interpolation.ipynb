{
 "cells": [
  {
   "cell_type": "code",
   "execution_count": 1,
   "metadata": {},
   "outputs": [],
   "source": [
    "import sys\n",
    "sys.path.append('../modules')\n",
    "\n",
    "from datacube import read_data\n",
    "from operators import *\n",
    "from preprocessing import *\n",
    "from eof import *\n",
    "from gridding import *\n",
    "from mapper import *\n",
    "from scipy import interpolate\n",
    "\n",
    "import numpy as np\n",
    "import matplotlib.pyplot as plt\n",
    "import cartopy.crs as ccrs\n",
    "import cartopy.feature as cfeature\n",
    "import cartopy.feature\n",
    "import seaborn as sns\n",
    "import pandas as pd\n",
    "\n",
    "\n",
    "%load_ext autoreload\n",
    "%autoreload 2"
   ]
  },
  {
   "cell_type": "code",
   "execution_count": 2,
   "metadata": {},
   "outputs": [],
   "source": [
    "PATH = '/storage/data/projects/nrc/CanRCM4_large_ensemble/design_values/tas/hdd/*.nc'\n",
    "#PATH = '/home/nannau/Desktop/ensembles/jan1.0p/*'\n",
    "#PATH = '/storage/data/projects/nrc/CanRCM4_large_ensemble/design_values/tas/jul2.5p/*.nc'"
   ]
  },
  {
   "cell_type": "code",
   "execution_count": 3,
   "metadata": {},
   "outputs": [],
   "source": [
    "ds = read_data(PATH)\n",
    "dv_field = ds['dv'].values.copy()\n",
    "ens = ens_flat(dv_field)\n",
    "rlat, rlon = ds['rlat'].values, ds['rlon'].values"
   ]
  },
  {
   "cell_type": "code",
   "execution_count": 4,
   "metadata": {},
   "outputs": [],
   "source": [
    "irlon = np.linspace(np.min(rlon), np.max(rlon), rlon.shape[0]*10)\n",
    "irlat = np.linspace(np.min(rlat), np.max(rlat), rlat.shape[0]*10)\n",
    "\n",
    "rlon_ens = np.tile(rlon, rlat.shape[0])\n",
    "rlat_ens = np.repeat(rlat, rlon.shape[0])\n",
    "\n",
    "irlon_ens = np.tile(irlon, irlat.shape[0])\n",
    "irlat_ens = np.repeat(irlat, irlon.shape[0])\n",
    "icoordens = np.array(list(zip(irlon_ens, irlat_ens)))\n",
    "\n",
    "coordens = np.array(list(zip(rlon_ens, rlat_ens)))"
   ]
  },
  {
   "cell_type": "code",
   "execution_count": 24,
   "metadata": {},
   "outputs": [
    {
     "name": "stdout",
     "output_type": "stream",
     "text": [
      "(1, 130, 155)\n"
     ]
    },
    {
     "data": {
      "text/plain": [
       "(2015000,)"
      ]
     },
     "execution_count": 24,
     "metadata": {},
     "output_type": "execute_result"
    }
   ],
   "source": [
    "mask = load_land_mask('../data/mask.nc')\n",
    "mask_master = mask_land_and_nan(dv_field, mask)\n",
    "idx_ = mask_land_and_nan_ens_index(mask_master)\n",
    "print(mask_master.shape)\n",
    "#imask = np.tile(mask, (irlon.shape[0]*irlat.shape[0]))\n",
    "mask_master = np.repeat(np.repeat(mask_master, 10, axis=1), 10) # honestly don't know how this works but it does\n",
    "mask_master.shape\n",
    "#idx = mask_land_and_nan_ens_index(mask_master)"
   ]
  },
  {
   "cell_type": "code",
   "execution_count": 28,
   "metadata": {},
   "outputs": [
    {
     "data": {
      "text/plain": [
       "(9005,)"
      ]
     },
     "execution_count": 28,
     "metadata": {},
     "output_type": "execute_result"
    }
   ],
   "source": [
    "imask = np.expand_dims(np.reshape(mask_master, (irlat.shape[0], irlon.shape[0])), axis=0)\n",
    "imask.shape\n",
    "idx = mask_land_and_nan_ens_index(imask)\n",
    "idx.shape\n",
    "idx_.shape"
   ]
  },
  {
   "cell_type": "code",
   "execution_count": 29,
   "metadata": {},
   "outputs": [],
   "source": [
    "#fmask = interpolate.griddata(coordens, mask_master, icoordens, method = 'cubic', fill_value=False)\n",
    "\n",
    "#imask = fmask.copy()\n",
    "#imask = np.expand_dims(imask.astype(bool), axis=0)\n",
    "\n",
    "#print(mask[0, ...].shape)\n",
    "\n",
    "#plt.figure(figsize=(10, 10))\n",
    "#plt.imshow(mask[0, ...], extent=[np.amin(rlon), np.amax(rlon), np.amin(rlat), np.amax(rlat)], cmap='cool', alpha=0.7)\n",
    "#plt.imshow(imask, cmap='Greys', alpha=0.7)\n",
    "#plt.gca().invert_yaxis()\n",
    "#plt.savefig('/home/nannau/Desktop/maskpic.png')\n",
    "#plt.show()"
   ]
  },
  {
   "cell_type": "code",
   "execution_count": 30,
   "metadata": {},
   "outputs": [],
   "source": [
    "#idx = imask == True\n",
    "#idx.shape\n",
    "points = icoordens[idx]"
   ]
  },
  {
   "cell_type": "code",
   "execution_count": 68,
   "metadata": {},
   "outputs": [],
   "source": [
    "iens = np.broadcast_to(np.reshape(imask, (irlon.shape[0]*irlat.shape[0])), (dv_field.shape[0], irlon.shape[0]*irlat.shape[0])).copy().astype(float)\n"
   ]
  },
  {
   "cell_type": "code",
   "execution_count": 69,
   "metadata": {},
   "outputs": [
    {
     "data": {
      "text/plain": [
       "((35, 2015000), (35, 20150))"
      ]
     },
     "execution_count": 69,
     "metadata": {},
     "output_type": "execute_result"
    }
   ],
   "source": [
    "points = icoordens[idx]\n",
    "\n",
    "for i in range(dv_field.shape[0]):\n",
    "    iens[i, idx] = interpolate.griddata(coordens[idx_], ens[i, idx_], points, method='linear')\n",
    "\n",
    "iens.shape, ens.shape"
   ]
  },
  {
   "cell_type": "code",
   "execution_count": 74,
   "metadata": {},
   "outputs": [
    {
     "data": {
      "text/plain": [
       "(900500,)"
      ]
     },
     "execution_count": 74,
     "metadata": {},
     "output_type": "execute_result"
    }
   ],
   "source": [
    "nan_mask = np.apply_over_axes(\n",
    "                np.logical_or.reduce,\n",
    "                np.isnan(iens[:, idx]),\n",
    "                (0)\n",
    ")\n",
    "nan_mask[0, :].shape\n",
    "#iens = iens[:, ~nan_mask[0, :]]\n",
    "#iens.shape"
   ]
  },
  {
   "cell_type": "code",
   "execution_count": 78,
   "metadata": {},
   "outputs": [],
   "source": [
    "pure = iens[:, idx]\n",
    "ens = pure[:, ~nan_mask[0, :]]\n"
   ]
  },
  {
   "cell_type": "code",
   "execution_count": null,
   "metadata": {},
   "outputs": [],
   "source": []
  }
 ],
 "metadata": {
  "kernelspec": {
   "display_name": "Python 3",
   "language": "python",
   "name": "python3"
  },
  "language_info": {
   "codemirror_mode": {
    "name": "ipython",
    "version": 3
   },
   "file_extension": ".py",
   "mimetype": "text/x-python",
   "name": "python",
   "nbconvert_exporter": "python",
   "pygments_lexer": "ipython3",
   "version": "3.6.8"
  }
 },
 "nbformat": 4,
 "nbformat_minor": 4
}
