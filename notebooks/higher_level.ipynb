{
 "cells": [
  {
   "cell_type": "code",
   "execution_count": 35,
   "metadata": {},
   "outputs": [
    {
     "name": "stdout",
     "output_type": "stream",
     "text": [
      "The autoreload extension is already loaded. To reload it, use:\n",
      "  %reload_ext autoreload\n",
      "Created `%t` as an alias for `%timeit`.\n",
      "Created `%%t` as an alias for `%%timeit`.\n"
     ]
    },
    {
     "data": {
      "text/plain": [
       "(1257,)"
      ]
     },
     "metadata": {},
     "output_type": "display_data"
    }
   ],
   "source": [
    "import sys\n",
    "sys.path.append('../modules')\n",
    "\n",
    "from datacube import read_data\n",
    "from operators import *\n",
    "from mask import *\n",
    "from preprocessing import *\n",
    "from eof import *\n",
    "from interpolator import *\n",
    "from gridding import *\n",
    "from mapper import *\n",
    "\n",
    "from sklearn.linear_model import LinearRegression\n",
    "from sklearn.metrics import mean_squared_error, r2_score\n",
    "from scipy.stats import linregress\n",
    "\n",
    "import seaborn as sns\n",
    "import numpy as np\n",
    "import matplotlib.pyplot as plt\n",
    "import pandas as pd\n",
    "\n",
    "\n",
    "%load_ext autoreload\n",
    "%autoreload 2\n",
    "%page\n",
    "%alias_magic t timeit"
   ]
  },
  {
   "cell_type": "code",
   "execution_count": 2,
   "metadata": {},
   "outputs": [],
   "source": [
    "PATH = '/storage/data/projects/nrc/CanRCM4_large_ensemble/design_values/snw/snw_CanRCM4-LE_ens35_1951-2016_max_rl50_load.nc'#tas/hdd_CanRCM4-LE_ens35_1951-2016_ann_ta.nc'#jan1.0p/tas_CanRCM4-LE_ens35_1951-2016_1hr_jan1.0p.nc'\n",
    "mask_path = '/home/nannau/Desktop/climpyrical/data/mask.nc'\n",
    "dv = 'snw'\n",
    "\n",
    "interp_dict = get_interpolation(mask_path, PATH, dv)\n",
    "master_idx = interp_dict['idx']\n",
    "iens = interp_dict['iens'][:, master_idx]"
   ]
  },
  {
   "cell_type": "code",
   "execution_count": 3,
   "metadata": {},
   "outputs": [],
   "source": [
    "u, s, vT = np.linalg.svd(iens, full_matrices=False)"
   ]
  },
  {
   "cell_type": "code",
   "execution_count": 76,
   "metadata": {},
   "outputs": [
    {
     "data": {
      "text/html": [
       "<div>\n",
       "<style scoped>\n",
       "    .dataframe tbody tr th:only-of-type {\n",
       "        vertical-align: middle;\n",
       "    }\n",
       "\n",
       "    .dataframe tbody tr th {\n",
       "        vertical-align: top;\n",
       "    }\n",
       "\n",
       "    .dataframe thead th {\n",
       "        text-align: right;\n",
       "    }\n",
       "</style>\n",
       "<table border=\"1\" class=\"dataframe\">\n",
       "  <thead>\n",
       "    <tr style=\"text-align: right;\">\n",
       "      <th></th>\n",
       "      <th>snow_load_rl50</th>\n",
       "      <th>lat</th>\n",
       "      <th>lon</th>\n",
       "      <th>obs_coords</th>\n",
       "      <th>matched_idx</th>\n",
       "    </tr>\n",
       "    <tr>\n",
       "      <th>nearest_grid</th>\n",
       "      <th></th>\n",
       "      <th></th>\n",
       "      <th></th>\n",
       "      <th></th>\n",
       "      <th></th>\n",
       "    </tr>\n",
       "  </thead>\n",
       "  <tbody>\n",
       "    <tr>\n",
       "      <th>76922</th>\n",
       "      <td>0.954855</td>\n",
       "      <td>42.2756</td>\n",
       "      <td>-82.9556</td>\n",
       "      <td>(-4.286848910227873, 10.373390404111557)</td>\n",
       "      <td>76922</td>\n",
       "    </tr>\n",
       "    <tr>\n",
       "      <th>79138</th>\n",
       "      <td>1.246116</td>\n",
       "      <td>42.3333</td>\n",
       "      <td>-82.9333</td>\n",
       "      <td>(-4.227125340313413, 10.379271031382924)</td>\n",
       "      <td>79138</td>\n",
       "    </tr>\n",
       "    <tr>\n",
       "      <th>80695</th>\n",
       "      <td>1.279574</td>\n",
       "      <td>42.8833</td>\n",
       "      <td>-80.2333</td>\n",
       "      <td>(-3.2976268496041468, 12.223659162002475)</td>\n",
       "      <td>80695</td>\n",
       "    </tr>\n",
       "    <tr>\n",
       "      <th>83623</th>\n",
       "      <td>1.802606</td>\n",
       "      <td>43.0331</td>\n",
       "      <td>-81.1511</td>\n",
       "      <td>(-3.290371679059054, 11.534368202439223)</td>\n",
       "      <td>83623</td>\n",
       "    </tr>\n",
       "    <tr>\n",
       "      <th>91428</th>\n",
       "      <td>6.229182</td>\n",
       "      <td>43.1717</td>\n",
       "      <td>-79.9342</td>\n",
       "      <td>(-2.9689855230488806, 12.37546741076384)</td>\n",
       "      <td>91428</td>\n",
       "    </tr>\n",
       "  </tbody>\n",
       "</table>\n",
       "</div>"
      ],
      "text/plain": [
       "              snow_load_rl50      lat      lon  \\\n",
       "nearest_grid                                     \n",
       "76922               0.954855  42.2756 -82.9556   \n",
       "79138               1.246116  42.3333 -82.9333   \n",
       "80695               1.279574  42.8833 -80.2333   \n",
       "83623               1.802606  43.0331 -81.1511   \n",
       "91428               6.229182  43.1717 -79.9342   \n",
       "\n",
       "                                             obs_coords  matched_idx  \n",
       "nearest_grid                                                          \n",
       "76922          (-4.286848910227873, 10.373390404111557)        76922  \n",
       "79138          (-4.227125340313413, 10.379271031382924)        79138  \n",
       "80695         (-3.2976268496041468, 12.223659162002475)        80695  \n",
       "83623          (-3.290371679059054, 11.534368202439223)        83623  \n",
       "91428          (-2.9689855230488806, 12.37546741076384)        91428  "
      ]
     },
     "execution_count": 76,
     "metadata": {},
     "output_type": "execute_result"
    }
   ],
   "source": [
    "df = pd.read_csv('/storage/data/projects/nrc/station_data/snow_load/swe_rl50_stations_test.csv', index_col=None)\n",
    "ndf = match_coords(df, interp_dict, 'snow_load_rl50')\n",
    "obs_idx = ndf['matched_idx']#generate_pseudo_obs(iens, 0.0003)\n",
    "ndf.head()"
   ]
  },
  {
   "cell_type": "code",
   "execution_count": 77,
   "metadata": {},
   "outputs": [
    {
     "name": "stdout",
     "output_type": "stream",
     "text": [
      "Check that the observations and the EOFs contain the same number of grids: \n",
      "EOF shape:  (35, 525) \n",
      "Matched Obs shape:  (525,)\n"
     ]
    }
   ],
   "source": [
    "obs = ndf['snow_load_rl50'].values#iens[8, obs_idx]\n",
    "eofs = vT[:, obs_idx]\n",
    "\n",
    "print(\"Check that the observations and the EOFs contain the same number of grids:\",\n",
    "      '\\nEOF shape: ', eofs.shape, '\\n'\n",
    "      'Matched Obs shape: ', obs.shape)"
   ]
  },
  {
   "cell_type": "code",
   "execution_count": 78,
   "metadata": {},
   "outputs": [
    {
     "name": "stdout",
     "output_type": "stream",
     "text": [
      "Regressed model score: [0.30205146]\n"
     ]
    }
   ],
   "source": [
    "model = fit_eof(eofs.T, obs.flatten())\n",
    "predictions = predict_dv(model, eofs.T)"
   ]
  },
  {
   "cell_type": "code",
   "execution_count": 79,
   "metadata": {},
   "outputs": [
    {
     "name": "stdout",
     "output_type": "stream",
     "text": [
      "slope 0.3020514630923551\n"
     ]
    },
    {
     "data": {
      "image/png": "[encoded data removed]",
      "text/plain": [
       "<Figure size 432x432 with 3 Axes>"
      ]
     },
     "metadata": {
      "needs_background": "light"
     },
     "output_type": "display_data"
    }
   ],
   "source": [
    "ax = sns.jointplot(obs.T, predictions.T, kind='reg', color='green', marker='+',scatter_kws={\"s\": 0.01})\n",
    "sns.scatterplot(obs.T, \n",
    "                predictions.T, \n",
    "                palette=\"viridis\",\n",
    "                marker='+'\n",
    ")\n",
    "sns.lineplot(obs.T, \n",
    "          obs.T,\n",
    "          color='r')\n",
    "\n",
    "plt.xlabel('Observations')\n",
    "plt.ylabel('Reconstruction')\n",
    "plt.savefig('../plots/snow')\n",
    "\n",
    "slope, intercept, r_value, p_value, std_err = linregress(obs.T, predictions.T)\n",
    "\n",
    "print(\"slope\", slope)"
   ]
  },
  {
   "cell_type": "code",
   "execution_count": 82,
   "metadata": {},
   "outputs": [],
   "source": [
    "# weighting!\n",
    "\n",
    "X = df[['lat', 'lon']].values\n",
    "\n",
    "from sklearn.cluster import KMeans\n",
    "kmeans = KMeans(n_clusters=int(X.shape[0]/5.0), random_state=0).fit(X)"
   ]
  },
  {
   "cell_type": "code",
   "execution_count": 91,
   "metadata": {},
   "outputs": [],
   "source": [
    "df['labels'] = kmeans.labels_"
   ]
  },
  {
   "cell_type": "code",
   "execution_count": 104,
   "metadata": {},
   "outputs": [
    {
     "ename": "ValueError",
     "evalue": "Can only compare identically-labeled Series objects",
     "output_type": "error",
     "traceback": [
      "\u001b[0;31m---------------------------------------------------------------------------\u001b[0m",
      "\u001b[0;31mValueError\u001b[0m                                Traceback (most recent call last)",
      "\u001b[0;32m<ipython-input-104-6afc85ca902d>\u001b[0m in \u001b[0;36m<module>\u001b[0;34m\u001b[0m\n\u001b[0;32m----> 1\u001b[0;31m \u001b[0mdf\u001b[0m\u001b[0;34m.\u001b[0m\u001b[0mloc\u001b[0m\u001b[0;34m(\u001b[0m\u001b[0mdf\u001b[0m\u001b[0;34m[\u001b[0m\u001b[0;34m'labels'\u001b[0m\u001b[0;34m]\u001b[0m \u001b[0;34m==\u001b[0m \u001b[0mdf\u001b[0m\u001b[0;34m[\u001b[0m\u001b[0;34m'labels'\u001b[0m\u001b[0;34m]\u001b[0m\u001b[0;34m.\u001b[0m\u001b[0mvalue_counts\u001b[0m\u001b[0;34m(\u001b[0m\u001b[0;34m)\u001b[0m\u001b[0;34m)\u001b[0m\u001b[0;34m\u001b[0m\u001b[0;34m\u001b[0m\u001b[0m\n\u001b[0m",
      "\u001b[0;32m~/climpyrical-venv/lib/python3.6/site-packages/pandas/core/ops.py\u001b[0m in \u001b[0;36mwrapper\u001b[0;34m(self, other, axis)\u001b[0m\n\u001b[1;32m   1674\u001b[0m \u001b[0;34m\u001b[0m\u001b[0m\n\u001b[1;32m   1675\u001b[0m         \u001b[0;32melif\u001b[0m \u001b[0misinstance\u001b[0m\u001b[0;34m(\u001b[0m\u001b[0mother\u001b[0m\u001b[0;34m,\u001b[0m \u001b[0mABCSeries\u001b[0m\u001b[0;34m)\u001b[0m \u001b[0;32mand\u001b[0m \u001b[0;32mnot\u001b[0m \u001b[0mself\u001b[0m\u001b[0;34m.\u001b[0m\u001b[0m_indexed_same\u001b[0m\u001b[0;34m(\u001b[0m\u001b[0mother\u001b[0m\u001b[0;34m)\u001b[0m\u001b[0;34m:\u001b[0m\u001b[0;34m\u001b[0m\u001b[0;34m\u001b[0m\u001b[0m\n\u001b[0;32m-> 1676\u001b[0;31m             raise ValueError(\"Can only compare identically-labeled \"\n\u001b[0m\u001b[1;32m   1677\u001b[0m                              \"Series objects\")\n\u001b[1;32m   1678\u001b[0m \u001b[0;34m\u001b[0m\u001b[0m\n",
      "\u001b[0;31mValueError\u001b[0m: Can only compare identically-labeled Series objects"
     ]
    }
   ],
   "source": [
    "df.loc(df['labels'] == df['labels'].value_counts())"
   ]
  },
  {
   "cell_type": "code",
   "execution_count": 99,
   "metadata": {},
   "outputs": [
    {
     "data": {
      "text/plain": [
       "(526,)"
      ]
     },
     "execution_count": 99,
     "metadata": {},
     "output_type": "execute_result"
    }
   ],
   "source": [
    "kmeans.labels_.shape"
   ]
  },
  {
   "cell_type": "code",
   "execution_count": null,
   "metadata": {},
   "outputs": [],
   "source": []
  }
 ],
 "metadata": {
  "kernelspec": {
   "display_name": "Python 3",
   "language": "python",
   "name": "python3"
  },
  "language_info": {
   "codemirror_mode": {
    "name": "ipython",
    "version": 3
   },
   "file_extension": ".py",
   "mimetype": "text/x-python",
   "name": "python",
   "nbconvert_exporter": "python",
   "pygments_lexer": "ipython3",
   "version": "3.6.8"
  }
 },
 "nbformat": 4,
 "nbformat_minor": 4
}
