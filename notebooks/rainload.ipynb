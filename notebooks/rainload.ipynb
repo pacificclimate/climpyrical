{
 "cells": [
  {
   "cell_type": "code",
   "execution_count": 1,
   "metadata": {},
   "outputs": [],
   "source": [
    "import sys\n",
    "sys.path.append('../modules')\n",
    "\n",
    "from operators import *\n",
    "from preprocessing import *\n",
    "from eof import *\n",
    "from gridding import *\n",
    "from mapper import *\n",
    "from scipy.stats import linregress\n",
    "\n",
    "import numpy as np\n",
    "import matplotlib.pyplot as plt\n",
    "import cartopy.crs as ccrs\n",
    "import cartopy.feature as cfeature\n",
    "import cartopy.feature\n",
    "import seaborn as sns\n",
    "sns.set_palette(\"RdGy\")\n",
    "\n",
    "import pandas as pd\n",
    "\n",
    "%load_ext autoreload\n",
    "%autoreload 2"
   ]
  },
  {
   "cell_type": "markdown",
   "metadata": {},
   "source": [
    "## Snowload\n",
    "---\n",
    "Load data and interpolate the design value field"
   ]
  },
  {
   "cell_type": "code",
   "execution_count": 2,
   "metadata": {},
   "outputs": [
    {
     "data": {
      "text/plain": [
       "Text(0.5, 1.0, 'KDE Distribution of Rain-RL50 Values')"
      ]
     },
     "execution_count": 2,
     "metadata": {},
     "output_type": "execute_result"
    },
    {
     "data": {
      "image/png": "[encoded data removed]",
      "text/plain": [
       "<Figure size 720x432 with 1 Axes>"
      ]
     },
     "metadata": {
      "needs_background": "light"
     },
     "output_type": "display_data"
    }
   ],
   "source": [
    "PATH = '/storage/data/projects/nrc/CanRCM4_large_ensemble/design_values/snw/snw_rain_CanRCM4-LE_ens35_1951-2016_max_rl50_load.nc'\n",
    "mask_path = '/storage/home/nannau/mask.nc'\n",
    "dv = 'Rain-RL50'\n",
    "\n",
    "interp_dict = get_interpolation(mask_path, PATH, dv)\n",
    "master_idx = interp_dict['idx']\n",
    "# midx = interp_dict['idx']\n",
    "\n",
    "north_master_idx = interp_dict['irlat_ens'] > -7.\n",
    "\n",
    "midx = np.logical_and(north_master_idx, master_idx)\n",
    "\n",
    "iens = (interp_dict['iens'][:, midx]).T\n",
    "#oldiens = iens.copy()\n",
    "\n",
    "#from sklearn.preprocessing import StandardScaler\n",
    "#scaler = StandardScaler(with_mean=True, with_std=True)\n",
    "#iens = scaler.fit_transform(iens)\n",
    "\n",
    "plt.figure(figsize=(10, 6))\n",
    "# sns.distplot(oldiens[..., 0], kde = False, kde_kws = {'shade': True,'linewidth': 3}, label='non-anomaly')\n",
    "sns.distplot(iens[..., 0], kde = False, kde_kws = {'shade': True,'linewidth': 3}, label='anomaly')\n",
    "plt.title('KDE Distribution of {} Values'.format(dv))"
   ]
  },
  {
   "cell_type": "markdown",
   "metadata": {},
   "source": [
    "Plot distribution."
   ]
  },
  {
   "cell_type": "markdown",
   "metadata": {},
   "source": [
    "Perform singular value decomposition"
   ]
  },
  {
   "cell_type": "code",
   "execution_count": 3,
   "metadata": {},
   "outputs": [
    {
     "name": "stdout",
     "output_type": "stream",
     "text": [
      "(644782, 35)\n"
     ]
    },
    {
     "data": {
      "text/plain": [
       "(35, 644782)"
      ]
     },
     "execution_count": 3,
     "metadata": {},
     "output_type": "execute_result"
    }
   ],
   "source": [
    "print(iens.shape)\n",
    "u, s, vT = np.linalg.svd(iens.T, full_matrices=False)\n",
    "# uold, sold, vTold = np.linalg.svd(oldiens.T, full_matrices=False)\n",
    "\n",
    "del u, s\n",
    "# del uold\n",
    "vT.shape"
   ]
  },
  {
   "cell_type": "markdown",
   "metadata": {},
   "source": [
    "Load the quantile station data"
   ]
  },
  {
   "cell_type": "code",
   "execution_count": 4,
   "metadata": {},
   "outputs": [
    {
     "data": {
      "text/html": [
       "<div>\n",
       "<style scoped>\n",
       "    .dataframe tbody tr th:only-of-type {\n",
       "        vertical-align: middle;\n",
       "    }\n",
       "\n",
       "    .dataframe tbody tr th {\n",
       "        vertical-align: top;\n",
       "    }\n",
       "\n",
       "    .dataframe thead th {\n",
       "        text-align: right;\n",
       "    }\n",
       "</style>\n",
       "<table border=\"1\" class=\"dataframe\">\n",
       "  <thead>\n",
       "    <tr style=\"text-align: right;\">\n",
       "      <th></th>\n",
       "      <th>id</th>\n",
       "      <th>SD_station_name</th>\n",
       "      <th>lat</th>\n",
       "      <th>lon</th>\n",
       "      <th>prov</th>\n",
       "      <th>elevation</th>\n",
       "      <th>SL50 (kPa)</th>\n",
       "      <th>RL50 (kPa)</th>\n",
       "    </tr>\n",
       "  </thead>\n",
       "  <tbody>\n",
       "    <tr>\n",
       "      <th>0</th>\n",
       "      <td>15</td>\n",
       "      <td>CHEMAINUS</td>\n",
       "      <td>48.9350</td>\n",
       "      <td>-123.742</td>\n",
       "      <td>BC</td>\n",
       "      <td>75.0</td>\n",
       "      <td>2.0</td>\n",
       "      <td>0.763</td>\n",
       "    </tr>\n",
       "    <tr>\n",
       "      <th>1</th>\n",
       "      <td>78</td>\n",
       "      <td>SAANICHTON CDA</td>\n",
       "      <td>48.6217</td>\n",
       "      <td>-123.419</td>\n",
       "      <td>BC</td>\n",
       "      <td>61.0</td>\n",
       "      <td>0.7</td>\n",
       "      <td>0.571</td>\n",
       "    </tr>\n",
       "    <tr>\n",
       "      <th>2</th>\n",
       "      <td>91</td>\n",
       "      <td>SHAWNIGAN LAKE</td>\n",
       "      <td>48.6469</td>\n",
       "      <td>-123.626</td>\n",
       "      <td>BC</td>\n",
       "      <td>159.0</td>\n",
       "      <td>2.4</td>\n",
       "      <td>0.795</td>\n",
       "    </tr>\n",
       "    <tr>\n",
       "      <th>3</th>\n",
       "      <td>109</td>\n",
       "      <td>VICTORIA GONZALES HTS</td>\n",
       "      <td>48.4131</td>\n",
       "      <td>-123.325</td>\n",
       "      <td>BC</td>\n",
       "      <td>69.5</td>\n",
       "      <td>0.8</td>\n",
       "      <td>0.371</td>\n",
       "    </tr>\n",
       "    <tr>\n",
       "      <th>4</th>\n",
       "      <td>149</td>\n",
       "      <td>ALERT BAY</td>\n",
       "      <td>50.5833</td>\n",
       "      <td>-126.933</td>\n",
       "      <td>BC</td>\n",
       "      <td>59.4</td>\n",
       "      <td>1.4</td>\n",
       "      <td>0.565</td>\n",
       "    </tr>\n",
       "  </tbody>\n",
       "</table>\n",
       "</div>"
      ],
      "text/plain": [
       "    id        SD_station_name      lat      lon prov  elevation  SL50 (kPa)  \\\n",
       "0   15              CHEMAINUS  48.9350 -123.742   BC       75.0         2.0   \n",
       "1   78         SAANICHTON CDA  48.6217 -123.419   BC       61.0         0.7   \n",
       "2   91         SHAWNIGAN LAKE  48.6469 -123.626   BC      159.0         2.4   \n",
       "3  109  VICTORIA GONZALES HTS  48.4131 -123.325   BC       69.5         0.8   \n",
       "4  149              ALERT BAY  50.5833 -126.933   BC       59.4         1.4   \n",
       "\n",
       "   RL50 (kPa)  \n",
       "0       0.763  \n",
       "1       0.571  \n",
       "2       0.795  \n",
       "3       0.371  \n",
       "4       0.565  "
      ]
     },
     "execution_count": 4,
     "metadata": {},
     "output_type": "execute_result"
    }
   ],
   "source": [
    "df = pd.read_csv('/home/nannau/Downloads/Interim_snow_rain_load_LRstations_delivered_hist.csv', index_col=None)\n",
    "df.head()"
   ]
  },
  {
   "cell_type": "code",
   "execution_count": 5,
   "metadata": {},
   "outputs": [],
   "source": [
    "dv = 'RL50 (kPa)'"
   ]
  },
  {
   "cell_type": "code",
   "execution_count": 6,
   "metadata": {},
   "outputs": [
    {
     "name": "stdout",
     "output_type": "stream",
     "text": [
      "There are  (377, 5) real station observations to fit.\n"
     ]
    }
   ],
   "source": [
    "ndf = match_coords(df, interp_dict, dv, midx)\n",
    "ndf = ndf[ndf['RL50 (kPa)'] > 0.0]\n",
    "print(\"There are \", ndf.shape, \"real station observations to fit.\")"
   ]
  },
  {
   "cell_type": "markdown",
   "metadata": {},
   "source": [
    "#### Create the pseudo observations and regress"
   ]
  },
  {
   "cell_type": "code",
   "execution_count": 7,
   "metadata": {},
   "outputs": [
    {
     "name": "stdout",
     "output_type": "stream",
     "text": [
      "Taking (193,) pseudo observations\n"
     ]
    }
   ],
   "source": [
    "obs_idx = generate_pseudo_obs(iens.T, 0.0003)\n",
    "print(\"Taking\", obs_idx[0].shape, \"pseudo observations\")"
   ]
  },
  {
   "cell_type": "code",
   "execution_count": 8,
   "metadata": {},
   "outputs": [
    {
     "name": "stdout",
     "output_type": "stream",
     "text": [
      "(35, 644782)\n",
      "Check that the pseudo observations and the EOFs contain the same number of grids: \n",
      "EOF shape:  (35, 193) \n",
      "Matched Obs shape:  (193,)\n"
     ]
    }
   ],
   "source": [
    "print(vT.shape)\n",
    "# vT = vT.T\n",
    "obs = iens.T[obs_idx]\n",
    "eofs = vT[:, obs_idx[1]]\n",
    "# eofsold = vTold[:, obs_idx[1]]\n",
    "\n",
    "print(\"Check that the pseudo observations and the EOFs contain the same number of grids:\",\n",
    "      '\\nEOF shape: ', eofs.shape, '\\n'\n",
    "      'Matched Obs shape: ', obs.shape)"
   ]
  },
  {
   "cell_type": "markdown",
   "metadata": {},
   "source": [
    "Fit the EOFs tot he pseudo observations and predict their values"
   ]
  },
  {
   "cell_type": "code",
   "execution_count": 9,
   "metadata": {},
   "outputs": [],
   "source": [
    "model = fit_eof(eofs.T, obs.flatten())\n",
    "predictions = predict_dv(model, eofs.T)"
   ]
  },
  {
   "cell_type": "code",
   "execution_count": 10,
   "metadata": {},
   "outputs": [
    {
     "name": "stdout",
     "output_type": "stream",
     "text": [
      "slope 0.9773631394812501 r2_val 0.988616780902109\n"
     ]
    },
    {
     "data": {
      "image/png": "[encoded data removed]",
      "text/plain": [
       "<Figure size 432x432 with 3 Axes>"
      ]
     },
     "metadata": {
      "needs_background": "light"
     },
     "output_type": "display_data"
    }
   ],
   "source": [
    "sns.jointplot(obs.T, predictions.T, kind='reg', color='blue',  marker='+',scatter_kws={\"s\": 0.01})\n",
    "sns.scatterplot(obs.T, predictions.T, marker='+')\n",
    "sns.lineplot(obs.T, obs.T, color='r', dashes=True)\n",
    "plt.xlabel('Observations')\n",
    "plt.ylabel('Reconstruction')\n",
    "\n",
    "slope, intercept, r_value, p_value, std_err = linregress(obs.T, predictions.T)\n",
    "print(\"slope\", slope, \"r2_val\", r_value)"
   ]
  },
  {
   "cell_type": "markdown",
   "metadata": {},
   "source": [
    "#### Use the real observations and regress"
   ]
  },
  {
   "cell_type": "code",
   "execution_count": 11,
   "metadata": {},
   "outputs": [
    {
     "data": {
      "text/plain": [
       "((377, 35), (377,))"
      ]
     },
     "execution_count": 11,
     "metadata": {},
     "output_type": "execute_result"
    }
   ],
   "source": [
    "robs_idx = ndf['matched_idx']\n",
    "robs = ((ndf[dv].values))# - ndf[dv].mean(axis=0))#/ndf[dv].std(axis=0)\n",
    "vT.shape, robs_idx.shape\n",
    "reofs = vT[:, robs_idx].T\n",
    "reofs.shape, robs.shape, #obs.shape"
   ]
  },
  {
   "cell_type": "markdown",
   "metadata": {},
   "source": [
    "Compare the distributions of the station observations and of the models"
   ]
  },
  {
   "cell_type": "markdown",
   "metadata": {},
   "source": [
    "Fit the model and predict it"
   ]
  },
  {
   "cell_type": "code",
   "execution_count": 12,
   "metadata": {},
   "outputs": [
    {
     "data": {
      "text/plain": [
       "(377,)"
      ]
     },
     "execution_count": 12,
     "metadata": {},
     "output_type": "execute_result"
    }
   ],
   "source": [
    "rmodel = fit_eof(reofs, robs.flatten())\n",
    "linrpredictions = predict_dv(rmodel, reofs).flatten()\n",
    "linrpredictions.shape"
   ]
  },
  {
   "cell_type": "code",
   "execution_count": 13,
   "metadata": {},
   "outputs": [
    {
     "ename": "NameError",
     "evalue": "name 'ax' is not defined",
     "output_type": "error",
     "traceback": [
      "\u001b[0;31m---------------------------------------------------------------------------\u001b[0m",
      "\u001b[0;31mNameError\u001b[0m                                 Traceback (most recent call last)",
      "\u001b[0;32m<ipython-input-13-161f32acc165>\u001b[0m in \u001b[0;36m<module>\u001b[0;34m\u001b[0m\n\u001b[1;32m      1\u001b[0m \u001b[0;31m#fig, ax = plt.subplots(figsize=(10, 7.5))\u001b[0m\u001b[0;34m\u001b[0m\u001b[0;34m\u001b[0m\u001b[0;34m\u001b[0m\u001b[0m\n\u001b[0;32m----> 2\u001b[0;31m \u001b[0msns\u001b[0m\u001b[0;34m.\u001b[0m\u001b[0mjointplot\u001b[0m\u001b[0;34m(\u001b[0m\u001b[0mrobs\u001b[0m\u001b[0;34m,\u001b[0m \u001b[0mlinrpredictions\u001b[0m\u001b[0;34m,\u001b[0m \u001b[0max\u001b[0m\u001b[0;34m=\u001b[0m\u001b[0max\u001b[0m\u001b[0;34m,\u001b[0m  \u001b[0mkind\u001b[0m\u001b[0;34m=\u001b[0m\u001b[0;34m'reg'\u001b[0m\u001b[0;34m,\u001b[0m \u001b[0mcolor\u001b[0m\u001b[0;34m=\u001b[0m\u001b[0;34m'blue'\u001b[0m\u001b[0;34m,\u001b[0m \u001b[0mmarker\u001b[0m\u001b[0;34m=\u001b[0m\u001b[0;34m'+'\u001b[0m\u001b[0;34m,\u001b[0m\u001b[0mscatter_kws\u001b[0m\u001b[0;34m=\u001b[0m\u001b[0;34m{\u001b[0m\u001b[0;34m\"s\"\u001b[0m\u001b[0;34m:\u001b[0m \u001b[0;36m0.01\u001b[0m\u001b[0;34m}\u001b[0m\u001b[0;34m)\u001b[0m\u001b[0;34m\u001b[0m\u001b[0;34m\u001b[0m\u001b[0m\n\u001b[0m\u001b[1;32m      3\u001b[0m sns.scatterplot(robs, linrpredictions,\n\u001b[1;32m      4\u001b[0m                 \u001b[0mmarker\u001b[0m\u001b[0;34m=\u001b[0m\u001b[0;34m'+'\u001b[0m\u001b[0;34m,\u001b[0m\u001b[0;34m\u001b[0m\u001b[0;34m\u001b[0m\u001b[0m\n\u001b[1;32m      5\u001b[0m                 \u001b[0mhue\u001b[0m\u001b[0;34m=\u001b[0m\u001b[0mndf\u001b[0m\u001b[0;34m[\u001b[0m\u001b[0;34m'lon'\u001b[0m\u001b[0;34m]\u001b[0m\u001b[0;34m*\u001b[0m\u001b[0mndf\u001b[0m\u001b[0;34m[\u001b[0m\u001b[0;34m'lat'\u001b[0m\u001b[0;34m]\u001b[0m\u001b[0;34m,\u001b[0m\u001b[0;34m\u001b[0m\u001b[0;34m\u001b[0m\u001b[0m\n",
      "\u001b[0;31mNameError\u001b[0m: name 'ax' is not defined"
     ]
    }
   ],
   "source": [
    "#fig, ax = plt.subplots(figsize=(10, 7.5))\n",
    "sns.jointplot(robs, linrpredictions, ax=ax,  kind='reg', color='blue', marker='+',scatter_kws={\"s\": 0.01})\n",
    "sns.scatterplot(robs, linrpredictions,\n",
    "                marker='+',\n",
    "                hue=ndf['lon']*ndf['lat'],\n",
    "                )\n",
    "\n",
    "sns.lineplot(\n",
    "            robs.T, \n",
    "            robs.T,\n",
    "            color='r',\n",
    "            dashes=True\n",
    ")\n",
    "\n",
    "\n",
    "ax.set_xlabel('Observations')\n",
    "ax.set_ylabel('Reconstruction')\n",
    "\n",
    "slope, intercept, r_value, p_value, std_err = linregress(robs, linrpredictions)\n",
    "\n",
    "sns.lineplot(robs.T,\n",
    "            robs.T*slope + intercept,\n",
    "            color='black',\n",
    "            dashes=True\n",
    ")\n",
    "\n",
    "print(\"slope\", slope, \"r2_val\", r_value)\n",
    "\n",
    "print(\"Std deviation ratio of vectors [models/]:\", np.mean(np.std(iens, axis=1))/np.std(robs))\n",
    "\n",
    "del robs, linrpredictions, robs_idx"
   ]
  },
  {
   "cell_type": "code",
   "execution_count": 44,
   "metadata": {},
   "outputs": [],
   "source": [
    "dv_recon = interp_dict['iens'][0, ...].copy()\n",
    "dv_recon[midx] = rmodel.predict(vT.T)\n",
    "dv_recon[~midx] = np.nan "
   ]
  },
  {
   "cell_type": "code",
   "execution_count": 45,
   "metadata": {},
   "outputs": [],
   "source": [
    "dv_recon_sq = dv_recon.reshape(interp_dict['irlat'].shape[0], interp_dict['irlon'].shape[0])"
   ]
  },
  {
   "cell_type": "code",
   "execution_count": 49,
   "metadata": {},
   "outputs": [
    {
     "data": {
      "image/png": "[encoded data removed]",
      "text/plain": [
       "<Figure size 1080x1080 with 2 Axes>"
      ]
     },
     "metadata": {
      "needs_background": "light"
     },
     "output_type": "display_data"
    }
   ],
   "source": [
    "plt.figure(figsize=(15, 15))\n",
    "#vmin, vmax = 0, 8\n",
    "plt.imshow(dv_recon_sq, cmap=plt.cm.get_cmap('RdBu', 10), origin='lower')\n",
    "plt.tight_layout(pad=6.5)\n",
    "plt.colorbar(orientation='horizontal')\n",
    "del dv_recon, dv_recon_sq"
   ]
  },
  {
   "cell_type": "code",
   "execution_count": 14,
   "metadata": {},
   "outputs": [
    {
     "ename": "MemoryError",
     "evalue": "",
     "output_type": "error",
     "traceback": [
      "\u001b[0;31m---------------------------------------------------------------------------\u001b[0m",
      "\u001b[0;31mMemoryError\u001b[0m                               Traceback (most recent call last)",
      "\u001b[0;32m<ipython-input-14-595e12337f0f>\u001b[0m in \u001b[0;36m<module>\u001b[0;34m\u001b[0m\n\u001b[1;32m      1\u001b[0m \u001b[0;31m# del iens_copy, X, predictions, y, X_v\u001b[0m\u001b[0;34m\u001b[0m\u001b[0;34m\u001b[0m\u001b[0;34m\u001b[0m\u001b[0m\n\u001b[0;32m----> 2\u001b[0;31m \u001b[0miens_copy\u001b[0m \u001b[0;34m=\u001b[0m \u001b[0mnp\u001b[0m\u001b[0;34m.\u001b[0m\u001b[0mfull_like\u001b[0m\u001b[0;34m(\u001b[0m\u001b[0mnp\u001b[0m\u001b[0;34m.\u001b[0m\u001b[0mzeros\u001b[0m\u001b[0;34m(\u001b[0m\u001b[0minterp_dict\u001b[0m\u001b[0;34m[\u001b[0m\u001b[0;34m'iens'\u001b[0m\u001b[0;34m]\u001b[0m\u001b[0;34m.\u001b[0m\u001b[0mshape\u001b[0m\u001b[0;34m)\u001b[0m\u001b[0;34m,\u001b[0m \u001b[0mnp\u001b[0m\u001b[0;34m.\u001b[0m\u001b[0mnan\u001b[0m\u001b[0;34m)\u001b[0m\u001b[0;34m\u001b[0m\u001b[0;34m\u001b[0m\u001b[0m\n\u001b[0m\u001b[1;32m      3\u001b[0m \u001b[0mX_v\u001b[0m \u001b[0;34m=\u001b[0m \u001b[0minterp_dict\u001b[0m\u001b[0;34m[\u001b[0m\u001b[0;34m'iens'\u001b[0m\u001b[0;34m]\u001b[0m\u001b[0;34m\u001b[0m\u001b[0;34m\u001b[0m\u001b[0m\n\u001b[1;32m      4\u001b[0m \u001b[0mX_v\u001b[0m\u001b[0;34m[\u001b[0m\u001b[0;34m:\u001b[0m\u001b[0;34m,\u001b[0m \u001b[0;34m~\u001b[0m\u001b[0mmidx\u001b[0m\u001b[0;34m]\u001b[0m \u001b[0;34m=\u001b[0m \u001b[0mnp\u001b[0m\u001b[0;34m.\u001b[0m\u001b[0mnan\u001b[0m\u001b[0;34m\u001b[0m\u001b[0;34m\u001b[0m\u001b[0m\n\u001b[1;32m      5\u001b[0m \u001b[0;34m\u001b[0m\u001b[0m\n",
      "\u001b[0;31mMemoryError\u001b[0m: "
     ]
    }
   ],
   "source": [
    "# del iens_copy, X, predictions, y, X_v\n",
    "iens_copy = np.full_like(np.zeros(interp_dict['iens'].shape), np.nan)\n",
    "X_v = interp_dict['iens']\n",
    "X_v[:, ~midx] = np.nan \n",
    "    \n",
    "N=5\n",
    "fig, ax = plt.subplots(N+1, 2, figsize=(30,45))\n",
    "for i, sd in enumerate(np.linspace(0, np.std(robs), N)):\n",
    "    y = obs.flatten() + np.random.normal(0., sd, obs.flatten().shape[0])\n",
    "    model = fit_eof(eofs.T, y)\n",
    "\n",
    "    predictions = predict_dv(model, vT.T)\n",
    "    iens_copy[:, midx] = predictions\n",
    "    \n",
    "    X = np.reshape(iens_copy, (iens_copy.shape[0], interp_dict['irlat'].shape[0], interp_dict['irlon'].shape[0]))\n",
    "    X_v = np.reshape(X_v, (iens_copy.shape[0], interp_dict['irlat'].shape[0], interp_dict['irlon'].shape[0]))\n",
    "    vmin, vmax = 0, 1\n",
    "    xc, yc = interp_dict['irlon'], interp_dict['irlat']\n",
    "    \n",
    "    ax[i, 0].set_title('EOF Reconstructed Field with {}% of Station Noise'.format(100*sd/np.std(robs)))\n",
    "    ax[i, 0].set_xlabel('rlon')\n",
    "    ax[i, 0].set_ylabel('rlat')\n",
    "    img = ax[i, 0].imshow(X[0, ...], origin='lower', cmap=plt.cm.get_cmap('RdBu', 12), label='EOF', vmin=vmin, vmax=vmax, extent=[xc.min(), xc.max(), yc.min(), yc.max()])\n",
    "    plt.colorbar(img, orientation='horizontal', ax=ax[i, 0], fraction=0.046, pad=0.08)\n",
    "\n",
    "#     sns.distplot(robs, ax=ax[i, 1], color='b', label='Real')\n",
    "#     sns.distplot(y, ax=ax[i, 1], color='r', label='Pred')\n",
    "#     ax[i, 1].set_xlabel('Snowload')\n",
    "#     ax[i, 1].legend()\n",
    "\n",
    "    ax[i, 1].set_title('Ensemble Mean')\n",
    "    ax[i, 1].set_xlabel('rlon')\n",
    "    ax[i, 1].set_ylabel('rlat')\n",
    "    img = ax[i, 1].imshow(X_v.mean(axis=0), origin='lower', cmap=plt.cm.get_cmap('RdBu', 12), label='EOF', vmin=vmin, vmax=vmax, extent=[xc.min(), xc.max(), yc.min(), yc.max()])\n",
    "    plt.colorbar(img, orientation='horizontal', ax=ax[i, 1], fraction=0.046, pad=0.08)\n",
    "    \n",
    "    \n",
    "ax[5, 0].set_title('Real Obs Reconstruction')\n",
    "ax[5, 0].set_xlabel('rlon')\n",
    "ax[5, 0].set_ylabel('rlat')    \n",
    "img = ax[5, 0].imshow(dv_recon_sq, cmap=plt.cm.get_cmap('RdBu', 12), vmin=vmin, vmax=vmax, origin='lower', extent=[xc.min(), xc.max(), yc.min(), yc.max()])\n",
    "plt.colorbar(img, orientation='horizontal', ax=ax[5, 0], fraction=0.046, pad=0.08)\n",
    "\n",
    "ax[5, 1].set_title('Ensemble Mean')\n",
    "ax[5, 1].set_xlabel('rlon')\n",
    "ax[5, 1].set_ylabel('rlat')\n",
    "img = ax[5, 1].imshow(X_v.mean(axis=0), origin='lower', cmap=plt.cm.get_cmap('RdBu', 12), label='EOF', vmin=vmin, vmax=vmax, extent=[xc.min(), xc.max(), yc.min(), yc.max()])\n",
    "plt.colorbar(img, orientation='horizontal', ax=ax[5, 1], fraction=0.046, pad=0.008)\n",
    "# ax[6, 1].set_title('Ensemble Mean')\n",
    "# ax[6, 1].set_xlabel('rlon')\n",
    "# ax[6, 1].set_ylabel('rlat')\n",
    "# img = ax[6, 1].imshow(X_v.mean(axis=0), origin='lower', cmap=plt.cm.get_cmap('RdBu', 12), label='EOF', vmin=vmin, vmax=vmax, extent=[xc.min(), xc.max(), yc.min(), yc.max()])\n",
    "# plt.colorbar(img, orientation='horizontal', ax=ax[6, 1], fraction=0.046, pad=0.08)\n",
    "\n",
    "plt.tight_layout(pad=0.8, h_pad=1.9, w_pad=0.1)\n",
    "plt.savefig('recon_mean_comparison_spatial.pdf')\n",
    "del iens_copy, X, predictions, y, X_v"
   ]
  },
  {
   "cell_type": "code",
   "execution_count": null,
   "metadata": {},
   "outputs": [],
   "source": []
  },
  {
   "cell_type": "code",
   "execution_count": null,
   "metadata": {},
   "outputs": [],
   "source": []
  }
 ],
 "metadata": {
  "kernelspec": {
   "display_name": "Python 3",
   "language": "python",
   "name": "python3"
  },
  "language_info": {
   "codemirror_mode": {
    "name": "ipython",
    "version": 3
   },
   "file_extension": ".py",
   "mimetype": "text/x-python",
   "name": "python",
   "nbconvert_exporter": "python",
   "pygments_lexer": "ipython3",
   "version": "3.6.8"
  }
 },
 "nbformat": 4,
 "nbformat_minor": 4
}
