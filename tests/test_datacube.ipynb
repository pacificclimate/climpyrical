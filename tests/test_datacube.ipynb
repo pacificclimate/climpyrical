{
 "cells": [
  {
   "cell_type": "code",
   "execution_count": 2,
   "metadata": {},
   "outputs": [],
   "source": [
    "import pytest\n",
    "import sys\n",
    "sys.path.append('../modules/')\n",
    "from datacube import *\n",
    "from test_datacube import *\n",
    "\n",
    "%load_ext autoreload\n",
    "%autoreload 2"
   ]
  },
  {
   "cell_type": "code",
   "execution_count": 3,
   "metadata": {},
   "outputs": [
    {
     "data": {
      "text/plain": [
       "{'heating_degree_days_per_time_period',\n",
       " 'lat',\n",
       " 'level',\n",
       " 'lon',\n",
       " 'rlat',\n",
       " 'rlon',\n",
       " 'rotated_pole'}"
      ]
     },
     "execution_count": 3,
     "metadata": {},
     "output_type": "execute_result"
    }
   ],
   "source": [
    "import xarray as xr\n",
    "set(xr.open_dataset('data/good/hdd.nc').variables)#.union(set(xr.open_dataset('data/good/hdd.nc').dims))"
   ]
  },
  {
   "cell_type": "code",
   "execution_count": 7,
   "metadata": {},
   "outputs": [
    {
     "data": {
      "text/plain": [
       "(35, 130, 155)"
      ]
     },
     "execution_count": 7,
     "metadata": {},
     "output_type": "execute_result"
    }
   ],
   "source": [
    "ds = read_data('data/good/hdd.nc', 'heating_degree_days_per_time_period')\n",
    "ds['heating_degree_days_per_time_period'].shape"
   ]
  },
  {
   "cell_type": "code",
   "execution_count": 16,
   "metadata": {},
   "outputs": [],
   "source": [
    "# read_data('data/good/hdd/*.nc')['dv'].shape\n",
    "#import xarray as xr\n",
    "#ds = xr.load_dataset('data/good/pr/pr24hr_50yrs_MLE_H09link_48grids_NAM-44_CCCma-CanESM2_historical-r1_r1i1p1_CCCma-CanRCM4_r2_1951-2016.nc')\n",
    "\n",
    "#if any(t) not in s:\n",
    "#    print(s-t)\n",
    "#s, t"
   ]
  },
  {
   "cell_type": "code",
   "execution_count": 45,
   "metadata": {},
   "outputs": [
    {
     "data": {
      "text/plain": [
       "(66, 130, 155)"
      ]
     },
     "execution_count": 45,
     "metadata": {},
     "output_type": "execute_result"
    }
   ],
   "source": [
    "ds = xr.load_dataset('data/good/snw.nc')\n",
    "ds['snw'].shape"
   ]
  },
  {
   "cell_type": "code",
   "execution_count": 102,
   "metadata": {},
   "outputs": [
    {
     "data": {
      "text/plain": [
       "({'lat',\n",
       "  'lon',\n",
       "  'rlat',\n",
       "  'rlon',\n",
       "  'rotated_pole',\n",
       "  'sfcWind',\n",
       "  'time',\n",
       "  'time_bnds'},\n",
       " {'rotated_pole', 'sfcWind', 'time_bnds'},\n",
       " {'bnds', 'rlat', 'rlon', 'time'})"
      ]
     },
     "execution_count": 102,
     "metadata": {},
     "output_type": "execute_result"
    }
   ],
   "source": [
    "set(ds.variables), set(ds.keys()), set(ds.dims)"
   ]
  },
  {
   "cell_type": "code",
   "execution_count": 31,
   "metadata": {},
   "outputs": [],
   "source": [
    "A = {'rlat', 'rlon', 'lat', 'lon'}\n",
    "B = 'tas'\n",
    "\n",
    "A.add(B)"
   ]
  },
  {
   "cell_type": "code",
   "execution_count": 32,
   "metadata": {},
   "outputs": [
    {
     "data": {
      "text/plain": [
       "{'lat', 'lon', 'rlat', 'rlon', 'tas'}"
      ]
     },
     "execution_count": 32,
     "metadata": {},
     "output_type": "execute_result"
    }
   ],
   "source": [
    "A"
   ]
  },
  {
   "cell_type": "code",
   "execution_count": null,
   "metadata": {},
   "outputs": [],
   "source": []
  }
 ],
 "metadata": {
  "kernelspec": {
   "display_name": "Python 3",
   "language": "python",
   "name": "python3"
  },
  "language_info": {
   "codemirror_mode": {
    "name": "ipython",
    "version": 3
   },
   "file_extension": ".py",
   "mimetype": "text/x-python",
   "name": "python",
   "nbconvert_exporter": "python",
   "pygments_lexer": "ipython3",
   "version": "3.6.8"
  }
 },
 "nbformat": 4,
 "nbformat_minor": 4
}
