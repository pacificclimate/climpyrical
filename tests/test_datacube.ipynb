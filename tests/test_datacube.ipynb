{
 "cells": [
  {
   "cell_type": "code",
   "execution_count": 18,
   "metadata": {},
   "outputs": [
    {
     "name": "stdout",
     "output_type": "stream",
     "text": [
      "The autoreload extension is already loaded. To reload it, use:\n",
      "  %reload_ext autoreload\n"
     ]
    }
   ],
   "source": [
    "import pytest\n",
    "import sys\n",
    "sys.path.append('../scripts/')\n",
    "from datacube import *\n",
    "from test_datacube import *\n",
    "\n",
    "%load_ext autoreload\n",
    "%autoreload 2"
   ]
  },
  {
   "cell_type": "code",
   "execution_count": 20,
   "metadata": {},
   "outputs": [
    {
     "name": "stderr",
     "output_type": "stream",
     "text": [
      "../scripts/datacube.py:31: UserWarning: Path has a low ensemble size with < 20 members\n",
      "  warnings.warn(\"Path has a low ensemble size with < 20 members\")\n",
      "../scripts/datacube.py:31: UserWarning: Path has a low ensemble size with < 20 members\n",
      "  warnings.warn(\"Path has a low ensemble size with < 20 members\")\n"
     ]
    }
   ],
   "source": [
    "ds = read_data('data/good/hdd/*.nc')\n",
    "test_check_path('data/good/hdd/*.nc', True)"
   ]
  },
  {
   "cell_type": "code",
   "execution_count": 87,
   "metadata": {},
   "outputs": [
    {
     "name": "stderr",
     "output_type": "stream",
     "text": [
      "../scripts/datacube.py:26: UserWarning: Path has a low ensemble size with < 20 members\n",
      "  def check_time(ds):\n"
     ]
    },
    {
     "data": {
      "text/plain": [
       "(11, 130, 155)"
      ]
     },
     "execution_count": 87,
     "metadata": {},
     "output_type": "execute_result"
    }
   ],
   "source": [
    "read_data('data/good/hdd/*.nc')['dv'].shape\n",
    "#import xarray as xr\n",
    "#ds = xr.load_dataset('data/good/pr/pr24hr_50yrs_MLE_H09link_48grids_NAM-44_CCCma-CanESM2_historical-r1_r1i1p1_CCCma-CanRCM4_r2_1951-2016.nc')\n",
    "\n",
    "#if any(t) not in s:\n",
    "#    print(s-t)\n",
    "#s, t"
   ]
  },
  {
   "cell_type": "code",
   "execution_count": 101,
   "metadata": {},
   "outputs": [],
   "source": [
    "ds = xr.load_dataset('data/good/wind/sfcWind_CanRCM4-LE_ens35_1986-2016_95p_sd_ta.nc')"
   ]
  },
  {
   "cell_type": "code",
   "execution_count": 102,
   "metadata": {},
   "outputs": [
    {
     "data": {
      "text/plain": [
       "({'lat',\n",
       "  'lon',\n",
       "  'rlat',\n",
       "  'rlon',\n",
       "  'rotated_pole',\n",
       "  'sfcWind',\n",
       "  'time',\n",
       "  'time_bnds'},\n",
       " {'rotated_pole', 'sfcWind', 'time_bnds'},\n",
       " {'bnds', 'rlat', 'rlon', 'time'})"
      ]
     },
     "execution_count": 102,
     "metadata": {},
     "output_type": "execute_result"
    }
   ],
   "source": [
    "set(ds.variables), set(ds.keys()), set(ds.dims)"
   ]
  },
  {
   "cell_type": "code",
   "execution_count": null,
   "metadata": {},
   "outputs": [],
   "source": []
  }
 ],
 "metadata": {
  "kernelspec": {
   "display_name": "Python 3",
   "language": "python",
   "name": "python3"
  },
  "language_info": {
   "codemirror_mode": {
    "name": "ipython",
    "version": 3
   },
   "file_extension": ".py",
   "mimetype": "text/x-python",
   "name": "python",
   "nbconvert_exporter": "python",
   "pygments_lexer": "ipython3",
   "version": "3.6.8"
  }
 },
 "nbformat": 4,
 "nbformat_minor": 4
}
